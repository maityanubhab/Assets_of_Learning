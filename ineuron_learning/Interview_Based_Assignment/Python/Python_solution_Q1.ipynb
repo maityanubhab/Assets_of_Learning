{
  "nbformat": 4,
  "nbformat_minor": 0,
  "metadata": {
    "colab": {
      "provenance": []
    },
    "kernelspec": {
      "name": "python3",
      "display_name": "Python 3"
    },
    "language_info": {
      "name": "python"
    }
  },
  "cells": [
    {
      "cell_type": "markdown",
      "source": [
        "**Question 1: -**\n",
        "<br>Write a program that takes a string as input, and counts the frequency of each word in the string, there might be repeated characters in the string. Your task is to find the highest frequency and returns the length of the highest-frequency word.\n",
        "\n",
        "**Note -**<br> You have to write at least 2 additional test cases in which your program will run successfully and provide an explanation for the same.\n",
        "<br>Example input - string = “write write write all the number from from from 1 to 100”\n",
        "<br>Example output - 5\n",
        "<br>Explanation - From the given string we can note that the most frequent words are “write” and “from” and the maximum value of both the values is “write” and its corresponding length is 5"
      ],
      "metadata": {
        "id": "3PVRU326TWbf"
      }
    },
    {
      "cell_type": "markdown",
      "source": [
        "**Ans**"
      ],
      "metadata": {
        "id": "49T-0EcgUTEN"
      }
    },
    {
      "cell_type": "code",
      "execution_count": 1,
      "metadata": {
        "id": "VEq-P3YLTVYW"
      },
      "outputs": [],
      "source": [
        "def find_highest_frequency_word_length(string):\n",
        "    words = string.split()\n",
        "\n",
        "    word_freq = {}\n",
        "\n",
        "    for word in words:\n",
        "        word_freq[word] = word_freq.get(word, 0) + 1\n",
        "\n",
        "    max_freq = 0\n",
        "    max_length = 0\n",
        "    for word, freq in word_freq.items():\n",
        "        if freq > max_freq or (freq == max_freq and len(word) > max_length):\n",
        "            max_freq = freq\n",
        "            max_length = len(word)\n",
        "\n",
        "    return max_length"
      ]
    },
    {
      "cell_type": "code",
      "source": [
        "#Example test case\n",
        "string = \"write write write all the number from from from 1 to 100\"\n",
        "result = find_highest_frequency_word_length(string)\n",
        "print(result)"
      ],
      "metadata": {
        "colab": {
          "base_uri": "https://localhost:8080/"
        },
        "id": "ZSHpvzEfUcvh",
        "outputId": "f838911d-ee60-468b-9f6a-4f1c4a52ae85"
      },
      "execution_count": 2,
      "outputs": [
        {
          "output_type": "stream",
          "name": "stdout",
          "text": [
            "5\n"
          ]
        }
      ]
    },
    {
      "cell_type": "code",
      "source": [
        "# Additional Test Cases:\n",
        "# Test case with a single word repeated multiple times:\n",
        "string = \"hello hello hello hello hello\"\n",
        "result = find_highest_frequency_word_length(string)\n",
        "print(result)"
      ],
      "metadata": {
        "colab": {
          "base_uri": "https://localhost:8080/"
        },
        "id": "ynPG1n8tUil_",
        "outputId": "d08a50d4-bd69-46aa-e102-d29262fe2e44"
      },
      "execution_count": 3,
      "outputs": [
        {
          "output_type": "stream",
          "name": "stdout",
          "text": [
            "5\n"
          ]
        }
      ]
    },
    {
      "cell_type": "code",
      "source": [
        "# Test case with different words having the same frequency:\n",
        "string = \"apple orange banana apple orange banana apple orange banana\"\n",
        "result = find_highest_frequency_word_length(string)\n",
        "print(result)"
      ],
      "metadata": {
        "colab": {
          "base_uri": "https://localhost:8080/"
        },
        "id": "SD_tXwthUr7g",
        "outputId": "c620b8fa-9fb7-4b67-a5bd-93b9a8421ad2"
      },
      "execution_count": 4,
      "outputs": [
        {
          "output_type": "stream",
          "name": "stdout",
          "text": [
            "6\n"
          ]
        }
      ]
    }
  ]
}