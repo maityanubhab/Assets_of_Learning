{
  "nbformat": 4,
  "nbformat_minor": 0,
  "metadata": {
    "colab": {
      "provenance": []
    },
    "kernelspec": {
      "name": "python3",
      "display_name": "Python 3"
    },
    "language_info": {
      "name": "python"
    }
  },
  "cells": [
    {
      "cell_type": "markdown",
      "source": [
        "**Question 8 -**\n",
        "<br>Using the data from **Question 5**, write code the analyze the data and answer the following questions **Note -**\n",
        "1. Draw plots to demonstrate the analysis for the following questions and better visualizations\n",
        "2. Write code comments wherever required for code understanding\n",
        "\n",
        "**Insights to be drawn -**\n",
        "<br>● Get all the overall ratings for each season and using plots compare the ratings for all the seasons, like season 1 ratings, season 2, and so on.\n",
        "<br>● Get all the episode names, whose average rating is more than 8 for every season\n",
        "<br>● Get all the episode names that aired before May 2019\n",
        "<br>● Get the episode name from each season with the highest and lowest rating\n",
        "<br>● Get the summary for the most popular ( ratings ) episode in every season"
      ],
      "metadata": {
        "id": "Sj2GECNrtJJS"
      }
    },
    {
      "cell_type": "markdown",
      "source": [
        "**Ans**"
      ],
      "metadata": {
        "id": "v8BhXVihtzm4"
      }
    },
    {
      "cell_type": "code",
      "execution_count": 1,
      "metadata": {
        "id": "hJ15IvKatIZ3"
      },
      "outputs": [],
      "source": [
        "# importing necessary libraries\n",
        "import pandas as pd\n",
        "import matplotlib.pyplot as plt"
      ]
    },
    {
      "cell_type": "code",
      "source": [
        "# Read the dataset from a CSV file\n",
        "df = pd.read_csv('/content/sample_data/episode_data.csv')"
      ],
      "metadata": {
        "id": "3681EMjKuyET"
      },
      "execution_count": 2,
      "outputs": []
    },
    {
      "cell_type": "code",
      "source": [
        "df.head()"
      ],
      "metadata": {
        "colab": {
          "base_uri": "https://localhost:8080/",
          "height": 739
        },
        "id": "hqBXR9_1u9QR",
        "outputId": "e5d1da6f-5043-43e2-8457-d7635c0cf2a4"
      },
      "execution_count": 3,
      "outputs": [
        {
          "output_type": "execute_result",
          "data": {
            "text/plain": [
              "   Episode ID                                                URL  \\\n",
              "0      869671  https://www.tvmaze.com/episodes/869671/westwor...   \n",
              "1      911201  https://www.tvmaze.com/episodes/911201/westwor...   \n",
              "2      911204  https://www.tvmaze.com/episodes/911204/westwor...   \n",
              "3      911205  https://www.tvmaze.com/episodes/911205/westwor...   \n",
              "4      927174  https://www.tvmaze.com/episodes/927174/westwor...   \n",
              "\n",
              "                Name  Season  Number     Type     Airdate Airtime  Runtime  \\\n",
              "0       The Original       1       1  regular  2016-10-02   21:00       68   \n",
              "1           Chestnut       1       2  regular  2016-10-09   21:00       60   \n",
              "2          The Stray       1       3  regular  2016-10-16   21:00       60   \n",
              "3  Dissonance Theory       1       4  regular  2016-10-23   21:00       60   \n",
              "4        Contrapasso       1       5  regular  2016-10-30   21:00       60   \n",
              "\n",
              "   Average Rating                                            Summary  \\\n",
              "0             8.0  A woman named Dolores is a free spirit in the ...   \n",
              "1             7.7  Bernard suspects that someone is sabotaging th...   \n",
              "2             7.6  Bernard continues to investigate Dolores' supp...   \n",
              "3             7.9  While Dolores joins William and Logan on their...   \n",
              "4             8.0  Dolores takes the first step on her path of di...   \n",
              "\n",
              "                                   Medium Image Link  \\\n",
              "0  https://static.tvmaze.com/uploads/images/mediu...   \n",
              "1  https://static.tvmaze.com/uploads/images/mediu...   \n",
              "2  https://static.tvmaze.com/uploads/images/mediu...   \n",
              "3  https://static.tvmaze.com/uploads/images/mediu...   \n",
              "4  https://static.tvmaze.com/uploads/images/mediu...   \n",
              "\n",
              "                                 Original Image Link  \n",
              "0  https://static.tvmaze.com/uploads/images/origi...  \n",
              "1  https://static.tvmaze.com/uploads/images/origi...  \n",
              "2  https://static.tvmaze.com/uploads/images/origi...  \n",
              "3  https://static.tvmaze.com/uploads/images/origi...  \n",
              "4  https://static.tvmaze.com/uploads/images/origi...  "
            ],
            "text/html": [
              "\n",
              "  <div id=\"df-c95a8146-db62-4d7d-9667-da301f41709a\">\n",
              "    <div class=\"colab-df-container\">\n",
              "      <div>\n",
              "<style scoped>\n",
              "    .dataframe tbody tr th:only-of-type {\n",
              "        vertical-align: middle;\n",
              "    }\n",
              "\n",
              "    .dataframe tbody tr th {\n",
              "        vertical-align: top;\n",
              "    }\n",
              "\n",
              "    .dataframe thead th {\n",
              "        text-align: right;\n",
              "    }\n",
              "</style>\n",
              "<table border=\"1\" class=\"dataframe\">\n",
              "  <thead>\n",
              "    <tr style=\"text-align: right;\">\n",
              "      <th></th>\n",
              "      <th>Episode ID</th>\n",
              "      <th>URL</th>\n",
              "      <th>Name</th>\n",
              "      <th>Season</th>\n",
              "      <th>Number</th>\n",
              "      <th>Type</th>\n",
              "      <th>Airdate</th>\n",
              "      <th>Airtime</th>\n",
              "      <th>Runtime</th>\n",
              "      <th>Average Rating</th>\n",
              "      <th>Summary</th>\n",
              "      <th>Medium Image Link</th>\n",
              "      <th>Original Image Link</th>\n",
              "    </tr>\n",
              "  </thead>\n",
              "  <tbody>\n",
              "    <tr>\n",
              "      <th>0</th>\n",
              "      <td>869671</td>\n",
              "      <td>https://www.tvmaze.com/episodes/869671/westwor...</td>\n",
              "      <td>The Original</td>\n",
              "      <td>1</td>\n",
              "      <td>1</td>\n",
              "      <td>regular</td>\n",
              "      <td>2016-10-02</td>\n",
              "      <td>21:00</td>\n",
              "      <td>68</td>\n",
              "      <td>8.0</td>\n",
              "      <td>A woman named Dolores is a free spirit in the ...</td>\n",
              "      <td>https://static.tvmaze.com/uploads/images/mediu...</td>\n",
              "      <td>https://static.tvmaze.com/uploads/images/origi...</td>\n",
              "    </tr>\n",
              "    <tr>\n",
              "      <th>1</th>\n",
              "      <td>911201</td>\n",
              "      <td>https://www.tvmaze.com/episodes/911201/westwor...</td>\n",
              "      <td>Chestnut</td>\n",
              "      <td>1</td>\n",
              "      <td>2</td>\n",
              "      <td>regular</td>\n",
              "      <td>2016-10-09</td>\n",
              "      <td>21:00</td>\n",
              "      <td>60</td>\n",
              "      <td>7.7</td>\n",
              "      <td>Bernard suspects that someone is sabotaging th...</td>\n",
              "      <td>https://static.tvmaze.com/uploads/images/mediu...</td>\n",
              "      <td>https://static.tvmaze.com/uploads/images/origi...</td>\n",
              "    </tr>\n",
              "    <tr>\n",
              "      <th>2</th>\n",
              "      <td>911204</td>\n",
              "      <td>https://www.tvmaze.com/episodes/911204/westwor...</td>\n",
              "      <td>The Stray</td>\n",
              "      <td>1</td>\n",
              "      <td>3</td>\n",
              "      <td>regular</td>\n",
              "      <td>2016-10-16</td>\n",
              "      <td>21:00</td>\n",
              "      <td>60</td>\n",
              "      <td>7.6</td>\n",
              "      <td>Bernard continues to investigate Dolores' supp...</td>\n",
              "      <td>https://static.tvmaze.com/uploads/images/mediu...</td>\n",
              "      <td>https://static.tvmaze.com/uploads/images/origi...</td>\n",
              "    </tr>\n",
              "    <tr>\n",
              "      <th>3</th>\n",
              "      <td>911205</td>\n",
              "      <td>https://www.tvmaze.com/episodes/911205/westwor...</td>\n",
              "      <td>Dissonance Theory</td>\n",
              "      <td>1</td>\n",
              "      <td>4</td>\n",
              "      <td>regular</td>\n",
              "      <td>2016-10-23</td>\n",
              "      <td>21:00</td>\n",
              "      <td>60</td>\n",
              "      <td>7.9</td>\n",
              "      <td>While Dolores joins William and Logan on their...</td>\n",
              "      <td>https://static.tvmaze.com/uploads/images/mediu...</td>\n",
              "      <td>https://static.tvmaze.com/uploads/images/origi...</td>\n",
              "    </tr>\n",
              "    <tr>\n",
              "      <th>4</th>\n",
              "      <td>927174</td>\n",
              "      <td>https://www.tvmaze.com/episodes/927174/westwor...</td>\n",
              "      <td>Contrapasso</td>\n",
              "      <td>1</td>\n",
              "      <td>5</td>\n",
              "      <td>regular</td>\n",
              "      <td>2016-10-30</td>\n",
              "      <td>21:00</td>\n",
              "      <td>60</td>\n",
              "      <td>8.0</td>\n",
              "      <td>Dolores takes the first step on her path of di...</td>\n",
              "      <td>https://static.tvmaze.com/uploads/images/mediu...</td>\n",
              "      <td>https://static.tvmaze.com/uploads/images/origi...</td>\n",
              "    </tr>\n",
              "  </tbody>\n",
              "</table>\n",
              "</div>\n",
              "      <button class=\"colab-df-convert\" onclick=\"convertToInteractive('df-c95a8146-db62-4d7d-9667-da301f41709a')\"\n",
              "              title=\"Convert this dataframe to an interactive table.\"\n",
              "              style=\"display:none;\">\n",
              "        \n",
              "  <svg xmlns=\"http://www.w3.org/2000/svg\" height=\"24px\"viewBox=\"0 0 24 24\"\n",
              "       width=\"24px\">\n",
              "    <path d=\"M0 0h24v24H0V0z\" fill=\"none\"/>\n",
              "    <path d=\"M18.56 5.44l.94 2.06.94-2.06 2.06-.94-2.06-.94-.94-2.06-.94 2.06-2.06.94zm-11 1L8.5 8.5l.94-2.06 2.06-.94-2.06-.94L8.5 2.5l-.94 2.06-2.06.94zm10 10l.94 2.06.94-2.06 2.06-.94-2.06-.94-.94-2.06-.94 2.06-2.06.94z\"/><path d=\"M17.41 7.96l-1.37-1.37c-.4-.4-.92-.59-1.43-.59-.52 0-1.04.2-1.43.59L10.3 9.45l-7.72 7.72c-.78.78-.78 2.05 0 2.83L4 21.41c.39.39.9.59 1.41.59.51 0 1.02-.2 1.41-.59l7.78-7.78 2.81-2.81c.8-.78.8-2.07 0-2.86zM5.41 20L4 18.59l7.72-7.72 1.47 1.35L5.41 20z\"/>\n",
              "  </svg>\n",
              "      </button>\n",
              "      \n",
              "  <style>\n",
              "    .colab-df-container {\n",
              "      display:flex;\n",
              "      flex-wrap:wrap;\n",
              "      gap: 12px;\n",
              "    }\n",
              "\n",
              "    .colab-df-convert {\n",
              "      background-color: #E8F0FE;\n",
              "      border: none;\n",
              "      border-radius: 50%;\n",
              "      cursor: pointer;\n",
              "      display: none;\n",
              "      fill: #1967D2;\n",
              "      height: 32px;\n",
              "      padding: 0 0 0 0;\n",
              "      width: 32px;\n",
              "    }\n",
              "\n",
              "    .colab-df-convert:hover {\n",
              "      background-color: #E2EBFA;\n",
              "      box-shadow: 0px 1px 2px rgba(60, 64, 67, 0.3), 0px 1px 3px 1px rgba(60, 64, 67, 0.15);\n",
              "      fill: #174EA6;\n",
              "    }\n",
              "\n",
              "    [theme=dark] .colab-df-convert {\n",
              "      background-color: #3B4455;\n",
              "      fill: #D2E3FC;\n",
              "    }\n",
              "\n",
              "    [theme=dark] .colab-df-convert:hover {\n",
              "      background-color: #434B5C;\n",
              "      box-shadow: 0px 1px 3px 1px rgba(0, 0, 0, 0.15);\n",
              "      filter: drop-shadow(0px 1px 2px rgba(0, 0, 0, 0.3));\n",
              "      fill: #FFFFFF;\n",
              "    }\n",
              "  </style>\n",
              "\n",
              "      <script>\n",
              "        const buttonEl =\n",
              "          document.querySelector('#df-c95a8146-db62-4d7d-9667-da301f41709a button.colab-df-convert');\n",
              "        buttonEl.style.display =\n",
              "          google.colab.kernel.accessAllowed ? 'block' : 'none';\n",
              "\n",
              "        async function convertToInteractive(key) {\n",
              "          const element = document.querySelector('#df-c95a8146-db62-4d7d-9667-da301f41709a');\n",
              "          const dataTable =\n",
              "            await google.colab.kernel.invokeFunction('convertToInteractive',\n",
              "                                                     [key], {});\n",
              "          if (!dataTable) return;\n",
              "\n",
              "          const docLinkHtml = 'Like what you see? Visit the ' +\n",
              "            '<a target=\"_blank\" href=https://colab.research.google.com/notebooks/data_table.ipynb>data table notebook</a>'\n",
              "            + ' to learn more about interactive tables.';\n",
              "          element.innerHTML = '';\n",
              "          dataTable['output_type'] = 'display_data';\n",
              "          await google.colab.output.renderOutput(dataTable, element);\n",
              "          const docLink = document.createElement('div');\n",
              "          docLink.innerHTML = docLinkHtml;\n",
              "          element.appendChild(docLink);\n",
              "        }\n",
              "      </script>\n",
              "    </div>\n",
              "  </div>\n",
              "  "
            ]
          },
          "metadata": {},
          "execution_count": 3
        }
      ]
    },
    {
      "cell_type": "code",
      "source": [
        "df.info()"
      ],
      "metadata": {
        "colab": {
          "base_uri": "https://localhost:8080/"
        },
        "id": "HKFWRVL-vQAU",
        "outputId": "9fe0e88f-c33f-46df-da71-2aed6b079fe1"
      },
      "execution_count": 4,
      "outputs": [
        {
          "output_type": "stream",
          "name": "stdout",
          "text": [
            "<class 'pandas.core.frame.DataFrame'>\n",
            "RangeIndex: 36 entries, 0 to 35\n",
            "Data columns (total 13 columns):\n",
            " #   Column               Non-Null Count  Dtype  \n",
            "---  ------               --------------  -----  \n",
            " 0   Episode ID           36 non-null     int64  \n",
            " 1   URL                  36 non-null     object \n",
            " 2   Name                 36 non-null     object \n",
            " 3   Season               36 non-null     int64  \n",
            " 4   Number               36 non-null     int64  \n",
            " 5   Type                 36 non-null     object \n",
            " 6   Airdate              36 non-null     object \n",
            " 7   Airtime              36 non-null     object \n",
            " 8   Runtime              36 non-null     int64  \n",
            " 9   Average Rating       36 non-null     float64\n",
            " 10  Summary              36 non-null     object \n",
            " 11  Medium Image Link    36 non-null     object \n",
            " 12  Original Image Link  36 non-null     object \n",
            "dtypes: float64(1), int64(4), object(8)\n",
            "memory usage: 3.8+ KB\n"
          ]
        }
      ]
    },
    {
      "cell_type": "code",
      "source": [
        "# Get all the overall ratings for each season and compare the ratings using plots\n",
        "season_ratings = df.groupby('Season')['Average Rating'].mean()\n",
        "season_ratings.plot(kind='bar', xlabel='Season', ylabel='Average Rating', title='Overall Ratings for Each Season')\n",
        "plt.show()"
      ],
      "metadata": {
        "colab": {
          "base_uri": "https://localhost:8080/",
          "height": 467
        },
        "id": "vT9O8P8Ou_gZ",
        "outputId": "d47f1a54-465f-4f8e-d2f9-c97b3cf54374"
      },
      "execution_count": 5,
      "outputs": [
        {
          "output_type": "display_data",
          "data": {
            "text/plain": [
              "<Figure size 640x480 with 1 Axes>"
            ],
            "image/png": "[encoded data removed]"
          },
          "metadata": {}
        }
      ]
    },
    {
      "cell_type": "code",
      "source": [
        "# Get all the episode names whose average rating is more than 8 for every season\n",
        "high_rated_episodes = df[df['Average Rating'] > 8]\n",
        "high_rated_episodes_by_season = high_rated_episodes.groupby('Season')['Name'].apply(list)\n",
        "print(\"Episode names with average rating > 8 for each season:\")\n",
        "print(high_rated_episodes_by_season)"
      ],
      "metadata": {
        "colab": {
          "base_uri": "https://localhost:8080/"
        },
        "id": "lGYK9feLvYNA",
        "outputId": "457b0c5b-1526-4120-e037-c56c2138aac2"
      },
      "execution_count": 6,
      "outputs": [
        {
          "output_type": "stream",
          "name": "stdout",
          "text": [
            "Episode names with average rating > 8 for each season:\n",
            "Season\n",
            "1    [Trompe L'Oeil, The Well-Tempered Clavier, The...\n",
            "2            [Kiksuya, Vanishing Point, The Passenger]\n",
            "Name: Name, dtype: object\n"
          ]
        }
      ]
    },
    {
      "cell_type": "code",
      "source": [
        "# Get all the episode names that aired before May 2019\n",
        "df['airdate'] = pd.to_datetime(df['Airdate'], format='%Y-%m-%d')\n",
        "episodes_before_may_2019 = df[df['Airdate'] < '2019-05-01']\n",
        "episode_names_before_may_2019 = episodes_before_may_2019['Name'].tolist()\n",
        "print(\"Episode names aired before May 2019:\")\n",
        "print(episode_names_before_may_2019)"
      ],
      "metadata": {
        "colab": {
          "base_uri": "https://localhost:8080/"
        },
        "id": "udu7M-QIvxhI",
        "outputId": "b157ac0c-6a9b-4a14-e682-c67f3373745f"
      },
      "execution_count": 7,
      "outputs": [
        {
          "output_type": "stream",
          "name": "stdout",
          "text": [
            "Episode names aired before May 2019:\n",
            "['The Original', 'Chestnut', 'The Stray', 'Dissonance Theory', 'Contrapasso', 'The Adversary', \"Trompe L'Oeil\", 'Trace Decay', 'The Well-Tempered Clavier', 'The Bicameral Mind', 'Journey Into Night', 'Reunion', 'Virtù e Fortuna', 'The Riddle of the Sphinx', 'Akane No Mai', 'Phase Space', 'Les Écorchés', 'Kiksuya', 'Vanishing Point', 'The Passenger']\n"
          ]
        }
      ]
    },
    {
      "cell_type": "code",
      "source": [
        "# Get the episode name from each season with the highest and lowest rating\n",
        "highest_rated_episodes = df.groupby('Season')['Average Rating'].idxmax()\n",
        "lowest_rated_episodes = df.groupby('Season')['Average Rating'].idxmin()\n",
        "episode_names_highest_rated = df.loc[highest_rated_episodes, ['Season', 'Name']]\n",
        "episode_names_lowest_rated = df.loc[lowest_rated_episodes, ['Season', 'Name']]\n",
        "print(\"Episode name with the highest rating for each season:\")\n",
        "print(episode_names_highest_rated)\n",
        "print(\"Episode name with the lowest rating for each season:\")\n",
        "print(episode_names_lowest_rated)"
      ],
      "metadata": {
        "colab": {
          "base_uri": "https://localhost:8080/"
        },
        "id": "2teO_KOswC9a",
        "outputId": "d2e051fa-9b64-4c26-9a8e-31e0d73c6860"
      },
      "execution_count": 8,
      "outputs": [
        {
          "output_type": "stream",
          "name": "stdout",
          "text": [
            "Episode name with the highest rating for each season:\n",
            "    Season                Name\n",
            "9        1  The Bicameral Mind\n",
            "17       2             Kiksuya\n",
            "20       3        Parce Domine\n",
            "32       4            Zhuangzi\n",
            "Episode name with the lowest rating for each season:\n",
            "    Season          Name\n",
            "2        1     The Stray\n",
            "14       2  Akane No Mai\n",
            "25       3   Decoherence\n",
            "28       4  The Auguries\n"
          ]
        }
      ]
    },
    {
      "cell_type": "code",
      "source": [
        "# Get the summary for the most popular (highest ratings) episode in every season\n",
        "most_popular_episodes = df.groupby('Season')['Average Rating'].idxmax()\n",
        "most_popular_episodes_summary = df.loc[most_popular_episodes, ['Season', 'Name', 'Summary']]\n",
        "print(\"Summary for the most popular episode in each season:\")\n",
        "print(most_popular_episodes_summary)"
      ],
      "metadata": {
        "colab": {
          "base_uri": "https://localhost:8080/"
        },
        "id": "eIvHwR7pwYep",
        "outputId": "fe752046-f592-422f-b22b-fb8b3687e7d0"
      },
      "execution_count": 9,
      "outputs": [
        {
          "output_type": "stream",
          "name": "stdout",
          "text": [
            "Summary for the most popular episode in each season:\n",
            "    Season                Name  \\\n",
            "9        1  The Bicameral Mind   \n",
            "17       2             Kiksuya   \n",
            "20       3        Parce Domine   \n",
            "32       4            Zhuangzi   \n",
            "\n",
            "                                              Summary  \n",
            "9   Delores finds out the truth about William's fa...  \n",
            "17  Another of Westworld's Host revolutionaries is...  \n",
            "20  If you're stuck in a loop, try walking in a st...  \n",
            "32                                      God is bored.  \n"
          ]
        }
      ]
    }
  ]
}