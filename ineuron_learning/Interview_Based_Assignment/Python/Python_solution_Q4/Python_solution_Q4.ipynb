{
  "nbformat": 4,
  "nbformat_minor": 0,
  "metadata": {
    "colab": {
      "provenance": []
    },
    "kernelspec": {
      "name": "python3",
      "display_name": "Python 3"
    },
    "language_info": {
      "name": "python"
    }
  },
  "cells": [
    {
      "cell_type": "markdown",
      "source": [
        "**Question 4 -**<br>\n",
        "Write a program to download the data from the link given below and then read the data and convert the into the proper structure and return it as a CSV file.\n",
        "<br>**Link -** https://data.nasa.gov/resource/y77d-th95.json\n",
        "<br>**Note -** Write code comments wherever needed for code understanding Excepted Output Data Attributes\n",
        "<br>● Name of Earth Meteorite - string id - ID of Earth\n",
        "<br>● Meteorite - int nametype - string recclass - string\n",
        "<br>● mass - Mass of Earth Meteorite - float year - Year at which Earth\n",
        "<br>● Meteorite was hit - datetime format reclat - float recclong - float\n",
        "<br>● point coordinates - list of int"
      ],
      "metadata": {
        "id": "O25u_T27a7fz"
      }
    },
    {
      "cell_type": "markdown",
      "source": [
        "**ANS**"
      ],
      "metadata": {
        "id": "srAhBkVybe27"
      }
    },
    {
      "cell_type": "code",
      "execution_count": 1,
      "metadata": {
        "id": "PX9Jk48-a4bk"
      },
      "outputs": [],
      "source": [
        "# import necessary library\n",
        "import csv\n",
        "import requests"
      ]
    },
    {
      "cell_type": "code",
      "source": [
        "# Download the data from the provided link\n",
        "url = 'https://data.nasa.gov/resource/y77d-th95.json'\n",
        "response = requests.get(url)\n",
        "data = response.json()"
      ],
      "metadata": {
        "id": "Lfer2Si2cOOv"
      },
      "execution_count": 2,
      "outputs": []
    },
    {
      "cell_type": "code",
      "source": [
        "# Extract the required attributes from the downloaded data\n",
        "extracted_data = []\n",
        "for item in data:\n",
        "    name = item.get('name', None)\n",
        "    id = item.get('id', None)\n",
        "    nametype = item.get('nametype', None)\n",
        "    recclass = item.get('recclass', None)\n",
        "    \n",
        "    # Handle missing 'mass' attribute\n",
        "    mass = item.get('mass (g)', None)\n",
        "    mass = float(mass) if mass else None\n",
        "    \n",
        "    year = item.get('year', None)\n",
        "    \n",
        "    # Handle missing 'reclat' and 'reclong' attributes\n",
        "    reclat = item.get('reclat', None)\n",
        "    reclat = float(reclat) if reclat else None\n",
        "    \n",
        "    reclong = item.get('reclong', None)\n",
        "    reclong = float(reclong) if reclong else None\n",
        "    \n",
        "    # Handle missing 'reclat' or 'reclong' attribute\n",
        "    coordinates = [int(reclat) if reclat else None, int(reclong) if reclong else None]\n",
        "    \n",
        "    extracted_data.append([name, id, nametype, recclass, mass, year, reclat, reclong, coordinates])"
      ],
      "metadata": {
        "id": "HYnIlJ-9dNA5"
      },
      "execution_count": 3,
      "outputs": []
    },
    {
      "cell_type": "code",
      "source": [
        "# Save the extracted data as a CSV file\n",
        "output_file = 'nasa_data.csv'\n",
        "with open(output_file, 'w', newline='') as file:\n",
        "    writer = csv.writer(file)\n",
        "    writer.writerow(['Name of Earth Meteorite', 'ID of Earth Meteorite', 'Name Type', 'Recclass',\n",
        "                     'Mass of Earth Meteorite', 'Year', 'Latitude', 'Longitude', 'Point Coordinates'])\n",
        "    writer.writerows(extracted_data)\n",
        "\n",
        "print(f\"Data successfully exported to {output_file}.\")"
      ],
      "metadata": {
        "colab": {
          "base_uri": "https://localhost:8080/"
        },
        "id": "g_PXnqF0dQ6-",
        "outputId": "3bd0ae35-b2b4-4b7e-a89d-a03190c5f352"
      },
      "execution_count": 4,
      "outputs": [
        {
          "output_type": "stream",
          "name": "stdout",
          "text": [
            "Data successfully exported to nasa_data.csv.\n"
          ]
        }
      ]
    }
  ]
}