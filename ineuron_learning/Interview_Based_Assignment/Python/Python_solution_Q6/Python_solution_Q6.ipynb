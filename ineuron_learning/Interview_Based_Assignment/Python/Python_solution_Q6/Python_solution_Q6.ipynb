{
  "nbformat": 4,
  "nbformat_minor": 0,
  "metadata": {
    "colab": {
      "provenance": []
    },
    "kernelspec": {
      "name": "python3",
      "display_name": "Python 3"
    },
    "language_info": {
      "name": "python"
    }
  },
  "cells": [
    {
      "cell_type": "markdown",
      "source": [
        "**Question 6 -**\n",
        "\n",
        "Using the data from **Question 3**, write code to analyze the data and answer the following questions **Note 1.** Draw plots to demonstrate the analysis for the following questions for better visualizations.\n",
        "2. Write code comments wherever required for code understanding\n",
        "\n",
        "**Insights to be drawn -**\n",
        "<br>● Get all Pokemons whose spawn rate is less than 5%\n",
        "<br>● Get all Pokemons that have less than 4 weaknesses\n",
        "<br>● Get all Pokemons that have no multipliers at all\n",
        "<br>● Get all Pokemons that do not have more than 2 evolutions\n",
        "<br>● Get all Pokemons whose spawn time is less than 300 seconds.\n",
        "<br>**Note -** spawn time format is \"05:32”, so assume “minute: second” format and perform the analysis.\n",
        "<br>● Get all Pokemon who have more than two types of capabilities"
      ],
      "metadata": {
        "id": "nBfzKDGBhU1a"
      }
    },
    {
      "cell_type": "markdown",
      "source": [
        "**Ans**"
      ],
      "metadata": {
        "id": "warS3OcgiIIR"
      }
    },
    {
      "cell_type": "code",
      "execution_count": 6,
      "metadata": {
        "id": "c_skxMp6hRP2"
      },
      "outputs": [],
      "source": [
        "import pandas as pd\n",
        "import numpy as np\n",
        "import ast"
      ]
    },
    {
      "cell_type": "code",
      "source": [
        "df1 = pd.read_csv(\"/content/sample_data/Output.csv\")"
      ],
      "metadata": {
        "id": "9pFc5whoib8e"
      },
      "execution_count": 3,
      "outputs": []
    },
    {
      "cell_type": "code",
      "source": [
        "df1.head()"
      ],
      "metadata": {
        "colab": {
          "base_uri": "https://localhost:8080/",
          "height": 478
        },
        "id": "VznZ1A6cieGM",
        "outputId": "09a0798f-f94a-41f3-bd28-d859693f5f24"
      },
      "execution_count": 4,
      "outputs": [
        {
          "output_type": "execute_result",
          "data": {
            "text/plain": [
              "   id  num        name                                               img  \\\n",
              "0   1    1   Bulbasaur  http://www.serebii.net/pokemongo/pokemon/001.png   \n",
              "1   2    2     Ivysaur  http://www.serebii.net/pokemongo/pokemon/002.png   \n",
              "2   3    3    Venusaur  http://www.serebii.net/pokemongo/pokemon/003.png   \n",
              "3   4    4  Charmander  http://www.serebii.net/pokemongo/pokemon/004.png   \n",
              "4   5    5  Charmeleon  http://www.serebii.net/pokemongo/pokemon/005.png   \n",
              "\n",
              "                  type  height    weight             candy  candy_count  \\\n",
              "0  ['Grass', 'Poison']  0.71 m    6.9 kg   Bulbasaur Candy         25.0   \n",
              "1  ['Grass', 'Poison']  0.99 m   13.0 kg   Bulbasaur Candy        100.0   \n",
              "2  ['Grass', 'Poison']  2.01 m  100.0 kg   Bulbasaur Candy          NaN   \n",
              "3             ['Fire']  0.61 m    8.5 kg  Charmander Candy         25.0   \n",
              "4             ['Fire']  1.09 m   19.0 kg  Charmander Candy        100.0   \n",
              "\n",
              "           egg  spawn_chance  avg_spawns spawn_time multipliers  \\\n",
              "0         2 km         0.690        69.0      20:00      [1.58]   \n",
              "1  Not in Eggs         0.042         4.2      07:00  [1.2, 1.6]   \n",
              "2  Not in Eggs         0.017         1.7      11:30         NaN   \n",
              "3         2 km         0.253        25.3      08:45      [1.65]   \n",
              "4  Not in Eggs         0.012         1.2      19:00      [1.79]   \n",
              "\n",
              "                             weaknesses  \\\n",
              "0  ['Fire', 'Ice', 'Flying', 'Psychic']   \n",
              "1  ['Fire', 'Ice', 'Flying', 'Psychic']   \n",
              "2  ['Fire', 'Ice', 'Flying', 'Psychic']   \n",
              "3           ['Water', 'Ground', 'Rock']   \n",
              "4           ['Water', 'Ground', 'Rock']   \n",
              "\n",
              "                                      next_evolution  \\\n",
              "0  [{'num': '002', 'name': 'Ivysaur'}, {'num': '0...   \n",
              "1               [{'num': '003', 'name': 'Venusaur'}]   \n",
              "2                                                NaN   \n",
              "3  [{'num': '005', 'name': 'Charmeleon'}, {'num':...   \n",
              "4              [{'num': '006', 'name': 'Charizard'}]   \n",
              "\n",
              "                                      prev_evolution  \n",
              "0                                                NaN  \n",
              "1              [{'num': '001', 'name': 'Bulbasaur'}]  \n",
              "2  [{'num': '001', 'name': 'Bulbasaur'}, {'num': ...  \n",
              "3                                                NaN  \n",
              "4             [{'num': '004', 'name': 'Charmander'}]  "
            ],
            "text/html": [
              "\n",
              "  <div id=\"df-98e4705e-97c0-4442-a39f-e600e06d167d\">\n",
              "    <div class=\"colab-df-container\">\n",
              "      <div>\n",
              "<style scoped>\n",
              "    .dataframe tbody tr th:only-of-type {\n",
              "        vertical-align: middle;\n",
              "    }\n",
              "\n",
              "    .dataframe tbody tr th {\n",
              "        vertical-align: top;\n",
              "    }\n",
              "\n",
              "    .dataframe thead th {\n",
              "        text-align: right;\n",
              "    }\n",
              "</style>\n",
              "<table border=\"1\" class=\"dataframe\">\n",
              "  <thead>\n",
              "    <tr style=\"text-align: right;\">\n",
              "      <th></th>\n",
              "      <th>id</th>\n",
              "      <th>num</th>\n",
              "      <th>name</th>\n",
              "      <th>img</th>\n",
              "      <th>type</th>\n",
              "      <th>height</th>\n",
              "      <th>weight</th>\n",
              "      <th>candy</th>\n",
              "      <th>candy_count</th>\n",
              "      <th>egg</th>\n",
              "      <th>spawn_chance</th>\n",
              "      <th>avg_spawns</th>\n",
              "      <th>spawn_time</th>\n",
              "      <th>multipliers</th>\n",
              "      <th>weaknesses</th>\n",
              "      <th>next_evolution</th>\n",
              "      <th>prev_evolution</th>\n",
              "    </tr>\n",
              "  </thead>\n",
              "  <tbody>\n",
              "    <tr>\n",
              "      <th>0</th>\n",
              "      <td>1</td>\n",
              "      <td>1</td>\n",
              "      <td>Bulbasaur</td>\n",
              "      <td>http://www.serebii.net/pokemongo/pokemon/001.png</td>\n",
              "      <td>['Grass', 'Poison']</td>\n",
              "      <td>0.71 m</td>\n",
              "      <td>6.9 kg</td>\n",
              "      <td>Bulbasaur Candy</td>\n",
              "      <td>25.0</td>\n",
              "      <td>2 km</td>\n",
              "      <td>0.690</td>\n",
              "      <td>69.0</td>\n",
              "      <td>20:00</td>\n",
              "      <td>[1.58]</td>\n",
              "      <td>['Fire', 'Ice', 'Flying', 'Psychic']</td>\n",
              "      <td>[{'num': '002', 'name': 'Ivysaur'}, {'num': '0...</td>\n",
              "      <td>NaN</td>\n",
              "    </tr>\n",
              "    <tr>\n",
              "      <th>1</th>\n",
              "      <td>2</td>\n",
              "      <td>2</td>\n",
              "      <td>Ivysaur</td>\n",
              "      <td>http://www.serebii.net/pokemongo/pokemon/002.png</td>\n",
              "      <td>['Grass', 'Poison']</td>\n",
              "      <td>0.99 m</td>\n",
              "      <td>13.0 kg</td>\n",
              "      <td>Bulbasaur Candy</td>\n",
              "      <td>100.0</td>\n",
              "      <td>Not in Eggs</td>\n",
              "      <td>0.042</td>\n",
              "      <td>4.2</td>\n",
              "      <td>07:00</td>\n",
              "      <td>[1.2, 1.6]</td>\n",
              "      <td>['Fire', 'Ice', 'Flying', 'Psychic']</td>\n",
              "      <td>[{'num': '003', 'name': 'Venusaur'}]</td>\n",
              "      <td>[{'num': '001', 'name': 'Bulbasaur'}]</td>\n",
              "    </tr>\n",
              "    <tr>\n",
              "      <th>2</th>\n",
              "      <td>3</td>\n",
              "      <td>3</td>\n",
              "      <td>Venusaur</td>\n",
              "      <td>http://www.serebii.net/pokemongo/pokemon/003.png</td>\n",
              "      <td>['Grass', 'Poison']</td>\n",
              "      <td>2.01 m</td>\n",
              "      <td>100.0 kg</td>\n",
              "      <td>Bulbasaur Candy</td>\n",
              "      <td>NaN</td>\n",
              "      <td>Not in Eggs</td>\n",
              "      <td>0.017</td>\n",
              "      <td>1.7</td>\n",
              "      <td>11:30</td>\n",
              "      <td>NaN</td>\n",
              "      <td>['Fire', 'Ice', 'Flying', 'Psychic']</td>\n",
              "      <td>NaN</td>\n",
              "      <td>[{'num': '001', 'name': 'Bulbasaur'}, {'num': ...</td>\n",
              "    </tr>\n",
              "    <tr>\n",
              "      <th>3</th>\n",
              "      <td>4</td>\n",
              "      <td>4</td>\n",
              "      <td>Charmander</td>\n",
              "      <td>http://www.serebii.net/pokemongo/pokemon/004.png</td>\n",
              "      <td>['Fire']</td>\n",
              "      <td>0.61 m</td>\n",
              "      <td>8.5 kg</td>\n",
              "      <td>Charmander Candy</td>\n",
              "      <td>25.0</td>\n",
              "      <td>2 km</td>\n",
              "      <td>0.253</td>\n",
              "      <td>25.3</td>\n",
              "      <td>08:45</td>\n",
              "      <td>[1.65]</td>\n",
              "      <td>['Water', 'Ground', 'Rock']</td>\n",
              "      <td>[{'num': '005', 'name': 'Charmeleon'}, {'num':...</td>\n",
              "      <td>NaN</td>\n",
              "    </tr>\n",
              "    <tr>\n",
              "      <th>4</th>\n",
              "      <td>5</td>\n",
              "      <td>5</td>\n",
              "      <td>Charmeleon</td>\n",
              "      <td>http://www.serebii.net/pokemongo/pokemon/005.png</td>\n",
              "      <td>['Fire']</td>\n",
              "      <td>1.09 m</td>\n",
              "      <td>19.0 kg</td>\n",
              "      <td>Charmander Candy</td>\n",
              "      <td>100.0</td>\n",
              "      <td>Not in Eggs</td>\n",
              "      <td>0.012</td>\n",
              "      <td>1.2</td>\n",
              "      <td>19:00</td>\n",
              "      <td>[1.79]</td>\n",
              "      <td>['Water', 'Ground', 'Rock']</td>\n",
              "      <td>[{'num': '006', 'name': 'Charizard'}]</td>\n",
              "      <td>[{'num': '004', 'name': 'Charmander'}]</td>\n",
              "    </tr>\n",
              "  </tbody>\n",
              "</table>\n",
              "</div>\n",
              "      <button class=\"colab-df-convert\" onclick=\"convertToInteractive('df-98e4705e-97c0-4442-a39f-e600e06d167d')\"\n",
              "              title=\"Convert this dataframe to an interactive table.\"\n",
              "              style=\"display:none;\">\n",
              "        \n",
              "  <svg xmlns=\"http://www.w3.org/2000/svg\" height=\"24px\"viewBox=\"0 0 24 24\"\n",
              "       width=\"24px\">\n",
              "    <path d=\"M0 0h24v24H0V0z\" fill=\"none\"/>\n",
              "    <path d=\"M18.56 5.44l.94 2.06.94-2.06 2.06-.94-2.06-.94-.94-2.06-.94 2.06-2.06.94zm-11 1L8.5 8.5l.94-2.06 2.06-.94-2.06-.94L8.5 2.5l-.94 2.06-2.06.94zm10 10l.94 2.06.94-2.06 2.06-.94-2.06-.94-.94-2.06-.94 2.06-2.06.94z\"/><path d=\"M17.41 7.96l-1.37-1.37c-.4-.4-.92-.59-1.43-.59-.52 0-1.04.2-1.43.59L10.3 9.45l-7.72 7.72c-.78.78-.78 2.05 0 2.83L4 21.41c.39.39.9.59 1.41.59.51 0 1.02-.2 1.41-.59l7.78-7.78 2.81-2.81c.8-.78.8-2.07 0-2.86zM5.41 20L4 18.59l7.72-7.72 1.47 1.35L5.41 20z\"/>\n",
              "  </svg>\n",
              "      </button>\n",
              "      \n",
              "  <style>\n",
              "    .colab-df-container {\n",
              "      display:flex;\n",
              "      flex-wrap:wrap;\n",
              "      gap: 12px;\n",
              "    }\n",
              "\n",
              "    .colab-df-convert {\n",
              "      background-color: #E8F0FE;\n",
              "      border: none;\n",
              "      border-radius: 50%;\n",
              "      cursor: pointer;\n",
              "      display: none;\n",
              "      fill: #1967D2;\n",
              "      height: 32px;\n",
              "      padding: 0 0 0 0;\n",
              "      width: 32px;\n",
              "    }\n",
              "\n",
              "    .colab-df-convert:hover {\n",
              "      background-color: #E2EBFA;\n",
              "      box-shadow: 0px 1px 2px rgba(60, 64, 67, 0.3), 0px 1px 3px 1px rgba(60, 64, 67, 0.15);\n",
              "      fill: #174EA6;\n",
              "    }\n",
              "\n",
              "    [theme=dark] .colab-df-convert {\n",
              "      background-color: #3B4455;\n",
              "      fill: #D2E3FC;\n",
              "    }\n",
              "\n",
              "    [theme=dark] .colab-df-convert:hover {\n",
              "      background-color: #434B5C;\n",
              "      box-shadow: 0px 1px 3px 1px rgba(0, 0, 0, 0.15);\n",
              "      filter: drop-shadow(0px 1px 2px rgba(0, 0, 0, 0.3));\n",
              "      fill: #FFFFFF;\n",
              "    }\n",
              "  </style>\n",
              "\n",
              "      <script>\n",
              "        const buttonEl =\n",
              "          document.querySelector('#df-98e4705e-97c0-4442-a39f-e600e06d167d button.colab-df-convert');\n",
              "        buttonEl.style.display =\n",
              "          google.colab.kernel.accessAllowed ? 'block' : 'none';\n",
              "\n",
              "        async function convertToInteractive(key) {\n",
              "          const element = document.querySelector('#df-98e4705e-97c0-4442-a39f-e600e06d167d');\n",
              "          const dataTable =\n",
              "            await google.colab.kernel.invokeFunction('convertToInteractive',\n",
              "                                                     [key], {});\n",
              "          if (!dataTable) return;\n",
              "\n",
              "          const docLinkHtml = 'Like what you see? Visit the ' +\n",
              "            '<a target=\"_blank\" href=https://colab.research.google.com/notebooks/data_table.ipynb>data table notebook</a>'\n",
              "            + ' to learn more about interactive tables.';\n",
              "          element.innerHTML = '';\n",
              "          dataTable['output_type'] = 'display_data';\n",
              "          await google.colab.output.renderOutput(dataTable, element);\n",
              "          const docLink = document.createElement('div');\n",
              "          docLink.innerHTML = docLinkHtml;\n",
              "          element.appendChild(docLink);\n",
              "        }\n",
              "      </script>\n",
              "    </div>\n",
              "  </div>\n",
              "  "
            ]
          },
          "metadata": {},
          "execution_count": 4
        }
      ]
    },
    {
      "cell_type": "code",
      "source": [
        "# Get all Pokemons whose spawn rate is less than 5%\n",
        "five_perc = df1[\"spawn_chance\"].quantile(0.05)\n",
        "df1[df1[\"spawn_chance\"] < five_perc][\"name\"]"
      ],
      "metadata": {
        "colab": {
          "base_uri": "https://localhost:8080/"
        },
        "id": "8a5VK3kSi5xU",
        "outputId": "b38b062b-aacf-4af5-cd79-3243675040d7"
      },
      "execution_count": 5,
      "outputs": [
        {
          "output_type": "execute_result",
          "data": {
            "text/plain": [
              "131        Ditto\n",
              "143     Articuno\n",
              "144       Zapdos\n",
              "145      Moltres\n",
              "148    Dragonite\n",
              "149       Mewtwo\n",
              "150          Mew\n",
              "Name: name, dtype: object"
            ]
          },
          "metadata": {},
          "execution_count": 5
        }
      ]
    },
    {
      "cell_type": "code",
      "source": [
        "# Get all Pokemons that have less than 4 weaknesses\n",
        "df1[\"weaknesses\"] = df1[\"weaknesses\"].apply(lambda x : ast.literal_eval(x))\n",
        "df1[df1[\"weaknesses\"].apply(lambda x : len(x)) < 4][\"name\"]"
      ],
      "metadata": {
        "colab": {
          "base_uri": "https://localhost:8080/"
        },
        "id": "izELpDvQjA70",
        "outputId": "111d5d8b-69e3-4236-ce93-68a0d373f1c4"
      },
      "execution_count": 8,
      "outputs": [
        {
          "output_type": "execute_result",
          "data": {
            "text/plain": [
              "3      Charmander\n",
              "4      Charmeleon\n",
              "5       Charizard\n",
              "6        Squirtle\n",
              "7       Wartortle\n",
              "          ...    \n",
              "145       Moltres\n",
              "146       Dratini\n",
              "147     Dragonair\n",
              "149        Mewtwo\n",
              "150           Mew\n",
              "Name: name, Length: 102, dtype: object"
            ]
          },
          "metadata": {},
          "execution_count": 8
        }
      ]
    },
    {
      "cell_type": "code",
      "source": [
        "# Get all Pokemons that have no multipliers at all\n",
        "df1[df1[\"multipliers\"].isna()][\"name\"]"
      ],
      "metadata": {
        "colab": {
          "base_uri": "https://localhost:8080/"
        },
        "id": "XtTHeMWdjh37",
        "outputId": "56138141-d521-4aa5-97da-98e3004fb7c6"
      },
      "execution_count": 9,
      "outputs": [
        {
          "output_type": "execute_result",
          "data": {
            "text/plain": [
              "2        Venusaur\n",
              "5       Charizard\n",
              "8       Blastoise\n",
              "11     Butterfree\n",
              "14       Beedrill\n",
              "          ...    \n",
              "144        Zapdos\n",
              "145       Moltres\n",
              "148     Dragonite\n",
              "149        Mewtwo\n",
              "150           Mew\n",
              "Name: name, Length: 81, dtype: object"
            ]
          },
          "metadata": {},
          "execution_count": 9
        }
      ]
    },
    {
      "cell_type": "code",
      "source": [
        "# Get all Pokemons that do not have more than 2 evolutions\n",
        "df = df1.copy()"
      ],
      "metadata": {
        "id": "trg9ujwUjqZc"
      },
      "execution_count": 10,
      "outputs": []
    },
    {
      "cell_type": "code",
      "source": [
        "df[\"next_evolution\"].dropna(inplace=True)"
      ],
      "metadata": {
        "id": "lWsJCo2MjwWr"
      },
      "execution_count": 11,
      "outputs": []
    },
    {
      "cell_type": "code",
      "source": [
        "df[\"Evloutions_2\"] = df[\"next_evolution\"].dropna().apply(lambda x : ast.literal_eval(x)).apply(lambda x : len(x)) < 2"
      ],
      "metadata": {
        "id": "4upYwXCFjzpr"
      },
      "execution_count": 12,
      "outputs": []
    },
    {
      "cell_type": "code",
      "source": [
        "df.loc[df[\"Evloutions_2\"] == True][\"name\"]"
      ],
      "metadata": {
        "colab": {
          "base_uri": "https://localhost:8080/"
        },
        "id": "w58zvylMj2j7",
        "outputId": "888ef453-f2e8-4ed9-a3a8-d9df4997026f"
      },
      "execution_count": 13,
      "outputs": [
        {
          "output_type": "execute_result",
          "data": {
            "text/plain": [
              "1         Ivysaur\n",
              "4      Charmeleon\n",
              "7       Wartortle\n",
              "10        Metapod\n",
              "13         Kakuna\n",
              "16      Pidgeotto\n",
              "18        Rattata\n",
              "20        Spearow\n",
              "22          Ekans\n",
              "24        Pikachu\n",
              "26      Sandshrew\n",
              "29       Nidorina\n",
              "32       Nidorino\n",
              "34       Clefairy\n",
              "36         Vulpix\n",
              "38     Jigglypuff\n",
              "40          Zubat\n",
              "43          Gloom\n",
              "45          Paras\n",
              "47        Venonat\n",
              "49        Diglett\n",
              "51         Meowth\n",
              "53        Psyduck\n",
              "55         Mankey\n",
              "57      Growlithe\n",
              "60      Poliwhirl\n",
              "63        Kadabra\n",
              "66        Machoke\n",
              "69     Weepinbell\n",
              "71      Tentacool\n",
              "74       Graveler\n",
              "76         Ponyta\n",
              "78       Slowpoke\n",
              "80      Magnemite\n",
              "83          Doduo\n",
              "85           Seel\n",
              "87         Grimer\n",
              "89       Shellder\n",
              "92        Haunter\n",
              "95        Drowzee\n",
              "97         Krabby\n",
              "99        Voltorb\n",
              "101     Exeggcute\n",
              "103        Cubone\n",
              "108       Koffing\n",
              "110       Rhyhorn\n",
              "115        Horsea\n",
              "117       Goldeen\n",
              "119        Staryu\n",
              "128      Magikarp\n",
              "137       Omanyte\n",
              "139        Kabuto\n",
              "147     Dragonair\n",
              "Name: name, dtype: object"
            ]
          },
          "metadata": {},
          "execution_count": 13
        }
      ]
    },
    {
      "cell_type": "code",
      "source": [
        "# Get all Pokemons whose spawn time is less than 300 seconds\n",
        "df[\"spawn_time_less_then_300\"] = df[\"spawn_time\"].dropna().apply(lambda x: (int(x.split(\":\")[0]) * 60) +(int(x.split(\":\")[1]))) < 300"
      ],
      "metadata": {
        "id": "b8cJymKWj5Z0"
      },
      "execution_count": 14,
      "outputs": []
    },
    {
      "cell_type": "code",
      "source": [
        "df.loc[df[\"spawn_time_less_then_300\"] == True][\"name\"]"
      ],
      "metadata": {
        "colab": {
          "base_uri": "https://localhost:8080/"
        },
        "id": "b7d8cEYbkDLD",
        "outputId": "758893d0-5393-4c52-fc8e-25a500a2f27f"
      },
      "execution_count": 15,
      "outputs": [
        {
          "output_type": "execute_result",
          "data": {
            "text/plain": [
              "6       Squirtle\n",
              "8      Blastoise\n",
              "10       Metapod\n",
              "12        Weedle\n",
              "13        Kakuna\n",
              "         ...    \n",
              "127       Tauros\n",
              "129     Gyarados\n",
              "134      Jolteon\n",
              "136      Porygon\n",
              "139       Kabuto\n",
              "Name: name, Length: 75, dtype: object"
            ]
          },
          "metadata": {},
          "execution_count": 15
        }
      ]
    },
    {
      "cell_type": "code",
      "source": [
        "# Get all Pokemon who have more than two types of capabilities\n",
        "df[\"type\"] = df[\"type\"].apply(lambda x : ast.literal_eval(x))"
      ],
      "metadata": {
        "id": "qxjqM98zkGAr"
      },
      "execution_count": 16,
      "outputs": []
    },
    {
      "cell_type": "code",
      "source": [
        "df[df[\"type\"].apply(lambda x : len(x) > 2)][\"name\"]\n",
        "#There are no pokemon more than two types of capabilities"
      ],
      "metadata": {
        "colab": {
          "base_uri": "https://localhost:8080/"
        },
        "id": "FYIvTHMHkPIb",
        "outputId": "86e94cdd-da1c-4c77-b919-aa11b0bd3862"
      },
      "execution_count": 17,
      "outputs": [
        {
          "output_type": "execute_result",
          "data": {
            "text/plain": [
              "Series([], Name: name, dtype: object)"
            ]
          },
          "metadata": {},
          "execution_count": 17
        }
      ]
    }
  ]
}