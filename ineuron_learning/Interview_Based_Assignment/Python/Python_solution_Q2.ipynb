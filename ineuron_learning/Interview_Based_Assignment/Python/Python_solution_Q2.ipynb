{
  "nbformat": 4,
  "nbformat_minor": 0,
  "metadata": {
    "colab": {
      "provenance": []
    },
    "kernelspec": {
      "name": "python3",
      "display_name": "Python 3"
    },
    "language_info": {
      "name": "python"
    }
  },
  "cells": [
    {
      "cell_type": "markdown",
      "source": [
        "**Question 2: -**\n",
        "<br>Consider a string to be valid if all characters of the string appear the same number of times. It is also valid if he can remove just one character at the index in the string, and the remaining characters will occur the same\n",
        "number of times. Given a string, determine if it is valid. If so, return YES , otherwise return NO .\n",
        "\n",
        "**Note -** You have to write at least 2 additional test cases in which your program will run successfully and providean explanation for the same.\n",
        "<br>Example input 1 - s = “abc”. This is a valid string because frequencies are { “a”: 1, “b”: 1, “c”: 1 }\n",
        "<br>Example output 1- YES\n",
        "<br>Example input 2 - s “abcc”. This string is not valid as we can remove only 1 occurrence of “c”. That leaves character frequencies of { “a”: 1, “b”: 1 , “c”: 2 }\n",
        "<br>Example output 2 - NO"
      ],
      "metadata": {
        "id": "h8pQO-WAXFmL"
      }
    },
    {
      "cell_type": "markdown",
      "source": [
        "**Ans**"
      ],
      "metadata": {
        "id": "UOCHu6zPXKuC"
      }
    },
    {
      "cell_type": "code",
      "execution_count": 1,
      "metadata": {
        "id": "mt3zlQ9gXBTn"
      },
      "outputs": [],
      "source": [
        "def is_valid(s):\n",
        "    freq = {}\n",
        "    for char in s:\n",
        "        if char in freq:\n",
        "            freq[char] += 1\n",
        "        else:\n",
        "            freq[char] = 1\n",
        "    values = list(freq.values())\n",
        "    values.sort()\n",
        "    unique_values = set(values)\n",
        "    \n",
        "    if len(unique_values) == 1:\n",
        "        return \"YES\"\n",
        "    elif len(unique_values) == 2:\n",
        "        if values.count(values[0]) == 1 and values[0] == 1:\n",
        "            return \"YES\"\n",
        "        elif values.count(values[-1]) == 1 and values[-2] == values[-1] - 1:\n",
        "            return \"NO\"  \n",
        "    \n",
        "    return \"NO\""
      ]
    },
    {
      "cell_type": "code",
      "source": [
        "# Example input 1\n",
        "s = \"abc\"\n",
        "print(is_valid(s)) "
      ],
      "metadata": {
        "colab": {
          "base_uri": "https://localhost:8080/"
        },
        "id": "WKmZhmULXQrp",
        "outputId": "0f4ca166-bf75-4c30-aec7-83a4f98364f6"
      },
      "execution_count": 2,
      "outputs": [
        {
          "output_type": "stream",
          "name": "stdout",
          "text": [
            "YES\n"
          ]
        }
      ]
    },
    {
      "cell_type": "code",
      "source": [
        "# Example input 2\n",
        "s = \"abcc\"\n",
        "print(is_valid(s))  "
      ],
      "metadata": {
        "colab": {
          "base_uri": "https://localhost:8080/"
        },
        "id": "UCChfwjbXT6X",
        "outputId": "fdf0965e-7abc-4c3e-c6c8-924a1bb2de01"
      },
      "execution_count": 3,
      "outputs": [
        {
          "output_type": "stream",
          "name": "stdout",
          "text": [
            "NO\n"
          ]
        }
      ]
    },
    {
      "cell_type": "code",
      "source": [
        "# Additional Test Cases 1\n",
        "s = \"aabbbcc\"\n",
        "print(is_valid(s))  "
      ],
      "metadata": {
        "colab": {
          "base_uri": "https://localhost:8080/"
        },
        "id": "E2U-oPYLXa5f",
        "outputId": "cf3fb955-ee41-47ae-9f80-f589ea3f11d5"
      },
      "execution_count": 4,
      "outputs": [
        {
          "output_type": "stream",
          "name": "stdout",
          "text": [
            "NO\n"
          ]
        }
      ]
    },
    {
      "cell_type": "code",
      "source": [
        "# Additional Test Cases 2\n",
        "s = \"aabbcc\"\n",
        "print(is_valid(s))"
      ],
      "metadata": {
        "colab": {
          "base_uri": "https://localhost:8080/"
        },
        "id": "Ib4_aB3LXdq3",
        "outputId": "01682975-854d-4977-aec0-9dc802042ef2"
      },
      "execution_count": 5,
      "outputs": [
        {
          "output_type": "stream",
          "name": "stdout",
          "text": [
            "YES\n"
          ]
        }
      ]
    }
  ]
}