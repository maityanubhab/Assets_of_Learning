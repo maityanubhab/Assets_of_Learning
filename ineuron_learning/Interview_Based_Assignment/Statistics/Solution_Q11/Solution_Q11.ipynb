{
 "cells": [
  {
   "cell_type": "raw",
   "id": "a99e5b9e",
   "metadata": {},
   "source": [
    "Q-11. Given the data of a feature contributing to different classes\n",
    "\n",
    "https://drive.google.com/file/d/1mCjtYHiX--mMUjicuaP2gH3k-SnFxt8Y/view?usp=share_\n",
    "\n",
    "a. Check whether the distribution of all the classes are the same or not.\n",
    "b. Check for the equality of variance.\n",
    "c. Which amount LDA and QDA would perform better on this data for classification and why.\n",
    "d. Check the equality of mean for between all the classes."
   ]
  },
  {
   "cell_type": "markdown",
   "id": "e1a3c9f4",
   "metadata": {},
   "source": [
    "**a. Check whether the distribution of all the classes are the same or not.**"
   ]
  },
  {
   "cell_type": "markdown",
   "id": "af28e6f8",
   "metadata": {},
   "source": [
    "**Ans**\n",
    "<br>To check whether the distribution of all the classes (before and after blood pressure) is the same or not, we can use the Kolmogorov-Smirnov test. The Kolmogorov-Smirnov test is a non-parametric statistical test that compares the cumulative distribution functions of two samples to determine if they come from the same distribution."
   ]
  },
  {
   "cell_type": "code",
   "execution_count": 1,
   "id": "3ad32267",
   "metadata": {},
   "outputs": [],
   "source": [
    "# importing necessary libraries\n",
    "import pandas as pd\n",
    "import scipy.stats as stats"
   ]
  },
  {
   "cell_type": "code",
   "execution_count": 3,
   "id": "c3a89851",
   "metadata": {},
   "outputs": [],
   "source": [
    "# Read the CSV file\n",
    "data = pd.read_csv('data.csv')"
   ]
  },
  {
   "cell_type": "code",
   "execution_count": 4,
   "id": "9e796b8a",
   "metadata": {},
   "outputs": [],
   "source": [
    "# Extract the 'Blood Pressure Before' and 'Blood Pressure After' columns\n",
    "before = data[' Blood Pressure Before (mmHg)']\n",
    "after = data[' Blood Pressure After (mmHg)']"
   ]
  },
  {
   "cell_type": "code",
   "execution_count": 5,
   "id": "1b3db400",
   "metadata": {},
   "outputs": [],
   "source": [
    "# Perform the Kolmogorov-Smirnov test\n",
    "statistic, p_value = stats.ks_2samp(before, after)"
   ]
  },
  {
   "cell_type": "code",
   "execution_count": 6,
   "id": "fec78e71",
   "metadata": {},
   "outputs": [],
   "source": [
    "# Set the significance level\n",
    "alpha = 0.05"
   ]
  },
  {
   "cell_type": "code",
   "execution_count": 7,
   "id": "1dc2b038",
   "metadata": {},
   "outputs": [
    {
     "name": "stdout",
     "output_type": "stream",
     "text": [
      "Kolmogorov-Smirnov Test Results:\n",
      "Statistic: 0.36\n",
      "p-value: 3.751914289152195e-06\n",
      "The distribution of the blood pressure values is not the same for before and after.\n"
     ]
    }
   ],
   "source": [
    "# Print the results\n",
    "print(\"Kolmogorov-Smirnov Test Results:\")\n",
    "print(\"Statistic:\", statistic)\n",
    "print(\"p-value:\", p_value)\n",
    "\n",
    "if p_value < alpha:\n",
    "    print(\"The distribution of the blood pressure values is not the same for before and after.\")\n",
    "else:\n",
    "    print(\"The distribution of the blood pressure values is the same for before and after.\")"
   ]
  },
  {
   "cell_type": "markdown",
   "id": "38b0b7d3",
   "metadata": {},
   "source": [
    "**b. Check for the equality of variance.**"
   ]
  },
  {
   "cell_type": "markdown",
   "id": "e23ced57",
   "metadata": {},
   "source": [
    "**Ans**\n",
    "<br>To check for the equality of variance between the 'Blood Pressure Before' and 'Blood Pressure After' groups, we can use Levene's test. Levene's test is a statistical test that compares the variances of two or more groups to determine if they are significantly different."
   ]
  },
  {
   "cell_type": "code",
   "execution_count": 8,
   "id": "11215777",
   "metadata": {},
   "outputs": [],
   "source": [
    "# Perform Levene's test\n",
    "statistic, p_value = stats.levene(before, after)"
   ]
  },
  {
   "cell_type": "code",
   "execution_count": 9,
   "id": "cc170b36",
   "metadata": {},
   "outputs": [],
   "source": [
    "# Set the significance level\n",
    "alpha = 0.05"
   ]
  },
  {
   "cell_type": "code",
   "execution_count": 10,
   "id": "5c79d0f7",
   "metadata": {},
   "outputs": [
    {
     "name": "stdout",
     "output_type": "stream",
     "text": [
      "Levene's Test Results:\n",
      "Statistic: 0.18038002140150966\n",
      "p-value: 0.6715080090945376\n",
      "The variances of the blood pressure values are not significantly different.\n"
     ]
    }
   ],
   "source": [
    "# Print the results\n",
    "print(\"Levene's Test Results:\")\n",
    "print(\"Statistic:\", statistic)\n",
    "print(\"p-value:\", p_value)\n",
    "\n",
    "if p_value < alpha:\n",
    "    print(\"The variances of the blood pressure values are significantly different.\")\n",
    "else:\n",
    "    print(\"The variances of the blood pressure values are not significantly different.\")"
   ]
  },
  {
   "cell_type": "markdown",
   "id": "15c15119",
   "metadata": {},
   "source": [
    "**c. Which amount LDA and QDA would perform better on this data for classification and why.**"
   ]
  },
  {
   "cell_type": "code",
   "execution_count": 11,
   "id": "c6e90dca",
   "metadata": {},
   "outputs": [],
   "source": [
    "# import necessary libraries\n",
    "from sklearn.discriminant_analysis import LinearDiscriminantAnalysis, QuadraticDiscriminantAnalysis\n",
    "from sklearn.model_selection import train_test_split\n",
    "from sklearn.metrics import accuracy_score"
   ]
  },
  {
   "cell_type": "markdown",
   "id": "d95b78b5",
   "metadata": {},
   "source": [
    "To determine whether Linear Discriminant Analysis (LDA) or Quadratic Discriminant Analysis (QDA) would perform better for classification on this data, we need labeled data with known classes or targets. LDA and QDA are both supervised classification methods that require labeled data to train and evaluate their performance.\n",
    "\n",
    "LDA and QDA differ in their assumptions about the distribution of the data. LDA assumes that the classes have a common covariance matrix, meaning they have equal variances and are linearly separable. On the other hand, QDA relaxes the assumption of a common covariance matrix and allows for different variances within each class, making it more flexible and capable of capturing more complex decision boundaries.\n",
    "\n",
    "To determine which method would perform better, we can follow these steps:\n",
    "\n",
    "<br>1. Split your data into a training set and a test set. The training set will be used to train the LDA and QDA models, and the test set will be used to evaluate their performance.\n",
    "\n",
    "<br>2. Train an LDA model on the training set and a QDA model on the same training set.\n",
    "\n",
    "<br>3. Use the trained models to make predictions on the test set.\n",
    "\n",
    "<br>4. Evaluate the performance of both models using appropriate evaluation metrics such as accuracy, precision, recall, F1-score, or area under the ROC curve.\n",
    "\n",
    "<br>5. Compare the performance of LDA and QDA based on the evaluation metrics. The model with higher accuracy or other relevant metrics can be considered as performing better on the given data.\n",
    "\n",
    "<br>6. Additionally, consider the assumptions of LDA and QDA and the nature of your data. If the data is more likely to follow a linear separation pattern, LDA may perform better. If the data has more complex decision boundaries and varying variances within classes, QDA may perform better."
   ]
  },
  {
   "cell_type": "markdown",
   "id": "002f466e",
   "metadata": {},
   "source": [
    "**d. Check the equality of mean for between all the classes.**"
   ]
  },
  {
   "cell_type": "code",
   "execution_count": 12,
   "id": "b982dd03",
   "metadata": {},
   "outputs": [],
   "source": [
    "# Perform the ANOVA test\n",
    "_, p_value = stats.f_oneway(before,after)"
   ]
  },
  {
   "cell_type": "code",
   "execution_count": 13,
   "id": "73013513",
   "metadata": {},
   "outputs": [],
   "source": [
    "alpha = 0.05  # significance level"
   ]
  },
  {
   "cell_type": "code",
   "execution_count": 14,
   "id": "5e4c8bdb",
   "metadata": {},
   "outputs": [
    {
     "name": "stdout",
     "output_type": "stream",
     "text": [
      "There is a significant difference in means between the classes.\n"
     ]
    }
   ],
   "source": [
    "# Check the p-value to determine the equality of means\n",
    "if p_value < alpha:\n",
    "    print(\"There is a significant difference in means between the classes.\")\n",
    "else:\n",
    "    print(\"There is no significant difference in means between the classes.\")"
   ]
  }
 ],
 "metadata": {
  "kernelspec": {
   "display_name": "Python 3 (ipykernel)",
   "language": "python",
   "name": "python3"
  },
  "language_info": {
   "codemirror_mode": {
    "name": "ipython",
    "version": 3
   },
   "file_extension": ".py",
   "mimetype": "text/x-python",
   "name": "python",
   "nbconvert_exporter": "python",
   "pygments_lexer": "ipython3",
   "version": "3.9.12"
  }
 },
 "nbformat": 4,
 "nbformat_minor": 5
}
