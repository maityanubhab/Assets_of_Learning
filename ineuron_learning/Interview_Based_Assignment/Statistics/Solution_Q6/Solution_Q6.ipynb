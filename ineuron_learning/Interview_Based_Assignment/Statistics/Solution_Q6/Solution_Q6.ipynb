{
 "cells": [
  {
   "cell_type": "markdown",
   "id": "534bb36b",
   "metadata": {},
   "source": [
    "**Q-6. A pharmaceutical company is developing a drug that is supposed to reduce blood pressure. They conduct a clinical trial with 100 patients and record their blood pressure before and after taking the drug. The company wants to know if the change in blood pressure follows a normal distribution.**\n",
    "\n",
    "https://drive.google.com/file/d/1mCjtYHiX--mMUjicuaP2gH3k-SnFxt8Y/view?usp=share_"
   ]
  },
  {
   "cell_type": "markdown",
   "id": "35cf4d45",
   "metadata": {},
   "source": [
    "**Ans** \n",
    "<br>To determine if the change in blood pressure follows a normal distribution, we can use the Shapiro-Wilk test, which is a commonly used statistical test for normality. The Shapiro-Wilk test assesses the null hypothesis that a given dataset follows a normal distribution."
   ]
  },
  {
   "cell_type": "code",
   "execution_count": 1,
   "id": "707c00ed",
   "metadata": {},
   "outputs": [],
   "source": [
    "#import necessary libraries\n",
    "import pandas as pd\n",
    "import scipy.stats as stats"
   ]
  },
  {
   "cell_type": "code",
   "execution_count": 2,
   "id": "32228fc7",
   "metadata": {},
   "outputs": [],
   "source": [
    "# Read the CSV file\n",
    "data = pd.read_csv('data.csv')"
   ]
  },
  {
   "cell_type": "code",
   "execution_count": 3,
   "id": "5795c716",
   "metadata": {},
   "outputs": [],
   "source": [
    "# Extract the 'Blood Pressure Before' and 'Blood Pressure After' columns\n",
    "before = data[' Blood Pressure Before (mmHg)']\n",
    "after = data[' Blood Pressure After (mmHg)']"
   ]
  },
  {
   "cell_type": "code",
   "execution_count": 4,
   "id": "822dfa3a",
   "metadata": {},
   "outputs": [],
   "source": [
    "# Perform Shapiro-Wilk test for 'Blood Pressure Change'\n",
    "blood_pressure_change = after - before\n",
    "statistic, p_value = stats.shapiro(blood_pressure_change)"
   ]
  },
  {
   "cell_type": "code",
   "execution_count": 5,
   "id": "97d125e8",
   "metadata": {},
   "outputs": [],
   "source": [
    "# Set the significance level\n",
    "alpha = 0.05"
   ]
  },
  {
   "cell_type": "code",
   "execution_count": 6,
   "id": "40a0ab90",
   "metadata": {},
   "outputs": [
    {
     "name": "stdout",
     "output_type": "stream",
     "text": [
      "Shapiro-Wilk Test Results for Blood Pressure Change:\n",
      "Statistic: 0.953819990158081\n",
      "p-value: 0.0014938802924007177\n",
      "The blood pressure change data does not follow a normal distribution.\n"
     ]
    }
   ],
   "source": [
    "# Print the results\n",
    "print(\"Shapiro-Wilk Test Results for Blood Pressure Change:\")\n",
    "print(\"Statistic:\", statistic)\n",
    "print(\"p-value:\", p_value)\n",
    "\n",
    "if p_value > alpha:\n",
    "    print(\"The blood pressure change data follows a normal distribution.\")\n",
    "else:\n",
    "    print(\"The blood pressure change data does not follow a normal distribution.\")"
   ]
  }
 ],
 "metadata": {
  "kernelspec": {
   "display_name": "Python 3 (ipykernel)",
   "language": "python",
   "name": "python3"
  },
  "language_info": {
   "codemirror_mode": {
    "name": "ipython",
    "version": 3
   },
   "file_extension": ".py",
   "mimetype": "text/x-python",
   "name": "python",
   "nbconvert_exporter": "python",
   "pygments_lexer": "ipython3",
   "version": "3.9.12"
  }
 },
 "nbformat": 4,
 "nbformat_minor": 5
}
