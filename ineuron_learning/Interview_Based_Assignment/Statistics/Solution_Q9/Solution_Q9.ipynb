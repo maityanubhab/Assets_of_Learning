{
 "cells": [
  {
   "cell_type": "markdown",
   "id": "2d20860a",
   "metadata": {},
   "source": [
    "**Q-9. Given the score of students in multiple exams Test the hypothesis that the mean scores of all the students are the same. If not, name the student with the highest score.**"
   ]
  },
  {
   "cell_type": "markdown",
   "id": "3ef9d42c",
   "metadata": {},
   "source": [
    "**Ans**\n",
    "<br>To test the hypothesis that the mean scores of all the students are the same, we can use a one-way analysis of variance (ANOVA) test. The ANOVA test compares the means of multiple groups to determine if there are any significant differences among them."
   ]
  },
  {
   "cell_type": "code",
   "execution_count": 1,
   "id": "ad306c0e",
   "metadata": {},
   "outputs": [],
   "source": [
    "# import necessary libraries\n",
    "import pandas as pd\n",
    "import scipy.stats as stats"
   ]
  },
  {
   "cell_type": "code",
   "execution_count": 2,
   "id": "3f22fae3",
   "metadata": {},
   "outputs": [],
   "source": [
    "# Create a DataFrame with the given data\n",
    "data = pd.DataFrame({\n",
    "    'Name': ['Karan', 'Deepa', 'Karthik', 'Chandan', 'Jeevan'],\n",
    "    'Exam1': [85, 70, 90, 75, 95],\n",
    "    'Exam2': [90, 80, 85, 70, 92],\n",
    "    'Final Exam': [92, 85, 88, 75, 96]\n",
    "})"
   ]
  },
  {
   "cell_type": "code",
   "execution_count": 3,
   "id": "8e50694c",
   "metadata": {},
   "outputs": [],
   "source": [
    "# Perform one-way ANOVA test\n",
    "statistic, p_value = stats.f_oneway(data['Exam1'], data['Exam2'], data['Final Exam'])"
   ]
  },
  {
   "cell_type": "code",
   "execution_count": 4,
   "id": "93d9f734",
   "metadata": {},
   "outputs": [],
   "source": [
    "# Set the significance level\n",
    "alpha = 0.05"
   ]
  },
  {
   "cell_type": "code",
   "execution_count": 5,
   "id": "12f070c8",
   "metadata": {},
   "outputs": [
    {
     "name": "stdout",
     "output_type": "stream",
     "text": [
      "One-Way ANOVA Test Results:\n",
      "Statistic: 0.3236947791164659\n",
      "p-value: 0.7295954253321559\n",
      "The mean scores of all the students are the same.\n"
     ]
    }
   ],
   "source": [
    "# Print the results\n",
    "print(\"One-Way ANOVA Test Results:\")\n",
    "print(\"Statistic:\", statistic)\n",
    "print(\"p-value:\", p_value)\n",
    "\n",
    "if p_value < alpha:\n",
    "    print(\"The mean scores of all the students are not the same.\")\n",
    "    # Identify the student with the highest score\n",
    "    max_score_student = data['Name'][data[['Exam1', 'Exam2', 'Final Exam']].sum(axis=1).idxmax()]\n",
    "    print(\"Student with the highest score:\", max_score_student)\n",
    "else:\n",
    "    print(\"The mean scores of all the students are the same.\")"
   ]
  }
 ],
 "metadata": {
  "kernelspec": {
   "display_name": "Python 3 (ipykernel)",
   "language": "python",
   "name": "python3"
  },
  "language_info": {
   "codemirror_mode": {
    "name": "ipython",
    "version": 3
   },
   "file_extension": ".py",
   "mimetype": "text/x-python",
   "name": "python",
   "nbconvert_exporter": "python",
   "pygments_lexer": "ipython3",
   "version": "3.9.12"
  }
 },
 "nbformat": 4,
 "nbformat_minor": 5
}
