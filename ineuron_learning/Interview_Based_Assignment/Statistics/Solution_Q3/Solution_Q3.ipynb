{
 "cells": [
  {
   "cell_type": "markdown",
   "id": "e9859576",
   "metadata": {},
   "source": [
    "Q-3. Consider the ‘Blood Pressure Before’ and ‘Blood Pressure After’ columns from the\n",
    "data and calculate the following\n",
    "\n",
    "https://drive.google.com/file/d/1mCjtYHiX--mMUjicuaP2gH3k-SnFxt8Y/view?usp=share_\n",
    "a. Measure the dispersion in both and interpret the results.\n",
    "b. Calculate mean and 5% confidence interval and plot it in a graph\n",
    "c. Calculate the Mean absolute deviation and Standard deviation and interpret\n",
    "the results.\n",
    "d. Calculate the correlation coefficient and check the significance of it at 1% level\n",
    "of significance.\n"
   ]
  },
  {
   "cell_type": "markdown",
   "id": "2b9e8600",
   "metadata": {},
   "source": [
    "**a. Measure the dispersion in both and interpret the results.**"
   ]
  },
  {
   "cell_type": "code",
   "execution_count": 1,
   "id": "386a61dc",
   "metadata": {},
   "outputs": [],
   "source": [
    "# import necessary libraries \n",
    "import pandas as pd\n",
    "import numpy as np"
   ]
  },
  {
   "cell_type": "code",
   "execution_count": 2,
   "id": "a84fc190",
   "metadata": {},
   "outputs": [],
   "source": [
    "# Read the CSV file\n",
    "data = pd.read_csv('data.csv')"
   ]
  },
  {
   "cell_type": "code",
   "execution_count": 3,
   "id": "51e95c2c",
   "metadata": {},
   "outputs": [
    {
     "data": {
      "text/html": [
       "<div>\n",
       "<style scoped>\n",
       "    .dataframe tbody tr th:only-of-type {\n",
       "        vertical-align: middle;\n",
       "    }\n",
       "\n",
       "    .dataframe tbody tr th {\n",
       "        vertical-align: top;\n",
       "    }\n",
       "\n",
       "    .dataframe thead th {\n",
       "        text-align: right;\n",
       "    }\n",
       "</style>\n",
       "<table border=\"1\" class=\"dataframe\">\n",
       "  <thead>\n",
       "    <tr style=\"text-align: right;\">\n",
       "      <th></th>\n",
       "      <th>Patient ID</th>\n",
       "      <th>Blood Pressure Before (mmHg)</th>\n",
       "      <th>Blood Pressure After (mmHg)</th>\n",
       "    </tr>\n",
       "  </thead>\n",
       "  <tbody>\n",
       "    <tr>\n",
       "      <th>0</th>\n",
       "      <td>1</td>\n",
       "      <td>130</td>\n",
       "      <td>120</td>\n",
       "    </tr>\n",
       "    <tr>\n",
       "      <th>1</th>\n",
       "      <td>2</td>\n",
       "      <td>142</td>\n",
       "      <td>135</td>\n",
       "    </tr>\n",
       "    <tr>\n",
       "      <th>2</th>\n",
       "      <td>3</td>\n",
       "      <td>120</td>\n",
       "      <td>118</td>\n",
       "    </tr>\n",
       "    <tr>\n",
       "      <th>3</th>\n",
       "      <td>4</td>\n",
       "      <td>135</td>\n",
       "      <td>127</td>\n",
       "    </tr>\n",
       "    <tr>\n",
       "      <th>4</th>\n",
       "      <td>5</td>\n",
       "      <td>148</td>\n",
       "      <td>140</td>\n",
       "    </tr>\n",
       "  </tbody>\n",
       "</table>\n",
       "</div>"
      ],
      "text/plain": [
       "   Patient ID   Blood Pressure Before (mmHg)   Blood Pressure After (mmHg)\n",
       "0           1                            130                           120\n",
       "1           2                            142                           135\n",
       "2           3                            120                           118\n",
       "3           4                            135                           127\n",
       "4           5                            148                           140"
      ]
     },
     "execution_count": 3,
     "metadata": {},
     "output_type": "execute_result"
    }
   ],
   "source": [
    "data.head()"
   ]
  },
  {
   "cell_type": "code",
   "execution_count": 8,
   "id": "4998cbe2",
   "metadata": {},
   "outputs": [
    {
     "name": "stdout",
     "output_type": "stream",
     "text": [
      "<class 'pandas.core.frame.DataFrame'>\n",
      "RangeIndex: 100 entries, 0 to 99\n",
      "Data columns (total 3 columns):\n",
      " #   Column                         Non-Null Count  Dtype\n",
      "---  ------                         --------------  -----\n",
      " 0   Patient ID                     100 non-null    int64\n",
      " 1    Blood Pressure Before (mmHg)  100 non-null    int64\n",
      " 2    Blood Pressure After (mmHg)   100 non-null    int64\n",
      "dtypes: int64(3)\n",
      "memory usage: 2.5 KB\n"
     ]
    }
   ],
   "source": [
    "data.info()"
   ]
  },
  {
   "cell_type": "code",
   "execution_count": 9,
   "id": "84142319",
   "metadata": {},
   "outputs": [],
   "source": [
    "# Extract the 'Blood Pressure Before' and 'Blood Pressure After' columns\n",
    "before = data[' Blood Pressure Before (mmHg)']\n",
    "after = data[' Blood Pressure After (mmHg)']"
   ]
  },
  {
   "cell_type": "code",
   "execution_count": 10,
   "id": "02e14e3d",
   "metadata": {},
   "outputs": [],
   "source": [
    "# Calculate the dispersion measures for 'Blood Pressure Before'\n",
    "before_range = max(before) - min(before)\n",
    "before_variance = np.var(before)\n",
    "before_std = np.std(before)"
   ]
  },
  {
   "cell_type": "code",
   "execution_count": 11,
   "id": "463f0a2d",
   "metadata": {},
   "outputs": [],
   "source": [
    "# Calculate the dispersion measures for 'Blood Pressure After'\n",
    "after_range = max(after) - min(after)\n",
    "after_variance = np.var(after)\n",
    "after_std = np.std(after)"
   ]
  },
  {
   "cell_type": "code",
   "execution_count": 12,
   "id": "f89dd7b7",
   "metadata": {},
   "outputs": [
    {
     "name": "stdout",
     "output_type": "stream",
     "text": [
      "Dispersion measures for 'Blood Pressure Before':\n",
      "Range: 28\n",
      "Variance: 43.10189999999998\n",
      "Standard Deviation: 6.5652037287505385\n",
      "\n",
      "Dispersion measures for 'Blood Pressure After':\n",
      "Range: 23\n",
      "Variance: 46.97040000000002\n",
      "Standard Deviation: 6.853495458523338\n"
     ]
    }
   ],
   "source": [
    "# Print the results\n",
    "print(\"Dispersion measures for 'Blood Pressure Before':\")\n",
    "print(\"Range:\", before_range)\n",
    "print(\"Variance:\", before_variance)\n",
    "print(\"Standard Deviation:\", before_std)\n",
    "\n",
    "print(\"\\nDispersion measures for 'Blood Pressure After':\")\n",
    "print(\"Range:\", after_range)\n",
    "print(\"Variance:\", after_variance)\n",
    "print(\"Standard Deviation:\", after_std)"
   ]
  },
  {
   "cell_type": "markdown",
   "id": "b7281e77",
   "metadata": {},
   "source": [
    "# Interpretation\n",
    "**Range:**\n",
    "The range for \"Blood Pressure Before\" is 28, and for \"Blood Pressure After\" is 23. The range represents the difference between the highest and lowest values in the dataset. In this case, it suggests that the blood pressure values have a narrower range after the intervention compared to before.\n",
    "\n",
    "**Variance:**\n",
    "The variance for \"Blood Pressure Before\" is 43.1019, and for \"Blood Pressure After\" is 46.9704. Variance measures the average squared deviation from the mean, indicating the spread of the values. In this scenario, the variance for \"Blood Pressure After\" is slightly higher than that of \"Blood Pressure Before,\" implying that the blood pressure values have a slightly greater spread or variability after the intervention.\n",
    "\n",
    "**Standard Deviation:**\n",
    "The standard deviation for \"Blood Pressure Before\" is 6.5652, and for \"Blood Pressure After\" is 6.8535. The standard deviation represents the dispersion of values from the mean, with a higher value indicating greater dispersion. In this case, both standard deviations are similar, indicating comparable levels of dispersion in blood pressure values before and after the intervention."
   ]
  },
  {
   "cell_type": "markdown",
   "id": "1110ce04",
   "metadata": {},
   "source": [
    "**b. Calculate mean and 5% confidence interval and plot it in a graph**"
   ]
  },
  {
   "cell_type": "code",
   "execution_count": 13,
   "id": "591cdf12",
   "metadata": {},
   "outputs": [],
   "source": [
    "# import necessary libraries\n",
    "import matplotlib.pyplot as plt\n",
    "import scipy.stats as stats"
   ]
  },
  {
   "cell_type": "code",
   "execution_count": 14,
   "id": "4a3017cd",
   "metadata": {},
   "outputs": [],
   "source": [
    "# Calculate the mean\n",
    "before_mean = np.mean(before)\n",
    "after_mean = np.mean(after)"
   ]
  },
  {
   "cell_type": "code",
   "execution_count": 15,
   "id": "018ebc45",
   "metadata": {},
   "outputs": [],
   "source": [
    "# Calculate the 5% confidence interval\n",
    "before_ci = stats.t.interval(0.95, len(before)-1, loc=before_mean, scale=stats.sem(before))\n",
    "after_ci = stats.t.interval(0.95, len(after)-1, loc=after_mean, scale=stats.sem(after))"
   ]
  },
  {
   "cell_type": "code",
   "execution_count": 16,
   "id": "76d69a4d",
   "metadata": {},
   "outputs": [
    {
     "data": {
      "image/png": "[encoded data removed]",
      "text/plain": [
       "<Figure size 432x288 with 1 Axes>"
      ]
     },
     "metadata": {
      "needs_background": "light"
     },
     "output_type": "display_data"
    }
   ],
   "source": [
    "# Plot the means and confidence intervals\n",
    "plt.errorbar(['Before', 'After'], [before_mean, after_mean], yerr=[before_mean - before_ci[0], after_mean - after_ci[0]], fmt='o', capsize=5)\n",
    "plt.ylabel('Blood Pressure')\n",
    "plt.title('Mean and 5% Confidence Interval')\n",
    "plt.show()"
   ]
  },
  {
   "cell_type": "markdown",
   "id": "b8d54575",
   "metadata": {},
   "source": [
    "**c. Calculate the Mean absolute deviation and Standard deviation and interpret the results.**"
   ]
  },
  {
   "cell_type": "code",
   "execution_count": 17,
   "id": "af6f2323",
   "metadata": {},
   "outputs": [],
   "source": [
    "# Calculate the Mean Absolute Deviation (MAD)\n",
    "before_mad = np.mean(np.abs(before - np.mean(before)))\n",
    "after_mad = np.mean(np.abs(after - np.mean(after)))"
   ]
  },
  {
   "cell_type": "code",
   "execution_count": 18,
   "id": "e57e1dbb",
   "metadata": {},
   "outputs": [],
   "source": [
    "# Calculate the Standard Deviation (SD)\n",
    "before_sd = np.std(before)\n",
    "after_sd = np.std(after)"
   ]
  },
  {
   "cell_type": "code",
   "execution_count": 19,
   "id": "8c50ea70",
   "metadata": {},
   "outputs": [
    {
     "name": "stdout",
     "output_type": "stream",
     "text": [
      "Mean Absolute Deviation (MAD):\n",
      "Before: 5.7118\n",
      "After: 5.9\n",
      "\n",
      "Standard Deviation (SD):\n",
      "Before: 6.5652037287505385\n",
      "After: 6.853495458523338\n"
     ]
    }
   ],
   "source": [
    "# Print the results\n",
    "print(\"Mean Absolute Deviation (MAD):\")\n",
    "print(\"Before:\", before_mad)\n",
    "print(\"After:\", after_mad)\n",
    "\n",
    "print(\"\\nStandard Deviation (SD):\")\n",
    "print(\"Before:\", before_sd)\n",
    "print(\"After:\", after_sd)"
   ]
  },
  {
   "cell_type": "markdown",
   "id": "d4c50947",
   "metadata": {},
   "source": [
    "**Mean Absolute Deviation (MAD):**\n",
    "The MAD measures the average absolute deviation of each data point from the mean. It provides an indication of the average distance between each data point and the mean, disregarding the direction of deviations.\n",
    "\n",
    "For \"Blood Pressure Before,\" the MAD is 5.7118, while for \"Blood Pressure After,\" the MAD is 5.9. These values indicate the average absolute deviation from the mean for each group. Comparing the MAD values, we can observe that the average deviation from the mean is slightly higher in the \"Blood Pressure After\" group compared to the \"Blood Pressure Before\" group.\n",
    "\n",
    "**Standard Deviation (SD):**\n",
    "The SD measures the typical or average deviation of data points from the mean, taking into account the direction and magnitude of deviations.\n",
    "\n",
    "For \"Blood Pressure Before,\" the SD is 6.5652, while for \"Blood Pressure After,\" the SD is 6.8535. These values represent the standard deviation of the data in each group. Comparing the SD values, we can see that the standard deviation is slightly higher in the \"Blood Pressure After\" group compared to the \"Blood Pressure Before\" group.\n",
    "\n",
    "**Interpretation:**\n",
    "Based on these results, both the MAD and SD suggest a certain level of variability or spread in the blood pressure values.\n",
    "\n",
    "The MAD values indicate that, on average, the blood pressure values in both groups deviate from their respective means by approximately 5.7 to 5.9 units. This suggests a moderate amount of dispersion or variability around the mean blood pressure values for both \"Blood Pressure Before\" and \"Blood Pressure After.\"\n",
    "\n",
    "Similarly, the SD values confirm the presence of variability in the data, with values around 6.6 to 6.9 units. These results indicate that the blood pressure values in both groups exhibit a moderate spread or dispersion from their means.\n",
    "\n",
    "Comparing the MAD and SD values between the two groups, there is a slight increase in both measures in the \"Blood Pressure After\" group compared to the \"Blood Pressure Before\" group. This suggests a slightly larger average deviation and spread of blood pressure values after the intervention compared to before."
   ]
  },
  {
   "cell_type": "markdown",
   "id": "398fc0bb",
   "metadata": {},
   "source": [
    "**d. Calculate the correlation coefficient and check the significance of it at 1% level of significance.**"
   ]
  },
  {
   "cell_type": "code",
   "execution_count": 20,
   "id": "8bafc859",
   "metadata": {},
   "outputs": [],
   "source": [
    "# Calculate the correlation coefficient\n",
    "corr_coef, p_value = stats.pearsonr(before, after)"
   ]
  },
  {
   "cell_type": "code",
   "execution_count": 21,
   "id": "e3e46c54",
   "metadata": {},
   "outputs": [],
   "source": [
    "# Check significance at 1% level\n",
    "alpha = 0.01\n",
    "if p_value < alpha:\n",
    "    significance = \"Significant\"\n",
    "else:\n",
    "    significance = \"Not significant\""
   ]
  },
  {
   "cell_type": "code",
   "execution_count": 24,
   "id": "307bae9d",
   "metadata": {},
   "outputs": [
    {
     "name": "stdout",
     "output_type": "stream",
     "text": [
      "Correlation Coefficient: 0.9779485966556017\n",
      "p_value: 1.8097381433072956e-68\n",
      "Significance: Significant\n"
     ]
    }
   ],
   "source": [
    "# Print the correlation coefficient and significance\n",
    "print(\"Correlation Coefficient:\", corr_coef)\n",
    "print(\"p_value:\", p_value)\n",
    "print(\"Significance:\", significance)"
   ]
  }
 ],
 "metadata": {
  "kernelspec": {
   "display_name": "Python 3 (ipykernel)",
   "language": "python",
   "name": "python3"
  },
  "language_info": {
   "codemirror_mode": {
    "name": "ipython",
    "version": 3
   },
   "file_extension": ".py",
   "mimetype": "text/x-python",
   "name": "python",
   "nbconvert_exporter": "python",
   "pygments_lexer": "ipython3",
   "version": "3.9.12"
  }
 },
 "nbformat": 4,
 "nbformat_minor": 5
}
