{
  "cells": [
    {
      "cell_type": "markdown",
      "id": "06f10b11-8e8d-4a78-af31-42d3d40bacc8",
      "metadata": {
        "id": "06f10b11-8e8d-4a78-af31-42d3d40bacc8"
      },
      "source": [
        "# Assignment 15 Solution"
      ]
    },
    {
      "cell_type": "markdown",
      "id": "73a21c29-a4db-4658-8de9-2c72461044d3",
      "metadata": {
        "id": "73a21c29-a4db-4658-8de9-2c72461044d3"
      },
      "source": [
        "**1. Deep Learning.**\n",
        "\n",
        "**a. Build a DNN with five hidden layers of 100 neurons each, He initialization, and the ELU activation function.**\n",
        "\n",
        "**b. Using Adam optimization and early stopping, try training it on MNIST but only on digits 0 to 4, as we will use transfer learning for digits 5 to 9 in the next exercise. You will need a softmax output layer with five neurons, and as always make sure to save checkpoints at regular intervals and save the final model so you can reuse it later.**\n",
        "\n",
        "**c. Tune the hyperparameters using cross-validation and see what precision you can achieve.**\n",
        "\n",
        "**d. Now try adding Batch Normalization and compare the learning curves: is it converging faster than before? Does it produce a better model?**\n",
        "\n",
        "**e. Is the model overfitting the training set? Try adding dropout to every layer and try\n",
        "again. Does it help?**"
      ]
    },
    {
      "cell_type": "markdown",
      "id": "a1a9a270-ea46-4c60-8d8d-38aa0da2b373",
      "metadata": {
        "id": "a1a9a270-ea46-4c60-8d8d-38aa0da2b373"
      },
      "source": [
        "**Ans:** **a. Build a DNN with five hidden layers of 100 neurons each, He initialization, and the ELU activation function.**"
      ]
    },
    {
      "cell_type": "code",
      "execution_count": 1,
      "id": "PC9pqVHhAuqv",
      "metadata": {
        "id": "PC9pqVHhAuqv"
      },
      "outputs": [],
      "source": [
        "import tensorflow as tf\n",
        "from functools import partial"
      ]
    },
    {
      "cell_type": "code",
      "execution_count": 2,
      "id": "89954ad9-fdbd-4274-9383-7fb29adbdc52",
      "metadata": {
        "tags": [],
        "id": "89954ad9-fdbd-4274-9383-7fb29adbdc52"
      },
      "outputs": [],
      "source": [
        "# Define the number of inputs and outputs\n",
        "n_inputs = 28 * 28 # MNIST\n",
        "n_outputs = 10"
      ]
    },
    {
      "cell_type": "code",
      "execution_count": 3,
      "id": "7b79c560-8d7a-4877-81d7-5d57be27f434",
      "metadata": {
        "tags": [],
        "id": "7b79c560-8d7a-4877-81d7-5d57be27f434"
      },
      "outputs": [],
      "source": [
        "# Define the number of neurons in each hidden layer\n",
        "n_hidden1 = 100\n",
        "n_hidden2 = 100\n",
        "n_hidden3 = 100\n",
        "n_hidden4 = 100\n",
        "n_hidden5 = 100"
      ]
    },
    {
      "cell_type": "code",
      "execution_count": 4,
      "id": "91e99fbf-0389-4a9d-94ea-9651dd214cd8",
      "metadata": {
        "tags": [],
        "id": "91e99fbf-0389-4a9d-94ea-9651dd214cd8"
      },
      "outputs": [],
      "source": [
        "# Define the initializer and activation function to use\n",
        "he_init = tf.keras.initializers.VarianceScaling(scale=2., mode='fan_avg', distribution='uniform')\n",
        "elu_activation = tf.keras.activations.elu"
      ]
    },
    {
      "cell_type": "code",
      "execution_count": 5,
      "id": "014ca9eb-0ae3-409b-b905-103154a59c7f",
      "metadata": {
        "tags": [],
        "colab": {
          "base_uri": "https://localhost:8080/"
        },
        "id": "014ca9eb-0ae3-409b-b905-103154a59c7f",
        "outputId": "2d29d87c-1501-41eb-8154-f040661892fc"
      },
      "outputs": [
        {
          "output_type": "stream",
          "name": "stderr",
          "text": [
            "/usr/local/lib/python3.10/dist-packages/keras/initializers/initializers.py:120: UserWarning: The initializer VarianceScaling is unseeded and being called multiple times, which will return identical values each time (even if the initializer is unseeded). Please update your code to provide a seed to the initializer, or avoid using the same initalizer instance more than once.\n",
            "  warnings.warn(\n"
          ]
        }
      ],
      "source": [
        "# Create the model using the Sequential API\n",
        "model = tf.keras.models.Sequential([\n",
        "    tf.keras.layers.Flatten(input_shape=[28, 28]), # Flatten the input data\n",
        "    tf.keras.layers.Dense(n_hidden1, activation=elu_activation, kernel_initializer=he_init), # First hidden layer\n",
        "    tf.keras.layers.Dense(n_hidden2, activation=elu_activation, kernel_initializer=he_init), # Second hidden layer\n",
        "    tf.keras.layers.Dense(n_hidden3, activation=elu_activation, kernel_initializer=he_init), # Third hidden layer\n",
        "    tf.keras.layers.Dense(n_hidden4, activation=elu_activation, kernel_initializer=he_init), # Fourth hidden layer\n",
        "    tf.keras.layers.Dense(n_hidden5, activation=elu_activation, kernel_initializer=he_init), # Fifth hidden layer\n",
        "    tf.keras.layers.Dense(n_outputs) # Output layer\n",
        "])"
      ]
    },
    {
      "cell_type": "markdown",
      "id": "QRneWrfvBC70",
      "metadata": {
        "id": "QRneWrfvBC70"
      },
      "source": [
        "**b. Using Adam optimization and early stopping, try training it on MNIST but only on digits 0 to 4, as we will use transfer learning for digits 5 to 9 in the next exercise. You will need a softmax output layer with five neurons, and as always make sure to save checkpoints at regular intervals and save the final model so you can reuse it later.**\n",
        "\n",
        "**Ans:**"
      ]
    },
    {
      "cell_type": "code",
      "execution_count": 6,
      "id": "aea58841-cbc9-408f-b394-a6c272c7aac6",
      "metadata": {
        "tags": [],
        "id": "aea58841-cbc9-408f-b394-a6c272c7aac6"
      },
      "outputs": [],
      "source": [
        "from tensorflow import keras\n",
        "import numpy as np"
      ]
    },
    {
      "cell_type": "code",
      "execution_count": 7,
      "id": "c1a1b76c-8d99-4316-b9a8-e2a974ebe942",
      "metadata": {
        "tags": [],
        "colab": {
          "base_uri": "https://localhost:8080/"
        },
        "id": "c1a1b76c-8d99-4316-b9a8-e2a974ebe942",
        "outputId": "38487989-987b-4d9d-ad4a-768636d68458"
      },
      "outputs": [
        {
          "output_type": "stream",
          "name": "stdout",
          "text": [
            "Downloading data from https://storage.googleapis.com/tensorflow/tf-keras-datasets/mnist.npz\n",
            "11490434/11490434 [==============================] - 2s 0us/step\n"
          ]
        }
      ],
      "source": [
        "# Load MNIST dataset\n",
        "(X_train_full, y_train_full), (X_test, y_test) = keras.datasets.mnist.load_data()"
      ]
    },
    {
      "cell_type": "code",
      "execution_count": 8,
      "id": "c1bf8840-ca7e-493e-82a8-326d02fc4971",
      "metadata": {
        "tags": [],
        "id": "c1bf8840-ca7e-493e-82a8-326d02fc4971"
      },
      "outputs": [],
      "source": [
        "# Scale the data\n",
        "X_train_full = X_train_full / 255.0\n",
        "X_test = X_test / 255.0"
      ]
    },
    {
      "cell_type": "code",
      "execution_count": 9,
      "id": "5fae3132-089a-4ffb-97a7-1ceeeefbf204",
      "metadata": {
        "tags": [],
        "id": "5fae3132-089a-4ffb-97a7-1ceeeefbf204"
      },
      "outputs": [],
      "source": [
        "# Create a validation set and training set\n",
        "X_valid, X_train = X_train_full[:5000], X_train_full[5000:]\n",
        "y_valid, y_train = y_train_full[:5000], y_train_full[5000:]"
      ]
    },
    {
      "cell_type": "code",
      "execution_count": 10,
      "id": "26131082-010d-4834-88a2-c146d2ac1ad1",
      "metadata": {
        "tags": [],
        "id": "26131082-010d-4834-88a2-c146d2ac1ad1"
      },
      "outputs": [],
      "source": [
        "# Only keep digits 0 to 4 in the training and validation sets\n",
        "X_train = X_train[y_train < 5]\n",
        "y_train = y_train[y_train < 5]\n",
        "X_valid = X_valid[y_valid < 5]\n",
        "y_valid = y_valid[y_valid < 5]"
      ]
    },
    {
      "cell_type": "code",
      "execution_count": 11,
      "id": "8b070147-f526-40cc-bd16-61c6dbb1f035",
      "metadata": {
        "tags": [],
        "id": "8b070147-f526-40cc-bd16-61c6dbb1f035"
      },
      "outputs": [],
      "source": [
        "# Build the model\n",
        "model = keras.models.Sequential([\n",
        "    keras.layers.Flatten(input_shape=[28, 28]),\n",
        "    keras.layers.Dense(300, activation=\"relu\"),\n",
        "    keras.layers.Dense(100, activation=\"relu\"),\n",
        "    keras.layers.Dense(5, activation=\"softmax\")\n",
        "])"
      ]
    },
    {
      "cell_type": "code",
      "execution_count": 12,
      "id": "c9b5c914-93a6-4a27-b6f1-36b9467cf21d",
      "metadata": {
        "tags": [],
        "id": "c9b5c914-93a6-4a27-b6f1-36b9467cf21d"
      },
      "outputs": [],
      "source": [
        "# Compile the model\n",
        "model.compile(loss=\"sparse_categorical_crossentropy\",\n",
        "              optimizer=\"adam\",\n",
        "              metrics=[\"accuracy\"])"
      ]
    },
    {
      "cell_type": "code",
      "execution_count": 13,
      "id": "4f1e1fe9-018e-4df0-8d5f-c0196ce09afc",
      "metadata": {
        "tags": [],
        "id": "4f1e1fe9-018e-4df0-8d5f-c0196ce09afc"
      },
      "outputs": [],
      "source": [
        "# Define early stopping\n",
        "early_stopping_cb = keras.callbacks.EarlyStopping(patience=10,\n",
        "                                                  restore_best_weights=True)"
      ]
    },
    {
      "cell_type": "code",
      "execution_count": 14,
      "id": "35fc7846-766b-4be5-a944-c567d0bc8cd1",
      "metadata": {
        "tags": [],
        "colab": {
          "base_uri": "https://localhost:8080/"
        },
        "id": "35fc7846-766b-4be5-a944-c567d0bc8cd1",
        "outputId": "c212e9d2-8ec4-49a6-8c92-fb6693aca9f6"
      },
      "outputs": [
        {
          "output_type": "stream",
          "name": "stdout",
          "text": [
            "Epoch 1/30\n",
            "877/877 [==============================] - 10s 4ms/step - loss: 0.0944 - accuracy: 0.9714 - val_loss: 0.0473 - val_accuracy: 0.9836\n",
            "Epoch 2/30\n",
            "877/877 [==============================] - 3s 3ms/step - loss: 0.0360 - accuracy: 0.9888 - val_loss: 0.0253 - val_accuracy: 0.9922\n",
            "Epoch 3/30\n",
            "877/877 [==============================] - 3s 3ms/step - loss: 0.0224 - accuracy: 0.9929 - val_loss: 0.0341 - val_accuracy: 0.9902\n",
            "Epoch 4/30\n",
            "877/877 [==============================] - 3s 4ms/step - loss: 0.0137 - accuracy: 0.9954 - val_loss: 0.0359 - val_accuracy: 0.9906\n",
            "Epoch 5/30\n",
            "877/877 [==============================] - 3s 4ms/step - loss: 0.0097 - accuracy: 0.9968 - val_loss: 0.0377 - val_accuracy: 0.9910\n",
            "Epoch 6/30\n",
            "877/877 [==============================] - 3s 4ms/step - loss: 0.0114 - accuracy: 0.9964 - val_loss: 0.0218 - val_accuracy: 0.9941\n",
            "Epoch 7/30\n",
            "877/877 [==============================] - 3s 3ms/step - loss: 0.0117 - accuracy: 0.9965 - val_loss: 0.0340 - val_accuracy: 0.9883\n",
            "Epoch 8/30\n",
            "877/877 [==============================] - 3s 4ms/step - loss: 0.0061 - accuracy: 0.9980 - val_loss: 0.0264 - val_accuracy: 0.9922\n",
            "Epoch 9/30\n",
            "877/877 [==============================] - 3s 4ms/step - loss: 0.0061 - accuracy: 0.9981 - val_loss: 0.0241 - val_accuracy: 0.9922\n",
            "Epoch 10/30\n",
            "877/877 [==============================] - 3s 4ms/step - loss: 0.0054 - accuracy: 0.9983 - val_loss: 0.0300 - val_accuracy: 0.9926\n",
            "Epoch 11/30\n",
            "877/877 [==============================] - 3s 3ms/step - loss: 0.0079 - accuracy: 0.9978 - val_loss: 0.0349 - val_accuracy: 0.9914\n",
            "Epoch 12/30\n",
            "877/877 [==============================] - 3s 4ms/step - loss: 0.0036 - accuracy: 0.9985 - val_loss: 0.0350 - val_accuracy: 0.9926\n",
            "Epoch 13/30\n",
            "877/877 [==============================] - 3s 4ms/step - loss: 0.0040 - accuracy: 0.9988 - val_loss: 0.0580 - val_accuracy: 0.9902\n",
            "Epoch 14/30\n",
            "877/877 [==============================] - 3s 3ms/step - loss: 0.0053 - accuracy: 0.9982 - val_loss: 0.0318 - val_accuracy: 0.9910\n",
            "Epoch 15/30\n",
            "877/877 [==============================] - 3s 4ms/step - loss: 0.0044 - accuracy: 0.9990 - val_loss: 0.0440 - val_accuracy: 0.9922\n",
            "Epoch 16/30\n",
            "877/877 [==============================] - 4s 4ms/step - loss: 0.0031 - accuracy: 0.9992 - val_loss: 0.0378 - val_accuracy: 0.9934\n"
          ]
        }
      ],
      "source": [
        "# Train the model\n",
        "history = model.fit(X_train, y_train, epochs=30,\n",
        "                    validation_data=(X_valid, y_valid),\n",
        "                    callbacks=[early_stopping_cb])"
      ]
    },
    {
      "cell_type": "code",
      "execution_count": 15,
      "id": "7576cc7b-f23e-406e-b7a2-8364e4b76aa7",
      "metadata": {
        "tags": [],
        "id": "7576cc7b-f23e-406e-b7a2-8364e4b76aa7"
      },
      "outputs": [],
      "source": [
        "# Save the final model\n",
        "model.save(\"my_mnist_model.h5\")"
      ]
    },
    {
      "cell_type": "markdown",
      "id": "3sR7WOPGB4dX",
      "metadata": {
        "id": "3sR7WOPGB4dX"
      },
      "source": [
        "**c. Tune the hyperparameters using cross-validation and see what precision you can achieve.**\n",
        "\n",
        "**Ans:** "
      ]
    },
    {
      "cell_type": "code",
      "execution_count": 16,
      "id": "3cdbac18-0835-4ac5-bbc3-103e20d7c4ea",
      "metadata": {
        "tags": [],
        "id": "3cdbac18-0835-4ac5-bbc3-103e20d7c4ea"
      },
      "outputs": [],
      "source": [
        "from tensorflow import keras\n",
        "from sklearn.model_selection import GridSearchCV\n",
        "from sklearn.metrics import precision_score, make_scorer\n",
        "import numpy as np"
      ]
    },
    {
      "cell_type": "code",
      "execution_count": 17,
      "id": "dbeae55b-a7ea-48e1-a733-e03ad34f2bc2",
      "metadata": {
        "tags": [],
        "id": "dbeae55b-a7ea-48e1-a733-e03ad34f2bc2"
      },
      "outputs": [],
      "source": [
        "# Load MNIST dataset\n",
        "(X_train_full, y_train_full), (X_test, y_test) = keras.datasets.mnist.load_data()"
      ]
    },
    {
      "cell_type": "code",
      "execution_count": 18,
      "id": "2ed9acb6-6fb6-4126-873f-807605daeb28",
      "metadata": {
        "tags": [],
        "id": "2ed9acb6-6fb6-4126-873f-807605daeb28"
      },
      "outputs": [],
      "source": [
        "# Scale the data\n",
        "X_train_full = X_train_full / 255.0\n",
        "X_test = X_test / 255.0"
      ]
    },
    {
      "cell_type": "code",
      "execution_count": 19,
      "id": "d1c0d001-b245-40de-99d3-a8a5db2e3595",
      "metadata": {
        "tags": [],
        "id": "d1c0d001-b245-40de-99d3-a8a5db2e3595"
      },
      "outputs": [],
      "source": [
        "# Create a validation set and training set\n",
        "X_valid, X_train = X_train_full[:5000], X_train_full[5000:]\n",
        "y_valid, y_train = y_train_full[:5000], y_train_full[5000:]"
      ]
    },
    {
      "cell_type": "code",
      "execution_count": 20,
      "id": "d7a0e95f-63fb-45b9-8cf3-4406a7fe93c0",
      "metadata": {
        "tags": [],
        "id": "d7a0e95f-63fb-45b9-8cf3-4406a7fe93c0"
      },
      "outputs": [],
      "source": [
        "# Only keep digits 0 to 4 in the training and validation sets\n",
        "X_train = X_train[y_train < 5]\n",
        "y_train = y_train[y_train < 5]\n",
        "X_valid = X_valid[y_valid < 5]\n",
        "y_valid = y_valid[y_valid < 5]"
      ]
    },
    {
      "cell_type": "code",
      "execution_count": 21,
      "id": "b153bf63-074b-4d89-9500-b4dadf606bdc",
      "metadata": {
        "tags": [],
        "id": "b153bf63-074b-4d89-9500-b4dadf606bdc"
      },
      "outputs": [],
      "source": [
        "# Build a function to create the model\n",
        "def build_model(n_hidden=1, n_neurons=30, learning_rate=3e-3):\n",
        "    model = keras.models.Sequential()\n",
        "    model.add(keras.layers.Flatten(input_shape=[28, 28]))\n",
        "    for layer in range(n_hidden):\n",
        "        model.add(keras.layers.Dense(n_neurons, activation=\"relu\"))\n",
        "    model.add(keras.layers.Dense(5, activation=\"softmax\"))\n",
        "    optimizer = keras.optimizers.Adam(lr=learning_rate)\n",
        "    model.compile(loss=\"sparse_categorical_crossentropy\", optimizer=optimizer,\n",
        "                  metrics=[\"accuracy\"])\n",
        "    return model"
      ]
    },
    {
      "cell_type": "code",
      "execution_count": 22,
      "id": "9809083b-3c43-427f-89ee-96acaa240822",
      "metadata": {
        "tags": [],
        "colab": {
          "base_uri": "https://localhost:8080/"
        },
        "id": "9809083b-3c43-427f-89ee-96acaa240822",
        "outputId": "ecf645dd-6eee-4204-aa30-b7b35d54852b"
      },
      "outputs": [
        {
          "output_type": "stream",
          "name": "stderr",
          "text": [
            "<ipython-input-22-d4044a405787>:2: DeprecationWarning: KerasClassifier is deprecated, use Sci-Keras (https://github.com/adriangb/scikeras) instead. See https://www.adriangb.com/scikeras/stable/migration.html for help migrating.\n",
            "  keras_clf = keras.wrappers.scikit_learn.KerasClassifier(build_model)\n"
          ]
        }
      ],
      "source": [
        "# Create a KerasClassifier object\n",
        "keras_clf = keras.wrappers.scikit_learn.KerasClassifier(build_model)"
      ]
    },
    {
      "cell_type": "code",
      "execution_count": 23,
      "id": "5c8adae1-6af2-4baf-9f14-35511c3f5587",
      "metadata": {
        "tags": [],
        "id": "5c8adae1-6af2-4baf-9f14-35511c3f5587"
      },
      "outputs": [],
      "source": [
        "# Define the hyperparameters to search over\n",
        "param_grid = {\n",
        "    \"n_hidden\": [1, 2],\n",
        "    \"n_neurons\": [10, 30],\n",
        "    \"learning_rate\": [3e-4, 3e-3]\n",
        "}"
      ]
    },
    {
      "cell_type": "code",
      "execution_count": 24,
      "id": "31143009-629d-426a-af54-952d6dd48b1c",
      "metadata": {
        "tags": [],
        "id": "31143009-629d-426a-af54-952d6dd48b1c"
      },
      "outputs": [],
      "source": [
        "# Create a GridSearchCV object\n",
        "grid_search_cv = GridSearchCV(keras_clf, param_grid,\n",
        "                              cv=3,\n",
        "                              scoring=make_scorer(precision_score,\n",
        "                                                  average='weighted'))\n"
      ]
    },
    {
      "cell_type": "code",
      "execution_count": 25,
      "id": "a99d6833-7384-4bef-85ef-7fb784f23670",
      "metadata": {
        "tags": [],
        "colab": {
          "base_uri": "https://localhost:8080/",
          "height": 1000
        },
        "id": "a99d6833-7384-4bef-85ef-7fb784f23670",
        "outputId": "98b6a9cc-54d4-4c56-e4c7-db4f65c07fee"
      },
      "outputs": [
        {
          "output_type": "stream",
          "name": "stderr",
          "text": [
            "WARNING:absl:`lr` is deprecated in Keras optimizer, please use `learning_rate` or use the legacy optimizer, e.g.,tf.keras.optimizers.legacy.Adam.\n"
          ]
        },
        {
          "output_type": "stream",
          "name": "stdout",
          "text": [
            "585/585 [==============================] - 4s 5ms/step - loss: 0.3061 - accuracy: 0.9198 - val_loss: 0.1212 - val_accuracy: 0.9629\n",
            "293/293 [==============================] - 1s 2ms/step\n"
          ]
        },
        {
          "output_type": "stream",
          "name": "stderr",
          "text": [
            "WARNING:absl:`lr` is deprecated in Keras optimizer, please use `learning_rate` or use the legacy optimizer, e.g.,tf.keras.optimizers.legacy.Adam.\n"
          ]
        },
        {
          "output_type": "stream",
          "name": "stdout",
          "text": [
            "585/585 [==============================] - 3s 3ms/step - loss: 0.3222 - accuracy: 0.8888 - val_loss: 0.1213 - val_accuracy: 0.9660\n",
            "293/293 [==============================] - 1s 2ms/step\n"
          ]
        },
        {
          "output_type": "stream",
          "name": "stderr",
          "text": [
            "WARNING:absl:`lr` is deprecated in Keras optimizer, please use `learning_rate` or use the legacy optimizer, e.g.,tf.keras.optimizers.legacy.Adam.\n"
          ]
        },
        {
          "output_type": "stream",
          "name": "stdout",
          "text": [
            "585/585 [==============================] - 4s 5ms/step - loss: 0.2734 - accuracy: 0.9283 - val_loss: 0.1255 - val_accuracy: 0.9644\n",
            "293/293 [==============================] - 0s 2ms/step\n"
          ]
        },
        {
          "output_type": "stream",
          "name": "stderr",
          "text": [
            "WARNING:absl:`lr` is deprecated in Keras optimizer, please use `learning_rate` or use the legacy optimizer, e.g.,tf.keras.optimizers.legacy.Adam.\n"
          ]
        },
        {
          "output_type": "stream",
          "name": "stdout",
          "text": [
            "585/585 [==============================] - 3s 3ms/step - loss: 0.1915 - accuracy: 0.9498 - val_loss: 0.1015 - val_accuracy: 0.9687\n",
            "293/293 [==============================] - 1s 2ms/step\n"
          ]
        },
        {
          "output_type": "stream",
          "name": "stderr",
          "text": [
            "WARNING:absl:`lr` is deprecated in Keras optimizer, please use `learning_rate` or use the legacy optimizer, e.g.,tf.keras.optimizers.legacy.Adam.\n"
          ]
        },
        {
          "output_type": "stream",
          "name": "stdout",
          "text": [
            "585/585 [==============================] - 3s 3ms/step - loss: 0.1895 - accuracy: 0.9498 - val_loss: 0.1059 - val_accuracy: 0.9679\n",
            "293/293 [==============================] - 1s 2ms/step\n"
          ]
        },
        {
          "output_type": "stream",
          "name": "stderr",
          "text": [
            "WARNING:absl:`lr` is deprecated in Keras optimizer, please use `learning_rate` or use the legacy optimizer, e.g.,tf.keras.optimizers.legacy.Adam.\n"
          ]
        },
        {
          "output_type": "stream",
          "name": "stdout",
          "text": [
            "585/585 [==============================] - 3s 4ms/step - loss: 0.1924 - accuracy: 0.9468 - val_loss: 0.0965 - val_accuracy: 0.9738\n",
            "293/293 [==============================] - 0s 2ms/step\n"
          ]
        },
        {
          "output_type": "stream",
          "name": "stderr",
          "text": [
            "WARNING:absl:`lr` is deprecated in Keras optimizer, please use `learning_rate` or use the legacy optimizer, e.g.,tf.keras.optimizers.legacy.Adam.\n"
          ]
        },
        {
          "output_type": "stream",
          "name": "stdout",
          "text": [
            "585/585 [==============================] - 3s 4ms/step - loss: 0.3195 - accuracy: 0.9070 - val_loss: 0.1267 - val_accuracy: 0.9625\n",
            "293/293 [==============================] - 1s 2ms/step\n"
          ]
        },
        {
          "output_type": "stream",
          "name": "stderr",
          "text": [
            "WARNING:absl:`lr` is deprecated in Keras optimizer, please use `learning_rate` or use the legacy optimizer, e.g.,tf.keras.optimizers.legacy.Adam.\n"
          ]
        },
        {
          "output_type": "stream",
          "name": "stdout",
          "text": [
            "585/585 [==============================] - 4s 5ms/step - loss: 0.3010 - accuracy: 0.9034 - val_loss: 0.1158 - val_accuracy: 0.9640\n",
            "293/293 [==============================] - 1s 3ms/step\n"
          ]
        },
        {
          "output_type": "stream",
          "name": "stderr",
          "text": [
            "WARNING:absl:`lr` is deprecated in Keras optimizer, please use `learning_rate` or use the legacy optimizer, e.g.,tf.keras.optimizers.legacy.Adam.\n"
          ]
        },
        {
          "output_type": "stream",
          "name": "stdout",
          "text": [
            "585/585 [==============================] - 3s 4ms/step - loss: 0.3535 - accuracy: 0.8840 - val_loss: 0.1220 - val_accuracy: 0.9672\n",
            "293/293 [==============================] - 0s 1ms/step\n"
          ]
        },
        {
          "output_type": "stream",
          "name": "stderr",
          "text": [
            "WARNING:absl:`lr` is deprecated in Keras optimizer, please use `learning_rate` or use the legacy optimizer, e.g.,tf.keras.optimizers.legacy.Adam.\n"
          ]
        },
        {
          "output_type": "stream",
          "name": "stdout",
          "text": [
            "585/585 [==============================] - 3s 4ms/step - loss: 0.1822 - accuracy: 0.9496 - val_loss: 0.0930 - val_accuracy: 0.9734\n",
            "293/293 [==============================] - 1s 2ms/step\n"
          ]
        },
        {
          "output_type": "stream",
          "name": "stderr",
          "text": [
            "WARNING:absl:`lr` is deprecated in Keras optimizer, please use `learning_rate` or use the legacy optimizer, e.g.,tf.keras.optimizers.legacy.Adam.\n"
          ]
        },
        {
          "output_type": "stream",
          "name": "stdout",
          "text": [
            "585/585 [==============================] - 3s 4ms/step - loss: 0.1889 - accuracy: 0.9471 - val_loss: 0.0888 - val_accuracy: 0.9742\n",
            "293/293 [==============================] - 1s 2ms/step\n"
          ]
        },
        {
          "output_type": "stream",
          "name": "stderr",
          "text": [
            "WARNING:absl:`lr` is deprecated in Keras optimizer, please use `learning_rate` or use the legacy optimizer, e.g.,tf.keras.optimizers.legacy.Adam.\n"
          ]
        },
        {
          "output_type": "stream",
          "name": "stdout",
          "text": [
            "585/585 [==============================] - 4s 5ms/step - loss: 0.1948 - accuracy: 0.9427 - val_loss: 0.0819 - val_accuracy: 0.9750\n",
            "293/293 [==============================] - 1s 2ms/step\n"
          ]
        },
        {
          "output_type": "stream",
          "name": "stderr",
          "text": [
            "WARNING:absl:`lr` is deprecated in Keras optimizer, please use `learning_rate` or use the legacy optimizer, e.g.,tf.keras.optimizers.legacy.Adam.\n"
          ]
        },
        {
          "output_type": "stream",
          "name": "stdout",
          "text": [
            "585/585 [==============================] - 3s 3ms/step - loss: 0.2644 - accuracy: 0.9322 - val_loss: 0.1228 - val_accuracy: 0.9664\n",
            "293/293 [==============================] - 1s 2ms/step\n"
          ]
        },
        {
          "output_type": "stream",
          "name": "stderr",
          "text": [
            "WARNING:absl:`lr` is deprecated in Keras optimizer, please use `learning_rate` or use the legacy optimizer, e.g.,tf.keras.optimizers.legacy.Adam.\n"
          ]
        },
        {
          "output_type": "stream",
          "name": "stdout",
          "text": [
            "585/585 [==============================] - 3s 3ms/step - loss: 0.2957 - accuracy: 0.9168 - val_loss: 0.1246 - val_accuracy: 0.9648\n",
            "293/293 [==============================] - 0s 2ms/step\n"
          ]
        },
        {
          "output_type": "stream",
          "name": "stderr",
          "text": [
            "WARNING:absl:`lr` is deprecated in Keras optimizer, please use `learning_rate` or use the legacy optimizer, e.g.,tf.keras.optimizers.legacy.Adam.\n"
          ]
        },
        {
          "output_type": "stream",
          "name": "stdout",
          "text": [
            "585/585 [==============================] - 4s 5ms/step - loss: 0.2889 - accuracy: 0.9156 - val_loss: 0.1216 - val_accuracy: 0.9636\n",
            "293/293 [==============================] - 0s 2ms/step\n"
          ]
        },
        {
          "output_type": "stream",
          "name": "stderr",
          "text": [
            "WARNING:absl:`lr` is deprecated in Keras optimizer, please use `learning_rate` or use the legacy optimizer, e.g.,tf.keras.optimizers.legacy.Adam.\n"
          ]
        },
        {
          "output_type": "stream",
          "name": "stdout",
          "text": [
            "585/585 [==============================] - 3s 3ms/step - loss: 0.1857 - accuracy: 0.9482 - val_loss: 0.0955 - val_accuracy: 0.9711\n",
            "293/293 [==============================] - 0s 2ms/step\n"
          ]
        },
        {
          "output_type": "stream",
          "name": "stderr",
          "text": [
            "WARNING:absl:`lr` is deprecated in Keras optimizer, please use `learning_rate` or use the legacy optimizer, e.g.,tf.keras.optimizers.legacy.Adam.\n"
          ]
        },
        {
          "output_type": "stream",
          "name": "stdout",
          "text": [
            "585/585 [==============================] - 3s 3ms/step - loss: 0.1870 - accuracy: 0.9499 - val_loss: 0.1042 - val_accuracy: 0.9683\n",
            "293/293 [==============================] - 1s 2ms/step\n"
          ]
        },
        {
          "output_type": "stream",
          "name": "stderr",
          "text": [
            "WARNING:absl:`lr` is deprecated in Keras optimizer, please use `learning_rate` or use the legacy optimizer, e.g.,tf.keras.optimizers.legacy.Adam.\n"
          ]
        },
        {
          "output_type": "stream",
          "name": "stdout",
          "text": [
            "585/585 [==============================] - 6s 7ms/step - loss: 0.2058 - accuracy: 0.9416 - val_loss: 0.1019 - val_accuracy: 0.9691\n",
            "293/293 [==============================] - 0s 1ms/step\n"
          ]
        },
        {
          "output_type": "stream",
          "name": "stderr",
          "text": [
            "WARNING:absl:`lr` is deprecated in Keras optimizer, please use `learning_rate` or use the legacy optimizer, e.g.,tf.keras.optimizers.legacy.Adam.\n"
          ]
        },
        {
          "output_type": "stream",
          "name": "stdout",
          "text": [
            "585/585 [==============================] - 3s 4ms/step - loss: 0.3597 - accuracy: 0.8850 - val_loss: 0.1273 - val_accuracy: 0.9629\n",
            "293/293 [==============================] - 1s 2ms/step\n"
          ]
        },
        {
          "output_type": "stream",
          "name": "stderr",
          "text": [
            "WARNING:absl:`lr` is deprecated in Keras optimizer, please use `learning_rate` or use the legacy optimizer, e.g.,tf.keras.optimizers.legacy.Adam.\n"
          ]
        },
        {
          "output_type": "stream",
          "name": "stdout",
          "text": [
            "585/585 [==============================] - 4s 5ms/step - loss: 0.2764 - accuracy: 0.9227 - val_loss: 0.1193 - val_accuracy: 0.9648\n",
            "293/293 [==============================] - 1s 2ms/step\n"
          ]
        },
        {
          "output_type": "stream",
          "name": "stderr",
          "text": [
            "WARNING:absl:`lr` is deprecated in Keras optimizer, please use `learning_rate` or use the legacy optimizer, e.g.,tf.keras.optimizers.legacy.Adam.\n"
          ]
        },
        {
          "output_type": "stream",
          "name": "stdout",
          "text": [
            "585/585 [==============================] - 3s 4ms/step - loss: 0.3107 - accuracy: 0.9184 - val_loss: 0.1146 - val_accuracy: 0.9672\n",
            "293/293 [==============================] - 1s 2ms/step\n"
          ]
        },
        {
          "output_type": "stream",
          "name": "stderr",
          "text": [
            "WARNING:absl:`lr` is deprecated in Keras optimizer, please use `learning_rate` or use the legacy optimizer, e.g.,tf.keras.optimizers.legacy.Adam.\n"
          ]
        },
        {
          "output_type": "stream",
          "name": "stdout",
          "text": [
            "585/585 [==============================] - 3s 4ms/step - loss: 0.1915 - accuracy: 0.9419 - val_loss: 0.0857 - val_accuracy: 0.9742\n",
            "293/293 [==============================] - 1s 2ms/step\n"
          ]
        },
        {
          "output_type": "stream",
          "name": "stderr",
          "text": [
            "WARNING:absl:`lr` is deprecated in Keras optimizer, please use `learning_rate` or use the legacy optimizer, e.g.,tf.keras.optimizers.legacy.Adam.\n"
          ]
        },
        {
          "output_type": "stream",
          "name": "stdout",
          "text": [
            "585/585 [==============================] - 4s 4ms/step - loss: 0.2026 - accuracy: 0.9383 - val_loss: 0.0900 - val_accuracy: 0.9707\n",
            "293/293 [==============================] - 1s 2ms/step\n"
          ]
        },
        {
          "output_type": "stream",
          "name": "stderr",
          "text": [
            "WARNING:absl:`lr` is deprecated in Keras optimizer, please use `learning_rate` or use the legacy optimizer, e.g.,tf.keras.optimizers.legacy.Adam.\n"
          ]
        },
        {
          "output_type": "stream",
          "name": "stdout",
          "text": [
            "585/585 [==============================] - 3s 4ms/step - loss: 0.1923 - accuracy: 0.9481 - val_loss: 0.0892 - val_accuracy: 0.9738\n",
            "293/293 [==============================] - 0s 2ms/step\n"
          ]
        },
        {
          "output_type": "stream",
          "name": "stderr",
          "text": [
            "WARNING:absl:`lr` is deprecated in Keras optimizer, please use `learning_rate` or use the legacy optimizer, e.g.,tf.keras.optimizers.legacy.Adam.\n"
          ]
        },
        {
          "output_type": "stream",
          "name": "stdout",
          "text": [
            "877/877 [==============================] - 5s 4ms/step - loss: 0.1505 - accuracy: 0.9573 - val_loss: 0.0653 - val_accuracy: 0.9789\n"
          ]
        },
        {
          "output_type": "execute_result",
          "data": {
            "text/plain": [
              "GridSearchCV(cv=3,\n",
              "             estimator=<keras.wrappers.scikit_learn.KerasClassifier object at 0x7f20185a7970>,\n",
              "             param_grid={'learning_rate': [0.0003, 0.003], 'n_hidden': [1, 2],\n",
              "                         'n_neurons': [10, 30]},\n",
              "             scoring=make_scorer(precision_score, average=weighted))"
            ],
            "text/html": [
              "<style>#sk-container-id-1 {color: black;background-color: white;}#sk-container-id-1 pre{padding: 0;}#sk-container-id-1 div.sk-toggleable {background-color: white;}#sk-container-id-1 label.sk-toggleable__label {cursor: pointer;display: block;width: 100%;margin-bottom: 0;padding: 0.3em;box-sizing: border-box;text-align: center;}#sk-container-id-1 label.sk-toggleable__label-arrow:before {content: \"▸\";float: left;margin-right: 0.25em;color: #696969;}#sk-container-id-1 label.sk-toggleable__label-arrow:hover:before {color: black;}#sk-container-id-1 div.sk-estimator:hover label.sk-toggleable__label-arrow:before {color: black;}#sk-container-id-1 div.sk-toggleable__content {max-height: 0;max-width: 0;overflow: hidden;text-align: left;background-color: #f0f8ff;}#sk-container-id-1 div.sk-toggleable__content pre {margin: 0.2em;color: black;border-radius: 0.25em;background-color: #f0f8ff;}#sk-container-id-1 input.sk-toggleable__control:checked~div.sk-toggleable__content {max-height: 200px;max-width: 100%;overflow: auto;}#sk-container-id-1 input.sk-toggleable__control:checked~label.sk-toggleable__label-arrow:before {content: \"▾\";}#sk-container-id-1 div.sk-estimator input.sk-toggleable__control:checked~label.sk-toggleable__label {background-color: #d4ebff;}#sk-container-id-1 div.sk-label input.sk-toggleable__control:checked~label.sk-toggleable__label {background-color: #d4ebff;}#sk-container-id-1 input.sk-hidden--visually {border: 0;clip: rect(1px 1px 1px 1px);clip: rect(1px, 1px, 1px, 1px);height: 1px;margin: -1px;overflow: hidden;padding: 0;position: absolute;width: 1px;}#sk-container-id-1 div.sk-estimator {font-family: monospace;background-color: #f0f8ff;border: 1px dotted black;border-radius: 0.25em;box-sizing: border-box;margin-bottom: 0.5em;}#sk-container-id-1 div.sk-estimator:hover {background-color: #d4ebff;}#sk-container-id-1 div.sk-parallel-item::after {content: \"\";width: 100%;border-bottom: 1px solid gray;flex-grow: 1;}#sk-container-id-1 div.sk-label:hover label.sk-toggleable__label {background-color: #d4ebff;}#sk-container-id-1 div.sk-serial::before {content: \"\";position: absolute;border-left: 1px solid gray;box-sizing: border-box;top: 0;bottom: 0;left: 50%;z-index: 0;}#sk-container-id-1 div.sk-serial {display: flex;flex-direction: column;align-items: center;background-color: white;padding-right: 0.2em;padding-left: 0.2em;position: relative;}#sk-container-id-1 div.sk-item {position: relative;z-index: 1;}#sk-container-id-1 div.sk-parallel {display: flex;align-items: stretch;justify-content: center;background-color: white;position: relative;}#sk-container-id-1 div.sk-item::before, #sk-container-id-1 div.sk-parallel-item::before {content: \"\";position: absolute;border-left: 1px solid gray;box-sizing: border-box;top: 0;bottom: 0;left: 50%;z-index: -1;}#sk-container-id-1 div.sk-parallel-item {display: flex;flex-direction: column;z-index: 1;position: relative;background-color: white;}#sk-container-id-1 div.sk-parallel-item:first-child::after {align-self: flex-end;width: 50%;}#sk-container-id-1 div.sk-parallel-item:last-child::after {align-self: flex-start;width: 50%;}#sk-container-id-1 div.sk-parallel-item:only-child::after {width: 0;}#sk-container-id-1 div.sk-dashed-wrapped {border: 1px dashed gray;margin: 0 0.4em 0.5em 0.4em;box-sizing: border-box;padding-bottom: 0.4em;background-color: white;}#sk-container-id-1 div.sk-label label {font-family: monospace;font-weight: bold;display: inline-block;line-height: 1.2em;}#sk-container-id-1 div.sk-label-container {text-align: center;}#sk-container-id-1 div.sk-container {/* jupyter's `normalize.less` sets `[hidden] { display: none; }` but bootstrap.min.css set `[hidden] { display: none !important; }` so we also need the `!important` here to be able to override the default hidden behavior on the sphinx rendered scikit-learn.org. See: https://github.com/scikit-learn/scikit-learn/issues/21755 */display: inline-block !important;position: relative;}#sk-container-id-1 div.sk-text-repr-fallback {display: none;}</style><div id=\"sk-container-id-1\" class=\"sk-top-container\"><div class=\"sk-text-repr-fallback\"><pre>GridSearchCV(cv=3,\n",
              "             estimator=&lt;keras.wrappers.scikit_learn.KerasClassifier object at 0x7f20185a7970&gt;,\n",
              "             param_grid={&#x27;learning_rate&#x27;: [0.0003, 0.003], &#x27;n_hidden&#x27;: [1, 2],\n",
              "                         &#x27;n_neurons&#x27;: [10, 30]},\n",
              "             scoring=make_scorer(precision_score, average=weighted))</pre><b>In a Jupyter environment, please rerun this cell to show the HTML representation or trust the notebook. <br />On GitHub, the HTML representation is unable to render, please try loading this page with nbviewer.org.</b></div><div class=\"sk-container\" hidden><div class=\"sk-item sk-dashed-wrapped\"><div class=\"sk-label-container\"><div class=\"sk-label sk-toggleable\"><input class=\"sk-toggleable__control sk-hidden--visually\" id=\"sk-estimator-id-1\" type=\"checkbox\" ><label for=\"sk-estimator-id-1\" class=\"sk-toggleable__label sk-toggleable__label-arrow\">GridSearchCV</label><div class=\"sk-toggleable__content\"><pre>GridSearchCV(cv=3,\n",
              "             estimator=&lt;keras.wrappers.scikit_learn.KerasClassifier object at 0x7f20185a7970&gt;,\n",
              "             param_grid={&#x27;learning_rate&#x27;: [0.0003, 0.003], &#x27;n_hidden&#x27;: [1, 2],\n",
              "                         &#x27;n_neurons&#x27;: [10, 30]},\n",
              "             scoring=make_scorer(precision_score, average=weighted))</pre></div></div></div><div class=\"sk-parallel\"><div class=\"sk-parallel-item\"><div class=\"sk-item\"><div class=\"sk-label-container\"><div class=\"sk-label sk-toggleable\"><input class=\"sk-toggleable__control sk-hidden--visually\" id=\"sk-estimator-id-2\" type=\"checkbox\" ><label for=\"sk-estimator-id-2\" class=\"sk-toggleable__label sk-toggleable__label-arrow\">estimator: KerasClassifier</label><div class=\"sk-toggleable__content\"><pre>&lt;keras.wrappers.scikit_learn.KerasClassifier object at 0x7f20185a7970&gt;</pre></div></div></div><div class=\"sk-serial\"><div class=\"sk-item\"><div class=\"sk-estimator sk-toggleable\"><input class=\"sk-toggleable__control sk-hidden--visually\" id=\"sk-estimator-id-3\" type=\"checkbox\" ><label for=\"sk-estimator-id-3\" class=\"sk-toggleable__label sk-toggleable__label-arrow\">KerasClassifier</label><div class=\"sk-toggleable__content\"><pre>&lt;keras.wrappers.scikit_learn.KerasClassifier object at 0x7f20185a7970&gt;</pre></div></div></div></div></div></div></div></div></div></div>"
            ]
          },
          "metadata": {},
          "execution_count": 25
        }
      ],
      "source": [
        "# Fit the GridSearchCV object to the data\n",
        "grid_search_cv.fit(X_train, y_train,\n",
        "                   validation_data=(X_valid, y_valid),\n",
        "                   callbacks=[keras.callbacks.EarlyStopping(patience=10)])"
      ]
    },
    {
      "cell_type": "code",
      "execution_count": 26,
      "id": "8204b1c8-5cd3-494b-a38a-54e30db3600b",
      "metadata": {
        "colab": {
          "base_uri": "https://localhost:8080/"
        },
        "id": "8204b1c8-5cd3-494b-a38a-54e30db3600b",
        "outputId": "31fcb844-17de-492a-8096-a0e7209183f0"
      },
      "outputs": [
        {
          "output_type": "stream",
          "name": "stdout",
          "text": [
            "{'learning_rate': 0.0003, 'n_hidden': 2, 'n_neurons': 30}\n"
          ]
        }
      ],
      "source": [
        "# Print the best hyperparameters\n",
        "print(grid_search_cv.best_params_)"
      ]
    },
    {
      "cell_type": "markdown",
      "id": "JSdDybWgVkxb",
      "metadata": {
        "id": "JSdDybWgVkxb"
      },
      "source": [
        "**d. Now try adding Batch Normalization and compare the learning curves: is it\n",
        "converging faster than before? Does it produce a better model?**\n",
        "\n",
        "**Ans:**"
      ]
    },
    {
      "cell_type": "code",
      "execution_count": 27,
      "id": "nC57RlKbVt0s",
      "metadata": {
        "id": "nC57RlKbVt0s"
      },
      "outputs": [],
      "source": [
        "# Build DNN with Batch Normalization\n",
        "model = keras.models.Sequential([\n",
        "    keras.layers.Flatten(input_shape=[28, 28]),\n",
        "    keras.layers.BatchNormalization(),\n",
        "    keras.layers.Dense(100, activation=\"elu\", kernel_initializer=\"he_normal\"),\n",
        "    keras.layers.BatchNormalization(),\n",
        "    keras.layers.Dense(100, activation=\"elu\", kernel_initializer=\"he_normal\"),\n",
        "    keras.layers.BatchNormalization(),\n",
        "    keras.layers.Dense(100, activation=\"elu\", kernel_initializer=\"he_normal\"),\n",
        "    keras.layers.BatchNormalization(),\n",
        "    keras.layers.Dense(100, activation=\"elu\", kernel_initializer=\"he_normal\"),\n",
        "    keras.layers.BatchNormalization(),\n",
        "    keras.layers.Dense(5, activation=\"softmax\")\n",
        "])"
      ]
    },
    {
      "cell_type": "code",
      "execution_count": 28,
      "id": "676Glh3BdV3S",
      "metadata": {
        "id": "676Glh3BdV3S"
      },
      "outputs": [],
      "source": [
        "# Compile model\n",
        "model.compile(loss=\"sparse_categorical_crossentropy\",\n",
        "              optimizer=keras.optimizers.Adam(),\n",
        "              metrics=[\"accuracy\"])"
      ]
    },
    {
      "cell_type": "code",
      "execution_count": 29,
      "id": "4OfYUhYBdarA",
      "metadata": {
        "id": "4OfYUhYBdarA",
        "colab": {
          "base_uri": "https://localhost:8080/"
        },
        "outputId": "9dfba6d5-d8c6-4de4-8fe5-91d753588f4c"
      },
      "outputs": [
        {
          "output_type": "stream",
          "name": "stdout",
          "text": [
            "Epoch 1/100\n",
            "877/877 [==============================] - 11s 8ms/step - loss: 0.1249 - accuracy: 0.9615 - val_loss: 0.0512 - val_accuracy: 0.9816\n",
            "Epoch 2/100\n",
            "877/877 [==============================] - 7s 7ms/step - loss: 0.0616 - accuracy: 0.9807 - val_loss: 0.0562 - val_accuracy: 0.9851\n",
            "Epoch 3/100\n",
            "877/877 [==============================] - 7s 8ms/step - loss: 0.0452 - accuracy: 0.9852 - val_loss: 0.0489 - val_accuracy: 0.9820\n",
            "Epoch 4/100\n",
            "877/877 [==============================] - 6s 7ms/step - loss: 0.0339 - accuracy: 0.9888 - val_loss: 0.0476 - val_accuracy: 0.9844\n",
            "Epoch 5/100\n",
            "877/877 [==============================] - 7s 8ms/step - loss: 0.0293 - accuracy: 0.9901 - val_loss: 0.0407 - val_accuracy: 0.9871\n",
            "Epoch 6/100\n",
            "877/877 [==============================] - 7s 7ms/step - loss: 0.0236 - accuracy: 0.9921 - val_loss: 0.0499 - val_accuracy: 0.9859\n",
            "Epoch 7/100\n",
            "877/877 [==============================] - 7s 8ms/step - loss: 0.0240 - accuracy: 0.9926 - val_loss: 0.0428 - val_accuracy: 0.9883\n",
            "Epoch 8/100\n",
            "877/877 [==============================] - 6s 7ms/step - loss: 0.0205 - accuracy: 0.9936 - val_loss: 0.0465 - val_accuracy: 0.9879\n",
            "Epoch 9/100\n",
            "877/877 [==============================] - 7s 8ms/step - loss: 0.0176 - accuracy: 0.9940 - val_loss: 0.0376 - val_accuracy: 0.9894\n",
            "Epoch 10/100\n",
            "877/877 [==============================] - 7s 8ms/step - loss: 0.0171 - accuracy: 0.9942 - val_loss: 0.0486 - val_accuracy: 0.9883\n",
            "Epoch 11/100\n",
            "877/877 [==============================] - 6s 7ms/step - loss: 0.0158 - accuracy: 0.9949 - val_loss: 0.0423 - val_accuracy: 0.9879\n",
            "Epoch 12/100\n",
            "877/877 [==============================] - 7s 8ms/step - loss: 0.0151 - accuracy: 0.9956 - val_loss: 0.0571 - val_accuracy: 0.9844\n",
            "Epoch 13/100\n",
            "877/877 [==============================] - 6s 7ms/step - loss: 0.0147 - accuracy: 0.9954 - val_loss: 0.0627 - val_accuracy: 0.9867\n",
            "Epoch 14/100\n",
            "877/877 [==============================] - 7s 8ms/step - loss: 0.0095 - accuracy: 0.9969 - val_loss: 0.0370 - val_accuracy: 0.9910\n",
            "Epoch 15/100\n",
            "877/877 [==============================] - 6s 7ms/step - loss: 0.0112 - accuracy: 0.9962 - val_loss: 0.0506 - val_accuracy: 0.9891\n",
            "Epoch 16/100\n",
            "877/877 [==============================] - 7s 8ms/step - loss: 0.0142 - accuracy: 0.9953 - val_loss: 0.0489 - val_accuracy: 0.9867\n",
            "Epoch 17/100\n",
            "877/877 [==============================] - 6s 7ms/step - loss: 0.0108 - accuracy: 0.9965 - val_loss: 0.0345 - val_accuracy: 0.9906\n",
            "Epoch 18/100\n",
            "877/877 [==============================] - 7s 8ms/step - loss: 0.0094 - accuracy: 0.9966 - val_loss: 0.0450 - val_accuracy: 0.9859\n",
            "Epoch 19/100\n",
            "877/877 [==============================] - 6s 7ms/step - loss: 0.0103 - accuracy: 0.9968 - val_loss: 0.0372 - val_accuracy: 0.9906\n",
            "Epoch 20/100\n",
            "877/877 [==============================] - 7s 8ms/step - loss: 0.0076 - accuracy: 0.9975 - val_loss: 0.0352 - val_accuracy: 0.9910\n",
            "Epoch 21/100\n",
            "877/877 [==============================] - 6s 7ms/step - loss: 0.0096 - accuracy: 0.9970 - val_loss: 0.0438 - val_accuracy: 0.9894\n",
            "Epoch 22/100\n",
            "877/877 [==============================] - 6s 7ms/step - loss: 0.0073 - accuracy: 0.9978 - val_loss: 0.0500 - val_accuracy: 0.9914\n",
            "Epoch 23/100\n",
            "877/877 [==============================] - 7s 8ms/step - loss: 0.0069 - accuracy: 0.9977 - val_loss: 0.0477 - val_accuracy: 0.9906\n",
            "Epoch 24/100\n",
            "877/877 [==============================] - 6s 7ms/step - loss: 0.0074 - accuracy: 0.9974 - val_loss: 0.0541 - val_accuracy: 0.9875\n",
            "Epoch 25/100\n",
            "877/877 [==============================] - 7s 8ms/step - loss: 0.0091 - accuracy: 0.9970 - val_loss: 0.0536 - val_accuracy: 0.9894\n",
            "Epoch 26/100\n",
            "877/877 [==============================] - 6s 7ms/step - loss: 0.0088 - accuracy: 0.9973 - val_loss: 0.0378 - val_accuracy: 0.9937\n",
            "Epoch 27/100\n",
            "877/877 [==============================] - 7s 8ms/step - loss: 0.0083 - accuracy: 0.9978 - val_loss: 0.0382 - val_accuracy: 0.9898\n"
          ]
        }
      ],
      "source": [
        "# Train model\n",
        "history_bn = model.fit(X_train, y_train, epochs=100, batch_size=32,\n",
        "                       validation_data=(X_valid, y_valid),\n",
        "                       callbacks=[early_stopping_cb])"
      ]
    },
    {
      "cell_type": "code",
      "execution_count": 30,
      "id": "OKhYeZmodfFE",
      "metadata": {
        "id": "OKhYeZmodfFE"
      },
      "outputs": [],
      "source": [
        "import matplotlib.pyplot as plt"
      ]
    },
    {
      "cell_type": "code",
      "execution_count": 31,
      "id": "ctePjmeDdjK1",
      "metadata": {
        "id": "ctePjmeDdjK1",
        "colab": {
          "base_uri": "https://localhost:8080/",
          "height": 927
        },
        "outputId": "afb51713-a819-43b1-ba08-bc89b7ce18f0"
      },
      "outputs": [
        {
          "output_type": "display_data",
          "data": {
            "text/plain": [
              "<Figure size 640x480 with 1 Axes>"
            ],
            "image/png": "[encoded data removed]"
          },
          "metadata": {}
        },
        {
          "output_type": "display_data",
          "data": {
            "text/plain": [
              "<Figure size 640x480 with 1 Axes>"
            ],
            "image/png": "[encoded data removed]"
          },
          "metadata": {}
        }
      ],
      "source": [
        "# Plot learning curves\n",
        "def plot_learning_curves(history, label=None):\n",
        "    plt.plot(history.history[\"loss\"], label=label + \" training\")\n",
        "    plt.plot(history.history[\"val_loss\"], label=label + \" validation\")\n",
        "    plt.legend()\n",
        "    plt.title(\"Learning curves\")\n",
        "    plt.xlabel(\"Epochs\")\n",
        "    plt.ylabel(\"Loss\")\n",
        "    plt.show()\n",
        "\n",
        "plot_learning_curves(history, label=\"Original\")\n",
        "plot_learning_curves(history_bn, label=\"Batch Normalization\")"
      ]
    },
    {
      "cell_type": "markdown",
      "id": "lV80nqE5dvgp",
      "metadata": {
        "id": "lV80nqE5dvgp"
      },
      "source": [
        "**e. Is the model overfitting the training set? Try adding dropout to every layer and try again. Does it help?**\n",
        "\n",
        "**Ans:** "
      ]
    },
    {
      "cell_type": "code",
      "execution_count": 32,
      "id": "oHGKyucNd4f9",
      "metadata": {
        "id": "oHGKyucNd4f9"
      },
      "outputs": [],
      "source": [
        "# Build DNN with Dropout\n",
        "model = keras.models.Sequential([\n",
        "    keras.layers.Flatten(input_shape=[28, 28]),\n",
        "    keras.layers.Dropout(rate=0.2),\n",
        "    keras.layers.Dense(100, activation=\"elu\", kernel_initializer=\"he_normal\"),\n",
        "    keras.layers.Dropout(rate=0.2),\n",
        "    keras.layers.Dense(100, activation=\"elu\", kernel_initializer=\"he_normal\"),\n",
        "    keras.layers.Dropout(rate=0.2),\n",
        "    keras.layers.Dense(100, activation=\"elu\", kernel_initializer=\"he_normal\"),\n",
        "    keras.layers.Dropout(rate=0.2),\n",
        "    keras.layers.Dense(100, activation=\"elu\", kernel_initializer=\"he_normal\"),\n",
        "    keras.layers.Dropout(rate=0.2),\n",
        "    keras.layers.Dense(5, activation=\"softmax\")\n",
        "])"
      ]
    },
    {
      "cell_type": "code",
      "execution_count": 33,
      "id": "X9e4D9VrecIA",
      "metadata": {
        "id": "X9e4D9VrecIA"
      },
      "outputs": [],
      "source": [
        "# Compile model\n",
        "model.compile(loss=\"sparse_categorical_crossentropy\",\n",
        "              optimizer=keras.optimizers.Adam(),\n",
        "              metrics=[\"accuracy\"])"
      ]
    },
    {
      "cell_type": "code",
      "execution_count": 34,
      "id": "SRqt461nefgx",
      "metadata": {
        "id": "SRqt461nefgx",
        "colab": {
          "base_uri": "https://localhost:8080/"
        },
        "outputId": "bf3ede43-6223-4d74-ca9a-001a4e2f85eb"
      },
      "outputs": [
        {
          "output_type": "stream",
          "name": "stdout",
          "text": [
            "Epoch 1/100\n",
            "877/877 [==============================] - 6s 4ms/step - loss: 0.2126 - accuracy: 0.9339 - val_loss: 0.0750 - val_accuracy: 0.9781\n",
            "Epoch 2/100\n",
            "877/877 [==============================] - 4s 4ms/step - loss: 0.1176 - accuracy: 0.9648 - val_loss: 0.0618 - val_accuracy: 0.9824\n",
            "Epoch 3/100\n",
            "877/877 [==============================] - 4s 4ms/step - loss: 0.0931 - accuracy: 0.9720 - val_loss: 0.0529 - val_accuracy: 0.9859\n",
            "Epoch 4/100\n",
            "877/877 [==============================] - 4s 4ms/step - loss: 0.0803 - accuracy: 0.9750 - val_loss: 0.0455 - val_accuracy: 0.9855\n",
            "Epoch 5/100\n",
            "877/877 [==============================] - 3s 4ms/step - loss: 0.0718 - accuracy: 0.9778 - val_loss: 0.0479 - val_accuracy: 0.9875\n",
            "Epoch 6/100\n",
            "877/877 [==============================] - 4s 4ms/step - loss: 0.0620 - accuracy: 0.9811 - val_loss: 0.0376 - val_accuracy: 0.9875\n",
            "Epoch 7/100\n",
            "877/877 [==============================] - 4s 5ms/step - loss: 0.0565 - accuracy: 0.9819 - val_loss: 0.0375 - val_accuracy: 0.9875\n",
            "Epoch 8/100\n",
            "877/877 [==============================] - 3s 4ms/step - loss: 0.0512 - accuracy: 0.9841 - val_loss: 0.0352 - val_accuracy: 0.9887\n",
            "Epoch 9/100\n",
            "877/877 [==============================] - 3s 4ms/step - loss: 0.0486 - accuracy: 0.9856 - val_loss: 0.0349 - val_accuracy: 0.9891\n",
            "Epoch 10/100\n",
            "877/877 [==============================] - 4s 5ms/step - loss: 0.0431 - accuracy: 0.9867 - val_loss: 0.0306 - val_accuracy: 0.9894\n",
            "Epoch 11/100\n",
            "877/877 [==============================] - 4s 4ms/step - loss: 0.0405 - accuracy: 0.9873 - val_loss: 0.0304 - val_accuracy: 0.9902\n",
            "Epoch 12/100\n",
            "877/877 [==============================] - 3s 4ms/step - loss: 0.0370 - accuracy: 0.9890 - val_loss: 0.0262 - val_accuracy: 0.9922\n",
            "Epoch 13/100\n",
            "877/877 [==============================] - 4s 4ms/step - loss: 0.0373 - accuracy: 0.9888 - val_loss: 0.0252 - val_accuracy: 0.9918\n",
            "Epoch 14/100\n",
            "877/877 [==============================] - 4s 5ms/step - loss: 0.0343 - accuracy: 0.9897 - val_loss: 0.0247 - val_accuracy: 0.9922\n",
            "Epoch 15/100\n",
            "877/877 [==============================] - 3s 4ms/step - loss: 0.0354 - accuracy: 0.9894 - val_loss: 0.0375 - val_accuracy: 0.9871\n",
            "Epoch 16/100\n",
            "877/877 [==============================] - 4s 4ms/step - loss: 0.0305 - accuracy: 0.9903 - val_loss: 0.0223 - val_accuracy: 0.9910\n",
            "Epoch 17/100\n",
            "877/877 [==============================] - 4s 5ms/step - loss: 0.0333 - accuracy: 0.9902 - val_loss: 0.0257 - val_accuracy: 0.9930\n",
            "Epoch 18/100\n",
            "877/877 [==============================] - 3s 4ms/step - loss: 0.0324 - accuracy: 0.9900 - val_loss: 0.0264 - val_accuracy: 0.9926\n",
            "Epoch 19/100\n",
            "877/877 [==============================] - 4s 5ms/step - loss: 0.0257 - accuracy: 0.9924 - val_loss: 0.0275 - val_accuracy: 0.9926\n",
            "Epoch 20/100\n",
            "877/877 [==============================] - 4s 5ms/step - loss: 0.0319 - accuracy: 0.9903 - val_loss: 0.0289 - val_accuracy: 0.9914\n",
            "Epoch 21/100\n",
            "877/877 [==============================] - 3s 4ms/step - loss: 0.0276 - accuracy: 0.9916 - val_loss: 0.0239 - val_accuracy: 0.9914\n",
            "Epoch 22/100\n",
            "877/877 [==============================] - 4s 4ms/step - loss: 0.0260 - accuracy: 0.9922 - val_loss: 0.0302 - val_accuracy: 0.9926\n",
            "Epoch 23/100\n",
            "877/877 [==============================] - 4s 4ms/step - loss: 0.0250 - accuracy: 0.9919 - val_loss: 0.0326 - val_accuracy: 0.9914\n",
            "Epoch 24/100\n",
            "877/877 [==============================] - 4s 4ms/step - loss: 0.0213 - accuracy: 0.9932 - val_loss: 0.0277 - val_accuracy: 0.9941\n",
            "Epoch 25/100\n",
            "877/877 [==============================] - 4s 4ms/step - loss: 0.0253 - accuracy: 0.9918 - val_loss: 0.0333 - val_accuracy: 0.9906\n",
            "Epoch 26/100\n",
            "877/877 [==============================] - 4s 4ms/step - loss: 0.0248 - accuracy: 0.9924 - val_loss: 0.0329 - val_accuracy: 0.9898\n"
          ]
        }
      ],
      "source": [
        "# Train model\n",
        "history_dropout = model.fit(X_train, y_train, epochs=100, batch_size=32,\n",
        "                            validation_data=(X_valid, y_valid),\n",
        "                            callbacks=[early_stopping_cb])\n"
      ]
    },
    {
      "cell_type": "code",
      "execution_count": 35,
      "id": "FoYFRWEJenFT",
      "metadata": {
        "id": "FoYFRWEJenFT",
        "tags": [],
        "colab": {
          "base_uri": "https://localhost:8080/",
          "height": 927
        },
        "outputId": "e1f0e13a-4af0-45da-9209-1d03be025a4c"
      },
      "outputs": [
        {
          "output_type": "display_data",
          "data": {
            "text/plain": [
              "<Figure size 640x480 with 1 Axes>"
            ],
            "image/png": "[encoded data removed]"
          },
          "metadata": {}
        },
        {
          "output_type": "display_data",
          "data": {
            "text/plain": [
              "<Figure size 640x480 with 1 Axes>"
            ],
            "image/png": "[encoded data removed]"
          },
          "metadata": {}
        }
      ],
      "source": [
        "plot_learning_curves(history_bn, label=\"Batch Normalization\")\n",
        "plot_learning_curves(history_dropout, label=\"Dropout\")"
      ]
    },
    {
      "cell_type": "markdown",
      "id": "28cdf155-1916-4688-be4a-5f6e726052a0",
      "metadata": {
        "id": "28cdf155-1916-4688-be4a-5f6e726052a0"
      },
      "source": [
        "**2. Transfer learning.**\n",
        "\n",
        "**a. Create a new DNN that reuses all the pretrained hidden layers of the previous model, freezes them, and replaces the softmax output layer with a new one.**\n",
        "\n",
        "**b. Train this new DNN on digits 5 to 9, using only 100 images per digit, and time how long it takes. Despite this small number of examples, can you achieve high precision?**\n",
        "\n",
        "**c. Try caching the frozen layers, and train the model again: how much faster is it now?**\n",
        "\n",
        "**d. Try again reusing just four hidden layers instead of five. Can you achieve a higher precision?**\n",
        "\n",
        "**e. Now unfreeze the top two hidden layers and continue training: can you get the model to perform even better?**\n",
        "\n",
        "**Ans:**"
      ]
    },
    {
      "cell_type": "code",
      "execution_count": 36,
      "id": "27018961-e009-4b2c-8eeb-ec91fa3b878b",
      "metadata": {
        "tags": [],
        "id": "27018961-e009-4b2c-8eeb-ec91fa3b878b"
      },
      "outputs": [],
      "source": [
        "import tensorflow as tf\n",
        "from tensorflow import keras"
      ]
    },
    {
      "cell_type": "code",
      "execution_count": 37,
      "id": "a067180b-7ac9-406a-bde9-3e4b43dee284",
      "metadata": {
        "tags": [],
        "colab": {
          "base_uri": "https://localhost:8080/"
        },
        "id": "a067180b-7ac9-406a-bde9-3e4b43dee284",
        "outputId": "89fadd19-1530-46b2-ce9f-5ad76a99c687"
      },
      "outputs": [
        {
          "output_type": "stream",
          "name": "stdout",
          "text": [
            "Model: \"sequential_1\"\n",
            "_________________________________________________________________\n",
            " Layer (type)                Output Shape              Param #   \n",
            "=================================================================\n",
            " flatten_1 (Flatten)         (None, 784)               0         \n",
            "                                                                 \n",
            " dense_6 (Dense)             (None, 300)               235500    \n",
            "                                                                 \n",
            " dense_7 (Dense)             (None, 100)               30100     \n",
            "                                                                 \n",
            " dense_8 (Dense)             (None, 5)                 505       \n",
            "                                                                 \n",
            "=================================================================\n",
            "Total params: 266,105\n",
            "Trainable params: 266,105\n",
            "Non-trainable params: 0\n",
            "_________________________________________________________________\n"
          ]
        }
      ],
      "source": [
        "# Load the pretrained model\n",
        "pretrained_model = keras.models.load_model(\"my_mnist_model.h5\")\n",
        "pretrained_model.summary()"
      ]
    },
    {
      "cell_type": "code",
      "execution_count": 38,
      "id": "93cf579e-a74d-40ad-bb8f-efcdf74a37e7",
      "metadata": {
        "tags": [],
        "id": "93cf579e-a74d-40ad-bb8f-efcdf74a37e7"
      },
      "outputs": [],
      "source": [
        "# Create a new DNN that reuses all the pretrained hidden layers of the previous model\n",
        "new_model = keras.models.Sequential(pretrained_model.layers[:-1])"
      ]
    },
    {
      "cell_type": "code",
      "execution_count": 39,
      "id": "09219fa1-ea89-4398-b9d8-8fc6be4bdf56",
      "metadata": {
        "tags": [],
        "id": "09219fa1-ea89-4398-b9d8-8fc6be4bdf56"
      },
      "outputs": [],
      "source": [
        "# Freeze the reused layers\n",
        "for layer in new_model.layers:\n",
        "    layer.trainable = False"
      ]
    },
    {
      "cell_type": "code",
      "execution_count": 40,
      "id": "e28deb34-28f4-4fc7-a705-5eb8bbd3a87f",
      "metadata": {
        "tags": [],
        "id": "e28deb34-28f4-4fc7-a705-5eb8bbd3a87f"
      },
      "outputs": [],
      "source": [
        "# Add a new softmax output layer with the desired number of units\n",
        "new_model.add(keras.layers.Dense(5, activation=\"softmax\"))"
      ]
    },
    {
      "cell_type": "code",
      "execution_count": 41,
      "id": "7fef98e5-995f-47b8-a05d-13f5b652281c",
      "metadata": {
        "tags": [],
        "id": "7fef98e5-995f-47b8-a05d-13f5b652281c"
      },
      "outputs": [],
      "source": [
        "# Compile the new model\n",
        "new_model.compile(loss=\"sparse_categorical_crossentropy\", optimizer=\"sgd\", metrics=[\"accuracy\"])"
      ]
    },
    {
      "cell_type": "code",
      "execution_count": 42,
      "id": "d4446eba-c860-47d7-8b79-7e354d805820",
      "metadata": {
        "tags": [],
        "id": "d4446eba-c860-47d7-8b79-7e354d805820"
      },
      "outputs": [],
      "source": [
        "# Load the training data for digits 5 to 9\n",
        "(X_train, y_train), (X_test, y_test) = keras.datasets.mnist.load_data()\n",
        "X_train = X_train[y_train >= 5]\n",
        "y_train = y_train[y_train >= 5] - 5\n",
        "X_test = X_test[y_test >= 5]\n",
        "y_test = y_test[y_test >= 5] - 5"
      ]
    },
    {
      "cell_type": "code",
      "execution_count": 43,
      "id": "4db07155-72f0-4329-99df-a65590e837d1",
      "metadata": {
        "tags": [],
        "colab": {
          "base_uri": "https://localhost:8080/"
        },
        "id": "4db07155-72f0-4329-99df-a65590e837d1",
        "outputId": "22613d70-86bd-4da2-b30d-08e4e2b74a26"
      },
      "outputs": [
        {
          "output_type": "stream",
          "name": "stdout",
          "text": [
            "Epoch 1/10\n",
            "16/16 [==============================] - 1s 33ms/step - loss: 4615.4814 - accuracy: 0.5000 - val_loss: 2359.5835 - val_accuracy: 0.5923\n",
            "Epoch 2/10\n",
            "16/16 [==============================] - 0s 24ms/step - loss: 1355.4196 - accuracy: 0.7100 - val_loss: 1181.3862 - val_accuracy: 0.7114\n",
            "Epoch 3/10\n",
            "16/16 [==============================] - 0s 24ms/step - loss: 1425.4680 - accuracy: 0.6880 - val_loss: 2692.4338 - val_accuracy: 0.5886\n",
            "Epoch 4/10\n",
            "16/16 [==============================] - 0s 24ms/step - loss: 1206.5304 - accuracy: 0.7200 - val_loss: 1744.2183 - val_accuracy: 0.6770\n",
            "Epoch 5/10\n",
            "16/16 [==============================] - 0s 22ms/step - loss: 1678.5192 - accuracy: 0.7300 - val_loss: 2246.0842 - val_accuracy: 0.6579\n",
            "Epoch 6/10\n",
            "16/16 [==============================] - 0s 22ms/step - loss: 1223.4255 - accuracy: 0.7540 - val_loss: 1463.5232 - val_accuracy: 0.7272\n",
            "Epoch 7/10\n",
            "16/16 [==============================] - 0s 24ms/step - loss: 939.2118 - accuracy: 0.7880 - val_loss: 1010.2903 - val_accuracy: 0.7729\n",
            "Epoch 8/10\n",
            "16/16 [==============================] - 0s 24ms/step - loss: 688.4302 - accuracy: 0.8060 - val_loss: 1314.2964 - val_accuracy: 0.7346\n",
            "Epoch 9/10\n",
            "16/16 [==============================] - 0s 24ms/step - loss: 719.6424 - accuracy: 0.8040 - val_loss: 1024.1458 - val_accuracy: 0.7807\n",
            "Epoch 10/10\n",
            "16/16 [==============================] - 0s 22ms/step - loss: 669.5179 - accuracy: 0.8460 - val_loss: 1585.3969 - val_accuracy: 0.7112\n"
          ]
        }
      ],
      "source": [
        "# Train the new model on digits 5 to 9 using only 100 images per digit\n",
        "history = new_model.fit(X_train[:500], y_train[:500], epochs=10, validation_data=(X_test, y_test))"
      ]
    },
    {
      "cell_type": "code",
      "execution_count": 44,
      "id": "012eee0b-cba7-4dc5-8190-972b928f7b1d",
      "metadata": {
        "tags": [],
        "colab": {
          "base_uri": "https://localhost:8080/"
        },
        "id": "012eee0b-cba7-4dc5-8190-972b928f7b1d",
        "outputId": "fdef1adc-805b-4ca8-d406-31610c6cc521"
      },
      "outputs": [
        {
          "output_type": "stream",
          "name": "stdout",
          "text": [
            "152/152 [==============================] - 0s 2ms/step - loss: 1585.3969 - accuracy: 0.7112\n",
            "Test accuracy: 0.7111705541610718\n"
          ]
        }
      ],
      "source": [
        "# Evaluate the trained model\n",
        "test_loss, test_acc = new_model.evaluate(X_test, y_test)\n",
        "print(f\"Test accuracy: {test_acc}\")"
      ]
    },
    {
      "cell_type": "code",
      "execution_count": 45,
      "id": "e8d32853-d109-4513-a83f-9f80ba08082d",
      "metadata": {
        "tags": [],
        "colab": {
          "base_uri": "https://localhost:8080/"
        },
        "id": "e8d32853-d109-4513-a83f-9f80ba08082d",
        "outputId": "dea4124c-ddf1-4b36-e384-3e5a7b296d14"
      },
      "outputs": [
        {
          "output_type": "stream",
          "name": "stdout",
          "text": [
            "Epoch 1/10\n",
            "16/16 [==============================] - 1s 33ms/step - loss: 581.5010 - accuracy: 0.8320 - val_loss: 2083.6228 - val_accuracy: 0.6795\n",
            "Epoch 2/10\n",
            "16/16 [==============================] - 0s 23ms/step - loss: 680.2859 - accuracy: 0.8200 - val_loss: 2737.2510 - val_accuracy: 0.6850\n",
            "Epoch 3/10\n",
            "16/16 [==============================] - 0s 23ms/step - loss: 650.0066 - accuracy: 0.8320 - val_loss: 1096.2122 - val_accuracy: 0.7712\n",
            "Epoch 4/10\n",
            "16/16 [==============================] - 0s 24ms/step - loss: 674.1425 - accuracy: 0.8320 - val_loss: 767.3823 - val_accuracy: 0.8227\n",
            "Epoch 5/10\n",
            "16/16 [==============================] - 0s 23ms/step - loss: 410.9860 - accuracy: 0.8680 - val_loss: 1089.1434 - val_accuracy: 0.7628\n",
            "Epoch 6/10\n",
            "16/16 [==============================] - 0s 24ms/step - loss: 513.7233 - accuracy: 0.8220 - val_loss: 1202.7911 - val_accuracy: 0.7519\n",
            "Epoch 7/10\n",
            "16/16 [==============================] - 0s 22ms/step - loss: 1266.4198 - accuracy: 0.8020 - val_loss: 935.3578 - val_accuracy: 0.7941\n",
            "Epoch 8/10\n",
            "16/16 [==============================] - 0s 24ms/step - loss: 711.3541 - accuracy: 0.8300 - val_loss: 826.4274 - val_accuracy: 0.8114\n",
            "Epoch 9/10\n",
            "16/16 [==============================] - 0s 25ms/step - loss: 391.6069 - accuracy: 0.8700 - val_loss: 1456.2095 - val_accuracy: 0.7449\n",
            "Epoch 10/10\n",
            "16/16 [==============================] - 0s 23ms/step - loss: 459.7091 - accuracy: 0.8440 - val_loss: 1076.3190 - val_accuracy: 0.7795\n"
          ]
        }
      ],
      "source": [
        "# Try caching the frozen layers and train the model again\n",
        "new_model.layers[0].trainable = True\n",
        "new_model.compile(loss=\"sparse_categorical_crossentropy\", optimizer=\"sgd\", metrics=[\"accuracy\"])\n",
        "history = new_model.fit(X_train[:500], y_train[:500], epochs=10, validation_data=(X_test, y_test))"
      ]
    },
    {
      "cell_type": "code",
      "execution_count": 46,
      "id": "a0175a9c-1c40-41be-b387-1df575278dd3",
      "metadata": {
        "tags": [],
        "colab": {
          "base_uri": "https://localhost:8080/"
        },
        "id": "a0175a9c-1c40-41be-b387-1df575278dd3",
        "outputId": "17202405-5e68-4c99-d6ab-986ff66a5f5c"
      },
      "outputs": [
        {
          "output_type": "stream",
          "name": "stdout",
          "text": [
            "152/152 [==============================] - 0s 2ms/step - loss: 1076.3190 - accuracy: 0.7795\n",
            "Test accuracy: 0.7794692516326904\n"
          ]
        }
      ],
      "source": [
        "# Evaluate the trained model again\n",
        "test_loss, test_acc = new_model.evaluate(X_test, y_test)\n",
        "print(f\"Test accuracy: {test_acc}\")"
      ]
    },
    {
      "cell_type": "code",
      "execution_count": 47,
      "id": "bbb2f251-1091-437a-b82d-a41636f6824e",
      "metadata": {
        "tags": [],
        "colab": {
          "base_uri": "https://localhost:8080/"
        },
        "id": "bbb2f251-1091-437a-b82d-a41636f6824e",
        "outputId": "9629bc34-4494-4cb4-8093-0d02a6ce3d7f"
      },
      "outputs": [
        {
          "output_type": "stream",
          "name": "stdout",
          "text": [
            "Epoch 1/10\n",
            "16/16 [==============================] - 1s 30ms/step - loss: 814.6971 - accuracy: 0.6500 - val_loss: 298.4957 - val_accuracy: 0.8157\n",
            "Epoch 2/10\n",
            "16/16 [==============================] - 0s 24ms/step - loss: 193.2913 - accuracy: 0.8640 - val_loss: 1375.3722 - val_accuracy: 0.5528\n",
            "Epoch 3/10\n",
            "16/16 [==============================] - 0s 22ms/step - loss: 174.1330 - accuracy: 0.8800 - val_loss: 168.6087 - val_accuracy: 0.8733\n",
            "Epoch 4/10\n",
            "16/16 [==============================] - 0s 22ms/step - loss: 63.3086 - accuracy: 0.9320 - val_loss: 226.7970 - val_accuracy: 0.8268\n",
            "Epoch 5/10\n",
            "16/16 [==============================] - 0s 22ms/step - loss: 46.0074 - accuracy: 0.9200 - val_loss: 133.6114 - val_accuracy: 0.8836\n",
            "Epoch 6/10\n",
            "16/16 [==============================] - 0s 25ms/step - loss: 27.1732 - accuracy: 0.9440 - val_loss: 145.3285 - val_accuracy: 0.8772\n",
            "Epoch 7/10\n",
            "16/16 [==============================] - 0s 23ms/step - loss: 11.5244 - accuracy: 0.9760 - val_loss: 161.3436 - val_accuracy: 0.8636\n",
            "Epoch 8/10\n",
            "16/16 [==============================] - 0s 24ms/step - loss: 18.5054 - accuracy: 0.9640 - val_loss: 121.7041 - val_accuracy: 0.8943\n",
            "Epoch 9/10\n",
            "16/16 [==============================] - 0s 24ms/step - loss: 3.2383 - accuracy: 0.9820 - val_loss: 263.9564 - val_accuracy: 0.8105\n",
            "Epoch 10/10\n",
            "16/16 [==============================] - 0s 21ms/step - loss: 7.8024 - accuracy: 0.9760 - val_loss: 144.3925 - val_accuracy: 0.8811\n"
          ]
        }
      ],
      "source": [
        "# Try again reusing just four hidden layers instead of five\n",
        "new_model2 = keras.models.Sequential(pretrained_model.layers[:-2])\n",
        "for layer in new_model2.layers:\n",
        "    layer.trainable = False\n",
        "new_model2.add(keras.layers.Dense(5, activation=\"softmax\"))\n",
        "new_model2.compile(loss=\"sparse_categorical_crossentropy\", optimizer=\"sgd\", metrics=[\"accuracy\"])\n",
        "history = new_model2.fit(X_train[:500], y_train[:500], epochs=10, validation_data=(X_test, y_test))"
      ]
    },
    {
      "cell_type": "code",
      "execution_count": 48,
      "id": "280f42c2-0a48-4694-a5e7-c1e016604264",
      "metadata": {
        "tags": [],
        "colab": {
          "base_uri": "https://localhost:8080/"
        },
        "id": "280f42c2-0a48-4694-a5e7-c1e016604264",
        "outputId": "59bf49d4-0f03-4977-c942-69da7c5ec5bb"
      },
      "outputs": [
        {
          "output_type": "stream",
          "name": "stdout",
          "text": [
            "152/152 [==============================] - 1s 3ms/step - loss: 144.3925 - accuracy: 0.8811\n",
            "Test accuracy: 0.8810943961143494\n"
          ]
        }
      ],
      "source": [
        "# Evaluate the trained model again\n",
        "test_loss, test_acc = new_model2.evaluate(X_test, y_test)\n",
        "print(f\"Test accuracy: {test_acc}\")"
      ]
    },
    {
      "cell_type": "code",
      "execution_count": 49,
      "id": "50cd9c48-71fa-4dad-ba0d-699665ea87a2",
      "metadata": {
        "tags": [],
        "colab": {
          "base_uri": "https://localhost:8080/"
        },
        "id": "50cd9c48-71fa-4dad-ba0d-699665ea87a2",
        "outputId": "546588fc-aab0-4944-938a-9a253165cc2e"
      },
      "outputs": [
        {
          "output_type": "stream",
          "name": "stdout",
          "text": [
            "Epoch 1/10\n",
            "16/16 [==============================] - 1s 32ms/step - loss: 108806.0391 - accuracy: 0.3240 - val_loss: 5.3470 - val_accuracy: 0.2168\n",
            "Epoch 2/10\n",
            "16/16 [==============================] - 0s 22ms/step - loss: 2.8513 - accuracy: 0.2460 - val_loss: 3.1770 - val_accuracy: 0.2397\n",
            "Epoch 3/10\n",
            "16/16 [==============================] - 0s 22ms/step - loss: 1.6077 - accuracy: 0.2860 - val_loss: 2.5901 - val_accuracy: 0.2403\n",
            "Epoch 4/10\n",
            "16/16 [==============================] - 0s 22ms/step - loss: 1.4722 - accuracy: 0.2880 - val_loss: 2.5375 - val_accuracy: 0.2403\n",
            "Epoch 5/10\n",
            "16/16 [==============================] - 0s 24ms/step - loss: 1.4591 - accuracy: 0.2880 - val_loss: 2.5765 - val_accuracy: 0.2403\n",
            "Epoch 6/10\n",
            "16/16 [==============================] - 0s 24ms/step - loss: 1.4680 - accuracy: 0.2880 - val_loss: 2.5500 - val_accuracy: 0.2401\n",
            "Epoch 7/10\n",
            "16/16 [==============================] - 0s 21ms/step - loss: 1.4548 - accuracy: 0.2880 - val_loss: 2.5083 - val_accuracy: 0.2411\n",
            "Epoch 8/10\n",
            "16/16 [==============================] - 0s 24ms/step - loss: 1.4152 - accuracy: 0.2880 - val_loss: 2.5220 - val_accuracy: 0.2759\n",
            "Epoch 9/10\n",
            "16/16 [==============================] - 0s 24ms/step - loss: 1.4307 - accuracy: 0.3160 - val_loss: 2.4864 - val_accuracy: 0.3055\n",
            "Epoch 10/10\n",
            "16/16 [==============================] - 0s 25ms/step - loss: 1.3993 - accuracy: 0.3360 - val_loss: 2.4631 - val_accuracy: 0.3252\n"
          ]
        }
      ],
      "source": [
        "# Now unfreeze the top two hidden layers and continue training\n",
        "for layer in new_model2.layers[-3:]:\n",
        "    layer.trainable = True\n",
        "new_model2.compile(loss=\"sparse_categorical_crossentropy\", optimizer=\"sgd\", metrics=[\"accuracy\"])\n",
        "history = new_model2.fit(X_train[:500], y_train[:500], epochs=10, validation_data=(X_test, y_test))"
      ]
    },
    {
      "cell_type": "code",
      "execution_count": 50,
      "id": "db44f4be-d7b7-4d8a-9894-e1031d1130fd",
      "metadata": {
        "tags": [],
        "colab": {
          "base_uri": "https://localhost:8080/"
        },
        "id": "db44f4be-d7b7-4d8a-9894-e1031d1130fd",
        "outputId": "66197394-0c6a-4495-9673-5ad15a5d472f"
      },
      "outputs": [
        {
          "output_type": "stream",
          "name": "stdout",
          "text": [
            "152/152 [==============================] - 0s 2ms/step - loss: 2.4631 - accuracy: 0.3252\n",
            "Test accuracy: 0.32524171471595764\n"
          ]
        }
      ],
      "source": [
        "# Evaluate the trained model again\n",
        "test_loss, test_acc = new_model2.evaluate(X_test, y_test)\n",
        "print(f\"Test accuracy: {test_acc}\")"
      ]
    },
    {
      "cell_type": "markdown",
      "id": "9d63bc8f-2ebe-4aec-b990-3a3540bd4320",
      "metadata": {
        "id": "9d63bc8f-2ebe-4aec-b990-3a3540bd4320"
      },
      "source": [
        "**3. Pretraining on an auxiliary task.**\n",
        "\n",
        "**a. In this exercise you will build a DNN that compares two MNIST digit images and predicts whether they represent the same digit or not. Then you will reuse the lower layers of this network to train an MNIST classifier using very little training data. Start by building two DNNs (let’s call them DNN A and B), both similar to the one you built earlier but without the output layer: each DNN should have five hidden layers of 100 neurons each, He initialization, and ELU activation. Next, add one more hidden layer with 10 units on top of both DNNs. To do this, you should use TensorFlow’s concat() function with axis=1 to concatenate the outputs of both DNNs for each instance, then feed the result to the hidden layer. Finally, add an output layer with a single neuron using the logistic activation function.**\n",
        "\n",
        "**b. Split the MNIST training set in two sets: split #1 should containing 55,000 images, and split #2 should contain contain 5,000 images. Create a function that generates a training batch where each instance is a pair of MNIST images picked from split #1. Half of the training instances should be pairs of images that belong to the same class, while the other half should be images from different classes. For each pair, the training label should be 0 if the images are from the same class, or 1 if they are from different classes.**\n",
        "\n",
        "**c. Train the DNN on this training set. For each image pair, you can simultaneously feed the first image to DNN A and the second image to DNN B. The whole network will gradually learn to tell whether two images belong to the same class or not.**\n",
        "\n",
        "**d. Now create a new DNN by reusing and freezing the hidden layers of DNN A and adding a softmax output layer on top with 10 neurons. Train this network on split #2 and see if you can achieve high performance despite having only 500 images per class.**"
      ]
    },
    {
      "cell_type": "markdown",
      "id": "2be95238-7046-43c1-aa21-c3dd1356f4b0",
      "metadata": {
        "tags": [],
        "id": "2be95238-7046-43c1-aa21-c3dd1356f4b0"
      },
      "source": [
        "**Ans:** "
      ]
    },
    {
      "cell_type": "code",
      "execution_count": 51,
      "id": "32f553ef-7c41-4cd0-a9a9-b819308142ea",
      "metadata": {
        "tags": [],
        "id": "32f553ef-7c41-4cd0-a9a9-b819308142ea"
      },
      "outputs": [],
      "source": [
        "import tensorflow as tf\n",
        "from tensorflow import keras\n",
        "import numpy as np"
      ]
    },
    {
      "cell_type": "code",
      "execution_count": 52,
      "id": "7d5d9b5d-833f-46f1-83c1-be46d8045509",
      "metadata": {
        "id": "7d5d9b5d-833f-46f1-83c1-be46d8045509"
      },
      "outputs": [],
      "source": [
        "# Load the MNIST dataset and split it into two sets\n",
        "(X_train_full, y_train_full), (X_test, y_test) = keras.datasets.mnist.load_data()\n",
        "X_train_full = X_train_full.astype(np.float32) / 255\n",
        "X_test = X_test.astype(np.float32) / 255\n",
        "X_train1 = X_train_full[:55000]\n",
        "y_train1 = y_train_full[:55000]\n",
        "X_train2 = X_train_full[55000:]\n",
        "y_train2 = y_train_full[55000:]"
      ]
    },
    {
      "cell_type": "code",
      "execution_count": 53,
      "id": "8e49013d-5943-4164-b2fa-2300b88d51a2",
      "metadata": {
        "id": "8e49013d-5943-4164-b2fa-2300b88d51a2"
      },
      "outputs": [],
      "source": [
        "# Define a function to generate a training batch where each instance is a pair of MNIST images\n",
        "def generate_batch(batch_size):\n",
        "    X_batch1 = np.empty((batch_size, 28, 28), dtype=np.float32)\n",
        "    X_batch2 = np.empty((batch_size, 28, 28), dtype=np.float32)\n",
        "    y_batch = np.empty((batch_size, 1), dtype=np.int32)\n",
        "    for i in range(batch_size):\n",
        "        index1 = np.random.randint(len(X_train1))\n",
        "        X_batch1[i] = X_train1[index1]\n",
        "        if i % 2 == 0:\n",
        "            # Images from the same class\n",
        "            index2 = index1\n",
        "            while index2 == index1:\n",
        "                index2 = np.random.randint(len(X_train1))\n",
        "                if y_train1[index2] == y_train1[index1]:\n",
        "                    break\n",
        "            y_batch[i] = 0\n",
        "        else:\n",
        "            # Images from different classes\n",
        "            index2 = index1\n",
        "            while index2 == index1 or y_train1[index2] == y_train1[index1]:\n",
        "                index2 = np.random.randint(len(X_train1))\n",
        "            y_batch[i] = 1\n",
        "        X_batch2[i] = X_train1[index2]\n",
        "    return [X_batch1, X_batch2], y_batch"
      ]
    },
    {
      "cell_type": "code",
      "execution_count": 54,
      "id": "26b17702-cbe5-435c-b294-442695e93340",
      "metadata": {
        "id": "26b17702-cbe5-435c-b294-442695e93340"
      },
      "outputs": [],
      "source": [
        "# Build two DNNs (let’s call them DNN A and B), both similar to the one you built earlier but without the output layer\n",
        "def build_dnn():\n",
        "    model = keras.models.Sequential()\n",
        "    model.add(keras.layers.Flatten(input_shape=[28, 28]))\n",
        "    for _ in range(5):\n",
        "        model.add(keras.layers.Dense(100, activation=\"elu\", kernel_initializer=\"he_normal\"))\n",
        "    return model\n",
        "\n",
        "dnn_a = build_dnn()\n",
        "dnn_b = build_dnn()"
      ]
    },
    {
      "cell_type": "code",
      "execution_count": 55,
      "id": "01de10df-08e3-44af-bf5d-8b8c17a9e6c3",
      "metadata": {
        "id": "01de10df-08e3-44af-bf5d-8b8c17a9e6c3"
      },
      "outputs": [],
      "source": [
        "# Add one more hidden layer with 10 units on top of both DNNs\n",
        "merged_output = keras.layers.concatenate([dnn_a.output, dnn_b.output])\n",
        "hidden_layer = keras.layers.Dense(10, activation=\"elu\", kernel_initializer=\"he_normal\")(merged_output)"
      ]
    },
    {
      "cell_type": "code",
      "execution_count": 56,
      "id": "a11dd09a-f10c-4bf0-80c7-b02002f82b8a",
      "metadata": {
        "id": "a11dd09a-f10c-4bf0-80c7-b02002f82b8a"
      },
      "outputs": [],
      "source": [
        "# Add an output layer with a single neuron using the logistic activation function\n",
        "output_layer = keras.layers.Dense(1, activation=\"sigmoid\")(hidden_layer)"
      ]
    },
    {
      "cell_type": "code",
      "execution_count": 57,
      "id": "7780378a-f2f1-406b-b5df-d5e4c5c82ac4",
      "metadata": {
        "id": "7780378a-f2f1-406b-b5df-d5e4c5c82ac4"
      },
      "outputs": [],
      "source": [
        "# Create a new model that takes two MNIST images as inputs and outputs a single value representing whether the images belong to the same class or not\n",
        "model = keras.models.Model(inputs=[dnn_a.input, dnn_b.input], outputs=[output_layer])"
      ]
    },
    {
      "cell_type": "code",
      "execution_count": 58,
      "id": "590a4a54-e6b2-4384-9f38-6151b8d03880",
      "metadata": {
        "id": "590a4a54-e6b2-4384-9f38-6151b8d03880"
      },
      "outputs": [],
      "source": [
        "# Compile the model\n",
        "model.compile(loss=\"binary_crossentropy\", optimizer=\"nadam\", metrics=[\"accuracy\"])"
      ]
    },
    {
      "cell_type": "code",
      "execution_count": 59,
      "id": "bdd99585-0813-4623-b454-a6d02c9cfe5d",
      "metadata": {
        "id": "bdd99585-0813-4623-b454-a6d02c9cfe5d"
      },
      "outputs": [],
      "source": [
        "# Train the DNN on this training set\n",
        "batch_size = 32\n",
        "for epoch in range(10):\n",
        "    for iteration in range(len(X_train1) // batch_size):\n",
        "        X_batch, y_batch = generate_batch(batch_size)\n",
        "        model.train_on_batch(X_batch, y_batch)"
      ]
    },
    {
      "cell_type": "code",
      "execution_count": 60,
      "id": "2a4c7312-d5dd-4d6b-b256-640102556612",
      "metadata": {
        "id": "2a4c7312-d5dd-4d6b-b256-640102556612"
      },
      "outputs": [],
      "source": [
        "# Create a new DNN by reusing and freezing the hidden layers of DNN A and adding a softmax output layer on top with 10 neurons\n",
        "new_model = keras.models.Sequential(dnn_a.layers[:-1])\n",
        "for layer in new_model.layers:\n",
        "    layer.trainable = False\n",
        "\n",
        "new_model.add(keras.layers.Dense(10, activation=\"softmax\"))"
      ]
    },
    {
      "cell_type": "code",
      "execution_count": 61,
      "id": "297dce5d-9153-4fac-9563-2f974746d70a",
      "metadata": {
        "id": "297dce5d-9153-4fac-9563-2f974746d70a"
      },
      "outputs": [],
      "source": [
        "# Compile the new model\n",
        "new_model.compile(loss=\"sparse_categorical_crossentropy\", optimizer=\"nadam\", metrics=[\"accuracy\"])\n"
      ]
    },
    {
      "cell_type": "code",
      "execution_count": 62,
      "id": "5519ce1d-beec-4e78-9c74-b566b4df909c",
      "metadata": {
        "colab": {
          "base_uri": "https://localhost:8080/"
        },
        "id": "5519ce1d-beec-4e78-9c74-b566b4df909c",
        "outputId": "497e0816-de11-4bdf-e2bd-8c1c4e9e0ecc"
      },
      "outputs": [
        {
          "output_type": "stream",
          "name": "stdout",
          "text": [
            "Epoch 1/10\n",
            "157/157 [==============================] - 1s 3ms/step - loss: 2.6013 - accuracy: 0.1196\n",
            "Epoch 2/10\n",
            "157/157 [==============================] - 1s 3ms/step - loss: 2.2522 - accuracy: 0.1460\n",
            "Epoch 3/10\n",
            "157/157 [==============================] - 1s 4ms/step - loss: 2.2063 - accuracy: 0.1706\n",
            "Epoch 4/10\n",
            "157/157 [==============================] - 1s 4ms/step - loss: 2.1678 - accuracy: 0.1858\n",
            "Epoch 5/10\n",
            "157/157 [==============================] - 1s 4ms/step - loss: 2.1365 - accuracy: 0.1998\n",
            "Epoch 6/10\n",
            "157/157 [==============================] - 0s 3ms/step - loss: 2.1106 - accuracy: 0.2122\n",
            "Epoch 7/10\n",
            "157/157 [==============================] - 0s 3ms/step - loss: 2.0977 - accuracy: 0.2238\n",
            "Epoch 8/10\n",
            "157/157 [==============================] - 0s 3ms/step - loss: 2.0708 - accuracy: 0.2412\n",
            "Epoch 9/10\n",
            "157/157 [==============================] - 0s 3ms/step - loss: 2.0619 - accuracy: 0.2542\n",
            "Epoch 10/10\n",
            "157/157 [==============================] - 0s 3ms/step - loss: 2.0499 - accuracy: 0.2602\n"
          ]
        }
      ],
      "source": [
        "# Train this network on split #2 and see if you can achieve high performance despite having only 500 images per class\n",
        "history = new_model.fit(X_train2, y_train2, epochs=10)"
      ]
    },
    {
      "cell_type": "code",
      "execution_count": 63,
      "id": "1c4cd760-aa86-4c9c-9261-9db78f16d2c5",
      "metadata": {
        "tags": [],
        "colab": {
          "base_uri": "https://localhost:8080/"
        },
        "id": "1c4cd760-aa86-4c9c-9261-9db78f16d2c5",
        "outputId": "3323ac83-f542-4959-e057-793f16e1db77"
      },
      "outputs": [
        {
          "output_type": "stream",
          "name": "stdout",
          "text": [
            "313/313 [==============================] - 1s 3ms/step - loss: 2.0320 - accuracy: 0.2804\n",
            "Test accuracy: 0.28040000796318054\n"
          ]
        }
      ],
      "source": [
        "# Evaluate the trained model on the test set\n",
        "test_loss, test_acc = new_model.evaluate(X_test, y_test)\n",
        "print(f\"Test accuracy: {test_acc}\")"
      ]
    }
  ],
  "metadata": {
    "accelerator": "GPU",
    "colab": {
      "provenance": [],
      "gpuType": "T4"
    },
    "gpuClass": "standard",
    "kernelspec": {
      "display_name": "Python 3 (ipykernel)",
      "language": "python",
      "name": "python3"
    },
    "language_info": {
      "codemirror_mode": {
        "name": "ipython",
        "version": 3
      },
      "file_extension": ".py",
      "mimetype": "text/x-python",
      "name": "python",
      "nbconvert_exporter": "python",
      "pygments_lexer": "ipython3",
      "version": "3.9.12"
    }
  },
  "nbformat": 4,
  "nbformat_minor": 5
}