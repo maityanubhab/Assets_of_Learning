{
 "cells": [
  {
   "cell_type": "markdown",
   "id": "68411d95",
   "metadata": {},
   "source": [
    "#### 1.What are the two values of the boolean data types? how do you write them ?"
   ]
  },
  {
   "cell_type": "raw",
   "id": "69db4164",
   "metadata": {},
   "source": [
    "Ans: Two values of the boolen data types are True and False. We have to use capital T and F and with the rest of the word in lowercase. The type() of both False and True is bool. The type bool is built in, meaning it’s always available in Python and doesn’t need to be imported. However, the name itself isn’t a keyword in the language."
   ]
  },
  {
   "cell_type": "code",
   "execution_count": 1,
   "id": "a453a596",
   "metadata": {},
   "outputs": [
    {
     "name": "stdout",
     "output_type": "stream",
     "text": [
      "True <class 'bool'>\n",
      "False <class 'bool'>\n"
     ]
    }
   ],
   "source": [
    "a=True\n",
    "b=False\n",
    "print(a,type(a))\n",
    "print(b,type(b))"
   ]
  },
  {
   "cell_type": "markdown",
   "id": "d428b915",
   "metadata": {},
   "source": [
    "#### 2. What are the three different types of Boolean operators?"
   ]
  },
  {
   "cell_type": "raw",
   "id": "0905526f",
   "metadata": {},
   "source": [
    "Ans: Boolean operators form the basis of mathematical sets and database logic. They connect our search words together to either narrow or broaden our set of results.The three differnt types of Boolean operators in python are: are, and, not Example: a>40 and b>40"
   ]
  },
  {
   "cell_type": "code",
   "execution_count": 2,
   "id": "5f4a8801",
   "metadata": {},
   "outputs": [
    {
     "name": "stdout",
     "output_type": "stream",
     "text": [
      "True\n",
      "True\n",
      "False\n"
     ]
    }
   ],
   "source": [
    "a=1000\n",
    "b=2000\n",
    "print(a>500 and b>1000) # Example of boolean and\n",
    "print(a>200 or b>1000) # Example of boolean or\n",
    "print(not(a>11)) # Example of boolean not"
   ]
  },
  {
   "cell_type": "markdown",
   "id": "93f6934b",
   "metadata": {},
   "source": [
    "#### 3. Make a list of each Boolean operator's truth tables (i.e. every possible combination of Boolean values for the operator and what it evaluate)"
   ]
  },
  {
   "cell_type": "markdown",
   "id": "1cad0e63",
   "metadata": {},
   "source": [
    "Ans: The Truth tables for the boolean tables are as follows:\\\n",
    "\n",
    "Truth Table for and operator\\\n",
    "True and True --> True\\\n",
    "True and False --> False\\\n",
    "False and True --> False\\\n",
    "False and False --> False\\\n",
    "\n",
    "Truth Table for or operator\\\n",
    "True or True --> True\\\n",
    "True or False --> True\\\n",
    "False or True --> True\\\n",
    "False or False --> False\\\n",
    "\n",
    "Truth Table for not operator\\\n",
    "True not --> False False not --> True\\"
   ]
  },
  {
   "cell_type": "markdown",
   "id": "0947d332",
   "metadata": {},
   "source": [
    "#### 4. What are the values of the following expressions ?\n",
    "\n",
    "(5 &gt; 4) and (3 == 5)\\\n",
    "not (5 &gt; 4)\\\n",
    "(5 &gt; 4) or (3 == 5)\\\n",
    "not ((5 &gt; 4) or (3 == 5))\\\n",
    "(True and True) and (True == False)\\\n",
    "(not False) or (not True)\\"
   ]
  },
  {
   "cell_type": "code",
   "execution_count": 3,
   "id": "689bb12b",
   "metadata": {},
   "outputs": [
    {
     "name": "stdout",
     "output_type": "stream",
     "text": [
      "False\n",
      "False\n",
      "True\n",
      "False\n",
      "False\n",
      "True\n"
     ]
    }
   ],
   "source": [
    "print((5>4)and(3==5)) \n",
    "print(not(5>4)) \n",
    "print((5>4)or(3==5)) \n",
    "print(not((5>4)or(3==5)))\n",
    "print((True and True)and(True==False)) \n",
    "print((not False)or(not True)) "
   ]
  },
  {
   "cell_type": "markdown",
   "id": "ffe1e764",
   "metadata": {},
   "source": [
    "#### 5. What are the six comparison operators?"
   ]
  },
  {
   "cell_type": "markdown",
   "id": "d9e25510",
   "metadata": {},
   "source": [
    "Ans: The Six Comparision Operators available in python are:\\\n",
    "     == , != , < , > , <= , =>"
   ]
  },
  {
   "cell_type": "markdown",
   "id": "de27ab23",
   "metadata": {},
   "source": [
    "#### 6. How do you tell the difference between the equal to and assignment operators? Describe a condition and when you would use one?"
   ]
  },
  {
   "cell_type": "markdown",
   "id": "b0288623",
   "metadata": {},
   "source": [
    "Ans: == is the equal to operator that compares two values and evaluates to a Boolean, while = is that assignment operator that stores a value in a variable."
   ]
  },
  {
   "cell_type": "code",
   "execution_count": 6,
   "id": "a1672aea",
   "metadata": {},
   "outputs": [
    {
     "name": "stdout",
     "output_type": "stream",
     "text": [
      "True\n"
     ]
    }
   ],
   "source": [
    "b=10 # Assigning operator that stores 3 value in a variable a\n",
    "if b==10:#comparing values of a varible value and 3\n",
    "    print(b==10)  "
   ]
  },
  {
   "cell_type": "markdown",
   "id": "90023a04",
   "metadata": {},
   "source": [
    "#### 7. Identify the three blocks in this code:\n",
    "spam = 0\\\n",
    "if spam == 10:\\\n",
    "print('eggs')\\\n",
    "if spam > 5:\\\n",
    "print('bacon')\\\n",
    "else:\\\n",
    "print('ham')\\\n",
    "print('spam')\\\n",
    "print('spam')\\"
   ]
  },
  {
   "cell_type": "markdown",
   "id": "180bcfa1",
   "metadata": {},
   "source": [
    "Ans: In Python, code block refers to a collection of code that is in the same block or indent. This is most commonly found in classes, functions, and loops. Answer for the question is:\n",
    "\n",
    "ham\n",
    "\n",
    "spam\n",
    "\n",
    "spam"
   ]
  },
  {
   "cell_type": "code",
   "execution_count": 8,
   "id": "bc464743",
   "metadata": {},
   "outputs": [
    {
     "name": "stdout",
     "output_type": "stream",
     "text": [
      "ham\n",
      "spam\n",
      "spam\n"
     ]
    }
   ],
   "source": [
    "spam = 0  \n",
    "if spam == 10:  \n",
    "    print('eggs')  # block #1\n",
    "if spam > 5:  \n",
    "    print('bacon')  # block #2\n",
    "else:  \n",
    "    print('ham')  # block #3\n",
    "print('spam')  \n",
    "print('spam')"
   ]
  },
  {
   "cell_type": "markdown",
   "id": "47952fe4",
   "metadata": {},
   "source": [
    "#### 8. Write code that prints Hello if 1 is stored in spam, prints Howdy if 2 is stored in spam, and prints Greetings! if anything else is stored in spam."
   ]
  },
  {
   "cell_type": "code",
   "execution_count": 10,
   "id": "dcf83187",
   "metadata": {},
   "outputs": [
    {
     "name": "stdout",
     "output_type": "stream",
     "text": [
      "Howdy\n",
      "Greetings\n",
      "Hello\n"
     ]
    }
   ],
   "source": [
    "def spamCode(spam):\n",
    "    if spam==1:\n",
    "        print('Hello')\n",
    "    elif spam==2:\n",
    "        print('Howdy')\n",
    "    else:\n",
    "        print('Greetings')\n",
    "        \n",
    "spamCode(2) \n",
    "spamCode(3)\n",
    "spamCode(1)"
   ]
  },
  {
   "cell_type": "markdown",
   "id": "a772b38d",
   "metadata": {},
   "source": [
    "#### 9.If your programme is stuck in an endless loop, what keys you’ll press?"
   ]
  },
  {
   "cell_type": "markdown",
   "id": "315656b5",
   "metadata": {},
   "source": [
    "Ans: To stop a program stuck in an infinite loop, we press Ctrl-c or we can restart the kernel"
   ]
  },
  {
   "cell_type": "markdown",
   "id": "343f002e",
   "metadata": {},
   "source": [
    "#### 10. How can you tell the difference between break and continue?"
   ]
  },
  {
   "cell_type": "markdown",
   "id": "ef0f017a",
   "metadata": {},
   "source": [
    "Ans: The break statement will move the execution outside the loop if break condtion is satisfied whereas the continue statement will move the execution to the start of the loop. Example of break and continue is mentioned below:"
   ]
  },
  {
   "cell_type": "code",
   "execution_count": 12,
   "id": "3e7d0a4e",
   "metadata": {},
   "outputs": [
    {
     "name": "stdout",
     "output_type": "stream",
     "text": [
      "s\n",
      "t\n",
      "r\n",
      "The end\n"
     ]
    }
   ],
   "source": [
    "# Use of break statement inside the loop\n",
    "\n",
    "for val in \"string\":\n",
    "    if val == \"i\":\n",
    "        break\n",
    "    print(val)\n",
    "\n",
    "print(\"The end\")"
   ]
  },
  {
   "cell_type": "code",
   "execution_count": 13,
   "id": "0f538957",
   "metadata": {},
   "outputs": [
    {
     "name": "stdout",
     "output_type": "stream",
     "text": [
      "s\n",
      "t\n",
      "r\n",
      "n\n",
      "g\n",
      "The end\n"
     ]
    }
   ],
   "source": [
    "# Program to show the use of continue statement inside loops\n",
    "\n",
    "for val in \"string\":\n",
    "    if val == \"i\":\n",
    "        continue\n",
    "    print(val)\n",
    "\n",
    "print(\"The end\")"
   ]
  },
  {
   "cell_type": "markdown",
   "id": "0d32be82",
   "metadata": {},
   "source": [
    "#### 11. In a for loop, what is the difference between range(10), range(0, 10), and range(0, 10, 1)?"
   ]
  },
  {
   "cell_type": "markdown",
   "id": "b020908f",
   "metadata": {},
   "source": [
    "Ans: The Differences are as follows:\n",
    "\n",
    "1.The range(10) call range from 0 to 9 (but not include 10)\\\n",
    "2.The range (0,10) explicitly tells the loop to start at 0\\\n",
    "3.The range(0,10,1) explicitly tells the loop to increase the variable by 1 on each iteration\\"
   ]
  },
  {
   "cell_type": "code",
   "execution_count": 15,
   "id": "28445411",
   "metadata": {},
   "outputs": [
    {
     "name": "stdout",
     "output_type": "stream",
     "text": [
      "0    1    2    3    4    5    6    7    8    9    \n"
     ]
    }
   ],
   "source": [
    "# printing a number\n",
    "for i in range(10):\n",
    "    print(i, end=\"    \")\n",
    "print()"
   ]
  },
  {
   "cell_type": "code",
   "execution_count": 16,
   "id": "e618bb5d",
   "metadata": {},
   "outputs": [
    {
     "name": "stdout",
     "output_type": "stream",
     "text": [
      "Sum of numbers : 45\n"
     ]
    }
   ],
   "source": [
    "# performing sum of numbers\n",
    "sum = 0\n",
    "for i in range(0, 10):\n",
    "    sum = sum + i\n",
    "print(\"Sum of numbers :\", sum)"
   ]
  },
  {
   "cell_type": "code",
   "execution_count": 19,
   "id": "27358416",
   "metadata": {},
   "outputs": [
    {
     "name": "stdout",
     "output_type": "stream",
     "text": [
      "Sum of numbers : 45\n"
     ]
    }
   ],
   "source": [
    "# performing sum of numbers\n",
    "sum = 0\n",
    "for i in range(0, 10, 1):\n",
    "    sum = sum + i\n",
    "print(\"Sum of numbers :\", sum)"
   ]
  },
  {
   "cell_type": "markdown",
   "id": "b37cafa1",
   "metadata": {},
   "source": [
    "#### 12. Write a short program that prints the numbers 1 to 10 using a for loop. Then write an equivalent program that prints the numbers 1 to 10 using a while loop ?"
   ]
  },
  {
   "cell_type": "code",
   "execution_count": 29,
   "id": "6d1261ab",
   "metadata": {},
   "outputs": [
    {
     "name": "stdout",
     "output_type": "stream",
     "text": [
      "1 2 3 4 5 6 7 8 9 10 \n",
      "\n",
      "1 2 3 4 5 6 7 8 9 10 "
     ]
    }
   ],
   "source": [
    "\n",
    "for i in range(1,11):\n",
    "    print(i, end=\" \")\n",
    "print('\\n')\n",
    "\n",
    "i=1\n",
    "while i<=10:\n",
    "    print(i, end=\" \")\n",
    "    i+=1"
   ]
  },
  {
   "cell_type": "markdown",
   "id": "df23f6ff",
   "metadata": {},
   "source": [
    "#### 13. If you had a function named bacon() inside a module named spam, how would you call it after importing spam ?"
   ]
  },
  {
   "cell_type": "markdown",
   "id": "7ad27b9b",
   "metadata": {},
   "source": [
    "Ans: This function can be called with spam.bacon()"
   ]
  }
 ],
 "metadata": {
  "kernelspec": {
   "display_name": "Python 3 (ipykernel)",
   "language": "python",
   "name": "python3"
  },
  "language_info": {
   "codemirror_mode": {
    "name": "ipython",
    "version": 3
   },
   "file_extension": ".py",
   "mimetype": "text/x-python",
   "name": "python",
   "nbconvert_exporter": "python",
   "pygments_lexer": "ipython3",
   "version": "3.9.12"
  }
 },
 "nbformat": 4,
 "nbformat_minor": 5
}
