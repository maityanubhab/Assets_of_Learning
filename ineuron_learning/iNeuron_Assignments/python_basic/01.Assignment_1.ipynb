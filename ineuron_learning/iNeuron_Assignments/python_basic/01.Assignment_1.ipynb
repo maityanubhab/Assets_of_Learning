{
 "cells": [
  {
   "cell_type": "markdown",
   "id": "629e98cb",
   "metadata": {},
   "source": [
    "1. In the below elements which of them are values or an expression? eg:- values can be integer or string and expressions will be mathematical operators.\n",
    "\n",
    "*\n",
    "&#39;hello&#39;\n",
    "-87.8\n",
    "-`\n",
    "/\n",
    "+\n",
    "6\n"
   ]
  },
  {
   "cell_type": "markdown",
   "id": "c6673268",
   "metadata": {},
   "source": [
    "Ans: There are a total of 4 Operators and 3 Expressions, They are:\n",
    "Operators: *,-,/,+\n",
    "Expressions: 'hello', 87.8, 6"
   ]
  },
  {
   "cell_type": "markdown",
   "id": "4c1ae528",
   "metadata": {},
   "source": [
    "#### 2. What is the difference between string and variable?"
   ]
  },
  {
   "cell_type": "raw",
   "id": "4c79153f",
   "metadata": {},
   "source": [
    "Ans: A Variable is used to store of information, and a String is a type of information you would store in a Variable. A variable is created the moment you first assign a value to it. Example: x = 5, y = \"John\". Here x and y are variables.\n",
    "\n",
    "A String is a group of characters or a single character usually enclosed in Double quotes \" \" or single quotes ' '. Even triple quotes can be used in Python but generally used to represent multiline strings and docstrings. Example: my_string = 'Hello'"
   ]
  },
  {
   "cell_type": "markdown",
   "id": "df81fe9a",
   "metadata": {},
   "source": [
    "#### 3. Describe three different Data Types ?"
   ]
  },
  {
   "cell_type": "raw",
   "id": "c00f0fbf",
   "metadata": {},
   "source": [
    "Ans: Three fundamental Data types in python are int, float, complex.\n",
    "\n",
    "1.int data type: We can use int data type to represent whole numbers (integral values) Example: int_num=100\n",
    "2.float data type: We can use float data type to represent floating point values (decimal values) Example: flo_num=1.3e3\n",
    "3.complex data type: Complex number is represented by complex class. It is specified as (real part) + (imaginary part)j. Example: com_num=10+3.5j"
   ]
  },
  {
   "cell_type": "code",
   "execution_count": 1,
   "id": "eb4668ab",
   "metadata": {},
   "outputs": [
    {
     "name": "stdout",
     "output_type": "stream",
     "text": [
      "5 <class 'int'>\n",
      "1.77 <class 'float'>\n",
      "(6+3.8j) <class 'complex'>\n"
     ]
    }
   ],
   "source": [
    "# Example for int data type:-\n",
    "int_num=5\n",
    "print(int_num, type(int_num))\n",
    "# Example for float data type:-\n",
    "flo_num=1.77\n",
    "print(flo_num, type(flo_num))\n",
    "# Example for Complex data type:-\n",
    "com_num=6+3.8j\n",
    "print(com_num, type(com_num))"
   ]
  },
  {
   "cell_type": "markdown",
   "id": "6483c71a",
   "metadata": {},
   "source": [
    "#### 4. What is an expression made up of? What do all expressions do?"
   ]
  },
  {
   "cell_type": "raw",
   "id": "de8915cc",
   "metadata": {},
   "source": [
    "Ans: An expression is a combination of values, variables, operators, and calls to functions. Expressions need to be evaluated. If we ask Python to print an expression, the interpreter evaluates the expression and displays the result. An expression is evaluated as per the precedence of its operators. So that if there is more than one operator in an expression, their precedence decides which operation will be performed first."
   ]
  },
  {
   "cell_type": "code",
   "execution_count": 3,
   "id": "cd646c78",
   "metadata": {},
   "outputs": [
    {
     "data": {
      "text/plain": [
       "23"
      ]
     },
     "execution_count": 3,
     "metadata": {},
     "output_type": "execute_result"
    }
   ],
   "source": [
    "3+4*5\n",
    "# The Python Interpreter Evaluates it to 23"
   ]
  },
  {
   "cell_type": "markdown",
   "id": "bb24a796",
   "metadata": {},
   "source": [
    "#### 5.This assignment statements, like spam = 10. What is the difference between an expression and a statement?"
   ]
  },
  {
   "cell_type": "raw",
   "id": "bd86da66",
   "metadata": {},
   "source": [
    "Ans. Expression is made up of values, containers, and mathematical operators (operands) and the statement is just like a command that a python interpreter executes like print."
   ]
  },
  {
   "cell_type": "markdown",
   "id": "d9f80582",
   "metadata": {},
   "source": [
    "#### 6.After running the following code, what does the variable bacon contain?\n",
    "bacon = 22\n",
    "\n",
    "bacon + 1"
   ]
  },
  {
   "cell_type": "code",
   "execution_count": 5,
   "id": "9a52d2ad",
   "metadata": {},
   "outputs": [
    {
     "data": {
      "text/plain": [
       "23"
      ]
     },
     "execution_count": 5,
     "metadata": {},
     "output_type": "execute_result"
    }
   ],
   "source": [
    "bacon = 22\n",
    "bacon + 1\n",
    "\n",
    "### it gives 23 "
   ]
  },
  {
   "cell_type": "markdown",
   "id": "59f0fc48",
   "metadata": {},
   "source": [
    "#### 7.What should the values of the following two terms be?\n",
    "'spam'+'spamspam'\n",
    "\n",
    "'spam'*3"
   ]
  },
  {
   "cell_type": "raw",
   "id": "a8f974b1",
   "metadata": {},
   "source": [
    "Ans: Both expressions evaluate to the string 'spamspamspam' Where as the first expression follows String Concatentation and the second expression follows String Multiplication"
   ]
  },
  {
   "cell_type": "code",
   "execution_count": 8,
   "id": "f052e0ed",
   "metadata": {},
   "outputs": [
    {
     "name": "stdout",
     "output_type": "stream",
     "text": [
      "spamspamspam\n",
      "spamspamspam\n"
     ]
    }
   ],
   "source": [
    "print('spam'+'spamspam') # string concatenation\n",
    "print('spam'*3) # string multiplication\n",
    "\n",
    "# Basically output is same."
   ]
  },
  {
   "cell_type": "markdown",
   "id": "ca5d39db",
   "metadata": {},
   "source": [
    "#### 8. Why is eggs a valid variable name while 100 is invalid?"
   ]
  },
  {
   "cell_type": "raw",
   "id": "953c7833",
   "metadata": {},
   "source": [
    "Ans: As per python,Variable names cannot begin with a number. The python rules for naming a variable are :-\n",
    "\n",
    "1.Variable name must start with a letter or the underscore character.\n",
    "2.Variable name cannot start with a number.\n",
    "3.Variable name can only contain alpha-numeric characters and underscores (A-z, 0-9, & _ ).\n",
    "4.Variable names are case-sensitive (name, GAURAV and gaurav are three different variables).\n",
    "5.The reserved words(keywords) cannot be used naming the variable."
   ]
  },
  {
   "cell_type": "code",
   "execution_count": 9,
   "id": "dc3ef5cb",
   "metadata": {},
   "outputs": [
    {
     "ename": "SyntaxError",
     "evalue": "cannot assign to literal (Temp/ipykernel_2088/4081440175.py, line 2)",
     "output_type": "error",
     "traceback": [
      "\u001b[1;36m  File \u001b[1;32m\"C:\\Users\\soume\\AppData\\Local\\Temp/ipykernel_2088/4081440175.py\"\u001b[1;36m, line \u001b[1;32m2\u001b[0m\n\u001b[1;33m    100='hello'  # Invalid Variable Initilization\u001b[0m\n\u001b[1;37m    ^\u001b[0m\n\u001b[1;31mSyntaxError\u001b[0m\u001b[1;31m:\u001b[0m cannot assign to literal\n"
     ]
    }
   ],
   "source": [
    "egg='Gaurav'  # Valid variable Initilization\n",
    "100='hello'  # Invalid Variable Initilization\n",
    "print(egg)  #prints the value of egg ie Ineuron\n",
    "print(100)  # Raises a Syntax Error as 100 is not a valid variable name"
   ]
  },
  {
   "cell_type": "markdown",
   "id": "46bc7c07",
   "metadata": {},
   "source": [
    "#### 9.What three functions can be used to get the integer,floating-point number,or string version of a value?"
   ]
  },
  {
   "cell_type": "raw",
   "id": "4721433d",
   "metadata": {},
   "source": [
    "Ans: The int(),float(),and str() functions will evaluate to the integer,floating-point number,string version of the value passed to them."
   ]
  },
  {
   "cell_type": "code",
   "execution_count": 13,
   "id": "d77026e6",
   "metadata": {},
   "outputs": [
    {
     "name": "stdout",
     "output_type": "stream",
     "text": [
      "int(45.777) ->  45\n",
      "float(10.77) ->  10.77\n",
      "str(10.888) ->  10.888\n"
     ]
    }
   ],
   "source": [
    "# Examples:\n",
    "print('int(45.777) -> ',int(45.777)) # int() function converts given input to int\n",
    "print('float(10.77) -> ',float(10.77)) # float() function converts given input to float\n",
    "print('str(10.888) -> ',str(10.888)) # str() function converts given input to string"
   ]
  },
  {
   "cell_type": "markdown",
   "id": "97ea56ca",
   "metadata": {},
   "source": [
    "#### 10.Why does this expression cause an error? how can you fix it?\n",
    " 'I have eaten ' + 99 + 'burritos.'"
   ]
  },
  {
   "cell_type": "raw",
   "id": "39216890",
   "metadata": {},
   "source": [
    "Ans. because 99 is an integer it cannot be concatenated with strings, if we have to concatenate it we need to do typecasting.\n",
    "\n",
    "Input: 'I have eaten ' + str(99) + 'burritos.'\n",
    "Output: 'I have eaten 99 burritos.'"
   ]
  },
  {
   "cell_type": "code",
   "execution_count": 14,
   "id": "ef627642",
   "metadata": {},
   "outputs": [
    {
     "name": "stdout",
     "output_type": "stream",
     "text": [
      "I have eaten 99 burritos\n"
     ]
    }
   ],
   "source": [
    "print('I have eaten '+str(99)+' burritos')"
   ]
  }
 ],
 "metadata": {
  "kernelspec": {
   "display_name": "Python 3 (ipykernel)",
   "language": "python",
   "name": "python3"
  },
  "language_info": {
   "codemirror_mode": {
    "name": "ipython",
    "version": 3
   },
   "file_extension": ".py",
   "mimetype": "text/x-python",
   "name": "python",
   "nbconvert_exporter": "python",
   "pygments_lexer": "ipython3",
   "version": "3.9.12"
  }
 },
 "nbformat": 4,
 "nbformat_minor": 5
}
