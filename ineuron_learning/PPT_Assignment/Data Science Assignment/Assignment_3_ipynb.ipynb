{
  "nbformat": 4,
  "nbformat_minor": 0,
  "metadata": {
    "colab": {
      "provenance": []
    },
    "kernelspec": {
      "name": "python3",
      "display_name": "Python 3"
    },
    "language_info": {
      "name": "python"
    }
  },
  "cells": [
    {
      "cell_type": "markdown",
      "source": [
        "1. Scenario: A company wants to analyze the sales performance of its products in different regions. They have collected the following data:\n",
        "   <br>Region A: [10, 15, 12, 8, 14]\n",
        "   <br>Region B: [18, 20, 16, 22, 25]\n",
        "   <br>Calculate the mean sales for each region.\n"
      ],
      "metadata": {
        "id": "z9jqaLj_UwXz"
      }
    },
    {
      "cell_type": "code",
      "source": [
        "# Sales data for each region\n",
        "region_a_sales = [10, 15, 12, 8, 14]\n",
        "region_b_sales = [18, 20, 16, 22, 25]"
      ],
      "metadata": {
        "id": "iDCVjomtVIOT"
      },
      "execution_count": 1,
      "outputs": []
    },
    {
      "cell_type": "code",
      "execution_count": 2,
      "metadata": {
        "id": "1xBpB8oWUrwf"
      },
      "outputs": [],
      "source": [
        "def calculate_mean_sales(sales_data):\n",
        "    total_sales = sum(sales_data)\n",
        "    num_sales = len(sales_data)\n",
        "    mean_sales = total_sales / num_sales\n",
        "    return mean_sales"
      ]
    },
    {
      "cell_type": "code",
      "source": [
        "# Calculate mean sales for each region\n",
        "mean_sales_region_a = calculate_mean_sales(region_a_sales)\n",
        "mean_sales_region_b = calculate_mean_sales(region_b_sales)"
      ],
      "metadata": {
        "id": "gyvI9AHFVPEj"
      },
      "execution_count": 3,
      "outputs": []
    },
    {
      "cell_type": "code",
      "source": [
        "# Print the results\n",
        "print(\"Mean sales for Region A:\", mean_sales_region_a)\n",
        "print(\"Mean sales for Region B:\", mean_sales_region_b)"
      ],
      "metadata": {
        "colab": {
          "base_uri": "https://localhost:8080/"
        },
        "id": "k0TghwwtVSry",
        "outputId": "3f18ffc1-3ef6-4a92-d10a-13e270a3ae83"
      },
      "execution_count": 4,
      "outputs": [
        {
          "output_type": "stream",
          "name": "stdout",
          "text": [
            "Mean sales for Region A: 11.8\n",
            "Mean sales for Region B: 20.2\n"
          ]
        }
      ]
    },
    {
      "cell_type": "markdown",
      "source": [
        "2. Scenario: A survey is conducted to measure customer satisfaction on a scale of 1 to 5. The data collected is as follows:\n",
        "   <br>[4, 5, 2, 3, 5, 4, 3, 2, 4, 5]\n",
        "   <br>Calculate the mode of the survey responses.\n"
      ],
      "metadata": {
        "id": "8PyVuop6VYC5"
      }
    },
    {
      "cell_type": "code",
      "source": [
        "survey_responses = [4, 5, 2, 3, 5, 4, 3, 2, 4, 5]"
      ],
      "metadata": {
        "id": "fq5gT0LUVeEi"
      },
      "execution_count": 5,
      "outputs": []
    },
    {
      "cell_type": "code",
      "source": [
        "# Create a dictionary to store the frequencies of each response\n",
        "response_freq = {}"
      ],
      "metadata": {
        "id": "s1OEzEREV8uq"
      },
      "execution_count": 6,
      "outputs": []
    },
    {
      "cell_type": "code",
      "source": [
        "# Count the occurrences of each response\n",
        "for response in survey_responses:\n",
        "    if response in response_freq:\n",
        "        response_freq[response] += 1\n",
        "    else:\n",
        "        response_freq[response] = 1"
      ],
      "metadata": {
        "id": "QR94O07eV-i5"
      },
      "execution_count": 7,
      "outputs": []
    },
    {
      "cell_type": "code",
      "source": [
        "# Find the mode(s) - the most common response(s)\n",
        "max_freq = max(response_freq.values())\n",
        "modes = []\n",
        "for response, freq in response_freq.items():\n",
        "    if freq == max_freq:\n",
        "        modes.append(response)"
      ],
      "metadata": {
        "id": "CZo7IxvCWA2G"
      },
      "execution_count": 8,
      "outputs": []
    },
    {
      "cell_type": "code",
      "source": [
        "# Print the mode(s)\n",
        "print(\"Mode(s) of the survey responses:\", modes)"
      ],
      "metadata": {
        "colab": {
          "base_uri": "https://localhost:8080/"
        },
        "id": "zajN9-0pWF5V",
        "outputId": "be6b2eaf-b37f-4e77-cbba-902ff1a34024"
      },
      "execution_count": 9,
      "outputs": [
        {
          "output_type": "stream",
          "name": "stdout",
          "text": [
            "Mode(s) of the survey responses: [4, 5]\n"
          ]
        }
      ]
    },
    {
      "cell_type": "markdown",
      "source": [
        "3. Scenario: A company wants to compare the salaries of two departments. The salary data for Department A and Department B are as follows:\n",
        "   <br>Department A: [5000, 6000, 5500, 7000]\n",
        "   <br>Department B: [4500, 5500, 5800, 6000, 5200]\n",
        "   <br>Calculate the median salary for each department.\n"
      ],
      "metadata": {
        "id": "OuYnp9TnWNsR"
      }
    },
    {
      "cell_type": "code",
      "source": [
        "# Salary data for each department\n",
        "department_a_salaries = [5000, 6000, 5500, 7000]\n",
        "department_b_salaries = [4500, 5500, 5800, 6000, 5200]"
      ],
      "metadata": {
        "id": "WorX7jbGWf1O"
      },
      "execution_count": 10,
      "outputs": []
    },
    {
      "cell_type": "code",
      "source": [
        "def calculate_median_salary(salary_data):\n",
        "    sorted_salaries = sorted(salary_data)\n",
        "    num_salaries = len(sorted_salaries)\n",
        "\n",
        "    if num_salaries % 2 == 0:\n",
        "        mid1 = num_salaries // 2\n",
        "        mid2 = mid1 - 1\n",
        "        median_salary = (sorted_salaries[mid1] + sorted_salaries[mid2]) / 2\n",
        "    else:\n",
        "        median_salary = sorted_salaries[num_salaries // 2]\n",
        "\n",
        "    return median_salary"
      ],
      "metadata": {
        "id": "irajL5bEWUUn"
      },
      "execution_count": 11,
      "outputs": []
    },
    {
      "cell_type": "code",
      "source": [
        "# Calculate median salary for each department\n",
        "median_salary_department_a = calculate_median_salary(department_a_salaries)\n",
        "median_salary_department_b = calculate_median_salary(department_b_salaries)"
      ],
      "metadata": {
        "id": "Ic-vCV4QWijK"
      },
      "execution_count": 12,
      "outputs": []
    },
    {
      "cell_type": "code",
      "source": [
        "# Print the results\n",
        "print(\"Median salary for Department A:\", median_salary_department_a)\n",
        "print(\"Median salary for Department B:\", median_salary_department_b)"
      ],
      "metadata": {
        "colab": {
          "base_uri": "https://localhost:8080/"
        },
        "id": "FCP9ORQaWjLC",
        "outputId": "a8c68091-0570-41ed-c17b-249f2735429f"
      },
      "execution_count": 13,
      "outputs": [
        {
          "output_type": "stream",
          "name": "stdout",
          "text": [
            "Median salary for Department A: 5750.0\n",
            "Median salary for Department B: 5500\n"
          ]
        }
      ]
    },
    {
      "cell_type": "markdown",
      "source": [
        "4. Scenario: A data analyst wants to determine the variability in the daily stock prices of a company. The data collected is as follows:\n",
        "   <br>[25.5, 24.8, 26.1, 25.3, 24.9]\n",
        "   <br>Calculate the range of the stock prices.\n"
      ],
      "metadata": {
        "id": "TCev352jWpXz"
      }
    },
    {
      "cell_type": "code",
      "source": [
        "stock_prices = [25.5, 24.8, 26.1, 25.3, 24.9]\n",
        "\n",
        "# Find the highest and lowest values\n",
        "highest_price = max(stock_prices)\n",
        "lowest_price = min(stock_prices)\n",
        "\n",
        "# Calculate the range\n",
        "price_range = highest_price - lowest_price\n",
        "\n",
        "# Print the range of the stock prices\n",
        "print(\"Range of the stock prices: %.2f\" % price_range)"
      ],
      "metadata": {
        "colab": {
          "base_uri": "https://localhost:8080/"
        },
        "id": "vpsxoB2qWwIh",
        "outputId": "a93f5e51-b1ff-4e1d-dfa5-26a58942735e"
      },
      "execution_count": 15,
      "outputs": [
        {
          "output_type": "stream",
          "name": "stdout",
          "text": [
            "Range of the stock prices: 1.30\n"
          ]
        }
      ]
    },
    {
      "cell_type": "markdown",
      "source": [
        "5. Scenario: A study is conducted to compare the performance of two different teaching methods. The test scores of the students in each group are as follows:\n",
        "  <br> Group A: [85, 90, 92, 88, 91]\n",
        "   <br>Group B: [82, 88, 90, 86, 87]\n",
        "   <br>Perform a t-test to determine if there is a significant difference in the mean scores between the two groups.\n"
      ],
      "metadata": {
        "id": "XcGOeBQaXUbM"
      }
    },
    {
      "cell_type": "code",
      "source": [
        "from scipy import stats\n",
        "\n",
        "group_a_scores = [85, 90, 92, 88, 91]\n",
        "group_b_scores = [82, 88, 90, 86, 87]\n",
        "\n",
        "# Perform the independent two-sample t-test\n",
        "t_statistic, p_value = stats.ttest_ind(group_a_scores, group_b_scores)\n",
        "\n",
        "# Determine the significance level\n",
        "alpha = 0.05\n",
        "\n",
        "# Print the results\n",
        "print(\"T-Statistic:\", t_statistic)\n",
        "print(\"P-Value:\", p_value)\n",
        "\n",
        "if p_value < alpha:\n",
        "    print(\"There is a significant difference in the mean scores between the two groups.\")\n",
        "else:\n",
        "    print(\"There is no significant difference in the mean scores between the two groups.\")\n"
      ],
      "metadata": {
        "colab": {
          "base_uri": "https://localhost:8080/"
        },
        "id": "cM_ETrkxXbeH",
        "outputId": "8a61eb8b-0a0f-46e0-be56-18cda2efef52"
      },
      "execution_count": 16,
      "outputs": [
        {
          "output_type": "stream",
          "name": "stdout",
          "text": [
            "T-Statistic: 1.4312528946642733\n",
            "P-Value: 0.19023970239078333\n",
            "There is no significant difference in the mean scores between the two groups.\n"
          ]
        }
      ]
    },
    {
      "cell_type": "markdown",
      "source": [
        "6. Scenario: A company wants to analyze the relationship between advertising expenditure and sales. The data collected is as follows:\n",
        "   <br>Advertising Expenditure (in thousands): [10, 15, 12, 8, 14]\n",
        "   <br>Sales (in thousands): [25, 30, 28, 20, 26]\n",
        "   <br>Calculate the correlation coefficient between advertising expenditure and sales.\n"
      ],
      "metadata": {
        "id": "tPOK9FSlYLo4"
      }
    },
    {
      "cell_type": "code",
      "source": [
        "from scipy import stats\n",
        "\n",
        "advertising_expenditure = [10, 15, 12, 8, 14]\n",
        "sales = [25, 30, 28, 20, 26]\n",
        "\n",
        "# Calculate the correlation coefficient and p-value\n",
        "correlation_coef, p_value = stats.pearsonr(advertising_expenditure, sales)\n",
        "\n",
        "# Print the correlation coefficient\n",
        "print(\"Correlation Coefficient:\", correlation_coef)"
      ],
      "metadata": {
        "colab": {
          "base_uri": "https://localhost:8080/"
        },
        "id": "YVk9OTkEYSZY",
        "outputId": "b6e9c3b9-492f-43f2-9403-b063252f15c5"
      },
      "execution_count": 19,
      "outputs": [
        {
          "output_type": "stream",
          "name": "stdout",
          "text": [
            "Correlation Coefficient: 0.8757511375750133\n"
          ]
        }
      ]
    },
    {
      "cell_type": "markdown",
      "source": [
        "7. Scenario: A survey is conducted to measure the heights of a group of people. The data collected is as follows:\n",
        "   <br>[160, 170, 165, 155, 175, 180, 170]\n",
        "   <br>Calculate the standard deviation of the heights.\n"
      ],
      "metadata": {
        "id": "NjKkUVjSYaBV"
      }
    },
    {
      "cell_type": "code",
      "source": [
        "import statistics\n",
        "\n",
        "heights = [160, 170, 165, 155, 175, 180, 170]\n",
        "\n",
        "# Calculate the standard deviation\n",
        "std_dev = statistics.stdev(heights)\n",
        "\n",
        "# Print the standard deviation of the heights\n",
        "print(\"Standard Deviation of Heights:\", std_dev)"
      ],
      "metadata": {
        "colab": {
          "base_uri": "https://localhost:8080/"
        },
        "id": "fs1s8sMSYY0N",
        "outputId": "5f099965-5995-4ce0-b3fa-a9f176355a1c"
      },
      "execution_count": 20,
      "outputs": [
        {
          "output_type": "stream",
          "name": "stdout",
          "text": [
            "Standard Deviation of Heights: 8.591246929842246\n"
          ]
        }
      ]
    },
    {
      "cell_type": "markdown",
      "source": [
        "8. Scenario: A company wants to analyze the relationship between employee tenure and job satisfaction. The data collected is as follows:\n",
        "  <br> Employee Tenure (in years): [2, 3, 5, 4, 6, 2, 4]\n",
        "   <br>Job Satisfaction (on a scale of 1 to 10): [7, 8, 6, 9, 5, 7, 6]\n",
        "   <br>Perform a linear regression analysis to predict job satisfaction based on employee tenure.\n"
      ],
      "metadata": {
        "id": "Ga9EiXQwYo9v"
      }
    },
    {
      "cell_type": "code",
      "source": [
        "import statsmodels.api as sm\n",
        "import numpy as np\n",
        "\n",
        "employee_tenure = [2, 3, 5, 4, 6, 2, 4]\n",
        "job_satisfaction = [7, 8, 6, 9, 5, 7, 6]\n",
        "\n",
        "# Add a constant term to the employee tenure data\n",
        "x = sm.add_constant(employee_tenure)\n",
        "\n",
        "# Fit the linear regression model\n",
        "model = sm.OLS(job_satisfaction, x)\n",
        "results = model.fit()\n",
        "\n",
        "# Extract the coefficient and intercept\n",
        "intercept = results.params[0]\n",
        "slope = results.params[1]\n",
        "\n",
        "# Print the coefficient and intercept\n",
        "print(\"Intercept:\", intercept)\n",
        "print(\"Slope:\", slope)"
      ],
      "metadata": {
        "colab": {
          "base_uri": "https://localhost:8080/"
        },
        "id": "mbVvGJi8Yyu-",
        "outputId": "8927a3f0-b42d-46fd-bbe0-7e190a64f309"
      },
      "execution_count": 21,
      "outputs": [
        {
          "output_type": "stream",
          "name": "stdout",
          "text": [
            "Intercept: 8.595744680851062\n",
            "Slope: -0.46808510638297934\n"
          ]
        }
      ]
    },
    {
      "cell_type": "markdown",
      "source": [
        "9. Scenario: A study is conducted to compare the effectiveness of two different medications. The recovery times of the patients in each group are as follows:\n",
        "   <br>Medication A: [10, 12, 14, 11, 13]\n",
        "   <br>Medication B: [15, 17, 16, 14, 18]\n",
        "   <br>Perform an analysis of variance (ANOVA) to determine if there is a significant difference in the mean recovery times between the two medications.\n"
      ],
      "metadata": {
        "id": "GjezAtmjZCZ3"
      }
    },
    {
      "cell_type": "code",
      "source": [
        "from scipy import stats\n",
        "\n",
        "medication_a_recovery_times = [10, 12, 14, 11, 13]\n",
        "medication_b_recovery_times = [15, 17, 16, 14, 18]\n",
        "\n",
        "# Perform the one-way ANOVA\n",
        "f_value, p_value = stats.f_oneway(medication_a_recovery_times, medication_b_recovery_times)\n",
        "\n",
        "# Print the results\n",
        "print(\"F-Value:\", f_value)\n",
        "print(\"P-Value:\", p_value)\n",
        "\n",
        "alpha = 0.05\n",
        "if p_value < alpha:\n",
        "    print(\"There is a significant difference in the mean recovery times between the two medications.\")\n",
        "else:\n",
        "    print(\"There is no significant difference in the mean recovery times between the two medications.\")"
      ],
      "metadata": {
        "colab": {
          "base_uri": "https://localhost:8080/"
        },
        "id": "0AZQ5BEAZJSA",
        "outputId": "0cf204d3-47e0-4608-a179-905628e6b9ff"
      },
      "execution_count": 22,
      "outputs": [
        {
          "output_type": "stream",
          "name": "stdout",
          "text": [
            "F-Value: 16.0\n",
            "P-Value: 0.003949772803445326\n",
            "There is a significant difference in the mean recovery times between the two medications.\n"
          ]
        }
      ]
    },
    {
      "cell_type": "markdown",
      "source": [
        "10. Scenario: A company wants to analyze customer feedback ratings on a scale of 1 to 10. The data collected is\n",
        "as follows:\n",
        "    <br>[8, 9, 7, 6, 8, 10, 9, 8, 7, 8]\n",
        "    <br>Calculate the 75th percentile of the feedback ratings.\n"
      ],
      "metadata": {
        "id": "lbk9xNRRZUmk"
      }
    },
    {
      "cell_type": "code",
      "source": [
        "import numpy as np\n",
        "\n",
        "feedback_ratings = [8, 9, 7, 6, 8, 10, 9, 8, 7, 8]\n",
        "\n",
        "# Calculate the 75th percentile\n",
        "percentile_75 = np.percentile(feedback_ratings, 75)\n",
        "\n",
        "# Print the 75th percentile of the feedback ratings\n",
        "print(\"75th Percentile of Feedback Ratings:\", percentile_75)"
      ],
      "metadata": {
        "colab": {
          "base_uri": "https://localhost:8080/"
        },
        "id": "GLWxyzvUZcw8",
        "outputId": "cfbffc21-deed-463d-cdd5-6533809b732c"
      },
      "execution_count": 23,
      "outputs": [
        {
          "output_type": "stream",
          "name": "stdout",
          "text": [
            "75th Percentile of Feedback Ratings: 8.75\n"
          ]
        }
      ]
    },
    {
      "cell_type": "markdown",
      "source": [
        "11. Scenario: A quality control department wants to test the weight consistency of a product. The weights of a sample of products are as follows:\n",
        "   <br> [10.2, 9.8, 10.0, 10.5, 10.3, 10.1]\n",
        "    <br>Perform a hypothesis test to determine if the mean weight differs significantly from 10 grams.\n"
      ],
      "metadata": {
        "id": "YnPkqPxLZiYK"
      }
    },
    {
      "cell_type": "code",
      "source": [
        "from scipy import stats\n",
        "\n",
        "sample_weights = [10.2, 9.8, 10.0, 10.5, 10.3, 10.1]\n",
        "hypothesized_mean = 10\n",
        "\n",
        "# Perform the one-sample t-test\n",
        "t_statistic, p_value = stats.ttest_1samp(sample_weights, hypothesized_mean)\n",
        "\n",
        "# Print the results\n",
        "print(\"T-Statistic:\", t_statistic)\n",
        "print(\"P-Value:\", p_value)\n",
        "\n",
        "alpha = 0.05\n",
        "if p_value < alpha:\n",
        "    print(\"The mean weight differs significantly from 10 grams.\")\n",
        "else:\n",
        "    print(\"The mean weight does not differ significantly from 10 grams.\")"
      ],
      "metadata": {
        "colab": {
          "base_uri": "https://localhost:8080/"
        },
        "id": "At0jfw6EZqVg",
        "outputId": "416548a5-50fc-4e42-9eb6-542e9bf94257"
      },
      "execution_count": 24,
      "outputs": [
        {
          "output_type": "stream",
          "name": "stdout",
          "text": [
            "T-Statistic: 1.5126584522688367\n",
            "P-Value: 0.19077595151110102\n",
            "The mean weight does not differ significantly from 10 grams.\n"
          ]
        }
      ]
    },
    {
      "cell_type": "markdown",
      "source": [
        "12. Scenario: A company wants to analyze the click-through rates of two different website designs. The number of clicks for each design is as follows:\n",
        "    <br>Design A: [100, 120, 110, 90, 95]\n",
        "    <br>Design B: [80, 85, 90, 95, 100]\n",
        "    <br>Perform a chi-square test to determine if there is a significant difference in the click-through rates between the two designs.\n"
      ],
      "metadata": {
        "id": "831nRd8eZ7P4"
      }
    },
    {
      "cell_type": "code",
      "source": [
        "from scipy import stats\n",
        "import numpy as np\n",
        "\n",
        "clicks_design_a = [100, 120, 110, 90, 95]\n",
        "clicks_design_b = [80, 85, 90, 95, 100]\n",
        "\n",
        "# Create an observed frequency table\n",
        "observed = np.array([clicks_design_a, clicks_design_b])\n",
        "\n",
        "# Perform the chi-square test of independence\n",
        "chi2, p_value, _, _ = stats.chi2_contingency(observed)\n",
        "\n",
        "# Print the results\n",
        "print(\"Chi-Square Statistic:\", chi2)\n",
        "print(\"P-Value:\", p_value)\n",
        "\n",
        "alpha = 0.05\n",
        "if p_value < alpha:\n",
        "    print(\"There is a significant difference in the click-through rates between the two designs.\")\n",
        "else:\n",
        "    print(\"There is no significant difference in the click-through rates between the two designs.\")"
      ],
      "metadata": {
        "colab": {
          "base_uri": "https://localhost:8080/"
        },
        "id": "fOdR-Qx9aCNy",
        "outputId": "978b644c-4bb8-4cf6-cad0-4edd8b31a4f2"
      },
      "execution_count": 25,
      "outputs": [
        {
          "output_type": "stream",
          "name": "stdout",
          "text": [
            "Chi-Square Statistic: 6.110658166925435\n",
            "P-Value: 0.19103526314060293\n",
            "There is no significant difference in the click-through rates between the two designs.\n"
          ]
        }
      ]
    },
    {
      "cell_type": "markdown",
      "source": [
        "13. Scenario: A survey is conducted to measure customer satisfaction with a product on a scale of 1 to 10. The data collected is as follows:\n",
        "    <br>[7, 9, 6, 8, 10, 7, 8, 9, 7, 8]\n",
        "    <br>Calculate the 95% confidence interval for the population mean satisfaction score.\n"
      ],
      "metadata": {
        "id": "3IQvw-IWaOKb"
      }
    },
    {
      "cell_type": "code",
      "source": [
        "from scipy import stats\n",
        "import numpy as np\n",
        "\n",
        "satisfaction_scores = [7, 9, 6, 8, 10, 7, 8, 9, 7, 8]\n",
        "\n",
        "# Calculate the sample mean and standard deviation\n",
        "sample_mean = np.mean(satisfaction_scores)\n",
        "sample_std = np.std(satisfaction_scores, ddof=1)  # ddof=1 for sample standard deviation\n",
        "\n",
        "# Calculate the sample size\n",
        "sample_size = len(satisfaction_scores)\n",
        "\n",
        "# Calculate the standard error\n",
        "standard_error = sample_std / np.sqrt(sample_size)\n",
        "\n",
        "# Set the confidence level and degrees of freedom\n",
        "confidence_level = 0.95\n",
        "degrees_of_freedom = sample_size - 1\n",
        "\n",
        "# Calculate the t-value based on the confidence level and degrees of freedom\n",
        "t_value = stats.t.ppf((1 + confidence_level) / 2, degrees_of_freedom)\n",
        "\n",
        "# Calculate the margin of error\n",
        "margin_of_error = t_value * standard_error\n",
        "\n",
        "# Calculate the confidence interval\n",
        "confidence_interval = (sample_mean - margin_of_error, sample_mean + margin_of_error)\n",
        "\n",
        "# Print the confidence interval\n",
        "print(\"95% Confidence Interval:\", confidence_interval)"
      ],
      "metadata": {
        "colab": {
          "base_uri": "https://localhost:8080/"
        },
        "id": "79Nxr7VHaT_Y",
        "outputId": "fe3510a3-01ed-48ab-a57a-c70b80513178"
      },
      "execution_count": 26,
      "outputs": [
        {
          "output_type": "stream",
          "name": "stdout",
          "text": [
            "95% Confidence Interval: (7.043561120599888, 8.756438879400113)\n"
          ]
        }
      ]
    },
    {
      "cell_type": "markdown",
      "source": [
        "14. Scenario: A company wants to analyze the effect of temperature on product performance. The data collected is as follows:\n",
        "   <br> Temperature (in degrees Celsius): [20, 22, 23, 19, 21]\n",
        "    <br>Performance (on a scale of 1 to 10): [8, 7, 9, 6, 8]\n",
        "    <br>Perform a simple linear regression to predict performance based on temperature.\n"
      ],
      "metadata": {
        "id": "JPWnWZThafgT"
      }
    },
    {
      "cell_type": "code",
      "source": [
        "import statsmodels.api as sm\n",
        "import numpy as np\n",
        "\n",
        "temperature = [20, 22, 23, 19, 21]\n",
        "performance = [8, 7, 9, 6, 8]\n",
        "\n",
        "# Add a constant term to the temperature data\n",
        "x = sm.add_constant(temperature)\n",
        "\n",
        "# Fit the linear regression model\n",
        "model = sm.OLS(performance, x)\n",
        "results = model.fit()\n",
        "\n",
        "# Extract the coefficient and intercept\n",
        "intercept = results.params[0]\n",
        "slope = results.params[1]\n",
        "\n",
        "# Print the coefficient and intercept\n",
        "print(\"Intercept:\", intercept)\n",
        "print(\"Slope:\", slope)"
      ],
      "metadata": {
        "colab": {
          "base_uri": "https://localhost:8080/"
        },
        "id": "FMWODdJ8am_Y",
        "outputId": "ffcbf26d-2131-4277-e1d1-a5b15dcb9b99"
      },
      "execution_count": 27,
      "outputs": [
        {
          "output_type": "stream",
          "name": "stdout",
          "text": [
            "Intercept: -2.899999999999972\n",
            "Slope: 0.49999999999999867\n"
          ]
        }
      ]
    },
    {
      "cell_type": "markdown",
      "source": [
        "15. Scenario: A study is conducted to compare the preferences of two groups of participants. The preferences are measured on a Likert scale from 1 to 5. The data collected is as follows:\n",
        "    <br>Group A: [4, 3, 5, 2, 4]\n",
        "    <br>Group B: [3, 2, 4, 3, 3]\n",
        "   <br> Perform a Mann-Whitney U test to determine if there is a significant difference in the median preferences between the two groups.\n"
      ],
      "metadata": {
        "id": "BaJL1l-Ua4yO"
      }
    },
    {
      "cell_type": "code",
      "source": [
        "from scipy import stats\n",
        "\n",
        "group_a_preferences = [4, 3, 5, 2, 4]\n",
        "group_b_preferences = [3, 2, 4, 3, 3]\n",
        "\n",
        "# Perform the Mann-Whitney U test\n",
        "statistic, p_value = stats.mannwhitneyu(group_a_preferences, group_b_preferences)\n",
        "\n",
        "# Print the results\n",
        "print(\"Mann-Whitney U statistic:\", statistic)\n",
        "print(\"P-Value:\", p_value)\n",
        "\n",
        "alpha = 0.05\n",
        "if p_value < alpha:\n",
        "    print(\"There is a significant difference in the median preferences between the two groups.\")\n",
        "else:\n",
        "    print(\"There is no significant difference in the median preferences between the two groups.\")"
      ],
      "metadata": {
        "colab": {
          "base_uri": "https://localhost:8080/"
        },
        "id": "g50HIgSRa4Bp",
        "outputId": "af1e8d5c-2bbd-4c66-f008-024886c328fe"
      },
      "execution_count": 28,
      "outputs": [
        {
          "output_type": "stream",
          "name": "stdout",
          "text": [
            "Mann-Whitney U statistic: 17.0\n",
            "P-Value: 0.380836480306712\n",
            "There is no significant difference in the median preferences between the two groups.\n"
          ]
        }
      ]
    },
    {
      "cell_type": "markdown",
      "source": [
        "16. Scenario: A company wants to analyze the distribution of customer ages. The data collected is as follows:\n",
        "    <br>[25, 30, 35, 40, 45, 50, 55, 60, 65, 70]\n",
        "    <br>Calculate the interquartile range (IQR) of the ages.\n"
      ],
      "metadata": {
        "id": "4hNWVgaHbIB_"
      }
    },
    {
      "cell_type": "code",
      "source": [
        "import numpy as np\n",
        "\n",
        "ages = [25, 30, 35, 40, 45, 50, 55, 60, 65, 70]\n",
        "\n",
        "# Calculate the 25th and 75th percentiles (Q1 and Q3)\n",
        "q1 = np.percentile(ages, 25)\n",
        "q3 = np.percentile(ages, 75)\n",
        "\n",
        "# Calculate the interquartile range (IQR)\n",
        "iqr = q3 - q1\n",
        "\n",
        "# Print the interquartile range of the ages\n",
        "print(\"Interquartile Range (IQR) of Ages:\", iqr)"
      ],
      "metadata": {
        "colab": {
          "base_uri": "https://localhost:8080/"
        },
        "id": "VduMPbbVbVNs",
        "outputId": "d070b9af-d739-4f7d-b341-90ed3ecde8e1"
      },
      "execution_count": 29,
      "outputs": [
        {
          "output_type": "stream",
          "name": "stdout",
          "text": [
            "Interquartile Range (IQR) of Ages: 22.5\n"
          ]
        }
      ]
    },
    {
      "cell_type": "markdown",
      "source": [
        "17. Scenario: A study is conducted to compare the performance of three different machine learning algorithms. The accuracy scores for each algorithm are as follows:\n",
        "   <br> Algorithm A: [0.85, 0.80, 0.82, 0.87, 0.83]\n",
        "    <br>Algorithm B: [0.78, 0.82, 0.84, 0.80, 0.79]\n",
        "    <br>Algorithm C: [0.90, 0.88, 0.89, 0.86, 0.87]\n",
        "    <br>Perform a Kruskal-Wallis test to determine if there is a significant difference in the median accuracy scores between the algorithms.\n"
      ],
      "metadata": {
        "id": "7HoVd1VYbaIY"
      }
    },
    {
      "cell_type": "code",
      "source": [
        "from scipy import stats\n",
        "\n",
        "algorithm_a_scores = [0.85, 0.80, 0.82, 0.87, 0.83]\n",
        "algorithm_b_scores = [0.78, 0.82, 0.84, 0.80, 0.79]\n",
        "algorithm_c_scores = [0.90, 0.88, 0.89, 0.86, 0.87]\n",
        "\n",
        "# Perform the Kruskal-Wallis test\n",
        "statistic, p_value = stats.kruskal(algorithm_a_scores, algorithm_b_scores, algorithm_c_scores)\n",
        "\n",
        "# Print the results\n",
        "print(\"Kruskal-Wallis statistic:\", statistic)\n",
        "print(\"P-Value:\", p_value)\n",
        "\n",
        "alpha = 0.05\n",
        "if p_value < alpha:\n",
        "    print(\"There is a significant difference in the median accuracy scores between the algorithms.\")\n",
        "else:\n",
        "    print(\"There is no significant difference in the median accuracy scores between the algorithms.\")"
      ],
      "metadata": {
        "colab": {
          "base_uri": "https://localhost:8080/"
        },
        "id": "MUWV4_mdbi7H",
        "outputId": "f8dbd09b-05c5-412d-b9ec-04bd4c5bb75c"
      },
      "execution_count": 30,
      "outputs": [
        {
          "output_type": "stream",
          "name": "stdout",
          "text": [
            "Kruskal-Wallis statistic: 9.696947935368053\n",
            "P-Value: 0.007840333026249539\n",
            "There is a significant difference in the median accuracy scores between the algorithms.\n"
          ]
        }
      ]
    },
    {
      "cell_type": "markdown",
      "source": [
        "18. Scenario: A company wants to analyze the effect of price on sales. The data collected is as follows:\n",
        "    <br>Price (in dollars): [10, 15, 12, 8, 14]\n",
        "    <br>Sales: [100, 80, 90, 110, 95]\n",
        "    <br>Perform a simple linear regression to predict sales based on price.\n"
      ],
      "metadata": {
        "id": "SHafZnNObtTG"
      }
    },
    {
      "cell_type": "code",
      "source": [
        "import statsmodels.api as sm\n",
        "import numpy as np\n",
        "\n",
        "price = [10, 15, 12, 8, 14]\n",
        "sales = [100, 80, 90, 110, 95]\n",
        "\n",
        "# Add a constant term to the price data\n",
        "x = sm.add_constant(price)\n",
        "\n",
        "# Fit the linear regression model\n",
        "model = sm.OLS(sales, x)\n",
        "results = model.fit()\n",
        "\n",
        "# Extract the coefficient and intercept\n",
        "intercept = results.params[0]\n",
        "slope = results.params[1]\n",
        "\n",
        "# Print the coefficient and intercept\n",
        "print(\"Intercept:\", intercept)\n",
        "print(\"Slope:\", slope)"
      ],
      "metadata": {
        "colab": {
          "base_uri": "https://localhost:8080/"
        },
        "id": "RCCscIhpcDSH",
        "outputId": "a932cb1e-248c-402b-c0f3-a12d7710dc25"
      },
      "execution_count": 31,
      "outputs": [
        {
          "output_type": "stream",
          "name": "stdout",
          "text": [
            "Intercept: 136.3719512195122\n",
            "Slope: -3.5060975609756113\n"
          ]
        }
      ]
    },
    {
      "cell_type": "markdown",
      "source": [
        "19. Scenario: A survey is conducted to measure the satisfaction levels of customers with a new product. The data collected is as follows:\n",
        "    <br>[7, 8, 9, 6, 8, 7, 9, 7, 8, 7]\n",
        "    <br>Calculate the standard error of the mean satisfaction score.\n"
      ],
      "metadata": {
        "id": "H03SxPFHcHVq"
      }
    },
    {
      "cell_type": "code",
      "source": [
        "from scipy import stats\n",
        "import numpy as np\n",
        "\n",
        "satisfaction_scores = [7, 8, 9, 6, 8, 7, 9, 7, 8, 7]\n",
        "\n",
        "# Calculate the standard error of the mean\n",
        "standard_error = stats.sem(satisfaction_scores)\n",
        "\n",
        "# Print the standard error of the mean satisfaction score\n",
        "print(\"Standard Error of the Mean Satisfaction Score:\", standard_error)"
      ],
      "metadata": {
        "colab": {
          "base_uri": "https://localhost:8080/"
        },
        "id": "79_tQv_ecU7x",
        "outputId": "32f51738-d97b-4f0e-81b1-fd6d8ba32027"
      },
      "execution_count": 32,
      "outputs": [
        {
          "output_type": "stream",
          "name": "stdout",
          "text": [
            "Standard Error of the Mean Satisfaction Score: 0.30550504633038933\n"
          ]
        }
      ]
    },
    {
      "cell_type": "markdown",
      "source": [
        "20. Scenario: A company wants to analyze the relationship between advertising expenditure and sales. The data collected is as follows:\n",
        "    <br>Advertising Expenditure (in thousands): [10, 15, 12, 8, 14]\n",
        "    <br>Sales (in thousands): [25, 30, 28, 20, 26]\n",
        "    <br>Perform a multiple regression analysis to predict sales based on advertising expenditure.\n"
      ],
      "metadata": {
        "id": "Zv1kYm8TcfNX"
      }
    },
    {
      "cell_type": "code",
      "source": [
        "import statsmodels.api as sm\n",
        "import numpy as np\n",
        "\n",
        "advertising_expenditure = [10, 15, 12, 8, 14]\n",
        "sales = [25, 30, 28, 20, 26]\n",
        "\n",
        "# Add a constant term to the advertising expenditure data\n",
        "x = sm.add_constant(advertising_expenditure)\n",
        "\n",
        "# Fit the multiple regression model\n",
        "model = sm.OLS(sales, x)\n",
        "results = model.fit()\n",
        "\n",
        "# Extract the coefficients\n",
        "intercept = results.params[0]\n",
        "slope = results.params[1]\n",
        "\n",
        "# Print the coefficients\n",
        "print(\"Intercept:\", intercept)\n",
        "print(\"Slope:\", slope)"
      ],
      "metadata": {
        "colab": {
          "base_uri": "https://localhost:8080/"
        },
        "id": "SHh4PpPycszX",
        "outputId": "cd1ad433-5991-4415-9f53-959052817e89"
      },
      "execution_count": 33,
      "outputs": [
        {
          "output_type": "stream",
          "name": "stdout",
          "text": [
            "Intercept: 12.201219512195118\n",
            "Slope: 1.1524390243902434\n"
          ]
        }
      ]
    }
  ]
}