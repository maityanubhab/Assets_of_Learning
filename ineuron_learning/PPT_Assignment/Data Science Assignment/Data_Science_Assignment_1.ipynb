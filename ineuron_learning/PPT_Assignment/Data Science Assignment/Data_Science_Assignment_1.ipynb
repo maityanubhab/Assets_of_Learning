{
  "nbformat": 4,
  "nbformat_minor": 0,
  "metadata": {
    "colab": {
      "provenance": []
    },
    "kernelspec": {
      "name": "python3",
      "display_name": "Python 3"
    },
    "language_info": {
      "name": "python"
    }
  },
  "cells": [
    {
      "cell_type": "markdown",
      "source": [
        "# 1. Write a Python program to reverse a string without using any built-in string reversal functions."
      ],
      "metadata": {
        "id": "a4TJfOVTCqJN"
      }
    },
    {
      "cell_type": "code",
      "execution_count": 1,
      "metadata": {
        "id": "QzAZoU6MBr61"
      },
      "outputs": [],
      "source": [
        "# By using for loop\n",
        "def reverse_string(input_string):\n",
        "    reversed_string = \"\"\n",
        "    for i in range(len(input_string) - 1, -1, -1):\n",
        "        reversed_string += input_string[i]\n",
        "    return reversed_string"
      ]
    },
    {
      "cell_type": "code",
      "source": [
        "# Example\n",
        "string = \"Hello, World!\"\n",
        "reversed_string = reverse_string(string)\n",
        "print(reversed_string)"
      ],
      "metadata": {
        "colab": {
          "base_uri": "https://localhost:8080/"
        },
        "id": "Ubsf3FvaEAFC",
        "outputId": "1687f483-2bd9-4f79-f9e2-90f32e6d6bfb"
      },
      "execution_count": 2,
      "outputs": [
        {
          "output_type": "stream",
          "name": "stdout",
          "text": [
            "!dlroW ,olleH\n"
          ]
        }
      ]
    },
    {
      "cell_type": "markdown",
      "source": [
        "**another approach**"
      ],
      "metadata": {
        "id": "fkoBfO90EQ6W"
      }
    },
    {
      "cell_type": "code",
      "source": [
        "# By using while loop\n",
        "def reverse_string_2(input_string):\n",
        "    chars = list(input_string)\n",
        "    start = 0\n",
        "    end = len(chars) - 1\n",
        "\n",
        "    while start < end:\n",
        "        chars[start], chars[end] = chars[end], chars[start]\n",
        "        start += 1\n",
        "        end -= 1\n",
        "\n",
        "    reversed_string = ''.join(chars)\n",
        "    return reversed_string"
      ],
      "metadata": {
        "id": "ttPWqOu8EQCm"
      },
      "execution_count": 9,
      "outputs": []
    },
    {
      "cell_type": "code",
      "source": [
        "# Example\n",
        "string = \"Hello, World!\"\n",
        "reversed_string = reverse_string_2(string)\n",
        "print(reversed_string)"
      ],
      "metadata": {
        "colab": {
          "base_uri": "https://localhost:8080/"
        },
        "id": "Xbdt5PMCEmUw",
        "outputId": "3aab25e1-0a62-4b42-ede3-47653807e2c0"
      },
      "execution_count": 10,
      "outputs": [
        {
          "output_type": "stream",
          "name": "stdout",
          "text": [
            "!dlroW ,olleH\n"
          ]
        }
      ]
    },
    {
      "cell_type": "markdown",
      "source": [
        "# 2. Implement a function to check if a given string is a palindrome."
      ],
      "metadata": {
        "id": "fBB7tvAAE2KO"
      }
    },
    {
      "cell_type": "code",
      "source": [
        "# By using for loop\n",
        "def is_palindrome(input_string):\n",
        "    # Remove any non-alphanumeric characters and convert to lowercase\n",
        "    input_string = ''.join(e.lower() for e in input_string if e.isalnum())\n",
        "    return input_string == input_string[::-1]"
      ],
      "metadata": {
        "id": "zG8JD1_xFQdu"
      },
      "execution_count": 5,
      "outputs": []
    },
    {
      "cell_type": "code",
      "source": [
        "# Example\n",
        "string = \"Able was I saw Elba\"\n",
        "if is_palindrome(string):\n",
        "    print(f\"{string} is a palindrome.\")\n",
        "else:\n",
        "    print(f\"{string} is not a palindrome.\")"
      ],
      "metadata": {
        "colab": {
          "base_uri": "https://localhost:8080/"
        },
        "id": "HULCrx1sGH6B",
        "outputId": "7d6a3a06-4314-46c8-f200-2708f3b59c47"
      },
      "execution_count": 6,
      "outputs": [
        {
          "output_type": "stream",
          "name": "stdout",
          "text": [
            "Able was I saw Elba is a palindrome.\n"
          ]
        }
      ]
    },
    {
      "cell_type": "markdown",
      "source": [
        "**another approach**"
      ],
      "metadata": {
        "id": "64KfqCRtGVql"
      }
    },
    {
      "cell_type": "code",
      "source": [
        "# By using while\n",
        "def is_palindrome_2(input_string):\n",
        "    start = 0\n",
        "    end = len(input_string) - 1\n",
        "\n",
        "    while start < end:\n",
        "        if input_string[start] != input_string[end]:\n",
        "            return False\n",
        "        start += 1\n",
        "        end -= 1\n",
        "\n",
        "    return True"
      ],
      "metadata": {
        "id": "yDR0RmREGOVn"
      },
      "execution_count": 11,
      "outputs": []
    },
    {
      "cell_type": "code",
      "source": [
        "# Example\n",
        "string = \"Able was I saw Elba\"\n",
        "if is_palindrome_2(string.lower()):\n",
        "    print(f\"{string} is a palindrome.\")\n",
        "else:\n",
        "    print(f\"{string} is not a palindrome.\")"
      ],
      "metadata": {
        "colab": {
          "base_uri": "https://localhost:8080/"
        },
        "id": "f81sG9zyGsJZ",
        "outputId": "2b682fad-974d-47ec-862e-bf12755c1871"
      },
      "execution_count": 12,
      "outputs": [
        {
          "output_type": "stream",
          "name": "stdout",
          "text": [
            "Able was I saw Elba is a palindrome.\n"
          ]
        }
      ]
    },
    {
      "cell_type": "markdown",
      "source": [
        "# 3. Write a program to find the largest element in a given list."
      ],
      "metadata": {
        "id": "VBZCCP6aQVkV"
      }
    },
    {
      "cell_type": "code",
      "source": [
        "def find_largest_element(lst):\n",
        "    if not lst:\n",
        "        return None\n",
        "\n",
        "    largest = lst[0]\n",
        "    for element in lst:\n",
        "        if element > largest:\n",
        "            largest = element\n",
        "\n",
        "    return largest"
      ],
      "metadata": {
        "id": "aO32_T8lQW86"
      },
      "execution_count": 13,
      "outputs": []
    },
    {
      "cell_type": "code",
      "source": [
        "# Example\n",
        "numbers = [10, 5, 7, 20, 15]\n",
        "largest_number = find_largest_element(numbers)\n",
        "print(f\"The largest number is: {largest_number}\")"
      ],
      "metadata": {
        "colab": {
          "base_uri": "https://localhost:8080/"
        },
        "id": "WIuDcIL7Qpjl",
        "outputId": "dc9cd677-e1b7-415c-9ebf-decde5c6bef9"
      },
      "execution_count": 14,
      "outputs": [
        {
          "output_type": "stream",
          "name": "stdout",
          "text": [
            "The largest number is: 20\n"
          ]
        }
      ]
    },
    {
      "cell_type": "markdown",
      "source": [
        "# 4. Implement a function to count the occurrence of each element in a list."
      ],
      "metadata": {
        "id": "cg8zco1jRMca"
      }
    },
    {
      "cell_type": "code",
      "source": [
        "def count_occurrences(lst):\n",
        "    occurrences = {}\n",
        "\n",
        "    for element in lst:\n",
        "        if element in occurrences:\n",
        "            occurrences[element] += 1\n",
        "        else:\n",
        "            occurrences[element] = 1\n",
        "\n",
        "    return occurrences"
      ],
      "metadata": {
        "id": "esXyieiaROCk"
      },
      "execution_count": 15,
      "outputs": []
    },
    {
      "cell_type": "code",
      "source": [
        "# Example\n",
        "numbers = [1, 2, 3, 2, 1, 3, 4, 5, 1]\n",
        "occurrences = count_occurrences(numbers)\n",
        "for element, count in occurrences.items():\n",
        "    print(f\"{element} occurs {count} time(s)\")"
      ],
      "metadata": {
        "colab": {
          "base_uri": "https://localhost:8080/"
        },
        "id": "MXl_yfjkRnE9",
        "outputId": "12b924c2-c23b-45c1-d420-a5deacd56af6"
      },
      "execution_count": 16,
      "outputs": [
        {
          "output_type": "stream",
          "name": "stdout",
          "text": [
            "1 occurs 3 time(s)\n",
            "2 occurs 2 time(s)\n",
            "3 occurs 2 time(s)\n",
            "4 occurs 1 time(s)\n",
            "5 occurs 1 time(s)\n"
          ]
        }
      ]
    },
    {
      "cell_type": "markdown",
      "source": [
        "**another approach**"
      ],
      "metadata": {
        "id": "7q0uD72tRqmy"
      }
    },
    {
      "cell_type": "code",
      "source": [
        "# By using pre build library\n",
        "from collections import Counter"
      ],
      "metadata": {
        "id": "rW1HUN6bRool"
      },
      "execution_count": 17,
      "outputs": []
    },
    {
      "cell_type": "code",
      "source": [
        "def count_occurrences_2(lst):\n",
        "    occurrences = Counter(lst)\n",
        "    return occurrences"
      ],
      "metadata": {
        "id": "M_Y7E4EuR50d"
      },
      "execution_count": 18,
      "outputs": []
    },
    {
      "cell_type": "code",
      "source": [
        "# Example\n",
        "numbers = [1, 2, 3, 2, 1, 3, 4, 5, 1]\n",
        "occurrences = count_occurrences_2(numbers)\n",
        "for element, count in occurrences.items():\n",
        "    print(f\"{element} occurs {count} time(s)\")"
      ],
      "metadata": {
        "colab": {
          "base_uri": "https://localhost:8080/"
        },
        "id": "QzV5a2aHR7sM",
        "outputId": "a92fc31a-5019-4f87-9870-64a2f2b3687e"
      },
      "execution_count": 19,
      "outputs": [
        {
          "output_type": "stream",
          "name": "stdout",
          "text": [
            "1 occurs 3 time(s)\n",
            "2 occurs 2 time(s)\n",
            "3 occurs 2 time(s)\n",
            "4 occurs 1 time(s)\n",
            "5 occurs 1 time(s)\n"
          ]
        }
      ]
    },
    {
      "cell_type": "markdown",
      "source": [
        "# 5. Write a Python program to find the second largest number in a list."
      ],
      "metadata": {
        "id": "RNcz04y0SFu-"
      }
    },
    {
      "cell_type": "code",
      "source": [
        "def find_second_largest(numbers):\n",
        "    if len(numbers) < 2:\n",
        "        return None\n",
        "\n",
        "    largest = float('-inf')\n",
        "    second_largest = float('-inf')\n",
        "\n",
        "    for num in numbers:\n",
        "        if num > largest:\n",
        "            second_largest = largest\n",
        "            largest = num\n",
        "        elif num > second_largest and num != largest:\n",
        "            second_largest = num\n",
        "\n",
        "    if second_largest == float('-inf'):\n",
        "        return None\n",
        "    else:\n",
        "        return second_largest"
      ],
      "metadata": {
        "id": "CH7fWwzpSPZZ"
      },
      "execution_count": 20,
      "outputs": []
    },
    {
      "cell_type": "code",
      "source": [
        "# Example\n",
        "numbers = [10, 5, 7, 20, 15]\n",
        "second_largest = find_second_largest(numbers)\n",
        "if second_largest is None:\n",
        "    print(\"There is no second largest number.\")\n",
        "else:\n",
        "    print(f\"The second largest number is: {second_largest}\")"
      ],
      "metadata": {
        "colab": {
          "base_uri": "https://localhost:8080/"
        },
        "id": "bMYbEJWgSsVy",
        "outputId": "5ece4498-6a02-4796-c57b-8b3ce004e411"
      },
      "execution_count": 21,
      "outputs": [
        {
          "output_type": "stream",
          "name": "stdout",
          "text": [
            "The second largest number is: 15\n"
          ]
        }
      ]
    },
    {
      "cell_type": "markdown",
      "source": [
        "**another approach**"
      ],
      "metadata": {
        "id": "LOMehIbyS9XK"
      }
    },
    {
      "cell_type": "code",
      "source": [
        "def find_second_largest_2(numbers):\n",
        "    if len(numbers) < 2:\n",
        "        return None\n",
        "\n",
        "    numbers_set = set(numbers)\n",
        "    numbers_set.remove(max(numbers_set))\n",
        "\n",
        "    if len(numbers_set) == 0:\n",
        "        return None\n",
        "\n",
        "    return max(numbers_set)"
      ],
      "metadata": {
        "id": "pGAI9isDTBEt"
      },
      "execution_count": 23,
      "outputs": []
    },
    {
      "cell_type": "code",
      "source": [
        "# Example\n",
        "numbers = [10, 5, 7, 20, 15]\n",
        "second_largest = find_second_largest_2(numbers)\n",
        "if second_largest is None:\n",
        "    print(\"There is no second largest number.\")\n",
        "else:\n",
        "    print(f\"The second largest number is: {second_largest}\")"
      ],
      "metadata": {
        "colab": {
          "base_uri": "https://localhost:8080/"
        },
        "id": "rCYtui4sTHY1",
        "outputId": "2ac0100a-3c0d-4807-85fa-bb1925db58d2"
      },
      "execution_count": 24,
      "outputs": [
        {
          "output_type": "stream",
          "name": "stdout",
          "text": [
            "The second largest number is: 15\n"
          ]
        }
      ]
    },
    {
      "cell_type": "markdown",
      "source": [
        "# 6. Implement a function to remove duplicate elements from a list."
      ],
      "metadata": {
        "id": "UemNNP-tTmpE"
      }
    },
    {
      "cell_type": "code",
      "source": [
        "def remove_duplicates(lst):\n",
        "    return list(set(lst))"
      ],
      "metadata": {
        "id": "dG2jij9jTM30"
      },
      "execution_count": 25,
      "outputs": []
    },
    {
      "cell_type": "code",
      "source": [
        "# Example\n",
        "numbers = [1, 2, 3, 2, 1, 3, 4, 5, 1]\n",
        "unique_numbers = remove_duplicates(numbers)\n",
        "print(f\"The list with duplicates removed: {unique_numbers}\")"
      ],
      "metadata": {
        "colab": {
          "base_uri": "https://localhost:8080/"
        },
        "id": "BgX6Pij5WQVE",
        "outputId": "8eeed100-057f-43f2-b35a-ac631be72d56"
      },
      "execution_count": 26,
      "outputs": [
        {
          "output_type": "stream",
          "name": "stdout",
          "text": [
            "The list with duplicates removed: [1, 2, 3, 4, 5]\n"
          ]
        }
      ]
    },
    {
      "cell_type": "markdown",
      "source": [
        "**another approach**"
      ],
      "metadata": {
        "id": "S_kyIFnLWaGc"
      }
    },
    {
      "cell_type": "code",
      "source": [
        "def remove_duplicates_2(lst):\n",
        "    unique_list = []\n",
        "\n",
        "    for element in lst:\n",
        "        if element not in unique_list:\n",
        "            unique_list.append(element)\n",
        "\n",
        "    return unique_list"
      ],
      "metadata": {
        "id": "eijrp72NWelp"
      },
      "execution_count": 27,
      "outputs": []
    },
    {
      "cell_type": "code",
      "source": [
        "# Example\n",
        "numbers = [1, 2, 3, 2, 1, 3, 4, 5, 1]\n",
        "unique_numbers = remove_duplicates_2(numbers)\n",
        "print(f\"The list with duplicates removed: {unique_numbers}\")"
      ],
      "metadata": {
        "colab": {
          "base_uri": "https://localhost:8080/"
        },
        "id": "iqGjekdPYzGb",
        "outputId": "5fdc992e-35cf-49ab-a0e8-443de05898a0"
      },
      "execution_count": 28,
      "outputs": [
        {
          "output_type": "stream",
          "name": "stdout",
          "text": [
            "The list with duplicates removed: [1, 2, 3, 4, 5]\n"
          ]
        }
      ]
    },
    {
      "cell_type": "markdown",
      "source": [
        "# 7. Write a program to calculate the factorial of a given number."
      ],
      "metadata": {
        "id": "BxRhHvE9Y9tx"
      }
    },
    {
      "cell_type": "code",
      "source": [
        "def factorial(n):\n",
        "    if n < 0:\n",
        "        return None\n",
        "\n",
        "    result = 1\n",
        "    for i in range(1, n + 1):\n",
        "        result *= i\n",
        "\n",
        "    return result"
      ],
      "metadata": {
        "id": "L7D00vjnY7Ez"
      },
      "execution_count": 29,
      "outputs": []
    },
    {
      "cell_type": "code",
      "source": [
        "# Example\n",
        "number = 5\n",
        "factorial_result = factorial(number)\n",
        "if factorial_result is None:\n",
        "    print(\"Factorial is undefined for negative numbers.\")\n",
        "else:\n",
        "    print(f\"The factorial of {number} is: {factorial_result}\")"
      ],
      "metadata": {
        "colab": {
          "base_uri": "https://localhost:8080/"
        },
        "id": "pzbgaYCGbtDA",
        "outputId": "d03a8093-f8c5-41a4-f175-c02f910036fb"
      },
      "execution_count": 30,
      "outputs": [
        {
          "output_type": "stream",
          "name": "stdout",
          "text": [
            "The factorial of 5 is: 120\n"
          ]
        }
      ]
    },
    {
      "cell_type": "markdown",
      "source": [
        "**another approach by using recursion**"
      ],
      "metadata": {
        "id": "eNMpy82JbxS4"
      }
    },
    {
      "cell_type": "code",
      "source": [
        "def factorial_rec(n):\n",
        "    if n < 0:\n",
        "        return None\n",
        "    elif n == 0:\n",
        "        return 1\n",
        "    else:\n",
        "        return n * factorial(n - 1)"
      ],
      "metadata": {
        "id": "Ut-1aypmcJvo"
      },
      "execution_count": 31,
      "outputs": []
    },
    {
      "cell_type": "code",
      "source": [
        "# Example\n",
        "number = 5\n",
        "factorial_result = factorial_rec(number)\n",
        "if factorial_result is None:\n",
        "    print(\"Factorial is undefined for negative numbers.\")\n",
        "else:\n",
        "    print(f\"The factorial of {number} is: {factorial_result}\")"
      ],
      "metadata": {
        "colab": {
          "base_uri": "https://localhost:8080/"
        },
        "id": "sF06X2HOcTbT",
        "outputId": "0a0da265-6227-4f50-f201-763712ba5991"
      },
      "execution_count": 32,
      "outputs": [
        {
          "output_type": "stream",
          "name": "stdout",
          "text": [
            "The factorial of 5 is: 120\n"
          ]
        }
      ]
    },
    {
      "cell_type": "markdown",
      "source": [
        "# 8. Implement a function to check if a given number is prime."
      ],
      "metadata": {
        "id": "08Dr-tlScbzz"
      }
    },
    {
      "cell_type": "code",
      "source": [
        "def is_prime(number):\n",
        "    if number <= 1:\n",
        "        return False\n",
        "\n",
        "    for i in range(2, int(number**0.5) + 1):\n",
        "        if number % i == 0:\n",
        "            return False\n",
        "\n",
        "    return True"
      ],
      "metadata": {
        "id": "4VeD98SVca0i"
      },
      "execution_count": 33,
      "outputs": []
    },
    {
      "cell_type": "code",
      "source": [
        "# Example\n",
        "num = 17\n",
        "if is_prime(num):\n",
        "    print(f\"{num} is a prime number.\")\n",
        "else:\n",
        "    print(f\"{num} is not a prime number.\")"
      ],
      "metadata": {
        "colab": {
          "base_uri": "https://localhost:8080/"
        },
        "id": "5pN3TYh9c0pS",
        "outputId": "321ff20f-2fc9-4e17-b1d3-ada2a3a4038a"
      },
      "execution_count": 34,
      "outputs": [
        {
          "output_type": "stream",
          "name": "stdout",
          "text": [
            "17 is a prime number.\n"
          ]
        }
      ]
    },
    {
      "cell_type": "markdown",
      "source": [
        "**another approach**"
      ],
      "metadata": {
        "id": "yAeXJrxJc4bp"
      }
    },
    {
      "cell_type": "code",
      "source": [
        "def is_prime_ap(number):\n",
        "    if number <= 1:\n",
        "        return False\n",
        "\n",
        "    if number == 2:\n",
        "        return True\n",
        "\n",
        "    if number % 2 == 0:\n",
        "        return False\n",
        "\n",
        "    divisor = 3\n",
        "    while divisor * divisor <= number:\n",
        "        if number % divisor == 0:\n",
        "            return False\n",
        "        divisor += 2\n",
        "\n",
        "    return True"
      ],
      "metadata": {
        "id": "hgpsAP-vc8Cj"
      },
      "execution_count": 1,
      "outputs": []
    },
    {
      "cell_type": "code",
      "source": [
        "# Example\n",
        "num = 17\n",
        "if is_prime_ap(num):\n",
        "    print(f\"{num} is a prime number.\")\n",
        "else:\n",
        "    print(f\"{num} is not a prime number.\")"
      ],
      "metadata": {
        "colab": {
          "base_uri": "https://localhost:8080/"
        },
        "id": "BPQ8naEoiXMb",
        "outputId": "db2ff330-6de0-457b-e461-80024782c728"
      },
      "execution_count": 2,
      "outputs": [
        {
          "output_type": "stream",
          "name": "stdout",
          "text": [
            "17 is a prime number.\n"
          ]
        }
      ]
    },
    {
      "cell_type": "markdown",
      "source": [
        "# 9. Write a Python program to sort a list of integers in ascending order."
      ],
      "metadata": {
        "id": "gxfC0q5Pic_T"
      }
    },
    {
      "cell_type": "code",
      "source": [
        "def sort_list(numbers):\n",
        "    sorted_numbers = numbers.copy()\n",
        "    sorted_numbers.sort()\n",
        "    return sorted_numbers"
      ],
      "metadata": {
        "id": "kjcSwxEpin8o"
      },
      "execution_count": 3,
      "outputs": []
    },
    {
      "cell_type": "code",
      "source": [
        "# Example\n",
        "numbers = [5, 2, 8, 1, 3]\n",
        "sorted_numbers = sort_list(numbers)\n",
        "print(f\"The sorted list: {sorted_numbers}\")"
      ],
      "metadata": {
        "colab": {
          "base_uri": "https://localhost:8080/"
        },
        "id": "hi5Untnui4AD",
        "outputId": "a3375404-916a-441f-a3ef-2c341954eb31"
      },
      "execution_count": 4,
      "outputs": [
        {
          "output_type": "stream",
          "name": "stdout",
          "text": [
            "The sorted list: [1, 2, 3, 5, 8]\n"
          ]
        }
      ]
    },
    {
      "cell_type": "markdown",
      "source": [
        "**another approach**<br>\n",
        "**To sort a list of integers in ascending order without using the built-in sort() method:**"
      ],
      "metadata": {
        "id": "FgdM3Ysci7Vz"
      }
    },
    {
      "cell_type": "code",
      "source": [
        "def sort_list_mn(numbers):\n",
        "    sorted_numbers = numbers.copy()\n",
        "\n",
        "    for i in range(len(sorted_numbers)):\n",
        "        min_idx = i\n",
        "\n",
        "        for j in range(i + 1, len(sorted_numbers)):\n",
        "            if sorted_numbers[j] < sorted_numbers[min_idx]:\n",
        "                min_idx = j\n",
        "\n",
        "        sorted_numbers[i], sorted_numbers[min_idx] = sorted_numbers[min_idx], sorted_numbers[i]\n",
        "\n",
        "    return sorted_numbers"
      ],
      "metadata": {
        "id": "bBoy9SrEjJAj"
      },
      "execution_count": 5,
      "outputs": []
    },
    {
      "cell_type": "code",
      "source": [
        "# Example\n",
        "numbers = [5, 2, 8, 1, 3]\n",
        "sorted_numbers = sort_list_mn(numbers)\n",
        "print(f\"The sorted list: {sorted_numbers}\")"
      ],
      "metadata": {
        "colab": {
          "base_uri": "https://localhost:8080/"
        },
        "id": "WFnpb6RFjRIa",
        "outputId": "2d2f0f98-8209-4b9e-96bd-8ee63a507cc5"
      },
      "execution_count": 6,
      "outputs": [
        {
          "output_type": "stream",
          "name": "stdout",
          "text": [
            "The sorted list: [1, 2, 3, 5, 8]\n"
          ]
        }
      ]
    },
    {
      "cell_type": "markdown",
      "source": [
        "# 10. Implement a function to find the sum of all numbers in a list."
      ],
      "metadata": {
        "id": "hBYPJjo0j1Bi"
      }
    },
    {
      "cell_type": "code",
      "source": [
        "def sum_of_list(numbers):\n",
        "    total = 0\n",
        "    for num in numbers:\n",
        "        total += num\n",
        "    return total"
      ],
      "metadata": {
        "id": "iYOe7IB_jtdj"
      },
      "execution_count": 7,
      "outputs": []
    },
    {
      "cell_type": "code",
      "source": [
        "# Example\n",
        "numbers = [1, 2, 3, 4, 5]\n",
        "sum_of_numbers = sum_of_list(numbers)\n",
        "print(f\"The sum of the numbers in the list is: {sum_of_numbers}\")"
      ],
      "metadata": {
        "colab": {
          "base_uri": "https://localhost:8080/"
        },
        "id": "MNi9pWkumd9w",
        "outputId": "9c9467b0-f70c-4ea4-a1f5-e46695722878"
      },
      "execution_count": 8,
      "outputs": [
        {
          "output_type": "stream",
          "name": "stdout",
          "text": [
            "The sum of the numbers in the list is: 15\n"
          ]
        }
      ]
    },
    {
      "cell_type": "markdown",
      "source": [
        "**another approach**"
      ],
      "metadata": {
        "id": "-LEG6w_NmlfO"
      }
    },
    {
      "cell_type": "code",
      "source": [
        "# by using inbuilt function\n",
        "def sum_of_list_bi(numbers):\n",
        "    total = sum(numbers)\n",
        "    return total"
      ],
      "metadata": {
        "id": "muRSIfmTmo5j"
      },
      "execution_count": 9,
      "outputs": []
    },
    {
      "cell_type": "code",
      "source": [
        "# Example\n",
        "numbers = [1, 2, 3, 4, 5]\n",
        "sum_of_numbers = sum_of_list_bi(numbers)\n",
        "print(f\"The sum of the numbers in the list is: {sum_of_numbers}\")"
      ],
      "metadata": {
        "colab": {
          "base_uri": "https://localhost:8080/"
        },
        "id": "4Tr06owbm7Fa",
        "outputId": "447d073d-7aa1-4ac0-bf1e-87b83e8224ce"
      },
      "execution_count": 10,
      "outputs": [
        {
          "output_type": "stream",
          "name": "stdout",
          "text": [
            "The sum of the numbers in the list is: 15\n"
          ]
        }
      ]
    },
    {
      "cell_type": "markdown",
      "source": [
        "# 11. Write a program to find the common elements between two lists."
      ],
      "metadata": {
        "id": "5xKQxvOLm908"
      }
    },
    {
      "cell_type": "code",
      "source": [
        "def find_common_elements(list1, list2):\n",
        "    common_elements = []\n",
        "    for element in list1:\n",
        "        if element in list2 and element not in common_elements:\n",
        "            common_elements.append(element)\n",
        "    return common_elements"
      ],
      "metadata": {
        "id": "mmfeFTJom8yr"
      },
      "execution_count": 11,
      "outputs": []
    },
    {
      "cell_type": "code",
      "source": [
        "# Example\n",
        "list1 = [1, 2, 3, 4, 5]\n",
        "list2 = [4, 5, 6, 7, 8]\n",
        "common_elements = find_common_elements(list1, list2)\n",
        "print(f\"The common elements between the lists are: {common_elements}\")"
      ],
      "metadata": {
        "colab": {
          "base_uri": "https://localhost:8080/"
        },
        "id": "wH-L5-wSnRji",
        "outputId": "f367e9a4-f9e9-4d63-cd41-4756c01f3fbe"
      },
      "execution_count": 12,
      "outputs": [
        {
          "output_type": "stream",
          "name": "stdout",
          "text": [
            "The common elements between the lists are: [4, 5]\n"
          ]
        }
      ]
    },
    {
      "cell_type": "markdown",
      "source": [
        "**another approach**"
      ],
      "metadata": {
        "id": "FBaS1f08n4r7"
      }
    },
    {
      "cell_type": "code",
      "source": [
        "def find_common_elements2(list1, list2):\n",
        "    set1 = set(list1)\n",
        "    set2 = set(list2)\n",
        "    common_elements = list(set1.intersection(set2))\n",
        "    return common_elements"
      ],
      "metadata": {
        "id": "1N7qyJvknsec"
      },
      "execution_count": 13,
      "outputs": []
    },
    {
      "cell_type": "code",
      "source": [
        "# Example usage\n",
        "list1 = [1, 2, 3, 4, 5]\n",
        "list2 = [4, 5, 6, 7, 8]\n",
        "common_elements = find_common_elements2(list1, list2)\n",
        "print(f\"The common elements between the lists are: {common_elements}\")"
      ],
      "metadata": {
        "colab": {
          "base_uri": "https://localhost:8080/"
        },
        "id": "6AJ7rEZSoGJ7",
        "outputId": "c64dae97-fbb0-4f2e-b254-1d7f3f7c6e5f"
      },
      "execution_count": 14,
      "outputs": [
        {
          "output_type": "stream",
          "name": "stdout",
          "text": [
            "The common elements between the lists are: [4, 5]\n"
          ]
        }
      ]
    },
    {
      "cell_type": "markdown",
      "source": [
        "# 12. Implement a function to check if a given string is an anagram of another string."
      ],
      "metadata": {
        "id": "7X8gJEImoKEt"
      }
    },
    {
      "cell_type": "code",
      "source": [
        "def is_anagram(str1, str2):\n",
        "    str1_sorted = sorted(str1.lower())\n",
        "    str2_sorted = sorted(str2.lower())\n",
        "\n",
        "    return str1_sorted == str2_sorted"
      ],
      "metadata": {
        "id": "Z_8hWQD6oI0M"
      },
      "execution_count": 15,
      "outputs": []
    },
    {
      "cell_type": "code",
      "source": [
        "# Example\n",
        "string1 = \"listen\"\n",
        "string2 = \"silent\"\n",
        "if is_anagram(string1, string2):\n",
        "    print(f\"{string1} and {string2} are anagrams.\")\n",
        "else:\n",
        "    print(f\"{string1} and {string2} are not anagrams.\")"
      ],
      "metadata": {
        "colab": {
          "base_uri": "https://localhost:8080/"
        },
        "id": "6Qx6S8SBpCxK",
        "outputId": "0489f505-706d-42dd-bcea-3c14dcbe55cc"
      },
      "execution_count": 16,
      "outputs": [
        {
          "output_type": "stream",
          "name": "stdout",
          "text": [
            "listen and silent are anagrams.\n"
          ]
        }
      ]
    },
    {
      "cell_type": "markdown",
      "source": [
        "**another approach**"
      ],
      "metadata": {
        "id": "-Td1KXUIpaxn"
      }
    },
    {
      "cell_type": "code",
      "source": [
        "def is_anagram2(str1, str2):\n",
        "    str1_dict = {}\n",
        "    str2_dict = {}\n",
        "\n",
        "    # Create frequency dictionaries for str1 and str2\n",
        "    for char in str1.lower():\n",
        "        str1_dict[char] = str1_dict.get(char, 0) + 1\n",
        "\n",
        "    for char in str2.lower():\n",
        "        str2_dict[char] = str2_dict.get(char, 0) + 1\n",
        "\n",
        "    # Compare the frequency dictionaries\n",
        "    return str1_dict == str2_dict"
      ],
      "metadata": {
        "id": "BUQ63J4Upe4V"
      },
      "execution_count": 17,
      "outputs": []
    },
    {
      "cell_type": "code",
      "source": [
        "string1 = \"listen\"\n",
        "string2 = \"silent\"\n",
        "if is_anagram2(string1, string2):\n",
        "    print(f\"{string1} and {string2} are anagrams.\")\n",
        "else:\n",
        "    print(f\"{string1} and {string2} are not anagrams.\")"
      ],
      "metadata": {
        "colab": {
          "base_uri": "https://localhost:8080/"
        },
        "id": "ZL-QnpnlpnJi",
        "outputId": "a9b150e1-1928-4aab-aa7f-06cd7be92fbc"
      },
      "execution_count": 18,
      "outputs": [
        {
          "output_type": "stream",
          "name": "stdout",
          "text": [
            "listen and silent are anagrams.\n"
          ]
        }
      ]
    },
    {
      "cell_type": "markdown",
      "source": [
        "# 13. Write a Python program to generate all permutations of a given string."
      ],
      "metadata": {
        "id": "B3__ne39ptof"
      }
    },
    {
      "cell_type": "code",
      "source": [
        "def generate_permutations(string):\n",
        "    if len(string) == 1:\n",
        "        return [string]\n",
        "\n",
        "    permutations = []\n",
        "    for i in range(len(string)):\n",
        "        first_char = string[i]\n",
        "        remaining_chars = string[:i] + string[i+1:]\n",
        "        sub_permutations = generate_permutations(remaining_chars)\n",
        "\n",
        "        for sub_permutation in sub_permutations:\n",
        "            permutations.append(first_char + sub_permutation)\n",
        "\n",
        "    return permutations"
      ],
      "metadata": {
        "id": "wKfx5rrApz-u"
      },
      "execution_count": 19,
      "outputs": []
    },
    {
      "cell_type": "code",
      "source": [
        "# Example\n",
        "string = \"abc\"\n",
        "permutations = generate_permutations(string)\n",
        "print(f\"All permutations of '{string}':\")\n",
        "for permutation in permutations:\n",
        "    print(permutation)"
      ],
      "metadata": {
        "colab": {
          "base_uri": "https://localhost:8080/"
        },
        "id": "v7YnF2s-qAa7",
        "outputId": "db01e708-2936-4d42-a1f4-a209d82f7723"
      },
      "execution_count": 20,
      "outputs": [
        {
          "output_type": "stream",
          "name": "stdout",
          "text": [
            "All permutations of 'abc':\n",
            "abc\n",
            "acb\n",
            "bac\n",
            "bca\n",
            "cab\n",
            "cba\n"
          ]
        }
      ]
    },
    {
      "cell_type": "markdown",
      "source": [
        "**another approach**<br> by using pre build library"
      ],
      "metadata": {
        "id": "UTRJjb4GqETP"
      }
    },
    {
      "cell_type": "code",
      "source": [
        "import itertools"
      ],
      "metadata": {
        "id": "nbRDYEmKqCl-"
      },
      "execution_count": 21,
      "outputs": []
    },
    {
      "cell_type": "code",
      "source": [
        "def generate_permutations2(string):\n",
        "    permutations = [''.join(perm) for perm in itertools.permutations(string)]\n",
        "    return permutations"
      ],
      "metadata": {
        "id": "ens6OYrFq4Zv"
      },
      "execution_count": 22,
      "outputs": []
    },
    {
      "cell_type": "code",
      "source": [
        "# Example usage\n",
        "string = \"abc\"\n",
        "permutations = generate_permutations2(string)\n",
        "print(f\"All permutations of '{string}':\")\n",
        "for permutation in permutations:\n",
        "    print(permutation)"
      ],
      "metadata": {
        "colab": {
          "base_uri": "https://localhost:8080/"
        },
        "id": "4PXgNmV0q4nb",
        "outputId": "33bb81d5-01d9-4c0c-de06-63bb68f3b65b"
      },
      "execution_count": 23,
      "outputs": [
        {
          "output_type": "stream",
          "name": "stdout",
          "text": [
            "All permutations of 'abc':\n",
            "abc\n",
            "acb\n",
            "bac\n",
            "bca\n",
            "cab\n",
            "cba\n"
          ]
        }
      ]
    },
    {
      "cell_type": "markdown",
      "source": [
        "# 14. Implement a function to calculate the Fibonacci sequence up to a given number of terms."
      ],
      "metadata": {
        "id": "Qz1xhCG7rB3E"
      }
    },
    {
      "cell_type": "code",
      "source": [
        "def fibonacci_sequence(n):\n",
        "    sequence = []\n",
        "    if n <= 0:\n",
        "        return sequence\n",
        "    elif n == 1:\n",
        "        sequence.append(0)\n",
        "    elif n == 2:\n",
        "        sequence.extend([0, 1])\n",
        "    else:\n",
        "        sequence.extend([0, 1])\n",
        "        for i in range(2, n):\n",
        "            next_number = sequence[i - 1] + sequence[i - 2]\n",
        "            sequence.append(next_number)\n",
        "    return sequence"
      ],
      "metadata": {
        "id": "hqnaB3p4rHqC"
      },
      "execution_count": 24,
      "outputs": []
    },
    {
      "cell_type": "code",
      "source": [
        "# Example\n",
        "num_terms = 10\n",
        "fibonacci = fibonacci_sequence(num_terms)\n",
        "print(f\"The Fibonacci sequence up to {num_terms} terms:\")\n",
        "print(fibonacci)"
      ],
      "metadata": {
        "colab": {
          "base_uri": "https://localhost:8080/"
        },
        "id": "LHpny9SWrbb5",
        "outputId": "762b73a1-ca5c-48ed-cd96-86116aa73088"
      },
      "execution_count": 25,
      "outputs": [
        {
          "output_type": "stream",
          "name": "stdout",
          "text": [
            "The Fibonacci sequence up to 10 terms:\n",
            "[0, 1, 1, 2, 3, 5, 8, 13, 21, 34]\n"
          ]
        }
      ]
    },
    {
      "cell_type": "markdown",
      "source": [
        "**another approach**<br> Fibonacci sequence up to a given number of terms using recursion"
      ],
      "metadata": {
        "id": "MeARYPIzrezW"
      }
    },
    {
      "cell_type": "code",
      "source": [
        "def fibonacci_sequence2(n):\n",
        "    if n <= 0:\n",
        "        return []\n",
        "    elif n == 1:\n",
        "        return [0]\n",
        "    elif n == 2:\n",
        "        return [0, 1]\n",
        "    else:\n",
        "        sequence = fibonacci_sequence(n - 1)\n",
        "        next_number = sequence[-1] + sequence[-2]\n",
        "        sequence.append(next_number)\n",
        "        return sequence"
      ],
      "metadata": {
        "id": "p90RWuGariCz"
      },
      "execution_count": 26,
      "outputs": []
    },
    {
      "cell_type": "code",
      "source": [
        "# Example\n",
        "num_terms = 10\n",
        "fibonacci = fibonacci_sequence2(num_terms)\n",
        "print(f\"The Fibonacci sequence up to {num_terms} terms:\")\n",
        "print(fibonacci)"
      ],
      "metadata": {
        "colab": {
          "base_uri": "https://localhost:8080/"
        },
        "id": "0WaTxjXDsu4p",
        "outputId": "1d0c1bc2-8a41-46bb-f037-7dfa360ea06f"
      },
      "execution_count": 27,
      "outputs": [
        {
          "output_type": "stream",
          "name": "stdout",
          "text": [
            "The Fibonacci sequence up to 10 terms:\n",
            "[0, 1, 1, 2, 3, 5, 8, 13, 21, 34]\n"
          ]
        }
      ]
    },
    {
      "cell_type": "markdown",
      "source": [
        "# 15. Write a program to find the median of a list of numbers."
      ],
      "metadata": {
        "id": "b46mOiMRsyii"
      }
    },
    {
      "cell_type": "code",
      "source": [
        "def find_median(numbers):\n",
        "    sorted_numbers = sorted(numbers)\n",
        "    n = len(sorted_numbers)\n",
        "    mid_index = n // 2\n",
        "\n",
        "    if n % 2 == 0:\n",
        "        median = (sorted_numbers[mid_index - 1] + sorted_numbers[mid_index]) / 2\n",
        "    else:\n",
        "        median = sorted_numbers[mid_index]\n",
        "\n",
        "    return median"
      ],
      "metadata": {
        "id": "9xyXaMAktSxF"
      },
      "execution_count": 28,
      "outputs": []
    },
    {
      "cell_type": "code",
      "source": [
        "# Example\n",
        "number_list = [3, 1, 5, 4, 2]\n",
        "median = find_median(number_list)\n",
        "print(f\"The median of the list is: {median}\")"
      ],
      "metadata": {
        "colab": {
          "base_uri": "https://localhost:8080/"
        },
        "id": "WVAJs3xYtjQ9",
        "outputId": "145fd7f8-388b-4d7d-f108-f0ec12beb59b"
      },
      "execution_count": 29,
      "outputs": [
        {
          "output_type": "stream",
          "name": "stdout",
          "text": [
            "The median of the list is: 3\n"
          ]
        }
      ]
    },
    {
      "cell_type": "markdown",
      "source": [
        "**another approach**"
      ],
      "metadata": {
        "id": "1JKU59LYuNWy"
      }
    },
    {
      "cell_type": "code",
      "source": [
        "def find_median2(numbers):\n",
        "    n = len(numbers)\n",
        "\n",
        "    if n == 0:\n",
        "        return None\n",
        "\n",
        "    sorted_numbers = numbers.copy()\n",
        "    i = 0\n",
        "    while i < n - 1:\n",
        "        min_index = i\n",
        "        j = i + 1\n",
        "        while j < n:\n",
        "            if sorted_numbers[j] < sorted_numbers[min_index]:\n",
        "                min_index = j\n",
        "            j += 1\n",
        "        sorted_numbers[i], sorted_numbers[min_index] = sorted_numbers[min_index], sorted_numbers[i]\n",
        "        i += 1\n",
        "\n",
        "    if n % 2 == 0:\n",
        "        mid_index_1 = n // 2\n",
        "        mid_index_2 = mid_index_1 - 1\n",
        "        median = (sorted_numbers[mid_index_1] + sorted_numbers[mid_index_2]) / 2\n",
        "    else:\n",
        "        mid_index = n // 2\n",
        "        median = sorted_numbers[mid_index]\n",
        "\n",
        "    return median"
      ],
      "metadata": {
        "id": "TZDHcTj5uXUh"
      },
      "execution_count": 30,
      "outputs": []
    },
    {
      "cell_type": "code",
      "source": [
        "# Example\n",
        "number_list = [3, 1, 5, 4, 2]\n",
        "median = find_median2(number_list)\n",
        "print(f\"The median of the list is: {median}\")"
      ],
      "metadata": {
        "colab": {
          "base_uri": "https://localhost:8080/"
        },
        "id": "DI--_uMtumU5",
        "outputId": "b62d4b6f-b01c-4c20-fdea-9bd19e3496b6"
      },
      "execution_count": 31,
      "outputs": [
        {
          "output_type": "stream",
          "name": "stdout",
          "text": [
            "The median of the list is: 3\n"
          ]
        }
      ]
    },
    {
      "cell_type": "markdown",
      "source": [
        "# 16. Implement a function to check if a given list is sorted in non-decreasing order."
      ],
      "metadata": {
        "id": "wV12fnVGu2Nx"
      }
    },
    {
      "cell_type": "code",
      "source": [
        "def is_sorted(numbers):\n",
        "    n = len(numbers)\n",
        "    for i in range(1, n):\n",
        "        if numbers[i] < numbers[i - 1]:\n",
        "            return False\n",
        "    return True"
      ],
      "metadata": {
        "id": "8OeSkm2tu7AE"
      },
      "execution_count": 32,
      "outputs": []
    },
    {
      "cell_type": "code",
      "source": [
        "# Example\n",
        "number_list = [1, 2, 3, 4, 5]\n",
        "print(is_sorted(number_list))\n",
        "\n",
        "number_list = [1, 3, 2, 4, 5]\n",
        "print(is_sorted(number_list))"
      ],
      "metadata": {
        "colab": {
          "base_uri": "https://localhost:8080/"
        },
        "id": "z0yPINIuvJJZ",
        "outputId": "aa9c90ec-28d7-4973-9274-ae588b24da9d"
      },
      "execution_count": 33,
      "outputs": [
        {
          "output_type": "stream",
          "name": "stdout",
          "text": [
            "True\n",
            "False\n"
          ]
        }
      ]
    },
    {
      "cell_type": "markdown",
      "source": [
        "# 17. Write a Python program to find the intersection of two lists."
      ],
      "metadata": {
        "id": "QX8mIM0EvQjJ"
      }
    },
    {
      "cell_type": "code",
      "source": [
        "def find_intersection(list1, list2):\n",
        "    intersection = []\n",
        "    for element in list1:\n",
        "        if element in list2 and element not in intersection:\n",
        "            intersection.append(element)\n",
        "    return intersection"
      ],
      "metadata": {
        "id": "iXCbiJSmvY7_"
      },
      "execution_count": 34,
      "outputs": []
    },
    {
      "cell_type": "code",
      "source": [
        "# Example\n",
        "list1 = [1, 2, 3, 4, 5]\n",
        "list2 = [4, 5, 6, 7, 8]\n",
        "intersection = find_intersection(list1, list2)\n",
        "print(intersection)"
      ],
      "metadata": {
        "colab": {
          "base_uri": "https://localhost:8080/"
        },
        "id": "MJiGH_G4vzYR",
        "outputId": "de761920-a72d-4c42-8114-4287594cae7c"
      },
      "execution_count": 35,
      "outputs": [
        {
          "output_type": "stream",
          "name": "stdout",
          "text": [
            "[4, 5]\n"
          ]
        }
      ]
    },
    {
      "cell_type": "markdown",
      "source": [
        "# 18. Implement a function to find the maximum subarray sum in a given list."
      ],
      "metadata": {
        "id": "0zFSNeSYv4nK"
      }
    },
    {
      "cell_type": "code",
      "source": [
        "def max_subarray_sum(numbers):\n",
        "    if not numbers:\n",
        "        return 0\n",
        "\n",
        "    current_sum = max_sum = numbers[0]\n",
        "    for num in numbers[1:]:\n",
        "        current_sum = max(num, current_sum + num)\n",
        "        max_sum = max(max_sum, current_sum)\n",
        "\n",
        "    return max_sum"
      ],
      "metadata": {
        "id": "lzvgrwaRv-So"
      },
      "execution_count": 36,
      "outputs": []
    },
    {
      "cell_type": "code",
      "source": [
        "# Example\n",
        "number_list = [-2, 1, -3, 4, -1, 2, 1, -5, 4]\n",
        "max_sum = max_subarray_sum(number_list)\n",
        "print(f\"The maximum subarray sum is: {max_sum}\")"
      ],
      "metadata": {
        "colab": {
          "base_uri": "https://localhost:8080/"
        },
        "id": "aCSGYSjfwKGp",
        "outputId": "bc8fe11f-087e-4267-e0df-a6187c8a4eb6"
      },
      "execution_count": 37,
      "outputs": [
        {
          "output_type": "stream",
          "name": "stdout",
          "text": [
            "The maximum subarray sum is: 6\n"
          ]
        }
      ]
    },
    {
      "cell_type": "markdown",
      "source": [
        "# 19. Write a program to remove all vowels from a given string."
      ],
      "metadata": {
        "id": "gm0Ua0acwRy5"
      }
    },
    {
      "cell_type": "code",
      "source": [
        "def remove_vowels(string):\n",
        "    vowels = 'aeiouAEIOU'\n",
        "    without_vowels = ''\n",
        "    for char in string:\n",
        "        if char not in vowels:\n",
        "            without_vowels += char\n",
        "    return without_vowels"
      ],
      "metadata": {
        "id": "7owssRCMwbNh"
      },
      "execution_count": 38,
      "outputs": []
    },
    {
      "cell_type": "code",
      "source": [
        "# Example\n",
        "input_string = 'Hello, World!'\n",
        "result = remove_vowels(input_string)\n",
        "print(result)"
      ],
      "metadata": {
        "colab": {
          "base_uri": "https://localhost:8080/"
        },
        "id": "_ZYDvTdBwktx",
        "outputId": "12762fe0-33f3-4a47-8eba-1612942a2b17"
      },
      "execution_count": 39,
      "outputs": [
        {
          "output_type": "stream",
          "name": "stdout",
          "text": [
            "Hll, Wrld!\n"
          ]
        }
      ]
    },
    {
      "cell_type": "markdown",
      "source": [
        "# 20. Implement a function to reverse the order of words in a given sentence."
      ],
      "metadata": {
        "id": "xcitnKrWwrsr"
      }
    },
    {
      "cell_type": "code",
      "source": [
        "def reverse_words(sentence):\n",
        "    words = sentence.split()\n",
        "    reversed_sentence = ' '.join(reversed(words))\n",
        "    return reversed_sentence"
      ],
      "metadata": {
        "id": "oRv3B3aEwuwC"
      },
      "execution_count": 40,
      "outputs": []
    },
    {
      "cell_type": "code",
      "source": [
        "# Example usage\n",
        "input_sentence = 'Happy! to coding.'\n",
        "result = reverse_words(input_sentence)\n",
        "print(result)"
      ],
      "metadata": {
        "colab": {
          "base_uri": "https://localhost:8080/"
        },
        "id": "vailY2GZw70A",
        "outputId": "5e93360c-e460-426e-c686-5c0d4faaf750"
      },
      "execution_count": 41,
      "outputs": [
        {
          "output_type": "stream",
          "name": "stdout",
          "text": [
            "coding. to Happy!\n"
          ]
        }
      ]
    },
    {
      "cell_type": "markdown",
      "source": [
        "# 21. Write a Python program to check if two strings are anagrams of each other."
      ],
      "metadata": {
        "id": "4WwboN7_xI9p"
      }
    },
    {
      "cell_type": "code",
      "source": [
        "def are_anagrams(str1, str2):\n",
        "    str1 = str1.lower()\n",
        "    str2 = str2.lower()\n",
        "\n",
        "    if len(str1) != len(str2):\n",
        "        return False\n",
        "\n",
        "    count = [0] * 26\n",
        "\n",
        "    for char in str1:\n",
        "        if char.isalpha():\n",
        "            count[ord(char) - ord('a')] += 1\n",
        "\n",
        "    for char in str2:\n",
        "        if char.isalpha():\n",
        "            count[ord(char) - ord('a')] -= 1\n",
        "\n",
        "    return all(count[i] == 0 for i in range(26))"
      ],
      "metadata": {
        "id": "uKS9zufAxNOw"
      },
      "execution_count": 42,
      "outputs": []
    },
    {
      "cell_type": "code",
      "source": [
        "# Example usage\n",
        "string1 = \"Listen\"\n",
        "string2 = \"Silent\"\n",
        "print(are_anagrams(string1, string2))\n",
        "\n",
        "string1 = \"hello\"\n",
        "string2 = \"world\"\n",
        "print(are_anagrams(string1, string2))"
      ],
      "metadata": {
        "colab": {
          "base_uri": "https://localhost:8080/"
        },
        "id": "cK9fp5dZxb1g",
        "outputId": "7c01ac90-b102-4571-e80c-934fcadf68b3"
      },
      "execution_count": 43,
      "outputs": [
        {
          "output_type": "stream",
          "name": "stdout",
          "text": [
            "True\n",
            "False\n"
          ]
        }
      ]
    },
    {
      "cell_type": "markdown",
      "source": [
        "# 22. Implement a function to find the first non-repeating character in a string."
      ],
      "metadata": {
        "id": "LxxQ4p-Dxfgk"
      }
    },
    {
      "cell_type": "code",
      "source": [
        "def first_non_repeating_char(string):\n",
        "    char_count = {}\n",
        "\n",
        "    for char in string:\n",
        "        char_count[char] = char_count.get(char, 0) + 1\n",
        "\n",
        "    for char in string:\n",
        "        if char_count[char] == 1:\n",
        "            return char\n",
        "\n",
        "    return None"
      ],
      "metadata": {
        "id": "EylFBzF_xeOg"
      },
      "execution_count": 44,
      "outputs": []
    },
    {
      "cell_type": "code",
      "source": [
        "# Example\n",
        "input_string = \"abracadabra\"\n",
        "result = first_non_repeating_char(input_string)\n",
        "print(result)"
      ],
      "metadata": {
        "colab": {
          "base_uri": "https://localhost:8080/"
        },
        "id": "RE5fGNCLxu2Y",
        "outputId": "e80204a9-cf34-4010-ae26-a49ab9096788"
      },
      "execution_count": 45,
      "outputs": [
        {
          "output_type": "stream",
          "name": "stdout",
          "text": [
            "c\n"
          ]
        }
      ]
    },
    {
      "cell_type": "markdown",
      "source": [
        "# 23. Write a program to find the prime factors of a given number."
      ],
      "metadata": {
        "id": "sUUPFPh6x1kL"
      }
    },
    {
      "cell_type": "code",
      "source": [
        "def prime_factors(n):\n",
        "    factors = []\n",
        "    i = 2\n",
        "\n",
        "    while i * i <= n:\n",
        "        if n % i:\n",
        "            i += 1\n",
        "        else:\n",
        "            n //= i\n",
        "            factors.append(i)\n",
        "\n",
        "    if n > 1:\n",
        "        factors.append(n)\n",
        "\n",
        "    return factors"
      ],
      "metadata": {
        "id": "4NTgQ02mx6BY"
      },
      "execution_count": 46,
      "outputs": []
    },
    {
      "cell_type": "code",
      "source": [
        "# Example\n",
        "number = 84\n",
        "factors = prime_factors(number)\n",
        "print(f\"The prime factors of {number} are: {factors}\")"
      ],
      "metadata": {
        "colab": {
          "base_uri": "https://localhost:8080/"
        },
        "id": "0P_yteHjyDcp",
        "outputId": "a3618278-354d-4fd2-82e8-02d08b5c0d97"
      },
      "execution_count": 47,
      "outputs": [
        {
          "output_type": "stream",
          "name": "stdout",
          "text": [
            "The prime factors of 84 are: [2, 2, 3, 7]\n"
          ]
        }
      ]
    },
    {
      "cell_type": "markdown",
      "source": [
        "# 24. Implement a function to check if a given number is a power of two."
      ],
      "metadata": {
        "id": "FZ8uTGOWyHBS"
      }
    },
    {
      "cell_type": "code",
      "source": [
        "def is_power_of_two(n):\n",
        "    if n <= 0:\n",
        "        return False\n",
        "\n",
        "    while n % 2 == 0:\n",
        "        n //= 2\n",
        "\n",
        "    return n == 1"
      ],
      "metadata": {
        "id": "GIuhvSu1yLcW"
      },
      "execution_count": 48,
      "outputs": []
    },
    {
      "cell_type": "code",
      "source": [
        "# Example\n",
        "number = 16\n",
        "result = is_power_of_two(number)\n",
        "print(result)\n",
        "\n",
        "print()\n",
        "\n",
        "number = 15\n",
        "result = is_power_of_two(number)\n",
        "print(result)"
      ],
      "metadata": {
        "colab": {
          "base_uri": "https://localhost:8080/"
        },
        "id": "F6QbsrJxyTca",
        "outputId": "dfe3d6c6-bbdf-4399-eb2f-3c0adae06ca0"
      },
      "execution_count": 49,
      "outputs": [
        {
          "output_type": "stream",
          "name": "stdout",
          "text": [
            "True\n",
            "\n",
            "False\n"
          ]
        }
      ]
    },
    {
      "cell_type": "markdown",
      "source": [
        "# 25. Write a Python program to merge two sorted lists into a single sorted list."
      ],
      "metadata": {
        "id": "wrW8qA9mycNr"
      }
    },
    {
      "cell_type": "code",
      "source": [
        "def merge_sorted_lists(list1, list2):\n",
        "    merged_list = []\n",
        "    i = 0\n",
        "    j = 0\n",
        "\n",
        "    while i < len(list1) and j < len(list2):\n",
        "        if list1[i] <= list2[j]:\n",
        "            merged_list.append(list1[i])\n",
        "            i += 1\n",
        "        else:\n",
        "            merged_list.append(list2[j])\n",
        "            j += 1\n",
        "\n",
        "    while i < len(list1):\n",
        "        merged_list.append(list1[i])\n",
        "        i += 1\n",
        "\n",
        "    while j < len(list2):\n",
        "        merged_list.append(list2[j])\n",
        "        j += 1\n",
        "\n",
        "    return merged_list"
      ],
      "metadata": {
        "id": "oBTfcxM3yZrg"
      },
      "execution_count": 50,
      "outputs": []
    },
    {
      "cell_type": "code",
      "source": [
        "# Example\n",
        "list1 = [1, 3, 5, 7]\n",
        "list2 = [2, 4, 6, 8]\n",
        "result = merge_sorted_lists(list1, list2)\n",
        "print(result)"
      ],
      "metadata": {
        "colab": {
          "base_uri": "https://localhost:8080/"
        },
        "id": "pKMgZYNLypdg",
        "outputId": "fd0cf500-2928-4181-bed3-d7e3dc4bff2e"
      },
      "execution_count": 51,
      "outputs": [
        {
          "output_type": "stream",
          "name": "stdout",
          "text": [
            "[1, 2, 3, 4, 5, 6, 7, 8]\n"
          ]
        }
      ]
    },
    {
      "cell_type": "markdown",
      "source": [
        "# 26. Implement a function to find the mode of a list of numbers."
      ],
      "metadata": {
        "id": "Db1_BCSmyyXi"
      }
    },
    {
      "cell_type": "code",
      "source": [
        "def find_mode(numbers):\n",
        "    frequency = {}\n",
        "\n",
        "    for num in numbers:\n",
        "        if num in frequency:\n",
        "            frequency[num] += 1\n",
        "        else:\n",
        "            frequency[num] = 1\n",
        "\n",
        "    mode = []\n",
        "    max_frequency = 0\n",
        "\n",
        "    for num, count in frequency.items():\n",
        "        if count > max_frequency:\n",
        "            mode = [num]\n",
        "            max_frequency = count\n",
        "        elif count == max_frequency:\n",
        "            mode.append(num)\n",
        "\n",
        "    return mode"
      ],
      "metadata": {
        "id": "E9C50tn2y2nY"
      },
      "execution_count": 52,
      "outputs": []
    },
    {
      "cell_type": "code",
      "source": [
        "# Example\n",
        "number_list = [1, 2, 3, 2, 4, 5, 4, 2]\n",
        "result = find_mode(number_list)\n",
        "print(result)"
      ],
      "metadata": {
        "colab": {
          "base_uri": "https://localhost:8080/"
        },
        "id": "q2Sgklyjy83R",
        "outputId": "21516a0d-79df-4e76-cad1-235ebc7f4c37"
      },
      "execution_count": 53,
      "outputs": [
        {
          "output_type": "stream",
          "name": "stdout",
          "text": [
            "[2]\n"
          ]
        }
      ]
    },
    {
      "cell_type": "markdown",
      "source": [
        "# 27. Write a program to find the greatest common divisor (GCD) of two numbers."
      ],
      "metadata": {
        "id": "1nHApku5zDTD"
      }
    },
    {
      "cell_type": "code",
      "source": [
        "def gcd(a, b):\n",
        "    while b != 0:\n",
        "        a, b = b, a % b\n",
        "    return a"
      ],
      "metadata": {
        "id": "FEFfVY_8zH1w"
      },
      "execution_count": 54,
      "outputs": []
    },
    {
      "cell_type": "code",
      "source": [
        "# Example\n",
        "number1 = 24\n",
        "number2 = 36\n",
        "result = gcd(number1, number2)\n",
        "print(f\"The GCD of {number1} and {number2} is: {result}\")"
      ],
      "metadata": {
        "colab": {
          "base_uri": "https://localhost:8080/"
        },
        "id": "asRktVKzzT3w",
        "outputId": "0a9a0db3-4a9e-4ab0-e655-4d9933d955bc"
      },
      "execution_count": 55,
      "outputs": [
        {
          "output_type": "stream",
          "name": "stdout",
          "text": [
            "The GCD of 24 and 36 is: 12\n"
          ]
        }
      ]
    },
    {
      "cell_type": "markdown",
      "source": [
        "# 28. Implement a function to calculate the square root of a given number."
      ],
      "metadata": {
        "id": "D7gqpBRZzvuR"
      }
    },
    {
      "cell_type": "code",
      "source": [
        "def square_root(n):\n",
        "    if n < 0:\n",
        "        raise ValueError(\"Square root is not defined for negative numbers.\")\n",
        "\n",
        "    if n == 0:\n",
        "        return 0\n",
        "\n",
        "    # Initial guess for the square root\n",
        "    x = n / 2\n",
        "    epsilon = 0.00001  # Desired level of precision\n",
        "\n",
        "    while True:\n",
        "        # Newton's method for approximating square roots\n",
        "        y = (x + n / x) / 2\n",
        "\n",
        "        if abs(y - x) < epsilon:\n",
        "            break\n",
        "\n",
        "        x = y\n",
        "\n",
        "    return y"
      ],
      "metadata": {
        "id": "BxCyQ1Hxzyuv"
      },
      "execution_count": 56,
      "outputs": []
    },
    {
      "cell_type": "code",
      "source": [
        "number = 16\n",
        "result = square_root(number)\n",
        "print(f\"The square root of {number} is: {result:.2f}\")"
      ],
      "metadata": {
        "colab": {
          "base_uri": "https://localhost:8080/"
        },
        "id": "FKWkptsK3aRp",
        "outputId": "0ec49184-b291-4e4d-f344-078222257d49"
      },
      "execution_count": 60,
      "outputs": [
        {
          "output_type": "stream",
          "name": "stdout",
          "text": [
            "The square root of 16 is: 4.00\n"
          ]
        }
      ]
    },
    {
      "cell_type": "markdown",
      "source": [
        "# 29. Write a Python program to check if a given string is a valid palindrome ignoring non-alphanumeric characters."
      ],
      "metadata": {
        "id": "PbrUY4363fbv"
      }
    },
    {
      "cell_type": "code",
      "source": [
        "import re"
      ],
      "metadata": {
        "id": "UvYnvGkh3bLQ"
      },
      "execution_count": 61,
      "outputs": []
    },
    {
      "cell_type": "code",
      "source": [
        "def is_valid_palindrome(s):\n",
        "    # Remove non-alphanumeric characters and convert to lowercase\n",
        "    s = re.sub(r'[^a-zA-Z0-9]', '', s).lower()\n",
        "\n",
        "    # Check if the modified string is a palindrome\n",
        "    return s == s[::-1]"
      ],
      "metadata": {
        "id": "uxleXnwz3uWs"
      },
      "execution_count": 62,
      "outputs": []
    },
    {
      "cell_type": "code",
      "source": [
        "# Example\n",
        "string = \"A man, a plan, a canal: Panama\"\n",
        "result = is_valid_palindrome(string)\n",
        "print(result)"
      ],
      "metadata": {
        "colab": {
          "base_uri": "https://localhost:8080/"
        },
        "id": "-gN5pb-83xCS",
        "outputId": "16eec692-db1f-4762-d68e-a1a1e4e6d119"
      },
      "execution_count": 63,
      "outputs": [
        {
          "output_type": "stream",
          "name": "stdout",
          "text": [
            "True\n"
          ]
        }
      ]
    },
    {
      "cell_type": "markdown",
      "source": [
        "# 30. Implement a function to find the minimum element in a rotated sorted list."
      ],
      "metadata": {
        "id": "I_ybIstZ4F7b"
      }
    },
    {
      "cell_type": "code",
      "source": [
        "def find_min(nums):\n",
        "    left = 0\n",
        "    right = len(nums) - 1\n",
        "\n",
        "    while left < right:\n",
        "        mid = left + (right - left) // 2\n",
        "\n",
        "        # Check if the mid element is greater than the rightmost element\n",
        "        if nums[mid] > nums[right]:\n",
        "            left = mid + 1\n",
        "        else:\n",
        "            right = mid\n",
        "\n",
        "    return nums[left]"
      ],
      "metadata": {
        "id": "4ZIfnzQy4I5f"
      },
      "execution_count": 64,
      "outputs": []
    },
    {
      "cell_type": "code",
      "source": [
        "# Example\n",
        "nums = [4, 5, 6, 7, 0, 1, 2]\n",
        "result = find_min(nums)\n",
        "print(f\"The minimum element is: {result}\")"
      ],
      "metadata": {
        "colab": {
          "base_uri": "https://localhost:8080/"
        },
        "id": "4Zut2Pw94SWX",
        "outputId": "9924ddf7-0363-4377-b997-681aecfeebed"
      },
      "execution_count": 65,
      "outputs": [
        {
          "output_type": "stream",
          "name": "stdout",
          "text": [
            "The minimum element is: 0\n"
          ]
        }
      ]
    },
    {
      "cell_type": "markdown",
      "source": [
        "# 31. Write a program to find the sum of all even numbers in a list."
      ],
      "metadata": {
        "id": "4uT6CNtX4mLq"
      }
    },
    {
      "cell_type": "code",
      "source": [
        "def sum_even_numbers(numbers):\n",
        "    sum_even = 0\n",
        "\n",
        "    for num in numbers:\n",
        "        if num % 2 == 0:\n",
        "            sum_even += num\n",
        "\n",
        "    return sum_even"
      ],
      "metadata": {
        "id": "vvH5zX0d44En"
      },
      "execution_count": 66,
      "outputs": []
    },
    {
      "cell_type": "code",
      "source": [
        "# Example\n",
        "number_list = [1, 2, 3, 4, 5, 6, 7, 8, 9, 10]\n",
        "result = sum_even_numbers(number_list)\n",
        "print(f\"The sum of even numbers is: {result}\")"
      ],
      "metadata": {
        "colab": {
          "base_uri": "https://localhost:8080/"
        },
        "id": "fuk6h88n4_Sn",
        "outputId": "aeb9844b-50ae-4490-9501-7666be4c357b"
      },
      "execution_count": 67,
      "outputs": [
        {
          "output_type": "stream",
          "name": "stdout",
          "text": [
            "The sum of even numbers is: 30\n"
          ]
        }
      ]
    },
    {
      "cell_type": "markdown",
      "source": [
        "# 32. Implement a function to calculate the power of a number using recursion."
      ],
      "metadata": {
        "id": "aabI-l1Q5DG4"
      }
    },
    {
      "cell_type": "code",
      "source": [
        "def power(base, exponent):\n",
        "    if exponent == 0:\n",
        "        return 1\n",
        "    elif exponent < 0:\n",
        "        return 1 / power(base, -exponent)\n",
        "    else:\n",
        "        return base * power(base, exponent - 1)"
      ],
      "metadata": {
        "id": "r_XAuaQ55Gd3"
      },
      "execution_count": 68,
      "outputs": []
    },
    {
      "cell_type": "code",
      "source": [
        "# Example\n",
        "base = 2\n",
        "exponent = 3\n",
        "result = power(base, exponent)\n",
        "print(f\"{base} raised to the power of {exponent} is: {result}\")"
      ],
      "metadata": {
        "colab": {
          "base_uri": "https://localhost:8080/"
        },
        "id": "Tyra6Gbd5Pzv",
        "outputId": "35b1adbd-bb31-4534-81ad-a689d51619c4"
      },
      "execution_count": 69,
      "outputs": [
        {
          "output_type": "stream",
          "name": "stdout",
          "text": [
            "2 raised to the power of 3 is: 8\n"
          ]
        }
      ]
    },
    {
      "cell_type": "markdown",
      "source": [
        "# 33. Write a Python program to remove duplicates from a list while preserving the order."
      ],
      "metadata": {
        "id": "MhAH8GYG5eZk"
      }
    },
    {
      "cell_type": "code",
      "source": [
        "def remove_duplicates_preserve_order(lst):\n",
        "    seen = set()\n",
        "    result = []\n",
        "\n",
        "    for item in lst:\n",
        "        if item not in seen:\n",
        "            seen.add(item)\n",
        "            result.append(item)\n",
        "\n",
        "    return result"
      ],
      "metadata": {
        "id": "o4zH-zoh5hCO"
      },
      "execution_count": 70,
      "outputs": []
    },
    {
      "cell_type": "code",
      "source": [
        "# Example\n",
        "my_list = [1, 3, 2, 2, 1, 5, 6, 5, 3]\n",
        "result = remove_duplicates_preserve_order(my_list)\n",
        "print(f\"The list after removing duplicates: {result}\")"
      ],
      "metadata": {
        "colab": {
          "base_uri": "https://localhost:8080/"
        },
        "id": "aRalzcNl5qjv",
        "outputId": "879032dd-4a14-4d2e-fd95-f90510fc7b26"
      },
      "execution_count": 71,
      "outputs": [
        {
          "output_type": "stream",
          "name": "stdout",
          "text": [
            "The list after removing duplicates: [1, 3, 2, 5, 6]\n"
          ]
        }
      ]
    },
    {
      "cell_type": "markdown",
      "source": [
        "# 34. Implement a function to find the longest common prefix among a list of strings."
      ],
      "metadata": {
        "id": "QLOJ_qhi57VX"
      }
    },
    {
      "cell_type": "code",
      "source": [
        "def longest_common_prefix(strings):\n",
        "    if not strings:\n",
        "        return \"\"\n",
        "\n",
        "    prefix = strings[0]\n",
        "\n",
        "    for string in strings[1:]:\n",
        "        while not string.startswith(prefix):\n",
        "            prefix = prefix[:-1]\n",
        "            if not prefix:\n",
        "                return \"\"\n",
        "\n",
        "    return prefix"
      ],
      "metadata": {
        "id": "Lk24THlw5-dP"
      },
      "execution_count": 72,
      "outputs": []
    },
    {
      "cell_type": "code",
      "source": [
        "# Example\n",
        "string_list = [\"flower\", \"flow\", \"flight\"]\n",
        "result = longest_common_prefix(string_list)\n",
        "print(f\"The longest common prefix is: {result}\")"
      ],
      "metadata": {
        "colab": {
          "base_uri": "https://localhost:8080/"
        },
        "id": "D_qaVkDH6JV4",
        "outputId": "d08226c3-f3bd-45b7-fe8e-e0e729b826ac"
      },
      "execution_count": 73,
      "outputs": [
        {
          "output_type": "stream",
          "name": "stdout",
          "text": [
            "The longest common prefix is: fl\n"
          ]
        }
      ]
    },
    {
      "cell_type": "markdown",
      "source": [
        "#35. Write a program to check if a given number is a perfect square."
      ],
      "metadata": {
        "id": "xafQVRPE6MZQ"
      }
    },
    {
      "cell_type": "code",
      "source": [
        "def is_perfect_square(num):\n",
        "    if num < 0:\n",
        "        return False\n",
        "\n",
        "    if num == 0 or num == 1:\n",
        "        return True\n",
        "\n",
        "    left = 1\n",
        "    right = num\n",
        "\n",
        "    while left <= right:\n",
        "        mid = (left + right) // 2\n",
        "        square = mid * mid\n",
        "\n",
        "        if square == num:\n",
        "            return True\n",
        "        elif square < num:\n",
        "            left = mid + 1\n",
        "        else:\n",
        "            right = mid - 1\n",
        "\n",
        "    return False"
      ],
      "metadata": {
        "id": "lYfVHx7y6QaR"
      },
      "execution_count": 74,
      "outputs": []
    },
    {
      "cell_type": "code",
      "source": [
        "# Example\n",
        "number = 16\n",
        "result = is_perfect_square(number)\n",
        "print(f\"{number} is a perfect square: {result}\")"
      ],
      "metadata": {
        "colab": {
          "base_uri": "https://localhost:8080/"
        },
        "id": "lenv_1Ia6ZCf",
        "outputId": "81735309-7e97-4d91-eaa9-bde02b7961f1"
      },
      "execution_count": 75,
      "outputs": [
        {
          "output_type": "stream",
          "name": "stdout",
          "text": [
            "16 is a perfect square: True\n"
          ]
        }
      ]
    },
    {
      "cell_type": "markdown",
      "source": [
        "# 36. Implement a function to calculate the product of all elements in a list."
      ],
      "metadata": {
        "id": "sQ0CZXrF6deJ"
      }
    },
    {
      "cell_type": "code",
      "source": [
        "def calculate_product(numbers):\n",
        "    if not numbers:\n",
        "        return 0\n",
        "\n",
        "    product = 1\n",
        "\n",
        "    for num in numbers:\n",
        "        product *= num\n",
        "\n",
        "    return product"
      ],
      "metadata": {
        "id": "2X_QIVye6iBR"
      },
      "execution_count": 76,
      "outputs": []
    },
    {
      "cell_type": "code",
      "source": [
        "# Example\n",
        "number_list = [1, 2, 3, 4, 5]\n",
        "result = calculate_product(number_list)\n",
        "print(f\"The product of the numbers is: {result}\")"
      ],
      "metadata": {
        "colab": {
          "base_uri": "https://localhost:8080/"
        },
        "id": "EVvnAw3p6qLP",
        "outputId": "1427dc80-b135-4e93-db95-dcb3662915cb"
      },
      "execution_count": 77,
      "outputs": [
        {
          "output_type": "stream",
          "name": "stdout",
          "text": [
            "The product of the numbers is: 120\n"
          ]
        }
      ]
    },
    {
      "cell_type": "markdown",
      "source": [
        "# 37. Write a Python program to reverse the order of words in a sentence while preserving the word order."
      ],
      "metadata": {
        "id": "IfIPaA7y6toZ"
      }
    },
    {
      "cell_type": "code",
      "source": [
        "def reverse_words(sentence):\n",
        "    words = sentence.split()\n",
        "    reversed_words = words[::-1]\n",
        "    reversed_sentence = ' '.join(reversed_words)\n",
        "    return reversed_sentence"
      ],
      "metadata": {
        "id": "r6GD44ac6xQv"
      },
      "execution_count": 78,
      "outputs": []
    },
    {
      "cell_type": "code",
      "source": [
        "# Example\n",
        "input_sentence = \"Hello, how are you?\"\n",
        "reversed_sentence = reverse_words(input_sentence)\n",
        "print(f\"The reversed sentence is: {reversed_sentence}\")"
      ],
      "metadata": {
        "colab": {
          "base_uri": "https://localhost:8080/"
        },
        "id": "2bI0Q25x685h",
        "outputId": "772ce91a-4b62-4f6a-eb79-7fbfd3b6f688"
      },
      "execution_count": 79,
      "outputs": [
        {
          "output_type": "stream",
          "name": "stdout",
          "text": [
            "The reversed sentence is: you? are how Hello,\n"
          ]
        }
      ]
    },
    {
      "cell_type": "markdown",
      "source": [
        "# 38. Implement a function to find the missing number in a given list of consecutive numbers."
      ],
      "metadata": {
        "id": "ysh1pRjB6_XA"
      }
    },
    {
      "cell_type": "code",
      "source": [
        "def find_missing_number(numbers):\n",
        "    n = len(numbers) + 1\n",
        "    expected_sum = (n * (n + 1)) // 2\n",
        "    actual_sum = sum(numbers)\n",
        "    missing_number = expected_sum - actual_sum\n",
        "    return missing_number"
      ],
      "metadata": {
        "id": "VAd_gHbo6-OH"
      },
      "execution_count": 80,
      "outputs": []
    },
    {
      "cell_type": "code",
      "source": [
        "# Example\n",
        "number_list = [1, 2, 3, 5, 6, 7, 8]\n",
        "missing_number = find_missing_number(number_list)\n",
        "print(f\"The missing number is: {missing_number}\")"
      ],
      "metadata": {
        "colab": {
          "base_uri": "https://localhost:8080/"
        },
        "id": "IYLRX3Ai7K2P",
        "outputId": "cf62a060-f3b5-4b8f-c240-3065c94db6d8"
      },
      "execution_count": 81,
      "outputs": [
        {
          "output_type": "stream",
          "name": "stdout",
          "text": [
            "The missing number is: 4\n"
          ]
        }
      ]
    },
    {
      "cell_type": "markdown",
      "source": [
        "# 39. Write a program to find the sum of digits of a given number."
      ],
      "metadata": {
        "id": "l050Zv137OCQ"
      }
    },
    {
      "cell_type": "code",
      "source": [
        "def sum_of_digits(number):\n",
        "    if number < 0:\n",
        "        number = -number\n",
        "\n",
        "    digit_sum = 0\n",
        "\n",
        "    while number > 0:\n",
        "        digit = number % 10\n",
        "        digit_sum += digit\n",
        "        number //= 10\n",
        "\n",
        "    return digit_sum"
      ],
      "metadata": {
        "id": "pWFk_xu_7Mi2"
      },
      "execution_count": 82,
      "outputs": []
    },
    {
      "cell_type": "code",
      "source": [
        "# Example\n",
        "num = 12345\n",
        "result = sum_of_digits(num)\n",
        "print(f\"The sum of digits of {num} is: {result}\")"
      ],
      "metadata": {
        "colab": {
          "base_uri": "https://localhost:8080/"
        },
        "id": "Yve9Rhd77d1m",
        "outputId": "bbacf68f-ea87-4ae9-803e-1b9ffcb777db"
      },
      "execution_count": 83,
      "outputs": [
        {
          "output_type": "stream",
          "name": "stdout",
          "text": [
            "The sum of digits of 12345 is: 15\n"
          ]
        }
      ]
    },
    {
      "cell_type": "markdown",
      "source": [
        "# 40. Implement a function to check if a given string is a valid palindrome considering case sensitivity."
      ],
      "metadata": {
        "id": "Hup_J9dr7iX5"
      }
    },
    {
      "cell_type": "code",
      "source": [
        "def is_valid_palindrome(string):\n",
        "    string = string.lower()  # Convert the string to lowercase\n",
        "\n",
        "    left = 0\n",
        "    right = len(string) - 1\n",
        "\n",
        "    while left < right:\n",
        "        if string[left] != string[right]:\n",
        "            return False\n",
        "        left += 1\n",
        "        right -= 1\n",
        "\n",
        "    return True"
      ],
      "metadata": {
        "id": "e__4x2HZ7_-M"
      },
      "execution_count": 86,
      "outputs": []
    },
    {
      "cell_type": "code",
      "source": [
        "# Example\n",
        "input_string = \"Racecar\"\n",
        "result = is_valid_palindrome(input_string)\n",
        "print(f\"The string '{input_string}' is a valid palindrome: {result}\")"
      ],
      "metadata": {
        "colab": {
          "base_uri": "https://localhost:8080/"
        },
        "id": "-A-LvdwB8B_v",
        "outputId": "0a7a8001-4aa0-48fc-9464-425d656aeffd"
      },
      "execution_count": 87,
      "outputs": [
        {
          "output_type": "stream",
          "name": "stdout",
          "text": [
            "The string 'Racecar' is a valid palindrome: True\n"
          ]
        }
      ]
    },
    {
      "cell_type": "markdown",
      "source": [
        "# 41. Write a Python program to find the smallest missing positive integer in a list."
      ],
      "metadata": {
        "id": "NFIBSqIh8H6P"
      }
    },
    {
      "cell_type": "code",
      "source": [
        "def find_smallest_missing_positive(numbers):\n",
        "    n = len(numbers)\n",
        "\n",
        "    # Step 1: Move all positive numbers to the left side of the list\n",
        "    positive_index = 0\n",
        "    for i in range(n):\n",
        "        if numbers[i] > 0:\n",
        "            numbers[i], numbers[positive_index] = numbers[positive_index], numbers[i]\n",
        "            positive_index += 1\n",
        "\n",
        "    # Step 2: Mark the presence of numbers by changing the sign of corresponding indices\n",
        "    for i in range(positive_index):\n",
        "        num = abs(numbers[i])\n",
        "        if num <= positive_index:\n",
        "            numbers[num - 1] = -abs(numbers[num - 1])\n",
        "\n",
        "    # Step 3: Find the first positive index, which represents the smallest missing positive integer\n",
        "    for i in range(positive_index):\n",
        "        if numbers[i] > 0:\n",
        "            return i + 1\n",
        "\n",
        "    # If no positive index is found, then the smallest missing positive is positive_index + 1\n",
        "    return positive_index + 1"
      ],
      "metadata": {
        "id": "SEple7Oo8I4_"
      },
      "execution_count": 88,
      "outputs": []
    },
    {
      "cell_type": "code",
      "source": [
        "# Example\n",
        "number_list = [3, 4, -1, 1]\n",
        "missing_positive = find_smallest_missing_positive(number_list)\n",
        "print(f\"The smallest missing positive integer is: {missing_positive}\")"
      ],
      "metadata": {
        "colab": {
          "base_uri": "https://localhost:8080/"
        },
        "id": "suCmP7kx8Qm_",
        "outputId": "daba8333-450d-4233-b5e0-90b85a2ec6fc"
      },
      "execution_count": 89,
      "outputs": [
        {
          "output_type": "stream",
          "name": "stdout",
          "text": [
            "The smallest missing positive integer is: 2\n"
          ]
        }
      ]
    },
    {
      "cell_type": "markdown",
      "source": [
        "# 42. Implement a function to find the longest palindrome substring in a given string."
      ],
      "metadata": {
        "id": "z8z9zC8P8WFg"
      }
    },
    {
      "cell_type": "code",
      "source": [
        "def longest_palindrome_substring(string):\n",
        "    n = len(string)\n",
        "    longest_palindrome = ''\n",
        "\n",
        "    for i in range(n):\n",
        "        # Check odd-length palindromes\n",
        "        left = right = i\n",
        "        while left >= 0 and right < n and string[left] == string[right]:\n",
        "            left -= 1\n",
        "            right += 1\n",
        "        odd_palindrome = string[left + 1:right]\n",
        "\n",
        "        # Check even-length palindromes\n",
        "        left = i\n",
        "        right = i + 1\n",
        "        while left >= 0 and right < n and string[left] == string[right]:\n",
        "            left -= 1\n",
        "            right += 1\n",
        "        even_palindrome = string[left + 1:right]\n",
        "\n",
        "        # Update the longest palindrome if necessary\n",
        "        if len(odd_palindrome) > len(longest_palindrome):\n",
        "            longest_palindrome = odd_palindrome\n",
        "        if len(even_palindrome) > len(longest_palindrome):\n",
        "            longest_palindrome = even_palindrome\n",
        "\n",
        "    return longest_palindrome"
      ],
      "metadata": {
        "id": "b80ZWgad8ZI3"
      },
      "execution_count": 90,
      "outputs": []
    },
    {
      "cell_type": "code",
      "source": [
        "# Example\n",
        "input_string = \"babad\"\n",
        "result = longest_palindrome_substring(input_string)\n",
        "print(f\"The longest palindrome substring is: {result}\")"
      ],
      "metadata": {
        "colab": {
          "base_uri": "https://localhost:8080/"
        },
        "id": "hERuL6nF8iL-",
        "outputId": "d7a4cc4e-513c-486c-b7e2-626ef3c86968"
      },
      "execution_count": 91,
      "outputs": [
        {
          "output_type": "stream",
          "name": "stdout",
          "text": [
            "The longest palindrome substring is: bab\n"
          ]
        }
      ]
    },
    {
      "cell_type": "markdown",
      "source": [
        "# 43. Write a program to find the number of occurrences of a given element in a list."
      ],
      "metadata": {
        "id": "5mzyL5w78muV"
      }
    },
    {
      "cell_type": "code",
      "source": [
        "def count_occurrences(lst, element):\n",
        "    count = 0\n",
        "    for item in lst:\n",
        "        if item == element:\n",
        "            count += 1\n",
        "    return count"
      ],
      "metadata": {
        "id": "ZEsQ-CmF8rzm"
      },
      "execution_count": 92,
      "outputs": []
    },
    {
      "cell_type": "code",
      "source": [
        "# Example\n",
        "my_list = [1, 2, 3, 4, 2, 2, 3, 4, 5]\n",
        "target_element = 2\n",
        "occurrences = count_occurrences(my_list, target_element)\n",
        "print(f\"The element {target_element} occurs {occurrences} times in the list.\")"
      ],
      "metadata": {
        "colab": {
          "base_uri": "https://localhost:8080/"
        },
        "id": "8e5S1j-V8x-e",
        "outputId": "02a35084-19df-48c4-86c7-9ddae77c6995"
      },
      "execution_count": 93,
      "outputs": [
        {
          "output_type": "stream",
          "name": "stdout",
          "text": [
            "The element 2 occurs 3 times in the list.\n"
          ]
        }
      ]
    },
    {
      "cell_type": "markdown",
      "source": [
        "# 44. Implement a function to check if a given number is a perfect number."
      ],
      "metadata": {
        "id": "2YJHvvlh9-lf"
      }
    },
    {
      "cell_type": "code",
      "source": [
        "def is_perfect_number(num):\n",
        "    if num <= 0:\n",
        "        return False\n",
        "\n",
        "    divisor_sum = 0\n",
        "    for i in range(1, num):\n",
        "        if num % i == 0:\n",
        "            divisor_sum += i\n",
        "\n",
        "    return divisor_sum == num"
      ],
      "metadata": {
        "id": "cg-SuqjD-Bnu"
      },
      "execution_count": 94,
      "outputs": []
    },
    {
      "cell_type": "code",
      "source": [
        "# Example\n",
        "number = 28\n",
        "is_perfect = is_perfect_number(number)\n",
        "print(f\"The number {number} is a perfect number: {is_perfect}\")"
      ],
      "metadata": {
        "colab": {
          "base_uri": "https://localhost:8080/"
        },
        "id": "bXgjU1Mb-KE_",
        "outputId": "ca794605-f5d5-4fdd-fa6e-300f5bd2e63e"
      },
      "execution_count": 95,
      "outputs": [
        {
          "output_type": "stream",
          "name": "stdout",
          "text": [
            "The number 28 is a perfect number: True\n"
          ]
        }
      ]
    },
    {
      "cell_type": "markdown",
      "source": [
        "# 45. Write a Python program to remove all duplicates from a string."
      ],
      "metadata": {
        "id": "5N7H9MQ2-Nqq"
      }
    },
    {
      "cell_type": "code",
      "source": [
        "def remove_duplicates(string):\n",
        "    result = ''\n",
        "    seen = set()\n",
        "\n",
        "    for char in string:\n",
        "        if char not in seen:\n",
        "            result += char\n",
        "            seen.add(char)\n",
        "\n",
        "    return result"
      ],
      "metadata": {
        "id": "gbF4u4PL-RII"
      },
      "execution_count": 96,
      "outputs": []
    },
    {
      "cell_type": "code",
      "source": [
        "# Example\n",
        "input_string = \"Hello World\"\n",
        "output_string = remove_duplicates(input_string)\n",
        "print(f\"The string after removing duplicates: {output_string}\")"
      ],
      "metadata": {
        "colab": {
          "base_uri": "https://localhost:8080/"
        },
        "id": "3IxDWb_h-YbX",
        "outputId": "d58f773e-214c-4cda-ba21-8ec77e487df5"
      },
      "execution_count": 97,
      "outputs": [
        {
          "output_type": "stream",
          "name": "stdout",
          "text": [
            "The string after removing duplicates: Helo Wrd\n"
          ]
        }
      ]
    },
    {
      "cell_type": "markdown",
      "source": [
        "# 46. Implement a function to find the first missing positive"
      ],
      "metadata": {
        "id": "7umU61Ch-eYi"
      }
    },
    {
      "cell_type": "code",
      "source": [
        "def find_first_missing_positive(nums):\n",
        "    n = len(nums)\n",
        "\n",
        "    # Move all positive integers to their corresponding indices\n",
        "    i = 0\n",
        "    while i < n:\n",
        "        # Check if the current number is positive and within the range [1, n]\n",
        "        if 1 <= nums[i] <= n and nums[i] != nums[nums[i] - 1]:\n",
        "            # Swap the current number with the number at its correct index\n",
        "            nums[nums[i] - 1], nums[i] = nums[i], nums[nums[i] - 1]\n",
        "        else:\n",
        "            i += 1\n",
        "\n",
        "    # Find the first index where the number is not equal to its index + 1\n",
        "    for i in range(n):\n",
        "        if nums[i] != i + 1:\n",
        "            return i + 1\n",
        "\n",
        "    # If all numbers are in their correct indices, the missing positive is n + 1\n",
        "    return n + 1"
      ],
      "metadata": {
        "id": "TAJsT4cY-hRm"
      },
      "execution_count": 98,
      "outputs": []
    },
    {
      "cell_type": "code",
      "source": [
        "# Example\n",
        "my_list = [3, 4, -1, 1]\n",
        "result = find_first_missing_positive(my_list)\n",
        "print(f\"The first missing positive is: {result}\")"
      ],
      "metadata": {
        "colab": {
          "base_uri": "https://localhost:8080/"
        },
        "id": "dcAyUIrw-t_e",
        "outputId": "556e8be1-9cb8-47da-e70e-667063cae5a9"
      },
      "execution_count": 99,
      "outputs": [
        {
          "output_type": "stream",
          "name": "stdout",
          "text": [
            "The first missing positive is: 2\n"
          ]
        }
      ]
    }
  ]
}