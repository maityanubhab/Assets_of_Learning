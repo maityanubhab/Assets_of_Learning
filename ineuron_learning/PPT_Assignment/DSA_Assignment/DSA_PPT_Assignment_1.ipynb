{
  "nbformat": 4,
  "nbformat_minor": 0,
  "metadata": {
    "colab": {
      "provenance": []
    },
    "kernelspec": {
      "name": "python3",
      "display_name": "Python 3"
    },
    "language_info": {
      "name": "python"
    }
  },
  "cells": [
    {
      "cell_type": "markdown",
      "source": [
        "💡 **Q1.** Given an array of integers nums and an integer target, return indices of the two numbers such that they add up to target.\n",
        "\n",
        "You may assume that each input would have exactly one solution, and you may not use the same element twice.\n",
        "\n",
        "You can return the answer in any order.\n",
        "\n",
        "**Example:**\n",
        "Input: nums = [2,7,11,15], target = 9\n",
        "Output0 [0,1]\n",
        "\n",
        "</aside>"
      ],
      "metadata": {
        "id": "7231_rYQjesC"
      }
    },
    {
      "cell_type": "markdown",
      "source": [
        "**Solution Approach 1**\n",
        "<br> A brute-force approach involves checking all possible pairs of numbers from the input array and checking if their sum equals the target."
      ],
      "metadata": {
        "id": "hEEW1bRxkf96"
      }
    },
    {
      "cell_type": "code",
      "source": [
        "# Brute Force Approach\n",
        "def twoSum_bruteForce(nums, target):\n",
        "    for i in range(len(nums)):\n",
        "        for j in range(i+1, len(nums)):\n",
        "            if nums[i] + nums[j] == target:\n",
        "                return [i, j]"
      ],
      "metadata": {
        "id": "Xdokjnb2fb2m"
      },
      "execution_count": null,
      "outputs": []
    },
    {
      "cell_type": "code",
      "source": [
        "# Test the brute force approach\n",
        "nums = [2, 7, 11, 15]\n",
        "target = 9\n",
        "result_bruteForce = twoSum_bruteForce(nums, target)\n",
        "print(\"Brute Force Approach:\")\n",
        "print(\"Input:\", nums)\n",
        "print(\"Target:\", target)\n",
        "print(\"Output:\", result_bruteForce)"
      ],
      "metadata": {
        "colab": {
          "base_uri": "https://localhost:8080/"
        },
        "id": "6ZoaOtACkttt",
        "outputId": "0bdba412-a2a2-456c-dcd6-2151905a25d9"
      },
      "execution_count": null,
      "outputs": [
        {
          "output_type": "stream",
          "name": "stdout",
          "text": [
            "Brute Force Approach:\n",
            "Input: [2, 7, 11, 15]\n",
            "Target: 9\n",
            "Output: [0, 1]\n"
          ]
        }
      ]
    },
    {
      "cell_type": "markdown",
      "source": [
        "# Discussion : \n",
        "Time Complexity: O(n^2)\n",
        "<br>The nested loops iterate over all possible pairs of numbers, resulting in quadratic time complexity.\n",
        "\n",
        "<br>Space Complexity: O(1)\n",
        "<br>The brute-force approach does not require any additional space that grows with the input size."
      ],
      "metadata": {
        "id": "YPQjV10xk3cr"
      }
    },
    {
      "cell_type": "markdown",
      "source": [
        "**Solution Approach 2**\n",
        "<br> An optimized approach utilizes a hash map (dictionary in Python) to store the previously seen numbers and their indices. While iterating through the array, we check if the complement (target - current number) exists in the hash map."
      ],
      "metadata": {
        "id": "ogDRt0TWlDU6"
      }
    },
    {
      "cell_type": "code",
      "source": [
        "# Using a Hash Map\n",
        "def twoSum_hashMap(nums, target):\n",
        "    num_map = {}\n",
        "\n",
        "    for i, num in enumerate(nums):\n",
        "        complement = target - num\n",
        "        if complement in num_map:\n",
        "            return [num_map[complement], i]\n",
        "        num_map[num] = i"
      ],
      "metadata": {
        "id": "gCx_Mdrelkbb"
      },
      "execution_count": null,
      "outputs": []
    },
    {
      "cell_type": "code",
      "source": [
        "# Test the optimized approach using a hash map\n",
        "nums = [2, 7, 11, 15]\n",
        "target = 9\n",
        "result_hashMap = twoSum_hashMap(nums, target)\n",
        "print(\"\\nOptimized Approach using Hash Map:\")\n",
        "print(\"Input:\", nums)\n",
        "print(\"Target:\", target)\n",
        "print(\"Output:\", result_hashMap)"
      ],
      "metadata": {
        "colab": {
          "base_uri": "https://localhost:8080/"
        },
        "id": "VRP6UKo3lyLi",
        "outputId": "0ca66612-fb52-450d-8aba-904137360efa"
      },
      "execution_count": null,
      "outputs": [
        {
          "output_type": "stream",
          "name": "stdout",
          "text": [
            "\n",
            "Optimized Approach using Hash Map:\n",
            "Input: [2, 7, 11, 15]\n",
            "Target: 9\n",
            "Output: [0, 1]\n"
          ]
        }
      ]
    },
    {
      "cell_type": "markdown",
      "source": [
        "# Discussion: \n",
        "Time Complexity: O(n)\n",
        "<br>We iterate through the array once, performing constant time operations for each number.\n",
        "<br>The hash map lookup has an average time complexity of O(1), providing an efficient way to find complements.\n",
        "\n",
        "<br>Space Complexity: O(n)\n",
        "<br>In the worst case, the hash map can store all numbers from the array, resulting in linear space complexity."
      ],
      "metadata": {
        "id": "BH_SuZ9ll3v6"
      }
    },
    {
      "cell_type": "markdown",
      "source": [
        "💡 **Q2.** Given an integer array nums and an integer val, remove all occurrences of val in nums in-place. The order of the elements may be changed. Then return the number of elements in nums which are not equal to val.\n",
        "\n",
        "Consider the number of elements in nums which are not equal to val be k, to get accepted, you need to do the following things:\n",
        "\n",
        "- Change the array nums such that the first k elements of nums contain the elements which are not equal to val. The remaining elements of nums are not important as well as the size of nums.\n",
        "- Return k.\n",
        "\n",
        "**Example :**\n",
        "Input: nums = [3,2,2,3], val = 3\n",
        "Output: 2, nums = [2,2,_*,_*]\n",
        "\n",
        "**Explanation:** Your function should return k = 2, with the first two elements of nums being 2. It does not matter what you leave beyond the returned k (hence they are underscores)\n",
        "\n",
        "</aside>"
      ],
      "metadata": {
        "id": "zvLWcgTmmZQo"
      }
    },
    {
      "cell_type": "markdown",
      "source": [
        "**Solution Approach 1**\n",
        "<br> A brute-force approach involves iterating through the array and removing all occurrences of the given value **val**."
      ],
      "metadata": {
        "id": "5XOjEpj0mntS"
      }
    },
    {
      "cell_type": "code",
      "source": [
        "# Brute Force Approach\n",
        "def removeElement_bruteForce(nums, val):\n",
        "    while val in nums:\n",
        "        nums.remove(val)\n",
        "    return len(nums)"
      ],
      "metadata": {
        "id": "SDTrKri9necP"
      },
      "execution_count": null,
      "outputs": []
    },
    {
      "cell_type": "code",
      "source": [
        "# Test the brute force approach\n",
        "nums = [3, 2, 2, 3]\n",
        "val = 3\n",
        "k_bruteForce = removeElement_bruteForce(nums, val)\n",
        "print(\"Brute Force Approach:\")\n",
        "print(\"Input:\", nums)\n",
        "print(\"Value to Remove:\", val)\n",
        "print(\"Output (k):\", k_bruteForce)\n",
        "print(\"Modified nums:\", nums)"
      ],
      "metadata": {
        "colab": {
          "base_uri": "https://localhost:8080/"
        },
        "id": "oLymoGkPmxNa",
        "outputId": "9d6f8088-6e91-4f93-b437-6bc930429a8e"
      },
      "execution_count": null,
      "outputs": [
        {
          "output_type": "stream",
          "name": "stdout",
          "text": [
            "Brute Force Approach:\n",
            "Input: [2, 2]\n",
            "Value to Remove: 3\n",
            "Output (k): 2\n",
            "Modified nums: [2, 2]\n"
          ]
        }
      ]
    },
    {
      "cell_type": "markdown",
      "source": [
        "# Discussion :\n",
        "<br> Time Complexity: O(n^2)\n",
        "In the worst case, we may have to remove val from all positions of the array, resulting in a quadratic time complexity.\n",
        "\n",
        "<br> Space Complexity: O(1)\n",
        "<br> The brute-force approach does not require any additional space that grows with the input size."
      ],
      "metadata": {
        "id": "hc5I2Sn9n-MD"
      }
    },
    {
      "cell_type": "markdown",
      "source": [
        "**Solution Approach 2**\n",
        "<br>An optimized approach utilizes two pointers to keep track of the elements that are not equal to the given value **val**. By swapping elements, we can achieve an in-place removal"
      ],
      "metadata": {
        "id": "qiaVh1lDndw5"
      }
    },
    {
      "cell_type": "code",
      "source": [
        "# Two-Pointers Approach\n",
        "def removeElement(nums, val):\n",
        "    i = 0  # pointer for elements not equal to val\n",
        "\n",
        "    for j in range(len(nums)):\n",
        "        if nums[j] != val:\n",
        "            nums[i] = nums[j]\n",
        "            i += 1\n",
        "\n",
        "    return i"
      ],
      "metadata": {
        "id": "LeNzV5uKobib"
      },
      "execution_count": null,
      "outputs": []
    },
    {
      "cell_type": "code",
      "source": [
        "# Test the optimized two-pointers approach\n",
        "nums = [3, 2, 2, 3]\n",
        "val = 3\n",
        "k = removeElement(nums, val)\n",
        "print(\"\\nOptimized Two-Pointers Approach:\")\n",
        "print(\"Input:\", nums)\n",
        "print(\"Value to Remove:\", val)\n",
        "print(\"Output (k):\", k)\n",
        "print(\"Modified nums:\", nums[:k], end=\"\")\n",
        "print(\"_*\" * (len(nums) - k))"
      ],
      "metadata": {
        "colab": {
          "base_uri": "https://localhost:8080/"
        },
        "id": "YVsbVzP_oblj",
        "outputId": "10746eff-da06-458f-cc77-c58312f92970"
      },
      "execution_count": null,
      "outputs": [
        {
          "output_type": "stream",
          "name": "stdout",
          "text": [
            "\n",
            "Optimized Two-Pointers Approach:\n",
            "Input: [2, 2, 2, 3]\n",
            "Value to Remove: 3\n",
            "Output (k): 2\n",
            "Modified nums: [2, 2]_*_*\n"
          ]
        }
      ]
    },
    {
      "cell_type": "markdown",
      "source": [
        "# Discussion :\n",
        "<br> Time Complexity: O(n)\n",
        "We iterate through the array once, performing constant time operations for each element.\n",
        "The number of iterations depends on the size of the array, resulting in a linear time complexity.\n",
        "\n",
        "<br>Space Complexity: O(1)\n",
        "<br>The optimized approach uses constant additional space since the removal is performed in-place."
      ],
      "metadata": {
        "id": "7XsQrQ3wo69v"
      }
    },
    {
      "cell_type": "markdown",
      "source": [
        "💡 **Q3.** Given a sorted array of distinct integers and a target value, return the index if the target is found. If not, return the index where it would be if it were inserted in order.\n",
        "\n",
        "You must write an algorithm with O(log n) runtime complexity.\n",
        "\n",
        "**Example 1:**\n",
        "Input: nums = [1,3,5,6], target = 5\n",
        "\n",
        "Output: 2"
      ],
      "metadata": {
        "id": "b1we0v81phI8"
      }
    },
    {
      "cell_type": "markdown",
      "source": [
        "**Solution Approach 1**\n",
        "<br>A brute-force approach involves iterating through the sorted array and comparing each element with the target value until we find a match or determine the position where it should be inserted. "
      ],
      "metadata": {
        "id": "bPRzdcKMpv4O"
      }
    },
    {
      "cell_type": "code",
      "source": [
        "# Brute Force Approach:\n",
        "def searchInsert_bruteForce(nums, target):\n",
        "    for i in range(len(nums)):\n",
        "        if nums[i] >= target:\n",
        "            return i\n",
        "    return len(nums)"
      ],
      "metadata": {
        "id": "hVQ0PsdhoboO"
      },
      "execution_count": 13,
      "outputs": []
    },
    {
      "cell_type": "code",
      "source": [
        "# Test the brute force approach\n",
        "nums = [1, 3, 5, 6]\n",
        "target = 5\n",
        "index_bruteForce = searchInsert_bruteForce(nums, target)\n",
        "print(\"Brute Force Approach:\")\n",
        "print(\"Input:\", nums)\n",
        "print(\"Target:\", target)\n",
        "print(\"Output (Index):\", index_bruteForce)"
      ],
      "metadata": {
        "id": "MEb_dLMpobuS",
        "colab": {
          "base_uri": "https://localhost:8080/"
        },
        "outputId": "b16382c8-4376-4569-e437-e5ddc8678dce"
      },
      "execution_count": 14,
      "outputs": [
        {
          "output_type": "stream",
          "name": "stdout",
          "text": [
            "Brute Force Approach:\n",
            "Input: [1, 3, 5, 6]\n",
            "Target: 5\n",
            "Output (Index): 2\n"
          ]
        }
      ]
    },
    {
      "cell_type": "markdown",
      "source": [
        "# Discussion :\n",
        "<br>Time Complexity: O(n)\n",
        "<br>In the worst case, we may have to iterate through the entire array to find the correct position for the target element.\n",
        "\n",
        "<br>Space Complexity: O(1)\n",
        "<br>The brute-force approach does not require any additional space that grows with the input size."
      ],
      "metadata": {
        "id": "5chbxGNoqPus"
      }
    },
    {
      "cell_type": "markdown",
      "source": [
        "**Solution Approach 2**\n",
        "<br> An approach takes advantage of the fact that the input array is sorted. We can perform a binary search to find the target element or determine its correct position in logarithmic time."
      ],
      "metadata": {
        "id": "Z6GtKS_ZqjfC"
      }
    },
    {
      "cell_type": "code",
      "source": [
        "#Binary Search Approach:\n",
        "def searchInsert(nums, target):\n",
        "    left, right = 0, len(nums) - 1\n",
        "\n",
        "    while left <= right:\n",
        "        mid = (left + right) // 2\n",
        "\n",
        "        if nums[mid] == target:\n",
        "            return mid\n",
        "        elif nums[mid] < target:\n",
        "            left = mid + 1\n",
        "        else:\n",
        "            right = mid - 1\n",
        "\n",
        "    return left"
      ],
      "metadata": {
        "id": "2APSp5qmqnHk"
      },
      "execution_count": 15,
      "outputs": []
    },
    {
      "cell_type": "code",
      "source": [
        "# Test the binary search approach\n",
        "nums = [1, 3, 5, 6]\n",
        "target = 5\n",
        "index = searchInsert(nums, target)\n",
        "print(\"\\nBinary Search Approach:\")\n",
        "print(\"Input:\", nums)\n",
        "print(\"Target:\", target)\n",
        "print(\"Output (Index):\", index)"
      ],
      "metadata": {
        "id": "WsRi_RzEobxb",
        "colab": {
          "base_uri": "https://localhost:8080/"
        },
        "outputId": "d67b3c09-dc3e-4d77-906a-bb014524abdd"
      },
      "execution_count": 16,
      "outputs": [
        {
          "output_type": "stream",
          "name": "stdout",
          "text": [
            "\n",
            "Binary Search Approach:\n",
            "Input: [1, 3, 5, 6]\n",
            "Target: 5\n",
            "Output (Index): 2\n"
          ]
        }
      ]
    },
    {
      "cell_type": "markdown",
      "source": [
        "# Discussion :\n",
        "<br>Time Complexity: O(log n)\n",
        "<br>Binary search eliminates half of the remaining search space in each iteration, resulting in logarithmic time complexity.\n",
        "\n",
        "<br>Space Complexity: O(1)\n",
        "<br>The optimized approach uses constant additional space since it performs the search in-place."
      ],
      "metadata": {
        "id": "-zW78XPIq6Rp"
      }
    },
    {
      "cell_type": "markdown",
      "source": [
        "💡 **Q4.** You are given a large integer represented as an integer array digits, where each digits[i] is the ith digit of the integer. The digits are ordered from most significant to least significant in left-to-right order. The large integer does not contain any leading 0's.\n",
        "\n",
        "Increment the large integer by one and return the resulting array of digits.\n",
        "\n",
        "**Example 1:**\n",
        "Input: digits = [1,2,3]\n",
        "Output: [1,2,4]\n",
        "\n",
        "**Explanation:** The array represents the integer 123.\n",
        "\n",
        "Incrementing by one gives 123 + 1 = 124.\n",
        "Thus, the result should be [1,2,4]."
      ],
      "metadata": {
        "id": "NXwfwecWrNq0"
      }
    },
    {
      "cell_type": "markdown",
      "source": [
        "**Solution Approach 1**\n",
        "<br>A brute-force approach involves converting the array of digits into an integer, incrementing it by one, and then converting it back into an array of digits."
      ],
      "metadata": {
        "id": "evBD2XV-ra-C"
      }
    },
    {
      "cell_type": "code",
      "source": [
        "#Brute Force Approach:\n",
        "def plusOne_bruteForce(digits):\n",
        "    num = int(''.join(map(str, digits)))\n",
        "    num += 1\n",
        "    return list(map(int, str(num)))"
      ],
      "metadata": {
        "id": "eNAv8p1YrkSo"
      },
      "execution_count": 17,
      "outputs": []
    },
    {
      "cell_type": "code",
      "source": [
        "# Test the brute force approach\n",
        "digits = [1, 2, 3]\n",
        "result_bruteForce = plusOne_bruteForce(digits)\n",
        "print(\"Brute Force Approach:\")\n",
        "print(\"Input:\", digits)\n",
        "print(\"Output:\", result_bruteForce)"
      ],
      "metadata": {
        "colab": {
          "base_uri": "https://localhost:8080/"
        },
        "id": "Huej4z8Frkgj",
        "outputId": "6ed2c6fc-9b9e-4e07-8b71-64e3a4582dae"
      },
      "execution_count": 18,
      "outputs": [
        {
          "output_type": "stream",
          "name": "stdout",
          "text": [
            "Brute Force Approach:\n",
            "Input: [1, 2, 3]\n",
            "Output: [1, 2, 4]\n"
          ]
        }
      ]
    },
    {
      "cell_type": "markdown",
      "source": [
        "# Discussion :\n",
        "<br>Time Complexity: O(n)\n",
        "<br>Converting the array of digits to an integer and vice versa requires linear time proportional to the number of digits.\n",
        "\n",
        "<br>Space Complexity: O(n)\n",
        "<br>Converting the integer back to an array of digits requires additional space to store the digits."
      ],
      "metadata": {
        "id": "cWoieQxHsI3L"
      }
    },
    {
      "cell_type": "markdown",
      "source": [
        "**Solution Approach 2**\n",
        "<br> An optimized approach directly increments the last digit in the array by one and handles the carry-over operation if necessary."
      ],
      "metadata": {
        "id": "lDEGdFAfsaIv"
      }
    },
    {
      "cell_type": "code",
      "source": [
        "#Optimal Approach:\n",
        "def plusOne(digits):\n",
        "    n = len(digits)\n",
        "    for i in range(n - 1, -1, -1):\n",
        "        if digits[i] < 9:\n",
        "            digits[i] += 1\n",
        "            return digits\n",
        "        else:\n",
        "            digits[i] = 0\n",
        "    return [1] + digits"
      ],
      "metadata": {
        "id": "f9ziknCQsf4p"
      },
      "execution_count": 24,
      "outputs": []
    },
    {
      "cell_type": "code",
      "source": [
        "# Test the optimal approach\n",
        "digits = [1, 2, 3]\n",
        "result = plusOne(digits)\n",
        "print(\"\\nOptimal Approach:\")\n",
        "print(\"Input:\", digits)\n",
        "print(\"Output:\", result)"
      ],
      "metadata": {
        "colab": {
          "base_uri": "https://localhost:8080/"
        },
        "id": "uD3DRP7Hsf-Y",
        "outputId": "1561aa50-0c09-4bf6-9610-fb00a01974ef"
      },
      "execution_count": 25,
      "outputs": [
        {
          "output_type": "stream",
          "name": "stdout",
          "text": [
            "\n",
            "Optimal Approach:\n",
            "Input: [1, 2, 4]\n",
            "Output: [1, 2, 4]\n"
          ]
        }
      ]
    },
    {
      "cell_type": "markdown",
      "source": [
        "# Discussion :\n",
        "<br>Time Complexity: O(n)\n",
        "<br>In the worst case, if all digits are 9, we need to perform a carry-over operation and create a new array with an additional digit.\n",
        "\n",
        "<br>Space Complexity: O(n)\n",
        "<br>The optimal approach requires additional space to store the digits when a carry-over operation is performed.\n",
        "<br>Both approaches will increment the given array of digits by one and return the resulting array. The optimal approach avoids unnecessary conversions and handles the carry-over operation efficiently.\n",
        "\n"
      ],
      "metadata": {
        "id": "ZgY6fEintMig"
      }
    },
    {
      "cell_type": "markdown",
      "source": [
        "💡 **Q5.** You are given two integer arrays nums1 and nums2, sorted in non-decreasing order, and two integers m and n, representing the number of elements in nums1 and nums2 respectively.\n",
        "\n",
        "Merge nums1 and nums2 into a single array sorted in non-decreasing order.\n",
        "\n",
        "The final sorted array should not be returned by the function, but instead be stored inside the array nums1. To accommodate this, nums1 has a length of m + n, where the first m elements denote the elements that should be merged, and the last n elements are set to 0 and should be ignored. nums2 has a length of n.\n",
        "\n",
        "**Example 1:**\n",
        "Input: nums1 = [1,2,3,0,0,0], m = 3, nums2 = [2,5,6], n = 3\n",
        "Output: [1,2,2,3,5,6]\n",
        "\n",
        "**Explanation:** The arrays we are merging are [1,2,3] and [2,5,6].\n",
        "The result of the merge is [1,2,2,3,5,6] with the underlined elements coming from nums1."
      ],
      "metadata": {
        "id": "pwdBb4zlt9LK"
      }
    },
    {
      "cell_type": "markdown",
      "source": [
        "**Solution Approach 1**\n",
        "<br> The brute-force approach involves merging the two arrays, sorting them, and storing the result in nums1."
      ],
      "metadata": {
        "id": "iJ4Q7FIzuGxh"
      }
    },
    {
      "cell_type": "code",
      "source": [
        "#Brute Force Approach:\n",
        "def merge_bruteForce(nums1, m, nums2, n):\n",
        "    # Merge nums2 into nums1\n",
        "    nums1[m:m+n] = nums2\n",
        "\n",
        "    # Sort the merged array in non-decreasing order\n",
        "    nums1.sort()"
      ],
      "metadata": {
        "id": "DqSnAYUOsgMh"
      },
      "execution_count": 26,
      "outputs": []
    },
    {
      "cell_type": "code",
      "source": [
        "# Test the brute force approach\n",
        "nums1 = [1, 2, 3, 0, 0, 0]\n",
        "m = 3\n",
        "nums2 = [2, 5, 6]\n",
        "n = 3\n",
        "\n",
        "merge_bruteForce(nums1, m, nums2, n)\n",
        "print(\"Brute Force Approach:\")\n",
        "print(\"Input (nums1):\", nums1[:m])\n",
        "print(\"Input (nums2):\", nums2)\n",
        "print(\"Output (Merged and Sorted):\", nums1)"
      ],
      "metadata": {
        "colab": {
          "base_uri": "https://localhost:8080/"
        },
        "id": "Nq2gzF-Cq36B",
        "outputId": "5446cfcd-0f3c-4079-cd8f-8a41727dfdf5"
      },
      "execution_count": 27,
      "outputs": [
        {
          "output_type": "stream",
          "name": "stdout",
          "text": [
            "Brute Force Approach:\n",
            "Input (nums1): [1, 2, 2]\n",
            "Input (nums2): [2, 5, 6]\n",
            "Output (Merged and Sorted): [1, 2, 2, 3, 5, 6]\n"
          ]
        }
      ]
    },
    {
      "cell_type": "markdown",
      "source": [
        "# Discussion :\n",
        "<br>Time Complexity: O((m+n) log (m+n))\n",
        "<br>The sorting operation has a time complexity of O((m+n) log (m+n)).\n",
        "\n",
        "<br>Space Complexity: O(1)\n",
        "<br>The brute-force approach modifies the original nums1 array in-place and does not require any additional space."
      ],
      "metadata": {
        "id": "SRq1bPmfu3Dx"
      }
    },
    {
      "cell_type": "markdown",
      "source": [
        "**Solution Approach 2**\n",
        "<br>An approach takes advantage of the fact that both nums1 and nums2 are sorted arrays. It uses two pointers to compare the elements from the end of both arrays and merges them in-place into nums1. "
      ],
      "metadata": {
        "id": "no9Iz58EvFtx"
      }
    },
    {
      "cell_type": "code",
      "source": [
        "#Two Pointers Approach\n",
        "def merge(nums1, m, nums2, n):\n",
        "    p1 = m - 1  # Pointer for nums1\n",
        "    p2 = n - 1  # Pointer for nums2\n",
        "    p = m + n - 1  # Pointer for merged array\n",
        "\n",
        "    while p1 >= 0 and p2 >= 0:\n",
        "        if nums1[p1] >= nums2[p2]:\n",
        "            nums1[p] = nums1[p1]\n",
        "            p1 -= 1\n",
        "        else:\n",
        "            nums1[p] = nums2[p2]\n",
        "            p2 -= 1\n",
        "        p -= 1\n",
        "\n",
        "    # Copy remaining elements from nums2 if any\n",
        "    nums1[:p2 + 1] = nums2[:p2 + 1]"
      ],
      "metadata": {
        "id": "g0YW6Iu_vN2J"
      },
      "execution_count": 28,
      "outputs": []
    },
    {
      "cell_type": "code",
      "source": [
        "# Test the optimal approach\n",
        "nums1 = [1, 2, 3, 0, 0, 0]\n",
        "m = 3\n",
        "nums2 = [2, 5, 6]\n",
        "n = 3\n",
        "\n",
        "merge(nums1, m, nums2, n)\n",
        "print(\"\\nOptimal Approach:\")\n",
        "print(\"Input (nums1):\", nums1[:m])\n",
        "print(\"Input (nums2):\", nums2)\n",
        "print(\"Output (Merged and Sorted):\", nums1)"
      ],
      "metadata": {
        "colab": {
          "base_uri": "https://localhost:8080/"
        },
        "id": "_RGaQUIavN_B",
        "outputId": "9aae0152-0501-44e9-8509-52df0fb7c28b"
      },
      "execution_count": 29,
      "outputs": [
        {
          "output_type": "stream",
          "name": "stdout",
          "text": [
            "\n",
            "Optimal Approach:\n",
            "Input (nums1): [1, 2, 2]\n",
            "Input (nums2): [2, 5, 6]\n",
            "Output (Merged and Sorted): [1, 2, 2, 3, 5, 6]\n"
          ]
        }
      ]
    },
    {
      "cell_type": "markdown",
      "source": [
        "# Discussion :\n",
        "<br>Time Complexity: O(m + n)\n",
        "<br>The optimal approach uses two pointers to merge the arrays in a single pass, resulting in a time complexity of O(m + n).\n",
        "\n",
        "<br>Space Complexity: O(1)\n",
        "<br>The optimal approach modifies the original nums1 array in-place and does not require any additional space."
      ],
      "metadata": {
        "id": "DBbrNWK4vneY"
      }
    },
    {
      "cell_type": "markdown",
      "source": [
        "💡 **Q6.** Given an integer array nums, return true if any value appears at least twice in the array, and return false if every element is distinct.\n",
        "\n",
        "**Example 1:**\n",
        "Input: nums = [1,2,3,1]\n",
        "\n",
        "Output: true"
      ],
      "metadata": {
        "id": "MV1VT2OEv4yw"
      }
    },
    {
      "cell_type": "markdown",
      "source": [
        "**Solution Approach 1**\n",
        "<br> The brute-force approach involves iterating over each element in the array and checking if it appears more than once."
      ],
      "metadata": {
        "id": "zrT0foCcwBuD"
      }
    },
    {
      "cell_type": "code",
      "source": [
        "# Brute Force Approach:\n",
        "def containsDuplicate_bruteForce(nums):\n",
        "    seen = set()\n",
        "    for num in nums:\n",
        "        if num in seen:\n",
        "            return True\n",
        "        seen.add(num)\n",
        "    return False"
      ],
      "metadata": {
        "id": "TDF9hPH5wNSL"
      },
      "execution_count": 30,
      "outputs": []
    },
    {
      "cell_type": "code",
      "source": [
        "# Test the brute force approach\n",
        "nums = [1, 2, 3, 1]\n",
        "result = containsDuplicate_bruteForce(nums)\n",
        "print(\"Brute Force Approach:\")\n",
        "print(\"Input:\", nums)\n",
        "print(\"Output:\", result)"
      ],
      "metadata": {
        "colab": {
          "base_uri": "https://localhost:8080/"
        },
        "id": "cYTmOIj5wNcu",
        "outputId": "1d4cf435-9e34-49bf-f4e6-5a536104ea26"
      },
      "execution_count": 31,
      "outputs": [
        {
          "output_type": "stream",
          "name": "stdout",
          "text": [
            "Brute Force Approach:\n",
            "Input: [1, 2, 3, 1]\n",
            "Output: True\n"
          ]
        }
      ]
    },
    {
      "cell_type": "markdown",
      "source": [
        "# Discussion :\n",
        "<br>Time Complexity: O(n^2)\n",
        "In the worst case, for each element, we check if it appears in the set, resulting in a time complexity of O(n^2), where n is the length of the array.\n",
        "\n",
        "<br>Space Complexity: O(n)\n",
        "<br>The brute-force approach uses a set to store the elements seen so far, resulting in a space complexity of O(n), where n is the length of the array."
      ],
      "metadata": {
        "id": "AjSQ8Hyiwjac"
      }
    },
    {
      "cell_type": "markdown",
      "source": [
        "**Solution Approach 2**\n",
        "<br>The optimal approach uses a hash set to store the unique elements encountered while traversing the array. If we encounter an element that is already present in the set, we return True, indicating the presence of a duplicate."
      ],
      "metadata": {
        "id": "R1Kb9EnvwxaB"
      }
    },
    {
      "cell_type": "code",
      "source": [
        "# Hash Set Approach\n",
        "def containsDuplicate(nums):\n",
        "    num_set = set()\n",
        "    for num in nums:\n",
        "        if num in num_set:\n",
        "            return True\n",
        "        num_set.add(num)\n",
        "    return False"
      ],
      "metadata": {
        "id": "ohJZZwE2w3rg"
      },
      "execution_count": 32,
      "outputs": []
    },
    {
      "cell_type": "code",
      "source": [
        "# Test the optimal approach\n",
        "nums = [1, 2, 3, 1]\n",
        "result = containsDuplicate(nums)\n",
        "print(\"\\nOptimal Approach:\")\n",
        "print(\"Input:\", nums)\n",
        "print(\"Output:\", result)"
      ],
      "metadata": {
        "colab": {
          "base_uri": "https://localhost:8080/"
        },
        "id": "FjE_kHZdw30w",
        "outputId": "f8160ce3-08f6-4f8f-d0a2-ed5128f614d5"
      },
      "execution_count": 33,
      "outputs": [
        {
          "output_type": "stream",
          "name": "stdout",
          "text": [
            "\n",
            "Optimal Approach:\n",
            "Input: [1, 2, 3, 1]\n",
            "Output: True\n"
          ]
        }
      ]
    },
    {
      "cell_type": "markdown",
      "source": [
        "# Discussion :\n",
        "<br> Time Complexity: O(n)\n",
        "<br>The optimal approach traverses the array once and performs constant-time operations on the hash set, resulting in a time complexity of O(n), where n is the length of the array.\n",
        "\n",
        "<br>Space Complexity: O(n)\n",
        "<br>The optimal approach uses a hash set to store the unique elements encountered, resulting in a space complexity of O(n), where n is the length of the array."
      ],
      "metadata": {
        "id": "Q0_uIIK-xKCg"
      }
    },
    {
      "cell_type": "markdown",
      "source": [
        "💡 **Q7.** Given an integer array nums, move all 0's to the end of it while maintaining the relative order of the nonzero elements.\n",
        "\n",
        "Note that you must do this in-place without making a copy of the array.\n",
        "\n",
        "**Example 1:**\n",
        "Input: nums = [0,1,0,3,12]\n",
        "Output: [1,3,12,0,0]"
      ],
      "metadata": {
        "id": "a02WxYj_hCSs"
      }
    },
    {
      "cell_type": "markdown",
      "source": [
        "**Solution Approach 1**\n",
        "<br> The brute-force approach involves iterating over the array and moving each zero encountered to the end of the array."
      ],
      "metadata": {
        "id": "22SvL9QNjU9G"
      }
    },
    {
      "cell_type": "code",
      "source": [
        "# Brute Force Approach:\n",
        "def moveZeroes_bruteForce(nums):\n",
        "    n = len(nums)\n",
        "    for i in range(n):\n",
        "        if nums[i] == 0:\n",
        "            j = i + 1\n",
        "            while j < n and nums[j] == 0:\n",
        "                j += 1\n",
        "            if j < n:\n",
        "                nums[i], nums[j] = nums[j], nums[i]"
      ],
      "metadata": {
        "id": "5V65BaSDxsT6"
      },
      "execution_count": 34,
      "outputs": []
    },
    {
      "cell_type": "code",
      "source": [
        "# Test the brute force approach\n",
        "nums = [0, 1, 0, 3, 12]\n",
        "moveZeroes_bruteForce(nums)\n",
        "print(\"Brute Force Approach:\")\n",
        "print(\"Input:\", nums)"
      ],
      "metadata": {
        "colab": {
          "base_uri": "https://localhost:8080/"
        },
        "id": "UuoXJEZnxsrh",
        "outputId": "e493b159-432f-4e0b-f969-42175d4e0d31"
      },
      "execution_count": 35,
      "outputs": [
        {
          "output_type": "stream",
          "name": "stdout",
          "text": [
            "Brute Force Approach:\n",
            "Input: [1, 3, 12, 0, 0]\n"
          ]
        }
      ]
    },
    {
      "cell_type": "markdown",
      "source": [
        "# Discussion :\n",
        "<br>Time Complexity: O(n^2)\n",
        "<br>In the worst case, when all elements except the last one are zeros, we need to perform a linear search for each zero to find the next non-zero element. This results in a time complexity of O(n^2), where n is the length of the array.\n",
        "\n",
        "<br>Space Complexity: O(1)\n",
        "<br>The brute-force approach performs all operations in-place without using any additional space, resulting in a space complexity of O(1)."
      ],
      "metadata": {
        "id": "M0BtTSyzyGog"
      }
    },
    {
      "cell_type": "markdown",
      "source": [
        "**Solution Approach 2**\n",
        "<br>The approach uses two pointers to track the position of the next non-zero element. It iterates over the array and swaps each non-zero element with the position of the next non-zero element."
      ],
      "metadata": {
        "id": "az1wxr2Tyfsm"
      }
    },
    {
      "cell_type": "code",
      "source": [
        "# Two-Pointers Approach\n",
        "def moveZeroes(nums):\n",
        "    n = len(nums)\n",
        "    nextNonZero = 0\n",
        "    for i in range(n):\n",
        "        if nums[i] != 0:\n",
        "            nums[i], nums[nextNonZero] = nums[nextNonZero], nums[i]\n",
        "            nextNonZero += 1"
      ],
      "metadata": {
        "id": "NSAIeJBeylm4"
      },
      "execution_count": 36,
      "outputs": []
    },
    {
      "cell_type": "code",
      "source": [
        "# Test the optimal approach\n",
        "nums = [0, 1, 0, 3, 12]\n",
        "moveZeroes(nums)\n",
        "print(\"\\nOptimal Approach:\")\n",
        "print(\"Input:\", nums)"
      ],
      "metadata": {
        "id": "z7T-IomUjVZT",
        "colab": {
          "base_uri": "https://localhost:8080/"
        },
        "outputId": "f8462cf8-f359-417c-e232-ced8680b0611"
      },
      "execution_count": 37,
      "outputs": [
        {
          "output_type": "stream",
          "name": "stdout",
          "text": [
            "\n",
            "Optimal Approach:\n",
            "Input: [1, 3, 12, 0, 0]\n"
          ]
        }
      ]
    },
    {
      "cell_type": "markdown",
      "source": [
        "# Discussion :\n",
        "<br>Time Complexity: O(n)\n",
        "<br>The optimal approach iterates over the array once, and for each non-zero element, performs a constant-time swap with the next non-zero position. This results in a time complexity of O(n), where n is the length of the array.\n",
        "\n",
        "<br>Space Complexity: O(1)\n",
        "The optimal approach performs all operations in-place without using any additional space, resulting in a space complexity of O(1)."
      ],
      "metadata": {
        "id": "t0ZcOL_Jy5dA"
      }
    },
    {
      "cell_type": "markdown",
      "source": [
        "**Q 8** 💡 You have a set of integers s, which originally contains all the numbers from 1 to n. Unfortunately, due to some error, one of the numbers in s got duplicated to another number in the set, which results in repetition of one number and loss of another number.\n",
        "\n",
        "You are given an integer array nums representing the data status of this set after the error.\n",
        "\n",
        "Find the number that occurs twice and the number that is missing and return them in the form of an array.\n",
        "\n",
        "**Example 1:**\n",
        "Input: nums = [1,2,2,4]\n",
        "Output: [2,3]\n",
        "\n",
        "</aside>"
      ],
      "metadata": {
        "id": "2unFa_Rpb0F3"
      }
    },
    {
      "cell_type": "markdown",
      "source": [
        "**Solution Approach 1**"
      ],
      "metadata": {
        "id": "IxvfT8KiciMF"
      }
    },
    {
      "cell_type": "code",
      "execution_count": null,
      "metadata": {
        "id": "dMckupYgalvu"
      },
      "outputs": [],
      "source": [
        "# Brute-Force Approach:\n",
        "def findErrorNums(nums):\n",
        "    duplicate = -1\n",
        "    missing = -1\n",
        "\n",
        "    for i in range(1, len(nums) + 1):\n",
        "        count = 0\n",
        "        for num in nums:\n",
        "            if num == i:\n",
        "                count += 1\n",
        "        if count == 2:\n",
        "            duplicate = i\n",
        "        elif count == 0:\n",
        "            missing = i\n",
        "\n",
        "    return [duplicate, missing]\n"
      ]
    },
    {
      "cell_type": "code",
      "source": [
        "# Test the function\n",
        "nums = [1, 2, 2, 4]\n",
        "result = findErrorNums(nums)\n",
        "print(result)"
      ],
      "metadata": {
        "colab": {
          "base_uri": "https://localhost:8080/"
        },
        "id": "cJ2QCLcvcbgv",
        "outputId": "c04113cf-fde9-48e3-b58e-6e04379d84cd"
      },
      "execution_count": null,
      "outputs": [
        {
          "output_type": "stream",
          "name": "stdout",
          "text": [
            "[2, 3]\n"
          ]
        }
      ]
    },
    {
      "cell_type": "markdown",
      "source": [
        "# Discussion : \n",
        "In this brute-force approach, we iterate over each number from 1 to n (the length of the array). For each number, we count the occurrences in the array. If the count is equal to 2, we have found the duplicate number. If the count is 0, the number is missing from the array.\n",
        "\n",
        "The time complexity of this brute-force approach is O(n^2) because we have nested loops, iterating over each number and then each element of the array. The space complexity is O(1) since we are not using any additional data structures."
      ],
      "metadata": {
        "id": "n-_SAwpDc8XF"
      }
    },
    {
      "cell_type": "markdown",
      "source": [
        "**Solution Approach 2**\n",
        "<br>One approach is to sort the array and then iterate over it to find the duplicate and missing numbers. Sorting the array helps in identifying the duplicate number, and by comparing the sorted array with the original sequence, we can find the missing number."
      ],
      "metadata": {
        "id": "0gWg4gU-cwwE"
      }
    },
    {
      "cell_type": "code",
      "source": [
        "# Using Sorting\n",
        "def findErrorNums(nums):\n",
        "    nums.sort()\n",
        "    duplicate = -1\n",
        "    missing = -1\n",
        "\n",
        "    for i in range(1, len(nums)):\n",
        "        if nums[i] == nums[i-1]:\n",
        "            duplicate = nums[i]\n",
        "        elif nums[i] > nums[i-1] + 1:\n",
        "            missing = nums[i-1] + 1\n",
        "\n",
        "    # Check for missing number at the end\n",
        "    if nums[-1] != len(nums):\n",
        "        missing = len(nums)\n",
        "\n",
        "    return [duplicate, missing]"
      ],
      "metadata": {
        "id": "faJrT2gqczP-"
      },
      "execution_count": null,
      "outputs": []
    },
    {
      "cell_type": "code",
      "source": [
        "# Test the function\n",
        "nums = [1, 2, 2, 4]\n",
        "result = findErrorNums(nums)\n",
        "print(result)"
      ],
      "metadata": {
        "colab": {
          "base_uri": "https://localhost:8080/"
        },
        "id": "aQlXvpNMeIFw",
        "outputId": "7424a19b-5e3a-4e78-9808-58ffe5d961a9"
      },
      "execution_count": null,
      "outputs": [
        {
          "output_type": "stream",
          "name": "stdout",
          "text": [
            "[2, 3]\n"
          ]
        }
      ]
    },
    {
      "cell_type": "markdown",
      "source": [
        "# Discussion :\n",
        "Time Complexity: O(n log n)\n",
        "\n",
        "Sorting the array takes O(n log n) time.\n",
        "The subsequent iteration takes O(n) time.\n",
        "<br> Space Complexity: O(1)\n",
        "\n",
        "The sorting is performed in-place, so the additional space used is constant."
      ],
      "metadata": {
        "id": "7G4ujDSqeY4O"
      }
    }
  ]
}