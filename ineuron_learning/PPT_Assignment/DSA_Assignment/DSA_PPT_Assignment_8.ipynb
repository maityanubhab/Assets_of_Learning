{
  "nbformat": 4,
  "nbformat_minor": 0,
  "metadata": {
    "colab": {
      "provenance": []
    },
    "kernelspec": {
      "name": "python3",
      "display_name": "Python 3"
    },
    "language_info": {
      "name": "python"
    }
  },
  "cells": [
    {
      "cell_type": "markdown",
      "source": [
        "💡 **Question 1**\n",
        "\n",
        "Given two strings s1 and s2, return *the lowest **ASCII** sum of deleted characters to make two strings equal*.\n",
        "\n",
        "**Example 1:**\n",
        "\n",
        "**Input:** s1 = \"sea\", s2 = \"eat\"\n",
        "\n",
        "**Output:** 231\n",
        "\n",
        "**Explanation:** Deleting \"s\" from \"sea\" adds the ASCII value of \"s\" (115) to the sum.\n",
        "\n",
        "Deleting \"t\" from \"eat\" adds 116 to the sum.\n",
        "\n",
        "At the end, both strings are equal, and 115 + 116 = 231 is the minimum sum possible to achieve this."
      ],
      "metadata": {
        "id": "k8wB92SRPeW1"
      }
    },
    {
      "cell_type": "markdown",
      "source": [
        "**Ans**"
      ],
      "metadata": {
        "id": "rf1JHMQvP_lW"
      }
    },
    {
      "cell_type": "markdown",
      "source": [
        "**Solution Approach 1 : brute force approach**\n"
      ],
      "metadata": {
        "id": "87O_BIueQCO0"
      }
    },
    {
      "cell_type": "code",
      "execution_count": 1,
      "metadata": {
        "id": "OMbTgzRzPadb"
      },
      "outputs": [],
      "source": [
        "def minimumDeleteSum_bt(s1, s2):\n",
        "    return helper(s1, s2, 0, 0)\n",
        "\n",
        "def helper(s1, s2, i, j):\n",
        "    if i == len(s1) and j == len(s2):\n",
        "        return 0\n",
        "    if i == len(s1):\n",
        "        return sum(ord(ch) for ch in s2[j:])\n",
        "    if j == len(s2):\n",
        "        return sum(ord(ch) for ch in s1[i:])\n",
        "\n",
        "    if s1[i] == s2[j]:\n",
        "        return helper(s1, s2, i + 1, j + 1)\n",
        "\n",
        "    deleteS1 = ord(s1[i]) + helper(s1, s2, i + 1, j)\n",
        "    deleteS2 = ord(s2[j]) + helper(s1, s2, i, j + 1)\n",
        "\n",
        "    return min(deleteS1, deleteS2)"
      ]
    },
    {
      "cell_type": "code",
      "source": [
        "# Test cases for brute force approach\n",
        "s1 = \"sea\"\n",
        "s2 = \"eat\"\n",
        "print(minimumDeleteSum_bt(s1, s2))"
      ],
      "metadata": {
        "colab": {
          "base_uri": "https://localhost:8080/"
        },
        "id": "nzsthktTQQbB",
        "outputId": "d6e05d5c-45c3-4e1b-95f7-e4e28f2a07a6"
      },
      "execution_count": 2,
      "outputs": [
        {
          "output_type": "stream",
          "name": "stdout",
          "text": [
            "231\n"
          ]
        }
      ]
    },
    {
      "cell_type": "code",
      "source": [
        "s1 = \"delete\"\n",
        "s2 = \"leet\"\n",
        "print(minimumDeleteSum_bt(s1, s2))"
      ],
      "metadata": {
        "colab": {
          "base_uri": "https://localhost:8080/"
        },
        "id": "IFBIdAHnQfoG",
        "outputId": "5f2f4f73-ca4a-4f58-9eba-0bfa03652a60"
      },
      "execution_count": 3,
      "outputs": [
        {
          "output_type": "stream",
          "name": "stdout",
          "text": [
            "403\n"
          ]
        }
      ]
    },
    {
      "cell_type": "markdown",
      "source": [
        "# Discussion :\n",
        "The time complexity of this approach is exponential, as it recursively explores all possible deletions. In the worst case, it has a time complexity of O(2^(m+n)), where m and n are the lengths of s1 and s2, respectively.\n",
        "\n",
        "The space complexity is also exponential because of the recursive calls, resulting in a space complexity of O(m+n)."
      ],
      "metadata": {
        "id": "FGrM__MFQmBc"
      }
    },
    {
      "cell_type": "markdown",
      "source": [
        "**Solution Approach 2**\n",
        "<br>we can use dynamic programming to avoid redundant calculations and store intermediate results. This approach is known as the memoization technique."
      ],
      "metadata": {
        "id": "fAgAH7tpQ8DZ"
      }
    },
    {
      "cell_type": "code",
      "source": [
        "def minimumDeleteSum(s1, s2):\n",
        "    memo = {}\n",
        "    return helper(s1, s2, 0, 0, memo)\n",
        "\n",
        "def helper(s1, s2, i, j, memo):\n",
        "    if i == len(s1) and j == len(s2):\n",
        "        return 0\n",
        "    if i == len(s1):\n",
        "        return sum(ord(ch) for ch in s2[j:])\n",
        "    if j == len(s2):\n",
        "        return sum(ord(ch) for ch in s1[i:])\n",
        "\n",
        "    if (i, j) in memo:\n",
        "        return memo[(i, j)]\n",
        "\n",
        "    if s1[i] == s2[j]:\n",
        "        result = helper(s1, s2, i + 1, j + 1, memo)\n",
        "    else:\n",
        "        deleteS1 = ord(s1[i]) + helper(s1, s2, i + 1, j, memo)\n",
        "        deleteS2 = ord(s2[j]) + helper(s1, s2, i, j + 1, memo)\n",
        "        result = min(deleteS1, deleteS2)\n",
        "\n",
        "    memo[(i, j)] = result\n",
        "    return result\n"
      ],
      "metadata": {
        "id": "Zwj2MlVZQk6u"
      },
      "execution_count": 4,
      "outputs": []
    },
    {
      "cell_type": "code",
      "source": [
        "# Test cases for optimized approach\n",
        "s1 = \"sea\"\n",
        "s2 = \"eat\"\n",
        "print(minimumDeleteSum(s1, s2))"
      ],
      "metadata": {
        "colab": {
          "base_uri": "https://localhost:8080/"
        },
        "id": "S4Qvn3DtRHzW",
        "outputId": "35c21749-5ebd-4b86-d580-d0044e06f37b"
      },
      "execution_count": 5,
      "outputs": [
        {
          "output_type": "stream",
          "name": "stdout",
          "text": [
            "231\n"
          ]
        }
      ]
    },
    {
      "cell_type": "code",
      "source": [
        "s1 = \"delete\"\n",
        "s2 = \"leet\"\n",
        "print(minimumDeleteSum(s1, s2))"
      ],
      "metadata": {
        "colab": {
          "base_uri": "https://localhost:8080/"
        },
        "id": "HJLjJURdRMIu",
        "outputId": "35f9ccf0-b5ab-4dd0-bfb2-a81e6c25fd7a"
      },
      "execution_count": 6,
      "outputs": [
        {
          "output_type": "stream",
          "name": "stdout",
          "text": [
            "403\n"
          ]
        }
      ]
    },
    {
      "cell_type": "markdown",
      "source": [
        "# Discussion :\n",
        "The time complexity of this optimized approach is O(m * n), where m and n are the lengths of s1 and s2, respectively. This improvement is due to memoization, which avoids redundant calculations.\n",
        "\n",
        "The space complexity is O(m * n) as well, as the memo dictionary can store results for all unique (i, j) combinations of s1 and s2."
      ],
      "metadata": {
        "id": "SyJWUEyCRQ5M"
      }
    },
    {
      "cell_type": "markdown",
      "source": [
        "💡 **Question 2**\n",
        "\n",
        "Given a string s containing only three types of characters: '(', ')' and '*', return true *if* s *is **valid***.\n",
        "\n",
        "The following rules define a **valid** string:\n",
        "\n",
        "- Any left parenthesis '(' must have a corresponding right parenthesis ')'.\n",
        "- Any right parenthesis ')' must have a corresponding left parenthesis '('.\n",
        "- Left parenthesis '(' must go before the corresponding right parenthesis ')'.\n",
        "- '*' could be treated as a single right parenthesis ')' or a single left parenthesis '(' or an empty string \"\".\n",
        "\n",
        "**Example 1:**\n",
        "\n",
        "**Input:** s = \"()\"\n",
        "\n",
        "**Output:**\n",
        "\n",
        "true"
      ],
      "metadata": {
        "id": "e9dwcX8gRX-J"
      }
    },
    {
      "cell_type": "markdown",
      "source": [
        "**Ans**"
      ],
      "metadata": {
        "id": "E8GknSCVReMr"
      }
    },
    {
      "cell_type": "markdown",
      "source": [
        "\n",
        "**Solution Approach 1 : brute force approach**"
      ],
      "metadata": {
        "id": "LeEe3xLUSKHc"
      }
    },
    {
      "cell_type": "code",
      "source": [
        "def checkValidString_bt(s):\n",
        "    return helper(s, 0, [])\n",
        "\n",
        "def helper(s, index, stack):\n",
        "    if index == len(s):\n",
        "        return len(stack) == 0\n",
        "\n",
        "    if s[index] == '(':\n",
        "        stack.append('(')\n",
        "        if helper(s, index + 1, stack):\n",
        "            return True\n",
        "        stack.pop()\n",
        "\n",
        "    elif s[index] == ')':\n",
        "        if len(stack) > 0:\n",
        "            stack.pop()\n",
        "            if helper(s, index + 1, stack):\n",
        "                return True\n",
        "            stack.append('(')\n",
        "\n",
        "    elif s[index] == '*':\n",
        "        if helper(s, index + 1, stack):\n",
        "            return True\n",
        "\n",
        "        if len(stack) > 0:\n",
        "            stack.pop()\n",
        "            if helper(s, index + 1, stack):\n",
        "                return True\n",
        "            stack.append('(')\n",
        "\n",
        "        stack.append('(')\n",
        "        if helper(s, index + 1, stack):\n",
        "            return True\n",
        "        stack.pop()\n",
        "\n",
        "    return False"
      ],
      "metadata": {
        "id": "mi_d8vG_SNCz"
      },
      "execution_count": 8,
      "outputs": []
    },
    {
      "cell_type": "code",
      "source": [
        "# Test cases for brute force approach\n",
        "s1 = \"()\"\n",
        "print(checkValidString_bt(s1))"
      ],
      "metadata": {
        "colab": {
          "base_uri": "https://localhost:8080/"
        },
        "id": "TbEk6RRLSXQX",
        "outputId": "ff97a354-ddd2-4910-af70-e9fc611b373d"
      },
      "execution_count": 9,
      "outputs": [
        {
          "output_type": "stream",
          "name": "stdout",
          "text": [
            "True\n"
          ]
        }
      ]
    },
    {
      "cell_type": "code",
      "source": [
        "s4 = \"(((**))\"\n",
        "print(checkValidString_bt(s4)) "
      ],
      "metadata": {
        "colab": {
          "base_uri": "https://localhost:8080/"
        },
        "id": "zdbdTfowSg7-",
        "outputId": "c4d065c3-08e6-49ee-b0b8-5ecb955822d6"
      },
      "execution_count": 11,
      "outputs": [
        {
          "output_type": "stream",
          "name": "stdout",
          "text": [
            "True\n"
          ]
        }
      ]
    },
    {
      "cell_type": "markdown",
      "source": [
        "# Discussion :\n",
        "The time complexity of this brute force approach is exponential, as it explores all possible combinations. In the worst case, the time complexity is O(3^n), where n is the length of the string.\n",
        "\n",
        "The space complexity is also exponential, as the stack can potentially grow to a size of n. Hence, the space complexity is O(n)."
      ],
      "metadata": {
        "id": "lieLrUggSu2-"
      }
    },
    {
      "cell_type": "markdown",
      "source": [
        "**Solution Approach 2**\n",
        "<br>To optimize the solution, we can use a greedy approach that counts the minimum and maximum number of open parentheses."
      ],
      "metadata": {
        "id": "QPRZqLiOS2tG"
      }
    },
    {
      "cell_type": "code",
      "source": [
        "def checkValidString(s):\n",
        "    minOpen = maxOpen = 0\n",
        "\n",
        "    for ch in s:\n",
        "        if ch == '(':\n",
        "            minOpen += 1\n",
        "            maxOpen += 1\n",
        "        elif ch == ')':\n",
        "            minOpen = max(minOpen - 1, 0)\n",
        "            maxOpen -= 1\n",
        "            if maxOpen < 0:\n",
        "                return False\n",
        "        elif ch == '*':\n",
        "            minOpen = max(minOpen - 1, 0)\n",
        "            maxOpen += 1\n",
        "\n",
        "    return minOpen == 0"
      ],
      "metadata": {
        "id": "rK8zGtPIS7dM"
      },
      "execution_count": 12,
      "outputs": []
    },
    {
      "cell_type": "code",
      "source": [
        "# Test cases for optimized approach\n",
        "print(checkValidString(s1))"
      ],
      "metadata": {
        "colab": {
          "base_uri": "https://localhost:8080/"
        },
        "id": "QnaBALdhSlXm",
        "outputId": "38075d1c-fafb-4566-ae85-d81da41bda28"
      },
      "execution_count": 13,
      "outputs": [
        {
          "output_type": "stream",
          "name": "stdout",
          "text": [
            "True\n"
          ]
        }
      ]
    },
    {
      "cell_type": "code",
      "source": [
        "print(checkValidString(s4)) "
      ],
      "metadata": {
        "colab": {
          "base_uri": "https://localhost:8080/"
        },
        "id": "PgIews1BTCJ2",
        "outputId": "e57eb4a6-cff8-498c-97a3-18ba6595bbb5"
      },
      "execution_count": 14,
      "outputs": [
        {
          "output_type": "stream",
          "name": "stdout",
          "text": [
            "True\n"
          ]
        }
      ]
    },
    {
      "cell_type": "markdown",
      "source": [
        "# Discussion :\n",
        "The time complexity of this optimized approach is O(n), where n is the length of the string. We iterate through the string once.\n",
        "\n",
        "The space complexity is O(1) since we use only a constant amount of extra space to store the minimum and maximum counts of open parentheses."
      ],
      "metadata": {
        "id": "7a1ADFd-TS-U"
      }
    },
    {
      "cell_type": "markdown",
      "source": [
        "💡 **Question 3**\n",
        "\n",
        "Given two strings word1 and word2, return *the minimum number of **steps** required to make* word1 *and* word2 *the same*.\n",
        "\n",
        "In one **step**, you can delete exactly one character in either string.\n",
        "\n",
        "**Example 1:**\n",
        "\n",
        "**Input:** word1 = \"sea\", word2 = \"eat\"\n",
        "\n",
        "**Output:** 2\n",
        "\n",
        "**Explanation:** You need one step to make \"sea\" to \"ea\" and another step to make \"eat\" to \"ea\"."
      ],
      "metadata": {
        "id": "6mBhIwPnTe_1"
      }
    },
    {
      "cell_type": "markdown",
      "source": [
        "**Ans**"
      ],
      "metadata": {
        "id": "ehZiyL2MTrxU"
      }
    },
    {
      "cell_type": "markdown",
      "source": [
        "**Solution Approach 1 : brute force approach**"
      ],
      "metadata": {
        "id": "0dkUGMOvTyud"
      }
    },
    {
      "cell_type": "code",
      "source": [
        "def minDistance_bt(word1, word2):\n",
        "    return helper(word1, word2, 0, 0)\n",
        "\n",
        "def helper(word1, word2, i, j):\n",
        "    if i == len(word1) and j == len(word2):\n",
        "        return 0\n",
        "    if i == len(word1):\n",
        "        return len(word2) - j\n",
        "    if j == len(word2):\n",
        "        return len(word1) - i\n",
        "\n",
        "    if word1[i] == word2[j]:\n",
        "        return helper(word1, word2, i + 1, j + 1)\n",
        "\n",
        "    deleteWord1 = 1 + helper(word1, word2, i + 1, j)\n",
        "    deleteWord2 = 1 + helper(word1, word2, i, j + 1)\n",
        "\n",
        "    return min(deleteWord1, deleteWord2)\n"
      ],
      "metadata": {
        "id": "N0NqqyuJTITd"
      },
      "execution_count": 19,
      "outputs": []
    },
    {
      "cell_type": "code",
      "source": [
        "# Test cases for brute force approach\n",
        "word1 = \"sea\"\n",
        "word2 = \"eat\"\n",
        "print(minDistance_bt(word1, word2)) "
      ],
      "metadata": {
        "colab": {
          "base_uri": "https://localhost:8080/"
        },
        "id": "63sC8XqAUsqe",
        "outputId": "ee7bb6eb-6fac-4d60-8c75-d191cd90a739"
      },
      "execution_count": 20,
      "outputs": [
        {
          "output_type": "stream",
          "name": "stdout",
          "text": [
            "2\n"
          ]
        }
      ]
    },
    {
      "cell_type": "markdown",
      "source": [
        "# Discussion :\n",
        "The time complexity of this brute force approach is exponential, as it recursively explores all possible deletions. In the worst case, it has a time complexity of O(2^(m+n)), where m and n are the lengths of word1 and word2, respectively.\n",
        "\n",
        "The space complexity is also exponential because of the recursive calls, resulting in a space complexity of O(m+n)."
      ],
      "metadata": {
        "id": "DtqThGhnXBLz"
      }
    },
    {
      "cell_type": "markdown",
      "source": [
        "**Solution Approach 2**\n",
        "<br>To optimize the solution, we can use dynamic programming to avoid redundant calculations and store intermediate results. This approach is known as the memoization technique."
      ],
      "metadata": {
        "id": "oEq-_fSBdQQp"
      }
    },
    {
      "cell_type": "code",
      "source": [
        "def minDistance(word1, word2):\n",
        "    memo = {}\n",
        "    return helper(word1, word2, 0, 0, memo)\n",
        "\n",
        "def helper(word1, word2, i, j, memo):\n",
        "    if i == len(word1) and j == len(word2):\n",
        "        return 0\n",
        "    if i == len(word1):\n",
        "        return len(word2) - j\n",
        "    if j == len(word2):\n",
        "        return len(word1) - i\n",
        "\n",
        "    if (i, j) in memo:\n",
        "        return memo[(i, j)]\n",
        "\n",
        "    if word1[i] == word2[j]:\n",
        "        result = helper(word1, word2, i + 1, j + 1, memo)\n",
        "    else:\n",
        "        deleteWord1 = 1 + helper(word1, word2, i + 1, j, memo)\n",
        "        deleteWord2 = 1 + helper(word1, word2, i, j + 1, memo)\n",
        "        result = min(deleteWord1, deleteWord2)\n",
        "\n",
        "    memo[(i, j)] = result\n",
        "    return result\n"
      ],
      "metadata": {
        "id": "c-IvIA6KVEc_"
      },
      "execution_count": 21,
      "outputs": []
    },
    {
      "cell_type": "code",
      "source": [
        "# Test cases for optimized approach\n",
        "print(minDistance(word1, word2))"
      ],
      "metadata": {
        "colab": {
          "base_uri": "https://localhost:8080/"
        },
        "id": "zsXdWd8Zde73",
        "outputId": "58d151cd-076d-421a-f7b0-0a5169d570c8"
      },
      "execution_count": 22,
      "outputs": [
        {
          "output_type": "stream",
          "name": "stdout",
          "text": [
            "2\n"
          ]
        }
      ]
    },
    {
      "cell_type": "markdown",
      "source": [
        "# Discussion :\n",
        "The time complexity of this optimized approach is O(m * n), where m and n are the lengths of word1 and word2, respectively. This improvement is due to memoization, which avoids redundant calculations.\n",
        "\n",
        "The space complexity is O(m * n) as well, as the memo dictionary can store results for all unique (i, j) combinations of word1 and word2."
      ],
      "metadata": {
        "id": "x4XURApedkHZ"
      }
    },
    {
      "cell_type": "markdown",
      "source": [
        "💡 **Question 4**\n",
        "\n",
        "You need to construct a binary tree from a string consisting of parenthesis and integers.\n",
        "\n",
        "The whole input represents a binary tree. It contains an integer followed by zero, one or two pairs of parenthesis. The integer represents the root's value and a pair of parenthesis contains a child binary tree with the same structure.\n",
        "You always start to construct the **left** child node of the parent first if it exists.\n",
        "**Input:** s = \"4(2(3)(1))(6(5))\"\n",
        "\n",
        "**Output:** [4,2,6,3,1,5]"
      ],
      "metadata": {
        "id": "T9DPdWTKdxPL"
      }
    },
    {
      "cell_type": "markdown",
      "source": [
        "**Ans**"
      ],
      "metadata": {
        "id": "AjRrA9lBd5x5"
      }
    },
    {
      "cell_type": "markdown",
      "source": [
        "**Solution Approach 1 : brute force approach**"
      ],
      "metadata": {
        "id": "cqugCS2eeoCd"
      }
    },
    {
      "cell_type": "code",
      "source": [
        "class TreeNode:\n",
        "    def __init__(self, val=0, left=None, right=None):\n",
        "        self.val = val\n",
        "        self.left = left\n",
        "        self.right = right\n",
        "\n",
        "def str2tree(s):\n",
        "    if not s:\n",
        "        return None\n",
        "\n",
        "    # Find the index of the first opening parenthesis\n",
        "    i = 0\n",
        "    while i < len(s) and s[i] != '(':\n",
        "        i += 1\n",
        "\n",
        "    # Create the root node with the value before the first opening parenthesis\n",
        "    root_val = int(s[:i])\n",
        "    root = TreeNode(root_val)\n",
        "\n",
        "    # Check if there are any child nodes\n",
        "    if i < len(s):\n",
        "        count = 0\n",
        "        j = i\n",
        "        while j < len(s):\n",
        "            if s[j] == '(':\n",
        "                count += 1\n",
        "            elif s[j] == ')':\n",
        "                count -= 1\n",
        "\n",
        "            if count == 0:\n",
        "                break\n",
        "\n",
        "            j += 1\n",
        "\n",
        "        # Construct the left child node\n",
        "        root.left = str2tree(s[i+1:j])\n",
        "\n",
        "        # Check if there is a right child node\n",
        "        if j + 1 < len(s):\n",
        "            root.right = str2tree(s[j+2:-1])\n",
        "\n",
        "    return root"
      ],
      "metadata": {
        "id": "JN9oMd3Id8e5"
      },
      "execution_count": 23,
      "outputs": []
    },
    {
      "cell_type": "code",
      "source": [
        "# Helper function to perform preorder traversal of the binary tree\n",
        "def preorderTraversal(root):\n",
        "    result = []\n",
        "\n",
        "    def traverse(node):\n",
        "        if node:\n",
        "            result.append(node.val)\n",
        "            traverse(node.left)\n",
        "            traverse(node.right)\n",
        "\n",
        "    traverse(root)\n",
        "    return result"
      ],
      "metadata": {
        "id": "-BacYhqNfswm"
      },
      "execution_count": 25,
      "outputs": []
    },
    {
      "cell_type": "code",
      "source": [
        "# Test cases for brute force approach\n",
        "s1 = \"4(2(3)(1))(6(5))\"\n",
        "root1 = str2tree(s1)\n",
        "# Output: [4,2,6,3,1,5]\n",
        "print(preorderTraversal(root1))"
      ],
      "metadata": {
        "colab": {
          "base_uri": "https://localhost:8080/"
        },
        "id": "wNLYrpz9diqs",
        "outputId": "187d290c-7e2f-40af-fe8e-c845fb1edacd"
      },
      "execution_count": 26,
      "outputs": [
        {
          "output_type": "stream",
          "name": "stdout",
          "text": [
            "[4, 2, 3, 1, 6, 5]\n"
          ]
        }
      ]
    },
    {
      "cell_type": "markdown",
      "source": [
        "# Discussion :\n",
        "The time complexity of this brute force approach is O(n), where n is the length of the input string. We iterate through the string once to construct the binary tree.\n",
        "\n",
        "The space complexity is O(n) as well. In the worst case, if the binary tree is skewed, the recursion depth can reach n, resulting in O(n) space usage."
      ],
      "metadata": {
        "id": "N5o1O8oOgVgQ"
      }
    },
    {
      "cell_type": "markdown",
      "source": [
        "**Solution Approach 2**\n",
        "<br>To optimize the solution, we can use a stack-based approach to avoid recursion."
      ],
      "metadata": {
        "id": "uOIkYgS9g2Ph"
      }
    },
    {
      "cell_type": "code",
      "source": [
        "class TreeNode:\n",
        "    def __init__(self, val=0, left=None, right=None):\n",
        "        self.val = val\n",
        "        self.left = left\n",
        "        self.right = right\n",
        "\n",
        "def str2tree(s):\n",
        "    if not s:\n",
        "        return None\n",
        "\n",
        "    stack = []\n",
        "    i = 0\n",
        "\n",
        "    while i < len(s):\n",
        "        if s[i].isdigit() or s[i] == '-':\n",
        "            # Find the value of the current node\n",
        "            j = i + 1\n",
        "            while j < len(s) and s[j].isdigit():\n",
        "                j += 1\n",
        "            val = int(s[i:j])\n",
        "            node = TreeNode(val)\n",
        "            stack.append(node)\n",
        "            i = j\n",
        "        elif s[i] == '(':\n",
        "            i += 1\n",
        "        elif s[i] == ')':\n",
        "            node = stack.pop()\n",
        "            if stack[-1].left is None:\n",
        "                stack[-1].left = node\n",
        "            else:\n",
        "                stack[-1].right = node\n",
        "            i += 1\n",
        "\n",
        "    return stack[-1]"
      ],
      "metadata": {
        "id": "vDlFXsh7fNeD"
      },
      "execution_count": 27,
      "outputs": []
    },
    {
      "cell_type": "code",
      "source": [
        "# Test cases for optimized approach\n",
        "print(preorderTraversal(str2tree(s1)))"
      ],
      "metadata": {
        "colab": {
          "base_uri": "https://localhost:8080/"
        },
        "id": "Tal4xP46hLXW",
        "outputId": "934f0b3c-b96c-4216-946c-fd015a10429e"
      },
      "execution_count": 28,
      "outputs": [
        {
          "output_type": "stream",
          "name": "stdout",
          "text": [
            "[4, 2, 3, 1, 6, 5]\n"
          ]
        }
      ]
    },
    {
      "cell_type": "markdown",
      "source": [
        "# Discussion :\n",
        "The time complexity of this optimized approach is O(n), where n is the length of the input string. We iterate through the string once to construct the binary tree using a stack.\n",
        "\n",
        "The space complexity is O(n) as well. In the worst case, if the binary tree is skewed, the stack can reach a size of n, resulting in O(n) space usage."
      ],
      "metadata": {
        "id": "eKrL-bIhhQci"
      }
    },
    {
      "cell_type": "markdown",
      "source": [
        "💡 **Question 5**\n",
        "\n",
        "Given an array of characters chars, compress it using the following algorithm:\n",
        "\n",
        "Begin with an empty string s. For each group of **consecutive repeating characters** in chars:\n",
        "\n",
        "- If the group's length is 1, append the character to s.\n",
        "- Otherwise, append the character followed by the group's length.\n",
        "\n",
        "The compressed string s **should not be returned separately**, but instead, be stored **in the input character array chars**. Note that group lengths that are 10 or longer will be split into multiple characters in chars.\n",
        "\n",
        "After you are done **modifying the input array,** return *the new length of the array*.\n",
        "\n",
        "You must write an algorithm that uses only constant extra space.\n",
        "\n",
        "**Example 1:**\n",
        "\n",
        "**Input:** chars = [\"a\",\"a\",\"b\",\"b\",\"c\",\"c\",\"c\"]\n",
        "\n",
        "**Output:** Return 6, and the first 6 characters of the input array should be: [\"a\",\"2\",\"b\",\"2\",\"c\",\"3\"]\n",
        "\n",
        "**Explanation:**\n",
        "\n",
        "The groups are \"aa\", \"bb\", and \"ccc\". This compresses to \"a2b2c3\"."
      ],
      "metadata": {
        "id": "RO8LiL7fhYRR"
      }
    },
    {
      "cell_type": "markdown",
      "source": [
        "**Ans**"
      ],
      "metadata": {
        "id": "KP5tS1cxhjkf"
      }
    },
    {
      "cell_type": "markdown",
      "source": [
        "**Solution Approach : brute force approach**"
      ],
      "metadata": {
        "id": "N0pJ4w3UhvzJ"
      }
    },
    {
      "cell_type": "code",
      "source": [
        "def compress(chars):\n",
        "    # Edge case: If the array is empty, return 0\n",
        "    if not chars:\n",
        "        return 0\n",
        "\n",
        "    # Initialize pointers and counters\n",
        "    read_ptr = 0\n",
        "    write_ptr = 0\n",
        "    count = 1\n",
        "\n",
        "    # Iterate through the array\n",
        "    for i in range(1, len(chars)):\n",
        "        if chars[i] == chars[read_ptr]:\n",
        "            count += 1\n",
        "        else:\n",
        "            chars[write_ptr] = chars[read_ptr]\n",
        "            write_ptr += 1\n",
        "            if count > 1:\n",
        "                for digit in str(count):\n",
        "                    chars[write_ptr] = digit\n",
        "                    write_ptr += 1\n",
        "            count = 1\n",
        "            read_ptr = i\n",
        "\n",
        "    # Copy the last character and its count\n",
        "    chars[write_ptr] = chars[read_ptr]\n",
        "    write_ptr += 1\n",
        "    if count > 1:\n",
        "        for digit in str(count):\n",
        "            chars[write_ptr] = digit\n",
        "            write_ptr += 1\n",
        "\n",
        "    return write_ptr"
      ],
      "metadata": {
        "id": "ONg1ULF5hPOr"
      },
      "execution_count": 29,
      "outputs": []
    },
    {
      "cell_type": "code",
      "source": [
        "chars = [\"a\", \"a\", \"b\", \"b\", \"c\", \"c\", \"c\"]\n",
        "print(compress(chars))"
      ],
      "metadata": {
        "colab": {
          "base_uri": "https://localhost:8080/"
        },
        "id": "uN5SYI2BiXs9",
        "outputId": "22131642-bbe1-4483-ba23-52caeec6cf69"
      },
      "execution_count": 30,
      "outputs": [
        {
          "output_type": "stream",
          "name": "stdout",
          "text": [
            "6\n"
          ]
        }
      ]
    },
    {
      "cell_type": "markdown",
      "source": [
        "The time complexity of this brute force approach is O(n), where n is the length of the input character array. We iterate through the array once.\n",
        "\n",
        "The space complexity is O(1) since we modify the input array in place without using any extra space."
      ],
      "metadata": {
        "id": "PmtablUqih9L"
      }
    },
    {
      "cell_type": "markdown",
      "source": [
        "💡 **Question 6**\n",
        "\n",
        "Given two strings s and p, return *an array of all the start indices of* p*'s anagrams in* s. You may return the answer in **any order**.\n",
        "\n",
        "An **Anagram** is a word or phrase formed by rearranging the letters of a different word or phrase, typically using all the original letters exactly once.\n",
        "\n",
        "**Example 1:**\n",
        "\n",
        "**Input:** s = \"cbaebabacd\", p = \"abc\"\n",
        "\n",
        "**Output:** [0,6]\n",
        "\n",
        "**Explanation:**\n",
        "\n",
        "The substring with start index = 0 is \"cba\", which is an anagram of \"abc\".\n",
        "\n",
        "The substring with start index = 6 is \"bac\", which is an anagram of \"abc\"."
      ],
      "metadata": {
        "id": "KdVaP3BIil2B"
      }
    },
    {
      "cell_type": "markdown",
      "source": [
        "**Ans**"
      ],
      "metadata": {
        "id": "QZMh-VkUizsh"
      }
    },
    {
      "cell_type": "markdown",
      "source": [
        "**Solution Approach 1 : brute force approach**\n",
        "<br>The brute force approach involves checking every substring of length equal to the length of p in s to determine if it is an anagram of p. "
      ],
      "metadata": {
        "id": "BFsyfP-zjOvg"
      }
    },
    {
      "cell_type": "code",
      "source": [
        "def findAnagrams_brute_force(s, p):\n",
        "    result = []\n",
        "    p_count = [0] * 26  # Assuming lowercase English letters\n",
        "\n",
        "    # Count the frequency of characters in p\n",
        "    for char in p:\n",
        "        p_count[ord(char) - ord('a')] += 1\n",
        "\n",
        "    # Check every substring of length equal to p in s\n",
        "    for i in range(len(s) - len(p) + 1):\n",
        "        s_count = [0] * 26\n",
        "\n",
        "        # Count the frequency of characters in the current substring\n",
        "        for j in range(i, i + len(p)):\n",
        "            s_count[ord(s[j]) - ord('a')] += 1\n",
        "\n",
        "        # Compare the character counts of p and the current substring\n",
        "        if s_count == p_count:\n",
        "            result.append(i)\n",
        "\n",
        "    return result"
      ],
      "metadata": {
        "id": "naTfSrfGjYrn"
      },
      "execution_count": 31,
      "outputs": []
    },
    {
      "cell_type": "code",
      "source": [
        "s = \"cbaebabacd\"\n",
        "p = \"abc\"\n",
        "print(findAnagrams_brute_force(s, p))"
      ],
      "metadata": {
        "colab": {
          "base_uri": "https://localhost:8080/"
        },
        "id": "_osLMlKQji8y",
        "outputId": "cf3da4b1-7bd2-4f85-f3d7-f17f12532ce4"
      },
      "execution_count": 32,
      "outputs": [
        {
          "output_type": "stream",
          "name": "stdout",
          "text": [
            "[0, 6]\n"
          ]
        }
      ]
    },
    {
      "cell_type": "markdown",
      "source": [
        "# Discussion :\n",
        "The time complexity of this approach is O((m-n) * n), where m is the length of s and n is the length of p. This is because we check every substring of length n in s, and for each substring, we compare the character counts with p, which takes O(n) time.\n",
        "\n",
        "The space complexity is O(1) because we use fixed-size arrays for counting the characters."
      ],
      "metadata": {
        "id": "kdNO5zqhjnrB"
      }
    },
    {
      "cell_type": "markdown",
      "source": [
        "**Optimized Approach using Sliding Window:**"
      ],
      "metadata": {
        "id": "Cs_WUdkpjvTh"
      }
    },
    {
      "cell_type": "code",
      "source": [
        "def findAnagrams_sliding_window(s, p):\n",
        "    result = []\n",
        "    p_count = [0] * 26  # Assuming lowercase English letters\n",
        "    s_count = [0] * 26\n",
        "\n",
        "    # Count the frequency of characters in p\n",
        "    for char in p:\n",
        "        p_count[ord(char) - ord('a')] += 1\n",
        "\n",
        "    # Initialize the sliding window\n",
        "    for i in range(len(p)):\n",
        "        s_count[ord(s[i]) - ord('a')] += 1\n",
        "\n",
        "    # Slide the window and compare character counts\n",
        "    for i in range(len(s) - len(p)):\n",
        "        if s_count == p_count:\n",
        "            result.append(i)\n",
        "\n",
        "        # Update the sliding window\n",
        "        s_count[ord(s[i]) - ord('a')] -= 1\n",
        "        s_count[ord(s[i + len(p)]) - ord('a')] += 1\n",
        "\n",
        "    # Check the last window\n",
        "    if s_count == p_count:\n",
        "        result.append(len(s) - len(p))\n",
        "\n",
        "    return result"
      ],
      "metadata": {
        "id": "EOaiSBbXj1VB"
      },
      "execution_count": 33,
      "outputs": []
    },
    {
      "cell_type": "code",
      "source": [
        "s = \"cbaebabacd\"\n",
        "p = \"abc\"\n",
        "print(findAnagrams_sliding_window(s, p))"
      ],
      "metadata": {
        "colab": {
          "base_uri": "https://localhost:8080/"
        },
        "id": "ZiumVYxOj-LZ",
        "outputId": "85bc5bd0-c874-4440-a198-9ae045123404"
      },
      "execution_count": 34,
      "outputs": [
        {
          "output_type": "stream",
          "name": "stdout",
          "text": [
            "[0, 6]\n"
          ]
        }
      ]
    },
    {
      "cell_type": "markdown",
      "source": [
        "# Discussion :\n",
        "The time complexity of the optimized approach is O(m), where m is the length of s. We iterate through s only once, sliding the window and updating the character counts in constant time.\n",
        "\n",
        "The space complexity is O(1) because we use fixed-size arrays for counting the characters."
      ],
      "metadata": {
        "id": "ldPXHIE5kBtp"
      }
    },
    {
      "cell_type": "markdown",
      "source": [
        "💡 **Question 7**\n",
        "\n",
        "Given an encoded string, return its decoded string.\n",
        "\n",
        "The encoding rule is: k[encoded_string], where the encoded_string inside the square brackets is being repeated exactly k times. Note that k is guaranteed to be a positive integer.\n",
        "\n",
        "You may assume that the input string is always valid; there are no extra white spaces, square brackets are well-formed, etc. Furthermore, you may assume that the original data does not contain any digits and that digits are only for those repeat numbers, k. For example, there will not be input like 3a or 2[4].\n",
        "\n",
        "The test cases are generated so that the length of the output will never exceed 105.\n",
        "\n",
        "**Example 1:**\n",
        "\n",
        "**Input:** s = \"3[a]2[bc]\"\n",
        "\n",
        "**Output:** \"aaabcbc\""
      ],
      "metadata": {
        "id": "YNfMWNYOkJrD"
      }
    },
    {
      "cell_type": "markdown",
      "source": [
        "**Ans**"
      ],
      "metadata": {
        "id": "QVQyZEHAlejq"
      }
    },
    {
      "cell_type": "markdown",
      "source": [
        "**Solution Approach 1**\n",
        "<br>\n",
        "1. If the current character is a digit, we'll extract the complete number and push it onto the stack.\n",
        "2. If the current character is an opening square bracket '[', we'll push an empty string onto the stack to keep track of the characters inside the brackets.\n",
        "3. If the current character is a closing square bracket ']', we'll decode the characters inside the brackets by popping characters from the stack until we encounter an opening bracket. We'll also pop the previous number from the stack and repeat the decoded characters that number of times. Finally, we'll append the decoded characters to the top of the stack.\n",
        "4. If the current character is a letter, we'll append it to the top of the stack.\n",
        "<br>After processing the entire string, the resulting decoded string will be at the top of the stack."
      ],
      "metadata": {
        "id": "5XF9dA3xkU7Y"
      }
    },
    {
      "cell_type": "code",
      "source": [
        "def decodeString_brute_force(s):\n",
        "    stack = []\n",
        "    for char in s:\n",
        "        if char == ']':\n",
        "            decoded_str = ''\n",
        "            while stack[-1] != '[':\n",
        "                decoded_str = stack.pop() + decoded_str\n",
        "            stack.pop()  # Pop the '['\n",
        "\n",
        "            repeat_num = ''\n",
        "            while stack and stack[-1].isdigit():\n",
        "                repeat_num = stack.pop() + repeat_num\n",
        "            repeat_num = int(repeat_num)\n",
        "\n",
        "            decoded_str *= repeat_num\n",
        "            stack.append(decoded_str)\n",
        "        else:\n",
        "            stack.append(char)\n",
        "\n",
        "    return ''.join(stack)"
      ],
      "metadata": {
        "id": "Y7E0KDM0kUXy"
      },
      "execution_count": 35,
      "outputs": []
    },
    {
      "cell_type": "code",
      "source": [
        "s = \"3[a]2[bc]\"\n",
        "print(decodeString_brute_force(s))"
      ],
      "metadata": {
        "colab": {
          "base_uri": "https://localhost:8080/"
        },
        "id": "5n7hKBKHlzd4",
        "outputId": "00fc0d1f-451f-47b5-e0e0-741e4be10a7e"
      },
      "execution_count": 36,
      "outputs": [
        {
          "output_type": "stream",
          "name": "stdout",
          "text": [
            "aaabcbc\n"
          ]
        }
      ]
    },
    {
      "cell_type": "markdown",
      "source": [
        "# Discussion :\n",
        "The time complexity of this approach is O(n * k), where n is the length of the input string and k is the maximum repetition number encountered. In the worst case, if k is large, we may repeat the decoding process k times.\n",
        "\n",
        "The space complexity is O(n) because in the worst case, the stack can hold the entire input string."
      ],
      "metadata": {
        "id": "9mWMmWN7l5YJ"
      }
    },
    {
      "cell_type": "markdown",
      "source": [
        "**Solution Approach 2: Optimized Approach using Stack:**\n"
      ],
      "metadata": {
        "id": "ius9fd06mBdS"
      }
    },
    {
      "cell_type": "code",
      "source": [
        "def decodeString_optimized(s):\n",
        "    stack = []\n",
        "    current_num = 0\n",
        "    current_str = ''\n",
        "\n",
        "    for char in s:\n",
        "        if char.isdigit():\n",
        "            current_num = current_num * 10 + int(char)\n",
        "        elif char == '[':\n",
        "            stack.append(current_str)\n",
        "            stack.append(current_num)\n",
        "            current_str = ''\n",
        "            current_num = 0\n",
        "        elif char == ']':\n",
        "            repeat_num = stack.pop()\n",
        "            prev_str = stack.pop()\n",
        "            current_str = prev_str + current_str * repeat_num\n",
        "        else:\n",
        "            current_str += char\n",
        "\n",
        "    return current_str"
      ],
      "metadata": {
        "id": "BZp7-g0mmZ5j"
      },
      "execution_count": 37,
      "outputs": []
    },
    {
      "cell_type": "code",
      "source": [
        "s = \"3[a]2[bc]\"\n",
        "print(decodeString_optimized(s))"
      ],
      "metadata": {
        "colab": {
          "base_uri": "https://localhost:8080/"
        },
        "id": "gW-FY8dImocK",
        "outputId": "927b0996-cbc6-4787-b588-eeecafb3c12a"
      },
      "execution_count": 38,
      "outputs": [
        {
          "output_type": "stream",
          "name": "stdout",
          "text": [
            "aaabcbc\n"
          ]
        }
      ]
    },
    {
      "cell_type": "markdown",
      "source": [
        "# Discussion :\n",
        "The time complexity of the optimized approach is O(n), where n is the length of the input string. We process each character once and perform constant-time operations.\n",
        "\n",
        "The space complexity is O(n) because in the worst case, the stack can hold the entire input string."
      ],
      "metadata": {
        "id": "tNTiJxSqmvY6"
      }
    },
    {
      "cell_type": "markdown",
      "source": [
        "💡 **Question 8**\n",
        "\n",
        "Given two strings s and goal, return true *if you can swap two letters in* s *so the result is equal to* goal*, otherwise, return* false*.*\n",
        "\n",
        "Swapping letters is defined as taking two indices i and j (0-indexed) such that i != j and swapping the characters at s[i] and s[j].\n",
        "\n",
        "- For example, swapping at indices 0 and 2 in \"abcd\" results in \"cbad\".\n",
        "\n",
        "**Example 1:**\n",
        "\n",
        "**Input:** s = \"ab\", goal = \"ba\"\n",
        "\n",
        "**Output:** true\n",
        "\n",
        "**Explanation:** You can swap s[0] = 'a' and s[1] = 'b' to get \"ba\", which is equal to goal."
      ],
      "metadata": {
        "id": "Megb82V4m4Bj"
      }
    },
    {
      "cell_type": "markdown",
      "source": [
        "**Ans**"
      ],
      "metadata": {
        "id": "X82oVTqLpAwS"
      }
    },
    {
      "cell_type": "markdown",
      "source": [
        "**Solution Approach 1**\n",
        "<br>**Brute Force Approach:**\n",
        "The brute force approach involves checking all possible pairs of indices in s to see if swapping the characters at those indices can result in the goal string. "
      ],
      "metadata": {
        "id": "suEjDrVBpHdx"
      }
    },
    {
      "cell_type": "code",
      "source": [
        "def buddyStrings_brute_force(s, goal):\n",
        "    if len(s) != len(goal):\n",
        "        return False\n",
        "    \n",
        "    if s == goal:\n",
        "        # Check if s contains any repeated characters\n",
        "        seen = set()\n",
        "        for char in s:\n",
        "            if char in seen:\n",
        "                return True\n",
        "            seen.add(char)\n",
        "        return False\n",
        "    \n",
        "    diffs = []\n",
        "    for i in range(len(s)):\n",
        "        if s[i] != goal[i]:\n",
        "            diffs.append(i)\n",
        "            \n",
        "    if len(diffs) != 2:\n",
        "        return False\n",
        "    \n",
        "    i, j = diffs\n",
        "    return s[i] == goal[j] and s[j] == goal[i]"
      ],
      "metadata": {
        "id": "IojyYDPpmyGv"
      },
      "execution_count": 39,
      "outputs": []
    },
    {
      "cell_type": "code",
      "source": [
        "s = \"ab\"\n",
        "goal = \"ba\"\n",
        "print(buddyStrings_brute_force(s, goal))"
      ],
      "metadata": {
        "colab": {
          "base_uri": "https://localhost:8080/"
        },
        "id": "kR_2IUo1psEW",
        "outputId": "64c7e40e-7b31-4de8-8a3e-4f99a41ef3c6"
      },
      "execution_count": 40,
      "outputs": [
        {
          "output_type": "stream",
          "name": "stdout",
          "text": [
            "True\n"
          ]
        }
      ]
    },
    {
      "cell_type": "markdown",
      "source": [
        "# Discussion :\n",
        "The time complexity of this approach is O(n), where n is the length of the input strings. We check all characters in s and goal in the worst case.\n",
        "\n",
        "The space complexity is O(n) because we use a list to store the differing indices."
      ],
      "metadata": {
        "id": "F5PAzP62qFk5"
      }
    },
    {
      "cell_type": "markdown",
      "source": [
        "**Optimized Approach:**<br>\n",
        "The optimized approach uses a more efficient strategy. We check if s and goal are equal or not. If they are equal, we need to check if s contains any repeated characters. Otherwise, we find the differing indices and check if swapping the characters at those indices results in the goal string."
      ],
      "metadata": {
        "id": "terlpVBoqNTo"
      }
    },
    {
      "cell_type": "code",
      "source": [
        "def buddyStrings(s, goal):\n",
        "    if len(s) != len(goal):\n",
        "        return False\n",
        "    \n",
        "    if s == goal:\n",
        "        # Check if s contains any repeated characters\n",
        "        return len(set(s)) < len(s)\n",
        "    \n",
        "    diffs = []\n",
        "    for i in range(len(s)):\n",
        "        if s[i] != goal[i]:\n",
        "            diffs.append(i)\n",
        "            \n",
        "    return len(diffs) == 2 and s[diffs[0]] == goal[diffs[1]] and s[diffs[1]] == goal[diffs[0]]"
      ],
      "metadata": {
        "id": "IF9i3ejQqVbx"
      },
      "execution_count": 41,
      "outputs": []
    },
    {
      "cell_type": "code",
      "source": [
        "s = \"ab\"\n",
        "goal = \"ba\"\n",
        "print(buddyStrings(s, goal))"
      ],
      "metadata": {
        "colab": {
          "base_uri": "https://localhost:8080/"
        },
        "id": "_MOPkOpTqgKI",
        "outputId": "e50d0bac-5407-4f6f-c238-570d787751c6"
      },
      "execution_count": 42,
      "outputs": [
        {
          "output_type": "stream",
          "name": "stdout",
          "text": [
            "True\n"
          ]
        }
      ]
    },
    {
      "cell_type": "markdown",
      "source": [
        "# Discussion :\n",
        "The time complexity of the optimized approach is O(n), where n is the length of the input strings. We iterate through the strings once to check for equality or find the differing indices.\n",
        "\n",
        "The space complexity is O(1) because we use a fixed amount of additional space to store the differing indices."
      ],
      "metadata": {
        "id": "kGejh8IYrIAv"
      }
    }
  ]
}