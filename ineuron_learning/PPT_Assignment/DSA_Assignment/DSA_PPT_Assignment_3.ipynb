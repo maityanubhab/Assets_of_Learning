{
  "nbformat": 4,
  "nbformat_minor": 0,
  "metadata": {
    "colab": {
      "provenance": []
    },
    "kernelspec": {
      "name": "python3",
      "display_name": "Python 3"
    },
    "language_info": {
      "name": "python"
    }
  },
  "cells": [
    {
      "cell_type": "markdown",
      "source": [
        "**💡 Question 1**\n",
        "Given an integer array nums of length n and an integer target, find three integers\n",
        "in nums such that the sum is closest to the target.\n",
        "Return the sum of the three integers.\n",
        "\n",
        "You may assume that each input would have exactly one solution.\n",
        "\n",
        "Example 1:\n",
        "Input: nums = [-1,2,1,-4], target = 1\n",
        "Output: 2\n",
        "\n",
        "Explanation: The sum that is closest to the target is 2. (-1 + 2 + 1 = 2)."
      ],
      "metadata": {
        "id": "OuF9XvR5O9hv"
      }
    },
    {
      "cell_type": "markdown",
      "source": [
        "**Solution Approach 1**\n",
        "<br>The brute force approach to solve this problem would be to try all possible combinations of three integers from the array nums and calculate their sum. We can iterate over each combination of three integers, calculate their sum, and keep track of the sum closest to the target."
      ],
      "metadata": {
        "id": "wAUPm0XFPIse"
      }
    },
    {
      "cell_type": "code",
      "source": [
        "# Brute Force Approach\n",
        "import sys\n",
        "\n",
        "def threeSumClosest(nums, target):\n",
        "    n = len(nums)\n",
        "    closest_sum = sys.maxsize\n",
        "\n",
        "    for i in range(n - 2):\n",
        "        for j in range(i + 1, n - 1):\n",
        "            for k in range(j + 1, n):\n",
        "                curr_sum = nums[i] + nums[j] + nums[k]\n",
        "                if abs(curr_sum - target) < abs(closest_sum - target):\n",
        "                    closest_sum = curr_sum\n",
        "\n",
        "    return closest_sum"
      ],
      "metadata": {
        "id": "40d0b7hsP0Nv"
      },
      "execution_count": 1,
      "outputs": []
    },
    {
      "cell_type": "code",
      "source": [
        "# Test case\n",
        "nums = [-1, 2, 1, -4]\n",
        "target = 1\n",
        "print(threeSumClosest(nums, target))"
      ],
      "metadata": {
        "colab": {
          "base_uri": "https://localhost:8080/"
        },
        "id": "IdVZPxgEP06v",
        "outputId": "af754903-c0a3-4004-9905-72f5c014855c"
      },
      "execution_count": 2,
      "outputs": [
        {
          "output_type": "stream",
          "name": "stdout",
          "text": [
            "2\n"
          ]
        }
      ]
    },
    {
      "cell_type": "markdown",
      "source": [
        "# Discussion :\n",
        "The time complexity of this approach is O(n^3), where n is the length of the input array nums. We iterate over all combinations of three integers from the array, resulting in three nested loops.\n",
        "\n",
        "The space complexity is O(1) because we are not using any additional data structures that grow with the input size."
      ],
      "metadata": {
        "id": "rBB8rcgBQFWQ"
      }
    },
    {
      "cell_type": "markdown",
      "source": [
        "**Solution Approach 2**\n",
        "<br>An optimized approach to solve this problem is to sort the array nums in ascending order. We can then fix one number and use two pointers to find the other two numbers that give the sum closest to the target. We iterate over the array and for each fixed number, we use two pointers (left and right) to search for the other two numbers. We update the closest sum whenever we find a sum closer to the target."
      ],
      "metadata": {
        "id": "P2ZpIR-5QNw_"
      }
    },
    {
      "cell_type": "code",
      "source": [
        "# Optimized Approach\n",
        "import sys\n",
        "\n",
        "def threeSumClosest2(nums, target):\n",
        "    nums.sort()\n",
        "    n = len(nums)\n",
        "    closest_sum = sys.maxsize\n",
        "\n",
        "    for i in range(n - 2):\n",
        "        left = i + 1\n",
        "        right = n - 1\n",
        "\n",
        "        while left < right:\n",
        "            curr_sum = nums[i] + nums[left] + nums[right]\n",
        "            if curr_sum == target:\n",
        "                return curr_sum\n",
        "\n",
        "            if abs(curr_sum - target) < abs(closest_sum - target):\n",
        "                closest_sum = curr_sum\n",
        "\n",
        "            if curr_sum < target:\n",
        "                left += 1\n",
        "            else:\n",
        "                right -= 1\n",
        "\n",
        "    return closest_sum"
      ],
      "metadata": {
        "id": "2aEcFB0iQW24"
      },
      "execution_count": 3,
      "outputs": []
    },
    {
      "cell_type": "code",
      "execution_count": 4,
      "metadata": {
        "colab": {
          "base_uri": "https://localhost:8080/"
        },
        "id": "dcGcqy96O41_",
        "outputId": "b00b03b0-a6c1-4b72-aeb1-360d91ab813b"
      },
      "outputs": [
        {
          "output_type": "stream",
          "name": "stdout",
          "text": [
            "2\n"
          ]
        }
      ],
      "source": [
        "# Test case\n",
        "nums = [-1, 2, 1, -4]\n",
        "target = 1\n",
        "print(threeSumClosest2(nums, target))"
      ]
    },
    {
      "cell_type": "markdown",
      "source": [
        "# Discussion :\n",
        "The time complexity of this optimized approach is O(n^2), where n is the length of the input array nums. We sort the array in O(nlogn) time and then iterate over the array using two pointers, resulting in O(n^2) time complexity.\n",
        "\n",
        "The space complexity is O(1) because we are not using any additional data structures that grow with the input size."
      ],
      "metadata": {
        "id": "jR7JzmiZQl1_"
      }
    },
    {
      "cell_type": "markdown",
      "source": [
        "**💡 Question 2**\n",
        "Given an array nums of n integers, return an array of all the unique quadruplets\n",
        "[nums[a], nums[b], nums[c], nums[d]] such that:\n",
        "           ● 0 <= a, b, c, d < n\n",
        "           ● a, b, c, and d are distinct.\n",
        "           ● nums[a] + nums[b] + nums[c] + nums[d] == target\n",
        "\n",
        "You may return the answer in any order.\n",
        "\n",
        "Example 1:\n",
        "Input: nums = [1,0,-1,0,-2,2], target = 0\n",
        "Output: [[-2,-1,1,2],[-2,0,0,2],[-1,0,0,1]]"
      ],
      "metadata": {
        "id": "Mcn24iKrQuRf"
      }
    },
    {
      "cell_type": "markdown",
      "source": [
        "\n",
        "**Solution Approach 1**\n",
        "<br>The brute force approach to solve this problem would be to try all possible combinations of four integers from the array nums and check if their sum equals the target. We can iterate over each combination of four integers, calculate their sum, and store the unique quadruplets that satisfy the condition."
      ],
      "metadata": {
        "id": "jbi8nS8vQ6im"
      }
    },
    {
      "cell_type": "code",
      "source": [
        "# Brute Force Approach\n",
        "def fourSum(nums, target):\n",
        "    n = len(nums)\n",
        "    quadruplets = []\n",
        "    nums.sort()\n",
        "\n",
        "    for i in range(n - 3):\n",
        "        for j in range(i + 1, n - 2):\n",
        "            for k in range(j + 1, n - 1):\n",
        "                for l in range(k + 1, n):\n",
        "                    if nums[i] + nums[j] + nums[k] + nums[l] == target:\n",
        "                        quadruplet = [nums[i], nums[j], nums[k], nums[l]]\n",
        "                        quadruplets.append(quadruplet)\n",
        "\n",
        "    return quadruplets"
      ],
      "metadata": {
        "id": "Xmhnw04zRXIp"
      },
      "execution_count": 7,
      "outputs": []
    },
    {
      "cell_type": "code",
      "source": [
        "# Test case\n",
        "nums = [1, 0, -1, 0, -2, 2]\n",
        "target = 0\n",
        "print(fourSum(nums, target))"
      ],
      "metadata": {
        "colab": {
          "base_uri": "https://localhost:8080/"
        },
        "id": "m2MNtPV0RXR3",
        "outputId": "a3409c2f-df61-4f12-ed2b-18bc13bbefa1"
      },
      "execution_count": 8,
      "outputs": [
        {
          "output_type": "stream",
          "name": "stdout",
          "text": [
            "[[-2, -1, 1, 2], [-2, 0, 0, 2], [-1, 0, 0, 1]]\n"
          ]
        }
      ]
    },
    {
      "cell_type": "markdown",
      "source": [
        "# Discussion :\n",
        "Time Complexity: The time complexity of the brute force approach is O(n^4), where n is the length of the input array nums. The nested loops iterate over all possible combinations of four elements in nums, resulting in a cubic time complexity. Sorting the array takes O(n log n) time. Therefore, the overall time complexity is O(n^4 + n log n), which simplifies to O(n^4).\n",
        "\n",
        "Space Complexity: The space complexity is O(1) since we are not using any additional data structures that grow with the input size."
      ],
      "metadata": {
        "id": "DqW4LGpPSS5P"
      }
    },
    {
      "cell_type": "markdown",
      "source": [
        "**Solution Approach 2**\n",
        "<br> An optimized approach to solve this problem is to use a combination of sorting and two-pointers technique. We first sort the array nums in ascending order. Then, we fix two elements using two nested loops and use two pointers (left and right) to find the other two elements that give the sum equal to the target. We skip duplicate elements to avoid duplicate quadruplets."
      ],
      "metadata": {
        "id": "uru3NgRLSqoX"
      }
    },
    {
      "cell_type": "code",
      "source": [
        "# Optimized Approach\n",
        "def fourSum2(nums, target):\n",
        "    nums.sort()\n",
        "    n = len(nums)\n",
        "    quadruplets = []\n",
        "\n",
        "    for i in range(n - 3):\n",
        "        if i > 0 and nums[i] == nums[i - 1]:\n",
        "            continue\n",
        "\n",
        "        for j in range(i + 1, n - 2):\n",
        "            if j > i + 1 and nums[j] == nums[j - 1]:\n",
        "                continue\n",
        "\n",
        "            left = j + 1\n",
        "            right = n - 1\n",
        "\n",
        "            while left < right:\n",
        "                curr_sum = nums[i] + nums[j] + nums[left] + nums[right]\n",
        "\n",
        "                if curr_sum == target:\n",
        "                    quadruplet = [nums[i], nums[j], nums[left], nums[right]]\n",
        "                    quadruplets.append(quadruplet)\n",
        "\n",
        "                    while left < right and nums[left] == nums[left + 1]:\n",
        "                        left += 1\n",
        "                    while left < right and nums[right] == nums[right - 1]:\n",
        "                        right -= 1\n",
        "\n",
        "                    left += 1\n",
        "                    right -= 1\n",
        "\n",
        "                elif curr_sum < target:\n",
        "                    left += 1\n",
        "                else:\n",
        "                    right -= 1\n",
        "\n",
        "    return quadruplets"
      ],
      "metadata": {
        "id": "pqUpCzFyS2qJ"
      },
      "execution_count": 9,
      "outputs": []
    },
    {
      "cell_type": "code",
      "source": [
        "# Test case\n",
        "nums = [1, 0, -1, 0, -2, 2]\n",
        "target = 0\n",
        "print(fourSum2(nums, target))"
      ],
      "metadata": {
        "colab": {
          "base_uri": "https://localhost:8080/"
        },
        "id": "A04PNx7TTAGX",
        "outputId": "25ae1e23-c9be-4f55-dfbf-39d1e0fff731"
      },
      "execution_count": 10,
      "outputs": [
        {
          "output_type": "stream",
          "name": "stdout",
          "text": [
            "[[-2, -1, 1, 2], [-2, 0, 0, 2], [-1, 0, 0, 1]]\n"
          ]
        }
      ]
    },
    {
      "cell_type": "markdown",
      "source": [
        "# Discussion :\n",
        "Time Complexity: The time complexity of the optimized approach is O(n^3), where n is the length of the input array nums. The two outer loops iterate over all possible combinations of two elements, and the inner while loop performs a two-pointer search, resulting in a cubic time complexity. Sorting the array takes O(n log n) time. Therefore, the overall time complexity is O(n^3 + n log n), which simplifies to O(n^3).\n",
        "\n",
        "Space Complexity: The space complexity is O(1) since we are not using any additional data structures that grow with the input size. The quadruplets are stored in a result array, but it is not considered in the space complexity analysis."
      ],
      "metadata": {
        "id": "U2wsVthsTGn-"
      }
    },
    {
      "cell_type": "markdown",
      "source": [
        "💡 **Question 3**\n",
        "A permutation of an array of integers is an arrangement of its members into a\n",
        "sequence or linear order.\n",
        "\n",
        "For example, for arr = [1,2,3], the following are all the permutations of arr:\n",
        "[1,2,3], [1,3,2], [2, 1, 3], [2, 3, 1], [3,1,2], [3,2,1].\n",
        "\n",
        "The next permutation of an array of integers is the next lexicographically greater\n",
        "permutation of its integer. More formally, if all the permutations of the array are\n",
        "sorted in one container according to their lexicographical order, then the next\n",
        "permutation of that array is the permutation that follows it in the sorted container.\n",
        "\n",
        "If such an arrangement is not possible, the array must be rearranged as the\n",
        "lowest possible order (i.e., sorted in ascending order).\n",
        "\n",
        "● For example, the next permutation of arr = [1,2,3] is [1,3,2].\n",
        "● Similarly, the next permutation of arr = [2,3,1] is [3,1,2].\n",
        "● While the next permutation of arr = [3,2,1] is [1,2,3] because [3,2,1] does not\n",
        "have a lexicographical larger rearrangement.\n",
        "\n",
        "Given an array of integers nums, find the next permutation of nums.\n",
        "The replacement must be in place and use only constant extra memory.\n",
        "\n",
        "**Example 1:**\n",
        "Input: nums = [1,2,3]\n",
        "Output: [1,3,2]"
      ],
      "metadata": {
        "id": "9xT8eRZ0TRxt"
      }
    },
    {
      "cell_type": "markdown",
      "source": [
        "**Solution Approach 1**\n",
        "<br>Generate all permutations of the given array.\n",
        "<br>Sort the permutations in lexicographical order.\n",
        "<br>Find the given array in the sorted list.\n",
        "<br>Return the next permutation after the given array."
      ],
      "metadata": {
        "id": "MjiJN98hThce"
      }
    },
    {
      "cell_type": "code",
      "source": [
        "# brute force approach\n",
        "import itertools\n",
        "\n",
        "def nextPermutation(nums):\n",
        "    # Generate all permutations\n",
        "    permutations = list(itertools.permutations(nums))\n",
        "\n",
        "    # Sort the permutations in lexicographical order\n",
        "    permutations.sort()\n",
        "\n",
        "    # Find the given array in the sorted list\n",
        "    index = permutations.index(tuple(nums))\n",
        "\n",
        "    # Return the next permutation after the given array\n",
        "    if index == len(permutations) - 1:\n",
        "        return list(permutations[0])\n",
        "    else:\n",
        "        return list(permutations[index + 1])"
      ],
      "metadata": {
        "id": "BVVkh82HUg3j"
      },
      "execution_count": 11,
      "outputs": []
    },
    {
      "cell_type": "code",
      "source": [
        "# Test case\n",
        "nums = [1, 2, 3]\n",
        "result = nextPermutation(nums)\n",
        "print(result)"
      ],
      "metadata": {
        "colab": {
          "base_uri": "https://localhost:8080/"
        },
        "id": "9_vxl0fiUhBf",
        "outputId": "c69f2387-716c-4a99-c030-b2b90d09f465"
      },
      "execution_count": 12,
      "outputs": [
        {
          "output_type": "stream",
          "name": "stdout",
          "text": [
            "[1, 3, 2]\n"
          ]
        }
      ]
    },
    {
      "cell_type": "markdown",
      "source": [
        "# Discussion :\n",
        "The time complexity of this brute force approach is O(N!), where N is the length of the array. Generating all permutations itself takes O(N!) time, and sorting them also requires O(N!) time. However, this approach is not efficient and becomes impractical for large arrays."
      ],
      "metadata": {
        "id": "q5qzn4i9Ut0Q"
      }
    },
    {
      "cell_type": "markdown",
      "source": [
        "**Solution Approach 2**\n",
        "<br>Start from the rightmost element of the array and find the first pair of adjacent elements (i, i+1) where nums[i] < nums[i+1]. This step finds the first element that can be swapped to create a larger permutation.\n",
        "<br>If no such pair exists, it means the given array is in decreasing order, and we need to rearrange it to the lowest possible order. In this case, reverse the entire array to get the lowest permutation and return it.\n",
        "<br>If a pair (i, i+1) is found, we need to find the next greater element to swap with nums[i]. To do this, start from the right end of the array and find the first element nums[j] such that nums[j] > nums[i].\n",
        "<br>Swap nums[i] with nums[j].\n",
        "<br>Reverse the subarray from nums[i+1] to the end of the array. This step ensures that the subarray becomes the smallest possible permutation.\n",
        "<br>The resulting array is the next lexicographically greater permutation."
      ],
      "metadata": {
        "id": "ApPNPOsMVEi9"
      }
    },
    {
      "cell_type": "code",
      "source": [
        "# optimized approach:\n",
        "def nextPermutation2(nums):\n",
        "    n = len(nums)\n",
        "    i = n - 2\n",
        "\n",
        "    # Find the first element to swap\n",
        "    while i >= 0 and nums[i] >= nums[i+1]:\n",
        "        i -= 1\n",
        "\n",
        "    if i >= 0:\n",
        "        j = n - 1\n",
        "        # Find the next greater element to swap with nums[i]\n",
        "        while j >= 0 and nums[j] <= nums[i]:\n",
        "            j -= 1\n",
        "        nums[i], nums[j] = nums[j], nums[i]\n",
        "\n",
        "    # Reverse the subarray\n",
        "    left = i + 1\n",
        "    right = n - 1\n",
        "    while left < right:\n",
        "        nums[left], nums[right] = nums[right], nums[left]\n",
        "        left += 1\n",
        "        right -= 1\n",
        "\n",
        "    return nums"
      ],
      "metadata": {
        "id": "gILnGy27VkER"
      },
      "execution_count": 13,
      "outputs": []
    },
    {
      "cell_type": "code",
      "source": [
        "# Test case\n",
        "nums = [1, 2, 3]\n",
        "result = nextPermutation2(nums)\n",
        "print(result)"
      ],
      "metadata": {
        "colab": {
          "base_uri": "https://localhost:8080/"
        },
        "id": "CY__IBW1Vk39",
        "outputId": "b64364aa-850e-4ae4-8439-b4cf2b6bee12"
      },
      "execution_count": 14,
      "outputs": [
        {
          "output_type": "stream",
          "name": "stdout",
          "text": [
            "[1, 3, 2]\n"
          ]
        }
      ]
    },
    {
      "cell_type": "markdown",
      "source": [
        "# Discussion :\n",
        "The time complexity of this optimized approach is O(N), where N is the length of the array. It involves a single pass through the array to find the elements to swap and reverse the subarray. \n",
        "\n",
        "The space complexity is O(1) as it uses only a constant amount of extra memory."
      ],
      "metadata": {
        "id": "xxOtqJJbV-N-"
      }
    },
    {
      "cell_type": "markdown",
      "source": [
        "**💡 Question 4**\n",
        "Given a sorted array of distinct integers and a target value, return the index if the\n",
        "target is found. If not, return the index where it would be if it were inserted in\n",
        "order.\n",
        "\n",
        "You must write an algorithm with O(log n) runtime complexity.\n",
        "\n",
        "Example 1:\n",
        "Input: nums = [1,3,5,6], target = 5\n",
        "Output: 2"
      ],
      "metadata": {
        "id": "JRSL5a6QWOL9"
      }
    },
    {
      "cell_type": "markdown",
      "source": [
        "**Solution Approach 1**\n",
        "<br>The brute force approach involves iterating through the sorted array and checking each element to determine the target's position. We compare the target with each element and return the index if the target is found or if the current element is greater than the target. If we reach the end of the array without finding a suitable position, we return the length of the array."
      ],
      "metadata": {
        "id": "S8-uRtByWY-I"
      }
    },
    {
      "cell_type": "code",
      "source": [
        "# Brute Force Approach\n",
        "def searchInsertBruteForce(nums, target):\n",
        "    for i in range(len(nums)):\n",
        "        if nums[i] == target or nums[i] > target:\n",
        "            return i\n",
        "    return len(nums)"
      ],
      "metadata": {
        "id": "aCD1xqvnXNjJ"
      },
      "execution_count": 15,
      "outputs": []
    },
    {
      "cell_type": "code",
      "source": [
        "# Test case\n",
        "nums = [1, 3, 5, 6]\n",
        "target = 5\n",
        "result_brute_force = searchInsertBruteForce(nums, target)\n",
        "print(result_brute_force)"
      ],
      "metadata": {
        "colab": {
          "base_uri": "https://localhost:8080/"
        },
        "id": "r27dkRuOXNuw",
        "outputId": "9a6e2901-f708-41e5-bff1-4cc16fd3d6c3"
      },
      "execution_count": 16,
      "outputs": [
        {
          "output_type": "stream",
          "name": "stdout",
          "text": [
            "2\n"
          ]
        }
      ]
    },
    {
      "cell_type": "markdown",
      "source": [
        "# Discussion :\n",
        "The time complexity of the brute force approach is O(N) since we may need to iterate through all elements in the worst case. \n",
        "\n",
        "The space complexity is O(1) as we only use a constant amount of extra memory."
      ],
      "metadata": {
        "id": "0vZuyAU4Xbsd"
      }
    },
    {
      "cell_type": "markdown",
      "source": [
        "**Solution Approach 2**\n",
        "<br>Since the input array is sorted, we can utilize the binary search algorithm to achieve O(log n) runtime complexity. The binary search approach repeatedly divides the search space in half to find the target or determine its correct insertion position."
      ],
      "metadata": {
        "id": "JyxJGkHLXkzN"
      }
    },
    {
      "cell_type": "code",
      "source": [
        "# Binary Search Approach\n",
        "def searchInsertBinarySearch(nums, target):\n",
        "    left, right = 0, len(nums) - 1\n",
        "\n",
        "    while left <= right:\n",
        "        mid = (left + right) // 2\n",
        "\n",
        "        if nums[mid] == target:\n",
        "            return mid\n",
        "        elif nums[mid] < target:\n",
        "            left = mid + 1\n",
        "        else:\n",
        "            right = mid - 1\n",
        "\n",
        "    return left"
      ],
      "metadata": {
        "id": "8twkA3RPXthu"
      },
      "execution_count": 17,
      "outputs": []
    },
    {
      "cell_type": "code",
      "source": [
        "# Test case\n",
        "nums = [1, 3, 5, 6]\n",
        "target = 5\n",
        "result_binary_search = searchInsertBinarySearch(nums, target)\n",
        "print(result_binary_search)"
      ],
      "metadata": {
        "colab": {
          "base_uri": "https://localhost:8080/"
        },
        "id": "AEPGkaKUXtrf",
        "outputId": "27b632d0-7246-4667-be43-68cecd3e7c7b"
      },
      "execution_count": 18,
      "outputs": [
        {
          "output_type": "stream",
          "name": "stdout",
          "text": [
            "2\n"
          ]
        }
      ]
    },
    {
      "cell_type": "markdown",
      "source": [
        "# Discussion :\n",
        "The time complexity of the binary search approach is O(log n) as we halve the search space in each iteration. \n",
        "\n",
        "The space complexity is O(1) since it uses only a constant amount of extra memory."
      ],
      "metadata": {
        "id": "Ogyr6YKAYFg-"
      }
    },
    {
      "cell_type": "markdown",
      "source": [
        "💡 **Question 5**\n",
        "You are given a large integer represented as an integer array digits, where each\n",
        "digits[i] is the ith digit of the integer. The digits are ordered from most significant\n",
        "to least significant in left-to-right order. The large integer does not contain any\n",
        "leading 0's.\n",
        "\n",
        "Increment the large integer by one and return the resulting array of digits.\n",
        "\n",
        "**Example 1:**\n",
        "Input: digits = [1,2,3]\n",
        "Output: [1,2,4]\n",
        "\n",
        "**Explanation:** The array represents the integer 123.\n",
        "Incrementing by one gives 123 + 1 = 124.\n",
        "Thus, the result should be [1,2,4]."
      ],
      "metadata": {
        "id": "BICdDTPEYXsl"
      }
    },
    {
      "cell_type": "markdown",
      "source": [
        "\n",
        "**Solution Approach 1**\n",
        "<br>The brute force approach involves converting the given integer array to an actual integer, incrementing it by one, and then converting it back to an array of digits."
      ],
      "metadata": {
        "id": "9C83LSHxZSfu"
      }
    },
    {
      "cell_type": "code",
      "source": [
        "# Brute Force Approach\n",
        "def plusOneBruteForce(digits):\n",
        "    num = 0\n",
        "\n",
        "    # Convert array to integer\n",
        "    for i in range(len(digits)):\n",
        "        num = num * 10 + digits[i]\n",
        "\n",
        "    # Increment by one\n",
        "    num += 1\n",
        "\n",
        "    # Convert back to array of digits\n",
        "    result = []\n",
        "    while num > 0:\n",
        "        result.insert(0, num % 10)\n",
        "        num //= 10\n",
        "\n",
        "    return result"
      ],
      "metadata": {
        "id": "WR0EkGinZxXw"
      },
      "execution_count": 19,
      "outputs": []
    },
    {
      "cell_type": "code",
      "source": [
        "# Test case\n",
        "digits = [1, 2, 3]\n",
        "result_brute_force = plusOneBruteForce(digits)\n",
        "print(result_brute_force) "
      ],
      "metadata": {
        "colab": {
          "base_uri": "https://localhost:8080/"
        },
        "id": "lRph2yNTZxpn",
        "outputId": "16f127e2-77de-4d07-b27e-ccd58ed287c2"
      },
      "execution_count": 20,
      "outputs": [
        {
          "output_type": "stream",
          "name": "stdout",
          "text": [
            "[1, 2, 4]\n"
          ]
        }
      ]
    },
    {
      "cell_type": "markdown",
      "source": [
        "# Discussion :\n",
        "The time complexity of the brute force approach is O(N), where N is the length of the input array. It involves converting the array to an integer, incrementing it, and then converting it back to an array. \n",
        "\n",
        "The space complexity is also O(N) as the resulting array can have at most N+1 digits."
      ],
      "metadata": {
        "id": "nI0OUgzYaEtV"
      }
    },
    {
      "cell_type": "markdown",
      "source": [
        "**Solution Approach 2**\n",
        "<br>An optimized approach directly modifies the input array from the least significant digit (rightmost) to the most significant digit (leftmost). We start by adding one to the least significant digit. If the digit becomes 10, we set it to zero and move to the next digit. This process continues until we encounter a non-nine digit or reach the most significant digit. If we reach the most significant digit and it becomes 10, we need to add an additional digit at the beginning."
      ],
      "metadata": {
        "id": "E0LeMjanas3-"
      }
    },
    {
      "cell_type": "code",
      "source": [
        "# Optimized Approach\n",
        "def plusOne(digits):\n",
        "    n = len(digits)\n",
        "    for i in range(n - 1, -1, -1):\n",
        "        if digits[i] < 9:\n",
        "            digits[i] += 1\n",
        "            return digits\n",
        "        digits[i] = 0\n",
        "\n",
        "    # Need to add an additional digit\n",
        "    digits.insert(0, 1)\n",
        "    return digits"
      ],
      "metadata": {
        "id": "k250kmlzc184"
      },
      "execution_count": 21,
      "outputs": []
    },
    {
      "cell_type": "code",
      "source": [
        "# Test case\n",
        "digits = [1, 2, 3]\n",
        "result_optimized = plusOne(digits)\n",
        "print(result_optimized)"
      ],
      "metadata": {
        "colab": {
          "base_uri": "https://localhost:8080/"
        },
        "id": "LWrXRhVQc2NN",
        "outputId": "ba781159-327c-4fbf-ff44-e7ec57eccd3e"
      },
      "execution_count": 22,
      "outputs": [
        {
          "output_type": "stream",
          "name": "stdout",
          "text": [
            "[1, 2, 4]\n"
          ]
        }
      ]
    },
    {
      "cell_type": "markdown",
      "source": [
        "# Discussion :\n",
        "The optimized approach modifies the input array in place, avoiding the need for converting back and forth between integers and arrays. It has a time complexity of O(N), where N is the length of the input array, as we iterate through the array at most once. \n",
        "\n",
        "The space complexity is O(1) as the modifications are made in place and we do not use any extra space proportional to the input size."
      ],
      "metadata": {
        "id": "4FO7-n7ZdU2_"
      }
    },
    {
      "cell_type": "markdown",
      "source": [
        "**💡 Question 6**\n",
        "Given a non-empty array of integers nums, every element appears twice except\n",
        "for one. Find that single one.\n",
        "\n",
        "You must implement a solution with a linear runtime complexity and use only\n",
        "constant extra space.\n",
        "\n",
        "Example 1:\n",
        "Input: nums = [2,2,1]\n",
        "Output: 1"
      ],
      "metadata": {
        "id": "5M27AIoPdlDk"
      }
    },
    {
      "cell_type": "markdown",
      "source": [
        "**Solution Approach 1**\n",
        "<br>The brute force approach involves iterating through the array and checking the count of each element. We can use a nested loop to compare each element with every other element and count their occurrences. Once we find an element with a count of 1, we return it as the single number."
      ],
      "metadata": {
        "id": "XcKWwFXQfvyH"
      }
    },
    {
      "cell_type": "code",
      "source": [
        "# Brute Force Approach\n",
        "def singleNumberBruteForce(nums):\n",
        "    for num in nums:\n",
        "        count = 0\n",
        "        for i in range(len(nums)):\n",
        "            if nums[i] == num:\n",
        "                count += 1\n",
        "        if count == 1:\n",
        "            return num"
      ],
      "metadata": {
        "id": "BYakgmc_gLXF"
      },
      "execution_count": 23,
      "outputs": []
    },
    {
      "cell_type": "code",
      "source": [
        "# Test case\n",
        "nums = [2, 2, 1]\n",
        "result_brute_force = singleNumberBruteForce(nums)\n",
        "print(result_brute_force)"
      ],
      "metadata": {
        "colab": {
          "base_uri": "https://localhost:8080/"
        },
        "id": "0tcxk_DjgLh6",
        "outputId": "b6a57c67-4a1f-4671-bde9-ccb0e25934a2"
      },
      "execution_count": 24,
      "outputs": [
        {
          "output_type": "stream",
          "name": "stdout",
          "text": [
            "1\n"
          ]
        }
      ]
    },
    {
      "cell_type": "markdown",
      "source": [
        "# Discussion :\n",
        "The time complexity of the brute force approach is O(N^2), where N is the length of the input array. It involves nested loops to compare each element with every other element. \n",
        "\n",
        "The space complexity is O(1) as we use only a constant amount of extra space."
      ],
      "metadata": {
        "id": "sZGtX5q4gaPc"
      }
    },
    {
      "cell_type": "markdown",
      "source": [
        "**Solution Approach 2**\n",
        "<br>An optimized approach utilizes the XOR operation. XORing a number with itself results in 0. If we XOR all the numbers in the array, the pairs will cancel each other out, and we will be left with the single number."
      ],
      "metadata": {
        "id": "4IvdDH0-gkoD"
      }
    },
    {
      "cell_type": "code",
      "source": [
        "# Optimized Approach (XOR operation)\n",
        "def singleNumber(nums):\n",
        "    result = 0\n",
        "    for num in nums:\n",
        "        result ^= num\n",
        "    return result"
      ],
      "metadata": {
        "id": "BO7gUN4XhD2-"
      },
      "execution_count": 25,
      "outputs": []
    },
    {
      "cell_type": "code",
      "source": [
        "# Test case\n",
        "nums = [2, 2, 1]\n",
        "result_optimized = singleNumber(nums)\n",
        "print(result_optimized) "
      ],
      "metadata": {
        "colab": {
          "base_uri": "https://localhost:8080/"
        },
        "id": "UIamSMlihEKr",
        "outputId": "a66113e9-abd9-48e1-c1c1-2d537ef1996d"
      },
      "execution_count": 26,
      "outputs": [
        {
          "output_type": "stream",
          "name": "stdout",
          "text": [
            "1\n"
          ]
        }
      ]
    },
    {
      "cell_type": "markdown",
      "source": [
        "# Discussion :\n",
        "The optimized approach XORs all the numbers in the array sequentially. The XOR operation has the property that XORing the same number twice cancels out, leaving only the single number as the result. Therefore, the resulting XOR value will be the single number in the array.\n",
        "\n",
        "The time complexity of the optimized approach is O(N), where N is the length of the input array, as we iterate through the array once. \n",
        "\n",
        "The space complexity is O(1) as it uses only a constant amount of extra space for the result variable."
      ],
      "metadata": {
        "id": "dxo_wRBLhffj"
      }
    },
    {
      "cell_type": "markdown",
      "source": [
        "**💡 Question 7**\n",
        "You are given an inclusive range [lower, upper] and a sorted unique integer array\n",
        "nums, where all elements are within the inclusive range.\n",
        "\n",
        "A number x is considered missing if x is in the range [lower, upper] and x is not in\n",
        "nums.\n",
        "\n",
        "Return the shortest sorted list of ranges that exactly covers all the missing\n",
        "numbers. That is, no element of nums is included in any of the ranges, and each\n",
        "missing number is covered by one of the ranges.\n",
        "\n",
        "Example 1:\n",
        "Input: nums = [0,1,3,50,75], lower = 0, upper = 99\n",
        "Output: [[2,2],[4,49],[51,74],[76,99]]\n",
        "\n",
        "Explanation: The ranges are:\n",
        "[2,2]\n",
        "[4,49]\n",
        "[51,74]\n",
        "[76,99]"
      ],
      "metadata": {
        "id": "kX4ophkyh0W9"
      }
    },
    {
      "cell_type": "markdown",
      "source": [
        "\n",
        "**Solution Approach 1**\n",
        "<br>The brute force approach involves iterating through each number in the inclusive range [lower, upper] and checking if it is missing in the given array nums. We can start with the lower bound and keep incrementing the number until we reach the upper bound. Whenever we find a missing number, we start a new range and continue until we reach the upper bound."
      ],
      "metadata": {
        "id": "rO33x3h-iCb7"
      }
    },
    {
      "cell_type": "code",
      "source": [
        "# Brute Force Approach\n",
        "def findMissingRangesBruteForce(nums, lower, upper):\n",
        "    missing_ranges = []\n",
        "    prev = lower - 1\n",
        "\n",
        "    for num in nums:\n",
        "        if num > prev + 1:\n",
        "            missing_ranges.append(getRange(prev + 1, num - 1))\n",
        "        prev = num\n",
        "\n",
        "    if upper > prev:\n",
        "        missing_ranges.append(getRange(prev + 1, upper))\n",
        "\n",
        "    return missing_ranges\n",
        "\n",
        "def getRange(start, end):\n",
        "    if start == end:\n",
        "        return [start]\n",
        "    else:\n",
        "        return [start, end]\n"
      ],
      "metadata": {
        "id": "QMOejXylikow"
      },
      "execution_count": 41,
      "outputs": []
    },
    {
      "cell_type": "code",
      "source": [
        "# Test case\n",
        "nums = [0, 1, 3, 50, 75]\n",
        "lower = 0\n",
        "upper = 99\n",
        "result_brute_force = findMissingRangesBruteForce(nums, lower, upper)\n",
        "print(result_brute_force)"
      ],
      "metadata": {
        "colab": {
          "base_uri": "https://localhost:8080/"
        },
        "id": "TMj5Dy6AlPdX",
        "outputId": "8da2d031-d403-4ece-dc5a-01bbdfac52e2"
      },
      "execution_count": 42,
      "outputs": [
        {
          "output_type": "stream",
          "name": "stdout",
          "text": [
            "[[2], [4, 49], [51, 74], [76, 99]]\n"
          ]
        }
      ]
    },
    {
      "cell_type": "markdown",
      "source": [
        "**Solution Approach 2**"
      ],
      "metadata": {
        "id": "XfjeX5p-mZ0j"
      }
    },
    {
      "cell_type": "code",
      "source": [
        "# Optimized Approach\n",
        "def findMissingRanges(nums, lower, upper):\n",
        "    missing_ranges = []\n",
        "    prev = lower - 1\n",
        "\n",
        "    for num in nums:\n",
        "        if num > prev + 1:\n",
        "            missing_ranges.append(getRange(prev + 1, num - 1))\n",
        "        prev = num\n",
        "\n",
        "    if upper > prev:\n",
        "        missing_ranges.append(getRange(prev + 1, upper))\n",
        "\n",
        "    return missing_ranges\n",
        "\n",
        "def getRange(start, end):\n",
        "    if start == end:\n",
        "        return [start]\n",
        "    else:\n",
        "        return [start, end]"
      ],
      "metadata": {
        "id": "4GBqpS4Xmo2W"
      },
      "execution_count": 43,
      "outputs": []
    },
    {
      "cell_type": "code",
      "source": [
        "# Test case\n",
        "nums = [0, 1, 3, 50, 75]\n",
        "lower = 0\n",
        "upper = 99\n",
        "result_optimized = findMissingRanges(nums, lower, upper)\n",
        "print(result_optimized) "
      ],
      "metadata": {
        "colab": {
          "base_uri": "https://localhost:8080/"
        },
        "id": "oU5FKyzlmpBd",
        "outputId": "a862da5c-7aab-4fb9-fc01-d8459b5ad4d8"
      },
      "execution_count": 44,
      "outputs": [
        {
          "output_type": "stream",
          "name": "stdout",
          "text": [
            "[[2], [4, 49], [51, 74], [76, 99]]\n"
          ]
        }
      ]
    },
    {
      "cell_type": "markdown",
      "source": [
        "# Discussion :\n",
        "In both the brute force and optimized approaches, the time complexity is O(n), where n is the length of the nums array. This is because we iterate through the nums array once.\n",
        "\n",
        "The space complexity is O(1) in both cases because we are using a constant amount of extra space to store the missing ranges. The space required does not depend on the input size."
      ],
      "metadata": {
        "id": "jSyA-fZZm2Ib"
      }
    },
    {
      "cell_type": "markdown",
      "source": [
        "**💡 Question 8**\n",
        "Given an array of meeting time intervals where intervals[i] = [starti, endi],\n",
        "determine if a person could attend all meetings.\n",
        "\n",
        "Example 1:\n",
        "Input: intervals = [[0,30],[5,10],[15,20]]\n",
        "Output: false"
      ],
      "metadata": {
        "id": "DVF6z9Brm85C"
      }
    },
    {
      "cell_type": "markdown",
      "source": [
        "**Solution Approach 1**\n",
        "<br>The brute force approach involves comparing each interval with every other interval to check for any overlaps. This can be done by iterating over the intervals and comparing their start and end times."
      ],
      "metadata": {
        "id": "TNcJaHZjnE6V"
      }
    },
    {
      "cell_type": "code",
      "source": [
        "# Brute Force Approach:\n",
        "def canAttendMeetingsBruteForce(intervals):\n",
        "    n = len(intervals)\n",
        "    for i in range(n):\n",
        "        for j in range(i + 1, n):\n",
        "            if intervals[i][0] < intervals[j][1] and intervals[j][0] < intervals[i][1]:\n",
        "                return False\n",
        "    return True"
      ],
      "metadata": {
        "id": "Y7RgJuK5nnkk"
      },
      "execution_count": 45,
      "outputs": []
    },
    {
      "cell_type": "code",
      "source": [
        "# Test cases\n",
        "intervals1 = [[0, 30], [5, 10], [15, 20]]\n",
        "print(canAttendMeetingsBruteForce(intervals1))"
      ],
      "metadata": {
        "colab": {
          "base_uri": "https://localhost:8080/"
        },
        "id": "Y1LTHVHZn1ij",
        "outputId": "8270bc6d-7980-4459-bac0-5b6e92ff814d"
      },
      "execution_count": 46,
      "outputs": [
        {
          "output_type": "stream",
          "name": "stdout",
          "text": [
            "False\n"
          ]
        }
      ]
    },
    {
      "cell_type": "markdown",
      "source": [
        "# Discussion :\n",
        "The time complexity of the brute force approach is O(n^2), where n is the number of intervals. \n",
        "\n",
        "The space complexity is O(1)."
      ],
      "metadata": {
        "id": "bCM8AqHNn_bb"
      }
    },
    {
      "cell_type": "markdown",
      "source": [
        "\n",
        "**Solution Approach 2**\n",
        "<br>The optimized approach involves sorting the intervals based on their start times. Then, we can iterate over the sorted intervals and check if the end time of the current interval is greater than the start time of the next interval. If it is, there is an overlap and we return False."
      ],
      "metadata": {
        "id": "B6dCl6aDoIeD"
      }
    },
    {
      "cell_type": "code",
      "source": [
        "def canAttendMeetings(intervals):\n",
        "    intervals.sort(key=lambda x: x[0])\n",
        "    n = len(intervals)\n",
        "    for i in range(n - 1):\n",
        "        if intervals[i][1] > intervals[i + 1][0]:\n",
        "            return False\n",
        "    return True"
      ],
      "metadata": {
        "id": "JkHZlw5MoYwr"
      },
      "execution_count": 47,
      "outputs": []
    },
    {
      "cell_type": "code",
      "source": [
        "# Test cases\n",
        "intervals1 = [[0, 30], [5, 10], [15, 20]]\n",
        "print(canAttendMeetings(intervals1))"
      ],
      "metadata": {
        "colab": {
          "base_uri": "https://localhost:8080/"
        },
        "id": "KakSND1woZCi",
        "outputId": "8cc6e0e0-c545-40c2-cb9f-803bc4f49e30"
      },
      "execution_count": 48,
      "outputs": [
        {
          "output_type": "stream",
          "name": "stdout",
          "text": [
            "False\n"
          ]
        }
      ]
    },
    {
      "cell_type": "markdown",
      "source": [
        "# Discussion :\n",
        "The time complexity of the optimized approach is O(n log n) due to the sorting step. \n",
        "\n",
        "The space complexity is O(1)."
      ],
      "metadata": {
        "id": "YuVmFYfVokJS"
      }
    }
  ]
}