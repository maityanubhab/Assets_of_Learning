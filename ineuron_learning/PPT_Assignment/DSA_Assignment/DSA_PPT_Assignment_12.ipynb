{
  "nbformat": 4,
  "nbformat_minor": 0,
  "metadata": {
    "colab": {
      "provenance": []
    },
    "kernelspec": {
      "name": "python3",
      "display_name": "Python 3"
    },
    "language_info": {
      "name": "python"
    }
  },
  "cells": [
    {
      "cell_type": "markdown",
      "source": [
        "💡 **Question 1**\n",
        "\n",
        "Given a singly linked list, delete **middle** of the linked list. For example, if given linked list is 1->2->**3**->4->5 then linked list should be modified to 1->2->4->5.If there are **even** nodes, then there would be **two middle** nodes, we need to delete the second middle element. For example, if given linked list is 1->2->3->4->5->6 then it should be modified to 1->2->3->5->6.If the input linked list is NULL or has 1 node, then it should return NULL\n",
        "\n",
        "**Example 1:**\n",
        "<br>Input:\n",
        "<br>LinkedList: 1->2->3->4->5\n",
        "<br>Output:1 2 4 5\n",
        "\n",
        "**Example 2:**\n",
        "<br>Input:\n",
        "<br>LinkedList: 2->4->6->7->5->1\n",
        "<br>Output:2 4 6 5 1"
      ],
      "metadata": {
        "id": "wbkTxz1nrdRV"
      }
    },
    {
      "cell_type": "markdown",
      "source": [
        "**Ans**"
      ],
      "metadata": {
        "id": "ohHr3qOqsafA"
      }
    },
    {
      "cell_type": "markdown",
      "source": [
        "**Solution Approach 1 : Brute Force Approach**\n",
        "<br>\n",
        "1. Count the number of nodes in the linked list by traversing through it.\n",
        "2. Find the middle element(s) based on the count.\n",
        "3. Traverse again to the middle element(s) and delete it/them.\n",
        "4. Adjust the pointers to maintain the linked list structure."
      ],
      "metadata": {
        "id": "iMkC2dcysduG"
      }
    },
    {
      "cell_type": "code",
      "execution_count": 1,
      "metadata": {
        "id": "xFKBo3NIrXnX"
      },
      "outputs": [],
      "source": [
        "class ListNode:\n",
        "    def __init__(self, val=0, next=None):\n",
        "        self.val = val\n",
        "        self.next = next"
      ]
    },
    {
      "cell_type": "code",
      "source": [
        "def delete_middle(head):\n",
        "    if head is None or head.next is None:\n",
        "        return None\n",
        "    \n",
        "    # Count the number of nodes\n",
        "    count = 0\n",
        "    current = head\n",
        "    while current:\n",
        "        count += 1\n",
        "        current = current.next\n",
        "    \n",
        "    # Find the middle node(s)\n",
        "    middle = count // 2\n",
        "    \n",
        "    # Traverse to the middle node(s) and delete\n",
        "    current = head\n",
        "    prev = None\n",
        "    for _ in range(middle):\n",
        "        prev = current\n",
        "        current = current.next\n",
        "    \n",
        "    if prev:\n",
        "        # Adjust pointers to skip the middle node(s)\n",
        "        prev.next = current.next\n",
        "    else:\n",
        "        # If the first node is the middle node, update head\n",
        "        head = current.next\n",
        "    \n",
        "    return head"
      ],
      "metadata": {
        "id": "gyMrUTavtpOg"
      },
      "execution_count": 2,
      "outputs": []
    },
    {
      "cell_type": "code",
      "source": [
        "# Test Case 1\n",
        "node5 = ListNode(5)\n",
        "node4 = ListNode(4, node5)\n",
        "node3 = ListNode(3, node4)\n",
        "node2 = ListNode(2, node3)\n",
        "node1 = ListNode(1, node2)"
      ],
      "metadata": {
        "id": "7TG75NhptvZ1"
      },
      "execution_count": 3,
      "outputs": []
    },
    {
      "cell_type": "code",
      "source": [
        "new_head = delete_middle(node1)\n",
        "current = new_head\n",
        "while current:\n",
        "    print(current.val, end=\" \")\n",
        "    current = current.next"
      ],
      "metadata": {
        "colab": {
          "base_uri": "https://localhost:8080/"
        },
        "id": "7nk5ZQj0t26E",
        "outputId": "6eb90bcb-8070-4d42-cc77-7c7009665561"
      },
      "execution_count": 4,
      "outputs": [
        {
          "output_type": "stream",
          "name": "stdout",
          "text": [
            "1 2 4 5 "
          ]
        }
      ]
    },
    {
      "cell_type": "code",
      "source": [
        "# Test Case 2\n",
        "node1 = ListNode(1)\n",
        "node5 = ListNode(5, node1)\n",
        "node7 = ListNode(7, node5)\n",
        "node6 = ListNode(6, node7)\n",
        "node4 = ListNode(4, node6)\n",
        "node2 = ListNode(2, node4)"
      ],
      "metadata": {
        "id": "QvV4bdKrt7kU"
      },
      "execution_count": 6,
      "outputs": []
    },
    {
      "cell_type": "code",
      "source": [
        "new_head = delete_middle(node2)\n",
        "current = new_head\n",
        "while current:\n",
        "    print(current.val, end=\" \")\n",
        "    current = current.next"
      ],
      "metadata": {
        "colab": {
          "base_uri": "https://localhost:8080/"
        },
        "id": "3ofpkHXvuCyM",
        "outputId": "2e6d10df-ed74-42eb-84c5-cd41bbc9dad6"
      },
      "execution_count": 7,
      "outputs": [
        {
          "output_type": "stream",
          "name": "stdout",
          "text": [
            "2 4 6 5 1 "
          ]
        }
      ]
    },
    {
      "cell_type": "markdown",
      "source": [
        "# Discussion :\n",
        "The time complexity of this approach is O(n), where n is the number of nodes in the linked list. \n",
        "\n",
        "The space complexity is O(1) since we only need a constant amount of extra space."
      ],
      "metadata": {
        "id": "u9L-mpGXumJu"
      }
    },
    {
      "cell_type": "markdown",
      "source": [
        "**Solution Approach 2 : Optimized Approach**\n",
        "<br>Instead of counting the number of nodes, we can use two pointers to traverse the linked list. The first pointer will move one node at a time, while the second pointer will move two nodes at a time. When the second pointer reaches the end of the list, the first pointer will be at the middle element(s)."
      ],
      "metadata": {
        "id": "FHmRBcjnuwYh"
      }
    },
    {
      "cell_type": "code",
      "source": [
        "def delete_middle(head):\n",
        "    if head is None or head.next is None:\n",
        "        return None\n",
        "    \n",
        "    slow = head\n",
        "    fast = head\n",
        "    prev = None\n",
        "    \n",
        "    while fast and fast.next:\n",
        "        fast = fast.next.next\n",
        "        prev = slow\n",
        "        slow = slow.next\n",
        "    \n",
        "    if prev:\n",
        "        prev.next = slow.next\n",
        "    else:\n",
        "        head = slow.next\n",
        "    \n",
        "    return head"
      ],
      "metadata": {
        "id": "nH1wKn7PujwN"
      },
      "execution_count": 8,
      "outputs": []
    },
    {
      "cell_type": "code",
      "source": [
        "# Test Case 1\n",
        "node5 = ListNode(5)\n",
        "node4 = ListNode(4, node5)\n",
        "node3 = ListNode(3, node4)\n",
        "node2 = ListNode(2, node3)\n",
        "node1 = ListNode(1, node2)"
      ],
      "metadata": {
        "id": "2ad4B3s3vG89"
      },
      "execution_count": 9,
      "outputs": []
    },
    {
      "cell_type": "code",
      "source": [
        "new_head = delete_middle(node1)\n",
        "current = new_head\n",
        "while current:\n",
        "    print(current.val, end=\" \")\n",
        "    current = current.next"
      ],
      "metadata": {
        "colab": {
          "base_uri": "https://localhost:8080/"
        },
        "id": "yvUQYLh3vQFE",
        "outputId": "ea94fbc7-c739-4a2a-b257-d41d5419ab31"
      },
      "execution_count": 10,
      "outputs": [
        {
          "output_type": "stream",
          "name": "stdout",
          "text": [
            "1 2 4 5 "
          ]
        }
      ]
    },
    {
      "cell_type": "code",
      "source": [
        "# Test Case 2\n",
        "node1 = ListNode(1)\n",
        "node5 = ListNode(5, node1)\n",
        "node7 = ListNode(7, node5)\n",
        "node6 = ListNode(6, node7)\n",
        "node4 = ListNode(4, node6)\n",
        "node2 = ListNode(2, node4)"
      ],
      "metadata": {
        "id": "-uXsyq1uvS1T"
      },
      "execution_count": 11,
      "outputs": []
    },
    {
      "cell_type": "code",
      "source": [
        "new_head = delete_middle(node2)\n",
        "current = new_head\n",
        "while current:\n",
        "    print(current.val, end=\" \")\n",
        "    current = current.next"
      ],
      "metadata": {
        "colab": {
          "base_uri": "https://localhost:8080/"
        },
        "id": "fYDwtyR7vfa0",
        "outputId": "fe5cd0be-2103-4903-ef49-aa26bf598d95"
      },
      "execution_count": 12,
      "outputs": [
        {
          "output_type": "stream",
          "name": "stdout",
          "text": [
            "2 4 6 5 1 "
          ]
        }
      ]
    },
    {
      "cell_type": "markdown",
      "source": [
        "# Discussion :\n",
        "The time complexity of this approach is also O(n), but it reduces the number of traversals to find the middle element(s). \n",
        "\n",
        "The space complexity remains O(1).\n",
        "\n",
        "The optimized approach provides a more efficient solution by reducing the number of traversals."
      ],
      "metadata": {
        "id": "h297ToHYvoZf"
      }
    },
    {
      "cell_type": "markdown",
      "source": [
        "💡 **Question 2**\n",
        "\n",
        "Given a linked list of **N** nodes. The task is to check if the linked list has a loop. Linked list can contain self loop.\n",
        "\n",
        "**Example 1:**\n",
        "<br>Input:\n",
        "<br>N = 3\n",
        "<br>value[] = {1,3,4}\n",
        "<br>x(position at which tail is connected) = 2\n",
        "<br>Output:True\n",
        "<br>Explanation:In above test case N = 3.\n",
        "The linked list with nodes N = 3 is\n",
        "given. Then value of x=2 is given which\n",
        "means last node is connected with xth\n",
        "node of linked list. Therefore, there\n",
        "exists a loop.\n",
        "\n",
        "**Example 2:**\n",
        "<br>Input:\n",
        "<br>N = 4\n",
        "<br>value[] = {1,8,3,4}\n",
        "<br>x = 0\n",
        "<br>Output:False\n",
        "<br>Explanation:For N = 4 ,x = 0 means\n",
        "then lastNode->next = NULL, then\n",
        "the Linked list does not contains\n",
        "any loop."
      ],
      "metadata": {
        "id": "4S5iQUoiv8Cz"
      }
    },
    {
      "cell_type": "markdown",
      "source": [
        "**Ans**"
      ],
      "metadata": {
        "id": "mGBWUqlczsMf"
      }
    },
    {
      "cell_type": "markdown",
      "source": [
        "To determine if a linked list contains a loop, we can use the Floyd's Cycle Detection Algorithm, also known as the Tortoise and Hare Algorithm. This algorithm uses two pointers, a slow pointer (tortoise) and a fast pointer (hare), to traverse the linked list. If there is a loop in the linked list, the fast pointer will eventually catch up to the slow pointer.\n",
        "\n",
        "Here's the algorithm to detect a loop in a linked list:\n",
        "\n",
        "1. Initialize two pointers, slow and fast, to the head of the linked list.\n",
        "2. Move the slow pointer one step at a time and the fast pointer two steps at a time.\n",
        "3. If there is a loop, the fast pointer will eventually meet or \"lap\" the slow pointer.\n",
        "4. If the fast pointer reaches the end of the list (i.e., becomes None), there is no loop in the linked list."
      ],
      "metadata": {
        "id": "L24BEbCg0RKn"
      }
    },
    {
      "cell_type": "code",
      "source": [
        "class ListNode:\n",
        "    def __init__(self, val=0, next=None):\n",
        "        self.val = val\n",
        "        self.next = next\n",
        "\n",
        "def has_cycle(head):\n",
        "    if head is None or head.next is None:\n",
        "        return False\n",
        "    \n",
        "    slow = head\n",
        "    fast = head.next\n",
        "    \n",
        "    while fast and fast.next:\n",
        "        if slow == fast:\n",
        "            return True\n",
        "        slow = slow.next\n",
        "        fast = fast.next.next\n",
        "    \n",
        "    return False"
      ],
      "metadata": {
        "id": "Q9RnmA0c0hHX"
      },
      "execution_count": 13,
      "outputs": []
    },
    {
      "cell_type": "code",
      "source": [
        "# Test Case 1\n",
        "node4 = ListNode(4)\n",
        "node3 = ListNode(3, node4)\n",
        "node1 = ListNode(1, node3)\n",
        "node4.next = node3"
      ],
      "metadata": {
        "id": "zv6WnpvS0nwS"
      },
      "execution_count": 14,
      "outputs": []
    },
    {
      "cell_type": "code",
      "source": [
        "has_loop = has_cycle(node1)\n",
        "print(has_loop)"
      ],
      "metadata": {
        "colab": {
          "base_uri": "https://localhost:8080/"
        },
        "id": "AdBO6fNg0uRa",
        "outputId": "22f828b3-da93-4109-a97b-60fe46350019"
      },
      "execution_count": 15,
      "outputs": [
        {
          "output_type": "stream",
          "name": "stdout",
          "text": [
            "True\n"
          ]
        }
      ]
    },
    {
      "cell_type": "code",
      "source": [
        "# Test Case 2\n",
        "node4 = ListNode(4)\n",
        "node3 = ListNode(3, node4)\n",
        "node8 = ListNode(8, node3)\n",
        "node1 = ListNode(1, node8)"
      ],
      "metadata": {
        "id": "LY8FihnQ0x1K"
      },
      "execution_count": 16,
      "outputs": []
    },
    {
      "cell_type": "code",
      "source": [
        "has_loop = has_cycle(node1)\n",
        "print(has_loop)"
      ],
      "metadata": {
        "colab": {
          "base_uri": "https://localhost:8080/"
        },
        "id": "T4LbIcIf071C",
        "outputId": "af1ce55a-0a17-4fff-f573-097a06309445"
      },
      "execution_count": 17,
      "outputs": [
        {
          "output_type": "stream",
          "name": "stdout",
          "text": [
            "False\n"
          ]
        }
      ]
    },
    {
      "cell_type": "markdown",
      "source": [
        "# Discussion :\n",
        "The time complexity of this algorithm is O(n), where n is the number of nodes in the linked list. \n",
        "\n",
        "The space complexity is O(1) since we are only using two pointers."
      ],
      "metadata": {
        "id": "ieYwMQ9e0_Zg"
      }
    },
    {
      "cell_type": "markdown",
      "source": [
        "💡 **Question 3**\n",
        "\n",
        "Given a linked list consisting of **L** nodes and given a number **N**. The task is to find the **N**th node from the end of the linked list.\n",
        "\n",
        "**Example 1:**\n",
        "<br>Input:\n",
        "<br>N = 2\n",
        "<br>LinkedList: 1->2->3->4->5->6->7->8->9\n",
        "<br>Output:8\n",
        "<br>Explanation:In the first example, there\n",
        "are 9 nodes in linked list and we need\n",
        "to find 2nd node from end. 2nd node\n",
        "from end is 8.\n",
        "\n",
        "**Example 2:**\n",
        "<br>Input:\n",
        "<br>N = 5\n",
        "<br>LinkedList: 10->5->100->5\n",
        "<br>Output:-1\n",
        "<br>Explanation:In the second example, there\n",
        "are 4 nodes in the linked list and we\n",
        "need to find 5th from the end. Since 'n'\n",
        "is more than the number of nodes in the\n",
        "linked list, the output is -1."
      ],
      "metadata": {
        "id": "09PO3_Pg1HB3"
      }
    },
    {
      "cell_type": "markdown",
      "source": [
        "**Ans**"
      ],
      "metadata": {
        "id": "vmuhhwX-1pMK"
      }
    },
    {
      "cell_type": "markdown",
      "source": [
        "\n",
        "To find the Nth node from the end of a linked list, we can use a two-pointer approach. We will use two pointers, first and second, initially pointing to the head of the linked list.\n",
        "\n",
        "Here's the algorithm to find the Nth node from the end:\n",
        "\n",
        "1. Move the first pointer N steps forward in the linked list.\n",
        "2. If the first pointer becomes None before reaching N steps, it means N is greater than the number of nodes in the linked list. Return -1 in this case.\n",
        "3. Move both the first and second pointers one step at a time until the first pointer reaches the end of the linked list.\n",
        "4. The second pointer will be pointing to the Nth node from the end."
      ],
      "metadata": {
        "id": "9BZLofwD1r2h"
      }
    },
    {
      "cell_type": "code",
      "source": [
        "class ListNode:\n",
        "    def __init__(self, val=0, next=None):\n",
        "        self.val = val\n",
        "        self.next = next\n",
        "\n",
        "def find_nth_from_end(head, n):\n",
        "    if head is None:\n",
        "        return -1\n",
        "    \n",
        "    first = head\n",
        "    second = head\n",
        "    \n",
        "    # Move first pointer N steps forward\n",
        "    for _ in range(n):\n",
        "        if first is None:\n",
        "            return -1\n",
        "        first = first.next\n",
        "    \n",
        "    # Move both pointers until first reaches the end\n",
        "    while first:\n",
        "        first = first.next\n",
        "        second = second.next\n",
        "    \n",
        "    return second.val"
      ],
      "metadata": {
        "id": "Rtwa_RgU0-Oi"
      },
      "execution_count": 18,
      "outputs": []
    },
    {
      "cell_type": "code",
      "source": [
        "# Test Case 1\n",
        "node9 = ListNode(9)\n",
        "node8 = ListNode(8, node9)\n",
        "node7 = ListNode(7, node8)\n",
        "node6 = ListNode(6, node7)\n",
        "node5 = ListNode(5, node6)\n",
        "node4 = ListNode(4, node5)\n",
        "node3 = ListNode(3, node4)\n",
        "node2 = ListNode(2, node3)\n",
        "node1 = ListNode(1, node2)"
      ],
      "metadata": {
        "id": "KmWOKt3X2QCB"
      },
      "execution_count": 19,
      "outputs": []
    },
    {
      "cell_type": "code",
      "source": [
        "nth_from_end = find_nth_from_end(node1, 2)\n",
        "print(nth_from_end)"
      ],
      "metadata": {
        "colab": {
          "base_uri": "https://localhost:8080/"
        },
        "id": "Qh3ReJ_82WI6",
        "outputId": "5537e8e4-fdf6-42dc-dc93-44cbb751d39b"
      },
      "execution_count": 20,
      "outputs": [
        {
          "output_type": "stream",
          "name": "stdout",
          "text": [
            "8\n"
          ]
        }
      ]
    },
    {
      "cell_type": "code",
      "source": [
        "# Test Case 2\n",
        "node4 = ListNode(5)\n",
        "node3 = ListNode(100, node4)\n",
        "node2 = ListNode(5, node3)\n",
        "node1 = ListNode(10, node2)"
      ],
      "metadata": {
        "id": "SRTYE1Zl2Zax"
      },
      "execution_count": 21,
      "outputs": []
    },
    {
      "cell_type": "code",
      "source": [
        "nth_from_end = find_nth_from_end(node1, 5)\n",
        "print(nth_from_end)"
      ],
      "metadata": {
        "colab": {
          "base_uri": "https://localhost:8080/"
        },
        "id": "ZIXzktTP2gVS",
        "outputId": "2f0a7486-6165-474c-b05e-866878ac8298"
      },
      "execution_count": 22,
      "outputs": [
        {
          "output_type": "stream",
          "name": "stdout",
          "text": [
            "-1\n"
          ]
        }
      ]
    },
    {
      "cell_type": "markdown",
      "source": [
        "\n",
        "# Discussion :\n",
        "The time complexity of this algorithm is O(L), where L is the number of nodes in the linked list. \n",
        "\n",
        "The space complexity is O(1) since we are using only two pointers."
      ],
      "metadata": {
        "id": "QpB_FjOL2mJi"
      }
    },
    {
      "cell_type": "markdown",
      "source": [
        "💡 **Question 4**\n",
        "\n",
        "Given a singly linked list of characters, write a function that returns true if the given list is a palindrome, else false.\n",
        "\n",
        "**Examples:**\n",
        "> Input: R->A->D->A->R->NULL\n",
        "> \n",
        "> \n",
        "> **Output:** Yes\n",
        "> \n",
        "> **Input:** C->O->D->E->NULL\n",
        "> \n",
        "> **Output:** No\n",
        ">"
      ],
      "metadata": {
        "id": "oXIdfS9f2vh_"
      }
    },
    {
      "cell_type": "markdown",
      "source": [
        "**Ans**"
      ],
      "metadata": {
        "id": "64GYpDH-3D3x"
      }
    },
    {
      "cell_type": "markdown",
      "source": [
        "\n",
        "To determine if a singly linked list of characters is a palindrome, we can use a two-pointer approach along with a stack. The steps to check for a palindrome are as follows:\n",
        "\n",
        "1. Traverse the linked list using two pointers, a slow pointer and a fast pointer. The slow pointer moves one step at a time, while the fast pointer moves two steps at a time.\n",
        "2. As the fast pointer moves, push the characters from the slow pointer into a stack.\n",
        "3. When the fast pointer reaches the end of the linked list, the slow pointer will be at the middle or just past the middle of the list.\n",
        "4. If the length of the linked list is odd, skip the middle character by moving the slow pointer one step forward.\n",
        "5. Compare the remaining characters in the linked list with the characters popped from the stack. If any characters do not match, return False.\n",
        "6. If all characters match, the linked list is a palindrome. Return True."
      ],
      "metadata": {
        "id": "0U-S1fxC3HHv"
      }
    },
    {
      "cell_type": "code",
      "source": [
        "class ListNode:\n",
        "    def __init__(self, val=0, next=None):\n",
        "        self.val = val\n",
        "        self.next = next\n",
        "\n",
        "def is_palindrome(head):\n",
        "    if head is None or head.next is None:\n",
        "        return True\n",
        "    \n",
        "    slow = head\n",
        "    fast = head\n",
        "    stack = []\n",
        "    \n",
        "    # Traverse the linked list and push characters into stack\n",
        "    while fast and fast.next:\n",
        "        stack.append(slow.val)\n",
        "        slow = slow.next\n",
        "        fast = fast.next.next\n",
        "    \n",
        "    # Skip the middle character for odd-length list\n",
        "    if fast:\n",
        "        slow = slow.next\n",
        "    \n",
        "    # Compare remaining characters with characters popped from stack\n",
        "    while slow:\n",
        "        if slow.val != stack.pop():\n",
        "            return False\n",
        "        slow = slow.next\n",
        "    \n",
        "    return True"
      ],
      "metadata": {
        "id": "sGpF0hZH3uIP"
      },
      "execution_count": 23,
      "outputs": []
    },
    {
      "cell_type": "code",
      "source": [
        "# Example 1\n",
        "node5 = ListNode('R')\n",
        "node4 = ListNode('A', node5)\n",
        "node3 = ListNode('D', node4)\n",
        "node2 = ListNode('A', node3)\n",
        "node1 = ListNode('R', node2)\n",
        "\n",
        "print(is_palindrome(node1))"
      ],
      "metadata": {
        "colab": {
          "base_uri": "https://localhost:8080/"
        },
        "id": "UpVN8khq5Uwf",
        "outputId": "97d94429-8727-4f3b-e900-41ae56b52818"
      },
      "execution_count": 24,
      "outputs": [
        {
          "output_type": "stream",
          "name": "stdout",
          "text": [
            "True\n"
          ]
        }
      ]
    },
    {
      "cell_type": "code",
      "source": [
        "# Example 2\n",
        "node4 = ListNode('C')\n",
        "node3 = ListNode('O', node4)\n",
        "node2 = ListNode('D', node3)\n",
        "node1 = ListNode('E', node2)\n",
        "\n",
        "print(is_palindrome(node1))"
      ],
      "metadata": {
        "colab": {
          "base_uri": "https://localhost:8080/"
        },
        "id": "LlhoWb2t5cZK",
        "outputId": "2fa462f6-82e6-4d16-eb22-86994fc70d83"
      },
      "execution_count": 25,
      "outputs": [
        {
          "output_type": "stream",
          "name": "stdout",
          "text": [
            "False\n"
          ]
        }
      ]
    },
    {
      "cell_type": "markdown",
      "source": [
        "The time complexity of this algorithm is O(n), where n is the number of characters in the linked list. \n",
        "\n",
        "The space complexity is also O(n) since we are using a stack to store the characters."
      ],
      "metadata": {
        "id": "Jdzvo0Um5k9J"
      }
    },
    {
      "cell_type": "markdown",
      "source": [
        "💡 **Question 5**\n",
        "\n",
        "Given a linked list of **N** nodes such that it may contain a loop.\n",
        "\n",
        "A loop here means that the last node of the link list is connected to the node at position X(1-based index). If the link list does not have any loop, X=0.\n",
        "\n",
        "Remove the loop from the linked list, if it is present, i.e. unlink the last node which is forming the loop.\n",
        "\n",
        "**Example 1:**\n",
        "<br>Input:\n",
        "<br>N = 3\n",
        "<br>value[] = {1,3,4}\n",
        "<br>X = 2\n",
        "<br>Output:1\n",
        "<br>Explanation:The link list looks like\n",
        "<br>1 -> 3 -> 4\n",
        "<br>     ^    |\n",
        "<br>     |____|\n",
        "<br>A loop is present. If you remove it\n",
        "successfully, the answer will be 1.\n",
        "\n",
        "**Example 2:**\n",
        "<br>Input:\n",
        "<br>N = 4\n",
        "<br>value[] = {1,8,3,4}\n",
        "<br>X = 0\n",
        "<br>Output:1\n",
        "<br>Explanation:The Linked list does not\n",
        "contains any loop.\n",
        "\n",
        "**Example 3:**\n",
        "<br>Input:\n",
        "<br>N = 4\n",
        "<br>value[] = {1,2,3,4}\n",
        "<br>X = 1\n",
        "<br>Output:1\n",
        "<br>Explanation:The link list looks like\n",
        "<br>1 -> 2 -> 3 -> 4\n",
        "<br>^              |\n",
        "<br>|______________|\n",
        "<br>A loop is present.\n",
        "If you remove it successfully,\n",
        "the answer will be 1."
      ],
      "metadata": {
        "id": "PhyHHy165qGT"
      }
    },
    {
      "cell_type": "markdown",
      "source": [
        "**Ans**"
      ],
      "metadata": {
        "id": "fEN5zL04790N"
      }
    },
    {
      "cell_type": "markdown",
      "source": [
        "To remove a loop from a linked list, we can use the Floyd's Cycle Detection Algorithm, also known as the Tortoise and Hare Algorithm. This algorithm helps us detect the presence of a loop in the linked list and identify the node where the loop starts.\n",
        "\n",
        "Here's the algorithm to remove the loop from a linked list:\n",
        "\n",
        "1. Initialize two pointers, slow and fast, to the head of the linked list.\n",
        "2. Move the slow pointer one step at a time and the fast pointer two steps at a time.\n",
        "3. If the slow and fast pointers meet, it indicates the presence of a loop in the linked list.\n",
        "4. Reset either the slow or fast pointer to the head of the linked list and move both pointers one step at a time until they meet again. This step helps us find the node where the loop starts.\n",
        "5. Once the loop starting node is identified, set the next pointer of the node just before the loop starting node to None to break the loop."
      ],
      "metadata": {
        "id": "70ji8cqo8A3z"
      }
    },
    {
      "cell_type": "code",
      "source": [
        "class ListNode:\n",
        "    def __init__(self, val=0, next=None):\n",
        "        self.val = val\n",
        "        self.next = next\n",
        "\n",
        "def remove_loop(head):\n",
        "    if head is None or head.next is None:\n",
        "        return head\n",
        "    \n",
        "    slow = head\n",
        "    fast = head\n",
        "    \n",
        "    # Detect the loop\n",
        "    while fast and fast.next:\n",
        "        slow = slow.next\n",
        "        fast = fast.next.next\n",
        "        if slow == fast:\n",
        "            break\n",
        "    \n",
        "    # No loop found\n",
        "    if slow != fast:\n",
        "        return head\n",
        "    \n",
        "    # Reset slow or fast pointer to the head\n",
        "    slow = head\n",
        "    \n",
        "    # Find the loop starting node\n",
        "    while slow.next != fast.next:\n",
        "        slow = slow.next\n",
        "        fast = fast.next\n",
        "    \n",
        "    # Break the loop\n",
        "    fast.next = None\n",
        "    \n",
        "    return head"
      ],
      "metadata": {
        "id": "kk3DAVen8nEZ"
      },
      "execution_count": 26,
      "outputs": []
    },
    {
      "cell_type": "code",
      "source": [
        "# Test Case 1\n",
        "node3 = ListNode(4)\n",
        "node2 = ListNode(3, node3)\n",
        "node1 = ListNode(1, node2)\n",
        "node3.next = node2\n",
        "\n",
        "new_head = remove_loop(node1)\n",
        "print(new_head.val)"
      ],
      "metadata": {
        "colab": {
          "base_uri": "https://localhost:8080/"
        },
        "id": "Kb04KuCZ8og6",
        "outputId": "b401c475-8e21-4655-e9c2-091c150956cf"
      },
      "execution_count": 27,
      "outputs": [
        {
          "output_type": "stream",
          "name": "stdout",
          "text": [
            "1\n"
          ]
        }
      ]
    },
    {
      "cell_type": "code",
      "source": [
        "# Test Case 2\n",
        "node4 = ListNode(4)\n",
        "node3 = ListNode(3, node4)\n",
        "node2 = ListNode(8, node3)\n",
        "node1 = ListNode(1, node2)\n",
        "\n",
        "new_head = remove_loop(node1)\n",
        "print(new_head.val)"
      ],
      "metadata": {
        "colab": {
          "base_uri": "https://localhost:8080/"
        },
        "id": "phC-3T7p8vXy",
        "outputId": "2965d70a-8a7b-48a6-d96d-4435dfe37e2b"
      },
      "execution_count": 28,
      "outputs": [
        {
          "output_type": "stream",
          "name": "stdout",
          "text": [
            "1\n"
          ]
        }
      ]
    },
    {
      "cell_type": "code",
      "source": [
        "# Test Case 3\n",
        "node4 = ListNode(4)\n",
        "node3 = ListNode(3, node4)\n",
        "node2 = ListNode(2, node3)\n",
        "node1 = ListNode(1, node2)\n",
        "node4.next = node1\n",
        "\n",
        "new_head = remove_loop(node1)\n",
        "print(new_head.val)"
      ],
      "metadata": {
        "colab": {
          "base_uri": "https://localhost:8080/"
        },
        "id": "xlifahcE83_B",
        "outputId": "c6b57c2f-41d9-4afc-8cb9-bedc7bf19fbf"
      },
      "execution_count": 29,
      "outputs": [
        {
          "output_type": "stream",
          "name": "stdout",
          "text": [
            "1\n"
          ]
        }
      ]
    },
    {
      "cell_type": "markdown",
      "source": [
        "The time complexity of this algorithm is O(n), where n is the number of nodes in the linked list.\n",
        "\n",
        "The space complexity is O(1) since we are using only two pointers."
      ],
      "metadata": {
        "id": "cW-Xdu0W9CNR"
      }
    },
    {
      "cell_type": "markdown",
      "source": [
        "💡 **Question 6**\n",
        "\n",
        "Given a linked list and two integers M and N. Traverse the linked list such that you retain M nodes then delete next N nodes, continue the same till end of the linked list.\n",
        "\n",
        "Difficulty Level: Rookie\n",
        "\n",
        "**Examples**\n",
        "<br>Input:\n",
        "<br>M = 2, N = 2\n",
        "<br>Linked List: 1->2->3->4->5->6->7->8\n",
        "<br>Output:\n",
        "<br>Linked List: 1->2->5->6\n",
        "\n",
        "Input:\n",
        "<br>M = 3, N = 2\n",
        "<br>Linked List: 1->2->3->4->5->6->7->8->9->10\n",
        "<br>Output:\n",
        "<br>Linked List: 1->2->3->6->7->8\n",
        "\n",
        "Input:\n",
        "<br>M = 1, N = 1\n",
        "<br>Linked List: 1->2->3->4->5->6->7->8->9->10\n",
        "<br>Output:\n",
        "<br>Linked List: 1->3->5->7->9"
      ],
      "metadata": {
        "id": "Fupf-qfM9IG4"
      }
    },
    {
      "cell_type": "markdown",
      "source": [
        "To traverse a linked list and retain M nodes while deleting the next N nodes, we can use a simple iterative approach. We'll maintain two pointers, one to keep track of the current node and another to keep track of the previous node.\n",
        "\n",
        "Here's the algorithm to solve the problem:\n",
        "\n",
        "1. Create a dummy node and set its next pointer to the head of the linked list. This dummy node will help handle the case where the head of the linked list needs to be deleted.\n",
        "2. Initialize two pointers, current and previous, to the dummy node.\n",
        "3. Traverse the linked list using the current pointer.\n",
        "4. For every M nodes encountered, retain them by moving the previous pointer to the current node.\n",
        "5. After retaining M nodes, delete the next N nodes by moving the next pointer of the previous node to the next node of the current node.\n",
        "6. Continue the traversal until the end of the linked list.\n",
        "7. Finally, return the next pointer of the dummy node, which will be the head of the modified linked list."
      ],
      "metadata": {
        "id": "-uM27UXW-Jie"
      }
    },
    {
      "cell_type": "code",
      "source": [
        "class ListNode:\n",
        "    def __init__(self, val=0, next=None):\n",
        "        self.val = val\n",
        "        self.next = next\n",
        "\n",
        "def retain_and_delete(head, M, N):\n",
        "    dummy = ListNode(0)\n",
        "    dummy.next = head\n",
        "    previous = dummy\n",
        "    current = head\n",
        "\n",
        "    while current:\n",
        "        # Retain M nodes\n",
        "        for _ in range(M):\n",
        "            if not current:\n",
        "                break\n",
        "            previous = current\n",
        "            current = current.next\n",
        "\n",
        "        # Delete N nodes\n",
        "        for _ in range(N):\n",
        "            if not current:\n",
        "                break\n",
        "            current = current.next\n",
        "\n",
        "        # Connect previous to the next node after deletion\n",
        "        previous.next = current\n",
        "\n",
        "    return dummy.next"
      ],
      "metadata": {
        "id": "pfkSj7Z1-ocR"
      },
      "execution_count": 30,
      "outputs": []
    },
    {
      "cell_type": "code",
      "source": [
        "# Example 1\n",
        "node8 = ListNode(8)\n",
        "node7 = ListNode(7, node8)\n",
        "node6 = ListNode(6, node7)\n",
        "node5 = ListNode(5, node6)\n",
        "node4 = ListNode(4, node5)\n",
        "node3 = ListNode(3, node4)\n",
        "node2 = ListNode(2, node3)\n",
        "node1 = ListNode(1, node2)\n",
        "\n",
        "new_head = retain_and_delete(node1, 2, 2)\n",
        "while new_head:\n",
        "    print(new_head.val, end=\"->\")\n",
        "    new_head = new_head.next"
      ],
      "metadata": {
        "colab": {
          "base_uri": "https://localhost:8080/"
        },
        "id": "_jEV7FF39A-S",
        "outputId": "ae448b49-14f7-4ff8-fa59-23b44b8be9eb"
      },
      "execution_count": 31,
      "outputs": [
        {
          "output_type": "stream",
          "name": "stdout",
          "text": [
            "1->2->5->6->"
          ]
        }
      ]
    },
    {
      "cell_type": "code",
      "source": [
        "# Example 2\n",
        "node10 = ListNode(10)\n",
        "node9 = ListNode(9, node10)\n",
        "node8 = ListNode(8, node9)\n",
        "node7 = ListNode(7, node8)\n",
        "node6 = ListNode(6, node7)\n",
        "node5 = ListNode(5, node6)\n",
        "node4 = ListNode(4, node5)\n",
        "node3 = ListNode(3, node4)\n",
        "node2 = ListNode(2, node3)\n",
        "node1 = ListNode(1, node2)\n",
        "\n",
        "new_head = retain_and_delete(node1, 3, 2)\n",
        "while new_head:\n",
        "    print(new_head.val, end=\"->\")\n",
        "    new_head = new_head.next"
      ],
      "metadata": {
        "colab": {
          "base_uri": "https://localhost:8080/"
        },
        "id": "VR-n72cz-49p",
        "outputId": "b47c0113-7911-47bf-e356-87d8b975f1dc"
      },
      "execution_count": 32,
      "outputs": [
        {
          "output_type": "stream",
          "name": "stdout",
          "text": [
            "1->2->3->6->7->8->"
          ]
        }
      ]
    },
    {
      "cell_type": "code",
      "source": [
        "# Example 3\n",
        "node10 = ListNode(10)\n",
        "node9 = ListNode(9, node10)\n",
        "node8 = ListNode(8, node9)\n",
        "node7 = ListNode(7, node8)\n",
        "node6 = ListNode(6, node7)\n",
        "node5 = ListNode(5, node6)\n",
        "node4 = ListNode(4, node5)\n",
        "node3 = ListNode(3, node4)\n",
        "node2 = ListNode(2, node3)\n",
        "node1 = ListNode(1, node2)\n",
        "\n",
        "new_head = retain_and_delete(node1, 1, 1)\n",
        "while new_head:\n",
        "    print(new_head.val, end=\"->\")\n",
        "    new_head = new_head.next"
      ],
      "metadata": {
        "colab": {
          "base_uri": "https://localhost:8080/"
        },
        "id": "Ho0H8j9K_GVB",
        "outputId": "6133b24d-1b5f-4aaa-c9e9-5ed4a4ad7f34"
      },
      "execution_count": 33,
      "outputs": [
        {
          "output_type": "stream",
          "name": "stdout",
          "text": [
            "1->3->5->7->9->"
          ]
        }
      ]
    },
    {
      "cell_type": "markdown",
      "source": [
        "The time complexity of this algorithm is O(N), where N is the total number of nodes in the linked list. \n",
        "\n",
        "The space complexity is O(1) since we are not using any extra data structures."
      ],
      "metadata": {
        "id": "qNTcgLJb_YVn"
      }
    },
    {
      "cell_type": "markdown",
      "source": [
        "💡 **Question 7**\n",
        "\n",
        "Given two linked lists, insert nodes of second list into first list at alternate positions of first list.\n",
        "For example, if first list is 5->7->17->13->11 and second is 12->10->2->4->6, the first list should become 5->12->7->10->17->2->13->4->11->6 and second list should become empty. The nodes of second list should only be inserted when there are positions available. For example, if the first list is 1->2->3 and second list is 4->5->6->7->8, then first list should become 1->4->2->5->3->6 and second list to 7->8.\n",
        "\n",
        "Use of extra space is not allowed (Not allowed to create additional nodes), i.e., insertion must be done in-place. Expected time complexity is O(n) where n is number of nodes in first list."
      ],
      "metadata": {
        "id": "zFdqfp1J_Z6M"
      }
    },
    {
      "cell_type": "markdown",
      "source": [
        "**Ans**"
      ],
      "metadata": {
        "id": "NEo3WAZE_ikP"
      }
    },
    {
      "cell_type": "markdown",
      "source": [
        "To insert nodes of the second linked list into the first list at alternate positions, we can use a simple iterative approach. We'll maintain two pointers, one for each linked list, and insert the nodes of the second list into the first list at the appropriate positions.\n",
        "\n",
        "Here's the algorithm to solve the problem:\n",
        "\n",
        "1. Initialize two pointers, first and second, to the heads of the first and second linked lists, respectively.\n",
        "2. Traverse both linked lists simultaneously until either of the lists becomes empty.\n",
        "3. For each iteration, insert the node from the second list into the first list at the next position. To do this:\n",
        "    * Keep track of the next nodes of both lists.\n",
        "    * Set the next pointer of the current node in the second list to the next node of the first list.\n",
        "    * Set the next pointer of the current node in the first list to the current node of the second list.\n",
        "    * Move the second pointer to the next node in the second list.\n",
        "4. After reaching the end of either list, if there are remaining nodes in the second list, append them to the end of the first list.\n",
        "5. Return the modified first list."
      ],
      "metadata": {
        "id": "d6XfiUiB_kXG"
      }
    },
    {
      "cell_type": "code",
      "source": [
        "class ListNode:\n",
        "    def __init__(self, val=0, next=None):\n",
        "        self.val = val\n",
        "        self.next = next\n",
        "\n",
        "def merge_alternate(head1, head2):\n",
        "    first = head1\n",
        "    second = head2\n",
        "\n",
        "    while first and second:\n",
        "        first_next = first.next\n",
        "        second_next = second.next\n",
        "\n",
        "        first.next = second\n",
        "        second.next = first_next\n",
        "\n",
        "        first = first_next\n",
        "        second = second_next\n",
        "\n",
        "    return head1"
      ],
      "metadata": {
        "id": "wUmBHNpjAPz2"
      },
      "execution_count": 34,
      "outputs": []
    },
    {
      "cell_type": "code",
      "source": [
        "# Example 1\n",
        "node11 = ListNode(11)\n",
        "node13 = ListNode(13, node11)\n",
        "node17 = ListNode(17, node13)\n",
        "node7 = ListNode(7, node17)\n",
        "node5 = ListNode(5, node7)\n",
        "\n",
        "node6 = ListNode(6)\n",
        "node4 = ListNode(4, node6)\n",
        "node2 = ListNode(2, node4)\n",
        "node10 = ListNode(10, node2)\n",
        "node12 = ListNode(12, node10)\n",
        "\n",
        "new_head = merge_alternate(node5, node12)\n",
        "while new_head:\n",
        "    print(new_head.val, end=\"->\")\n",
        "    new_head = new_head.next"
      ],
      "metadata": {
        "colab": {
          "base_uri": "https://localhost:8080/"
        },
        "id": "w0QGZRJ9AWva",
        "outputId": "7dbcc82d-66fe-4ad7-d861-d7c81c2964c7"
      },
      "execution_count": 35,
      "outputs": [
        {
          "output_type": "stream",
          "name": "stdout",
          "text": [
            "5->12->7->10->17->2->13->4->11->6->"
          ]
        }
      ]
    },
    {
      "cell_type": "code",
      "source": [
        "# Example 2\n",
        "# First list: 1->2->3\n",
        "# Second list: 4->5->6->7->8\n",
        "node3 = ListNode(3)\n",
        "node2 = ListNode(2, node3)\n",
        "node1 = ListNode(1, node2)\n",
        "\n",
        "node8 = ListNode(8)\n",
        "node7 = ListNode(7, node8)\n",
        "node6 = ListNode(6, node7)\n",
        "node5 = ListNode(5, node6)\n",
        "node4 = ListNode(4, node5)\n",
        "\n",
        "new_head = merge_alternate(node1, node4)\n",
        "while new_head:\n",
        "    print(new_head.val, end=\"->\")\n",
        "    new_head = new_head.next"
      ],
      "metadata": {
        "colab": {
          "base_uri": "https://localhost:8080/"
        },
        "id": "wyJRjpSWAgbA",
        "outputId": "8d21f483-887f-4f4c-ca9a-e6eb1906edf9"
      },
      "execution_count": 36,
      "outputs": [
        {
          "output_type": "stream",
          "name": "stdout",
          "text": [
            "1->4->2->5->3->6->"
          ]
        }
      ]
    },
    {
      "cell_type": "markdown",
      "source": [
        "The time complexity of this algorithm is O(n), where n is the number of nodes in the first list. \n",
        "\n",
        "The space complexity is O(1) since we are not using any extra data structures."
      ],
      "metadata": {
        "id": "40bA7iiAAtCW"
      }
    },
    {
      "cell_type": "markdown",
      "source": [
        "💡 **Question 8**\n",
        "\n",
        "Given a singly linked list, find if the linked list is [circular](https://www.geeksforgeeks.org/circular-linked-list/amp/) or not.\n",
        "\n",
        "> A linked list is called circular if it is not NULL-terminated and all nodes are connected in the form of a cycle. Below is an example of a circular linked list.\n",
        "> "
      ],
      "metadata": {
        "id": "r6WeBTtrAyaA"
      }
    },
    {
      "cell_type": "markdown",
      "source": [
        "**Ans**"
      ],
      "metadata": {
        "id": "VmL0hVS1A9Jt"
      }
    },
    {
      "cell_type": "markdown",
      "source": [
        "To determine whether a singly linked list is circular or not, we can use the concept of Floyd's Cycle Detection Algorithm, also known as the \"Hare and Tortoise Algorithm\". This algorithm uses two pointers, often referred to as the \"fast\" and \"slow\" pointers, to traverse the linked list at different speeds. If the linked list is circular, these two pointers will eventually meet at some point.\n",
        "\n",
        "Here's the algorithm to solve the problem:\n",
        "\n",
        "1. Initialize two pointers, \"slow\" and \"fast\", to the head of the linked list.\n",
        "2. Move the \"slow\" pointer one step at a time and the \"fast\" pointer two steps at a time.\n",
        "3. Repeat the movement of pointers until either of the following conditions is met:\n",
        "    * The \"fast\" pointer reaches the end of the linked list (i.e., it becomes NULL), indicating that the list is not circular.\n",
        "    * The \"fast\" and \"slow\" pointers meet at the same node, indicating the presence of a cycle in the linked list.\n",
        "4. If the \"fast\" and \"slow\" pointers meet, return True to indicate that the linked list is circular. Otherwise, return False."
      ],
      "metadata": {
        "id": "1aUIy58SBEun"
      }
    },
    {
      "cell_type": "code",
      "source": [
        "class ListNode:\n",
        "    def __init__(self, val=0, next=None):\n",
        "        self.val = val\n",
        "        self.next = next\n",
        "\n",
        "def is_circular(head):\n",
        "    if head is None:\n",
        "        return False\n",
        "\n",
        "    slow = head\n",
        "    fast = head.next\n",
        "\n",
        "    while fast and fast.next:\n",
        "        if slow == fast:\n",
        "            return True\n",
        "        slow = slow.next\n",
        "        fast = fast.next.next\n",
        "\n",
        "    return False"
      ],
      "metadata": {
        "id": "MaYRRWy9BkA2"
      },
      "execution_count": 37,
      "outputs": []
    },
    {
      "cell_type": "code",
      "source": [
        "# Testing the algorithm\n",
        "# Example 1\n",
        "# Circular Linked List: 1->2->3->4->5->2 (4->5->2 creates a cycle)\n",
        "node5 = ListNode(5)\n",
        "node4 = ListNode(4, node5)\n",
        "node3 = ListNode(3, node4)\n",
        "node2 = ListNode(2, node3)\n",
        "node1 = ListNode(1, node2)\n",
        "node5.next = node2  # Creating the cycle\n",
        "\n",
        "print(is_circular(node1))"
      ],
      "metadata": {
        "colab": {
          "base_uri": "https://localhost:8080/"
        },
        "id": "ypwUqtE6BrGL",
        "outputId": "2e75c310-de02-4848-b2cb-cb4bddf28659"
      },
      "execution_count": 38,
      "outputs": [
        {
          "output_type": "stream",
          "name": "stdout",
          "text": [
            "True\n"
          ]
        }
      ]
    },
    {
      "cell_type": "code",
      "source": [
        "# Example 2\n",
        "# Non-Circular Linked List: 1->2->3->4->5\n",
        "node5 = ListNode(5)\n",
        "node4 = ListNode(4, node5)\n",
        "node3 = ListNode(3, node4)\n",
        "node2 = ListNode(2, node3)\n",
        "node1 = ListNode(1, node2)\n",
        "\n",
        "print(is_circular(node1))"
      ],
      "metadata": {
        "colab": {
          "base_uri": "https://localhost:8080/"
        },
        "id": "2GhYXJ6ZBxCH",
        "outputId": "d557951c-82ff-4d02-aa09-51f4d6704dbd"
      },
      "execution_count": 39,
      "outputs": [
        {
          "output_type": "stream",
          "name": "stdout",
          "text": [
            "False\n"
          ]
        }
      ]
    },
    {
      "cell_type": "markdown",
      "source": [
        "The time complexity of this algorithm is O(n), where n is the number of nodes in the linked list. \n",
        "\n",
        "The space complexity is O(1) since we are not using any extra data structures."
      ],
      "metadata": {
        "id": "YZjH2QWmB1rI"
      }
    }
  ]
}