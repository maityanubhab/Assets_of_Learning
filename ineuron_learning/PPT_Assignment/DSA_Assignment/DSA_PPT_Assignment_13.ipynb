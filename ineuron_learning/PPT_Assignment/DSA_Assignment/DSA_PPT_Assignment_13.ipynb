{
  "nbformat": 4,
  "nbformat_minor": 0,
  "metadata": {
    "colab": {
      "provenance": []
    },
    "kernelspec": {
      "name": "python3",
      "display_name": "Python 3"
    },
    "language_info": {
      "name": "python"
    }
  },
  "cells": [
    {
      "cell_type": "markdown",
      "source": [
        "💡 **Question 1**\n",
        "\n",
        "Given two linked list of the same size, the task is to create a new linked list using those linked lists. The condition is that the greater node among both linked list will be added to the new linked list.\n",
        "\n",
        "**Examples:**\n",
        "<br>Input: list1 = 5->2->3->8\n",
        "<br>list2 = 1->7->4->5\n",
        "<br>Output: New list = 5->7->4->8\n",
        "\n",
        "<br>Input:list1 = 2->8->9->3\n",
        "<br>list2 = 5->3->6->4\n",
        "<br>Output: New list = 5->8->9->4"
      ],
      "metadata": {
        "id": "VnOvcRxzCiv7"
      }
    },
    {
      "cell_type": "markdown",
      "source": [
        "**Ans**"
      ],
      "metadata": {
        "id": "JGIPrTSREymE"
      }
    },
    {
      "cell_type": "markdown",
      "source": [
        "To create a new linked list by selecting the greater node from two given linked lists, we can iterate over the nodes of both lists simultaneously and compare the values of the nodes at each position. The greater node will be added to the new linked list. We'll assume that both input linked lists have the same number of nodes.\n",
        "\n",
        "Here's the algorithm to solve the problem:\n",
        "\n",
        "1. Initialize three pointers: curr1 to iterate over list1, curr2 to iterate over list2, and new_head to point to the head of the new linked list (initially set to None).\n",
        "2. Iterate over the nodes of list1 and list2 simultaneously until either of the lists reaches the end:\n",
        "    * Compare the values of the current nodes (curr1.val and curr2.val).\n",
        "    * If curr1.val is greater or equal, add curr1.val to the new linked list and move curr1 to the next node.\n",
        "    * If curr2.val is greater, add curr2.val to the new linked list and move curr2 to the next node.\n",
        "3. If there are any remaining nodes in list1 or list2, append them to the new linked list.\n",
        "4. Return the new_head as the head of the new linked list."
      ],
      "metadata": {
        "id": "M4u5hfNVE1Bs"
      }
    },
    {
      "cell_type": "code",
      "execution_count": 5,
      "metadata": {
        "id": "YfpLrJ6iCRi5"
      },
      "outputs": [],
      "source": [
        "class ListNode:\n",
        "    def __init__(self, val=0, next=None):\n",
        "        self.val = val\n",
        "        self.next = next\n",
        "\n",
        "def create_new_linked_list(list1, list2):\n",
        "    if not list1 and not list2:\n",
        "        return None\n",
        "    elif not list1:\n",
        "        return list2\n",
        "    elif not list2:\n",
        "        return list1\n",
        "\n",
        "    new_head = None\n",
        "    new_curr = None\n",
        "\n",
        "    curr1 = list1\n",
        "    curr2 = list2\n",
        "\n",
        "    while curr1 and curr2:\n",
        "        if curr1.val >= curr2.val:\n",
        "            new_node = ListNode(curr1.val)\n",
        "            curr1 = curr1.next\n",
        "        else:\n",
        "            new_node = ListNode(curr2.val)\n",
        "            curr2 = curr2.next\n",
        "\n",
        "        if not new_head:\n",
        "            new_head = new_node\n",
        "            new_curr = new_node\n",
        "        else:\n",
        "            new_curr.next = new_node\n",
        "            new_curr = new_curr.next\n",
        "\n",
        "    while curr1:\n",
        "        new_curr.next = ListNode(curr1.val)\n",
        "        curr1 = curr1.next\n",
        "        new_curr = new_curr.next\n",
        "\n",
        "    while curr2:\n",
        "        new_curr.next = ListNode(curr2.val)\n",
        "        curr2 = curr2.next\n",
        "        new_curr = new_curr.next\n",
        "\n",
        "    return new_head"
      ]
    },
    {
      "cell_type": "code",
      "source": [
        "# Testing the algorithm\n",
        "# Example 1\n",
        "# list1: 5->2->3->8\n",
        "# list2: 1->7->4->5\n",
        "node8 = ListNode(8)\n",
        "node3 = ListNode(3, node8)\n",
        "node2 = ListNode(2, node3)\n",
        "node5 = ListNode(5, node2)\n",
        "\n",
        "node5_2 = ListNode(5)\n",
        "node4 = ListNode(4, node5_2)\n",
        "node7 = ListNode(7, node4)\n",
        "node1 = ListNode(1, node7)\n",
        "\n",
        "new_list = create_new_linked_list(node5, node1)\n",
        "while new_list:\n",
        "    print(new_list.val, end=\" \")\n",
        "    new_list = new_list.next"
      ],
      "metadata": {
        "colab": {
          "base_uri": "https://localhost:8080/"
        },
        "id": "zFi0IlwtGRKw",
        "outputId": "1fb9d67d-0037-4060-fe5d-42cf5fe1f97f"
      },
      "execution_count": 6,
      "outputs": [
        {
          "output_type": "stream",
          "name": "stdout",
          "text": [
            "5 2 3 8 1 7 4 5 "
          ]
        }
      ]
    },
    {
      "cell_type": "code",
      "source": [
        "# Example 2\n",
        "# list1: 2->8->9->3\n",
        "# list2: 5->3->6->4\n",
        "node3 = ListNode(3)\n",
        "node9 = ListNode(9, node3)\n",
        "node8 = ListNode(8, node9)\n",
        "node2 = ListNode(2, node8)\n",
        "\n",
        "node4 = ListNode(4)\n",
        "node6 = ListNode(6, node4)\n",
        "node3_2 = ListNode(3, node6)\n",
        "node5 = ListNode(5, node3_2)\n",
        "\n",
        "new_list = create_new_linked_list(node2, node5)\n",
        "while new_list:\n",
        "    print(new_list.val, end=\" \")\n",
        "    new_list = new_list.next"
      ],
      "metadata": {
        "colab": {
          "base_uri": "https://localhost:8080/"
        },
        "id": "uok1LfhrGY5H",
        "outputId": "cfef2dad-f848-4c29-9023-cbdd7036447b"
      },
      "execution_count": 7,
      "outputs": [
        {
          "output_type": "stream",
          "name": "stdout",
          "text": [
            "5 3 6 4 2 8 9 3 "
          ]
        }
      ]
    },
    {
      "cell_type": "markdown",
      "source": [
        "The time complexity of this algorithm is O(n), where n is the number of nodes in the linked lists. \n",
        "\n",
        "The space complexity is O(1) since we are not using any extra data structures."
      ],
      "metadata": {
        "id": "0CiAjSXnIUDS"
      }
    },
    {
      "cell_type": "markdown",
      "source": [
        "💡 **Question 2**\n",
        "\n",
        "Write a function that takes a list sorted in non-decreasing order and deletes any duplicate nodes from the list. The list should only be traversed once.\n",
        "\n",
        "For example if the linked list is 11->11->11->21->43->43->60 then removeDuplicates() should convert the list to 11->21->43->60.\n",
        "\n",
        "**Example 1:**\n",
        "<br>Input:\n",
        "<br>LinkedList: \n",
        "11->11->11->21->43->43->60\n",
        "<br>Output:\n",
        "11->21->43->60\n",
        "\n",
        "**Example 2:**\n",
        "<br>Input:\n",
        "<br>LinkedList: \n",
        "10->12->12->25->25->25->34\n",
        "<br>Output:\n",
        "10->12->25->34"
      ],
      "metadata": {
        "id": "IrZ0Y1TQIbiI"
      }
    },
    {
      "cell_type": "markdown",
      "source": [
        "**Ans**"
      ],
      "metadata": {
        "id": "PdAzfB9dI-Vm"
      }
    },
    {
      "cell_type": "markdown",
      "source": [
        "To remove duplicate nodes from a sorted linked list while traversing it only once, we can use a simple iterative approach."
      ],
      "metadata": {
        "id": "zjG84NeGJRuk"
      }
    },
    {
      "cell_type": "code",
      "source": [
        "class ListNode:\n",
        "    def __init__(self, val=0, next=None):\n",
        "        self.val = val\n",
        "        self.next = next\n",
        "\n",
        "def remove_duplicates(head):\n",
        "    if not head or not head.next:\n",
        "        return head\n",
        "\n",
        "    curr = head\n",
        "\n",
        "    while curr.next:\n",
        "        if curr.val == curr.next.val:\n",
        "            curr.next = curr.next.next\n",
        "        else:\n",
        "            curr = curr.next\n",
        "\n",
        "    return head"
      ],
      "metadata": {
        "id": "5v22JX4jIRNg"
      },
      "execution_count": 8,
      "outputs": []
    },
    {
      "cell_type": "code",
      "source": [
        "# Testing the algorithm\n",
        "# Example 1\n",
        "# LinkedList: 11->11->11->21->43->43->60\n",
        "node60 = ListNode(60)\n",
        "node43_2 = ListNode(43, node60)\n",
        "node43_1 = ListNode(43, node43_2)\n",
        "node21 = ListNode(21, node43_1)\n",
        "node11_3 = ListNode(11, node21)\n",
        "node11_2 = ListNode(11, node11_3)\n",
        "node11_1 = ListNode(11, node11_2)\n",
        "\n",
        "new_list = remove_duplicates(node11_1)\n",
        "while new_list:\n",
        "    print(new_list.val, end=\" \")\n",
        "    new_list = new_list.next"
      ],
      "metadata": {
        "colab": {
          "base_uri": "https://localhost:8080/"
        },
        "id": "tMcGW1h5JYUh",
        "outputId": "00c5b630-172c-45f2-8f00-21281e1ffd8b"
      },
      "execution_count": 9,
      "outputs": [
        {
          "output_type": "stream",
          "name": "stdout",
          "text": [
            "11 21 43 60 "
          ]
        }
      ]
    },
    {
      "cell_type": "code",
      "source": [
        "# Example 2\n",
        "# LinkedList: 10->12->12->25->25->25->34\n",
        "node34 = ListNode(34)\n",
        "node25_3 = ListNode(25, node34)\n",
        "node25_2 = ListNode(25, node25_3)\n",
        "node25_1 = ListNode(25, node25_2)\n",
        "node12_2 = ListNode(12, node25_1)\n",
        "node12_1 = ListNode(12, node12_2)\n",
        "node10 = ListNode(10, node12_1)\n",
        "\n",
        "new_list = remove_duplicates(node10)\n",
        "while new_list:\n",
        "    print(new_list.val, end=\" \")\n",
        "    new_list = new_list.next"
      ],
      "metadata": {
        "colab": {
          "base_uri": "https://localhost:8080/"
        },
        "id": "yZiIbQbNJcOn",
        "outputId": "f63f5812-3f07-4dd2-c5f8-e33eb2161672"
      },
      "execution_count": 10,
      "outputs": [
        {
          "output_type": "stream",
          "name": "stdout",
          "text": [
            "10 12 25 34 "
          ]
        }
      ]
    },
    {
      "cell_type": "markdown",
      "source": [
        "The time complexity of this algorithm is O(n), where n is the number of nodes in the linked list, as it traverses the list only once. \n",
        "\n",
        "The space complexity is O(1) as it uses a constant amount of additional space."
      ],
      "metadata": {
        "id": "Z5LNH7X8JnT1"
      }
    },
    {
      "cell_type": "markdown",
      "source": [
        "💡 **Question 3**\n",
        "\n",
        "Given a linked list of size **N**. The task is to reverse every **k** nodes (where k is an input to the function) in the linked list. If the number of nodes is not a multiple of *k* then left-out nodes, in the end, should be considered as a group and must be reversed (See Example 2 for clarification).\n",
        "\n",
        "**Example 1:**\n",
        "<br>Input:\n",
        "<br>LinkedList: 1->2->2->4->5->6->7->8\n",
        "<br>K = 4\n",
        "<br>Output:4 2 2 1 8 7 6 5\n",
        "<br>Explanation:\n",
        "The first 4 elements 1,2,2,4 are reversed first\n",
        "and then the next 4 elements 5,6,7,8. Hence, the\n",
        "resultant linked list is 4->2->2->1->8->7->6->5.\n",
        "\n",
        "**Example 2:**\n",
        "<br>Input:\n",
        "<br>LinkedList: 1->2->3->4->5\n",
        "<br>K = 3\n",
        "<br>Output:3 2 1 5 4\n",
        "<br>Explanation:\n",
        "The first 3 elements are 1,2,3 are reversed\n",
        "first and then elements 4,5 are reversed.Hence,\n",
        "the resultant linked list is 3->2->1->5->4.\n"
      ],
      "metadata": {
        "id": "Hn3eb23MJuMW"
      }
    },
    {
      "cell_type": "markdown",
      "source": [
        "**Ans**"
      ],
      "metadata": {
        "id": "iqRBW32XLpYJ"
      }
    },
    {
      "cell_type": "markdown",
      "source": [
        "To reverse every k nodes in a linked list, we can use an iterative approach."
      ],
      "metadata": {
        "id": "k4XW1ZfkL5Y-"
      }
    },
    {
      "cell_type": "code",
      "source": [
        "class ListNode:\n",
        "    def __init__(self, val=0, next=None):\n",
        "        self.val = val\n",
        "        self.next = next\n",
        "\n",
        "def reverse_k_nodes(head, k):\n",
        "    if not head or k == 1:\n",
        "        return head\n",
        "\n",
        "    dummy = ListNode(0)\n",
        "    dummy.next = head\n",
        "    prev = dummy\n",
        "    curr = head\n",
        "    count = 0\n",
        "\n",
        "    while curr:\n",
        "        count += 1\n",
        "        if count % k == 0:\n",
        "            prev = reverse_segment(prev, curr.next)\n",
        "            curr = prev.next\n",
        "        else:\n",
        "            curr = curr.next\n",
        "\n",
        "    return dummy.next\n",
        "\n",
        "def reverse_segment(prev, next_node):\n",
        "    last = prev.next\n",
        "    curr = last.next\n",
        "\n",
        "    while curr != next_node:\n",
        "        last.next = curr.next\n",
        "        curr.next = prev.next\n",
        "        prev.next = curr\n",
        "        curr = last.next\n",
        "\n",
        "    return last"
      ],
      "metadata": {
        "id": "oQpw1pMPL6G1"
      },
      "execution_count": 11,
      "outputs": []
    },
    {
      "cell_type": "code",
      "source": [
        "# Testing the algorithm\n",
        "# Example 1\n",
        "# LinkedList: 1->2->2->4->5->6->7->8\n",
        "node8 = ListNode(8)\n",
        "node7 = ListNode(7, node8)\n",
        "node6 = ListNode(6, node7)\n",
        "node5 = ListNode(5, node6)\n",
        "node4 = ListNode(4, node5)\n",
        "node2_2 = ListNode(2, node4)\n",
        "node2_1 = ListNode(2, node2_2)\n",
        "node1 = ListNode(1, node2_1)\n",
        "\n",
        "new_list = reverse_k_nodes(node1, 4)\n",
        "while new_list:\n",
        "    print(new_list.val, end=\" \")\n",
        "    new_list = new_list.next"
      ],
      "metadata": {
        "colab": {
          "base_uri": "https://localhost:8080/"
        },
        "id": "D9xX74AgL-4g",
        "outputId": "328d34dc-d85c-41d6-ba9f-0386a5120918"
      },
      "execution_count": 12,
      "outputs": [
        {
          "output_type": "stream",
          "name": "stdout",
          "text": [
            "4 2 2 1 8 7 6 5 "
          ]
        }
      ]
    },
    {
      "cell_type": "code",
      "source": [
        "# Example 2\n",
        "# LinkedList: 1->2->3->4->5\n",
        "node5 = ListNode(5)\n",
        "node4 = ListNode(4, node5)\n",
        "node3 = ListNode(3, node4)\n",
        "node2 = ListNode(2, node3)\n",
        "node1 = ListNode(1, node2)\n",
        "\n",
        "new_list = reverse_k_nodes(node1, 3)\n",
        "while new_list:\n",
        "    print(new_list.val, end=\" \")\n",
        "    new_list = new_list.next"
      ],
      "metadata": {
        "colab": {
          "base_uri": "https://localhost:8080/"
        },
        "id": "ViZ82nh-MDeV",
        "outputId": "c7f88a7b-2b99-4a3f-fb59-102c099d8720"
      },
      "execution_count": 13,
      "outputs": [
        {
          "output_type": "stream",
          "name": "stdout",
          "text": [
            "3 2 1 4 5 "
          ]
        }
      ]
    },
    {
      "cell_type": "markdown",
      "source": [
        "The time complexity of this algorithm is O(n), where n is the number of nodes in the linked list, as it traverses the list once. \n",
        "\n",
        "The space complexity is O(1) as it uses a constant amount of additional space."
      ],
      "metadata": {
        "id": "FY8q6MArMPV_"
      }
    },
    {
      "cell_type": "markdown",
      "source": [
        "💡 **Question 4**\n",
        "\n",
        "Given a linked list, write a function to reverse every alternate k nodes (where k is an input to the function) in an efficient way. Give the complexity of your algorithm.\n",
        "\n",
        "**Example:**\n",
        "<br>Inputs:   1->2->3->4->5->6->7->8->9->NULL and k = 3\n",
        "<br>Output:   3->2->1->4->5->6->9->8->7->NULL."
      ],
      "metadata": {
        "id": "t5JFv3nNMWq9"
      }
    },
    {
      "cell_type": "markdown",
      "source": [
        "**Ans**"
      ],
      "metadata": {
        "id": "P2XZ79nrMq_t"
      }
    },
    {
      "cell_type": "markdown",
      "source": [
        "To reverse every alternate k nodes in a linked list efficiently, we can use a recursive approach."
      ],
      "metadata": {
        "id": "khzexiDJMtEh"
      }
    },
    {
      "cell_type": "code",
      "source": [
        "class ListNode:\n",
        "    def __init__(self, val=0, next=None):\n",
        "        self.val = val\n",
        "        self.next = next\n",
        "\n",
        "def reverse_alternate_k_nodes(head, k):\n",
        "    if not head or k <= 1:\n",
        "        return head\n",
        "\n",
        "    curr = head\n",
        "    prev = None\n",
        "    count = 0\n",
        "\n",
        "    # Reverse first k nodes\n",
        "    while curr and count < k:\n",
        "        next_node = curr.next\n",
        "        curr.next = prev\n",
        "        prev = curr\n",
        "        curr = next_node\n",
        "        count += 1\n",
        "\n",
        "    # Connect the reversed k nodes with the next segment\n",
        "    if curr:\n",
        "        head.next = curr\n",
        "\n",
        "    # Skip next k nodes\n",
        "    count = 0\n",
        "    while curr and count < k-1:\n",
        "        curr = curr.next\n",
        "        count += 1\n",
        "\n",
        "    # Recursive call on the remaining list\n",
        "    if curr:\n",
        "        curr.next = reverse_alternate_k_nodes(curr.next, k)\n",
        "\n",
        "    return prev"
      ],
      "metadata": {
        "id": "Oj1RGbRXM-ws"
      },
      "execution_count": 16,
      "outputs": []
    },
    {
      "cell_type": "code",
      "source": [
        "# Testing the algorithm\n",
        "# Input: 1->2->3->4->5->6->7->8->9->NULL and k = 3\n",
        "node9 = ListNode(9)\n",
        "node8 = ListNode(8, node9)\n",
        "node7 = ListNode(7, node8)\n",
        "node6 = ListNode(6, node7)\n",
        "node5 = ListNode(5, node6)\n",
        "node4 = ListNode(4, node5)\n",
        "node3 = ListNode(3, node4)\n",
        "node2 = ListNode(2, node3)\n",
        "node1 = ListNode(1, node2)\n",
        "\n",
        "new_list = reverse_alternate_k_nodes(node1, 3)\n",
        "while new_list:\n",
        "    print(new_list.val, end=\" \")\n",
        "    new_list = new_list.next"
      ],
      "metadata": {
        "colab": {
          "base_uri": "https://localhost:8080/"
        },
        "id": "KFhuVXMjNDUP",
        "outputId": "fbaa88ee-4978-4007-f969-1ba940e3ad99"
      },
      "execution_count": 17,
      "outputs": [
        {
          "output_type": "stream",
          "name": "stdout",
          "text": [
            "3 2 1 4 5 6 9 8 7 "
          ]
        }
      ]
    },
    {
      "cell_type": "markdown",
      "source": [
        "The time complexity of this algorithm is O(n), where n is the number of nodes in the linked list. \n",
        "\n",
        "The space complexity is O(1) as it uses a constant amount of additional space."
      ],
      "metadata": {
        "id": "WZVjS4CiNqFU"
      }
    },
    {
      "cell_type": "markdown",
      "source": [
        "💡 **Question 5**\n",
        "\n",
        "Given a linked list and a key to be deleted. Delete last occurrence of key from linked. The list may have duplicates.\n",
        "\n",
        "**Examples:**\n",
        "<br>Input:   1->2->3->5->2->10, key = 2\n",
        "<br>Output:  1->2->3->5->10"
      ],
      "metadata": {
        "id": "4AYkH9xmNxdt"
      }
    },
    {
      "cell_type": "markdown",
      "source": [
        "**Ans**"
      ],
      "metadata": {
        "id": "m33PJTDXPejr"
      }
    },
    {
      "cell_type": "markdown",
      "source": [
        "To solve this problem, we can use a two-pass approach. In the first pass, we'll find the last occurrence of the key in the linked list. In the second pass, we'll delete that node."
      ],
      "metadata": {
        "id": "f608NMHmPgaM"
      }
    },
    {
      "cell_type": "code",
      "source": [
        "class ListNode:\n",
        "    def __init__(self, val=0, next=None):\n",
        "        self.val = val\n",
        "        self.next = next\n",
        "\n",
        "\n",
        "def delete_last_occurrence(head, key):\n",
        "    if not head:\n",
        "        return head\n",
        "\n",
        "    # Find the last occurrence of the key\n",
        "    last_occurrence = None\n",
        "    current = head\n",
        "    while current:\n",
        "        if current.val == key:\n",
        "            last_occurrence = current\n",
        "        current = current.next\n",
        "\n",
        "    # If no occurrence found, return the original list\n",
        "    if not last_occurrence:\n",
        "        return head\n",
        "\n",
        "    # Delete the last occurrence\n",
        "    if last_occurrence == head:\n",
        "        return head.next\n",
        "\n",
        "    current = head\n",
        "    while current.next != last_occurrence:\n",
        "        current = current.next\n",
        "    current.next = last_occurrence.next\n",
        "\n",
        "    return head"
      ],
      "metadata": {
        "id": "KHsPUGXONH1H"
      },
      "execution_count": 18,
      "outputs": []
    },
    {
      "cell_type": "code",
      "source": [
        "# Testing the algorithm\n",
        "# Input: 1->2->3->5->2->10, key = 2\n",
        "node6 = ListNode(10)\n",
        "node5 = ListNode(2, node6)\n",
        "node4 = ListNode(5, node5)\n",
        "node3 = ListNode(3, node4)\n",
        "node2 = ListNode(2, node3)\n",
        "node1 = ListNode(1, node2)\n",
        "\n",
        "new_list = delete_last_occurrence(node1, 2)\n",
        "while new_list:\n",
        "    print(new_list.val, end=\" \")\n",
        "    new_list = new_list.next"
      ],
      "metadata": {
        "colab": {
          "base_uri": "https://localhost:8080/"
        },
        "id": "n-JEQb7OPx_Y",
        "outputId": "7965d5f3-21fa-470e-90dd-2f640283b5dd"
      },
      "execution_count": 19,
      "outputs": [
        {
          "output_type": "stream",
          "name": "stdout",
          "text": [
            "1 2 3 5 10 "
          ]
        }
      ]
    },
    {
      "cell_type": "markdown",
      "source": [
        "The time complexity of this solution is O(n), where n is the length of the linked list, and the space complexity is O(1)."
      ],
      "metadata": {
        "id": "3I5GaoiyP5SX"
      }
    },
    {
      "cell_type": "markdown",
      "source": [
        "💡 **Question 6**\n",
        "\n",
        "Given two sorted linked lists consisting of **N** and **M** nodes respectively. The task is to merge both of the lists (in place) and return the head of the merged list.\n",
        "\n",
        "**Examples:**\n",
        "<br>Input: a: 5->10->15, b: 2->3->20\n",
        "\n",
        "Output: 2->3->5->10->15->20\n",
        "\n",
        "Input: a: 1->1, b: 2->4\n",
        "\n",
        "Output: 1->1->2->4"
      ],
      "metadata": {
        "id": "PKRz4XJyQI6t"
      }
    },
    {
      "cell_type": "markdown",
      "source": [
        "**Ans**\n",
        "<br>To merge two sorted linked lists in place, we can use a pointer-based approach. We'll maintain two pointers, one for each linked list, and compare the values at each node. We'll update the pointers accordingly to build the merged list."
      ],
      "metadata": {
        "id": "Ynx48DWEQcFF"
      }
    },
    {
      "cell_type": "code",
      "source": [
        "class ListNode:\n",
        "    def __init__(self, val=0, next=None):\n",
        "        self.val = val\n",
        "        self.next = next\n",
        "\n",
        "\n",
        "def merge_sorted_lists(a, b):\n",
        "    if not a:\n",
        "        return b\n",
        "    if not b:\n",
        "        return a\n",
        "\n",
        "    # Initialize the head of the merged list\n",
        "    if a.val <= b.val:\n",
        "        head = a\n",
        "        a = a.next\n",
        "    else:\n",
        "        head = b\n",
        "        b = b.next\n",
        "\n",
        "    current = head\n",
        "\n",
        "    # Merge the two lists\n",
        "    while a and b:\n",
        "        if a.val <= b.val:\n",
        "            current.next = a\n",
        "            a = a.next\n",
        "        else:\n",
        "            current.next = b\n",
        "            b = b.next\n",
        "        current = current.next\n",
        "\n",
        "    # Attach the remaining nodes, if any\n",
        "    if a:\n",
        "        current.next = a\n",
        "    elif b:\n",
        "        current.next = b\n",
        "\n",
        "    return head"
      ],
      "metadata": {
        "id": "ksCDEnnbP2Dd"
      },
      "execution_count": 20,
      "outputs": []
    },
    {
      "cell_type": "code",
      "source": [
        "# Testing the algorithm\n",
        "# Input: a: 5->10->15, b: 2->3->20\n",
        "node3 = ListNode(15)\n",
        "node2 = ListNode(10, node3)\n",
        "node1 = ListNode(5, node2)\n",
        "list_a = node1\n",
        "\n",
        "node6 = ListNode(20)\n",
        "node5 = ListNode(3, node6)\n",
        "node4 = ListNode(2, node5)\n",
        "list_b = node4\n",
        "\n",
        "merged_list = merge_sorted_lists(list_a, list_b)\n",
        "while merged_list:\n",
        "    print(merged_list.val, end=\" \")\n",
        "    merged_list = merged_list.next"
      ],
      "metadata": {
        "colab": {
          "base_uri": "https://localhost:8080/"
        },
        "id": "KO57_AKiQ2vh",
        "outputId": "ceaa6036-f772-42b6-9688-f707a467999c"
      },
      "execution_count": 21,
      "outputs": [
        {
          "output_type": "stream",
          "name": "stdout",
          "text": [
            "2 3 5 10 15 20 "
          ]
        }
      ]
    },
    {
      "cell_type": "markdown",
      "source": [
        "The time complexity of this solution is O(N + M), where N and M are the lengths of the input linked lists, and the space complexity is O(1) since we are not using any additional space."
      ],
      "metadata": {
        "id": "ehiY0bRURBLm"
      }
    },
    {
      "cell_type": "markdown",
      "source": [
        "💡 **Question 7**\n",
        "\n",
        "Given a **Doubly Linked List**, the task is to reverse the given Doubly Linked List.\n",
        "\n",
        "**Example:**\n",
        "<br>Original Linked list 10 8 4 2\n",
        "<br>Reversed Linked list 2 4 8 10"
      ],
      "metadata": {
        "id": "lRfqiGdOROyi"
      }
    },
    {
      "cell_type": "markdown",
      "source": [
        "**Ans**\n",
        "<br>To reverse a doubly linked list, we need to reverse the links between the nodes. We can do this by swapping the next and prev pointers for each node."
      ],
      "metadata": {
        "id": "Zt07f3BaRgKM"
      }
    },
    {
      "cell_type": "code",
      "source": [
        "class Node:\n",
        "    def __init__(self, data):\n",
        "        self.data = data\n",
        "        self.next = None\n",
        "        self.prev = None\n",
        "\n",
        "\n",
        "def reverse_doubly_linked_list(head):\n",
        "    # Check if the list is empty or only contains one node\n",
        "    if not head or not head.next:\n",
        "        return head\n",
        "\n",
        "    current = head\n",
        "    prev_node = None\n",
        "\n",
        "    # Reverse the links between nodes\n",
        "    while current:\n",
        "        # Swap the next and prev pointers for the current node\n",
        "        current.next, current.prev = current.prev, current.next\n",
        "\n",
        "        # Move to the next node\n",
        "        prev_node = current\n",
        "        current = current.prev\n",
        "\n",
        "    # Update the head of the reversed list\n",
        "    head = prev_node\n",
        "\n",
        "    return head"
      ],
      "metadata": {
        "id": "BpkuORK_Q751"
      },
      "execution_count": 22,
      "outputs": []
    },
    {
      "cell_type": "code",
      "source": [
        "# Testing the algorithm\n",
        "# Original Linked list 10 8 4 2\n",
        "node4 = Node(2)\n",
        "node3 = Node(4)\n",
        "node2 = Node(8)\n",
        "node1 = Node(10)\n",
        "\n",
        "node1.next = node2\n",
        "node2.prev = node1\n",
        "node2.next = node3\n",
        "node3.prev = node2\n",
        "node3.next = node4\n",
        "node4.prev = node3\n",
        "\n",
        "reversed_list = reverse_doubly_linked_list(node1)\n",
        "while reversed_list:\n",
        "    print(reversed_list.data, end=\" \")\n",
        "    reversed_list = reversed_list.next"
      ],
      "metadata": {
        "colab": {
          "base_uri": "https://localhost:8080/"
        },
        "id": "a6LysNzgRy_0",
        "outputId": "e23ef163-99e6-43d8-a404-041a1250fd46"
      },
      "execution_count": 23,
      "outputs": [
        {
          "output_type": "stream",
          "name": "stdout",
          "text": [
            "2 4 8 10 "
          ]
        }
      ]
    },
    {
      "cell_type": "markdown",
      "source": [
        "The time complexity of this solution is O(N), where N is the length of the doubly linked list, and the space complexity is O(1) since we are not using any additional space."
      ],
      "metadata": {
        "id": "dCMzHbliR54q"
      }
    },
    {
      "cell_type": "markdown",
      "source": [
        "💡 **Question 8**\n",
        "\n",
        "Given a doubly linked list and a position. The task is to delete a node from given position in a doubly linked list.\n",
        "\n",
        "**Example 1:**\n",
        "<br>Input:\n",
        "<br>LinkedList = 1 <--> 3 <--> 4\n",
        "<br>x = 3\n",
        "<br>Output:1 3\n",
        "<br>Explanation:After deleting the node at\n",
        "position 3 (position starts from 1),\n",
        "the linked list will be now as 1->3.\n",
        "\n",
        "**Example 2:**\n",
        "<br>Input:\n",
        "<br>LinkedList = 1 <--> 5 <--> 2 <--> 9\n",
        "<br>x = 1\n",
        "<br>Output:5 2 9\n"
      ],
      "metadata": {
        "id": "N7TriBZ4R-OK"
      }
    },
    {
      "cell_type": "markdown",
      "source": [
        "**Ans**\n",
        "<br> To delete a node from a given position in a doubly linked list, we need to update the next and prev pointers of the surrounding nodes to remove the node from the list."
      ],
      "metadata": {
        "id": "arOd_2NAScK8"
      }
    },
    {
      "cell_type": "code",
      "source": [
        "class Node:\n",
        "    def __init__(self, data):\n",
        "        self.data = data\n",
        "        self.next = None\n",
        "        self.prev = None\n",
        "\n",
        "\n",
        "def delete_node(head, position):\n",
        "    # Check if the list is empty\n",
        "    if not head:\n",
        "        return head\n",
        "\n",
        "    # Check if the position is valid\n",
        "    if position == 1:\n",
        "        if head.next:\n",
        "            head = head.next\n",
        "            head.prev = None\n",
        "        else:\n",
        "            head = None\n",
        "        return head\n",
        "\n",
        "    current = head\n",
        "    count = 1\n",
        "\n",
        "    # Traverse to the node at the given position\n",
        "    while current and count < position:\n",
        "        current = current.next\n",
        "        count += 1\n",
        "\n",
        "    # Check if the position is out of range\n",
        "    if not current:\n",
        "        return head\n",
        "\n",
        "    # Update the links of the surrounding nodes\n",
        "    current.prev.next = current.next\n",
        "    if current.next:\n",
        "        current.next.prev = current.prev\n",
        "\n",
        "    return head"
      ],
      "metadata": {
        "id": "OzPLz2ANR3WU"
      },
      "execution_count": 24,
      "outputs": []
    },
    {
      "cell_type": "code",
      "source": [
        "# Testing the algorithm\n",
        "# LinkedList = 1 <--> 3 <--> 4\n",
        "node3 = Node(4)\n",
        "node2 = Node(3)\n",
        "node1 = Node(1)\n",
        "\n",
        "node1.next = node2\n",
        "node2.prev = node1\n",
        "node2.next = node3\n",
        "node3.prev = node2\n",
        "\n",
        "position = 3\n",
        "new_head = delete_node(node1, position)\n",
        "while new_head:\n",
        "    print(new_head.data, end=\" \")\n",
        "    new_head = new_head.next"
      ],
      "metadata": {
        "colab": {
          "base_uri": "https://localhost:8080/"
        },
        "id": "fueLV1y-TADt",
        "outputId": "faa03a30-9473-48a8-dcaa-8145be05f346"
      },
      "execution_count": 25,
      "outputs": [
        {
          "output_type": "stream",
          "name": "stdout",
          "text": [
            "1 3 "
          ]
        }
      ]
    },
    {
      "cell_type": "code",
      "source": [
        "# LinkedList = 1 <--> 5 <--> 2 <--> 9\n",
        "node4 = Node(9)\n",
        "node3 = Node(2)\n",
        "node2 = Node(5)\n",
        "node1 = Node(1)\n",
        "\n",
        "node1.next = node2\n",
        "node2.prev = node1\n",
        "node2.next = node3\n",
        "node3.prev = node2\n",
        "node3.next = node4\n",
        "node4.prev = node3\n",
        "\n",
        "position = 1\n",
        "new_head = delete_node(node1, position)\n",
        "while new_head:\n",
        "    print(new_head.data, end=\" \")\n",
        "    new_head = new_head.next"
      ],
      "metadata": {
        "colab": {
          "base_uri": "https://localhost:8080/"
        },
        "id": "5wSTWEU-TEGl",
        "outputId": "729d1767-02df-4e1c-a54c-fd86d7506b10"
      },
      "execution_count": 26,
      "outputs": [
        {
          "output_type": "stream",
          "name": "stdout",
          "text": [
            "5 2 9 "
          ]
        }
      ]
    },
    {
      "cell_type": "markdown",
      "source": [
        "The time complexity of this solution is O(N), where N is the length of the doubly linked list, and the space complexity is O(1) since we are not using any additional space."
      ],
      "metadata": {
        "id": "uVGBuseTTPZO"
      }
    }
  ]
}