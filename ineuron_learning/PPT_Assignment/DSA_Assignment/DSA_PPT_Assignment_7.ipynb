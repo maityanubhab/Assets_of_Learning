{
  "nbformat": 4,
  "nbformat_minor": 0,
  "metadata": {
    "colab": {
      "provenance": []
    },
    "kernelspec": {
      "name": "python3",
      "display_name": "Python 3"
    },
    "language_info": {
      "name": "python"
    }
  },
  "cells": [
    {
      "cell_type": "markdown",
      "source": [
        "💡 **Question 1**\n",
        "\n",
        "Given two strings s and t, *determine if they are isomorphic*.\n",
        "\n",
        "Two strings s and t are isomorphic if the characters in s can be replaced to get t.\n",
        "\n",
        "All occurrences of a character must be replaced with another character while preserving the order of characters. No two characters may map to the same character, but a character may map to itself.\n",
        "\n",
        "**Example 1:**\n",
        "\n",
        "**Input:** s = \"egg\", t = \"add\"\n",
        "\n",
        "**Output:** true"
      ],
      "metadata": {
        "id": "CxuFy30vnwkP"
      }
    },
    {
      "cell_type": "markdown",
      "source": [
        "**Ans**"
      ],
      "metadata": {
        "id": "zikLL3naty-F"
      }
    },
    {
      "cell_type": "markdown",
      "source": [
        "**Solution Approach 1 : brute force approach**\n",
        "1. Iterate over each character, char, in s:\n",
        "  1. Check if char exists in a dictionary, mapping, as a key.\n",
        "      * If it does, compare the corresponding value with the current character in t. If they are not the same, return False.\n",
        "      * If it does not, check if the current character in t exists as a value in mapping. If it does, return False.\n",
        "      * If it does not, add the current character in t as the value corresponding to char in mapping.\n",
        "2. If the loop completes without returning False, return True."
      ],
      "metadata": {
        "id": "w_4GqnCot1_C"
      }
    },
    {
      "cell_type": "code",
      "execution_count": 1,
      "metadata": {
        "id": "aSgnxzokngOd"
      },
      "outputs": [],
      "source": [
        "# Brute force approach\n",
        "def isomorphic_brute_force(s, t):\n",
        "    if len(s) != len(t):\n",
        "        return False\n",
        "\n",
        "    mapping = {}\n",
        "    for i in range(len(s)):\n",
        "        char_s = s[i]\n",
        "        char_t = t[i]\n",
        "\n",
        "        if char_s in mapping:\n",
        "            if mapping[char_s] != char_t:\n",
        "                return False\n",
        "        else:\n",
        "            if char_t in mapping.values():\n",
        "                return False\n",
        "            mapping[char_s] = char_t\n",
        "\n",
        "    return True"
      ]
    },
    {
      "cell_type": "code",
      "source": [
        "# Example usage and additional test cases\n",
        "s1 = \"egg\"\n",
        "t1 = \"add\"\n",
        "print(isomorphic_brute_force(s1, t1)) "
      ],
      "metadata": {
        "colab": {
          "base_uri": "https://localhost:8080/"
        },
        "id": "Ba06IWX8t37K",
        "outputId": "86d3d6db-ee99-4da2-87fd-3a127de63093"
      },
      "execution_count": 2,
      "outputs": [
        {
          "output_type": "stream",
          "name": "stdout",
          "text": [
            "True\n"
          ]
        }
      ]
    },
    {
      "cell_type": "code",
      "source": [
        "s2 = \"foo\"\n",
        "t2 = \"bar\"\n",
        "print(isomorphic_brute_force(s2, t2)) "
      ],
      "metadata": {
        "colab": {
          "base_uri": "https://localhost:8080/"
        },
        "id": "si2o_W7w2e4y",
        "outputId": "498010ea-5ab0-483d-db0e-1bd90f8c7cea"
      },
      "execution_count": 3,
      "outputs": [
        {
          "output_type": "stream",
          "name": "stdout",
          "text": [
            "False\n"
          ]
        }
      ]
    },
    {
      "cell_type": "markdown",
      "source": [
        "# Discussion :\n",
        "The time complexity of this approach is O(n), where n is the length of the strings s and t. This is because we iterate over each character once. \n",
        "\n",
        "The space complexity is also O(n) because in the worst case, we would need to store all characters of s and t in the mapping dictionary."
      ],
      "metadata": {
        "id": "Cq4_SYeJ3D6i"
      }
    },
    {
      "cell_type": "markdown",
      "source": [
        "**Solution Approach 2**\n",
        "**Optimized approach**\n",
        "<br>Alternatively, we can use two dictionaries to track the mappings from s to t and from t to s. If at any point, we find inconsistent mappings, we return False. Otherwise, we return True if the loop completes without issues. This approach eliminates the need to check if a character already exists in the mapping dictionary values."
      ],
      "metadata": {
        "id": "HB30S0zJ3Swi"
      }
    },
    {
      "cell_type": "code",
      "source": [
        "# Optimized approach\n",
        "def isomorphic_optimized(s, t):\n",
        "    if len(s) != len(t):\n",
        "        return False\n",
        "\n",
        "    s_to_t = {}\n",
        "    t_to_s = {}\n",
        "    for i in range(len(s)):\n",
        "        char_s = s[i]\n",
        "        char_t = t[i]\n",
        "\n",
        "        if char_s in s_to_t:\n",
        "            if s_to_t[char_s] != char_t:\n",
        "                return False\n",
        "        else:\n",
        "            s_to_t[char_s] = char_t\n",
        "\n",
        "        if char_t in t_to_s:\n",
        "            if t_to_s[char_t] != char_s:\n",
        "                return False\n",
        "        else:\n",
        "            t_to_s[char_t] = char_s\n",
        "\n",
        "    return True"
      ],
      "metadata": {
        "id": "vN8Ri1JO2fD7"
      },
      "execution_count": 4,
      "outputs": []
    },
    {
      "cell_type": "code",
      "source": [
        "# Example usage and additional test cases\n",
        "s1 = \"egg\"\n",
        "t1 = \"add\"\n",
        "print(isomorphic_optimized(s1, t1)) "
      ],
      "metadata": {
        "colab": {
          "base_uri": "https://localhost:8080/"
        },
        "id": "TYd3uuYFt4Fa",
        "outputId": "01b5f345-13c5-46e9-f17f-6e6327a3d3e5"
      },
      "execution_count": 5,
      "outputs": [
        {
          "output_type": "stream",
          "name": "stdout",
          "text": [
            "True\n"
          ]
        }
      ]
    },
    {
      "cell_type": "code",
      "source": [
        "s2 = \"foo\"\n",
        "t2 = \"bar\"\n",
        "print(isomorphic_optimized(s2, t2)) "
      ],
      "metadata": {
        "colab": {
          "base_uri": "https://localhost:8080/"
        },
        "id": "oBEwTRw65gI4",
        "outputId": "eed3b47d-6aa8-4c03-a980-0ef88a48c07f"
      },
      "execution_count": 6,
      "outputs": [
        {
          "output_type": "stream",
          "name": "stdout",
          "text": [
            "False\n"
          ]
        }
      ]
    },
    {
      "cell_type": "markdown",
      "source": [
        "# Discussion :\n",
        "The time complexity of the isomorphic function is O(n), where n is the length of the strings s and t. This is because we iterate over each character once, performing constant-time operations for each iteration.\n",
        "\n",
        "The space complexity of the isomorphic function is also O(n), where n is the length of the strings s and t. In the worst case, we may need to store all characters of s and t in the s_to_t and t_to_s dictionaries, respectively. Therefore, the space required grows linearly with the input size."
      ],
      "metadata": {
        "id": "H4yHFjev5ugQ"
      }
    },
    {
      "cell_type": "markdown",
      "source": [
        "💡 **Question 2**\n",
        "\n",
        "Given a string num which represents an integer, return true *if* num *is a **strobogrammatic number***.\n",
        "\n",
        "A **strobogrammatic number** is a number that looks the same when rotated 180 degrees (looked at upside down).\n",
        "\n",
        "**Example 1:**\n",
        "\n",
        "**Input:** num = \"69\"\n",
        "\n",
        "**Output:**\n",
        "\n",
        "true"
      ],
      "metadata": {
        "id": "Y_8T0wdyt4cj"
      }
    },
    {
      "cell_type": "markdown",
      "source": [
        "**Ans**"
      ],
      "metadata": {
        "id": "SwJWPbSVuAiD"
      }
    },
    {
      "cell_type": "markdown",
      "source": [
        "**Solution Approach 1 : brute force approach**\n",
        "1. Initialize an empty string, rotated_num, to store the rotated version of num.\n",
        "2. Iterate over each character, digit, in num in reverse order:\n",
        "    1. Check if digit is a valid strobogrammatic digit ('0', '1', '6', '8', '9').\n",
        "      * If it is, append the corresponding rotated digit to rotated_num.\n",
        "      * If it is not, return False as num is not a strobogrammatic number.\n",
        "3. Compare rotated_num with the original num. If they are equal, return True; otherwise, return False."
      ],
      "metadata": {
        "id": "tFw9pgLNuD5r"
      }
    },
    {
      "cell_type": "code",
      "source": [
        "# Brute force approach\n",
        "def is_strobogrammatic_brute_force(num):\n",
        "    rotated_num = ''\n",
        "    for digit in reversed(num):\n",
        "        if digit == '0' or digit == '1' or digit == '8':\n",
        "            rotated_num += digit\n",
        "        elif digit == '6':\n",
        "            rotated_num += '9'\n",
        "        elif digit == '9':\n",
        "            rotated_num += '6'\n",
        "        else:\n",
        "            return False\n",
        "    return rotated_num == num"
      ],
      "metadata": {
        "id": "PsAp1u4GuEfr"
      },
      "execution_count": 7,
      "outputs": []
    },
    {
      "cell_type": "code",
      "source": [
        "# Example usage and additional test cases\n",
        "num1 = \"69\"\n",
        "print(is_strobogrammatic_brute_force(num1)) "
      ],
      "metadata": {
        "colab": {
          "base_uri": "https://localhost:8080/"
        },
        "id": "DvExuTLquEoS",
        "outputId": "538c687e-2d3e-41cb-95e5-6755d66fe796"
      },
      "execution_count": 8,
      "outputs": [
        {
          "output_type": "stream",
          "name": "stdout",
          "text": [
            "True\n"
          ]
        }
      ]
    },
    {
      "cell_type": "code",
      "source": [
        "num4 = \"123\"\n",
        "print(is_strobogrammatic_brute_force(num4))"
      ],
      "metadata": {
        "colab": {
          "base_uri": "https://localhost:8080/"
        },
        "id": "jbJ3FPDSuDLM",
        "outputId": "a0b9b8d0-611e-4885-c29b-2e00f8bb4062"
      },
      "execution_count": 9,
      "outputs": [
        {
          "output_type": "stream",
          "name": "stdout",
          "text": [
            "False\n"
          ]
        }
      ]
    },
    {
      "cell_type": "markdown",
      "source": [
        "# Discussion :\n",
        "The time complexity of this approach is O(n), where n is the length of the string num. This is because we iterate over each character once. \n",
        "\n",
        "The space complexity is also O(n) because we store the rotated number rotated_num in a separate string."
      ],
      "metadata": {
        "id": "ykVCdtok7HOY"
      }
    },
    {
      "cell_type": "markdown",
      "source": [
        "**Solution Approach 2 : Optimized approach**\n",
        "<br>we can use two pointers starting from the beginning and end of num and compare the corresponding digits to check if they are strobogrammatic. This approach avoids the need to construct a rotated number."
      ],
      "metadata": {
        "id": "UiJSfWuM7dSS"
      }
    },
    {
      "cell_type": "code",
      "source": [
        "# Optimized approach\n",
        "def is_strobogrammatic(num):\n",
        "    strobogrammatic_digits = {'0': '0', '1': '1', '6': '9', '8': '8', '9': '6'}\n",
        "    left = 0\n",
        "    right = len(num) - 1\n",
        "    while left <= right:\n",
        "        if num[left] not in strobogrammatic_digits or num[right] != strobogrammatic_digits[num[left]]:\n",
        "            return False\n",
        "        left += 1\n",
        "        right -= 1\n",
        "    return True"
      ],
      "metadata": {
        "id": "NX8EJ1-o7uuR"
      },
      "execution_count": 10,
      "outputs": []
    },
    {
      "cell_type": "code",
      "source": [
        "# Example usage and additional test cases\n",
        "num1 = \"69\"\n",
        "print(is_strobogrammatic(num1))  "
      ],
      "metadata": {
        "colab": {
          "base_uri": "https://localhost:8080/"
        },
        "id": "RlNt-Mnk7vBb",
        "outputId": "cf8b2db4-a2d2-485e-a66b-cfbf876d3ec9"
      },
      "execution_count": 11,
      "outputs": [
        {
          "output_type": "stream",
          "name": "stdout",
          "text": [
            "True\n"
          ]
        }
      ]
    },
    {
      "cell_type": "code",
      "source": [
        "num4 = \"123\"\n",
        "print(is_strobogrammatic(num4))  "
      ],
      "metadata": {
        "colab": {
          "base_uri": "https://localhost:8080/"
        },
        "id": "VZB9P31u7vKE",
        "outputId": "db2f0e6a-f58b-49e6-d05b-0a00fce05924"
      },
      "execution_count": 12,
      "outputs": [
        {
          "output_type": "stream",
          "name": "stdout",
          "text": [
            "False\n"
          ]
        }
      ]
    },
    {
      "cell_type": "markdown",
      "source": [
        "# Discussion :\n",
        "The time complexity and space complexity of this approach are both O(n), where n is the length of the string num."
      ],
      "metadata": {
        "id": "g3nz8k9O7wGK"
      }
    },
    {
      "cell_type": "markdown",
      "source": [
        "💡 **Question 3**\n",
        "\n",
        "Given two non-negative integers, num1 and num2 represented as string, return *the sum of* num1 *and* num2 *as a string*.\n",
        "\n",
        "You must solve the problem without using any built-in library for handling large integers (such as BigInteger). You must also not convert the inputs to integers directly.\n",
        "\n",
        "**Example 1:**\n",
        "\n",
        "**Input:** num1 = \"11\", num2 = \"123\"\n",
        "\n",
        "**Output:**\n",
        "\n",
        "\"134\""
      ],
      "metadata": {
        "id": "zfgL77lQuFXD"
      }
    },
    {
      "cell_type": "markdown",
      "source": [
        "**Ans**"
      ],
      "metadata": {
        "id": "4DL6KxQNuMd7"
      }
    },
    {
      "cell_type": "markdown",
      "source": [
        "**Solution Approach 1 : brute force approach**\n",
        "1. Initialize an empty string, result, to store the sum of the two numbers.\n",
        "2. Set two pointers, i and j, initially pointing to the end of num1 and num2, respectively.\n",
        "3. Initialize a variable, carry, to store the carry-over value, starting with 0.\n",
        "4. Iterate until both pointers, i and j, reach the beginning of their respective strings:\n",
        "    1. Convert the characters at indices i and j to integers, x and y, respectively.\n",
        "    2. Compute the sum, sum_val, by adding x, y, and the carry-over value.\n",
        "    3. Calculate the new carry-over value by dividing sum_val by 10.\n",
        "    4. Append the least significant digit of sum_val (obtained by taking the remainder when divided by 10) to the beginning of result.\n",
        "    5. Decrement i and j by 1 to move to the next digit in num1 and num2, respectively.\n",
        "5. If there is a remaining carry-over value, append it to the beginning of result.\n",
        "6. Reverse result to obtain the correct order of digits.\n",
        "7. Return result as the sum of num1 and num2."
      ],
      "metadata": {
        "id": "huyjMe71uOlb"
      }
    },
    {
      "cell_type": "code",
      "source": [
        "# Brute force approach\n",
        "def addStrings_brute_force(num1, num2):\n",
        "    i = len(num1) - 1\n",
        "    j = len(num2) - 1\n",
        "    carry = 0\n",
        "    result = \"\"\n",
        "\n",
        "    while i >= 0 or j >= 0:\n",
        "        x = int(num1[i]) if i >= 0 else 0\n",
        "        y = int(num2[j]) if j >= 0 else 0\n",
        "\n",
        "        sum_val = x + y + carry\n",
        "        carry = sum_val // 10\n",
        "        result += str(sum_val % 10)\n",
        "\n",
        "        i -= 1\n",
        "        j -= 1\n",
        "\n",
        "    if carry:\n",
        "        result += str(carry)\n",
        "\n",
        "    return result[::-1]"
      ],
      "metadata": {
        "id": "eVOOAB38uOzL"
      },
      "execution_count": 13,
      "outputs": []
    },
    {
      "cell_type": "code",
      "source": [
        "# Example usage and additional test cases\n",
        "num1 = \"11\"\n",
        "num2 = \"123\"\n",
        "print(addStrings_brute_force(num1, num2)) "
      ],
      "metadata": {
        "colab": {
          "base_uri": "https://localhost:8080/"
        },
        "id": "DLQ9ZfQJuO7i",
        "outputId": "b3186ee0-f6ac-48fc-8ee2-18c445aea5ac"
      },
      "execution_count": 14,
      "outputs": [
        {
          "output_type": "stream",
          "name": "stdout",
          "text": [
            "134\n"
          ]
        }
      ]
    },
    {
      "cell_type": "code",
      "source": [
        "num3 = \"456\"\n",
        "num4 = \"77\"\n",
        "print(addStrings_brute_force(num3, num4))  "
      ],
      "metadata": {
        "colab": {
          "base_uri": "https://localhost:8080/"
        },
        "id": "dzytRjl9uPDj",
        "outputId": "23fdd2e1-f1dd-4a66-b747-45cfd709d3e4"
      },
      "execution_count": 15,
      "outputs": [
        {
          "output_type": "stream",
          "name": "stdout",
          "text": [
            "533\n"
          ]
        }
      ]
    },
    {
      "cell_type": "markdown",
      "source": [
        "# Discussion :\n",
        "Time Complexity: O(max(n1, n2))\n",
        "\n",
        "  * The algorithm iterates through the digits of the longer number, where n1 and n2 are the lengths of num1 and num2, respectively. It performs constant-time operations for each digit.\n",
        "  *In the worst case, where both num1 and num2 have the same length, the algorithm performs O(n) iterations, where n is the length of the input strings.\n",
        "\n",
        "Space Complexity: O(max(n1, n2))\n",
        "\n",
        "  * The space used by the algorithm is primarily for the output result, which can have at most max(n1, n2) + 1 digits.\n",
        "  * In the worst case, where both num1 and num2 have the same length, the space complexity is O(n), where n is the length of the input strings."
      ],
      "metadata": {
        "id": "OSwwna76_jgJ"
      }
    },
    {
      "cell_type": "markdown",
      "source": [
        "**Solution Approach 2 : Optimized Approach**\n",
        "<br>we can optimize the approach by using a single pointer and performing the addition directly on num1. This approach avoids the need to reverse the result."
      ],
      "metadata": {
        "id": "of6-O1xZ_57_"
      }
    },
    {
      "cell_type": "code",
      "source": [
        "\n",
        "# Optimized approach\n",
        "def addStrings(num1, num2):\n",
        "    i = len(num1) - 1\n",
        "    j = len(num2) - 1\n",
        "    carry = 0\n",
        "    result = \"\"\n",
        "\n",
        "    while i >= 0 or j >= 0 or carry:\n",
        "        x = int(num1[i]) if i >= 0 else 0\n",
        "        y = int(num2[j]) if j >= 0 else 0\n",
        "\n",
        "        sum_val = x + y + carry\n",
        "        carry = sum_val // 10\n",
        "        result = str(sum_val % 10) + result\n",
        "\n",
        "        i -= 1\n",
        "        j -= 1\n",
        "\n",
        "    return result"
      ],
      "metadata": {
        "id": "lSh8AZDGAKgJ"
      },
      "execution_count": 16,
      "outputs": []
    },
    {
      "cell_type": "code",
      "source": [
        "# Example usage and additional test cases\n",
        "num1 = \"11\"\n",
        "num2 = \"123\"\n",
        "print(addStrings(num1, num2))"
      ],
      "metadata": {
        "colab": {
          "base_uri": "https://localhost:8080/"
        },
        "id": "Vw2_ATjKAK55",
        "outputId": "99e1727a-ed6f-42d2-fffa-795f716a6879"
      },
      "execution_count": 17,
      "outputs": [
        {
          "output_type": "stream",
          "name": "stdout",
          "text": [
            "134\n"
          ]
        }
      ]
    },
    {
      "cell_type": "code",
      "source": [
        "num3 = \"456\"\n",
        "num4 = \"77\"\n",
        "print(addStrings(num3, num4)) "
      ],
      "metadata": {
        "colab": {
          "base_uri": "https://localhost:8080/"
        },
        "id": "zUUOqZyBALDx",
        "outputId": "d1ea5ad4-2aef-44ed-cb93-52deb5863f3a"
      },
      "execution_count": 18,
      "outputs": [
        {
          "output_type": "stream",
          "name": "stdout",
          "text": [
            "533\n"
          ]
        }
      ]
    },
    {
      "cell_type": "markdown",
      "source": [
        "# Discussion :\n",
        "Time Complexity: O(max(n1, n2))\n",
        "\n",
        "  * The algorithm iterates through the digits of the longer number, where n1 and n2 are the lengths of num1 and num2, respectively. It performs constant-time operations for each digit.\n",
        "  * In the worst case, where both num1 and num2 have the same length, the algorithm performs O(n) iterations, where n is the length of the input strings.\n",
        "\n",
        "Space Complexity: O(max(n1, n2))\n",
        "\n",
        "  * The space used by the algorithm is primarily for the output result.\n",
        "  * The space complexity is O(max(n1, n2)) because the size of result can be at most max(n1, n2) + 1 digits."
      ],
      "metadata": {
        "id": "5vZj_DgnApaC"
      }
    },
    {
      "cell_type": "markdown",
      "source": [
        "💡 **Question 4**\n",
        "\n",
        "Given a string s, reverse the order of characters in each word within a sentence while still preserving whitespace and initial word order.\n",
        "\n",
        "**Example 1:**\n",
        "\n",
        "**Input:** s = \"Let's take LeetCode contest\"\n",
        "\n",
        "**Output:** \"s'teL ekat edoCteeL tsetnoc\""
      ],
      "metadata": {
        "id": "mQazHzKLuPWD"
      }
    },
    {
      "cell_type": "markdown",
      "source": [
        "**Ans**"
      ],
      "metadata": {
        "id": "Dw4rX6LouWyc"
      }
    },
    {
      "cell_type": "markdown",
      "source": [
        "**Solution Approach 1 : Brute force approach**\n",
        "1. Split the sentence into words using whitespace as the delimiter, and store the words in a list.\n",
        "2. Iterate through each word in the list:\n",
        "  * Reverse the characters in the word.\n",
        "3. Join the reversed words back together using whitespace as the separator to form the final result."
      ],
      "metadata": {
        "id": "vh-J-tEdurIT"
      }
    },
    {
      "cell_type": "code",
      "source": [
        "# Brute force approach\n",
        "def reverseWords_brute_force(s):\n",
        "    words = s.split()\n",
        "    reversed_words = []\n",
        "    for word in words:\n",
        "        reversed_words.append(word[::-1])\n",
        "    return ' '.join(reversed_words)"
      ],
      "metadata": {
        "id": "LuCHXbBpuris"
      },
      "execution_count": 19,
      "outputs": []
    },
    {
      "cell_type": "code",
      "source": [
        "# Example usage and additional test cases\n",
        "s1 = \"Let's take LeetCode contest\"\n",
        "print(reverseWords_brute_force(s1)) "
      ],
      "metadata": {
        "colab": {
          "base_uri": "https://localhost:8080/"
        },
        "id": "pj_tcjKBurrS",
        "outputId": "48bebf1b-6f31-4060-b4cd-9b09d0e7b933"
      },
      "execution_count": 20,
      "outputs": [
        {
          "output_type": "stream",
          "name": "stdout",
          "text": [
            "s'teL ekat edoCteeL tsetnoc\n"
          ]
        }
      ]
    },
    {
      "cell_type": "code",
      "source": [
        "s2 = \"Hello World\"\n",
        "print(reverseWords_brute_force(s2)) "
      ],
      "metadata": {
        "colab": {
          "base_uri": "https://localhost:8080/"
        },
        "id": "FDFQrUKYurzS",
        "outputId": "656a687b-f439-49c9-e3a5-2d1a9ba2c133"
      },
      "execution_count": 21,
      "outputs": [
        {
          "output_type": "stream",
          "name": "stdout",
          "text": [
            "olleH dlroW\n"
          ]
        }
      ]
    },
    {
      "cell_type": "markdown",
      "source": [
        "# Discussion :\n",
        "The time complexity of this approach is O(n), where n is the length of the input string s. We split the string into words, iterate through each word, and join the reversed words back together, each operation taking linear time. \n",
        "\n",
        "The space complexity is O(n) as well, considering the space used to store the reversed words."
      ],
      "metadata": {
        "id": "-sAntKXRG9rA"
      }
    },
    {
      "cell_type": "markdown",
      "source": [
        "**Solution Approach 2 : optimized approach**\n",
        "<br>we can optimize the approach by using a list comprehension and avoiding the need to explicitly split and join the string."
      ],
      "metadata": {
        "id": "YNX7yh8GHQ5e"
      }
    },
    {
      "cell_type": "code",
      "source": [
        "# Optimized approach\n",
        "def reverseWords(s):\n",
        "    return ' '.join(word[::-1] for word in s.split())"
      ],
      "metadata": {
        "id": "1phZh0mQHcff"
      },
      "execution_count": 22,
      "outputs": []
    },
    {
      "cell_type": "code",
      "source": [
        "# Example usage and additional test cases\n",
        "s1 = \"Let's take LeetCode contest\"\n",
        "print(reverseWords(s1))  "
      ],
      "metadata": {
        "colab": {
          "base_uri": "https://localhost:8080/"
        },
        "id": "YBjdE2msHcsg",
        "outputId": "721d0442-8f6a-44e5-dbb6-3219c6050a86"
      },
      "execution_count": 23,
      "outputs": [
        {
          "output_type": "stream",
          "name": "stdout",
          "text": [
            "s'teL ekat edoCteeL tsetnoc\n"
          ]
        }
      ]
    },
    {
      "cell_type": "code",
      "source": [
        "s2 = \"Hello World\"\n",
        "print(reverseWords(s2))  "
      ],
      "metadata": {
        "colab": {
          "base_uri": "https://localhost:8080/"
        },
        "id": "uup57Nm7Hc3O",
        "outputId": "aeb7a12e-3d27-4016-8bdb-67ee723e6e8b"
      },
      "execution_count": 24,
      "outputs": [
        {
          "output_type": "stream",
          "name": "stdout",
          "text": [
            "olleH dlroW\n"
          ]
        }
      ]
    },
    {
      "cell_type": "markdown",
      "source": [
        "# Discussion :\n",
        "The time complexity and space complexity of the optimized approach remain the same as the brute force approach: O(n) for both."
      ],
      "metadata": {
        "id": "nUmI9QhQHy_H"
      }
    },
    {
      "cell_type": "markdown",
      "source": [
        "💡 **Question 5**\n",
        "\n",
        "Given a string s and an integer k, reverse the first k characters for every 2k characters counting from the start of the string.\n",
        "\n",
        "If there are fewer than k characters left, reverse all of them. If there are less than 2k but greater than or equal to k characters, then reverse the first k characters and leave the other as original.\n",
        "\n",
        "**Example 1:**\n",
        "\n",
        "**Input:** s = \"abcdefg\", k = 2\n",
        "\n",
        "**Output:**\n",
        "\n",
        "\"bacdfeg\""
      ],
      "metadata": {
        "id": "tfAChsyIusDc"
      }
    },
    {
      "cell_type": "markdown",
      "source": [
        "**Ans**"
      ],
      "metadata": {
        "id": "tS5xFoaBuyid"
      }
    },
    {
      "cell_type": "markdown",
      "source": [
        "**Solution Approach 1 : brute force approach**\n",
        "1. Initialize an empty string, result, to store the final result.\n",
        "2. Iterate through the string in chunks of 2k characters:\n",
        "    1. Reverse the first k characters in the current chunk and append them to result.\n",
        "    2. Append the remaining characters in the current chunk (after the reversed section) to result.\n",
        "3. Return result as the final result."
      ],
      "metadata": {
        "id": "PygP_u8Qvjhb"
      }
    },
    {
      "cell_type": "code",
      "source": [
        "# Brute force approach\n",
        "def reverseStr_brute_force(s, k):\n",
        "    result = \"\"\n",
        "    n = len(s)\n",
        "    \n",
        "    for i in range(0, n, 2 * k):\n",
        "        result += s[i:i+k][::-1] + s[i+k:i+2*k]\n",
        "    \n",
        "    return result"
      ],
      "metadata": {
        "id": "7bH8kUBsvj0D"
      },
      "execution_count": 25,
      "outputs": []
    },
    {
      "cell_type": "code",
      "source": [
        "# Example usage and additional test cases\n",
        "s1 = \"abcdefg\"\n",
        "k1 = 2\n",
        "print(reverseStr_brute_force(s1, k1)) "
      ],
      "metadata": {
        "colab": {
          "base_uri": "https://localhost:8080/"
        },
        "id": "xX3602Ncvj7V",
        "outputId": "23801baf-22a2-4b6e-ae16-e5c01904c275"
      },
      "execution_count": 26,
      "outputs": [
        {
          "output_type": "stream",
          "name": "stdout",
          "text": [
            "bacdfeg\n"
          ]
        }
      ]
    },
    {
      "cell_type": "code",
      "source": [
        "s2 = \"abcd\"\n",
        "k2 = 3\n",
        "print(reverseStr_brute_force(s2, k2))"
      ],
      "metadata": {
        "colab": {
          "base_uri": "https://localhost:8080/"
        },
        "id": "ZXdhokZJvkDS",
        "outputId": "4dd00fa5-5ae1-482b-f00e-1936f6d52c57"
      },
      "execution_count": 27,
      "outputs": [
        {
          "output_type": "stream",
          "name": "stdout",
          "text": [
            "cbad\n"
          ]
        }
      ]
    },
    {
      "cell_type": "markdown",
      "source": [
        "# Discussion :\n",
        "The time complexity of this approach is O(n), where n is the length of the input string s. We iterate through the string once, processing each character and appending them to the result string. \n",
        "\n",
        "The space complexity is O(n) as well, considering the space used to store the result."
      ],
      "metadata": {
        "id": "L2DTZWAmI4vX"
      }
    },
    {
      "cell_type": "markdown",
      "source": [
        "**Solution Approach 2 : optimized approach**\n",
        "<br>we can optimize the approach by converting the string into a list of characters and performing in-place reversal of the first k characters in each chunk."
      ],
      "metadata": {
        "id": "3VgTMnAtJB8A"
      }
    },
    {
      "cell_type": "code",
      "source": [
        "# Optimized approach\n",
        "def reverseStr(s, k):\n",
        "    chars = list(s)\n",
        "    n = len(chars)\n",
        "    \n",
        "    for i in range(0, n, 2 * k):\n",
        "        left = i\n",
        "        right = min(i + k - 1, n - 1)\n",
        "        \n",
        "        while left < right:\n",
        "            chars[left], chars[right] = chars[right], chars[left]\n",
        "            left += 1\n",
        "            right -= 1\n",
        "    \n",
        "    return \"\".join(chars)"
      ],
      "metadata": {
        "id": "FZV0vDdJI3wL"
      },
      "execution_count": 28,
      "outputs": []
    },
    {
      "cell_type": "code",
      "source": [
        "# Example usage and additional test cases\n",
        "s1 = \"abcdefg\"\n",
        "k1 = 2\n",
        "print(reverseStr(s1, k1)) "
      ],
      "metadata": {
        "colab": {
          "base_uri": "https://localhost:8080/"
        },
        "id": "8SQN9gH2JSf4",
        "outputId": "9b4bbc04-4de0-4678-fd54-7d327b1e3aec"
      },
      "execution_count": 29,
      "outputs": [
        {
          "output_type": "stream",
          "name": "stdout",
          "text": [
            "bacdfeg\n"
          ]
        }
      ]
    },
    {
      "cell_type": "code",
      "source": [
        "s2 = \"abcd\"\n",
        "k2 = 3\n",
        "print(reverseStr(s2, k2))  "
      ],
      "metadata": {
        "colab": {
          "base_uri": "https://localhost:8080/"
        },
        "id": "1IgvNoJoJWeA",
        "outputId": "492d4b96-cf5e-4ffa-ed25-1ec94fc91f7a"
      },
      "execution_count": 30,
      "outputs": [
        {
          "output_type": "stream",
          "name": "stdout",
          "text": [
            "cbad\n"
          ]
        }
      ]
    },
    {
      "cell_type": "markdown",
      "source": [
        "💡 **Question 6**\n",
        "\n",
        "Given two strings s and goal, return true *if and only if* s *can become* goal *after some number of **shifts** on* s.\n",
        "\n",
        "A **shift** on s consists of moving the leftmost character of s to the rightmost position.\n",
        "\n",
        "- For example, if s = \"abcde\", then it will be \"bcdea\" after one shift.\n",
        "\n",
        "**Example 1:**\n",
        "\n",
        "**Input:** s = \"abcde\", goal = \"cdeab\"\n",
        "\n",
        "**Output:**\n",
        "\n",
        "true"
      ],
      "metadata": {
        "id": "chIq4ONzJcAe"
      }
    },
    {
      "cell_type": "markdown",
      "source": [
        "**Ans**"
      ],
      "metadata": {
        "id": "BPB8SP46JyhE"
      }
    },
    {
      "cell_type": "markdown",
      "source": [
        "**Solution Approach 1 : brute force approach**\n",
        "1. Concatenate s with itself to create a new string s2 with a length of 2 times the length of s.\n",
        "2. Check if goal is a substring of s2.\n",
        "3. If goal is a substring of s2, return True; otherwise, return False."
      ],
      "metadata": {
        "id": "k5n6v8kVJ2Qr"
      }
    },
    {
      "cell_type": "code",
      "source": [
        "# Brute force approach\n",
        "def rotateString_brute_force(s, goal):\n",
        "    s2 = s + s\n",
        "    return goal in s2"
      ],
      "metadata": {
        "id": "TcDB10uOJakA"
      },
      "execution_count": 31,
      "outputs": []
    },
    {
      "cell_type": "code",
      "source": [
        "# Example usage and additional test cases\n",
        "s1 = \"abcde\"\n",
        "goal1 = \"cdeab\"\n",
        "print(rotateString_brute_force(s1, goal1))"
      ],
      "metadata": {
        "colab": {
          "base_uri": "https://localhost:8080/"
        },
        "id": "JFrxHUcoKLDB",
        "outputId": "68fc0b0b-27a8-4e7a-caca-ac7e18e7f3ce"
      },
      "execution_count": 32,
      "outputs": [
        {
          "output_type": "stream",
          "name": "stdout",
          "text": [
            "True\n"
          ]
        }
      ]
    },
    {
      "cell_type": "code",
      "source": [
        "s2 = \"hello\"\n",
        "goal2 = \"lohel\"\n",
        "print(rotateString_brute_force(s2, goal2)) "
      ],
      "metadata": {
        "colab": {
          "base_uri": "https://localhost:8080/"
        },
        "id": "zZzk2NErKPKJ",
        "outputId": "6ee50bde-8563-48dd-adea-3a1a40a8eba8"
      },
      "execution_count": 33,
      "outputs": [
        {
          "output_type": "stream",
          "name": "stdout",
          "text": [
            "True\n"
          ]
        }
      ]
    },
    {
      "cell_type": "markdown",
      "source": [
        "# Discussion :\n",
        "The time complexity of this approach is O(n^2), where n is the length of the input string s. The concatenation of s with itself takes O(n) time, and the substring search takes O(n) time as well, resulting in a total time complexity of O(n^2).\n",
        "\n",
        "The space complexity is O(n) since we create a new string s2 of length 2n."
      ],
      "metadata": {
        "id": "AcBK2hBGKbYX"
      }
    },
    {
      "cell_type": "markdown",
      "source": [
        "**Solution Approach 2 : optimized approach**\n",
        "<br>we can optimize the approach by checking if the length of s and goal are equal before performing the substring search."
      ],
      "metadata": {
        "id": "lCjbvgGjKwEw"
      }
    },
    {
      "cell_type": "code",
      "source": [
        "# Optimized approach\n",
        "def rotateString(s, goal):\n",
        "    if len(s) != len(goal):\n",
        "        return False\n",
        "\n",
        "    s2 = s + s\n",
        "    return goal in s2"
      ],
      "metadata": {
        "id": "ze67nb-AK-y_"
      },
      "execution_count": 34,
      "outputs": []
    },
    {
      "cell_type": "code",
      "source": [
        "# Example usage and additional test cases\n",
        "s1 = \"abcde\"\n",
        "goal1 = \"cdeab\"\n",
        "print(rotateString(s1, goal1))  "
      ],
      "metadata": {
        "colab": {
          "base_uri": "https://localhost:8080/"
        },
        "id": "Qa5Ye_BrLB14",
        "outputId": "aa1227c1-46a1-491e-bab2-7db06af1c3ef"
      },
      "execution_count": 35,
      "outputs": [
        {
          "output_type": "stream",
          "name": "stdout",
          "text": [
            "True\n"
          ]
        }
      ]
    },
    {
      "cell_type": "code",
      "source": [
        "s2 = \"hello\"\n",
        "goal2 = \"lohel\"\n",
        "print(rotateString(s2, goal2))"
      ],
      "metadata": {
        "colab": {
          "base_uri": "https://localhost:8080/"
        },
        "id": "X6ama0VLLFiB",
        "outputId": "5f6bf97c-5e45-4b6a-dccb-9f1347dfb2df"
      },
      "execution_count": 36,
      "outputs": [
        {
          "output_type": "stream",
          "name": "stdout",
          "text": [
            "True\n"
          ]
        }
      ]
    },
    {
      "cell_type": "markdown",
      "source": [
        "# Discussion :\n",
        "The time complexity and space complexity of the optimized approach remain the same as the brute force approach: O(n^2) time complexity and O(n) space complexity."
      ],
      "metadata": {
        "id": "HQFMeMpgLNP2"
      }
    },
    {
      "cell_type": "markdown",
      "source": [
        "💡 **Question 7**\n",
        "\n",
        "Given two strings s and t, return true *if they are equal when both are typed into empty text editors*. '#' means a backspace character.\n",
        "\n",
        "Note that after backspacing an empty text, the text will continue empty.\n",
        "\n",
        "**Example 1:**\n",
        "\n",
        "**Input:** s = \"ab#c\", t = \"ad#c\"\n",
        "\n",
        "**Output:** true\n",
        "\n",
        "**Explanation:**\n",
        "\n",
        "Both s and t become \"ac\"."
      ],
      "metadata": {
        "id": "A_vM_XW5LZCp"
      }
    },
    {
      "cell_type": "markdown",
      "source": [
        "**Ans**"
      ],
      "metadata": {
        "id": "_7xvqJMlLzaP"
      }
    },
    {
      "cell_type": "markdown",
      "source": [
        "**Solution Approach 1 : brute force approach**\n",
        "1. Define a helper function, buildString, that takes a string as input and returns the final string after applying backspaces.\n",
        "    1. Initialize an empty stack to store characters.\n",
        "    2. Iterate through the string:\n",
        "        * If the current character is not a backspace ('#'), push it onto the stack.\n",
        "        * If the current character is a backspace ('#') and the stack is not empty, pop a character from the stack.\n",
        "    3. Convert the stack to a string and return it as the final result.\n",
        "2. Apply the buildString function to both s and t, and compare the resulting strings. Return True if they are equal; otherwise, return False."
      ],
      "metadata": {
        "id": "yRV5PUFuL1rB"
      }
    },
    {
      "cell_type": "code",
      "source": [
        "# Brute force approach\n",
        "def backspaceCompare_brute_force(s, t):\n",
        "    def buildString(string):\n",
        "        stack = []\n",
        "        for char in string:\n",
        "            if char != '#':\n",
        "                stack.append(char)\n",
        "            elif stack:\n",
        "                stack.pop()\n",
        "        return ''.join(stack)\n",
        "\n",
        "    return buildString(s) == buildString(t)"
      ],
      "metadata": {
        "id": "5kx0rgW-LLOB"
      },
      "execution_count": 37,
      "outputs": []
    },
    {
      "cell_type": "code",
      "source": [
        "# Example usage and additional test cases\n",
        "s1 = \"ab#c\"\n",
        "t1 = \"ad#c\"\n",
        "print(backspaceCompare_brute_force(s1, t1))"
      ],
      "metadata": {
        "colab": {
          "base_uri": "https://localhost:8080/"
        },
        "id": "Mln3OWxPMw4b",
        "outputId": "ee57daf2-af5b-471e-f1ae-5777d28daffd"
      },
      "execution_count": 38,
      "outputs": [
        {
          "output_type": "stream",
          "name": "stdout",
          "text": [
            "True\n"
          ]
        }
      ]
    },
    {
      "cell_type": "code",
      "source": [
        "s4 = \"a#c\"\n",
        "t4 = \"b\"\n",
        "print(backspaceCompare_brute_force(s4, t4))"
      ],
      "metadata": {
        "colab": {
          "base_uri": "https://localhost:8080/"
        },
        "id": "XOf100L-M0ov",
        "outputId": "160fcc80-32ca-4be1-a67e-c7347627ced1"
      },
      "execution_count": 39,
      "outputs": [
        {
          "output_type": "stream",
          "name": "stdout",
          "text": [
            "False\n"
          ]
        }
      ]
    },
    {
      "cell_type": "markdown",
      "source": [
        "# Discussion :\n",
        "The time complexity of this approach is O(n + m), where n and m are the lengths of strings s and t, respectively. We iterate through both strings once to build the final strings after applying backspaces. \n",
        "\n",
        "The space complexity is O(n + m) as well, considering the space used to store the characters in the stacks."
      ],
      "metadata": {
        "id": "Gx770qXMM7Uh"
      }
    },
    {
      "cell_type": "markdown",
      "source": [
        "**Solution Approach 2 : optimized approach**\n",
        "<br> we can optimize the approach by using two pointers to compare characters in s and t without explicitly building the final strings."
      ],
      "metadata": {
        "id": "GCDOCViCNDpe"
      }
    },
    {
      "cell_type": "code",
      "source": [
        "# Optimized approach\n",
        "def backspaceCompare(s, t):\n",
        "    def getNextValidChar(string, index):\n",
        "        backspace_count = 0\n",
        "        while index >= 0:\n",
        "            if string[index] == '#':\n",
        "                backspace_count += 1\n",
        "            elif backspace_count > 0:\n",
        "                backspace_count -= 1\n",
        "            else:\n",
        "                return string[index]\n",
        "            index -= 1\n",
        "        return ''\n",
        "\n",
        "    i = len(s) - 1\n",
        "    j = len(t) - 1\n",
        "\n",
        "    while i >= 0 or j >= 0:\n",
        "        char_s = getNextValidChar(s, i)\n",
        "        char_t = getNextValidChar(t, j)\n",
        "\n",
        "        if char_s != char_t:\n",
        "            return False\n",
        "\n",
        "        i -= 1\n",
        "        j -= 1\n",
        "\n",
        "    return True"
      ],
      "metadata": {
        "id": "5XfQZ9JANM8-"
      },
      "execution_count": 40,
      "outputs": []
    },
    {
      "cell_type": "code",
      "source": [
        "# Example usage and additional test cases\n",
        "s1 = \"ab#c\"\n",
        "t1 = \"ad#c\"\n",
        "print(backspaceCompare(s1, t1)) "
      ],
      "metadata": {
        "colab": {
          "base_uri": "https://localhost:8080/"
        },
        "id": "jv-5NZqxNS8S",
        "outputId": "e2d9d855-e0f1-460a-965c-0ca0765fc217"
      },
      "execution_count": 41,
      "outputs": [
        {
          "output_type": "stream",
          "name": "stdout",
          "text": [
            "False\n"
          ]
        }
      ]
    },
    {
      "cell_type": "code",
      "source": [
        "s4 = \"a#c\"\n",
        "t4 = \"b\"\n",
        "print(backspaceCompare(s4, t4)) "
      ],
      "metadata": {
        "colab": {
          "base_uri": "https://localhost:8080/"
        },
        "id": "aSQn9yB6NXfo",
        "outputId": "f6b4fff0-ee95-44de-e971-1cafe5116c1c"
      },
      "execution_count": 42,
      "outputs": [
        {
          "output_type": "stream",
          "name": "stdout",
          "text": [
            "False\n"
          ]
        }
      ]
    },
    {
      "cell_type": "markdown",
      "source": [
        "# Discussion :\n",
        "The time complexity of the optimized approach is O(n + m), where n and m are the lengths of strings s and t, respectively. We iterate through both strings once using the two pointers. \n",
        "\n",
        "The space complexity is O(1) since we only use a constant amount of space for variables."
      ],
      "metadata": {
        "id": "O99nE6NwNmvg"
      }
    },
    {
      "cell_type": "markdown",
      "source": [
        "💡 **Question 8**\n",
        "\n",
        "You are given an array coordinates, coordinates[i] = [x, y], where [x, y] represents the coordinate of a point. Check if these points make a straight line in the XY plane.\n",
        "\n",
        "**Example 1:**\n",
        "**Input:** coordinates = [[1,2],[2,3],[3,4],[4,5],[5,6],[6,7]]\n",
        "\n",
        "**Output:** true"
      ],
      "metadata": {
        "id": "ao1GNVP0NxfI"
      }
    },
    {
      "cell_type": "markdown",
      "source": [
        "**Ans**"
      ],
      "metadata": {
        "id": "JlR-dsw2N8_H"
      }
    },
    {
      "cell_type": "markdown",
      "source": [
        "**Solution Approach: brute force approach**"
      ],
      "metadata": {
        "id": "u9uEfLxSN_X2"
      }
    },
    {
      "cell_type": "code",
      "source": [
        "def checkStraightLine(coordinates):\n",
        "    if len(coordinates) <= 2:\n",
        "        return True\n",
        "\n",
        "    x0, y0 = coordinates[0]\n",
        "    x1, y1 = coordinates[1]\n",
        "\n",
        "    # Calculate the slope between the first two points\n",
        "    if x1 - x0 == 0:\n",
        "        slope = float('inf')\n",
        "    else:\n",
        "        slope = (y1 - y0) / (x1 - x0)\n",
        "\n",
        "    # Compare the slopes between the remaining points\n",
        "    for i in range(2, len(coordinates)):\n",
        "        xi, yi = coordinates[i]\n",
        "        if xi - x0 == 0:\n",
        "            curr_slope = float('inf')\n",
        "        else:\n",
        "            curr_slope = (yi - y0) / (xi - x0)\n",
        "\n",
        "        if curr_slope != slope:\n",
        "            return False\n",
        "\n",
        "    return True"
      ],
      "metadata": {
        "id": "ryWHg6R2OTbQ"
      },
      "execution_count": 43,
      "outputs": []
    },
    {
      "cell_type": "code",
      "source": [
        "# Test cases for brute force approach\n",
        "coordinates1 = [[1, 2], [2, 3], [3, 4], [4, 5], [5, 6], [6, 7]]\n",
        "print(checkStraightLine(coordinates1)) "
      ],
      "metadata": {
        "colab": {
          "base_uri": "https://localhost:8080/"
        },
        "id": "6KaYOiO1OZlf",
        "outputId": "792c56f3-0592-4354-de1f-12d34df58402"
      },
      "execution_count": 44,
      "outputs": [
        {
          "output_type": "stream",
          "name": "stdout",
          "text": [
            "True\n"
          ]
        }
      ]
    },
    {
      "cell_type": "code",
      "source": [
        "coordinates2 = [[1, 2], [2, 3], [3, 4], [4, 5], [5, 6], [7, 8]]\n",
        "print(checkStraightLine(coordinates2))"
      ],
      "metadata": {
        "colab": {
          "base_uri": "https://localhost:8080/"
        },
        "id": "YA6MlWgLOjbn",
        "outputId": "dcb0a877-4bd2-4ab7-831f-f2a46224beda"
      },
      "execution_count": 45,
      "outputs": [
        {
          "output_type": "stream",
          "name": "stdout",
          "text": [
            "True\n"
          ]
        }
      ]
    },
    {
      "cell_type": "markdown",
      "source": [
        "# Discussion :\n",
        "The time complexity of this approach is O(n), where n is the number of points (length of coordinates). This is because we iterate through all the points once to calculate and compare the slopes.\n",
        "\n",
        "The space complexity is O(1) because we are using a constant amount of extra space to store variables."
      ],
      "metadata": {
        "id": "_OjrUDucO0Zf"
      }
    }
  ]
}