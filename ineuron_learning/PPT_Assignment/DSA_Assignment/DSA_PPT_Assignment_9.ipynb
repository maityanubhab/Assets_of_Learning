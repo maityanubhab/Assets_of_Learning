{
  "nbformat": 4,
  "nbformat_minor": 0,
  "metadata": {
    "colab": {
      "provenance": []
    },
    "kernelspec": {
      "name": "python3",
      "display_name": "Python 3"
    },
    "language_info": {
      "name": "python"
    }
  },
  "cells": [
    {
      "cell_type": "markdown",
      "source": [
        "💡 **Question 1**\n",
        "\n",
        "Given an integer `n`, return *`true` if it is a power of two. Otherwise, return `false`*.\n",
        "\n",
        "An integer `n` is a power of two, if there exists an integer `x` such that `n == 2x`.\n",
        "\n",
        "**Example 1:**\n",
        "Input: n = 1 \n",
        "\n",
        "Output: true\n",
        "\n",
        "**Example 2:**\n",
        "Input: n = 16 \n",
        "\n",
        "Output: true\n",
        "\n",
        "**Example 3:**\n",
        "Input: n = 3 \n",
        "\n",
        "Output: false"
      ],
      "metadata": {
        "id": "pLQP_J9HSSnj"
      }
    },
    {
      "cell_type": "markdown",
      "source": [
        "**Ans**"
      ],
      "metadata": {
        "id": "qEmJdar8UnOL"
      }
    },
    {
      "cell_type": "markdown",
      "source": [
        "**Solution Approach 1 : Brute Force Approach**\n",
        "<br>One way to check if a number is a power of two is to repeatedly divide it by 2 until we reach 1. If at any point during the division the number becomes odd, then it is not a power of two. Otherwise, if we reach 1, the number is a power of two."
      ],
      "metadata": {
        "id": "iDu0ZU7XU_x5"
      }
    },
    {
      "cell_type": "code",
      "source": [
        "def isPowerOfTwo_bt(n):\n",
        "    if n <= 0:\n",
        "        return False\n",
        "    while n % 2 == 0:\n",
        "        n //= 2\n",
        "    return n == 1\n"
      ],
      "metadata": {
        "id": "XVcBHA0LWFIh"
      },
      "execution_count": 1,
      "outputs": []
    },
    {
      "cell_type": "code",
      "execution_count": 3,
      "metadata": {
        "colab": {
          "base_uri": "https://localhost:8080/"
        },
        "id": "uF9eKGNpSPFd",
        "outputId": "32656dc8-b44d-4147-f2d0-c2c6ad6522a6"
      },
      "outputs": [
        {
          "output_type": "stream",
          "name": "stdout",
          "text": [
            "True\n"
          ]
        }
      ],
      "source": [
        "# Test cases for the brute force approach\n",
        "print(isPowerOfTwo_bt(1))"
      ]
    },
    {
      "cell_type": "code",
      "source": [
        "print(isPowerOfTwo_bt(16))"
      ],
      "metadata": {
        "colab": {
          "base_uri": "https://localhost:8080/"
        },
        "id": "qjZo9QrKWTTz",
        "outputId": "883701a1-86db-46aa-c23c-51aac130e750"
      },
      "execution_count": 4,
      "outputs": [
        {
          "output_type": "stream",
          "name": "stdout",
          "text": [
            "True\n"
          ]
        }
      ]
    },
    {
      "cell_type": "code",
      "source": [
        "print(isPowerOfTwo_bt(3))"
      ],
      "metadata": {
        "colab": {
          "base_uri": "https://localhost:8080/"
        },
        "id": "XPuVRFQiWbtb",
        "outputId": "9c4daf26-fec7-4412-88fc-ee02d0bb0fcc"
      },
      "execution_count": 5,
      "outputs": [
        {
          "output_type": "stream",
          "name": "stdout",
          "text": [
            "False\n"
          ]
        }
      ]
    },
    {
      "cell_type": "markdown",
      "source": [
        "\n",
        "# Discussion :\n",
        "Time Complexity: The time complexity of this approach is O(log n) because we divide the number by 2 in each iteration until we reach 1.\n",
        "\n",
        "Space Complexity: The space complexity is O(1) because we are using a constant amount of extra space."
      ],
      "metadata": {
        "id": "R49nEDNvWkVD"
      }
    },
    {
      "cell_type": "markdown",
      "source": [
        "**Solution Approach 2 : Optimized Approach**\n",
        "<br>An optimized approach to check if a number is a power of two involves using the bitwise AND operation. A number that is a power of two has only one bit set in its binary representation (e.g., 2 = 10, 4 = 100, 8 = 1000). By performing a bitwise AND operation of a number and its predecessor (n & (n-1)), if the result is zero, then the number is a power of two."
      ],
      "metadata": {
        "id": "o3BXrnqHWrER"
      }
    },
    {
      "cell_type": "code",
      "source": [
        "def isPowerOfTwo(n):\n",
        "    if n <= 0:\n",
        "        return False\n",
        "    return n & (n - 1) == 0"
      ],
      "metadata": {
        "id": "bWAqk0lgW0da"
      },
      "execution_count": 7,
      "outputs": []
    },
    {
      "cell_type": "code",
      "source": [
        "# Test cases for the optimized approach\n",
        "print(isPowerOfTwo(1))"
      ],
      "metadata": {
        "colab": {
          "base_uri": "https://localhost:8080/"
        },
        "id": "0f6rpJAwWi6z",
        "outputId": "7b1d5e7d-c9ed-4c56-80e8-7c79e32b401a"
      },
      "execution_count": 8,
      "outputs": [
        {
          "output_type": "stream",
          "name": "stdout",
          "text": [
            "True\n"
          ]
        }
      ]
    },
    {
      "cell_type": "code",
      "source": [
        "print(isPowerOfTwo(16))"
      ],
      "metadata": {
        "colab": {
          "base_uri": "https://localhost:8080/"
        },
        "id": "OjfFi6ZVW-xa",
        "outputId": "2c887574-7662-4a00-8ca7-a31ddb5ebfb3"
      },
      "execution_count": 9,
      "outputs": [
        {
          "output_type": "stream",
          "name": "stdout",
          "text": [
            "True\n"
          ]
        }
      ]
    },
    {
      "cell_type": "code",
      "source": [
        "print(isPowerOfTwo(3))"
      ],
      "metadata": {
        "colab": {
          "base_uri": "https://localhost:8080/"
        },
        "id": "3DRzlaeZXBDL",
        "outputId": "29b94c21-14f1-4b1f-fbae-107a63ce0bb7"
      },
      "execution_count": 10,
      "outputs": [
        {
          "output_type": "stream",
          "name": "stdout",
          "text": [
            "False\n"
          ]
        }
      ]
    },
    {
      "cell_type": "markdown",
      "source": [
        "# Discussion :\n",
        "Time Complexity: The time complexity of this approach is O(1) because the bitwise AND operation can be performed in constant time.\n",
        "\n",
        "Space Complexity: The space complexity is O(1) because we are using a constant amount of extra space"
      ],
      "metadata": {
        "id": "a0AeORHYXFDA"
      }
    },
    {
      "cell_type": "markdown",
      "source": [
        "💡 **Question 2**\n",
        "\n",
        "Given a number n, find the sum of the first natural numbers.\n",
        "\n",
        "**Example 1:**\n",
        "\n",
        "Input: n = 3 \n",
        "\n",
        "Output: 6\n",
        "\n",
        "**Example 2:**\n",
        "\n",
        "Input  : 5 \n",
        "\n",
        "Output : 15"
      ],
      "metadata": {
        "id": "JOoj0QhVXLCQ"
      }
    },
    {
      "cell_type": "markdown",
      "source": [
        "**Ans**"
      ],
      "metadata": {
        "id": "DUx5kAf_XR5Q"
      }
    },
    {
      "cell_type": "markdown",
      "source": [
        "**Solution Approach 1 : Brute Force Approach**\n",
        "<br>One way to find the sum of the first n natural numbers is to iterate from 1 to n and keep adding each number to a running total."
      ],
      "metadata": {
        "id": "XiYUnH3bXT6A"
      }
    },
    {
      "cell_type": "code",
      "source": [
        "def sumOfFirstNNumbers_bt(n):\n",
        "    if n <= 0:\n",
        "        return 0\n",
        "    total = 0\n",
        "    for i in range(1, n + 1):\n",
        "        total += i\n",
        "    return total\n"
      ],
      "metadata": {
        "id": "QSfKDBXIXxEc"
      },
      "execution_count": 11,
      "outputs": []
    },
    {
      "cell_type": "code",
      "source": [
        "# Test cases for the brute force approach\n",
        "print(sumOfFirstNNumbers_bt(3))"
      ],
      "metadata": {
        "colab": {
          "base_uri": "https://localhost:8080/"
        },
        "id": "VXtMlz0YXxO_",
        "outputId": "9e75bc65-28a0-4b7c-fa85-9fc834997283"
      },
      "execution_count": 12,
      "outputs": [
        {
          "output_type": "stream",
          "name": "stdout",
          "text": [
            "6\n"
          ]
        }
      ]
    },
    {
      "cell_type": "code",
      "source": [
        "print(sumOfFirstNNumbers_bt(5))"
      ],
      "metadata": {
        "colab": {
          "base_uri": "https://localhost:8080/"
        },
        "id": "QN4mLENyX8JJ",
        "outputId": "5aa08f8c-1ac9-4d3a-c8d8-97fe06cd980d"
      },
      "execution_count": 13,
      "outputs": [
        {
          "output_type": "stream",
          "name": "stdout",
          "text": [
            "15\n"
          ]
        }
      ]
    },
    {
      "cell_type": "markdown",
      "source": [
        "# Discussion :\n",
        "Time Complexity: The time complexity of this approach is O(n) because we iterate from 1 to n.\n",
        "\n",
        "Space Complexity: The space complexity is O(1) because we are using a constant amount of extra space."
      ],
      "metadata": {
        "id": "rEYIWJkTYGeY"
      }
    },
    {
      "cell_type": "markdown",
      "source": [
        "**Solution Approach 2 : Optimized Approach**\n",
        "<br>An optimized approach to find the sum of the first n natural numbers is to use the formula for the sum of an arithmetic series. The sum of the first n natural numbers can be calculated using the formula: sum = (n * (n + 1)) / 2."
      ],
      "metadata": {
        "id": "E_ZRa1EiYOUI"
      }
    },
    {
      "cell_type": "code",
      "source": [
        "def sumOfFirstNNumbers(n):\n",
        "    if n <= 0:\n",
        "        return 0\n",
        "    return (n * (n + 1)) // 2"
      ],
      "metadata": {
        "id": "6QuLOsaXYYj8"
      },
      "execution_count": 14,
      "outputs": []
    },
    {
      "cell_type": "code",
      "source": [
        "# Test cases for the optimized approach\n",
        "print(sumOfFirstNNumbers(3))"
      ],
      "metadata": {
        "colab": {
          "base_uri": "https://localhost:8080/"
        },
        "id": "JRiH3TCxYY-o",
        "outputId": "1011e501-f4af-42e3-a18b-1326bd4bf87f"
      },
      "execution_count": 15,
      "outputs": [
        {
          "output_type": "stream",
          "name": "stdout",
          "text": [
            "6\n"
          ]
        }
      ]
    },
    {
      "cell_type": "code",
      "source": [
        "print(sumOfFirstNNumbers(5))"
      ],
      "metadata": {
        "colab": {
          "base_uri": "https://localhost:8080/"
        },
        "id": "b25EVFgpYiNg",
        "outputId": "9f7410ab-b4b4-409d-c9fd-f3e972dab3ed"
      },
      "execution_count": 16,
      "outputs": [
        {
          "output_type": "stream",
          "name": "stdout",
          "text": [
            "15\n"
          ]
        }
      ]
    },
    {
      "cell_type": "markdown",
      "source": [
        "# Discussion :\n",
        "Time Complexity: The time complexity of this approach is O(1) because we are performing a constant number of operations.\n",
        "\n",
        "Space Complexity: The space complexity is O(1) because we are using a constant amount of extra space."
      ],
      "metadata": {
        "id": "yq-t_dOfYj6A"
      }
    },
    {
      "cell_type": "markdown",
      "source": [
        "💡 **Question 3**\n",
        "\n",
        "****Given a positive integer, N. Find the factorial of N.**** \n",
        "\n",
        "**Example 1:**\n",
        "\n",
        "Input: N = 5 \n",
        "\n",
        "Output: 120\n",
        "\n",
        "**Example 2:**\n",
        "\n",
        "Input: N = 4\n",
        "\n",
        "Output: 24"
      ],
      "metadata": {
        "id": "FrCSu5SwYp4H"
      }
    },
    {
      "cell_type": "markdown",
      "source": [
        "**Ans**"
      ],
      "metadata": {
        "id": "Y6TurF9xZe4Y"
      }
    },
    {
      "cell_type": "markdown",
      "source": [
        "**Solution Approach 1 : Brute Force Approach**\n",
        "<br>The brute force approach to calculate the factorial of a positive integer is to iterate from 1 to N and multiply each number with a running product."
      ],
      "metadata": {
        "id": "H0Fk5ruPYvrY"
      }
    },
    {
      "cell_type": "code",
      "source": [
        "def factorial_bt(n):\n",
        "    if n < 0:\n",
        "        return None\n",
        "    if n == 0 or n == 1:\n",
        "        return 1\n",
        "    result = 1\n",
        "    for i in range(2, n + 1):\n",
        "        result *= i\n",
        "    return result"
      ],
      "metadata": {
        "id": "gbPs_ZdzZhtf"
      },
      "execution_count": 17,
      "outputs": []
    },
    {
      "cell_type": "code",
      "source": [
        "# Test cases for the brute force approach\n",
        "print(factorial_bt(5)) "
      ],
      "metadata": {
        "colab": {
          "base_uri": "https://localhost:8080/"
        },
        "id": "Jv6bqC8YZtMs",
        "outputId": "55b80beb-e80b-418d-d4d8-699c21bd6629"
      },
      "execution_count": 18,
      "outputs": [
        {
          "output_type": "stream",
          "name": "stdout",
          "text": [
            "120\n"
          ]
        }
      ]
    },
    {
      "cell_type": "code",
      "source": [
        "print(factorial_bt(4)) "
      ],
      "metadata": {
        "colab": {
          "base_uri": "https://localhost:8080/"
        },
        "id": "Dv-Bl5YxZzdj",
        "outputId": "a258e6c1-d63f-41a8-e5d1-48c408227479"
      },
      "execution_count": 19,
      "outputs": [
        {
          "output_type": "stream",
          "name": "stdout",
          "text": [
            "24\n"
          ]
        }
      ]
    },
    {
      "cell_type": "markdown",
      "source": [
        "# Discussion :\n",
        "Time Complexity: The time complexity of this approach is O(n) because we iterate from 2 to N.\n",
        "\n",
        "Space Complexity: The space complexity is O(1) because we are using a constant amount of extra space."
      ],
      "metadata": {
        "id": "-7ldTxSBZ7Fx"
      }
    },
    {
      "cell_type": "markdown",
      "source": [
        "**Solution Approach 2 : Optimized Approach**\n",
        "<br>An optimized approach to calculate the factorial of a positive integer is to use recursion. We can define the factorial function in terms of smaller subproblems, i.e., factorial(n) = n * factorial(n-1), with the base case being factorial(0) = 1."
      ],
      "metadata": {
        "id": "E33U5QMDaBja"
      }
    },
    {
      "cell_type": "code",
      "source": [
        "def factorial(n):\n",
        "    if n < 0:\n",
        "        return None\n",
        "    if n == 0 or n == 1:\n",
        "        return 1\n",
        "    return n * factorial(n - 1)"
      ],
      "metadata": {
        "id": "hpk6uHHlZ6D6"
      },
      "execution_count": 20,
      "outputs": []
    },
    {
      "cell_type": "code",
      "source": [
        "# Test cases for the optimized approach\n",
        "print(factorial(5))"
      ],
      "metadata": {
        "colab": {
          "base_uri": "https://localhost:8080/"
        },
        "id": "4wIEjsKDbLRT",
        "outputId": "fa9650ac-f6a2-47c7-d91f-8eec7b0fa4bb"
      },
      "execution_count": 21,
      "outputs": [
        {
          "output_type": "stream",
          "name": "stdout",
          "text": [
            "120\n"
          ]
        }
      ]
    },
    {
      "cell_type": "code",
      "source": [
        " print(factorial(4)) "
      ],
      "metadata": {
        "colab": {
          "base_uri": "https://localhost:8080/"
        },
        "id": "Oi_2oMSvbP1p",
        "outputId": "6485ab57-da25-4975-ab0f-0936899fa650"
      },
      "execution_count": 22,
      "outputs": [
        {
          "output_type": "stream",
          "name": "stdout",
          "text": [
            "24\n"
          ]
        }
      ]
    },
    {
      "cell_type": "markdown",
      "source": [
        "# Discussion :\n",
        "Time Complexity: The time complexity of this approach is O(n) because the recursion will have n levels, and each level performs a constant amount of work.\n",
        "\n",
        "Space Complexity: The space complexity is O(n) because the recursion will consume memory on the call stack, and the maximum depth of the call stack is n."
      ],
      "metadata": {
        "id": "34nzw5anbWSn"
      }
    },
    {
      "cell_type": "markdown",
      "source": [
        "💡 **Question 4**\n",
        "\n",
        "Given a number N and a power P, the task is to find the exponent of this number raised to the given power, i.e. N^P.\n",
        "\n",
        "**Example 1 :** \n",
        "\n",
        "Input: N = 5, P = 2\n",
        "\n",
        "Output: 25\n",
        "\n",
        "**Example 2 :**\n",
        "Input: N = 2, P = 5\n",
        "\n",
        "Output: 32"
      ],
      "metadata": {
        "id": "amalngb_b0zo"
      }
    },
    {
      "cell_type": "markdown",
      "source": [
        "**Ans**"
      ],
      "metadata": {
        "id": "WISq2Sqzb8Ph"
      }
    },
    {
      "cell_type": "markdown",
      "source": [
        "**Solution Approach 1: Brute Force Approach**\n",
        "<br>The brute force approach to calculate the exponent of a number raised to a given power is to multiply the number N by itself P times."
      ],
      "metadata": {
        "id": "yaTak-Qob-eh"
      }
    },
    {
      "cell_type": "code",
      "source": [
        "def power_bt(N, P):\n",
        "    result = 1\n",
        "    for _ in range(P):\n",
        "        result *= N\n",
        "    return result"
      ],
      "metadata": {
        "id": "8jA51q9LcsfJ"
      },
      "execution_count": 23,
      "outputs": []
    },
    {
      "cell_type": "code",
      "source": [
        "# Test cases for the brute force approach\n",
        "print(power_bt(5, 2)) "
      ],
      "metadata": {
        "colab": {
          "base_uri": "https://localhost:8080/"
        },
        "id": "M4c65vxkcx2K",
        "outputId": "a633bb94-3c6f-4cc8-af39-44fb8aa3239f"
      },
      "execution_count": 24,
      "outputs": [
        {
          "output_type": "stream",
          "name": "stdout",
          "text": [
            "25\n"
          ]
        }
      ]
    },
    {
      "cell_type": "code",
      "source": [
        " print(power_bt(2, 5)) "
      ],
      "metadata": {
        "colab": {
          "base_uri": "https://localhost:8080/"
        },
        "id": "Dsss92P0c4YK",
        "outputId": "724c73d6-ab7f-4ecd-9f97-bddabac3f044"
      },
      "execution_count": 25,
      "outputs": [
        {
          "output_type": "stream",
          "name": "stdout",
          "text": [
            "32\n"
          ]
        }
      ]
    },
    {
      "cell_type": "markdown",
      "source": [
        "# Discussion :\n",
        "Time Complexity: The time complexity of this approach is O(P) because we perform P multiplications.\n",
        "\n",
        "Space Complexity: The space complexity is O(1) because we are using a constant amount of extra space."
      ],
      "metadata": {
        "id": "XZpgX8tBc-SY"
      }
    },
    {
      "cell_type": "markdown",
      "source": [
        "**Solution Approach 2 : Optimized Approach**\n",
        "<br>An optimized approach to calculate the exponent of a number raised to a given power is to use the concept of exponentiation by squaring. This approach reduces the number of multiplications required.\n",
        "\n",
        "We can divide the power P by 2 and recursively calculate the result by squaring the base number N. If P is even, we multiply the squared result by itself. If P is odd, we multiply the squared result by itself and also multiply by the base number N."
      ],
      "metadata": {
        "id": "tDpQS-6HdJQa"
      }
    },
    {
      "cell_type": "code",
      "source": [
        "def power(N, P):\n",
        "    if P == 0:\n",
        "        return 1\n",
        "    elif P % 2 == 0:\n",
        "        half = power(N, P // 2)\n",
        "        return half * half\n",
        "    else:\n",
        "        half = power(N, (P - 1) // 2)\n",
        "        return N * half * half"
      ],
      "metadata": {
        "id": "9D1zAZVoc8x6"
      },
      "execution_count": 26,
      "outputs": []
    },
    {
      "cell_type": "code",
      "source": [
        "# Test cases for the optimized approach\n",
        "print(power(5, 2)) "
      ],
      "metadata": {
        "colab": {
          "base_uri": "https://localhost:8080/"
        },
        "id": "nZBoZlIEdWr5",
        "outputId": "574c3bd4-3621-4442-ce08-ecd80337dffe"
      },
      "execution_count": 27,
      "outputs": [
        {
          "output_type": "stream",
          "name": "stdout",
          "text": [
            "25\n"
          ]
        }
      ]
    },
    {
      "cell_type": "code",
      "source": [
        "print(power(2, 5)) "
      ],
      "metadata": {
        "colab": {
          "base_uri": "https://localhost:8080/"
        },
        "id": "ObMUz-06dbLx",
        "outputId": "f5423b37-af0e-456d-d969-4afc87a1c6e7"
      },
      "execution_count": 28,
      "outputs": [
        {
          "output_type": "stream",
          "name": "stdout",
          "text": [
            "32\n"
          ]
        }
      ]
    },
    {
      "cell_type": "markdown",
      "source": [
        "\n",
        "# Discussion :\n",
        "Time Complexity: The time complexity of this approach is O(log P) because we divide the power by 2 in each recursive call.\n",
        "\n",
        "Space Complexity: The space complexity is O(log P) because the recursion will consume memory on the call stack, and the maximum depth of the call stack is log P."
      ],
      "metadata": {
        "id": "rt-_dIqCdekY"
      }
    },
    {
      "cell_type": "markdown",
      "source": [
        "💡 **Question 5**\n",
        "\n",
        "Given an array of integers **arr**, the task is to find maximum element of that array using recursion.\n",
        "\n",
        "**Example 1:**\n",
        "\n",
        "Input: arr = {1, 4, 3, -5, -4, 8, 6};\n",
        "Output: 8\n",
        "\n",
        "**Example 2:**\n",
        "\n",
        "Input: arr = {1, 4, 45, 6, 10, -8};\n",
        "Output: 45"
      ],
      "metadata": {
        "id": "kDWOUbnCdlvX"
      }
    },
    {
      "cell_type": "markdown",
      "source": [
        "**Ans**"
      ],
      "metadata": {
        "id": "_iN7XQUxdtG5"
      }
    },
    {
      "cell_type": "markdown",
      "source": [
        "**Solution Approach 1 : Brute Force Approach**\n",
        "<br>The brute force approach to find the maximum element of an array using recursion is to compare each element with the maximum element found so far."
      ],
      "metadata": {
        "id": "FxlNjV0Ddvra"
      }
    },
    {
      "cell_type": "code",
      "source": [
        "def findMax_bt(arr, n):\n",
        "    if n == 1:\n",
        "        return arr[0]\n",
        "    return max(arr[n - 1], findMax_bt(arr, n - 1))"
      ],
      "metadata": {
        "id": "o_EgHLC9ddv5"
      },
      "execution_count": 29,
      "outputs": []
    },
    {
      "cell_type": "code",
      "source": [
        "# Test cases for the brute force approach\n",
        "arr1 = [1, 4, 3, -5, -4, 8, 6]\n",
        "print(findMax_bt(arr1, len(arr1)))"
      ],
      "metadata": {
        "colab": {
          "base_uri": "https://localhost:8080/"
        },
        "id": "aKQ8VyWveWX5",
        "outputId": "ff1786b5-aa1f-4d90-c9f4-71a428ba6121"
      },
      "execution_count": 30,
      "outputs": [
        {
          "output_type": "stream",
          "name": "stdout",
          "text": [
            "8\n"
          ]
        }
      ]
    },
    {
      "cell_type": "code",
      "source": [
        "arr2 = [1, 4, 45, 6, 10, -8]\n",
        "print(findMax_bt(arr2, len(arr2)))"
      ],
      "metadata": {
        "colab": {
          "base_uri": "https://localhost:8080/"
        },
        "id": "2lprlGDKefAh",
        "outputId": "82c82b03-ee79-4883-c48f-5442fa1a2b69"
      },
      "execution_count": 31,
      "outputs": [
        {
          "output_type": "stream",
          "name": "stdout",
          "text": [
            "45\n"
          ]
        }
      ]
    },
    {
      "cell_type": "markdown",
      "source": [
        "# Discussion :\n",
        "Time Complexity: The time complexity of this approach is O(n) because we recursively process each element once.\n",
        "\n",
        "Space Complexity: The space complexity is O(n) because the recursion will consume memory on the call stack, and the maximum depth of the call stack is n."
      ],
      "metadata": {
        "id": "R-KlHFmMelz3"
      }
    },
    {
      "cell_type": "markdown",
      "source": [
        "**Solution Approach 2 : Optimized Approach**\n",
        "<br> An optimized approach to find the maximum element of an array using recursion is to divide the array into two halves and recursively find the maximum of each half. Then, compare the maximums of the two halves to determine the overall maximum."
      ],
      "metadata": {
        "id": "FhGn9gwyetDP"
      }
    },
    {
      "cell_type": "code",
      "source": [
        "def findMax(arr, start, end):\n",
        "    if start == end:\n",
        "        return arr[start]\n",
        "    mid = (start + end) // 2\n",
        "    left_max = findMax(arr, start, mid)\n",
        "    right_max = findMax(arr, mid + 1, end)\n",
        "    return max(left_max, right_max)"
      ],
      "metadata": {
        "id": "H59-0RDge2HA"
      },
      "execution_count": 32,
      "outputs": []
    },
    {
      "cell_type": "code",
      "source": [
        "# Test cases for the optimized approach\n",
        "arr1 = [1, 4, 3, -5, -4, 8, 6]\n",
        "print(findMax(arr1, 0, len(arr1) - 1))"
      ],
      "metadata": {
        "colab": {
          "base_uri": "https://localhost:8080/"
        },
        "id": "i1HufSxXe4lx",
        "outputId": "98bb3823-2951-4152-8f3e-9e94dc4dfd7d"
      },
      "execution_count": 33,
      "outputs": [
        {
          "output_type": "stream",
          "name": "stdout",
          "text": [
            "8\n"
          ]
        }
      ]
    },
    {
      "cell_type": "code",
      "source": [
        "arr2 = [1, 4, 45, 6, 10, -8]\n",
        "print(findMax(arr2, 0, len(arr2) - 1))"
      ],
      "metadata": {
        "colab": {
          "base_uri": "https://localhost:8080/"
        },
        "id": "yxARrTPYe_NJ",
        "outputId": "9e5aef50-8426-4403-da6b-ffd2190d9a82"
      },
      "execution_count": 34,
      "outputs": [
        {
          "output_type": "stream",
          "name": "stdout",
          "text": [
            "45\n"
          ]
        }
      ]
    },
    {
      "cell_type": "markdown",
      "source": [
        "# Discussion :\n",
        "Time Complexity: The time complexity of this approach is O(n log n) because the recursion divides the array in half at each step, resulting in a depth of log n, and at each depth, we compare O(n) elements.\n",
        "\n",
        "Space Complexity: The space complexity is O(log n) because the recursion will consume memory on the call stack, and the maximum depth of the call stack is log n."
      ],
      "metadata": {
        "id": "qntzqfKvfAnP"
      }
    },
    {
      "cell_type": "markdown",
      "source": [
        "💡 **Question 6**\n",
        "\n",
        "Given first term (a), common difference (d) and a integer N of the Arithmetic Progression series, the task is to find Nth term of the series.\n",
        "\n",
        "**Example 1:**\n",
        "\n",
        "Input : a = 2 d = 1 N = 5\n",
        "Output : 6\n",
        "The 5th term of the series is : 6\n",
        "\n",
        "**Example 2:**\n",
        "\n",
        "Input : a = 5 d = 2 N = 10\n",
        "Output : 23\n",
        "The 10th term of the series is : 23"
      ],
      "metadata": {
        "id": "ESBgxMWGfH6w"
      }
    },
    {
      "cell_type": "markdown",
      "source": [
        "**Ans**"
      ],
      "metadata": {
        "id": "su81wwlRfOCX"
      }
    },
    {
      "cell_type": "markdown",
      "source": [
        "**Solution Approach 1 : Brute Force Approach**\n",
        "<br>The brute force approach to find the Nth term of an arithmetic progression series is to calculate each term of the series using the formula: term = a + (N - 1) * d."
      ],
      "metadata": {
        "id": "tPj_b-hAfPjg"
      }
    },
    {
      "cell_type": "code",
      "source": [
        "def findNthTerm_bt(a, d, N):\n",
        "    term = a + (N - 1) * d\n",
        "    return term"
      ],
      "metadata": {
        "id": "LUsxDQZPe_8h"
      },
      "execution_count": 35,
      "outputs": []
    },
    {
      "cell_type": "code",
      "source": [
        "# Test cases for the brute force approach\n",
        "print(findNthTerm_bt(2, 1, 5))  "
      ],
      "metadata": {
        "colab": {
          "base_uri": "https://localhost:8080/"
        },
        "id": "gTvqhKI5fsrx",
        "outputId": "f5680ec4-804c-4d87-f232-d86e99e9c644"
      },
      "execution_count": 36,
      "outputs": [
        {
          "output_type": "stream",
          "name": "stdout",
          "text": [
            "6\n"
          ]
        }
      ]
    },
    {
      "cell_type": "code",
      "source": [
        "print(findNthTerm_bt(5, 2, 10)) "
      ],
      "metadata": {
        "colab": {
          "base_uri": "https://localhost:8080/"
        },
        "id": "n67JIg9Rfyn5",
        "outputId": "5daf5130-3285-45b2-a448-ba912ed24fb7"
      },
      "execution_count": 37,
      "outputs": [
        {
          "output_type": "stream",
          "name": "stdout",
          "text": [
            "23\n"
          ]
        }
      ]
    },
    {
      "cell_type": "markdown",
      "source": [
        "# Discussion :\n",
        "Time Complexity: The time complexity of this approach is O(1) because it involves a constant number of operations.\n",
        "\n",
        "Space Complexity: The space complexity is O(1) because we are using a constant amount of extra space."
      ],
      "metadata": {
        "id": "c0xDMivRf2yB"
      }
    },
    {
      "cell_type": "markdown",
      "source": [
        "**Solution Approach 2 : Optimized Approach**\n",
        "<br>An optimized approach to find the Nth term of an arithmetic progression series is to use the formula: term = a + (N - 1) * d. This formula directly calculates the Nth term without iterating through each term of the series."
      ],
      "metadata": {
        "id": "DxUeyWtef9KQ"
      }
    },
    {
      "cell_type": "code",
      "source": [
        "def findNthTerm(a, d, N):\n",
        "    term = a + (N - 1) * d\n",
        "    return term"
      ],
      "metadata": {
        "id": "yDrHsxhAgH45"
      },
      "execution_count": 38,
      "outputs": []
    },
    {
      "cell_type": "code",
      "source": [
        "# Test cases for the optimized approach\n",
        "print(findNthTerm(2, 1, 5))"
      ],
      "metadata": {
        "colab": {
          "base_uri": "https://localhost:8080/"
        },
        "id": "3Gfj5GpAgKaJ",
        "outputId": "522e7d37-0f3e-40c4-c3e2-6833488ec21e"
      },
      "execution_count": 39,
      "outputs": [
        {
          "output_type": "stream",
          "name": "stdout",
          "text": [
            "6\n"
          ]
        }
      ]
    },
    {
      "cell_type": "code",
      "source": [
        "print(findNthTerm(5, 2, 10))"
      ],
      "metadata": {
        "colab": {
          "base_uri": "https://localhost:8080/"
        },
        "id": "47Sii7TBgPQJ",
        "outputId": "5cb3a009-c8bc-4bba-8a56-7ecf9372c2be"
      },
      "execution_count": 40,
      "outputs": [
        {
          "output_type": "stream",
          "name": "stdout",
          "text": [
            "23\n"
          ]
        }
      ]
    },
    {
      "cell_type": "markdown",
      "source": [
        "# Discussion :\n",
        "Time Complexity: The time complexity of this approach is O(1) because it involves a constant number of operations.\n",
        "\n",
        "Space Complexity: The space complexity is O(1) because we are using a constant amount of extra space."
      ],
      "metadata": {
        "id": "O2iyzOZRgSAx"
      }
    },
    {
      "cell_type": "markdown",
      "source": [
        "💡 **Question 7**\n",
        "\n",
        "Given a string S, the task is to write a program to print all permutations of a given string.\n",
        "\n",
        "**Example 1:**\n",
        "\n",
        "***Input:***\n",
        "\n",
        "*S = “ABC”*\n",
        "\n",
        "***Output:***\n",
        "\n",
        "*“ABC”, “ACB”, “BAC”, “BCA”, “CBA”, “CAB”*\n",
        "\n",
        "**Example 2:**\n",
        "\n",
        "***Input:***\n",
        "\n",
        "*S = “XY”*\n",
        "\n",
        "***Output:***\n",
        "\n",
        "*“XY”, “YX”*"
      ],
      "metadata": {
        "id": "fCdnO7y6gZu6"
      }
    },
    {
      "cell_type": "markdown",
      "source": [
        "**Ans**"
      ],
      "metadata": {
        "id": "jJmpCU-Tggm_"
      }
    },
    {
      "cell_type": "markdown",
      "source": [
        "**Solution Approach 1 : Brute Force Approach**\n",
        "<br>The brute force approach to generate all permutations of a string is to generate all possible permutations by swapping characters at each position recursively."
      ],
      "metadata": {
        "id": "HjUFNDXpg1H4"
      }
    },
    {
      "cell_type": "code",
      "source": [
        "def generatePermutations(s, l, r):\n",
        "    if l == r:\n",
        "        print(''.join(s))\n",
        "    else:\n",
        "        for i in range(l, r + 1):\n",
        "            s[l], s[i] = s[i], s[l]\n",
        "            generatePermutations(s, l + 1, r)\n",
        "            s[l], s[i] = s[i], s[l]  # backtrack\n",
        "\n",
        "def printPermutations(S):\n",
        "    n = len(S)\n",
        "    s = list(S)\n",
        "    generatePermutations(s, 0, n - 1)"
      ],
      "metadata": {
        "id": "LOUU0-wrhAU4"
      },
      "execution_count": 41,
      "outputs": []
    },
    {
      "cell_type": "code",
      "source": [
        "# Test case for the brute force approach\n",
        "printPermutations(\"ABC\")"
      ],
      "metadata": {
        "colab": {
          "base_uri": "https://localhost:8080/"
        },
        "id": "ZTwko0tshGbJ",
        "outputId": "844b823e-226d-4fd1-88f2-276356dd009d"
      },
      "execution_count": 42,
      "outputs": [
        {
          "output_type": "stream",
          "name": "stdout",
          "text": [
            "ABC\n",
            "ACB\n",
            "BAC\n",
            "BCA\n",
            "CBA\n",
            "CAB\n"
          ]
        }
      ]
    },
    {
      "cell_type": "code",
      "source": [
        "printPermutations(\"XY\")"
      ],
      "metadata": {
        "colab": {
          "base_uri": "https://localhost:8080/"
        },
        "id": "9eZX86LHhJuB",
        "outputId": "ce347847-d8da-4732-e694-5334a6c7b449"
      },
      "execution_count": 43,
      "outputs": [
        {
          "output_type": "stream",
          "name": "stdout",
          "text": [
            "XY\n",
            "YX\n"
          ]
        }
      ]
    },
    {
      "cell_type": "markdown",
      "source": [
        "# Discussion :\n",
        "Time Complexity: The time complexity of this approach is O(N!), where N is the length of the string. This is because there are N! permutations of a string of length N.\n",
        "\n",
        "Space Complexity: The space complexity is O(N) because the recursion will consume memory on the call stack, and the maximum depth of the call stack is N."
      ],
      "metadata": {
        "id": "Q1mDMuWvhNlw"
      }
    },
    {
      "cell_type": "markdown",
      "source": [
        "**Solution Approach 2 : Optimized Approach**\n",
        "<br>An optimized approach to generate all permutations of a string is to use the itertools module in Python, which provides a function permutations() to generate permutations directly."
      ],
      "metadata": {
        "id": "7Yw9VLb_hWtw"
      }
    },
    {
      "cell_type": "code",
      "source": [
        "from itertools import permutations\n",
        "\n",
        "def printPermutations(S):\n",
        "    perms = permutations(S)\n",
        "    for perm in perms:\n",
        "        print(''.join(perm))"
      ],
      "metadata": {
        "id": "zwWksmd7hgSa"
      },
      "execution_count": 44,
      "outputs": []
    },
    {
      "cell_type": "code",
      "source": [
        "# Test case for the optimized approach\n",
        "printPermutations(\"ABC\")"
      ],
      "metadata": {
        "colab": {
          "base_uri": "https://localhost:8080/"
        },
        "id": "XlkvU2WohlqR",
        "outputId": "7c60ea28-13c7-4e90-aefc-cd392396b6a2"
      },
      "execution_count": 45,
      "outputs": [
        {
          "output_type": "stream",
          "name": "stdout",
          "text": [
            "ABC\n",
            "ACB\n",
            "BAC\n",
            "BCA\n",
            "CAB\n",
            "CBA\n"
          ]
        }
      ]
    },
    {
      "cell_type": "code",
      "source": [
        "printPermutations(\"XY\")"
      ],
      "metadata": {
        "colab": {
          "base_uri": "https://localhost:8080/"
        },
        "id": "VeZf8-Fmho0M",
        "outputId": "5c67492c-0384-43f2-cf4c-d6c4b44e866a"
      },
      "execution_count": 46,
      "outputs": [
        {
          "output_type": "stream",
          "name": "stdout",
          "text": [
            "XY\n",
            "YX\n"
          ]
        }
      ]
    },
    {
      "cell_type": "markdown",
      "source": [
        "# Discussion :\n",
        "Time Complexity: The time complexity of this approach is also O(N!), but the optimized approach uses a built-in function that is implemented efficiently.\n",
        "\n",
        "Space Complexity: The space complexity is O(N) because the permutations are generated one by one, and only one permutation is stored in memory at a time."
      ],
      "metadata": {
        "id": "LShszBnVht45"
      }
    },
    {
      "cell_type": "markdown",
      "source": [
        "💡 **Question 8**\n",
        "\n",
        "Given an array, find a product of all array elements.\n",
        "\n",
        "**Example 1:**\n",
        "\n",
        "Input  : arr[] = {1, 2, 3, 4, 5}\n",
        "Output : 120\n",
        "\n",
        "**Example 2:**\n",
        "\n",
        "Input  : arr[] = {1, 6, 3}\n",
        "Output : 18"
      ],
      "metadata": {
        "id": "LGATPFDKh2o_"
      }
    },
    {
      "cell_type": "markdown",
      "source": [
        "**Ans**"
      ],
      "metadata": {
        "id": "dFwQGBE6h7QJ"
      }
    },
    {
      "cell_type": "markdown",
      "source": [
        "**Solution Approach 1 : Brute Force Approach**\n",
        "<br>The brute force approach to find the product of all elements in an array is to iterate through each element and multiply them together."
      ],
      "metadata": {
        "id": "mxthoDNAiA8P"
      }
    },
    {
      "cell_type": "code",
      "source": [
        "def getProduct(arr):\n",
        "    product = 1\n",
        "    for num in arr:\n",
        "        product *= num\n",
        "    return product"
      ],
      "metadata": {
        "id": "BccaVDfEibGI"
      },
      "execution_count": 47,
      "outputs": []
    },
    {
      "cell_type": "code",
      "source": [
        "# Test cases for the brute force approach\n",
        "arr1 = [1, 2, 3, 4, 5]\n",
        "print(getProduct(arr1))"
      ],
      "metadata": {
        "colab": {
          "base_uri": "https://localhost:8080/"
        },
        "id": "pLsoeewcidFZ",
        "outputId": "5554d1e9-01a7-4dd1-a409-3b97efcdb1e0"
      },
      "execution_count": 48,
      "outputs": [
        {
          "output_type": "stream",
          "name": "stdout",
          "text": [
            "120\n"
          ]
        }
      ]
    },
    {
      "cell_type": "code",
      "source": [
        "arr2 = [1, 6, 3]\n",
        "print(getProduct(arr2))"
      ],
      "metadata": {
        "colab": {
          "base_uri": "https://localhost:8080/"
        },
        "id": "IMg7Y9fRigwB",
        "outputId": "e5d0518c-624c-4d64-a39f-648868ca5bea"
      },
      "execution_count": 49,
      "outputs": [
        {
          "output_type": "stream",
          "name": "stdout",
          "text": [
            "18\n"
          ]
        }
      ]
    },
    {
      "cell_type": "markdown",
      "source": [
        "# Discussion :\n",
        "Time Complexity: The time complexity of this approach is O(n) because we need to iterate through each element in the array.\n",
        "\n",
        "Space Complexity: The space complexity is O(1) because we are using a constant amount of extra space."
      ],
      "metadata": {
        "id": "eUX20YSzilXv"
      }
    },
    {
      "cell_type": "markdown",
      "source": [
        "**Solution Approach 2 : Optimized Approach**\n",
        "<br>An optimized approach to find the product of all elements in an array is to iterate through the array and keep track of the running product. We multiply each element with the running product and update the running product at each step."
      ],
      "metadata": {
        "id": "cGFubq1Tislh"
      }
    },
    {
      "cell_type": "code",
      "source": [
        "def getProduct(arr):\n",
        "    n = len(arr)\n",
        "    product = 1\n",
        "    for num in arr:\n",
        "        product *= num\n",
        "    return product"
      ],
      "metadata": {
        "id": "OyWB9hYXikAo"
      },
      "execution_count": 50,
      "outputs": []
    },
    {
      "cell_type": "code",
      "source": [
        "# Test cases for the optimized approach\n",
        "arr1 = [1, 2, 3, 4, 5]\n",
        "print(getProduct(arr1))"
      ],
      "metadata": {
        "colab": {
          "base_uri": "https://localhost:8080/"
        },
        "id": "HG6haoi5i3Y5",
        "outputId": "db93a6eb-ff32-4bac-8220-ca4e91151c66"
      },
      "execution_count": 51,
      "outputs": [
        {
          "output_type": "stream",
          "name": "stdout",
          "text": [
            "120\n"
          ]
        }
      ]
    },
    {
      "cell_type": "code",
      "source": [
        "arr2 = [1, 6, 3]\n",
        "print(getProduct(arr2))"
      ],
      "metadata": {
        "colab": {
          "base_uri": "https://localhost:8080/"
        },
        "id": "r1sE3Aumi6K5",
        "outputId": "0e76f9c0-0e6b-4ae7-aac1-54e5f05e5811"
      },
      "execution_count": 52,
      "outputs": [
        {
          "output_type": "stream",
          "name": "stdout",
          "text": [
            "18\n"
          ]
        }
      ]
    },
    {
      "cell_type": "markdown",
      "source": [
        "\n",
        "# Discussion :\n",
        "Time Complexity: The time complexity of this approach is O(n) because we need to iterate through each element in the array.\n",
        "\n",
        "Space Complexity: The space complexity is O(1) because we are using a constant amount of extra space."
      ],
      "metadata": {
        "id": "wspe2Ubni9V4"
      }
    }
  ]
}