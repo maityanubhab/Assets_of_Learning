{
 "cells": [
  {
   "cell_type": "markdown",
   "id": "05fe3a01",
   "metadata": {},
   "source": [
    "# Q1\n",
    "\n",
    "💡 **Question 1**\n",
    "\n",
    "Given an array **arr[ ]** of size **N** having elements, the task is to find the next greater element for each element of the array in order of their appearance in the array.Next greater element of an element in the array is the nearest element on the right which is greater than the current element.If there does not exist next greater of current element, then next greater element for current element is -1. For example, next greater of the last element is always -1.\n",
    "\n",
    "**Example 1:**\n",
    "\n",
    "```\n",
    "Input:\n",
    "N = 4, arr[] = [1 3 2 4]\n",
    "Output:\n",
    "3 4 4 -1\n",
    "Explanation:\n",
    "In the array, the next larger element\n",
    "to 1 is 3 , 3 is 4 , 2 is 4 and for 4 ?\n",
    "since it doesn't exist, it is -1.\n",
    "\n",
    "```\n",
    "\n",
    "**Example 2:**\n",
    "\n",
    "```\n",
    "Input:\n",
    "N = 5, arr[] [6 8 0 1 3]\n",
    "Output:\n",
    "8 -1 1 3 -1\n",
    "Explanation:\n",
    "In the array, the next larger element to\n",
    "6 is 8, for 8 there is no larger elements\n",
    "hence it is -1, for 0 it is 1 , for 1 it\n",
    "is 3 and then for 3 there is no larger\n",
    "element on right and hence -1.\n",
    "\n",
    "```"
   ]
  },
  {
   "cell_type": "markdown",
   "id": "46c7d6b1",
   "metadata": {},
   "source": [
    "# Ans.\n",
    "\n",
    "**Solution Approach 1**\n",
    "\n",
    "**Brute Force Approach:**\n",
    "\n",
    "The brute force approach involves iterating through each element of the array and checking the elements to its right to find the next greater element."
   ]
  },
  {
   "cell_type": "code",
   "execution_count": 1,
   "id": "66f9ed84",
   "metadata": {},
   "outputs": [],
   "source": [
    "# Brute Force Approach\n",
    "def next_greater_elements_brute_force(arr):\n",
    "    n = len(arr)\n",
    "    result = []\n",
    "    \n",
    "    for i in range(n):\n",
    "        next_greater = -1\n",
    "        \n",
    "        for j in range(i+1, n):\n",
    "            if arr[j] > arr[i]:\n",
    "                next_greater = arr[j]\n",
    "                break\n",
    "        \n",
    "        result.append(next_greater)\n",
    "    \n",
    "    return result"
   ]
  },
  {
   "cell_type": "markdown",
   "id": "abe0859e",
   "metadata": {},
   "source": [
    "**Test Case:**"
   ]
  },
  {
   "cell_type": "code",
   "execution_count": 2,
   "id": "92f4bb18",
   "metadata": {},
   "outputs": [
    {
     "name": "stdout",
     "output_type": "stream",
     "text": [
      "Test Case 1:\n",
      "Input:  [1, 3, 2, 4]\n",
      "Brute Force Output:  [3, 4, 4, -1]\n"
     ]
    }
   ],
   "source": [
    "# Test Cases\n",
    "arr1 = [1, 3, 2, 4]\n",
    "print(\"Test Case 1:\")\n",
    "print(\"Input: \", arr1)\n",
    "print(\"Brute Force Output: \", next_greater_elements_brute_force(arr1))\n",
    "\n"
   ]
  },
  {
   "cell_type": "code",
   "execution_count": 3,
   "id": "a1b75edb",
   "metadata": {},
   "outputs": [
    {
     "name": "stdout",
     "output_type": "stream",
     "text": [
      "Test Case 2:\n",
      "Input:  [6, 8, 0, 1, 3]\n",
      "Brute Force Output:  [8, -1, 1, 3, -1]\n"
     ]
    }
   ],
   "source": [
    "# Test Cases\n",
    "arr2 = [6, 8, 0, 1, 3]\n",
    "print(\"Test Case 2:\")\n",
    "print(\"Input: \", arr2)\n",
    "print(\"Brute Force Output: \", next_greater_elements_brute_force(arr2))\n"
   ]
  },
  {
   "cell_type": "markdown",
   "id": "c276b55c",
   "metadata": {},
   "source": [
    "**Discussion :**</br>\n",
    "\n",
    "**Time Complexity:** The brute-force approach requires nested loops. The outer loop runs for N elements, and for each element, the inner loop may iterate through all the remaining elements in the worst case. Hence, the time complexity is O(N^2).\n",
    "\n",
    "**Space Complexity:** The space complexity of the brute-force approach is O(N) since we are storing the result in a separate array."
   ]
  },
  {
   "cell_type": "markdown",
   "id": "6b4b9343",
   "metadata": {},
   "source": [
    "**Solution Approach 2**\n",
    "\n",
    "**Optimized Approach:**\n",
    "\n",
    "The optimized approach makes use of a stack to efficiently find the next greater element for each element in the array."
   ]
  },
  {
   "cell_type": "code",
   "execution_count": 4,
   "id": "27a4f323",
   "metadata": {},
   "outputs": [],
   "source": [
    "# Optimized Approach\n",
    "def next_greater_elements_optimized(arr):\n",
    "    n = len(arr)\n",
    "    result = [-1] * n  # Initialize result array with -1\n",
    "    stack = []  # Stack to store indices of elements\n",
    "    \n",
    "    for i in range(n):\n",
    "        while stack and arr[i] > arr[stack[-1]]:\n",
    "            index = stack.pop()\n",
    "            result[index] = arr[i]\n",
    "        \n",
    "        stack.append(i)\n",
    "    \n",
    "    return result"
   ]
  },
  {
   "cell_type": "markdown",
   "id": "b70e216c",
   "metadata": {},
   "source": [
    "**Test Case:**"
   ]
  },
  {
   "cell_type": "code",
   "execution_count": 5,
   "id": "77f4a868",
   "metadata": {},
   "outputs": [
    {
     "name": "stdout",
     "output_type": "stream",
     "text": [
      "Test Case 1:\n",
      "Input:  [1, 3, 2, 4]\n",
      "Optimized Output:  [3, 4, 4, -1]\n"
     ]
    }
   ],
   "source": [
    "# Test Cases\n",
    "arr1 = [1, 3, 2, 4]\n",
    "print(\"Test Case 1:\")\n",
    "print(\"Input: \", arr1)\n",
    "print(\"Optimized Output: \", next_greater_elements_optimized(arr1))\n"
   ]
  },
  {
   "cell_type": "code",
   "execution_count": 6,
   "id": "19cd687f",
   "metadata": {},
   "outputs": [
    {
     "name": "stdout",
     "output_type": "stream",
     "text": [
      "Test Case 2:\n",
      "Input:  [6, 8, 0, 1, 3]\n",
      "Optimized Output:  [8, -1, 1, 3, -1]\n"
     ]
    }
   ],
   "source": [
    "# Test Cases\n",
    "arr2 = [6, 8, 0, 1, 3]\n",
    "print(\"Test Case 2:\")\n",
    "print(\"Input: \", arr2)\n",
    "print(\"Optimized Output: \", next_greater_elements_optimized(arr2))\n"
   ]
  },
  {
   "cell_type": "markdown",
   "id": "6a80bba2",
   "metadata": {},
   "source": [
    "**Discussion :**</br>\n",
    "\n",
    "**Time Complexity:** The optimized approach has a time complexity of O(N) because each element is processed at most twice - once when it is pushed onto the stack and once when it is popped from the stack.\n",
    "\n",
    "**Space Complexity:** The space complexity of the optimized approach is O(N) since we are using a stack to store the indices of elements."
   ]
  },
  {
   "cell_type": "markdown",
   "id": "68c805b8",
   "metadata": {},
   "source": [
    "# Q2\n",
    "\n",
    "\n",
    "💡 **Question 2**\n",
    "\n",
    "Given an array **a** of integers of length **n**, find the nearest smaller number for every element such that the smaller element is on left side.If no small element present on the left print -1.\n",
    "\n",
    "**Example 1:**\n",
    "\n",
    "```\n",
    "Input: n = 3\n",
    "a = {1, 6, 2}\n",
    "Output: -1 1 1\n",
    "Explaination: There is no number at the\n",
    "left of 1. Smaller number than 6 and 2 is 1.\n",
    "```\n",
    "\n",
    "**Example 2:**\n",
    "\n",
    "```\n",
    "Input: n = 6\n",
    "a = {1, 5, 0, 3, 4, 5}\n",
    "Output: -1 1 -1 0 3 4\n",
    "Explaination: Upto 3 it is easy to see\n",
    "the smaller numbers. But for 4 the smaller\n",
    "numbers are 1, 0 and 3. But among them 3\n",
    "is closest. Similary for 5 it is 4.\n",
    "\n",
    "```"
   ]
  },
  {
   "cell_type": "markdown",
   "id": "439341da",
   "metadata": {},
   "source": [
    "# Ans.\n",
    "\n",
    "**Solution Approach 1**\n",
    "\n",
    "**Brute Force Approach:**\n",
    "\n",
    "The brute force approach involves iterating through each element of the array and checking the elements to its left to find the nearest smaller number."
   ]
  },
  {
   "cell_type": "code",
   "execution_count": 7,
   "id": "36cc75eb",
   "metadata": {},
   "outputs": [],
   "source": [
    "def nearest_smaller_elements_brute_force(arr):\n",
    "    n = len(arr)\n",
    "    result = []\n",
    "    \n",
    "    for i in range(n):\n",
    "        smaller_number = -1\n",
    "        \n",
    "        for j in range(i-1, -1, -1):\n",
    "            if arr[j] < arr[i]:\n",
    "                smaller_number = arr[j]\n",
    "                break\n",
    "        \n",
    "        result.append(smaller_number)\n",
    "    \n",
    "    return result\n"
   ]
  },
  {
   "cell_type": "markdown",
   "id": "59bd7315",
   "metadata": {},
   "source": [
    "**Test Case:**"
   ]
  },
  {
   "cell_type": "code",
   "execution_count": 8,
   "id": "778fa5c3",
   "metadata": {},
   "outputs": [
    {
     "name": "stdout",
     "output_type": "stream",
     "text": [
      "Test Case 1:\n",
      "Input:  [1, 6, 2]\n",
      "Brute Force Output:  [-1, 1, 1]\n",
      "\n"
     ]
    }
   ],
   "source": [
    "# Test Cases\n",
    "arr1 = [1, 6, 2]\n",
    "print(\"Test Case 1:\")\n",
    "print(\"Input: \", arr1)\n",
    "print(\"Brute Force Output: \", nearest_smaller_elements_brute_force(arr1))\n",
    "print()"
   ]
  },
  {
   "cell_type": "code",
   "execution_count": 9,
   "id": "6bb844d2",
   "metadata": {},
   "outputs": [
    {
     "name": "stdout",
     "output_type": "stream",
     "text": [
      "Test Case 2:\n",
      "Input:  [1, 5, 0, 3, 4, 5]\n",
      "Brute Force Output:  [-1, 1, -1, 0, 3, 4]\n"
     ]
    }
   ],
   "source": [
    "# Test Cases\n",
    "arr2 = [1, 5, 0, 3, 4, 5]\n",
    "print(\"Test Case 2:\")\n",
    "print(\"Input: \", arr2)\n",
    "print(\"Brute Force Output: \", nearest_smaller_elements_brute_force(arr2))\n"
   ]
  },
  {
   "cell_type": "markdown",
   "id": "58fcadd1",
   "metadata": {},
   "source": [
    "**Discussion :**</br>\n",
    "\n",
    "**Time Complexity:** The brute-force approach requires nested loops. The outer loop runs for N elements, and for each element, the inner loop may iterate through all the preceding elements in the worst case. Hence, the time complexity is O(N^2).\n",
    "\n",
    "**Space Complexity:** The space complexity of the brute-force approach is O(N) since we are storing the result in a separate array."
   ]
  },
  {
   "cell_type": "markdown",
   "id": "84aaba0a",
   "metadata": {},
   "source": [
    "**Solution Approach 2**\n",
    "\n",
    "**Optimized Approach:**\n",
    "\n",
    "The optimized approach makes use of a stack to efficiently find the nearest smaller number on the left side for each element in the array."
   ]
  },
  {
   "cell_type": "code",
   "execution_count": 10,
   "id": "24736e81",
   "metadata": {},
   "outputs": [],
   "source": [
    "def nearest_smaller_elements_optimized(arr):\n",
    "    n = len(arr)\n",
    "    result = [-1] * n  # Initialize result array with -1\n",
    "    stack = []  # Stack to store indices of elements\n",
    "    \n",
    "    for i in range(n):\n",
    "        while stack and arr[i] <= arr[stack[-1]]:\n",
    "            stack.pop()\n",
    "        \n",
    "        if stack:\n",
    "            result[i] = arr[stack[-1]]\n",
    "        \n",
    "        stack.append(i)\n",
    "    \n",
    "    return result\n"
   ]
  },
  {
   "cell_type": "markdown",
   "id": "e8e6aa89",
   "metadata": {},
   "source": [
    "**Test Case:**"
   ]
  },
  {
   "cell_type": "code",
   "execution_count": 11,
   "id": "d30eb7c1",
   "metadata": {},
   "outputs": [
    {
     "name": "stdout",
     "output_type": "stream",
     "text": [
      "Test Case 1:\n",
      "Input:  [1, 6, 2]\n",
      "Optimized Output:  [-1, 1, 1]\n"
     ]
    }
   ],
   "source": [
    "# Test Cases\n",
    "arr1 = [1, 6, 2]\n",
    "print(\"Test Case 1:\")\n",
    "print(\"Input: \", arr1)\n",
    "print(\"Optimized Output: \", nearest_smaller_elements_optimized(arr1))\n"
   ]
  },
  {
   "cell_type": "code",
   "execution_count": 12,
   "id": "032ce2b2",
   "metadata": {},
   "outputs": [
    {
     "name": "stdout",
     "output_type": "stream",
     "text": [
      "Test Case 2:\n",
      "Input:  [1, 5, 0, 3, 4, 5]\n",
      "Optimized Output:  [-1, 1, -1, 0, 3, 4]\n"
     ]
    }
   ],
   "source": [
    "# Test Cases\n",
    "arr2 = [1, 5, 0, 3, 4, 5]\n",
    "print(\"Test Case 2:\")\n",
    "print(\"Input: \", arr2)\n",
    "print(\"Optimized Output: \", nearest_smaller_elements_optimized(arr2))\n"
   ]
  },
  {
   "cell_type": "markdown",
   "id": "3fa406ba",
   "metadata": {},
   "source": [
    "**Discussion :**</br>\n",
    "\n",
    "**Time Complexity:** The optimized approach has a time complexity of O(N) because each element is processed at most twice - once when it is pushed onto the stack and once when it is popped from the stack.\n",
    "\n",
    "**Space Complexity:** The space complexity of the optimized approach is O(N) since we are using a stack to store the indices of elements."
   ]
  },
  {
   "cell_type": "markdown",
   "id": "1174685b",
   "metadata": {},
   "source": [
    "# Q3\n",
    "\n",
    "\n",
    "💡 **Question 3**\n",
    "\n",
    "Implement a Stack using two queues **q1** and **q2**.\n",
    "\n",
    "**Example 1:**\n",
    "\n",
    "```\n",
    "Input:\n",
    "push(2)\n",
    "push(3)\n",
    "pop()\n",
    "push(4)\n",
    "pop()\n",
    "Output:3 4\n",
    "Explanation:\n",
    "push(2) the stack will be {2}\n",
    "push(3) the stack will be {2 3}\n",
    "pop()   poped element will be 3 the\n",
    "        stack will be {2}\n",
    "push(4) the stack will be {2 4}\n",
    "pop()   poped element will be 4\n",
    "\n",
    "```\n",
    "\n",
    "**Example 2:**\n",
    "\n",
    "```\n",
    "Input:\n",
    "push(2)\n",
    "pop()\n",
    "pop()\n",
    "push(3)\n",
    "Output:2 -1\n",
    "\n",
    "```"
   ]
  },
  {
   "cell_type": "markdown",
   "id": "7e99d4c4",
   "metadata": {},
   "source": [
    "# Ans.\n",
    "\n",
    "**Solution Approach 1**\n",
    "\n",
    "**Brute Force Approach:**\n",
    "\n",
    "In the brute-force approach, we can use two queues, q1 and q2, to simulate a stack. We'll maintain the stack property that the most recently inserted element is always at the front of q1."
   ]
  },
  {
   "cell_type": "code",
   "execution_count": 13,
   "id": "aa967048",
   "metadata": {},
   "outputs": [],
   "source": [
    "# Brute Force Approach\n",
    "class StackBruteForce:\n",
    "    def __init__(self):\n",
    "        self.q1 = []\n",
    "        self.q2 = []\n",
    "    \n",
    "    def push(self, x):\n",
    "        self.q2.append(x)\n",
    "        \n",
    "        while self.q1:\n",
    "            self.q2.append(self.q1.pop(0))\n",
    "        \n",
    "        self.q1, self.q2 = self.q2, self.q1\n",
    "    \n",
    "    def pop(self):\n",
    "        if self.q1:\n",
    "            return self.q1.pop(0)\n",
    "        \n",
    "        return -1"
   ]
  },
  {
   "cell_type": "markdown",
   "id": "fba90202",
   "metadata": {},
   "source": [
    "**Test Case:**"
   ]
  },
  {
   "cell_type": "code",
   "execution_count": 14,
   "id": "e9cbacbd",
   "metadata": {},
   "outputs": [
    {
     "name": "stdout",
     "output_type": "stream",
     "text": [
      "3\n",
      "4\n"
     ]
    }
   ],
   "source": [
    "# Test Case\n",
    "stack1 = StackBruteForce()\n",
    "stack1.push(2)\n",
    "stack1.push(3)\n",
    "print(stack1.pop())  \n",
    "stack1.push(4)\n",
    "print(stack1.pop())  \n"
   ]
  },
  {
   "cell_type": "markdown",
   "id": "1feb1541",
   "metadata": {},
   "source": [
    "**Discussion :**</br>\n",
    "\n",
    "**Time Complexity:** The push operation takes O(N) time, where N is the number of elements in the stack at that moment. The pop operation takes O(1) time since we're directly accessing the front of q1.\n",
    "\n",
    "**Space Complexity:** The space complexity is O(N), where N is the number of elements in the stack."
   ]
  },
  {
   "cell_type": "markdown",
   "id": "b45485e4",
   "metadata": {},
   "source": [
    "**Solution Approach 2**\n",
    "\n",
    "**Optimized Approach:**\n",
    "\n",
    "In the optimized approach, we can reduce the time complexity of the push operation by maintaining the stack property that the most recently inserted element is always at the rear of q1. This way, we avoid the need to transfer elements between queues."
   ]
  },
  {
   "cell_type": "code",
   "execution_count": 15,
   "id": "834669bc",
   "metadata": {},
   "outputs": [],
   "source": [
    "# Optimized Approach\n",
    "class StackOptimized:\n",
    "    def __init__(self):\n",
    "        self.q1 = []\n",
    "        self.q2 = []\n",
    "    \n",
    "    def push(self, x):\n",
    "        self.q1.append(x)\n",
    "    \n",
    "    def pop(self):\n",
    "        if not self.q1:\n",
    "            return -1\n",
    "        \n",
    "        while len(self.q1) > 1:\n",
    "            self.q2.append(self.q1.pop(0))\n",
    "        \n",
    "        popped_element = self.q1.pop(0)\n",
    "        \n",
    "        self.q1, self.q2 = self.q2, self.q1\n",
    "        \n",
    "        return popped_element"
   ]
  },
  {
   "cell_type": "markdown",
   "id": "3826bac0",
   "metadata": {},
   "source": [
    "**Test Case:**"
   ]
  },
  {
   "cell_type": "code",
   "execution_count": 16,
   "id": "a90ab061",
   "metadata": {},
   "outputs": [
    {
     "name": "stdout",
     "output_type": "stream",
     "text": [
      "2\n",
      "-1\n"
     ]
    }
   ],
   "source": [
    "# Test Case \n",
    "stack2 = StackOptimized()\n",
    "stack2.push(2)\n",
    "print(stack2.pop())  \n",
    "print(stack2.pop())  \n"
   ]
  },
  {
   "cell_type": "markdown",
   "id": "14402fc5",
   "metadata": {},
   "source": [
    "**Discussion :**</br>\n",
    "\n",
    "**Time Complexity:** The push operation now takes O(1) time since we're appending the element to the rear of q1. The pop operation still takes O(N) time in the worst case, where N is the number of elements in the stack at that moment.\n",
    "\n",
    "**Space Complexity:** The space complexity is O(N), where N is the number of elements in the stack."
   ]
  },
  {
   "cell_type": "markdown",
   "id": "1f5b61b4",
   "metadata": {},
   "source": [
    "# Q4\n",
    "\n",
    "\n",
    "💡 **Question 4**\n",
    "\n",
    "You are given a stack **St**. You have to reverse the stack using recursion.\n",
    "\n",
    "**Example 1:**\n",
    "\n",
    "```\n",
    "Input:St = {3,2,1,7,6}\n",
    "Output:{6,7,1,2,3}\n",
    "```\n",
    "\n",
    "**Example 2:**\n",
    "\n",
    "```\n",
    "Input:St = {4,3,9,6}\n",
    "Output:{6,9,3,4}\n",
    "\n",
    "```"
   ]
  },
  {
   "cell_type": "markdown",
   "id": "351c8bc6",
   "metadata": {},
   "source": [
    "# Ans.\n",
    "\n",
    "**Solution Approach 1**\n",
    "\n",
    "**Brute Force Approach:**\n",
    "\n",
    "In the brute-force approach, we'll use recursion to reverse the stack. The idea is to remove the bottom element from the stack using recursion, and then insert it at the top after the stack is empty."
   ]
  },
  {
   "cell_type": "code",
   "execution_count": 17,
   "id": "b71d9ae6",
   "metadata": {},
   "outputs": [],
   "source": [
    "# Brute Force Approach\n",
    "def reverse_stack_brute_force(stack):\n",
    "    if not stack:\n",
    "        return\n",
    "    \n",
    "    bottom_element = stack.pop()\n",
    "    reverse_stack_brute_force(stack)\n",
    "    insert_at_bottom(stack, bottom_element)\n",
    "\n",
    "def insert_at_bottom(stack, item):\n",
    "    if not stack:\n",
    "        stack.append(item)\n",
    "        return\n",
    "    \n",
    "    temp = stack.pop()\n",
    "    insert_at_bottom(stack, item)\n",
    "    stack.append(temp)\n"
   ]
  },
  {
   "cell_type": "markdown",
   "id": "a0956fdf",
   "metadata": {},
   "source": [
    "**Test Case:**"
   ]
  },
  {
   "cell_type": "code",
   "execution_count": 18,
   "id": "13632820",
   "metadata": {},
   "outputs": [
    {
     "name": "stdout",
     "output_type": "stream",
     "text": [
      "Test Case 1:\n",
      "Input:  [3, 2, 1, 7, 6]\n",
      "Brute Force Output:  [6, 7, 1, 2, 3]\n"
     ]
    }
   ],
   "source": [
    "# Test Case 1\n",
    "stack1 = [3, 2, 1, 7, 6]\n",
    "print(\"Test Case 1:\")\n",
    "print(\"Input: \", stack1)\n",
    "reverse_stack_brute_force(stack1)\n",
    "print(\"Brute Force Output: \", stack1)\n"
   ]
  },
  {
   "cell_type": "code",
   "execution_count": 19,
   "id": "e6aafefe",
   "metadata": {},
   "outputs": [
    {
     "name": "stdout",
     "output_type": "stream",
     "text": [
      "Test Case 2:\n",
      "Input:  [4, 3, 9, 6]\n",
      "Brute Force Output:  [6, 9, 3, 4]\n"
     ]
    }
   ],
   "source": [
    "# Test Case 2\n",
    "stack3 = [4, 3, 9, 6]\n",
    "print(\"Test Case 2:\")\n",
    "print(\"Input: \", stack3)\n",
    "reverse_stack_brute_force(stack3)\n",
    "print(\"Brute Force Output: \", stack3)"
   ]
  },
  {
   "cell_type": "markdown",
   "id": "233faebd",
   "metadata": {},
   "source": [
    "**Discussion :**</br>\n",
    "\n",
    "**Time Complexity:** The time complexity of reversing the stack using the brute-force approach is O(N^2), where N is the number of elements in the stack. This is because for each element in the stack, we need to perform N recursive calls to reach the bottom of the stack.\n",
    "\n",
    "**Space Complexity:** The space complexity is O(N) due to the recursive calls and the system stack.**"
   ]
  },
  {
   "cell_type": "markdown",
   "id": "f31801e7",
   "metadata": {},
   "source": [
    "**Solution Approach 2**\n",
    "\n",
    "**Optimized Approach:**\n",
    "\n",
    "In the optimized approach, we'll use an additional helper function to reverse the stack efficiently without needing to perform N recursive calls for each element. The idea is to swap the top and bottom elements of the stack recursively until the stack is reversed."
   ]
  },
  {
   "cell_type": "code",
   "execution_count": 20,
   "id": "78dd5868",
   "metadata": {},
   "outputs": [],
   "source": [
    "# Optimized Approach\n",
    "def reverse_stack_optimized(stack):\n",
    "    if not stack:\n",
    "        return\n",
    "    \n",
    "    top_element = stack.pop()\n",
    "    reverse_stack_optimized(stack)\n",
    "    insert_at_bottom(stack, top_element)\n",
    "\n",
    "def insert_at_bottom(stack, item):\n",
    "    if not stack:\n",
    "        stack.append(item)\n",
    "        return\n",
    "    \n",
    "    top_element = stack.pop()\n",
    "    insert_at_bottom(stack, item)\n",
    "    stack.append(top_element)\n"
   ]
  },
  {
   "cell_type": "markdown",
   "id": "4bfca210",
   "metadata": {},
   "source": [
    "**Test Case:**"
   ]
  },
  {
   "cell_type": "code",
   "execution_count": 21,
   "id": "87e0268c",
   "metadata": {},
   "outputs": [
    {
     "name": "stdout",
     "output_type": "stream",
     "text": [
      "Optimized Output:  [6, 7, 1, 2, 3]\n"
     ]
    }
   ],
   "source": [
    "# Test Case 1\n",
    "stack2 = [3, 2, 1, 7, 6]\n",
    "reverse_stack_optimized(stack2)\n",
    "print(\"Optimized Output: \", stack2)\n"
   ]
  },
  {
   "cell_type": "code",
   "execution_count": 22,
   "id": "547ca709",
   "metadata": {},
   "outputs": [
    {
     "name": "stdout",
     "output_type": "stream",
     "text": [
      "Optimized Output:  [6, 9, 3, 4]\n"
     ]
    }
   ],
   "source": [
    "# Test Case 2\n",
    "stack4 = [4, 3, 9, 6]\n",
    "reverse_stack_optimized(stack4)\n",
    "print(\"Optimized Output: \", stack4)"
   ]
  },
  {
   "cell_type": "markdown",
   "id": "478b5b4e",
   "metadata": {},
   "source": [
    "**Discussion :**</br>\n",
    "\n",
    "**Time Complexity:** The time complexity of reversing the stack using the optimized approach is O(N), where N is the number of elements in the stack. This is because we perform a constant number of swaps for each element in the stack.\n",
    "\n",
    "**Space Complexity:** The space complexity is O(N) due to the recursive calls and the system stack."
   ]
  },
  {
   "cell_type": "markdown",
   "id": "8d113810",
   "metadata": {},
   "source": [
    "# Q5\n",
    "\n",
    "\n",
    "💡 **Question 5**\n",
    "\n",
    "You are given a string **S**, the task is to reverse the string using stack.\n",
    "\n",
    "**Example 1:**\n",
    "\n",
    "```\n",
    "Input: S=\"GeeksforGeeks\"\n",
    "Output: skeeGrofskeeG\n",
    "\n",
    "```"
   ]
  },
  {
   "cell_type": "markdown",
   "id": "fae5abd6",
   "metadata": {},
   "source": [
    "# Ans.\n",
    "\n",
    "**Solution Approach 1**\n",
    "\n",
    "**Brute Force Approach:**\n",
    "\n",
    "In the brute-force approach, we can use a stack to reverse the string. We'll iterate through the characters of the string and push each character onto the stack. Then, we'll pop the characters from the stack to obtain the reversed string."
   ]
  },
  {
   "cell_type": "code",
   "execution_count": 23,
   "id": "7d8e6d5e",
   "metadata": {},
   "outputs": [],
   "source": [
    "# Brute Force Approach\n",
    "def reverse_string_brute_force(string):\n",
    "    stack = []\n",
    "    reversed_string = \"\"\n",
    "\n",
    "    for char in string:\n",
    "        stack.append(char)\n",
    "\n",
    "    while stack:\n",
    "        reversed_string += stack.pop()\n",
    "\n",
    "    return reversed_string\n"
   ]
  },
  {
   "cell_type": "markdown",
   "id": "ca131a69",
   "metadata": {},
   "source": [
    "**Test Case:**"
   ]
  },
  {
   "cell_type": "code",
   "execution_count": 24,
   "id": "61e82cca",
   "metadata": {},
   "outputs": [
    {
     "name": "stdout",
     "output_type": "stream",
     "text": [
      "Input:  GeeksforGeeks\n",
      "Brute Force Output:  skeeGrofskeeG\n"
     ]
    }
   ],
   "source": [
    "# Test Case\n",
    "string = \"GeeksforGeeks\"\n",
    "print(\"Input: \", string)\n",
    "print(\"Brute Force Output: \", reverse_string_brute_force(string))"
   ]
  },
  {
   "cell_type": "markdown",
   "id": "619c63e0",
   "metadata": {},
   "source": [
    "**Discussion :**</br>\n",
    "\n",
    "**Time Complexity:** The time complexity of the brute-force approach is O(N), where N is the length of the string. This is because we iterate through each character of the string once.\n",
    "\n",
    "**Space Complexity:** The space complexity is O(N), where N is the length of the string, since we store the characters in the stack."
   ]
  },
  {
   "cell_type": "markdown",
   "id": "54164aab",
   "metadata": {},
   "source": [
    "**Solution Approach 2**\n",
    "\n",
    "**Optimized Approach:**\n",
    "\n",
    "In the optimized approach, we can avoid using an explicit stack and achieve the same result using string slicing in Python. We'll use the slicing operation to reverse the string directly."
   ]
  },
  {
   "cell_type": "code",
   "execution_count": 25,
   "id": "a24b3ac0",
   "metadata": {},
   "outputs": [],
   "source": [
    "# Optimized Approach\n",
    "def reverse_string_optimized(string):\n",
    "    return string[::-1]\n"
   ]
  },
  {
   "cell_type": "markdown",
   "id": "95b364dc",
   "metadata": {},
   "source": [
    "**Test Case:**"
   ]
  },
  {
   "cell_type": "code",
   "execution_count": 26,
   "id": "e4cdadea",
   "metadata": {},
   "outputs": [
    {
     "name": "stdout",
     "output_type": "stream",
     "text": [
      "Input:  GeeksforGeeks\n",
      "Optimized Output:  skeeGrofskeeG\n"
     ]
    }
   ],
   "source": [
    "# Test Case\n",
    "string = \"GeeksforGeeks\"\n",
    "print(\"Input: \", string)\n",
    "print(\"Optimized Output: \", reverse_string_optimized(string))\n"
   ]
  },
  {
   "cell_type": "markdown",
   "id": "45e6d20b",
   "metadata": {},
   "source": [
    "**Discussion :**</br>\n",
    "\n",
    "**Time Complexity:** The time complexity of the optimized approach is also O(N), where N is the length of the string. This is because string slicing takes linear time complexity.\n",
    "\n",
    "**Space Complexity:** The space complexity is O(N), where N is the length of the string, since the reversed string is stored in memory."
   ]
  },
  {
   "cell_type": "markdown",
   "id": "a496c8ed",
   "metadata": {},
   "source": [
    "# Q6\n",
    "\n",
    "\n",
    "💡 **Question 6**\n",
    "\n",
    "Given string **S** representing a postfix expression, the task is to evaluate the expression and find the final value. Operators will only include the basic arithmetic operators like ***, /, + and -**.\n",
    "\n",
    "**Example 1:**\n",
    "\n",
    "```\n",
    "Input: S = \"231*+9-\"\n",
    "Output: -4\n",
    "Explanation:\n",
    "After solving the given expression,\n",
    "we have -4 as result.\n",
    "\n",
    "```\n",
    "\n",
    "**Example 2:**\n",
    "\n",
    "```\n",
    "Input: S = \"123+*8-\"\n",
    "Output: -3\n",
    "Explanation:\n",
    "After solving the given postfix\n",
    "expression, we have -3 as result.\n",
    "\n",
    "```"
   ]
  },
  {
   "cell_type": "markdown",
   "id": "ba39114c",
   "metadata": {},
   "source": [
    "# Ans.\n",
    "\n",
    "**Solution Approach 1**\n",
    "\n",
    "**Brute Force Approach:**\n",
    "\n",
    "In the brute-force approach, we can use a stack to evaluate the postfix expression. We'll iterate through the characters of the expression and perform the appropriate operations based on the operators and operands."
   ]
  },
  {
   "cell_type": "code",
   "execution_count": 27,
   "id": "36529cdd",
   "metadata": {},
   "outputs": [],
   "source": [
    "# Brute Force Approach\n",
    "def evaluate_postfix_brute_force(expression):\n",
    "    stack = []\n",
    "\n",
    "    for char in expression:\n",
    "        if char.isdigit():\n",
    "            stack.append(int(char))\n",
    "        else:\n",
    "            operand2 = stack.pop()\n",
    "            operand1 = stack.pop()\n",
    "\n",
    "            if char == '+':\n",
    "                result = operand1 + operand2\n",
    "            elif char == '-':\n",
    "                result = operand1 - operand2\n",
    "            elif char == '*':\n",
    "                result = operand1 * operand2\n",
    "            elif char == '/':\n",
    "                result = operand1 / operand2\n",
    "\n",
    "            stack.append(result)\n",
    "\n",
    "    return stack.pop()\n"
   ]
  },
  {
   "cell_type": "markdown",
   "id": "fd824582",
   "metadata": {},
   "source": [
    "**Test Case:**"
   ]
  },
  {
   "cell_type": "code",
   "execution_count": 28,
   "id": "8e6a8128",
   "metadata": {},
   "outputs": [
    {
     "name": "stdout",
     "output_type": "stream",
     "text": [
      "Test Case 1:\n",
      "Input:  231*+9-\n",
      "Brute Force Output:  -4\n"
     ]
    }
   ],
   "source": [
    "# Test Case 1\n",
    "expression1 = \"231*+9-\"\n",
    "print(\"Test Case 1:\")\n",
    "print(\"Input: \", expression1)\n",
    "print(\"Brute Force Output: \", evaluate_postfix_brute_force(expression1))"
   ]
  },
  {
   "cell_type": "code",
   "execution_count": 29,
   "id": "8475eb7d",
   "metadata": {},
   "outputs": [
    {
     "name": "stdout",
     "output_type": "stream",
     "text": [
      "Test Case 2:\n",
      "Input:  123+*8-\n",
      "Brute Force Output:  -3\n"
     ]
    }
   ],
   "source": [
    "# Test Case 2\n",
    "expression2 = \"123+*8-\"\n",
    "print(\"Test Case 2:\")\n",
    "print(\"Input: \", expression2)\n",
    "print(\"Brute Force Output: \", evaluate_postfix_brute_force(expression2))"
   ]
  },
  {
   "cell_type": "markdown",
   "id": "56c28d70",
   "metadata": {},
   "source": [
    "**Discussion :**</br>\n",
    "\n",
    "**Time Complexity:** The time complexity of the brute-force approach is O(N), where N is the length of the expression. This is because we iterate through each character of the expression once.\n",
    "\n",
    "**Space Complexity:** The space complexity is O(N), where N is the length of the expression, since we store operands in the stack."
   ]
  },
  {
   "cell_type": "markdown",
   "id": "cca973bd",
   "metadata": {},
   "source": [
    "**Solution Approach 2**\n",
    "\n",
    "**Optimized Approach:**\n",
    "\n",
    "In the optimized approach, we can use a stack and perform the operations directly without converting characters to integers and checking operators. We'll use a dictionary to map the operators to their corresponding functions."
   ]
  },
  {
   "cell_type": "code",
   "execution_count": 30,
   "id": "167ec336",
   "metadata": {},
   "outputs": [],
   "source": [
    "# Optimized Approach\n",
    "def evaluate_postfix_optimized(expression):\n",
    "    stack = []\n",
    "\n",
    "    operators = {\n",
    "        '+': lambda a, b: a + b,\n",
    "        '-': lambda a, b: a - b,\n",
    "        '*': lambda a, b: a * b,\n",
    "        '/': lambda a, b: a / b\n",
    "    }\n",
    "\n",
    "    for char in expression:\n",
    "        if char in operators:\n",
    "            operand2 = stack.pop()\n",
    "            operand1 = stack.pop()\n",
    "            result = operators[char](operand1, operand2)\n",
    "            stack.append(result)\n",
    "        else:\n",
    "            stack.append(int(char))\n",
    "\n",
    "    return stack.pop()\n"
   ]
  },
  {
   "cell_type": "markdown",
   "id": "bacd2c61",
   "metadata": {},
   "source": [
    "**Test Case:**"
   ]
  },
  {
   "cell_type": "code",
   "execution_count": 31,
   "id": "2a5c19bd",
   "metadata": {},
   "outputs": [
    {
     "name": "stdout",
     "output_type": "stream",
     "text": [
      "Test Case 1:\n",
      "Input:  231*+9-\n",
      "Optimized Output:  -4\n"
     ]
    }
   ],
   "source": [
    "# Test Case 1\n",
    "expression1 = \"231*+9-\"\n",
    "print(\"Test Case 1:\")\n",
    "print(\"Input: \", expression1)\n",
    "print(\"Optimized Output: \", evaluate_postfix_optimized(expression1))"
   ]
  },
  {
   "cell_type": "code",
   "execution_count": 32,
   "id": "1e59bea3",
   "metadata": {},
   "outputs": [
    {
     "name": "stdout",
     "output_type": "stream",
     "text": [
      "Test Case 2:\n",
      "Input:  123+*8-\n",
      "Optimized Output:  -3\n"
     ]
    }
   ],
   "source": [
    "# Test Case 2\n",
    "expression2 = \"123+*8-\"\n",
    "print(\"Test Case 2:\")\n",
    "print(\"Input: \", expression2)\n",
    "print(\"Optimized Output: \", evaluate_postfix_optimized(expression2))"
   ]
  },
  {
   "cell_type": "markdown",
   "id": "a8dfc420",
   "metadata": {},
   "source": [
    "**Discussion :**</br>\n",
    "\n",
    "**Time Complexity:** The time complexity of the optimized approach is also O(N), where N is the length of the expression. This is because we iterate through each character of the expression once.\n",
    "\n",
    "**Space Complexity:** The space complexity is O(N), where N is the length of the expression, since we store operands in the stack."
   ]
  },
  {
   "cell_type": "markdown",
   "id": "6356d6f5",
   "metadata": {},
   "source": [
    "# Q7\n",
    "\n",
    "\n",
    "💡 **Question 7**\n",
    "\n",
    "Design a stack that supports push, pop, top, and retrieving the minimum element in constant time.\n",
    "\n",
    "Implement the `MinStack` class:\n",
    "\n",
    "- `MinStack()` initializes the stack object.\n",
    "- `void push(int val)` pushes the element `val` onto the stack.\n",
    "- `void pop()` removes the element on the top of the stack.\n",
    "- `int top()` gets the top element of the stack.\n",
    "- `int getMin()` retrieves the minimum element in the stack.\n",
    "\n",
    "You must implement a solution with `O(1)` time complexity for each function.\n",
    "\n",
    "**Example 1:**\n",
    "\n",
    "```\n",
    "Input\n",
    "[\"MinStack\",\"push\",\"push\",\"push\",\"getMin\",\"pop\",\"top\",\"getMin\"]\n",
    "[[],[-2],[0],[-3],[],[],[],[]]\n",
    "\n",
    "Output\n",
    "[null,null,null,null,-3,null,0,-2]\n",
    "\n",
    "Explanation\n",
    "MinStack minStack = new MinStack();\n",
    "minStack.push(-2);\n",
    "minStack.push(0);\n",
    "minStack.push(-3);\n",
    "minStack.getMin(); // return -3\n",
    "minStack.pop();\n",
    "minStack.top();    // return 0\n",
    "minStack.getMin(); // return -2\n",
    "\n",
    "```"
   ]
  },
  {
   "cell_type": "markdown",
   "id": "90fbcc84",
   "metadata": {},
   "source": [
    "# Ans.\n",
    "\n",
    "To design a stack that supports push, pop, top, and retrieving the minimum element in constant time, we can use a combination of two stacks: one for storing the elements of the stack and another for keeping track of the minimum elements."
   ]
  },
  {
   "cell_type": "code",
   "execution_count": 33,
   "id": "35ed6cdc",
   "metadata": {},
   "outputs": [],
   "source": [
    "class MinStack:\n",
    "    def __init__(self):\n",
    "        self.stack = []\n",
    "        self.min_stack = []\n",
    "\n",
    "    def push(self, val):\n",
    "        self.stack.append(val)\n",
    "        if not self.min_stack or val <= self.min_stack[-1]:\n",
    "            self.min_stack.append(val)\n",
    "\n",
    "    def pop(self):\n",
    "        if self.stack:\n",
    "            top = self.stack.pop()\n",
    "            if top == self.min_stack[-1]:\n",
    "                self.min_stack.pop()\n",
    "\n",
    "    def top(self):\n",
    "        if self.stack:\n",
    "            return self.stack[-1]\n",
    "\n",
    "    def getMin(self):\n",
    "        if self.min_stack:\n",
    "            return self.min_stack[-1]\n"
   ]
  },
  {
   "cell_type": "markdown",
   "id": "360f1a21",
   "metadata": {},
   "source": [
    "**Test Case:**"
   ]
  },
  {
   "cell_type": "code",
   "execution_count": 34,
   "id": "319e272c",
   "metadata": {},
   "outputs": [
    {
     "name": "stdout",
     "output_type": "stream",
     "text": [
      "getMin(): -3\n",
      "top(): 0\n",
      "getMin(): -2\n"
     ]
    }
   ],
   "source": [
    "# Test Case\n",
    "minStack = MinStack()\n",
    "minStack.push(-2)\n",
    "minStack.push(0)\n",
    "minStack.push(-3)\n",
    "print(\"getMin():\", minStack.getMin()) \n",
    "minStack.pop()\n",
    "print(\"top():\", minStack.top()) \n",
    "print(\"getMin():\", minStack.getMin())  \n"
   ]
  },
  {
   "cell_type": "markdown",
   "id": "900e8123",
   "metadata": {},
   "source": [
    "**Discussion :**</br>\n",
    "\n",
    "**Time Complexity:**\n",
    "\n",
    "The push operation has a time complexity of O(1) as we only append the element to the stack and potentially to the min_stack.\n",
    "The pop operation also has a time complexity of O(1) as we simply remove the top element from the stack and the min_stack if necessary.\n",
    "The top and getMin operations both have a time complexity of O(1) since we can directly access the top elements of their respective stacks.\n",
    "\n",
    "\n",
    "**Space Complexity:**\n",
    "\n",
    "The space complexity is O(N) where N is the number of elements pushed onto the stack. In the worst case, both the stack and min_stack will store all the elements."
   ]
  },
  {
   "attachments": {
    "rainwatertrap.png": {
     "image/png": "[encoded data removed]"
    }
   },
   "cell_type": "markdown",
   "id": "93b764d2",
   "metadata": {},
   "source": [
    "# Q8\n",
    "\n",
    "\n",
    "💡 **Question 8**\n",
    "\n",
    "Given `n` non-negative integers representing an elevation map where the width of each bar is `1`, compute how much water it can trap after raining.\n",
    "\n",
    "**Example 1:**\n",
    "\n",
    "![rainwatertrap.png](attachment:rainwatertrap.png)\n",
    "\n",
    "```\n",
    "Input: height = [0,1,0,2,1,0,1,3,2,1,2,1]\n",
    "Output: 6\n",
    "Explanation: The above elevation map (black section) is represented by array [0,1,0,2,1,0,1,3,2,1,2,1]. In this case, 6 units of rain water (blue section) are being trapped.\n",
    "\n",
    "```\n",
    "\n",
    "**Example 2:**\n",
    "\n",
    "```\n",
    "Input: height = [4,2,0,3,2,5]\n",
    "Output: 9\n",
    "\n",
    "```"
   ]
  },
  {
   "cell_type": "markdown",
   "id": "e7090e69",
   "metadata": {},
   "source": [
    "# Ans.\n",
    "\n",
    "**Solution Approach 1**\n",
    "\n",
    "**Brute Force Approach:**\n",
    "\n",
    "In the brute-force approach, we iterate through each element of the height array and calculate the maximum heights on the left and right side of each bar. The amount of water trapped at each bar is equal to the minimum of the maximum heights on the left and right side minus the height of the bar itself."
   ]
  },
  {
   "cell_type": "code",
   "execution_count": 35,
   "id": "2ad112f2",
   "metadata": {},
   "outputs": [],
   "source": [
    "# Brute Force Approach\n",
    "def trap_rainwater_brute_force(height):\n",
    "    n = len(height)\n",
    "    total_water = 0\n",
    "\n",
    "    for i in range(1, n - 1):\n",
    "        left_max = max(height[:i])\n",
    "        right_max = max(height[i + 1:])\n",
    "        min_height = min(left_max, right_max)\n",
    "\n",
    "        if min_height > height[i]:\n",
    "            total_water += min_height - height[i]\n",
    "\n",
    "    return total_water\n"
   ]
  },
  {
   "cell_type": "markdown",
   "id": "26e4365a",
   "metadata": {},
   "source": [
    "**Test Case:**"
   ]
  },
  {
   "cell_type": "code",
   "execution_count": 36,
   "id": "955e1bcf",
   "metadata": {},
   "outputs": [
    {
     "name": "stdout",
     "output_type": "stream",
     "text": [
      "Test Case 1:\n",
      "Input:  [0, 1, 0, 2, 1, 0, 1, 3, 2, 1, 2, 1]\n",
      "Brute Force Output:  6\n"
     ]
    }
   ],
   "source": [
    "# Test Case 1\n",
    "height1 = [0, 1, 0, 2, 1, 0, 1, 3, 2, 1, 2, 1]\n",
    "print(\"Test Case 1:\")\n",
    "print(\"Input: \", height1)\n",
    "print(\"Brute Force Output: \", trap_rainwater_brute_force(height1))"
   ]
  },
  {
   "cell_type": "code",
   "execution_count": 37,
   "id": "993b3626",
   "metadata": {},
   "outputs": [
    {
     "name": "stdout",
     "output_type": "stream",
     "text": [
      "Test Case 2:\n",
      "Input:  [4, 2, 0, 3, 2, 5]\n",
      "Brute Force Output:  9\n"
     ]
    }
   ],
   "source": [
    "# Test Case 2\n",
    "height2 = [4, 2, 0, 3, 2, 5]\n",
    "print(\"Test Case 2:\")\n",
    "print(\"Input: \", height2)\n",
    "print(\"Brute Force Output: \", trap_rainwater_brute_force(height2))"
   ]
  },
  {
   "cell_type": "markdown",
   "id": "3792e707",
   "metadata": {},
   "source": [
    "**Discussion :**</br>\n",
    "\n",
    "**Time Complexity:** The time complexity of the brute-force approach is O(N^2), where N is the length of the height array. This is because, for each element, we iterate over the entire array to find the maximum heights on the left and right side.\n",
    "\n",
    "**Space Complexity:** The space complexity is O(1) since we don't use any additional data structures."
   ]
  },
  {
   "cell_type": "markdown",
   "id": "39dffbc4",
   "metadata": {},
   "source": [
    "**Solution Approach 2**\n",
    "\n",
    "**Optimized Approach:**\n",
    "\n",
    "In the optimized approach, we can use two pointers to keep track of the left and right boundaries of the elevation map. We also maintain variables to store the maximum heights on the left and right side as we iterate through the height array. By using this approach, we can avoid calculating the maximum heights repeatedly."
   ]
  },
  {
   "cell_type": "code",
   "execution_count": 38,
   "id": "d8aa1124",
   "metadata": {},
   "outputs": [],
   "source": [
    "# Optimized Approach\n",
    "def trap_rainwater_optimized(height):\n",
    "    n = len(height)\n",
    "    left = 0\n",
    "    right = n - 1\n",
    "    left_max = 0\n",
    "    right_max = 0\n",
    "    total_water = 0\n",
    "\n",
    "    while left < right:\n",
    "        if height[left] < height[right]:\n",
    "            if height[left] >= left_max:\n",
    "                left_max = height[left]\n",
    "            else:\n",
    "                total_water += left_max - height[left]\n",
    "            left += 1\n",
    "        else:\n",
    "            if height[right] >= right_max:\n",
    "                right_max = height[right]\n",
    "            else:\n",
    "                total_water += right_max - height[right]\n",
    "            right -= 1\n",
    "\n",
    "    return total_water\n"
   ]
  },
  {
   "cell_type": "markdown",
   "id": "b5afa73a",
   "metadata": {},
   "source": [
    "**Test Case:**"
   ]
  },
  {
   "cell_type": "code",
   "execution_count": 39,
   "id": "4c892d7e",
   "metadata": {},
   "outputs": [
    {
     "name": "stdout",
     "output_type": "stream",
     "text": [
      "Test Case 1:\n",
      "Input:  [0, 1, 0, 2, 1, 0, 1, 3, 2, 1, 2, 1]\n",
      "Optimized Output:  6\n"
     ]
    }
   ],
   "source": [
    "# Test Case 1\n",
    "height1 = [0, 1, 0, 2, 1, 0, 1, 3, 2, 1, 2, 1]\n",
    "print(\"Test Case 1:\")\n",
    "print(\"Input: \", height1)\n",
    "print(\"Optimized Output: \", trap_rainwater_optimized(height1))"
   ]
  },
  {
   "cell_type": "code",
   "execution_count": 40,
   "id": "29d02de7",
   "metadata": {},
   "outputs": [
    {
     "name": "stdout",
     "output_type": "stream",
     "text": [
      "Test Case 2:\n",
      "Input:  [4, 2, 0, 3, 2, 5]\n",
      "Optimized Output:  9\n"
     ]
    }
   ],
   "source": [
    "# Test Case 2\n",
    "height2 = [4, 2, 0, 3, 2, 5]\n",
    "print(\"Test Case 2:\")\n",
    "print(\"Input: \", height2)\n",
    "print(\"Optimized Output: \", trap_rainwater_optimized(height2))"
   ]
  },
  {
   "cell_type": "markdown",
   "id": "bd18d3be",
   "metadata": {},
   "source": [
    "**Discussion :**</br>\n",
    "\n",
    "**Time Complexity:** The time complexity of the optimized approach is O(N), where N is the length of the height array. We traverse the array from both ends only once.\n",
    "\n",
    "**Space Complexity:** The space complexity is O(1) since we don't use any additional data structures."
   ]
  }
 ],
 "metadata": {
  "kernelspec": {
   "display_name": "Python 3 (ipykernel)",
   "language": "python",
   "name": "python3"
  },
  "language_info": {
   "codemirror_mode": {
    "name": "ipython",
    "version": 3
   },
   "file_extension": ".py",
   "mimetype": "text/x-python",
   "name": "python",
   "nbconvert_exporter": "python",
   "pygments_lexer": "ipython3",
   "version": "3.9.13"
  }
 },
 "nbformat": 4,
 "nbformat_minor": 5
}
