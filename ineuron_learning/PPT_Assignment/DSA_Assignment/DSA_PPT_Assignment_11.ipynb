{
 "cells": [
  {
   "cell_type": "markdown",
   "id": "93be8336",
   "metadata": {},
   "source": [
    "# Q1\n",
    "\n",
    "💡 **Question 1**\n",
    "\n",
    "Given a non-negative integer `x`, return *the square root of* `x` *rounded down to the nearest integer*. The returned integer should be **non-negative** as well.\n",
    "\n",
    "You **must not use** any built-in exponent function or operator.\n",
    "\n",
    "- For example, do not use `pow(x, 0.5)` in c++ or `x ** 0.5` in python.\n",
    "\n",
    "**Example 1:**\n",
    "\n",
    ">Input: x = 4 <br>\n",
    ">Output: 2 <br>\n",
    ">Explanation: The square root of 4 is 2, so we return 2.\n",
    "\n",
    "**Example 2:**\n",
    "\n",
    ">Input: x = 8 <br>\n",
    ">Output: 2 <br>\n",
    ">Explanation: The square root of 8 is 2.82842..., and since we round it down to the nearest integer, 2 is returned."
   ]
  },
  {
   "cell_type": "markdown",
   "id": "7828f4dd",
   "metadata": {},
   "source": [
    "# Ans.\n",
    "\n",
    "**Solution Approach 1**\n",
    "\n",
    "**Brute Force Approach:**\n",
    "\n",
    "A brute force approach to find the square root of a number x can be to iterate from 0 to x and check for each number if its square is equal to or greater than x. Once we find a number whose square is greater than x, we return the previous number as the square root."
   ]
  },
  {
   "cell_type": "code",
   "execution_count": 1,
   "id": "0fa4ef83",
   "metadata": {},
   "outputs": [],
   "source": [
    "# Brute Force Approach\n",
    "def mySqrt_brute_force(x):\n",
    "    if x == 0:\n",
    "        return 0\n",
    "    \n",
    "    i = 1\n",
    "    while i * i <= x:\n",
    "        i += 1\n",
    "    \n",
    "    return i - 1"
   ]
  },
  {
   "cell_type": "markdown",
   "id": "8519c63c",
   "metadata": {},
   "source": [
    "**Test Case:**"
   ]
  },
  {
   "cell_type": "code",
   "execution_count": 2,
   "id": "7489e2b5",
   "metadata": {},
   "outputs": [
    {
     "name": "stdout",
     "output_type": "stream",
     "text": [
      "2\n",
      "2\n"
     ]
    }
   ],
   "source": [
    "# Test Cases\n",
    "# Brute Force Approach\n",
    "print(mySqrt_brute_force(4))  \n",
    "print(mySqrt_brute_force(8))"
   ]
  },
  {
   "cell_type": "markdown",
   "id": "d4f1b949",
   "metadata": {},
   "source": [
    "**Discussion :**</br>\n",
    "\n",
    "**The time complexity** of this brute force approach is O(sqrt(x)), as we iterate up to sqrt(x) to find the square root. \n",
    "\n",
    "**The space complexity** is O(1) since we only use a constant amount of extra space."
   ]
  },
  {
   "cell_type": "markdown",
   "id": "abe279fe",
   "metadata": {},
   "source": [
    "**Solution Approach 2**\n",
    "\n",
    "**Optimized Approach - Binary Search:**\n",
    "\n",
    "An optimized approach to find the square root of x can be to use a binary search. We start with the left pointer at 0 and the right pointer at x. We repeatedly calculate the mid value and compare its square with x. Based on the comparison, we update the left or right pointer and continue the binary search until we find the floor square root."
   ]
  },
  {
   "cell_type": "code",
   "execution_count": 3,
   "id": "8b5288ae",
   "metadata": {},
   "outputs": [],
   "source": [
    "# Optimized Approach - Binary Search\n",
    "def mySqrt_binary_search(x):\n",
    "    if x == 0:\n",
    "        return 0\n",
    "    \n",
    "    left, right = 1, x\n",
    "    while left <= right:\n",
    "        mid = left + (right - left) // 2\n",
    "        if mid * mid > x:\n",
    "            right = mid - 1\n",
    "        else:\n",
    "            left = mid + 1\n",
    "    \n",
    "    return left - 1"
   ]
  },
  {
   "cell_type": "markdown",
   "id": "bfe54a0c",
   "metadata": {},
   "source": [
    "**Test Case:**"
   ]
  },
  {
   "cell_type": "code",
   "execution_count": 4,
   "id": "0cb24235",
   "metadata": {},
   "outputs": [
    {
     "name": "stdout",
     "output_type": "stream",
     "text": [
      "2\n",
      "2\n"
     ]
    }
   ],
   "source": [
    "# Test Cases\n",
    "# Optimized Approach - Binary Search\n",
    "print(mySqrt_binary_search(4)) \n",
    "print(mySqrt_binary_search(8))"
   ]
  },
  {
   "cell_type": "markdown",
   "id": "416bb7f5",
   "metadata": {},
   "source": [
    "**Discussion :**</br>\n",
    "\n",
    "**The time complexity** of this Optimized Approach is O(log(x)), as we perform binary search on the range of possible square roots. \n",
    "\n",
    "**The space complexity** is O(1) since we only use a constant amount of extra space."
   ]
  },
  {
   "cell_type": "markdown",
   "id": "8bc83ff2",
   "metadata": {},
   "source": [
    "# Q2\n",
    "\n",
    "💡 **Question 2**\n",
    "\n",
    "A peak element is an element that is strictly greater than its neighbors.\n",
    "\n",
    "Given a **0-indexed** integer array `nums`, find a peak element, and return its index. If the array contains multiple peaks, return the index to **any of the peaks**.\n",
    "\n",
    "You may imagine that `nums[-1] = nums[n] = -∞`. In other words, an element is always considered to be strictly greater than a neighbor that is outside the array.\n",
    "\n",
    "You must write an algorithm that runs in `O(log n)` time.\n",
    "\n",
    "**Example 1:**\n",
    "\n",
    ">Input: nums = [1,2,3,1] <br>\n",
    ">Output: 2 <br>\n",
    ">Explanation: 3 is a peak element and your function should return the index number 2. <br>\n",
    "\n",
    "**Example 2:**\n",
    "\n",
    ">Input: nums = [1,2,1,3,5,6,4] <br>\n",
    ">Output: 5 <br>\n",
    ">Explanation: Your function can return either index number 1 where the peak element is 2, or index number 5 where the peak element is 6."
   ]
  },
  {
   "cell_type": "markdown",
   "id": "569fee7f",
   "metadata": {},
   "source": [
    "# Ans.\n",
    "\n",
    "**Solution Approach 1**\n",
    "\n",
    "**Brute Force Approach:**\n",
    "\n",
    "A brute force approach to find a peak element in the array is to iterate through each element and check if it is greater than its neighboring elements. If we find such an element, we return its index as the peak."
   ]
  },
  {
   "cell_type": "code",
   "execution_count": 5,
   "id": "d920cb8e",
   "metadata": {},
   "outputs": [],
   "source": [
    "# Brute Force Approach\n",
    "def findPeakElement_brute_force(nums):\n",
    "    n = len(nums)\n",
    "    for i in range(n):\n",
    "        if (i == 0 or nums[i] > nums[i - 1]) and (i == n - 1 or nums[i] > nums[i + 1]):\n",
    "            return i"
   ]
  },
  {
   "cell_type": "markdown",
   "id": "70df7e06",
   "metadata": {},
   "source": [
    "**Test Case:**"
   ]
  },
  {
   "cell_type": "code",
   "execution_count": 6,
   "id": "658b4fcb",
   "metadata": {},
   "outputs": [
    {
     "name": "stdout",
     "output_type": "stream",
     "text": [
      "2\n",
      "1\n"
     ]
    }
   ],
   "source": [
    "# Test Cases\n",
    "# Brute Force Approach\n",
    "nums = [1, 2, 3, 1]\n",
    "print(findPeakElement_brute_force(nums))  \n",
    "\n",
    "nums = [1, 2, 1, 3, 5, 6, 4]\n",
    "print(findPeakElement_brute_force(nums))"
   ]
  },
  {
   "cell_type": "markdown",
   "id": "62f2013a",
   "metadata": {},
   "source": [
    "**Discussion :**</br>\n",
    "\n",
    "**The time complexity** of this brute force approach is O(n), as we iterate through each element in the array. \n",
    "\n",
    "**The space complexity** is O(1) since we only use a constant amount of extra space."
   ]
  },
  {
   "cell_type": "markdown",
   "id": "de87c1db",
   "metadata": {},
   "source": [
    "**Solution Approach 2**\n",
    "\n",
    "**Optimized Approach - Binary Search:**\n",
    "\n",
    "To find a peak element in the array in O(log n) time, we can utilize the binary search algorithm. The idea is to compare the middle element with its neighboring elements. If the middle element is greater than both its neighbors, then it is a peak. Otherwise, we move towards the higher element and continue the binary search."
   ]
  },
  {
   "cell_type": "code",
   "execution_count": 7,
   "id": "8315fe55",
   "metadata": {},
   "outputs": [],
   "source": [
    "# Optimized Approach - Binary Search\n",
    "def findPeakElement(nums):\n",
    "    left, right = 0, len(nums) - 1\n",
    "    while left < right:\n",
    "        mid = left + (right - left) // 2\n",
    "        if nums[mid] > nums[mid + 1]:\n",
    "            right = mid\n",
    "        else:\n",
    "            left = mid + 1\n",
    "    return left"
   ]
  },
  {
   "cell_type": "markdown",
   "id": "83048119",
   "metadata": {},
   "source": [
    "**Test Case:**"
   ]
  },
  {
   "cell_type": "code",
   "execution_count": 8,
   "id": "cfae9497",
   "metadata": {},
   "outputs": [
    {
     "name": "stdout",
     "output_type": "stream",
     "text": [
      "2\n",
      "5\n"
     ]
    }
   ],
   "source": [
    "# Test Cases\n",
    "# Optimized Approach - Binary Search\n",
    "nums = [1, 2, 3, 1]\n",
    "print(findPeakElement(nums))\n",
    "\n",
    "nums = [1, 2, 1, 3, 5, 6, 4]\n",
    "print(findPeakElement(nums)) "
   ]
  },
  {
   "cell_type": "markdown",
   "id": "0afe8129",
   "metadata": {},
   "source": [
    "**Discussion :**</br>\n",
    "\n",
    "**The time complexity** of this binary search approach is O(log n), as we perform binary search to find the peak element. \n",
    "\n",
    "**The space complexity** is O(1) since we only use a constant amount of extra space."
   ]
  },
  {
   "cell_type": "markdown",
   "id": "fd3e3ed1",
   "metadata": {},
   "source": [
    "# Q3\n",
    "\n",
    "\n",
    "💡 **Question 3**\n",
    "\n",
    "****\n",
    "\n",
    "Given an array `nums` containing `n` distinct numbers in the range `[0, n]`, return *the only number in the range that is missing from the array.*\n",
    "\n",
    "**Example 1:**\n",
    "\n",
    "```\n",
    "Input: nums = [3,0,1]\n",
    "Output: 2\n",
    "Explanation: n = 3 since there are 3 numbers, so all numbers are in the range [0,3]. 2 is the missing number in the range since it does not appear in nums.\n",
    "\n",
    "```\n",
    "\n",
    "**Example 2:**\n",
    "\n",
    "```\n",
    "Input: nums = [0,1]\n",
    "Output: 2\n",
    "Explanation: n = 2 since there are 2 numbers, so all numbers are in the range [0,2]. 2 is the missing number in the range since it does not appear in nums.\n",
    "\n",
    "```\n",
    "\n",
    "**Example 3:**\n",
    "```\n",
    "Input: nums = [9,6,4,2,3,5,7,0,1]\n",
    "Output: 8\n",
    "Explanation: n = 9 since there are 9 numbers, so all numbers are in the range [0,9]. 8 is the missing number in the range since it does not appear in nums.\n",
    "```"
   ]
  },
  {
   "cell_type": "markdown",
   "id": "07bb6877",
   "metadata": {},
   "source": [
    "# Ans.\n",
    "\n",
    "**Solution Approach 1**\n",
    "\n",
    "\n",
    "**Brute Force Approach:**\n",
    "\n",
    "A brute force approach to find the missing number in the array is to iterate through all numbers in the range [0, n] and check if each number is present in the given array. If we find a number that is not present, we return it as the missing number."
   ]
  },
  {
   "cell_type": "code",
   "execution_count": 9,
   "id": "a81a522c",
   "metadata": {},
   "outputs": [],
   "source": [
    "# Brute Force Approach\n",
    "def missingNumber_brute_force(nums):\n",
    "    n = len(nums)\n",
    "    for i in range(n + 1):\n",
    "        if i not in nums:\n",
    "            return i"
   ]
  },
  {
   "cell_type": "markdown",
   "id": "66b45666",
   "metadata": {},
   "source": [
    "**Test Case:**"
   ]
  },
  {
   "cell_type": "code",
   "execution_count": 10,
   "id": "0f18a7b3",
   "metadata": {},
   "outputs": [
    {
     "name": "stdout",
     "output_type": "stream",
     "text": [
      "2\n",
      "2\n",
      "8\n"
     ]
    }
   ],
   "source": [
    "# Test Cases\n",
    "# Brute Force Approach\n",
    "nums = [3, 0, 1]\n",
    "print(missingNumber_brute_force(nums))  \n",
    "\n",
    "nums = [0, 1]\n",
    "print(missingNumber_brute_force(nums))  \n",
    "\n",
    "nums = [9, 6, 4, 2, 3, 5, 7, 0, 1]\n",
    "print(missingNumber_brute_force(nums))"
   ]
  },
  {
   "cell_type": "markdown",
   "id": "cd6d4cfa",
   "metadata": {},
   "source": [
    "**Discussion :**</br>\n",
    "\n",
    "**The time complexity** of this brute force approach is O(n^2), as for each number in the range [0, n], we iterate through the given array to check if it is present. \n",
    "\n",
    "**The space complexity** is O(1) since we only use a constant amount of extra space."
   ]
  },
  {
   "cell_type": "markdown",
   "id": "300862c9",
   "metadata": {},
   "source": [
    "**Solution Approach 2**\n",
    "\n",
    "**Optimized Approach - XOR:**\n",
    "\n",
    "An optimized approach to find the missing number is to utilize the XOR operation. We can XOR all the numbers in the range [0, n] and then XOR the result with all the numbers in the given array. The result will be the missing number."
   ]
  },
  {
   "cell_type": "code",
   "execution_count": 11,
   "id": "789aa83b",
   "metadata": {},
   "outputs": [],
   "source": [
    "# Optimized Approach - XOR\n",
    "def missingNumber(nums):\n",
    "    n = len(nums)\n",
    "    missing = n\n",
    "    for i in range(n):\n",
    "        missing ^= i ^ nums[i]\n",
    "    return missing"
   ]
  },
  {
   "cell_type": "markdown",
   "id": "84b3a8b5",
   "metadata": {},
   "source": [
    "**Test Case:**"
   ]
  },
  {
   "cell_type": "code",
   "execution_count": 12,
   "id": "b1e96a71",
   "metadata": {},
   "outputs": [
    {
     "name": "stdout",
     "output_type": "stream",
     "text": [
      "2\n",
      "2\n",
      "8\n"
     ]
    }
   ],
   "source": [
    "# Test Cases\n",
    "# Optimized Approach - XOR\n",
    "nums = [3, 0, 1]\n",
    "print(missingNumber(nums))  \n",
    "\n",
    "nums = [0, 1]\n",
    "print(missingNumber(nums))  \n",
    "\n",
    "nums = [9, 6, 4, 2, 3, 5, 7, 0, 1]\n",
    "print(missingNumber(nums))"
   ]
  },
  {
   "cell_type": "markdown",
   "id": "d00773b4",
   "metadata": {},
   "source": [
    "**Discussion :**</br>\n",
    "\n",
    "**The time complexity** of this XOR approach is O(n), as we iterate through the given array once. \n",
    "\n",
    "**The space complexity** is O(1) since we only use a constant amount of extra space."
   ]
  },
  {
   "cell_type": "markdown",
   "id": "e39ef467",
   "metadata": {},
   "source": [
    "# Q4\n",
    "\n",
    "\n",
    "💡 **Question 4**\n",
    "\n",
    "Given an array of integers `nums` containing `n + 1` integers where each integer is in the range `[1, n]` inclusive.\n",
    "\n",
    "There is only **one repeated number** in `nums`, return *this repeated number*.\n",
    "\n",
    "You must solve the problem **without** modifying the array `nums` and uses only constant extra space.\n",
    "\n",
    "**Example 1:**\n",
    "\n",
    "```\n",
    "Input: nums = [1,3,4,2,2]\n",
    "Output: 2\n",
    "\n",
    "```\n",
    "\n",
    "**Example 2:**\n",
    "\n",
    "```\n",
    "Input: nums = [3,1,3,4,2]\n",
    "Output: 3\n",
    "```"
   ]
  },
  {
   "cell_type": "markdown",
   "id": "3a3e02f7",
   "metadata": {},
   "source": [
    "# Ans.\n",
    "\n",
    "**Solution Approach 1**\n",
    "\n",
    "**Brute Force Approach:**\n",
    "\n",
    "A brute force approach to find the repeated number in the array is to iterate through each element and check if it appears more than once in the array. If we find such an element, we return it as the repeated number."
   ]
  },
  {
   "cell_type": "code",
   "execution_count": 13,
   "id": "0f572598",
   "metadata": {},
   "outputs": [],
   "source": [
    "# Brute Force Approach\n",
    "def findDuplicate_brute_force(nums):\n",
    "    for i in range(len(nums)):\n",
    "        for j in range(i + 1, len(nums)):\n",
    "            if nums[i] == nums[j]:\n",
    "                return nums[i]"
   ]
  },
  {
   "cell_type": "markdown",
   "id": "37285dfa",
   "metadata": {},
   "source": [
    "**Test Case:**"
   ]
  },
  {
   "cell_type": "code",
   "execution_count": 14,
   "id": "6b6c9007",
   "metadata": {},
   "outputs": [
    {
     "name": "stdout",
     "output_type": "stream",
     "text": [
      "2\n",
      "3\n"
     ]
    }
   ],
   "source": [
    "# Test Cases\n",
    "# Brute Force Approach\n",
    "nums = [1, 3, 4, 2, 2]\n",
    "print(findDuplicate_brute_force(nums)) \n",
    "\n",
    "nums = [3, 1, 3, 4, 2]\n",
    "print(findDuplicate_brute_force(nums))"
   ]
  },
  {
   "cell_type": "markdown",
   "id": "f10daeb7",
   "metadata": {},
   "source": [
    "**Discussion :**</br>\n",
    "\n",
    "**The time complexity** of this brute force approach is O(n^2), as we iterate through each element in the array and compare it with the rest of the elements. \n",
    "\n",
    "**The space complexity** is O(1) since we only use a constant amount of extra space."
   ]
  },
  {
   "cell_type": "markdown",
   "id": "9e1c7233",
   "metadata": {},
   "source": [
    "**Solution Approach 2**\n",
    "\n",
    "**Optimized Approach - Floyd's Tortoise and Hare Algorithm (Cycle Detection):**\n",
    "\n",
    "An optimized approach to find the repeated number is to use Floyd's Tortoise and Hare Algorithm, which is commonly used for cycle detection in linked lists. We can consider the array as a linked list where the index of each element represents the next pointer. By finding the intersection point of the tortoise and hare pointers, we can identify the start of the cycle, which corresponds to the repeated number."
   ]
  },
  {
   "cell_type": "code",
   "execution_count": 15,
   "id": "b1e3392f",
   "metadata": {},
   "outputs": [],
   "source": [
    "# Optimized Approach - Floyd's Tortoise and Hare Algorithm (Cycle Detection)\n",
    "def findDuplicate(nums):\n",
    "    slow = fast = nums[0]\n",
    "    \n",
    "    # Move tortoise and hare pointers to find the intersection point\n",
    "    while True:\n",
    "        slow = nums[slow]\n",
    "        fast = nums[nums[fast]]\n",
    "        if slow == fast:\n",
    "            break\n",
    "    \n",
    "    # Move one pointer to the start and another pointer at the intersection point\n",
    "    slow = nums[0]\n",
    "    while slow != fast:\n",
    "        slow = nums[slow]\n",
    "        fast = nums[fast]\n",
    "    \n",
    "    return slow"
   ]
  },
  {
   "cell_type": "markdown",
   "id": "01b4f65d",
   "metadata": {},
   "source": [
    "**Test Case:**"
   ]
  },
  {
   "cell_type": "code",
   "execution_count": 16,
   "id": "26a49170",
   "metadata": {},
   "outputs": [
    {
     "name": "stdout",
     "output_type": "stream",
     "text": [
      "2\n",
      "3\n"
     ]
    }
   ],
   "source": [
    "# Test Cases\n",
    "# Optimized Approach - Floyd's Tortoise and Hare Algorithm\n",
    "nums = [1, 3, 4, 2, 2]\n",
    "print(findDuplicate(nums))\n",
    "\n",
    "nums = [3, 1, 3, 4, 2]\n",
    "print(findDuplicate(nums))"
   ]
  },
  {
   "cell_type": "markdown",
   "id": "1fdc0c5d",
   "metadata": {},
   "source": [
    "**Discussion :**</br>\n",
    "\n",
    "**The time complexity** of this optimized approach is O(n), as we perform two iterations through the array. \n",
    "\n",
    "**The space complexity** is O(1) since we only use a constant amount of extra space."
   ]
  },
  {
   "cell_type": "markdown",
   "id": "ca671777",
   "metadata": {},
   "source": [
    "# Q5\n",
    "\n",
    "\n",
    "💡 **Question 5**\n",
    "\n",
    "Given two integer arrays `nums1` and `nums2`, return *an array of their intersection*. Each element in the result must be **unique** and you may return the result in **any order**.\n",
    "\n",
    "**Example 1:**\n",
    "\n",
    "```\n",
    "Input: nums1 = [1,2,2,1], nums2 = [2,2]\n",
    "Output: [2]\n",
    "\n",
    "```\n",
    "\n",
    "**Example 2:**\n",
    "\n",
    "```\n",
    "Input: nums1 = [4,9,5], nums2 = [9,4,9,8,4]\n",
    "Output: [9,4]\n",
    "Explanation: [4,9] is also accepted.\n",
    "```"
   ]
  },
  {
   "cell_type": "markdown",
   "id": "c23109d8",
   "metadata": {},
   "source": [
    "# Ans.\n",
    "\n",
    "**Solution Approach 1**\n",
    "\n",
    "\n",
    "**Brute Force Approach:**\n",
    "\n",
    "A brute force approach to find the intersection of two arrays is to iterate through each element of the first array and check if it exists in the second array. If it does, add it to the result array. We also need to ensure that each element in the result is unique."
   ]
  },
  {
   "cell_type": "code",
   "execution_count": 17,
   "id": "b2da1709",
   "metadata": {},
   "outputs": [],
   "source": [
    "# Brute Force Approach\n",
    "def intersection_brute_force(nums1, nums2):\n",
    "    result = []\n",
    "    for num in nums1:\n",
    "        if num in nums2 and num not in result:\n",
    "            result.append(num)\n",
    "    return result"
   ]
  },
  {
   "cell_type": "markdown",
   "id": "c3b4889a",
   "metadata": {},
   "source": [
    "**Test Case:**"
   ]
  },
  {
   "cell_type": "code",
   "execution_count": 18,
   "id": "ded946f8",
   "metadata": {},
   "outputs": [
    {
     "name": "stdout",
     "output_type": "stream",
     "text": [
      "[2]\n"
     ]
    }
   ],
   "source": [
    "# Test Cases\n",
    "# Brute Force Approach\n",
    "nums1 = [1, 2, 2, 1]\n",
    "nums2 = [2, 2]\n",
    "print(intersection_brute_force(nums1, nums2))"
   ]
  },
  {
   "cell_type": "code",
   "execution_count": 19,
   "id": "ed7e4cca",
   "metadata": {},
   "outputs": [
    {
     "name": "stdout",
     "output_type": "stream",
     "text": [
      "[4, 9]\n"
     ]
    }
   ],
   "source": [
    "nums1 = [4, 9, 5]\n",
    "nums2 = [9, 4, 9, 8, 4]\n",
    "print(intersection_brute_force(nums1, nums2))"
   ]
  },
  {
   "cell_type": "markdown",
   "id": "bbd3c3e6",
   "metadata": {},
   "source": [
    "**Discussion :**</br>\n",
    "\n",
    "**The time complexity*** of this brute force approach is O(n * m), where n and m are the lengths of the two input arrays. In the worst case, we need to iterate through each element of the first array and check its presence in the second array. \n",
    "\n",
    "**The space complexity** is O(k), where k is the number of unique elements in the intersection."
   ]
  },
  {
   "cell_type": "markdown",
   "id": "51ef869f",
   "metadata": {},
   "source": [
    "**Solution Approach 2**\n",
    "\n",
    "**Optimized Approach - Set Intersection:**\n",
    "\n",
    "An optimized approach to find the intersection of two arrays is to use sets. We can convert both input arrays into sets and then perform an intersection operation on the two sets. The result will contain the unique elements that are present in both arrays."
   ]
  },
  {
   "cell_type": "code",
   "execution_count": 20,
   "id": "258640d5",
   "metadata": {},
   "outputs": [],
   "source": [
    "# Optimized Approach - Set Intersection\n",
    "def intersection(nums1, nums2):\n",
    "    set1 = set(nums1)\n",
    "    set2 = set(nums2)\n",
    "    return list(set1.intersection(set2))"
   ]
  },
  {
   "cell_type": "markdown",
   "id": "c85f7c75",
   "metadata": {},
   "source": [
    "**Test Case:**"
   ]
  },
  {
   "cell_type": "code",
   "execution_count": 21,
   "id": "07a8ac0f",
   "metadata": {},
   "outputs": [
    {
     "name": "stdout",
     "output_type": "stream",
     "text": [
      "[2]\n"
     ]
    }
   ],
   "source": [
    "# Optimized Approach - Set Intersection\n",
    "nums1 = [1, 2, 2, 1]\n",
    "nums2 = [2, 2]\n",
    "print(intersection(nums1, nums2))"
   ]
  },
  {
   "cell_type": "code",
   "execution_count": 22,
   "id": "f1bbb7e2",
   "metadata": {},
   "outputs": [
    {
     "name": "stdout",
     "output_type": "stream",
     "text": [
      "[9, 4]\n"
     ]
    }
   ],
   "source": [
    "nums1 = [4, 9, 5]\n",
    "nums2 = [9, 4, 9, 8, 4]\n",
    "print(intersection(nums1, nums2))"
   ]
  },
  {
   "cell_type": "markdown",
   "id": "c511a56b",
   "metadata": {},
   "source": [
    "**Discussion :**</br>\n",
    "\n",
    "**he time complexity** of this optimized approach is O(n + m), where n and m are the lengths of the two input arrays. We convert the arrays into sets in O(n + m) time, and the intersection operation takes O(min(n, m)) time. \n",
    "\n",
    "**The space complexity** is O(k), where k is the number of unique elements in the intersection."
   ]
  },
  {
   "cell_type": "markdown",
   "id": "488a8798",
   "metadata": {},
   "source": [
    "# Q6\n",
    "\n",
    "\n",
    "💡 **Question 6**\n",
    "\n",
    "Suppose an array of length `n` sorted in ascending order is **rotated** between `1` and `n` times. For example, the array `nums = [0,1,2,4,5,6,7]` might become:\n",
    "\n",
    "- `[4,5,6,7,0,1,2]` if it was rotated `4` times.\n",
    "- `[0,1,2,4,5,6,7]` if it was rotated `7` times.\n",
    "\n",
    "Notice that **rotating** an array `[a[0], a[1], a[2], ..., a[n-1]]` 1 time results in the array `[a[n-1], a[0], a[1], a[2], ..., a[n-2]]`.\n",
    "\n",
    "Given the sorted rotated array `nums` of **unique** elements, return *the minimum element of this array*.\n",
    "\n",
    "You must write an algorithm that runs in `O(log n) time.`\n",
    "\n",
    "**Example 1:**\n",
    "\n",
    "```\n",
    "Input: nums = [3,4,5,1,2]\n",
    "Output: 1\n",
    "Explanation: The original array was [1,2,3,4,5] rotated 3 times.\n",
    "\n",
    "```\n",
    "\n",
    "**Example 2:**\n",
    "\n",
    "```\n",
    "Input: nums = [4,5,6,7,0,1,2]\n",
    "Output: 0\n",
    "Explanation: The original array was [0,1,2,4,5,6,7] and it was rotated 4 times.\n",
    "\n",
    "```\n",
    "\n",
    "**Example 3:**\n",
    "\n",
    "```\n",
    "Input: nums = [11,13,15,17]\n",
    "Output: 11\n",
    "Explanation: The original array was [11,13,15,17] and it was rotated 4 times.\n",
    "```"
   ]
  },
  {
   "cell_type": "markdown",
   "id": "5e99966d",
   "metadata": {},
   "source": [
    "# Ans.\n",
    "\n",
    "**Solution Approach 1**\n",
    "\n",
    "**Brute Force Approach:**\n",
    "\n",
    "A brute force approach to find the minimum element in the rotated sorted array is to iterate through the array and find the smallest element. Since the array is already sorted in ascending order after rotation, the smallest element will be the minimum element of the array."
   ]
  },
  {
   "cell_type": "code",
   "execution_count": 23,
   "id": "68cfd1e7",
   "metadata": {},
   "outputs": [],
   "source": [
    "# Brute Force Approach\n",
    "def findMin_brute_force(nums):\n",
    "    min_num = nums[0]\n",
    "    for num in nums:\n",
    "        if num < min_num:\n",
    "            min_num = num\n",
    "    return min_num"
   ]
  },
  {
   "cell_type": "markdown",
   "id": "b81d90dd",
   "metadata": {},
   "source": [
    "**Test Case:**"
   ]
  },
  {
   "cell_type": "code",
   "execution_count": 24,
   "id": "186b396f",
   "metadata": {},
   "outputs": [
    {
     "name": "stdout",
     "output_type": "stream",
     "text": [
      "1\n"
     ]
    }
   ],
   "source": [
    "# Test Cases\n",
    "# Brute Force Approach\n",
    "nums = [3, 4, 5, 1, 2]\n",
    "print(findMin_brute_force(nums))"
   ]
  },
  {
   "cell_type": "code",
   "execution_count": 25,
   "id": "7f75d652",
   "metadata": {},
   "outputs": [
    {
     "name": "stdout",
     "output_type": "stream",
     "text": [
      "0\n"
     ]
    }
   ],
   "source": [
    "nums = [4, 5, 6, 7, 0, 1, 2]\n",
    "print(findMin_brute_force(nums))"
   ]
  },
  {
   "cell_type": "code",
   "execution_count": 26,
   "id": "9b7e3607",
   "metadata": {},
   "outputs": [
    {
     "name": "stdout",
     "output_type": "stream",
     "text": [
      "11\n"
     ]
    }
   ],
   "source": [
    "nums = [11, 13, 15, 17]\n",
    "print(findMin_brute_force(nums))"
   ]
  },
  {
   "cell_type": "markdown",
   "id": "c34de033",
   "metadata": {},
   "source": [
    "**Discussion :**</br>\n",
    "\n",
    "**The time complexity** of this brute force approach is O(n), where n is the length of the input array. We iterate through the array once to find the minimum element. \n",
    "\n",
    "**The space complexity** is O(1) since we only use a constant amount of extra space."
   ]
  },
  {
   "cell_type": "markdown",
   "id": "e394dfd9",
   "metadata": {},
   "source": [
    "**Solution Approach 2**\n",
    "\n",
    "**Optimized Approach - Binary Search:**\n",
    "\n",
    "An optimized approach to find the minimum element in the rotated sorted array is to use binary search. Since the array is rotated, we can divide the array into two parts: the left part and the right part. The minimum element will be located in the right part."
   ]
  },
  {
   "cell_type": "code",
   "execution_count": 27,
   "id": "61bbb1bd",
   "metadata": {},
   "outputs": [],
   "source": [
    "# Optimized Approach - Binary Search\n",
    "def findMin(nums):\n",
    "    left = 0\n",
    "    right = len(nums) - 1\n",
    "    \n",
    "    while left < right:\n",
    "        mid = left + (right - left) // 2\n",
    "        \n",
    "        if nums[mid] > nums[right]:\n",
    "            left = mid + 1\n",
    "        else:\n",
    "            right = mid\n",
    "    \n",
    "    return nums[left]"
   ]
  },
  {
   "cell_type": "markdown",
   "id": "b431e6d3",
   "metadata": {},
   "source": [
    "**Test Case:**"
   ]
  },
  {
   "cell_type": "code",
   "execution_count": 28,
   "id": "b68f6b4b",
   "metadata": {},
   "outputs": [
    {
     "name": "stdout",
     "output_type": "stream",
     "text": [
      "1\n"
     ]
    }
   ],
   "source": [
    "# Test Cases\n",
    "# Optimized Approach - Binary Search\n",
    "\n",
    "nums = [3, 4, 5, 1, 2]\n",
    "print(findMin(nums))"
   ]
  },
  {
   "cell_type": "code",
   "execution_count": 29,
   "id": "7400fb4c",
   "metadata": {},
   "outputs": [
    {
     "name": "stdout",
     "output_type": "stream",
     "text": [
      "0\n"
     ]
    }
   ],
   "source": [
    "nums = [4, 5, 6, 7, 0, 1, 2]\n",
    "print(findMin(nums))"
   ]
  },
  {
   "cell_type": "code",
   "execution_count": 30,
   "id": "01086c87",
   "metadata": {},
   "outputs": [
    {
     "name": "stdout",
     "output_type": "stream",
     "text": [
      "11\n"
     ]
    }
   ],
   "source": [
    "nums = [11, 13, 15, 17]\n",
    "print(findMin(nums))"
   ]
  },
  {
   "cell_type": "markdown",
   "id": "4f278b2a",
   "metadata": {},
   "source": [
    "**Discussion :**</br>\n",
    "\n",
    "**The time complexity** of this optimized approach is O(log n), where n is the length of the input array. We perform binary search on the array, halving the search space in each iteration. \n",
    "\n",
    "**The space complexity** is O(1) since we only use a constant amount of extra space."
   ]
  },
  {
   "cell_type": "markdown",
   "id": "7a6df466",
   "metadata": {},
   "source": [
    "# Q7\n",
    "\n",
    "\n",
    "💡 **Question 7**\n",
    "\n",
    "Given an array of integers `nums` sorted in non-decreasing order, find the starting and ending position of a given `target` value.\n",
    "\n",
    "If `target` is not found in the array, return `[-1, -1]`.\n",
    "\n",
    "You must write an algorithm with `O(log n)` runtime complexity.\n",
    "\n",
    "**Example 1:**\n",
    "\n",
    "```\n",
    "Input: nums = [5,7,7,8,8,10], target = 8\n",
    "Output: [3,4]\n",
    "\n",
    "```\n",
    "\n",
    "**Example 2:**\n",
    "\n",
    "```\n",
    "Input: nums = [5,7,7,8,8,10], target = 6\n",
    "Output: [-1,-1]\n",
    "\n",
    "```\n",
    "\n",
    "**Example 3:**\n",
    "\n",
    "```\n",
    "Input: nums = [], target = 0\n",
    "Output: [-1,-1]\n",
    "\n",
    "```"
   ]
  },
  {
   "cell_type": "markdown",
   "id": "8bfab3ad",
   "metadata": {},
   "source": [
    "# Ans.\n",
    "\n",
    "**Solution Approach 1**\n",
    "\n",
    "**Brute Force Approach:**\n",
    "\n",
    "The brute force approach to find the starting and ending position of a target value in the given sorted array is to iterate through the array and keep track of the first and last occurrence of the target value. We can use two pointers to track the indices of the first and last occurrences."
   ]
  },
  {
   "cell_type": "code",
   "execution_count": 31,
   "id": "919c5b7e",
   "metadata": {},
   "outputs": [],
   "source": [
    "# Brute Force Approach\n",
    "def searchRange_brute_force(nums, target):\n",
    "    start = -1\n",
    "    end = -1\n",
    "\n",
    "    for i in range(len(nums)):\n",
    "        if nums[i] == target:\n",
    "            if start == -1:\n",
    "                start = i\n",
    "            end = i\n",
    "\n",
    "    return [start, end]\n"
   ]
  },
  {
   "cell_type": "markdown",
   "id": "2991b201",
   "metadata": {},
   "source": [
    "**Test Case:**"
   ]
  },
  {
   "cell_type": "code",
   "execution_count": 32,
   "id": "09a25d67",
   "metadata": {},
   "outputs": [
    {
     "name": "stdout",
     "output_type": "stream",
     "text": [
      "[3, 4]\n"
     ]
    }
   ],
   "source": [
    "# Test Cases\n",
    "# Brute Force Approach\n",
    "nums = [5, 7, 7, 8, 8, 10]\n",
    "target = 8\n",
    "print(searchRange_brute_force(nums, target))"
   ]
  },
  {
   "cell_type": "code",
   "execution_count": 33,
   "id": "547288bb",
   "metadata": {},
   "outputs": [
    {
     "name": "stdout",
     "output_type": "stream",
     "text": [
      "[-1, -1]\n"
     ]
    }
   ],
   "source": [
    "nums = [5, 7, 7, 8, 8, 10]\n",
    "target = 6\n",
    "print(searchRange_brute_force(nums, target))"
   ]
  },
  {
   "cell_type": "code",
   "execution_count": 34,
   "id": "041cd622",
   "metadata": {},
   "outputs": [
    {
     "name": "stdout",
     "output_type": "stream",
     "text": [
      "[-1, -1]\n"
     ]
    }
   ],
   "source": [
    "nums = []\n",
    "target = 0\n",
    "print(searchRange_brute_force(nums, target))"
   ]
  },
  {
   "cell_type": "markdown",
   "id": "ca6405b5",
   "metadata": {},
   "source": [
    "**Discussion :**</br>\n",
    "\n",
    "**The time complexity** of this brute force approach is O(n), where n is the length of the input array. We iterate through the array once to find the first and last occurrences of the target value. \n",
    "\n",
    "**The space complexity** is O(1) since we only use a constant amount of extra space."
   ]
  },
  {
   "cell_type": "markdown",
   "id": "28de08a9",
   "metadata": {},
   "source": [
    "**Solution Approach 2**\n",
    "\n",
    "**Optimized Approach - Binary Search:**\n",
    "\n",
    "An optimized approach to find the starting and ending position of a target value in the sorted array is to use binary search. We can perform two binary searches separately to find the first and last occurrences of the target value."
   ]
  },
  {
   "cell_type": "code",
   "execution_count": 35,
   "id": "8f0e705a",
   "metadata": {},
   "outputs": [],
   "source": [
    "def searchRange(nums, target):\n",
    "    left = findLeft(nums, target)\n",
    "    right = findRight(nums, target)\n",
    "\n",
    "    return [left, right]\n",
    "\n",
    "\n",
    "def findLeft(nums, target):\n",
    "    left = 0\n",
    "    right = len(nums) - 1\n",
    "    index = -1\n",
    "\n",
    "    while left <= right:\n",
    "        mid = left + (right - left) // 2\n",
    "\n",
    "        if nums[mid] >= target:\n",
    "            right = mid - 1\n",
    "        else:\n",
    "            left = mid + 1\n",
    "\n",
    "        if nums[mid] == target:\n",
    "            index = mid\n",
    "\n",
    "    return index\n",
    "\n",
    "\n",
    "def findRight(nums, target):\n",
    "    left = 0\n",
    "    right = len(nums) - 1\n",
    "    index = -1\n",
    "\n",
    "    while left <= right:\n",
    "        mid = left + (right - left) // 2\n",
    "\n",
    "        if nums[mid] <= target:\n",
    "            left = mid + 1\n",
    "        else:\n",
    "            right = mid - 1\n",
    "\n",
    "        if nums[mid] == target:\n",
    "            index = mid\n",
    "\n",
    "    return index"
   ]
  },
  {
   "cell_type": "markdown",
   "id": "db302db9",
   "metadata": {},
   "source": [
    "**Test Case:**"
   ]
  },
  {
   "cell_type": "code",
   "execution_count": 36,
   "id": "42940603",
   "metadata": {},
   "outputs": [
    {
     "name": "stdout",
     "output_type": "stream",
     "text": [
      "[3, 4]\n"
     ]
    }
   ],
   "source": [
    "# Test Cases\n",
    "# Optimized Approach - Binary Search\n",
    "nums = [5, 7, 7, 8, 8, 10]\n",
    "target = 8\n",
    "print(searchRange(nums, target))  "
   ]
  },
  {
   "cell_type": "code",
   "execution_count": 37,
   "id": "dab9a8f3",
   "metadata": {},
   "outputs": [
    {
     "name": "stdout",
     "output_type": "stream",
     "text": [
      "[-1, -1]\n"
     ]
    }
   ],
   "source": [
    "nums = [5, 7, 7, 8, 8, 10]\n",
    "target = 6\n",
    "print(searchRange(nums, target))"
   ]
  },
  {
   "cell_type": "code",
   "execution_count": 38,
   "id": "1f0e9709",
   "metadata": {},
   "outputs": [
    {
     "name": "stdout",
     "output_type": "stream",
     "text": [
      "[-1, -1]\n"
     ]
    }
   ],
   "source": [
    "nums = []\n",
    "target = 0\n",
    "print(searchRange(nums, target)) "
   ]
  },
  {
   "cell_type": "markdown",
   "id": "2c28c39b",
   "metadata": {},
   "source": [
    "**Discussion :**</br>\n",
    "\n",
    "**The time complexity** of this optimized approach is O(log n), where n is the length of the input array. We perform two binary searches, one to find the leftmost occurrence and another to find the rightmost occurrence of the target value. \n",
    "\n",
    "**The space complexity** is O(1) since we only use a constant amount of extra space."
   ]
  },
  {
   "cell_type": "markdown",
   "id": "1619c97a",
   "metadata": {},
   "source": [
    "# Q8\n",
    "\n",
    "\n",
    "💡 **Question 8**\n",
    "\n",
    "Given two integer arrays `nums1` and `nums2`, return *an array of their intersection*. Each element in the result must appear as many times as it shows in both arrays and you may return the result in **any order**.\n",
    "\n",
    "**Example 1:**\n",
    "\n",
    "```\n",
    "Input: nums1 = [1,2,2,1], nums2 = [2,2]\n",
    "Output: [2,2]\n",
    "\n",
    "```\n",
    "\n",
    "**Example 2:**\n",
    "\n",
    "```\n",
    "Input: nums1 = [4,9,5], nums2 = [9,4,9,8,4]\n",
    "Output: [4,9]\n",
    "Explanation: [9,4] is also accepted.\n",
    "\n",
    "```"
   ]
  },
  {
   "cell_type": "markdown",
   "id": "dd1d91af",
   "metadata": {},
   "source": [
    "# Ans.\n",
    "\n",
    "**Solution Approach 1**\n",
    "\n",
    "**Brute Force Approach:**\n",
    "\n",
    "The brute force approach to find the intersection of two arrays is to iterate through one array and check if each element exists in the other array. If it does, add it to the result array and remove the corresponding element from the second array to handle duplicates."
   ]
  },
  {
   "cell_type": "code",
   "execution_count": 39,
   "id": "1aecd040",
   "metadata": {},
   "outputs": [],
   "source": [
    "# Brute Force Approach\n",
    "def intersect_brute_force(nums1, nums2):\n",
    "    intersection = []\n",
    "\n",
    "    for num in nums1:\n",
    "        if num in nums2:\n",
    "            intersection.append(num)\n",
    "            nums2.remove(num)\n",
    "\n",
    "    return intersection"
   ]
  },
  {
   "cell_type": "markdown",
   "id": "74e3c400",
   "metadata": {},
   "source": [
    "**Test Case:**"
   ]
  },
  {
   "cell_type": "code",
   "execution_count": 40,
   "id": "ea135abd",
   "metadata": {},
   "outputs": [
    {
     "name": "stdout",
     "output_type": "stream",
     "text": [
      "[2, 2]\n"
     ]
    }
   ],
   "source": [
    "# Test Cases\n",
    "# Brute Force Approach\n",
    "nums1 = [1, 2, 2, 1]\n",
    "nums2 = [2, 2]\n",
    "print(intersect_brute_force(nums1, nums2))"
   ]
  },
  {
   "cell_type": "code",
   "execution_count": 41,
   "id": "10f10203",
   "metadata": {},
   "outputs": [
    {
     "name": "stdout",
     "output_type": "stream",
     "text": [
      "[4, 9]\n"
     ]
    }
   ],
   "source": [
    "nums1 = [4, 9, 5]\n",
    "nums2 = [9, 4, 9, 8, 4]\n",
    "print(intersect_brute_force(nums1, nums2)) "
   ]
  },
  {
   "cell_type": "markdown",
   "id": "7a8386be",
   "metadata": {},
   "source": [
    "**Discussion :**</br>\n",
    "\n",
    "**The time complexity** of this brute force approach is O(m * n), where m and n are the lengths of the two input arrays. In the worst case, we iterate through each element of one array and perform a linear search in the other array. \n",
    "\n",
    "**The space complexity** is O(min(m, n)), as the size of the intersection array depends on the smaller input array."
   ]
  },
  {
   "cell_type": "markdown",
   "id": "77685044",
   "metadata": {},
   "source": [
    "**Solution Approach 2**\n",
    "\n",
    "**Optimized Approach - Hash Map:**\n",
    "\n",
    "An optimized approach to find the intersection of two arrays is to use a hash map to count the occurrences of each element in one array. Then, iterate through the second array and check if the element exists in the hash map and has a count greater than zero. If so, add it to the result array and decrement its count in the hash map."
   ]
  },
  {
   "cell_type": "code",
   "execution_count": 42,
   "id": "7caaa680",
   "metadata": {},
   "outputs": [],
   "source": [
    "# Optimized Approach - Hash Map\n",
    "from collections import Counter\n",
    "\n",
    "def intersect(nums1, nums2):\n",
    "    counter1 = Counter(nums1)\n",
    "    intersection = []\n",
    "\n",
    "    for num in nums2:\n",
    "        if num in counter1 and counter1[num] > 0:\n",
    "            intersection.append(num)\n",
    "            counter1[num] -= 1\n",
    "\n",
    "    return intersection"
   ]
  },
  {
   "cell_type": "markdown",
   "id": "912ee7dc",
   "metadata": {},
   "source": [
    "**Test Case:**"
   ]
  },
  {
   "cell_type": "code",
   "execution_count": 43,
   "id": "fa0cc9f0",
   "metadata": {},
   "outputs": [
    {
     "name": "stdout",
     "output_type": "stream",
     "text": [
      "[2, 2]\n"
     ]
    }
   ],
   "source": [
    "# Test Cases\n",
    "# Optimized Approach - Hash Map\n",
    "nums1 = [1, 2, 2, 1]\n",
    "nums2 = [2, 2]\n",
    "print(intersect(nums1, nums2))"
   ]
  },
  {
   "cell_type": "code",
   "execution_count": 44,
   "id": "7cd52aa4",
   "metadata": {},
   "outputs": [
    {
     "name": "stdout",
     "output_type": "stream",
     "text": [
      "[9, 4]\n"
     ]
    }
   ],
   "source": [
    "nums1 = [4, 9, 5]\n",
    "nums2 = [9, 4, 9, 8, 4]\n",
    "print(intersect(nums1, nums2))"
   ]
  },
  {
   "cell_type": "markdown",
   "id": "1ce62cb3",
   "metadata": {},
   "source": [
    "**Discussion :**</br>\n",
    "\n",
    "**The time complexity** of this optimized approach is O(m + n), where m and n are the lengths of the two input arrays. We build a hash map by iterating through one array and then iterate through the second array. \n",
    "\n",
    "**The space complexity** is O(min(m, n)) to store the hash map"
   ]
  }
 ],
 "metadata": {
  "kernelspec": {
   "display_name": "Python 3 (ipykernel)",
   "language": "python",
   "name": "python3"
  },
  "language_info": {
   "codemirror_mode": {
    "name": "ipython",
    "version": 3
   },
   "file_extension": ".py",
   "mimetype": "text/x-python",
   "name": "python",
   "nbconvert_exporter": "python",
   "pygments_lexer": "ipython3",
   "version": "3.9.13"
  }
 },
 "nbformat": 4,
 "nbformat_minor": 5
}
