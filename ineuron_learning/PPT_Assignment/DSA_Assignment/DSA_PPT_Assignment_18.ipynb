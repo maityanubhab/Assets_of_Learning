{
 "cells": [
  {
   "cell_type": "markdown",
   "id": "a84915e7",
   "metadata": {},
   "source": [
    "# Q1\n",
    "\n",
    "\n",
    "💡 **1. Merge Intervals**\n",
    "\n",
    "Given an array of `intervals` where `intervals[i] = [starti, endi]`, merge all overlapping intervals, and return *an array of the non-overlapping intervals that cover all the intervals in the input*.\n",
    "\n",
    "**Example 1:**\n",
    "\n",
    "```\n",
    "Input: intervals = [[1,3],[2,6],[8,10],[15,18]]\n",
    "Output: [[1,6],[8,10],[15,18]]\n",
    "Explanation: Since intervals [1,3] and [2,6] overlap, merge them into [1,6].\n",
    "\n",
    "```\n",
    "\n",
    "**Example 2:**\n",
    "\n",
    "```\n",
    "Input: intervals = [[1,4],[4,5]]\n",
    "Output: [[1,5]]\n",
    "Explanation: Intervals [1,4] and [4,5] are considered overlapping.\n",
    "\n",
    "```\n",
    "\n",
    "**Constraints:**\n",
    "\n",
    "- `1 <= intervals.length <= 10000`\n",
    "- `intervals[i].length == 2`\n",
    "- `0 <= starti <= endi <= 10000`\n"
   ]
  },
  {
   "cell_type": "markdown",
   "id": "63737346",
   "metadata": {},
   "source": [
    "# Ans.\n",
    "\n",
    "**Solution Approach 1**\n",
    "\n",
    "**Brute Force Approach:**\n",
    "\n",
    "The brute force approach involves iterating through each interval and comparing it with every other interval to check for overlaps. Whenever an overlap is found, the intervals are merged into a new interval. This process is repeated until no more overlaps are present. Here's the brute force algorithm:\n",
    "\n",
    "1. Sort the intervals based on their start times.\n",
    "2. Initialize an empty result list to store the merged intervals.\n",
    "3. Iterate through each interval in the sorted list:\n",
    "    - If the result list is empty or the current interval does not overlap with the last interval in the result list, add the current interval to the result list.\n",
    "    - If there is an overlap, merge the current interval with the last interval in the result list by updating the end time of the last interval if needed.\n",
    "4. Return the result list."
   ]
  },
  {
   "cell_type": "code",
   "execution_count": 1,
   "id": "4c218dff",
   "metadata": {},
   "outputs": [],
   "source": [
    "# Brute Force Approach\n",
    "def mergeIntervalsBruteForce(intervals):\n",
    "    if len(intervals) <= 1:\n",
    "        return intervals\n",
    "\n",
    "    intervals.sort(key=lambda x: x[0])  # Sort intervals based on start times\n",
    "    merged = []\n",
    "\n",
    "    for interval in intervals:\n",
    "        if not merged or interval[0] > merged[-1][1]:\n",
    "            # Non-overlapping interval, add it to the result list\n",
    "            merged.append(interval)\n",
    "        else:\n",
    "            # Overlapping intervals, merge by updating the end time of the last interval\n",
    "            merged[-1][1] = max(merged[-1][1], interval[1])\n",
    "\n",
    "    return merged"
   ]
  },
  {
   "cell_type": "markdown",
   "id": "2449bdaf",
   "metadata": {},
   "source": [
    "**Test Case:**"
   ]
  },
  {
   "cell_type": "code",
   "execution_count": 2,
   "id": "ea6d9b45",
   "metadata": {},
   "outputs": [
    {
     "name": "stdout",
     "output_type": "stream",
     "text": [
      "Brute Force Approach:\n",
      "Input: [[1, 3], [2, 6], [8, 10], [15, 18]]\n",
      "Merged Intervals: [[1, 6], [8, 10], [15, 18]]\n"
     ]
    }
   ],
   "source": [
    "# Test cases\n",
    "intervals1 = [[1, 3], [2, 6], [8, 10], [15, 18]]\n",
    "print(\"Brute Force Approach:\")\n",
    "print(\"Input:\", intervals1)\n",
    "print(\"Merged Intervals:\", mergeIntervalsBruteForce(intervals1))"
   ]
  },
  {
   "cell_type": "code",
   "execution_count": 3,
   "id": "7b7c756f",
   "metadata": {},
   "outputs": [
    {
     "name": "stdout",
     "output_type": "stream",
     "text": [
      "Brute Force Approach:\n",
      "Input: [[1, 4], [4, 5]]\n",
      "Merged Intervals: [[1, 5]]\n"
     ]
    }
   ],
   "source": [
    "intervals2 = [[1, 4], [4, 5]]\n",
    "print(\"Brute Force Approach:\")\n",
    "print(\"Input:\", intervals2)\n",
    "print(\"Merged Intervals:\", mergeIntervalsBruteForce(intervals2))"
   ]
  },
  {
   "cell_type": "markdown",
   "id": "9734d7cb",
   "metadata": {},
   "source": [
    "**Discussion :**</br>\n",
    "\n",
    "**The time complexity** of the brute force approach is O(n^2) in the worst case, where n is the number of intervals. The sorting step takes O(n log n) time, and for each interval, we may have to compare it with all previous intervals in the result list, resulting in O(n^2) comparisons in total.\n",
    "\n",
    "**The space complexity** is O(n) since we need to store the merged intervals in a separate list."
   ]
  },
  {
   "cell_type": "markdown",
   "id": "155d27aa",
   "metadata": {},
   "source": [
    "**Solution Approach 2**\n",
    "\n",
    "**Optimized Approach:**\n",
    "\n",
    "The optimized approach utilizes the fact that the intervals are sorted based on their start times. We can iterate through the sorted intervals once and merge them efficiently. Here's the optimized algorithm:\n",
    "\n",
    "1. Sort the intervals based on their start times.\n",
    "2. Initialize an empty result list to store the merged intervals.\n",
    "3. Iterate through each interval in the sorted list:\n",
    "    - If the result list is empty or the current interval does not overlap with the last interval in the result list, add the current interval to the result list.\n",
    "    - If there is an overlap, merge the current interval with the last interval in the result list by updating the end time of the last interval if needed.\n",
    "4. Return the result list."
   ]
  },
  {
   "cell_type": "code",
   "execution_count": 4,
   "id": "0379445e",
   "metadata": {},
   "outputs": [],
   "source": [
    "# Optimized Approach\n",
    "def mergeIntervalsOptimized(intervals):\n",
    "    if len(intervals) <= 1:\n",
    "        return intervals\n",
    "\n",
    "    intervals.sort(key=lambda x: x[0])  # Sort intervals based on start times\n",
    "    merged = [intervals[0]]  # Initialize result list with the first interval\n",
    "\n",
    "    for interval in intervals[1:]:\n",
    "        if interval[0] <= merged[-1][1]:\n",
    "            # Overlapping intervals, merge by updating the end time of the last interval\n",
    "            merged[-1][1] = max(merged[-1][1], interval[1])\n",
    "        else:\n",
    "            # Non-overlapping interval, add it to the result list\n",
    "            merged.append(interval)\n",
    "\n",
    "    return merged"
   ]
  },
  {
   "cell_type": "markdown",
   "id": "74f1c694",
   "metadata": {},
   "source": [
    "**Test Case:**"
   ]
  },
  {
   "cell_type": "code",
   "execution_count": 5,
   "id": "f7ddbd76",
   "metadata": {},
   "outputs": [
    {
     "name": "stdout",
     "output_type": "stream",
     "text": [
      "Optimized Approach:\n",
      "Input: [[1, 3], [2, 6], [8, 10], [15, 18]]\n",
      "Merged Intervals: [[1, 6], [8, 10], [15, 18]]\n"
     ]
    }
   ],
   "source": [
    "\n",
    "# Test cases\n",
    "intervals1 = [[1, 3], [2, 6], [8, 10], [15, 18]]\n",
    "print(\"Optimized Approach:\")\n",
    "print(\"Input:\", intervals1)\n",
    "print(\"Merged Intervals:\", mergeIntervalsOptimized(intervals1))"
   ]
  },
  {
   "cell_type": "code",
   "execution_count": 6,
   "id": "a5406869",
   "metadata": {},
   "outputs": [
    {
     "name": "stdout",
     "output_type": "stream",
     "text": [
      "Optimized Approach:\n",
      "Input: [[1, 4], [4, 5]]\n",
      "Merged Intervals: [[1, 5]]\n"
     ]
    }
   ],
   "source": [
    "intervals2 = [[1, 4], [4, 5]]\n",
    "print(\"Optimized Approach:\")\n",
    "print(\"Input:\", intervals2)\n",
    "print(\"Merged Intervals:\", mergeIntervalsOptimized(intervals2))"
   ]
  },
  {
   "cell_type": "markdown",
   "id": "a7d33c80",
   "metadata": {},
   "source": [
    "**Discussion :**</br>\n",
    "\n",
    "**The time complexity** of the optimized approach is O(n log n) due to the sorting step, where n is the number of intervals. However, the merging process is more efficient since it only requires a single pass through the intervals.\n",
    "\n",
    "**The space complexity** is O(n) since we need to store the merged intervals in a separate list."
   ]
  },
  {
   "cell_type": "markdown",
   "id": "a9dca5b8",
   "metadata": {},
   "source": [
    "# Q2\n",
    "\n",
    "💡 **2. Sort Colors**\n",
    "\n",
    "Given an array `nums` with `n` objects colored red, white, or blue, sort them **[in-place](https://en.wikipedia.org/wiki/In-place_algorithm)** so that objects of the same color are adjacent, with the colors in the order red, white, and blue.\n",
    "\n",
    "We will use the integers `0`, `1`, and `2` to represent the color red, white, and blue, respectively.\n",
    "\n",
    "You must solve this problem without using the library's sort function.\n",
    "\n",
    "**Example 1:**\n",
    "\n",
    "```\n",
    "Input: nums = [2,0,2,1,1,0]\n",
    "Output: [0,0,1,1,2,2]\n",
    "\n",
    "```\n",
    "\n",
    "**Example 2:**\n",
    "\n",
    "```\n",
    "Input: nums = [2,0,1]\n",
    "Output: [0,1,2]\n",
    "\n",
    "```\n",
    "\n",
    "**Constraints:**\n",
    "\n",
    "- `n == nums.length`\n",
    "- `1 <= n <= 300`\n",
    "- `nums[i]` is either `0`, `1`, or `2`.\n",
    "</aside>"
   ]
  },
  {
   "cell_type": "markdown",
   "id": "3779809a",
   "metadata": {},
   "source": [
    "# Ans.\n",
    "\n",
    "**Solution Approach 1**\n",
    "\n",
    "**Brute Force Approach:**\n",
    "\n",
    "The brute force approach involves counting the occurrences of each color (0, 1, and 2) in the given array. Then, we overwrite the original array with the correct number of occurrences for each color in the order of red, white, and blue (0, 1, and 2). Here's the brute force algorithm:\n",
    "\n",
    "1. Count the occurrences of each color (0, 1, and 2) in the given array.\n",
    "2. Overwrite the original array with the correct number of occurrences for each color in the order of red, white, and blue (0, 1, and 2)."
   ]
  },
  {
   "cell_type": "code",
   "execution_count": 7,
   "id": "e11b7fd0",
   "metadata": {},
   "outputs": [],
   "source": [
    "# Brute Force Approach\n",
    "def sortColorsBruteForce(nums):\n",
    "    counts = [0, 0, 0]  # Initialize counts for colors: [0, 1, 2]\n",
    "\n",
    "    for num in nums:\n",
    "        counts[num] += 1\n",
    "\n",
    "    index = 0\n",
    "    for color in range(3):\n",
    "        for _ in range(counts[color]):\n",
    "            nums[index] = color\n",
    "            index += 1\n",
    "\n",
    "    return nums\n"
   ]
  },
  {
   "cell_type": "markdown",
   "id": "2cabe7e2",
   "metadata": {},
   "source": [
    "**Test Case:**"
   ]
  },
  {
   "cell_type": "code",
   "execution_count": 8,
   "id": "85c991ec",
   "metadata": {},
   "outputs": [
    {
     "name": "stdout",
     "output_type": "stream",
     "text": [
      "Brute Force Approach:\n",
      "Input: [2, 0, 2, 1, 1, 0]\n",
      "Sorted Colors: [0, 0, 1, 1, 2, 2]\n"
     ]
    }
   ],
   "source": [
    "# Test cases\n",
    "nums1 = [2, 0, 2, 1, 1, 0]\n",
    "print(\"Brute Force Approach:\")\n",
    "print(\"Input:\", nums1)\n",
    "print(\"Sorted Colors:\", sortColorsBruteForce(nums1))"
   ]
  },
  {
   "cell_type": "code",
   "execution_count": 9,
   "id": "14144cb9",
   "metadata": {},
   "outputs": [
    {
     "name": "stdout",
     "output_type": "stream",
     "text": [
      "Brute Force Approach:\n",
      "Input: [2, 0, 1]\n",
      "Sorted Colors: [0, 1, 2]\n"
     ]
    }
   ],
   "source": [
    "nums2 = [2, 0, 1]\n",
    "print(\"Brute Force Approach:\")\n",
    "print(\"Input:\", nums2)\n",
    "print(\"Sorted Colors:\", sortColorsBruteForce(nums2))"
   ]
  },
  {
   "cell_type": "markdown",
   "id": "a0c601cd",
   "metadata": {},
   "source": [
    "**Discussion :**</br>\n",
    "\n",
    "**The time complexity** of the brute force approach is O(n), where n is the length of the array. Counting the occurrences takes O(n) time, and overwriting the array takes O(n) time as well.\n",
    "\n",
    "**The space complexity** is O(1) since we only need a constant amount of space to store the counts of each color."
   ]
  },
  {
   "cell_type": "markdown",
   "id": "3d32d8c7",
   "metadata": {},
   "source": [
    "**Solution Approach 2**\n",
    "\n",
    "**Optimized Approach:**\n",
    "\n",
    "The optimized approach is based on the Dutch National Flag algorithm, which is a three-way partitioning algorithm. We maintain three pointers, \"low,\" \"mid,\" and \"high,\" to track the boundaries of the sorted colors. Here's the optimized algorithm:\n",
    "\n",
    "1. Initialize three pointers, low = 0, mid = 0, and high = len(nums) - 1.\n",
    "2. Iterate through the array while mid <= high:\n",
    "    - If nums[mid] is 0, swap nums[low] and nums[mid], increment both low and mid.\n",
    "    - If nums[mid] is 1, increment mid.\n",
    "    - If nums[mid] is 2, swap nums[mid] and nums[high], decrement high.\n",
    "3. Repeat step 2 until mid <= high.\n",
    "4. The array will be sorted in-place."
   ]
  },
  {
   "cell_type": "code",
   "execution_count": 10,
   "id": "511e1b6c",
   "metadata": {},
   "outputs": [],
   "source": [
    "# Optimized Approach\n",
    "def sortColorsOptimized(nums):\n",
    "    low = 0\n",
    "    mid = 0\n",
    "    high = len(nums) - 1\n",
    "\n",
    "    while mid <= high:\n",
    "        if nums[mid] == 0:\n",
    "            nums[low], nums[mid] = nums[mid], nums[low]\n",
    "            low += 1\n",
    "            mid += 1\n",
    "        elif nums[mid] == 1:\n",
    "            mid += 1\n",
    "        else:\n",
    "            nums[mid], nums[high] = nums[high], nums[mid]\n",
    "            high -= 1\n",
    "\n",
    "    return nums"
   ]
  },
  {
   "cell_type": "markdown",
   "id": "8cb68c76",
   "metadata": {},
   "source": [
    "**Test Case:**"
   ]
  },
  {
   "cell_type": "code",
   "execution_count": 11,
   "id": "a96fe45a",
   "metadata": {},
   "outputs": [
    {
     "name": "stdout",
     "output_type": "stream",
     "text": [
      "Optimized Approach:\n",
      "Input: [2, 0, 2, 1, 1, 0]\n",
      "Sorted Colors: [0, 0, 1, 1, 2, 2]\n"
     ]
    }
   ],
   "source": [
    "# Test cases\n",
    "nums1 = [2, 0, 2, 1, 1, 0]\n",
    "print(\"Optimized Approach:\")\n",
    "print(\"Input:\", nums1)\n",
    "print(\"Sorted Colors:\", sortColorsOptimized(nums1))"
   ]
  },
  {
   "cell_type": "code",
   "execution_count": 12,
   "id": "65a003e8",
   "metadata": {},
   "outputs": [
    {
     "name": "stdout",
     "output_type": "stream",
     "text": [
      "Optimized Approach:\n",
      "Input: [2, 0, 1]\n",
      "Sorted Colors: [0, 1, 2]\n"
     ]
    }
   ],
   "source": [
    "nums2 = [2, 0, 1]\n",
    "print(\"Optimized Approach:\")\n",
    "print(\"Input:\", nums2)\n",
    "print(\"Sorted Colors:\", sortColorsOptimized(nums2))"
   ]
  },
  {
   "cell_type": "markdown",
   "id": "1482c7bc",
   "metadata": {},
   "source": [
    "**Discussion :**</br>\n",
    "\n",
    "**The time complexity** of the optimized approach is O(n), where n is the length of the array. We perform a single pass through the array, and each element is visited at most twice.\n",
    "\n",
    "**The space complexity** is O(1) since we are sorting the array in-place without using any extra space."
   ]
  },
  {
   "cell_type": "markdown",
   "id": "542a7cd8",
   "metadata": {},
   "source": [
    "# Q3\n",
    "\n",
    "\n",
    "💡 **3. First Bad Version Solution**\n",
    "\n",
    "You are a product manager and currently leading a team to develop a new product. Unfortunately, the latest version of your product fails the quality check. Since each version is developed based on the previous version, all the versions after a bad version are also bad.\n",
    "\n",
    "Suppose you have `n` versions `[1, 2, ..., n]` and you want to find out the first bad one, which causes all the following ones to be bad.\n",
    "\n",
    "You are given an API `bool isBadVersion(version)` which returns whether `version` is bad. Implement a function to find the first bad version. You should minimize the number of calls to the API.\n",
    "\n",
    "**Example 1:**\n",
    "\n",
    "```\n",
    "Input: n = 5, bad = 4\n",
    "Output: 4\n",
    "Explanation:\n",
    "call isBadVersion(3) -> false\n",
    "call isBadVersion(5) -> true\n",
    "call isBadVersion(4) -> true\n",
    "Then 4 is the first bad version.\n",
    "\n",
    "```\n",
    "\n",
    "**Example 2:**\n",
    "\n",
    "```\n",
    "Input: n = 1, bad = 1\n",
    "Output: 1\n",
    "\n",
    "```\n",
    "\n",
    "**Constraints:**\n",
    "\n",
    "- `1 <= bad <= n <= 2^31 - 1`\n"
   ]
  },
  {
   "cell_type": "markdown",
   "id": "b7e6b89f",
   "metadata": {},
   "source": [
    "# Ans.\n",
    "\n",
    "**Solution Approach 1**\n",
    "\n",
    "**Brute Force Approach:**\n",
    "\n",
    "The brute force approach involves iterating through each version starting from the first version until a bad version is found. This approach calls the isBadVersion API for each version until the first bad version is identified. Here's the brute force algorithm:\n",
    "\n",
    "1. Iterate through each version from 1 to n.\n",
    "2. For each version, call the isBadVersion API.\n",
    "3. If a bad version is found, return that version as the first bad version."
   ]
  },
  {
   "cell_type": "code",
   "execution_count": 13,
   "id": "ff7d1b02",
   "metadata": {},
   "outputs": [],
   "source": [
    "# Brute Force Approach\n",
    "def firstBadVersionBruteForce(n):\n",
    "    for i in range(1, n + 1):\n",
    "        if isBadVersion(i):\n",
    "            return i"
   ]
  },
  {
   "cell_type": "markdown",
   "id": "a7e2530b",
   "metadata": {},
   "source": [
    "**Test Case:**"
   ]
  },
  {
   "cell_type": "code",
   "execution_count": 14,
   "id": "20bd4745",
   "metadata": {},
   "outputs": [
    {
     "name": "stdout",
     "output_type": "stream",
     "text": [
      "Brute Force Approach:\n",
      "First Bad Version: 4\n"
     ]
    }
   ],
   "source": [
    "# Test case\n",
    "# Note: Replace isBadVersion implementation with your own or the appropriate API call\n",
    "bad_version = 4\n",
    "def isBadVersion(version):\n",
    "    return version >= bad_version\n",
    "\n",
    "n = 5\n",
    "print(\"Brute Force Approach:\")\n",
    "print(\"First Bad Version:\", firstBadVersionBruteForce(n))"
   ]
  },
  {
   "cell_type": "code",
   "execution_count": 15,
   "id": "ac31d587",
   "metadata": {},
   "outputs": [
    {
     "name": "stdout",
     "output_type": "stream",
     "text": [
      "Brute Force Approach:\n",
      "First Bad Version: 1\n"
     ]
    }
   ],
   "source": [
    "bad_version = 1\n",
    "n = 1\n",
    "print(\"Brute Force Approach:\")\n",
    "print(\"First Bad Version:\", firstBadVersionBruteForce(n))"
   ]
  },
  {
   "cell_type": "markdown",
   "id": "8a49a652",
   "metadata": {},
   "source": [
    "**Discussion :**</br>\n",
    "\n",
    "**The time complexity** of the brute force approach is O(n) since it requires checking each version one by one.\n",
    "\n",
    "**The space complexity** is O(1) since it doesn't require any additional space apart from a few variables."
   ]
  },
  {
   "cell_type": "markdown",
   "id": "9e9fb9a2",
   "metadata": {},
   "source": [
    "**Solution Approach 2**\n",
    "\n",
    "**Optimized Approach:**\n",
    "\n",
    "The optimized approach uses the concept of binary search to minimize the number of calls to the isBadVersion API. It efficiently searches for the first bad version by dividing the search space in half at each step. Here's the optimized algorithm:\n",
    "\n",
    "1. Initialize two pointers, left = 1 and right = n.\n",
    "2. While left < right:\n",
    "    - Calculate the midpoint as mid = left + (right - left) // 2.\n",
    "    - If isBadVersion(mid) returns True, set right = mid since the first bad version can be found before or at mid.\n",
    "    - If isBadVersion(mid) returns False, set left = mid + 1 since the first bad version can only occur after mid.\n",
    "4. Return left as the first bad version."
   ]
  },
  {
   "cell_type": "code",
   "execution_count": 16,
   "id": "9b5f9d79",
   "metadata": {},
   "outputs": [],
   "source": [
    "# Optimized Approach\n",
    "def firstBadVersionOptimized(n):\n",
    "    left = 1\n",
    "    right = n\n",
    "\n",
    "    while left < right:\n",
    "        mid = left + (right - left) // 2\n",
    "\n",
    "        if isBadVersion(mid):\n",
    "            right = mid\n",
    "        else:\n",
    "            left = mid + 1\n",
    "\n",
    "    return left"
   ]
  },
  {
   "cell_type": "markdown",
   "id": "4568632b",
   "metadata": {},
   "source": [
    "**Test Case:**"
   ]
  },
  {
   "cell_type": "code",
   "execution_count": 17,
   "id": "6416654a",
   "metadata": {},
   "outputs": [
    {
     "name": "stdout",
     "output_type": "stream",
     "text": [
      "Optimized Approach:\n",
      "First Bad Version: 4\n"
     ]
    }
   ],
   "source": [
    "# Test case\n",
    "# Note: Replace isBadVersion implementation with your own or the appropriate API call\n",
    "bad_version = 4\n",
    "def isBadVersion(version):\n",
    "    return version >= bad_version\n",
    "\n",
    "n = 5\n",
    "print(\"Optimized Approach:\")\n",
    "print(\"First Bad Version:\", firstBadVersionOptimized(n))"
   ]
  },
  {
   "cell_type": "code",
   "execution_count": 18,
   "id": "495fe3b5",
   "metadata": {},
   "outputs": [
    {
     "name": "stdout",
     "output_type": "stream",
     "text": [
      "Optimized Approach:\n",
      "First Bad Version: 1\n"
     ]
    }
   ],
   "source": [
    "bad_version = 1\n",
    "n = 1\n",
    "print(\"Optimized Approach:\")\n",
    "print(\"First Bad Version:\", firstBadVersionOptimized(n))"
   ]
  },
  {
   "cell_type": "markdown",
   "id": "28726662",
   "metadata": {},
   "source": [
    "**Discussion :**</br>\n",
    "\n",
    "**The time complexity** of the optimized approach is O(log n) since it performs binary search on the range of versions.\n",
    "\n",
    "**The space complexity** is O(1) since it doesn't require any additional space apart from a few variables."
   ]
  },
  {
   "cell_type": "markdown",
   "id": "9d842e72",
   "metadata": {},
   "source": [
    "# Q4\n",
    "\n",
    "💡 **4. Maximum Gap**\n",
    "\n",
    "Given an integer array `nums`, return *the maximum difference between two successive elements in its sorted form*. If the array contains less than two elements, return `0`.\n",
    "\n",
    "You must write an algorithm that runs in linear time and uses linear extra space.\n",
    "\n",
    "**Example 1:**\n",
    "\n",
    "```\n",
    "Input: nums = [3,6,9,1]\n",
    "Output: 3\n",
    "Explanation: The sorted form of the array is [1,3,6,9], either (3,6) or (6,9) has the maximum difference 3.\n",
    "\n",
    "```\n",
    "\n",
    "**Example 2:**\n",
    "\n",
    "```\n",
    "Input: nums = [10]\n",
    "Output: 0\n",
    "Explanation: The array contains less than 2 elements, therefore return 0.\n",
    "\n",
    "```\n",
    "\n",
    "**Constraints:**\n",
    "\n",
    "- `1 <= nums.length <= 10^5`\n",
    "- `0 <= nums[i] <= 10^9`"
   ]
  },
  {
   "cell_type": "markdown",
   "id": "714b154a",
   "metadata": {},
   "source": [
    "# Ans.\n",
    "\n",
    "**Solution Approach 1**\n",
    "\n",
    "**Brute Force Approach:**\n",
    "\n",
    "The brute force approach involves sorting the array and calculating the difference between each pair of successive elements to find the maximum gap. Here's the brute force algorithm:\n",
    "\n",
    "1. Sort the array nums in ascending order.\n",
    "2. Initialize a variable max_gap to 0.\n",
    "3. Iterate through the sorted array from index 1 to n-1.\n",
    "    - Calculate the difference between nums[i] and nums[i-1].\n",
    "    - If the calculated difference is greater than max_gap, update max_gap with the new difference.\n",
    "5. Return max_gap as the maximum difference between two successive elements."
   ]
  },
  {
   "cell_type": "code",
   "execution_count": 19,
   "id": "99667c98",
   "metadata": {},
   "outputs": [],
   "source": [
    "# Brute Force Approach\n",
    "def maximumGapBruteForce(nums):\n",
    "    if len(nums) < 2:\n",
    "        return 0\n",
    "\n",
    "    nums.sort()\n",
    "    max_gap = 0\n",
    "\n",
    "    for i in range(1, len(nums)):\n",
    "        max_gap = max(max_gap, nums[i] - nums[i-1])\n",
    "\n",
    "    return max_gap"
   ]
  },
  {
   "cell_type": "markdown",
   "id": "0dbc9e2d",
   "metadata": {},
   "source": [
    "**Test Case:**"
   ]
  },
  {
   "cell_type": "code",
   "execution_count": 20,
   "id": "c678c42d",
   "metadata": {},
   "outputs": [
    {
     "name": "stdout",
     "output_type": "stream",
     "text": [
      "Brute Force Approach:\n",
      "Maximum Gap: 3\n"
     ]
    }
   ],
   "source": [
    "# Test cases\n",
    "nums1 = [3, 6, 9, 1]\n",
    "print(\"Brute Force Approach:\")\n",
    "print(\"Maximum Gap:\", maximumGapBruteForce(nums1))"
   ]
  },
  {
   "cell_type": "code",
   "execution_count": 21,
   "id": "8fe2b374",
   "metadata": {},
   "outputs": [
    {
     "name": "stdout",
     "output_type": "stream",
     "text": [
      "Brute Force Approach:\n",
      "Maximum Gap: 0\n"
     ]
    }
   ],
   "source": [
    "nums2 = [10]\n",
    "print(\"Brute Force Approach:\")\n",
    "print(\"Maximum Gap:\", maximumGapBruteForce(nums2))"
   ]
  },
  {
   "cell_type": "markdown",
   "id": "99b8641b",
   "metadata": {},
   "source": [
    "**Discussion :**</br>\n",
    "\n",
    "**The time complexity** of the brute force approach is O(n log n), where n is the length of the array. It is due to the time complexity of sorting the array.\n",
    "\n",
    "**The space complexity** is O(n) since we need extra space to store the sorted array."
   ]
  },
  {
   "cell_type": "markdown",
   "id": "d8c286a0",
   "metadata": {},
   "source": [
    "**Solution Approach 2**\n",
    "\n",
    "**Optimized Approach:**\n",
    "\n",
    "The optimized approach, known as the \"Bucket Sort\" algorithm, achieves linear time complexity by utilizing the characteristics of the given constraints. It involves dividing the range of values into several equal-sized buckets and only keeping track of the maximum and minimum values within each bucket. Here's the optimized algorithm:\n",
    "\n",
    "1. Find the minimum and maximum values (min_val and max_val) in the array nums.\n",
    "2. Calculate the bucket size bucket_size as ceil((max_val - min_val) / (n - 1)). Note: (n - 1) is used because the maximum difference will not be smaller than this value.\n",
    "3. Calculate the number of buckets num_buckets as (max_val - min_val) // bucket_size + 1.\n",
    "4. Create num_buckets empty buckets, each consisting of min_val and max_val initialized to -1.\n",
    "5. Iterate through the array nums and assign each element to the corresponding bucket by calculating the index as (nums[i] - min_val) // bucket_size.\n",
    "6. For each non-empty bucket, calculate the maximum difference between the minimum value of the current bucket and the maximum value of the previous non-empty bucket.\n",
    "7. Return the maximum difference found among all non-empty buckets."
   ]
  },
  {
   "cell_type": "code",
   "execution_count": 22,
   "id": "fc874bf3",
   "metadata": {},
   "outputs": [],
   "source": [
    "# Optimized Approach\n",
    "def maximumGapOptimized(nums):\n",
    "    if len(nums) < 2:\n",
    "        return 0\n",
    "\n",
    "    min_val = min(nums)\n",
    "    max_val = max(nums)\n",
    "\n",
    "    if min_val == max_val:\n",
    "        return 0\n",
    "\n",
    "    bucket_size = max(1, (max_val - min_val) // (len(nums) - 1))\n",
    "    num_buckets = (max_val - min_val) // bucket_size + 1\n",
    "\n",
    "    buckets = [[float('inf'), float('-inf')] for _ in range(num_buckets)]\n",
    "\n",
    "    for num in nums:\n",
    "        index = (num - min_val) // bucket_size\n",
    "        buckets[index][0] = min(buckets[index][0], num)\n",
    "        buckets[index][1] = max(buckets[index][1], num)\n",
    "\n",
    "    max_gap = 0\n",
    "    prev_max = min_val\n",
    "\n",
    "    for bucket in buckets:\n",
    "        if bucket[0] != float('inf') and bucket[1] != float('-inf'):\n",
    "            max_gap = max(max_gap, bucket[0] - prev_max)\n",
    "            prev_max = bucket[1]\n",
    "\n",
    "    return max_gap\n"
   ]
  },
  {
   "cell_type": "markdown",
   "id": "44d19ecf",
   "metadata": {},
   "source": [
    "**Test Case:**"
   ]
  },
  {
   "cell_type": "code",
   "execution_count": 23,
   "id": "dcc0dc16",
   "metadata": {},
   "outputs": [
    {
     "name": "stdout",
     "output_type": "stream",
     "text": [
      "Optimized Approach:\n",
      "Maximum Gap: 3\n"
     ]
    }
   ],
   "source": [
    "# Test cases\n",
    "nums1 = [3, 6, 9, 1]\n",
    "print(\"Optimized Approach:\")\n",
    "print(\"Maximum Gap:\", maximumGapOptimized(nums1))"
   ]
  },
  {
   "cell_type": "code",
   "execution_count": 24,
   "id": "315ad90f",
   "metadata": {},
   "outputs": [
    {
     "name": "stdout",
     "output_type": "stream",
     "text": [
      "Optimized Approach:\n",
      "Maximum Gap: 0\n"
     ]
    }
   ],
   "source": [
    "nums2 = [10]\n",
    "print(\"Optimized Approach:\")\n",
    "print(\"Maximum Gap:\", maximumGapOptimized(nums2))"
   ]
  },
  {
   "cell_type": "markdown",
   "id": "b931299d",
   "metadata": {},
   "source": [
    "**Discussion :**</br>\n",
    "\n",
    "**The time complexity** of the optimized approach is O(n), where n is the length of the array. It is achieved by using linear-time bucket sort.\n",
    "\n",
    "**The space complexity** is O(n) since we need extra space to store the buckets."
   ]
  },
  {
   "cell_type": "markdown",
   "id": "9ddb688d",
   "metadata": {},
   "source": [
    "# Q5\n",
    "\n",
    "\n",
    "💡 **5. Contains Duplicate**\n",
    "\n",
    "Given an integer array `nums`, return `true` if any value appears **at least twice** in the array, and return `false` if every element is distinct.\n",
    "\n",
    "**Example 1:**\n",
    "\n",
    "```\n",
    "Input: nums = [1,2,3,1]\n",
    "Output: true\n",
    "\n",
    "```\n",
    "\n",
    "**Example 2:**\n",
    "\n",
    "```\n",
    "Input: nums = [1,2,3,4]\n",
    "Output: false\n",
    "\n",
    "```\n",
    "\n",
    "**Example 3:**\n",
    "\n",
    "```\n",
    "Input: nums = [1,1,1,3,3,4,3,2,4,2]\n",
    "Output: true\n",
    "\n",
    "```\n",
    "\n",
    "**Constraints:**\n",
    "\n",
    "- `1 <= nums.length <= 10^5`\n",
    "- `109 <= nums[i] <= 10^9`\n"
   ]
  },
  {
   "cell_type": "markdown",
   "id": "dfea2708",
   "metadata": {},
   "source": [
    "# Ans.\n",
    "\n",
    "**Solution Approach 1**\n",
    "\n",
    "**Brute Force Approach:**\n",
    "\n",
    "The brute force approach involves comparing each element in the array with all other elements to check for duplicates. Here's the brute force algorithm:\n",
    "\n",
    "1. Iterate through the array nums and for each element num at index i, iterate through the elements from i+1 to the end of the array.\n",
    "2. Compare num with each element in the inner loop.\n",
    "3. If a duplicate element is found, return True.\n",
    "4. If no duplicates are found after iterating through the entire array, return False."
   ]
  },
  {
   "cell_type": "code",
   "execution_count": 25,
   "id": "f07227ff",
   "metadata": {},
   "outputs": [],
   "source": [
    "# Brute Force Approach\n",
    "def containsDuplicateBruteForce(nums):\n",
    "    for i in range(len(nums)):\n",
    "        for j in range(i + 1, len(nums)):\n",
    "            if nums[i] == nums[j]:\n",
    "                return True\n",
    "    return False"
   ]
  },
  {
   "cell_type": "markdown",
   "id": "30b2ac17",
   "metadata": {},
   "source": [
    "**Test Case:**"
   ]
  },
  {
   "cell_type": "code",
   "execution_count": 26,
   "id": "8b1928f1",
   "metadata": {},
   "outputs": [
    {
     "name": "stdout",
     "output_type": "stream",
     "text": [
      "Brute Force Approach:\n",
      "Contains Duplicate: True\n"
     ]
    }
   ],
   "source": [
    "# Test cases\n",
    "nums1 = [1, 2, 3, 1]\n",
    "print(\"Brute Force Approach:\")\n",
    "print(\"Contains Duplicate:\", containsDuplicateBruteForce(nums1))"
   ]
  },
  {
   "cell_type": "code",
   "execution_count": 27,
   "id": "85765140",
   "metadata": {},
   "outputs": [
    {
     "name": "stdout",
     "output_type": "stream",
     "text": [
      "Brute Force Approach:\n",
      "Contains Duplicate: False\n"
     ]
    }
   ],
   "source": [
    "nums2 = [1, 2, 3, 4]\n",
    "print(\"Brute Force Approach:\")\n",
    "print(\"Contains Duplicate:\", containsDuplicateBruteForce(nums2))"
   ]
  },
  {
   "cell_type": "code",
   "execution_count": 28,
   "id": "eca688cc",
   "metadata": {},
   "outputs": [
    {
     "name": "stdout",
     "output_type": "stream",
     "text": [
      "Brute Force Approach:\n",
      "Contains Duplicate: True\n"
     ]
    }
   ],
   "source": [
    "nums3 = [1, 1, 1, 3, 3, 4, 3, 2, 4, 2]\n",
    "print(\"Brute Force Approach:\")\n",
    "print(\"Contains Duplicate:\", containsDuplicateBruteForce(nums3))"
   ]
  },
  {
   "cell_type": "markdown",
   "id": "6f3e0dfc",
   "metadata": {},
   "source": [
    "**Discussion :**</br>\n",
    "\n",
    "**The time complexity** of the brute force approach is O(n^2), where n is the length of the array. It is due to the nested loops.\n",
    "\n",
    "**The space complexity** is O(1) since no additional space is used."
   ]
  },
  {
   "cell_type": "markdown",
   "id": "342f63fb",
   "metadata": {},
   "source": [
    "**Solution Approach 2**\n",
    "\n",
    "**Optimized Approach:**\n",
    "\n",
    "The optimized approach utilizes a set data structure to efficiently check for duplicates. Here's the optimized algorithm:\n",
    "\n",
    "1. Create an empty set called seen.\n",
    "2. Iterate through the array nums.\n",
    "3. For each element num, check if it is already in the seen set.\n",
    "4. If num is in the seen set, return True as a duplicate has been found.\n",
    "5. If num is not in the seen set, add it to the set.\n",
    "6. If no duplicates are found after iterating through the entire array, return False."
   ]
  },
  {
   "cell_type": "code",
   "execution_count": 29,
   "id": "3622b6d6",
   "metadata": {},
   "outputs": [],
   "source": [
    "# Optimized Approach\n",
    "def containsDuplicateOptimized(nums):\n",
    "    seen = set()\n",
    "    for num in nums:\n",
    "        if num in seen:\n",
    "            return True\n",
    "        seen.add(num)\n",
    "    return False"
   ]
  },
  {
   "cell_type": "markdown",
   "id": "84a644b2",
   "metadata": {},
   "source": [
    "**Test Case:**"
   ]
  },
  {
   "cell_type": "code",
   "execution_count": 30,
   "id": "ba42424b",
   "metadata": {},
   "outputs": [
    {
     "name": "stdout",
     "output_type": "stream",
     "text": [
      "Optimized Approach:\n",
      "Contains Duplicate: True\n"
     ]
    }
   ],
   "source": [
    "# Test cases\n",
    "nums1 = [1, 2, 3, 1]\n",
    "print(\"Optimized Approach:\")\n",
    "print(\"Contains Duplicate:\", containsDuplicateOptimized(nums1))"
   ]
  },
  {
   "cell_type": "code",
   "execution_count": 31,
   "id": "7645c3de",
   "metadata": {},
   "outputs": [
    {
     "name": "stdout",
     "output_type": "stream",
     "text": [
      "Optimized Approach:\n",
      "Contains Duplicate: False\n"
     ]
    }
   ],
   "source": [
    "nums2 = [1, 2, 3, 4]\n",
    "print(\"Optimized Approach:\")\n",
    "print(\"Contains Duplicate:\", containsDuplicateOptimized(nums2))"
   ]
  },
  {
   "cell_type": "code",
   "execution_count": 32,
   "id": "e2ce7012",
   "metadata": {},
   "outputs": [
    {
     "name": "stdout",
     "output_type": "stream",
     "text": [
      "Optimized Approach:\n",
      "Contains Duplicate: True\n"
     ]
    }
   ],
   "source": [
    "nums3 = [1, 1, 1, 3, 3, 4, 3, 2, 4, 2]\n",
    "print(\"Optimized Approach:\")\n",
    "print(\"Contains Duplicate:\", containsDuplicateOptimized(nums3))"
   ]
  },
  {
   "cell_type": "markdown",
   "id": "4db4a8e5",
   "metadata": {},
   "source": [
    "**Discussion :**</br>\n",
    "\n",
    "**The time complexity** of the optimized approach is O(n), where n is the length of the array. It is achieved by performing constant-time set operations for each element.\n",
    "\n",
    "**The space complexity** is O(n) in the worst case, where n is the length of the array. This occurs when all elements in the array are distinct, and they are stored in the seen set."
   ]
  },
  {
   "cell_type": "markdown",
   "id": "89ef37a9",
   "metadata": {},
   "source": [
    "# Q6\n",
    "\n",
    "\n",
    "💡 **6. Minimum Number of Arrows to Burst Balloons**\n",
    "\n",
    "There are some spherical balloons taped onto a flat wall that represents the XY-plane. The balloons are represented as a 2D integer array `points` where `points[i] = [xstart, xend]` denotes a balloon whose **horizontal diameter** stretches between `xstart` and `xend`. You do not know the exact y-coordinates of the balloons.\n",
    "\n",
    "Arrows can be shot up **directly vertically** (in the positive y-direction) from different points along the x-axis. A balloon with `xstart` and `xend` is **burst** by an arrow shot at `x` if `xstart <= x <= xend`. There is **no limit** to the number of arrows that can be shot. A shot arrow keeps traveling up infinitely, bursting any balloons in its path.\n",
    "\n",
    "Given the array `points`, return *the **minimum** number of arrows that must be shot to burst all balloons*.\n",
    "\n",
    "**Example 1:**\n",
    "\n",
    "```\n",
    "Input: points = [[10,16],[2,8],[1,6],[7,12]]\n",
    "Output: 2\n",
    "Explanation: The balloons can be burst by 2 arrows:\n",
    "- Shoot an arrow at x = 6, bursting the balloons [2,8] and [1,6].\n",
    "- Shoot an arrow at x = 11, bursting the balloons [10,16] and [7,12].\n",
    "\n",
    "```\n",
    "\n",
    "**Example 2:**\n",
    "\n",
    "```\n",
    "Input: points = [[1,2],[3,4],[5,6],[7,8]]\n",
    "Output: 4\n",
    "Explanation: One arrow needs to be shot for each balloon for a total of 4 arrows.\n",
    "\n",
    "```\n",
    "\n",
    "**Example 3:**\n",
    "\n",
    "```\n",
    "Input: points = [[1,2],[2,3],[3,4],[4,5]]\n",
    "Output: 2\n",
    "Explanation: The balloons can be burst by 2 arrows:\n",
    "- Shoot an arrow at x = 2, bursting the balloons [1,2] and [2,3].\n",
    "- Shoot an arrow at x = 4, bursting the balloons [3,4] and [4,5].\n",
    "\n",
    "```\n",
    "\n",
    "**Constraints:**\n",
    "\n",
    "- `1 <= points.length <= 10^5`\n",
    "- `points[i].length == 2`\n",
    "- `231 <= xstart < xend <= 2^31 - 1`"
   ]
  },
  {
   "cell_type": "markdown",
   "id": "51f64cd3",
   "metadata": {},
   "source": [
    "# Ans.\n",
    "\n",
    "**Solution Approach 1**\n",
    "\n",
    "**Brute Force Approach:**\n",
    "\n",
    "The brute force approach involves iteratively shooting arrows and checking if they burst any balloons. Here's the brute force algorithm:\n",
    "\n",
    "1. Sort the balloons based on their end points in ascending order.\n",
    "2. Initialize a variable arrows to 0.\n",
    "3. Iterate through the balloons:\n",
    "    - For each balloon, if it has not been burst yet:\n",
    "        - Increment arrows by 1.\n",
    "        - Burst all the balloons that overlap with the current balloon.\n",
    "4. Return arrows.\n"
   ]
  },
  {
   "cell_type": "code",
   "execution_count": 33,
   "id": "7148f8f8",
   "metadata": {},
   "outputs": [],
   "source": [
    "# Brute Force Approach\n",
    "def findMinArrowShotsBruteForce(points):\n",
    "    if len(points) == 0:\n",
    "        return 0\n",
    "\n",
    "    points.sort(key=lambda x: x[1])\n",
    "    arrows = 0\n",
    "\n",
    "    for i in range(len(points)):\n",
    "        if points[i] is not None:\n",
    "            arrows += 1\n",
    "            for j in range(i + 1, len(points)):\n",
    "                if points[j] is not None and points[j][0] <= points[i][1]:\n",
    "                    points[j] = None\n",
    "\n",
    "    return arrows\n"
   ]
  },
  {
   "cell_type": "markdown",
   "id": "7130c5f3",
   "metadata": {},
   "source": [
    "**Test Case:**"
   ]
  },
  {
   "cell_type": "code",
   "execution_count": 34,
   "id": "d6506593",
   "metadata": {},
   "outputs": [
    {
     "name": "stdout",
     "output_type": "stream",
     "text": [
      "Brute Force Approach:\n",
      "Minimum Number of Arrows: 2\n"
     ]
    }
   ],
   "source": [
    "# Test cases\n",
    "points1 = [[10, 16], [2, 8], [1, 6], [7, 12]]\n",
    "print(\"Brute Force Approach:\")\n",
    "print(\"Minimum Number of Arrows:\", findMinArrowShotsBruteForce(points1))"
   ]
  },
  {
   "cell_type": "code",
   "execution_count": 35,
   "id": "3bd11485",
   "metadata": {},
   "outputs": [
    {
     "name": "stdout",
     "output_type": "stream",
     "text": [
      "Brute Force Approach:\n",
      "Minimum Number of Arrows: 4\n"
     ]
    }
   ],
   "source": [
    "points2 = [[1, 2], [3, 4], [5, 6], [7, 8]]\n",
    "print(\"Brute Force Approach:\")\n",
    "print(\"Minimum Number of Arrows:\", findMinArrowShotsBruteForce(points2))"
   ]
  },
  {
   "cell_type": "code",
   "execution_count": 36,
   "id": "c652f6ea",
   "metadata": {},
   "outputs": [
    {
     "name": "stdout",
     "output_type": "stream",
     "text": [
      "Brute Force Approach:\n",
      "Minimum Number of Arrows: 2\n"
     ]
    }
   ],
   "source": [
    "points3 = [[1, 2], [2, 3], [3, 4], [4, 5]]\n",
    "print(\"Brute Force Approach:\")\n",
    "print(\"Minimum Number of Arrows:\", findMinArrowShotsBruteForce(points3))"
   ]
  },
  {
   "cell_type": "markdown",
   "id": "2031b2b4",
   "metadata": {},
   "source": [
    "**Discussion :**</br>\n",
    "\n",
    "**The time complexity** of the brute force approach is O(n^2), where n is the number of balloons. It is due to the nested loop for checking overlapping balloons.\n",
    "\n",
    "**The space complexity** is O(1) since no additional space is used."
   ]
  },
  {
   "cell_type": "markdown",
   "id": "3afa26ef",
   "metadata": {},
   "source": [
    "**Solution Approach 2**\n",
    "\n",
    "**Optimized Approach:**\n",
    "\n",
    "The optimized approach utilizes the concept of sorting and tracking the minimum end point. Here's the optimized algorithm:\n",
    "\n",
    "1. Sort the balloons based on their end points in ascending order.\n",
    "2. Initialize a variable arrows to 0 and a variable end to negative infinity.\n",
    "3. Iterate through the balloons:\n",
    "    - For each balloon, if its start point is greater than end:\n",
    "        - Increment arrows by 1.\n",
    "        - Update end to the end point of the current balloon.\n",
    "4. Return arrows."
   ]
  },
  {
   "cell_type": "code",
   "execution_count": 37,
   "id": "d48b0c92",
   "metadata": {},
   "outputs": [],
   "source": [
    "# Optimized Approach\n",
    "def findMinArrowShotsOptimized(points):\n",
    "    if len(points) == 0:\n",
    "        return 0\n",
    "\n",
    "    points.sort(key=lambda x: x[1])\n",
    "    arrows = 1\n",
    "    end = points[0][1]\n",
    "\n",
    "    for i in range(1, len(points)):\n",
    "        if points[i][0] > end:\n",
    "            arrows += 1\n",
    "            end = points[i][1]\n",
    "\n",
    "    return arrows"
   ]
  },
  {
   "cell_type": "markdown",
   "id": "254139b0",
   "metadata": {},
   "source": [
    "**Test Case:**"
   ]
  },
  {
   "cell_type": "code",
   "execution_count": 38,
   "id": "37d21406",
   "metadata": {},
   "outputs": [
    {
     "name": "stdout",
     "output_type": "stream",
     "text": [
      "Optimized Approach:\n",
      "Minimum Number of Arrows: 2\n"
     ]
    }
   ],
   "source": [
    "# Test cases\n",
    "points1 = [[10, 16], [2, 8], [1, 6], [7, 12]]\n",
    "print(\"Optimized Approach:\")\n",
    "print(\"Minimum Number of Arrows:\", findMinArrowShotsOptimized(points1))"
   ]
  },
  {
   "cell_type": "code",
   "execution_count": 39,
   "id": "6699c7f7",
   "metadata": {},
   "outputs": [
    {
     "name": "stdout",
     "output_type": "stream",
     "text": [
      "Optimized Approach:\n",
      "Minimum Number of Arrows: 4\n"
     ]
    }
   ],
   "source": [
    "points2 = [[1, 2], [3, 4], [5, 6], [7, 8]]\n",
    "print(\"Optimized Approach:\")\n",
    "print(\"Minimum Number of Arrows:\", findMinArrowShotsOptimized(points2))"
   ]
  },
  {
   "cell_type": "code",
   "execution_count": 40,
   "id": "dee7396c",
   "metadata": {},
   "outputs": [
    {
     "name": "stdout",
     "output_type": "stream",
     "text": [
      "Optimized Approach:\n",
      "Minimum Number of Arrows: 2\n"
     ]
    }
   ],
   "source": [
    "points3 = [[1, 2], [2, 3], [3, 4], [4, 5]]\n",
    "print(\"Optimized Approach:\")\n",
    "print(\"Minimum Number of Arrows:\", findMinArrowShotsOptimized(points3))"
   ]
  },
  {
   "cell_type": "markdown",
   "id": "c01f20ef",
   "metadata": {},
   "source": [
    "**Discussion :**</br>\n",
    "\n",
    "**The time complexity** of the optimized approach is O(n log n), where n is the number of balloons. It is due to the sorting step.\n",
    "\n",
    "**The space complexity** is O(1) since no additional space is used."
   ]
  },
  {
   "cell_type": "markdown",
   "id": "ccbe579b",
   "metadata": {},
   "source": [
    "# Q7\n",
    "\n",
    "\n",
    "💡 **7. Longest Increasing Subsequence**\n",
    "\n",
    "Given an integer array `nums`, return *the length of the longest **strictly increasing***\n",
    "\n",
    "***subsequence***\n",
    "\n",
    ".\n",
    "\n",
    "**Example 1:**\n",
    "\n",
    "```\n",
    "Input: nums = [10,9,2,5,3,7,101,18]\n",
    "Output: 4\n",
    "Explanation: The longest increasing subsequence is [2,3,7,101], therefore the length is 4.\n",
    "\n",
    "```\n",
    "\n",
    "**Example 2:**\n",
    "\n",
    "```\n",
    "Input: nums = [0,1,0,3,2,3]\n",
    "Output: 4\n",
    "\n",
    "```\n",
    "\n",
    "**Example 3:**\n",
    "\n",
    "```\n",
    "Input: nums = [7,7,7,7,7,7,7]\n",
    "Output: 1\n",
    "\n",
    "```\n",
    "\n",
    "**Constraints:**\n",
    "\n",
    "- `1 <= nums.length <= 2500`\n",
    "- `-10^4 <= nums[i] <= 10^4`\n"
   ]
  },
  {
   "cell_type": "markdown",
   "id": "9c6a4b38",
   "metadata": {},
   "source": [
    "# Ans.\n",
    "\n",
    "**Solution Approach 1**\n",
    "\n",
    "**Brute Force Approach:**\n",
    "\n",
    "The brute force approach involves generating all possible subsequences and checking if they are strictly increasing. Here's the brute force algorithm:\n",
    "\n",
    "1. Initialize a variable max_len to 0.\n",
    "2. Generate all possible subsequences of the input array nums.\n",
    "3. For each subsequence, check if it is strictly increasing.\n",
    "    - If it is strictly increasing, update max_len if its length is greater than the current max_len.\n",
    "4. Return max_len."
   ]
  },
  {
   "cell_type": "code",
   "execution_count": 41,
   "id": "38f9a543",
   "metadata": {},
   "outputs": [],
   "source": [
    "# Brute Force Approach\n",
    "def lengthOfLISBruteForce(nums):\n",
    "    def generateSubsequences(nums, index, subseq):\n",
    "        if index == len(nums):\n",
    "            subsequences.append(subseq)\n",
    "            return\n",
    "        generateSubsequences(nums, index + 1, subseq + [nums[index]])\n",
    "        generateSubsequences(nums, index + 1, subseq)\n",
    "\n",
    "    if len(nums) == 0:\n",
    "        return 0\n",
    "\n",
    "    subsequences = []\n",
    "    generateSubsequences(nums, 0, [])\n",
    "\n",
    "    max_len = 0\n",
    "    for subseq in subsequences:\n",
    "        if all(subseq[i] < subseq[i + 1] for i in range(len(subseq) - 1)):\n",
    "            max_len = max(max_len, len(subseq))\n",
    "\n",
    "    return max_len"
   ]
  },
  {
   "cell_type": "markdown",
   "id": "47c2a579",
   "metadata": {},
   "source": [
    "**Test Case:**"
   ]
  },
  {
   "cell_type": "code",
   "execution_count": 42,
   "id": "178a6708",
   "metadata": {},
   "outputs": [
    {
     "name": "stdout",
     "output_type": "stream",
     "text": [
      "Brute Force Approach:\n",
      "Length of Longest Increasing Subsequence: 4\n"
     ]
    }
   ],
   "source": [
    "# Test cases\n",
    "nums1 = [10, 9, 2, 5, 3, 7, 101, 18]\n",
    "print(\"Brute Force Approach:\")\n",
    "print(\"Length of Longest Increasing Subsequence:\", lengthOfLISBruteForce(nums1))"
   ]
  },
  {
   "cell_type": "code",
   "execution_count": 43,
   "id": "976705a7",
   "metadata": {},
   "outputs": [
    {
     "name": "stdout",
     "output_type": "stream",
     "text": [
      "Brute Force Approach:\n",
      "Length of Longest Increasing Subsequence: 4\n"
     ]
    }
   ],
   "source": [
    "nums2 = [0, 1, 0, 3, 2, 3]\n",
    "print(\"Brute Force Approach:\")\n",
    "print(\"Length of Longest Increasing Subsequence:\", lengthOfLISBruteForce(nums2))"
   ]
  },
  {
   "cell_type": "code",
   "execution_count": 44,
   "id": "bb6a7b84",
   "metadata": {},
   "outputs": [
    {
     "name": "stdout",
     "output_type": "stream",
     "text": [
      "Brute Force Approach:\n",
      "Length of Longest Increasing Subsequence: 1\n"
     ]
    }
   ],
   "source": [
    "nums3 = [7, 7, 7, 7, 7, 7, 7]\n",
    "print(\"Brute Force Approach:\")\n",
    "print(\"Length of Longest Increasing Subsequence:\", lengthOfLISBruteForce(nums3))"
   ]
  },
  {
   "cell_type": "markdown",
   "id": "11232b63",
   "metadata": {},
   "source": [
    "**Discussion :**</br>\n",
    "\n",
    "**The time complexity** of the brute force approach is O(2^n * n), where n is the length of the input array. It is due to the generation of all possible subsequences and the additional check for each subsequence.\n",
    "\n",
    "**The space complexity** is O(n) for storing each subsequence."
   ]
  },
  {
   "cell_type": "markdown",
   "id": "2b769537",
   "metadata": {},
   "source": [
    "**Solution Approach 2**\n",
    "\n",
    "**Dynamic Programming Approach:**\n",
    "\n",
    "The dynamic programming approach utilizes a dynamic programming table to store the lengths of the longest increasing subsequences. Here's the dynamic programming algorithm:\n",
    "\n",
    "1. Initialize a dynamic programming table dp of size n, where n is the length of the input array, filled with 1s.\n",
    "2. Iterate through the input array from left to right:\n",
    "    - For each index i, iterate from 0 to i - 1:\n",
    "        - If nums[i] > nums[j], update dp[i] as max(dp[i], dp[j] + 1).\n",
    "3. Return the maximum value in the dp table."
   ]
  },
  {
   "cell_type": "code",
   "execution_count": 45,
   "id": "ee02c822",
   "metadata": {},
   "outputs": [],
   "source": [
    "# Dynamic Programming Approach\n",
    "def lengthOfLIS(nums):\n",
    "    if len(nums) == 0:\n",
    "        return 0\n",
    "\n",
    "    dp = [1] * len(nums)\n",
    "    max_len = 1\n",
    "\n",
    "    for i in range(1, len(nums)):\n",
    "        for j in range(i):\n",
    "            if nums[i] > nums[j]:\n",
    "                dp[i] = max(dp[i], dp[j] + 1)\n",
    "                max_len = max(max_len, dp[i])\n",
    "\n",
    "    return max_len"
   ]
  },
  {
   "cell_type": "markdown",
   "id": "9fc1ac2f",
   "metadata": {},
   "source": [
    "**Test Case:**"
   ]
  },
  {
   "cell_type": "code",
   "execution_count": 46,
   "id": "dca05712",
   "metadata": {},
   "outputs": [
    {
     "name": "stdout",
     "output_type": "stream",
     "text": [
      "Dynamic Programming Approach:\n",
      "Length of Longest Increasing Subsequence: 4\n"
     ]
    }
   ],
   "source": [
    "# Test cases\n",
    "nums1 = [10, 9, 2, 5, 3, 7, 101, 18]\n",
    "print(\"Dynamic Programming Approach:\")\n",
    "print(\"Length of Longest Increasing Subsequence:\", lengthOfLIS(nums1))"
   ]
  },
  {
   "cell_type": "code",
   "execution_count": 47,
   "id": "6be9e839",
   "metadata": {},
   "outputs": [
    {
     "name": "stdout",
     "output_type": "stream",
     "text": [
      "Dynamic Programming Approach:\n",
      "Length of Longest Increasing Subsequence: 4\n"
     ]
    }
   ],
   "source": [
    "nums2 = [0, 1, 0, 3, 2, 3]\n",
    "print(\"Dynamic Programming Approach:\")\n",
    "print(\"Length of Longest Increasing Subsequence:\", lengthOfLIS(nums2))"
   ]
  },
  {
   "cell_type": "code",
   "execution_count": 48,
   "id": "404d9d8b",
   "metadata": {},
   "outputs": [
    {
     "name": "stdout",
     "output_type": "stream",
     "text": [
      "Dynamic Programming Approach:\n",
      "Length of Longest Increasing Subsequence: 1\n"
     ]
    }
   ],
   "source": [
    "nums3 = [7, 7, 7, 7, 7, 7, 7]\n",
    "print(\"Dynamic Programming Approach:\")\n",
    "print(\"Length of Longest Increasing Subsequence:\", lengthOfLIS(nums3))"
   ]
  },
  {
   "cell_type": "markdown",
   "id": "817f9357",
   "metadata": {},
   "source": [
    "**Discussion :**</br>\n",
    "\n",
    "**The time complexity** of the dynamic programming approach is O(n^2), where n is the length of the input array. It is due to the nested iteration through the input array.\n",
    "\n",
    "**The space complexity** is O(n) since we use a dynamic programming table of size n."
   ]
  },
  {
   "cell_type": "markdown",
   "id": "23f6cba8",
   "metadata": {},
   "source": [
    "# Q8\n",
    "\n",
    "\n",
    "💡 **8. 132 Pattern**\n",
    "\n",
    "Given an array of `n` integers `nums`, a **132 pattern** is a subsequence of three integers `nums[i]`, `nums[j]` and `nums[k]` such that `i < j < k` and `nums[i] < nums[k] < nums[j]`.\n",
    "\n",
    "Return `true` *if there is a **132 pattern** in* `nums`*, otherwise, return* `false`*.*\n",
    "\n",
    "**Example 1:**\n",
    "\n",
    "```\n",
    "Input: nums = [1,2,3,4]\n",
    "Output: false\n",
    "Explanation: There is no 132 pattern in the sequence.\n",
    "\n",
    "```\n",
    "\n",
    "**Example 2:**\n",
    "\n",
    "```\n",
    "Input: nums = [3,1,4,2]\n",
    "Output: true\n",
    "Explanation: There is a 132 pattern in the sequence: [1, 4, 2].\n",
    "\n",
    "```\n",
    "\n",
    "**Example 3:**\n",
    "\n",
    "```\n",
    "Input: nums = [-1,3,2,0]\n",
    "Output: true\n",
    "Explanation: There are three 132 patterns in the sequence: [-1, 3, 2], [-1, 3, 0] and [-1, 2, 0].\n",
    "\n",
    "```\n",
    "\n",
    "**Constraints:**\n",
    "\n",
    "- `n == nums.length`\n",
    "- `1 <= n <= 2 * 10^5`\n",
    "- `-10^9 <= nums[i] <= 10^9`"
   ]
  },
  {
   "cell_type": "markdown",
   "id": "441468b8",
   "metadata": {},
   "source": [
    "# Ans.\n",
    "\n",
    "**Solution Approach 1**\n",
    "\n",
    "**Brute Force Approach:**\n",
    "\n",
    "The brute force approach involves checking all possible combinations of three numbers in the array and verifying if they form a 132 pattern. Here's the brute force algorithm:\n",
    "\n",
    "1. Iterate through each number in the array from left to right, considering it as the potential num_i.\n",
    "2. For each num_i, iterate through the numbers on its right, considering them as potential num_k.\n",
    "3. For each num_k, iterate through the numbers between num_i and num_k, considering them as potential num_j.\n",
    "4. Check if num_j is greater than num_i and less than num_k. If true, return True.\n",
    "5. If no pattern is found, return False."
   ]
  },
  {
   "cell_type": "code",
   "execution_count": 49,
   "id": "5c63fa47",
   "metadata": {},
   "outputs": [],
   "source": [
    "# Brute Force Approach\n",
    "def find132patternBruteForce(nums):\n",
    "    n = len(nums)\n",
    "    for i in range(n - 2):\n",
    "        for j in range(i + 1, n - 1):\n",
    "            for k in range(j + 1, n):\n",
    "                if nums[i] < nums[k] < nums[j]:\n",
    "                    return True\n",
    "    return False\n"
   ]
  },
  {
   "cell_type": "markdown",
   "id": "abeab35e",
   "metadata": {},
   "source": [
    "**Test Case:**"
   ]
  },
  {
   "cell_type": "code",
   "execution_count": 50,
   "id": "e97f0dca",
   "metadata": {},
   "outputs": [
    {
     "name": "stdout",
     "output_type": "stream",
     "text": [
      "Brute Force Approach:\n",
      "Pattern exists: False\n"
     ]
    }
   ],
   "source": [
    "# Test cases\n",
    "nums1 = [1, 2, 3, 4]\n",
    "print(\"Brute Force Approach:\")\n",
    "print(\"Pattern exists:\", find132patternBruteForce(nums1))"
   ]
  },
  {
   "cell_type": "code",
   "execution_count": 51,
   "id": "1556704a",
   "metadata": {},
   "outputs": [
    {
     "name": "stdout",
     "output_type": "stream",
     "text": [
      "Brute Force Approach:\n",
      "Pattern exists: True\n"
     ]
    }
   ],
   "source": [
    "nums2 = [3, 1, 4, 2]\n",
    "print(\"Brute Force Approach:\")\n",
    "print(\"Pattern exists:\", find132patternBruteForce(nums2))"
   ]
  },
  {
   "cell_type": "code",
   "execution_count": 52,
   "id": "322fd29c",
   "metadata": {},
   "outputs": [
    {
     "name": "stdout",
     "output_type": "stream",
     "text": [
      "Brute Force Approach:\n",
      "Pattern exists: True\n"
     ]
    }
   ],
   "source": [
    "nums3 = [-1, 3, 2, 0]\n",
    "print(\"Brute Force Approach:\")\n",
    "print(\"Pattern exists:\", find132patternBruteForce(nums3))"
   ]
  },
  {
   "cell_type": "markdown",
   "id": "4c664d67",
   "metadata": {},
   "source": [
    "**Discussion :**</br>\n",
    "\n",
    "**The time complexity** of the brute force approach is O(n^3), where n is the length of the input array. It is due to the triple nested iteration through the array.\n",
    "\n",
    "**The space complexity** is O(1) as no extra space is used."
   ]
  },
  {
   "cell_type": "markdown",
   "id": "0dd4c9be",
   "metadata": {},
   "source": [
    "**Solution Approach 2**\n",
    "\n",
    "**Optimized Approach:**\n",
    "\n",
    "The optimized approach utilizes a stack to keep track of the potential num_k values while searching for the num_j value. Here's the optimized algorithm:\n",
    "\n",
    "1. Initialize a stack to store the potential num_k values.\n",
    "2. Initialize a variable num_j to a very small value.\n",
    "3. Iterate through each number in the array from right to left, considering it as the potential num_i.\n",
    "4. Check if the current num_i is greater than num_j. If true, return True as it forms a 132 pattern.\n",
    "5. While the stack is not empty and the top element of the stack is less than the current num_i, update num_j as the top element of the stack.\n",
    "6. Push the current num_i into the stack.\n",
    "7. Continue iterating through the array.\n",
    "8. If no pattern is found, return False."
   ]
  },
  {
   "cell_type": "code",
   "execution_count": 53,
   "id": "3d634189",
   "metadata": {},
   "outputs": [],
   "source": [
    "# Optimized Approach\n",
    "def find132pattern(nums):\n",
    "    n = len(nums)\n",
    "    stack = []\n",
    "    num_j = float('-inf')\n",
    "\n",
    "    for i in range(n - 1, -1, -1):\n",
    "        if nums[i] < num_j:\n",
    "            return True\n",
    "        while stack and nums[i] > stack[-1]:\n",
    "            num_j = stack.pop()\n",
    "        stack.append(nums[i])\n",
    "\n",
    "    return False\n"
   ]
  },
  {
   "cell_type": "markdown",
   "id": "a42f08c3",
   "metadata": {},
   "source": [
    "**Test Case:**"
   ]
  },
  {
   "cell_type": "code",
   "execution_count": 54,
   "id": "c0c3b4fe",
   "metadata": {},
   "outputs": [
    {
     "name": "stdout",
     "output_type": "stream",
     "text": [
      "Optimized Approach:\n",
      "Pattern exists: False\n"
     ]
    }
   ],
   "source": [
    "# Test cases\n",
    "nums1 = [1, 2, 3, 4]\n",
    "print(\"Optimized Approach:\")\n",
    "print(\"Pattern exists:\", find132pattern(nums1))"
   ]
  },
  {
   "cell_type": "code",
   "execution_count": 55,
   "id": "37531f68",
   "metadata": {},
   "outputs": [
    {
     "name": "stdout",
     "output_type": "stream",
     "text": [
      "Optimized Approach:\n",
      "Pattern exists: True\n"
     ]
    }
   ],
   "source": [
    "nums2 = [3, 1, 4, 2]\n",
    "print(\"Optimized Approach:\")\n",
    "print(\"Pattern exists:\", find132pattern(nums2))"
   ]
  },
  {
   "cell_type": "code",
   "execution_count": 56,
   "id": "42f35d1c",
   "metadata": {},
   "outputs": [
    {
     "name": "stdout",
     "output_type": "stream",
     "text": [
      "Optimized Approach:\n",
      "Pattern exists: True\n"
     ]
    }
   ],
   "source": [
    "nums3 = [-1, 3, 2, 0]\n",
    "print(\"Optimized Approach:\")\n",
    "print(\"Pattern exists:\", find132pattern(nums3))"
   ]
  },
  {
   "cell_type": "markdown",
   "id": "aea1b54f",
   "metadata": {},
   "source": [
    "**Discussion :**</br>\n",
    "\n",
    "**The time complexity** of the optimized approach is O(n), where n is the length of the input array. It is due to the single iteration through the array.\n",
    "\n",
    "**The space complexity** is O(n) as the stack can potentially store all elements of the input array in the worst case."
   ]
  }
 ],
 "metadata": {
  "kernelspec": {
   "display_name": "Python 3 (ipykernel)",
   "language": "python",
   "name": "python3"
  },
  "language_info": {
   "codemirror_mode": {
    "name": "ipython",
    "version": 3
   },
   "file_extension": ".py",
   "mimetype": "text/x-python",
   "name": "python",
   "nbconvert_exporter": "python",
   "pygments_lexer": "ipython3",
   "version": "3.9.13"
  }
 },
 "nbformat": 4,
 "nbformat_minor": 5
}
