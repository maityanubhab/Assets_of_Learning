{
  "nbformat": 4,
  "nbformat_minor": 0,
  "metadata": {
    "colab": {
      "provenance": []
    },
    "kernelspec": {
      "name": "python3",
      "display_name": "Python 3"
    },
    "language_info": {
      "name": "python"
    }
  },
  "cells": [
    {
      "cell_type": "markdown",
      "source": [
        "💡 **Question 1**\n",
        "Given three integer arrays arr1, arr2 and arr3 **sorted** in **strictly increasing** order, return a sorted array of **only** the integers that appeared in **all** three arrays.\n",
        "\n",
        "**Example 1:**\n",
        "\n",
        "Input: arr1 = [1,2,3,4,5], arr2 = [1,2,5,7,9], arr3 = [1,3,4,5,8]\n",
        "\n",
        "Output: [1,5]\n",
        "\n",
        "**Explanation:** Only 1 and 5 appeared in the three arrays."
      ],
      "metadata": {
        "id": "Mt0ZSbOBqG7w"
      }
    },
    {
      "cell_type": "markdown",
      "source": [
        "\n",
        "**Solution Approach 1**\n",
        "<br> The brute force approach involves checking each integer in the first array and verifying if it exists in the other two arrays. We iterate over each element of arr1 and check if it exists in both arr2 and arr3. If it does, we add it to the result array."
      ],
      "metadata": {
        "id": "DZdDdahDqaZh"
      }
    },
    {
      "cell_type": "code",
      "execution_count": 1,
      "metadata": {
        "id": "A3mva0n2pwWM"
      },
      "outputs": [],
      "source": [
        "# Brute Force Approach:\n",
        "def find_common_elements(arr1, arr2, arr3):\n",
        "    result = []\n",
        "    \n",
        "    for num in arr1:\n",
        "        if num in arr2 and num in arr3:\n",
        "            result.append(num)\n",
        "    \n",
        "    return result"
      ]
    },
    {
      "cell_type": "code",
      "source": [
        "# Test case\n",
        "arr1 = [1, 2, 3, 4, 5]\n",
        "arr2 = [1, 2, 5, 7, 9]\n",
        "arr3 = [1, 3, 4, 5, 8]\n",
        "\n",
        "print(find_common_elements(arr1, arr2, arr3))"
      ],
      "metadata": {
        "colab": {
          "base_uri": "https://localhost:8080/"
        },
        "id": "xezVc4sUrWJy",
        "outputId": "644502e9-e3cc-4b0c-9bc0-97aaa2b94d04"
      },
      "execution_count": 2,
      "outputs": [
        {
          "output_type": "stream",
          "name": "stdout",
          "text": [
            "[1, 5]\n"
          ]
        }
      ]
    },
    {
      "cell_type": "markdown",
      "source": [
        "# Discussion :\n",
        "Time complexity: In the worst case, for each element in arr1, we perform two additional searches in arr2 and arr3 using the in operator. Therefore, the time complexity is O(n^2), where n is the size of the first array.\n",
        "\n",
        "Space complexity: The space complexity is O(1) since we only use a single array (result) to store the common elements."
      ],
      "metadata": {
        "id": "4qavCyK5rdsf"
      }
    },
    {
      "cell_type": "markdown",
      "source": [
        "**Solution Approach 2**\n",
        "<br>The optimized approach takes advantage of the fact that the arrays are sorted and strictly increasing. We can use three pointers, one for each array, and increment the pointers based on the relative values of the elements."
      ],
      "metadata": {
        "id": "K9ll6Uj_rlpH"
      }
    },
    {
      "cell_type": "code",
      "source": [
        "def find_common_elements(arr1, arr2, arr3):\n",
        "    result = []\n",
        "    i, j, k = 0, 0, 0\n",
        "    len1, len2, len3 = len(arr1), len(arr2), len(arr3)\n",
        "    \n",
        "    while i < len1 and j < len2 and k < len3:\n",
        "        if arr1[i] == arr2[j] == arr3[k]:\n",
        "            result.append(arr1[i])\n",
        "            i += 1\n",
        "            j += 1\n",
        "            k += 1\n",
        "        elif arr1[i] < arr2[j]:\n",
        "            i += 1\n",
        "        elif arr2[j] < arr3[k]:\n",
        "            j += 1\n",
        "        else:\n",
        "            k += 1\n",
        "    \n",
        "    return result"
      ],
      "metadata": {
        "id": "qhs9B3pbrtQ5"
      },
      "execution_count": 3,
      "outputs": []
    },
    {
      "cell_type": "code",
      "source": [
        "# Test case\n",
        "arr1 = [1, 2, 3, 4, 5]\n",
        "arr2 = [1, 2, 5, 7, 9]\n",
        "arr3 = [1, 3, 4, 5, 8]\n",
        "\n",
        "print(find_common_elements(arr1, arr2, arr3))"
      ],
      "metadata": {
        "colab": {
          "base_uri": "https://localhost:8080/"
        },
        "id": "2is5lqe6rtao",
        "outputId": "c76c0867-0ee6-497e-c6b6-787be0b53f00"
      },
      "execution_count": 4,
      "outputs": [
        {
          "output_type": "stream",
          "name": "stdout",
          "text": [
            "[1, 5]\n"
          ]
        }
      ]
    },
    {
      "cell_type": "markdown",
      "source": [
        "# Discussion :\n",
        "Time complexity: In the worst case, we iterate through all three arrays once, so the time complexity is O(n), where n is the size of the largest array.\n",
        "\n",
        "Space complexity: The space complexity is O(1) since we only use a single array (result) to store the common elements."
      ],
      "metadata": {
        "id": "xBl5Ybbzr5S3"
      }
    },
    {
      "cell_type": "markdown",
      "source": [
        "💡 **Question 2**\n",
        "\n",
        "Given two **0-indexed** integer arrays nums1 and nums2, return *a list* answer *of size* 2 *where:*\n",
        "\n",
        "- answer[0] *is a list of all **distinct** integers in* nums1 *which are **not** present in* nums2*.*\n",
        "- answer[1] *is a list of all **distinct** integers in* nums2 *which are **not** present in* nums1.\n",
        "\n",
        "**Note** that the integers in the lists may be returned in **any** order.\n",
        "\n",
        "**Example 1:**\n",
        "\n",
        "**Input:** nums1 = [1,2,3], nums2 = [2,4,6]\n",
        "\n",
        "**Output:** [[1,3],[4,6]]\n",
        "\n",
        "**Explanation:**\n",
        "\n",
        "For nums1, nums1[1] = 2 is present at index 0 of nums2, whereas nums1[0] = 1 and nums1[2] = 3 are not present in nums2. Therefore, answer[0] = [1,3].\n",
        "\n",
        "For nums2, nums2[0] = 2 is present at index 1 of nums1, whereas nums2[1] = 4 and nums2[2] = 6 are not present in nums2. Therefore, answer[1] = [4,6]."
      ],
      "metadata": {
        "id": "YkCsKRHOsCMX"
      }
    },
    {
      "cell_type": "markdown",
      "source": [
        "**Solution Approach 1**\n",
        "<br>The brute force approach involves iterating over each integer in one array and checking if it exists in the other array. We create two separate lists to store the distinct integers found in each array but not in the other."
      ],
      "metadata": {
        "id": "UdOzSWIMsKR_"
      }
    },
    {
      "cell_type": "code",
      "source": [
        "def find_disinct_integers(nums1, nums2):\n",
        "    distinct_nums1 = []\n",
        "    distinct_nums2 = []\n",
        "\n",
        "    for num in nums1:\n",
        "        if num not in nums2:\n",
        "            distinct_nums1.append(num)\n",
        "\n",
        "    for num in nums2:\n",
        "        if num not in nums1:\n",
        "            distinct_nums2.append(num)\n",
        "\n",
        "    return [distinct_nums1, distinct_nums2]"
      ],
      "metadata": {
        "id": "RlaT9YYqsoK6"
      },
      "execution_count": 5,
      "outputs": []
    },
    {
      "cell_type": "code",
      "source": [
        "# Test case\n",
        "nums1 = [1, 2, 3]\n",
        "nums2 = [2, 4, 6]\n",
        "\n",
        "print(find_disinct_integers(nums1, nums2))"
      ],
      "metadata": {
        "colab": {
          "base_uri": "https://localhost:8080/"
        },
        "id": "EYBUAQWLsoru",
        "outputId": "332f730a-8c7b-446c-e8f8-b0ec627a2feb"
      },
      "execution_count": 6,
      "outputs": [
        {
          "output_type": "stream",
          "name": "stdout",
          "text": [
            "[[1, 3], [4, 6]]\n"
          ]
        }
      ]
    },
    {
      "cell_type": "markdown",
      "source": [
        "# Discussion :\n",
        "Time complexity: In the worst case, we iterate over each integer in both arrays, performing additional checks for membership using the in operator. Therefore, the time complexity is O(n^2), where n is the size of the larger array.\n",
        "\n",
        "Space complexity: The space complexity is O(n), where n is the size of the larger array. This is because we create two separate lists to store the distinct integers."
      ],
      "metadata": {
        "id": "P7PyYnZRs3dx"
      }
    },
    {
      "cell_type": "markdown",
      "source": [
        "**Solution Approach 2**\n",
        "<br>The optimized approach utilizes set operations to find the distinct integers efficiently. We convert both arrays to sets and perform set differences to find the elements that exist in one set but not in the other. Finally, we convert the sets back to lists."
      ],
      "metadata": {
        "id": "A5MUNfPMs_jR"
      }
    },
    {
      "cell_type": "code",
      "source": [
        "def find_disinct_integers(nums1, nums2):\n",
        "    set_nums1 = set(nums1)\n",
        "    set_nums2 = set(nums2)\n",
        "    \n",
        "    distinct_nums1 = list(set_nums1 - set_nums2)\n",
        "    distinct_nums2 = list(set_nums2 - set_nums1)\n",
        "    \n",
        "    return [distinct_nums1, distinct_nums2]"
      ],
      "metadata": {
        "id": "A6CcMNKAtGpv"
      },
      "execution_count": 7,
      "outputs": []
    },
    {
      "cell_type": "code",
      "source": [
        "# Test case\n",
        "nums1 = [1, 2, 3]\n",
        "nums2 = [2, 4, 6]\n",
        "print(find_disinct_integers(nums1, nums2))"
      ],
      "metadata": {
        "colab": {
          "base_uri": "https://localhost:8080/"
        },
        "id": "ZNh8etQdtHBF",
        "outputId": "9eb17ce6-b8d3-44de-8c37-8a48e2cc8a96"
      },
      "execution_count": 8,
      "outputs": [
        {
          "output_type": "stream",
          "name": "stdout",
          "text": [
            "[[1, 3], [4, 6]]\n"
          ]
        }
      ]
    },
    {
      "cell_type": "markdown",
      "source": [
        "# Discussion :\n",
        "Time complexity: The time complexity of converting an array to a set is O(n), where n is the size of the array. Performing set differences also takes O(n) time. Therefore, the overall time complexity is O(n).\n",
        "\n",
        "Space complexity: The space complexity is O(n), where n is the size of the larger array. This is because we create two separate sets and lists to store the distinct integers."
      ],
      "metadata": {
        "id": "wtrWsB5Btrxg"
      }
    },
    {
      "cell_type": "markdown",
      "source": [
        "💡 **Question 3**\n",
        "Given a 2D integer array matrix, return *the **transpose** of* matrix.\n",
        "\n",
        "The **transpose** of a matrix is the matrix flipped over its main diagonal, switching the matrix's row and column indices.\n",
        "\n",
        "**Example 1:**\n",
        "\n",
        "Input: matrix = [[1,2,3],[4,5,6],[7,8,9]]\n",
        "\n",
        "Output: [[1,4,7],[2,5,8],[3,6,9]]"
      ],
      "metadata": {
        "id": "_qvdTkjJt05v"
      }
    },
    {
      "cell_type": "markdown",
      "source": [
        "**Solution Approach 1**\n",
        "<br>The brute force approach involves creating a new matrix with swapped rows and columns. We iterate over the rows and columns of the original matrix and fill the corresponding elements in the new matrix."
      ],
      "metadata": {
        "id": "DEg8TRzDt7P3"
      }
    },
    {
      "cell_type": "code",
      "source": [
        "# brute force approach\n",
        "def transpose_matrix(matrix):\n",
        "    rows = len(matrix)\n",
        "    cols = len(matrix[0])\n",
        "    \n",
        "    transposed_matrix = [[0] * rows for _ in range(cols)]\n",
        "    \n",
        "    for i in range(rows):\n",
        "        for j in range(cols):\n",
        "            transposed_matrix[j][i] = matrix[i][j]\n",
        "    \n",
        "    return transposed_matrix"
      ],
      "metadata": {
        "id": "Quho2qdhuj3x"
      },
      "execution_count": 9,
      "outputs": []
    },
    {
      "cell_type": "code",
      "source": [
        "# Test case for brute force approach\n",
        "matrix = [[1, 2, 3], [4, 5, 6], [7, 8, 9]]\n",
        "\n",
        "print(transpose_matrix(matrix))"
      ],
      "metadata": {
        "colab": {
          "base_uri": "https://localhost:8080/"
        },
        "id": "yfFT_kCBukBO",
        "outputId": "46bca57c-277e-4e6c-fa3d-088b94b62b4e"
      },
      "execution_count": 10,
      "outputs": [
        {
          "output_type": "stream",
          "name": "stdout",
          "text": [
            "[[1, 4, 7], [2, 5, 8], [3, 6, 9]]\n"
          ]
        }
      ]
    },
    {
      "cell_type": "markdown",
      "source": [
        "# Discussion :\n",
        "Time complexity: The time complexity is O(m * n), where m is the number of rows and n is the number of columns in the matrix.\n",
        "\n",
        "Space complexity: The space complexity is O(m * n) since we create a new matrix of the same size as the original matrix."
      ],
      "metadata": {
        "id": "NzsX50pOuz_W"
      }
    },
    {
      "cell_type": "markdown",
      "source": [
        "**Solution Approach 2**\n",
        "<br>The optimized approach performs an in-place transpose of the matrix by swapping elements in a single pass. We iterate over the upper triangular portion of the matrix and swap the elements with their corresponding positions."
      ],
      "metadata": {
        "id": "vieIKDDZu68P"
      }
    },
    {
      "cell_type": "code",
      "source": [
        "def transpose_matrix(matrix):\n",
        "    n = len(matrix)\n",
        "    \n",
        "    for i in range(n):\n",
        "        for j in range(i + 1, n):\n",
        "            matrix[i][j], matrix[j][i] = matrix[j][i], matrix[i][j]\n",
        "    \n",
        "    return matrix"
      ],
      "metadata": {
        "id": "CUjslJbuvELn"
      },
      "execution_count": 11,
      "outputs": []
    },
    {
      "cell_type": "code",
      "source": [
        "# Test case for optimized approach\n",
        "matrix = [[1, 2, 3], [4, 5, 6], [7, 8, 9]]\n",
        "print(transpose_matrix(matrix))"
      ],
      "metadata": {
        "colab": {
          "base_uri": "https://localhost:8080/"
        },
        "id": "AB4pqhSFvEhe",
        "outputId": "da59ce9f-d51c-4fce-803e-b7361d40d53d"
      },
      "execution_count": 12,
      "outputs": [
        {
          "output_type": "stream",
          "name": "stdout",
          "text": [
            "[[1, 4, 7], [2, 5, 8], [3, 6, 9]]\n"
          ]
        }
      ]
    },
    {
      "cell_type": "markdown",
      "source": [
        "# Discussion :\n",
        "Time complexity: The time complexity is O(m * n), where m is the number of rows and n is the number of columns in the matrix.\n",
        "\n",
        "Space complexity: The space complexity is O(1) since we perform the transpose in-place without using any additional space."
      ],
      "metadata": {
        "id": "pAm1L0JxvNN-"
      }
    },
    {
      "cell_type": "markdown",
      "source": [
        "💡 **Question 4**\n",
        "Given an integer array nums of 2n integers, group these integers into n pairs (a1, b1), (a2, b2), ..., (an, bn) such that the sum of min(ai, bi) for all i is **maximized**. Return *the maximized sum*.\n",
        "\n",
        "**Example 1:**\n",
        "\n",
        "Input: nums = [1,4,3,2]\n",
        "\n",
        "Output: 4\n",
        "\n",
        "**Explanation:** All possible pairings (ignoring the ordering of elements) are:\n",
        "\n",
        "1. (1, 4), (2, 3) -> min(1, 4) + min(2, 3) = 1 + 2 = 3\n",
        "\n",
        "2. (1, 3), (2, 4) -> min(1, 3) + min(2, 4) = 1 + 2 = 3\n",
        "\n",
        "3. (1, 2), (3, 4) -> min(1, 2) + min(3, 4) = 1 + 3 = 4\n",
        "\n",
        "So the maximum possible sum is 4."
      ],
      "metadata": {
        "id": "vGcikxL2vUdm"
      }
    },
    {
      "cell_type": "markdown",
      "source": [
        "**Solution Approach 1**\n",
        "<br>The brute force approach involves finding all possible pairings of elements and calculating the sum of the minimum elements in each pair. We then return the maximum sum."
      ],
      "metadata": {
        "id": "Qi33985lvbCW"
      }
    },
    {
      "cell_type": "code",
      "source": [
        "# brute force approach\n",
        "def array_pair_sum(nums):\n",
        "    nums.sort()\n",
        "    n = len(nums)\n",
        "    max_sum = 0\n",
        "    \n",
        "    for i in range(0, n, 2):\n",
        "        max_sum += min(nums[i], nums[i+1])\n",
        "    \n",
        "    return max_sum"
      ],
      "metadata": {
        "id": "-SVzZq5avvG1"
      },
      "execution_count": 13,
      "outputs": []
    },
    {
      "cell_type": "code",
      "source": [
        "# Test case for brute force approach\n",
        "nums = [1, 4, 3, 2]\n",
        "print(array_pair_sum(nums))"
      ],
      "metadata": {
        "colab": {
          "base_uri": "https://localhost:8080/"
        },
        "id": "GmeVEyOIvvVV",
        "outputId": "3e3b9340-4522-4241-f7a7-280a8b5e39aa"
      },
      "execution_count": 14,
      "outputs": [
        {
          "output_type": "stream",
          "name": "stdout",
          "text": [
            "4\n"
          ]
        }
      ]
    },
    {
      "cell_type": "markdown",
      "source": [
        "# Discussion :\n",
        "Time complexity: The time complexity is O(n log n), where n is the length of the input array. This is due to the sorting operation.\n",
        "\n",
        "Space complexity: The space complexity is O(1) since we are using a constant amount of additional space."
      ],
      "metadata": {
        "id": "KwFWjabDv7fG"
      }
    },
    {
      "cell_type": "markdown",
      "source": [
        "**Solution Approach 2**\n",
        "<br>The optimized approach involves utilizing the property that the maximum sum can be achieved by pairing the elements in sorted order. We sort the array and sum the elements at even indices (0, 2, 4, etc.) since these correspond to the minimum elements in each pair."
      ],
      "metadata": {
        "id": "qt5VDP3fwClG"
      }
    },
    {
      "cell_type": "code",
      "source": [
        "def array_pair_sum(nums):\n",
        "    nums.sort()\n",
        "    max_sum = sum(nums[::2])\n",
        "    \n",
        "    return max_sum"
      ],
      "metadata": {
        "id": "3OsymSOvwKKg"
      },
      "execution_count": 15,
      "outputs": []
    },
    {
      "cell_type": "code",
      "source": [
        "# Test case for optimized approach\n",
        "nums = [1, 4, 3, 2]\n",
        "print(array_pair_sum(nums))"
      ],
      "metadata": {
        "colab": {
          "base_uri": "https://localhost:8080/"
        },
        "id": "yvMTnybYwKVo",
        "outputId": "b1481dc1-c1d6-4a93-cc4d-c0ba352661ff"
      },
      "execution_count": 16,
      "outputs": [
        {
          "output_type": "stream",
          "name": "stdout",
          "text": [
            "4\n"
          ]
        }
      ]
    },
    {
      "cell_type": "markdown",
      "source": [
        "# Discussion :\n",
        "Time complexity: The time complexity is O(n log n), where n is the length of the input array. This is due to the sorting operation.\n",
        "\n",
        "Space complexity: The space complexity is O(1) since we are using a constant amount of additional space."
      ],
      "metadata": {
        "id": "_y346UjzwS_e"
      }
    },
    {
      "cell_type": "markdown",
      "source": [
        "💡 **Question 5**\n",
        "You have n coins and you want to build a staircase with these coins. The staircase consists of k rows where the ith row has exactly i coins. The last row of the staircase **may be** incomplete.\n",
        "\n",
        "Given the integer n, return *the number of **complete rows** of the staircase you will build*.\n",
        "\n",
        "**Example 1:**\n",
        "**Input:** n = 5\n",
        "\n",
        "**Output:** 2\n",
        "\n",
        "**Explanation:** Because the 3rd row is incomplete, we return 2."
      ],
      "metadata": {
        "id": "8WFW-yZawY3Z"
      }
    },
    {
      "cell_type": "markdown",
      "source": [
        "**Solution Approach 1**\n",
        "<br>The brute force approach involves iterating over the rows of the staircase and subtracting the corresponding number of coins from the total until there are not enough coins to form the next row. The number of complete rows is then returned."
      ],
      "metadata": {
        "id": "xzqD4ctVwrP3"
      }
    },
    {
      "cell_type": "code",
      "source": [
        "# Brute Force Approach:\n",
        "def arrange_coins(n):\n",
        "    rows = 0\n",
        "    \n",
        "    while n >= rows + 1:\n",
        "        rows += 1\n",
        "        n -= rows\n",
        "    \n",
        "    return rows"
      ],
      "metadata": {
        "id": "RsHWBo-sxMIw"
      },
      "execution_count": 17,
      "outputs": []
    },
    {
      "cell_type": "code",
      "source": [
        "# Test case for brute force approach\n",
        "n = 5\n",
        "print(arrange_coins(n))"
      ],
      "metadata": {
        "colab": {
          "base_uri": "https://localhost:8080/"
        },
        "id": "fZxVu50GxTXO",
        "outputId": "0d463942-0b93-4650-b44b-8681d261962a"
      },
      "execution_count": 18,
      "outputs": [
        {
          "output_type": "stream",
          "name": "stdout",
          "text": [
            "2\n"
          ]
        }
      ]
    },
    {
      "cell_type": "markdown",
      "source": [
        "# Discussion :\n",
        "Time complexity: The time complexity is O(sqrt(n)), where n is the number of coins. This is because the loop runs until the number of coins required exceeds the remaining coins, which is equivalent to finding the square root of n.\n",
        "\n",
        "Space complexity: The space complexity is O(1) since we are using a constant amount of additional space."
      ],
      "metadata": {
        "id": "y18PyX50xXpe"
      }
    },
    {
      "cell_type": "markdown",
      "source": [
        "**Solution Approach 2**\n",
        "<br>The optimized approach utilizes the concept of triangular numbers to compute the number of complete rows directly without the need for iteration. We can use the quadratic formula to solve the equation (x^2 + x) / 2 = n, where x represents the number of rows."
      ],
      "metadata": {
        "id": "wtHj1ZjSxgpn"
      }
    },
    {
      "cell_type": "code",
      "source": [
        "def arrange_coins(n):\n",
        "    rows = int(((8 * n + 1) ** 0.5 - 1) / 2)\n",
        "    \n",
        "    return rows"
      ],
      "metadata": {
        "id": "-N3rPqFOxmD_"
      },
      "execution_count": 19,
      "outputs": []
    },
    {
      "cell_type": "code",
      "source": [
        "# Test case for optimized approach\n",
        "n = 5\n",
        "print(arrange_coins(n))"
      ],
      "metadata": {
        "colab": {
          "base_uri": "https://localhost:8080/"
        },
        "id": "0EDfbFqGxmMm",
        "outputId": "92f0954c-70ae-43d1-ab88-eae3d03de139"
      },
      "execution_count": 20,
      "outputs": [
        {
          "output_type": "stream",
          "name": "stdout",
          "text": [
            "2\n"
          ]
        }
      ]
    },
    {
      "cell_type": "markdown",
      "source": [
        "# Discussion :\n",
        "Time complexity: The time complexity is O(1) since the computation involves a few arithmetic operations.\n",
        "\n",
        "Space complexity: The space complexity is O(1) since we are using a constant amount of additional space."
      ],
      "metadata": {
        "id": "vLTb4Q_FxuBm"
      }
    },
    {
      "cell_type": "markdown",
      "source": [
        "💡 **Question 6**\n",
        "Given an integer array nums sorted in **non-decreasing** order, return *an array of **the squares of each number** sorted in non-decreasing order*.\n",
        "\n",
        "**Example 1:**\n",
        "\n",
        "Input: nums = [-4,-1,0,3,10]\n",
        "\n",
        "Output: [0,1,9,16,100]\n",
        "\n",
        "**Explanation:** After squaring, the array becomes [16,1,0,9,100].\n",
        "After sorting, it becomes [0,1,9,16,100]"
      ],
      "metadata": {
        "id": "kGco7Nzhx0bh"
      }
    },
    {
      "cell_type": "markdown",
      "source": [
        "**Solution Approach 1**\n",
        "<br>The brute force approach involves squaring each number in the array, sorting the resulting array, and returning it."
      ],
      "metadata": {
        "id": "yDses2lRyHGg"
      }
    },
    {
      "cell_type": "code",
      "source": [
        "def sorted_squares(nums):\n",
        "    squared_nums = [num ** 2 for num in nums]\n",
        "    squared_nums.sort()\n",
        "    \n",
        "    return squared_nums"
      ],
      "metadata": {
        "id": "jPFZI_eIyQgX"
      },
      "execution_count": 21,
      "outputs": []
    },
    {
      "cell_type": "code",
      "source": [
        "# Test case for brute force approach\n",
        "nums = [-4, -1, 0, 3, 10]\n",
        "print(sorted_squares(nums))"
      ],
      "metadata": {
        "colab": {
          "base_uri": "https://localhost:8080/"
        },
        "id": "LB1EEo68xzv-",
        "outputId": "7523dbae-7300-45ac-b3be-afc93fcf3245"
      },
      "execution_count": 22,
      "outputs": [
        {
          "output_type": "stream",
          "name": "stdout",
          "text": [
            "[0, 1, 9, 16, 100]\n"
          ]
        }
      ]
    },
    {
      "cell_type": "markdown",
      "source": [
        "# Discussion :\n",
        "Time complexity: The time complexity is O(n log n), where n is the length of the input array. This is due to the sorting operation.\n",
        "\n",
        "Space complexity: The space complexity is O(n) since we create a new array to store the squared numbers."
      ],
      "metadata": {
        "id": "7u0nlK_rycNO"
      }
    },
    {
      "cell_type": "markdown",
      "source": [
        "**Solution Approach 2**\n",
        "<br>The optimized approach takes advantage of the non-decreasing order of the input array and uses two pointers to square the numbers in a sorted manner. We start with the two pointers at the ends of the array and compare the absolute values of the numbers. We square the larger absolute value, store it at the end of the resulting array, and move the corresponding pointer. We repeat this process until the pointers meet in the middle."
      ],
      "metadata": {
        "id": "_pN_isYZyiLp"
      }
    },
    {
      "cell_type": "code",
      "source": [
        "def sorted_squares(nums):\n",
        "    n = len(nums)\n",
        "    squared_nums = [0] * n\n",
        "    left = 0\n",
        "    right = n - 1\n",
        "    index = n - 1\n",
        "    \n",
        "    while left <= right:\n",
        "        if abs(nums[left]) > abs(nums[right]):\n",
        "            squared_nums[index] = nums[left] ** 2\n",
        "            left += 1\n",
        "        else:\n",
        "            squared_nums[index] = nums[right] ** 2\n",
        "            right -= 1\n",
        "        index -= 1\n",
        "    \n",
        "    return squared_nums"
      ],
      "metadata": {
        "id": "5PfVCq_Yyreu"
      },
      "execution_count": 23,
      "outputs": []
    },
    {
      "cell_type": "code",
      "source": [
        "# Test case for optimized approach\n",
        "nums = [-4, -1, 0, 3, 10]\n",
        "\n",
        "print(sorted_squares(nums))"
      ],
      "metadata": {
        "colab": {
          "base_uri": "https://localhost:8080/"
        },
        "id": "9lXMODFFyrxt",
        "outputId": "71e09fda-0100-40a2-deed-3e74414d4c91"
      },
      "execution_count": 24,
      "outputs": [
        {
          "output_type": "stream",
          "name": "stdout",
          "text": [
            "[0, 1, 9, 16, 100]\n"
          ]
        }
      ]
    },
    {
      "cell_type": "markdown",
      "source": [
        "# Discussion :\n",
        "Time complexity: The time complexity is O(n), where n is the length of the input array. This is because we iterate through the array once using the two pointers.\n",
        "\n",
        "Space complexity: The space complexity is O(n) since we create a new array to store the squared numbers."
      ],
      "metadata": {
        "id": "Foq-DtRHyzRH"
      }
    },
    {
      "cell_type": "markdown",
      "source": [
        "💡 **Question 7**\n",
        "You are given an m x n matrix M initialized with all 0's and an array of operations ops, where ops[i] = [ai, bi] means M[x][y] should be incremented by one for all 0 <= x < ai and 0 <= y < bi.\n",
        "\n",
        "Count and return *the number of maximum integers in the matrix after performing all the operations*\n",
        "\n",
        "**Example 1:**\n",
        "**Input:** m = 3, n = 3, ops = [[2,2],[3,3]]\n",
        "\n",
        "**Output:** 4\n",
        "\n",
        "**Explanation:** The maximum integer in M is 2, and there are four of it in M. So return 4."
      ],
      "metadata": {
        "id": "vUV8IgjBzB0O"
      }
    },
    {
      "cell_type": "markdown",
      "source": [
        "**Solution Approach 1**\n",
        "<br>The brute force approach involves simulating the operations by iterating over each operation and incrementing the corresponding elements in the matrix. After performing all the operations, we count the number of maximum integers in the matrix."
      ],
      "metadata": {
        "id": "1-tQppHQzQHW"
      }
    },
    {
      "cell_type": "code",
      "source": [
        "def max_count(m, n, ops):\n",
        "    matrix = [[0] * n for _ in range(m)]\n",
        "    \n",
        "    for op in ops:\n",
        "        for i in range(op[0]):\n",
        "            for j in range(op[1]):\n",
        "                matrix[i][j] += 1\n",
        "    \n",
        "    max_count = 0\n",
        "    max_val = 0\n",
        "    \n",
        "    for row in matrix:\n",
        "        for val in row:\n",
        "            if val > max_val:\n",
        "                max_val = val\n",
        "                max_count = 1\n",
        "            elif val == max_val:\n",
        "                max_count += 1\n",
        "    \n",
        "    return max_count"
      ],
      "metadata": {
        "id": "wL6ldzMozugA"
      },
      "execution_count": 25,
      "outputs": []
    },
    {
      "cell_type": "code",
      "source": [
        "# Test case for brute force approach\n",
        "m = 3\n",
        "n = 3\n",
        "ops = [[2, 2], [3, 3]]\n",
        "\n",
        "print(max_count(m, n, ops))"
      ],
      "metadata": {
        "colab": {
          "base_uri": "https://localhost:8080/"
        },
        "id": "CZd0pkFvzuqP",
        "outputId": "373f9f17-7544-4de5-8c92-aedeba8ab888"
      },
      "execution_count": 26,
      "outputs": [
        {
          "output_type": "stream",
          "name": "stdout",
          "text": [
            "4\n"
          ]
        }
      ]
    },
    {
      "cell_type": "markdown",
      "source": [
        "# Discussion :\n",
        "Time complexity: The time complexity is O(m * n * k), where m and n are the dimensions of the matrix and k is the number of operations. We iterate over each operation and each element in the matrix to perform the increment operation.\n",
        "\n",
        "Space complexity: The space complexity is O(m * n) since we create a matrix of size m x n to simulate the operations."
      ],
      "metadata": {
        "id": "JdZH9QH6z3_e"
      }
    },
    {
      "cell_type": "markdown",
      "source": [
        "**Solution Approach 2**\n",
        "<br>The optimized approach takes advantage of the fact that the maximum integers will always be located in the top-left portion of the matrix. By finding the minimum dimensions of the rectangle formed by the operations, we can determine the number of maximum integers in the matrix."
      ],
      "metadata": {
        "id": "So-7A-LZ0CdV"
      }
    },
    {
      "cell_type": "code",
      "source": [
        "def max_count(m, n, ops):\n",
        "    min_x = m\n",
        "    min_y = n\n",
        "    \n",
        "    for op in ops:\n",
        "        min_x = min(min_x, op[0])\n",
        "        min_y = min(min_y, op[1])\n",
        "    \n",
        "    return min_x * min_y"
      ],
      "metadata": {
        "id": "uo9BvbKb0HwW"
      },
      "execution_count": 27,
      "outputs": []
    },
    {
      "cell_type": "code",
      "source": [
        "# Test case for optimized approach\n",
        "m = 3\n",
        "n = 3\n",
        "ops = [[2, 2], [3, 3]]\n",
        "\n",
        "print(max_count(m, n, ops))"
      ],
      "metadata": {
        "colab": {
          "base_uri": "https://localhost:8080/"
        },
        "id": "RTSr7yrK0H6H",
        "outputId": "98c08b22-f344-46c9-ed8c-fe22b40ac3a0"
      },
      "execution_count": 28,
      "outputs": [
        {
          "output_type": "stream",
          "name": "stdout",
          "text": [
            "4\n"
          ]
        }
      ]
    },
    {
      "cell_type": "markdown",
      "source": [
        "# Discussion :\n",
        "Time complexity: The time complexity is O(k), where k is the number of operations. We iterate over the operations once to find the minimum dimensions.\n",
        "\n",
        "Space complexity: The space complexity is O(1) since we are using a constant amount of additional space."
      ],
      "metadata": {
        "id": "euEH8CC60T1W"
      }
    },
    {
      "cell_type": "markdown",
      "source": [
        "💡 **Question 8**\n",
        "\n",
        "Given the array nums consisting of 2n elements in the form [x1,x2,...,xn,y1,y2,...,yn].\n",
        "\n",
        "*Return the array in the form* [x1,y1,x2,y2,...,xn,yn].\n",
        "\n",
        "**Example 1:**\n",
        "\n",
        "**Input:** nums = [2,5,1,3,4,7], n = 3\n",
        "\n",
        "**Output:** [2,3,5,4,1,7]\n",
        "\n",
        "**Explanation:** Since x1=2, x2=5, x3=1, y1=3, y2=4, y3=7 then the answer is [2,3,5,4,1,7]."
      ],
      "metadata": {
        "id": "OZWaOGme0dgv"
      }
    },
    {
      "cell_type": "markdown",
      "source": [
        "**Solution Approach 1**\n",
        "<br>The brute force approach involves creating a new array and filling it by alternating between the elements from the x group and the elements from the y group."
      ],
      "metadata": {
        "id": "uC2lix5C0kXF"
      }
    },
    {
      "cell_type": "code",
      "source": [
        "# brute force approach\n",
        "def shuffle_array(nums, n):\n",
        "    result = []\n",
        "    \n",
        "    for i in range(n):\n",
        "        result.append(nums[i])\n",
        "        result.append(nums[i + n])\n",
        "    \n",
        "    return result"
      ],
      "metadata": {
        "id": "1F3jngiE1GVv"
      },
      "execution_count": 29,
      "outputs": []
    },
    {
      "cell_type": "code",
      "source": [
        "# Test case for brute force approach\n",
        "nums = [2, 5, 1, 3, 4, 7]\n",
        "n = 3\n",
        "\n",
        "print(shuffle_array(nums, n))"
      ],
      "metadata": {
        "colab": {
          "base_uri": "https://localhost:8080/"
        },
        "id": "Ih3pHHSP1GY6",
        "outputId": "7ae6efe8-9211-4e86-8ba9-72002cacf2d2"
      },
      "execution_count": 30,
      "outputs": [
        {
          "output_type": "stream",
          "name": "stdout",
          "text": [
            "[2, 3, 5, 4, 1, 7]\n"
          ]
        }
      ]
    },
    {
      "cell_type": "markdown",
      "source": [
        "# Discussion :\n",
        "Time complexity: The time complexity is O(n), where n is the number of elements in the array. We iterate through the elements once to create the shuffled array.\n",
        "\n",
        "Space complexity: The space complexity is O(n) since we create a new array to store the shuffled elements."
      ],
      "metadata": {
        "id": "n4FyoVF-1ScO"
      }
    },
    {
      "cell_type": "markdown",
      "source": [
        "**Solution Approach 2**\n",
        "<br>The optimized approach rearranges the elements in-place by utilizing the property of the given array's structure. We can rearrange the elements by performing a modified in-place swap operation."
      ],
      "metadata": {
        "id": "ucrD3u2-1aI_"
      }
    },
    {
      "cell_type": "code",
      "source": [
        "def shuffle_array(nums, n):\n",
        "    result = [None] * (2 * n)\n",
        "    \n",
        "    for i in range(n):\n",
        "        result[2 * i] = nums[i]\n",
        "        result[2 * i + 1] = nums[i + n]\n",
        "    \n",
        "    return result"
      ],
      "metadata": {
        "id": "s3saAFbo1iQS"
      },
      "execution_count": 35,
      "outputs": []
    },
    {
      "cell_type": "code",
      "source": [
        "# Test case for alternative approach\n",
        "nums = [2, 5, 1, 3, 4, 7]\n",
        "n = 3\n",
        "\n",
        "print(shuffle_array(nums, n))"
      ],
      "metadata": {
        "colab": {
          "base_uri": "https://localhost:8080/"
        },
        "id": "au8O4Zso1ick",
        "outputId": "149dfc38-1de9-49c5-98fe-96f71dea1ecf"
      },
      "execution_count": 36,
      "outputs": [
        {
          "output_type": "stream",
          "name": "stdout",
          "text": [
            "[2, 3, 5, 4, 1, 7]\n"
          ]
        }
      ]
    },
    {
      "cell_type": "markdown",
      "source": [
        "# Discussion :\n",
        "the optimized approach rearranges the elements in-place, resulting in better efficiency and no additional space requirement."
      ],
      "metadata": {
        "id": "ElNhaYGg3rKV"
      }
    }
  ]
}