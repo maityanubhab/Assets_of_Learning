{
  "nbformat": 4,
  "nbformat_minor": 0,
  "metadata": {
    "colab": {
      "provenance": []
    },
    "kernelspec": {
      "name": "python3",
      "display_name": "Python 3"
    },
    "language_info": {
      "name": "python"
    }
  },
  "cells": [
    {
      "cell_type": "markdown",
      "source": [
        "💡 **Question 1**\n",
        "\n",
        "A permutation perm of n + 1 integers of all the integers in the range [0, n] can be represented as a string s of length n where:\n",
        "\n",
        "- s[i] == 'I' if perm[i] < perm[i + 1], and\n",
        "- s[i] == 'D' if perm[i] > perm[i + 1].\n",
        "\n",
        "Given a string s, reconstruct the permutation perm and return it. If there are multiple valid permutations perm, return **any of them**.\n",
        "\n",
        "**Example 1:**\n",
        "\n",
        "**Input:** s = \"IDID\"\n",
        "\n",
        "**Output:**\n",
        "\n",
        "[0,4,1,3,2]"
      ],
      "metadata": {
        "id": "cWmXo2SuuIeD"
      }
    },
    {
      "cell_type": "markdown",
      "source": [
        "**Solution Approach 1**\n",
        "<br>**Brute Force Approach:**\n",
        "\n",
        "The brute force approach involves generating all possible permutations of length n from the given string s. We can use the **permutations** function from the **itertools** module in Python to achieve this. For each generated permutation, we check if it satisfies the given conditions. If we find a valid permutation, we return it. "
      ],
      "metadata": {
        "id": "Qk_0AaOWvRlK"
      }
    },
    {
      "cell_type": "code",
      "execution_count": 17,
      "metadata": {
        "colab": {
          "base_uri": "https://localhost:8080/"
        },
        "id": "mCOi2UB_uBsi",
        "outputId": "459a9fdf-2a0a-430f-c9d9-5560eea17b0c"
      },
      "outputs": [
        {
          "output_type": "stream",
          "name": "stdout",
          "text": [
            "Test Case 1 - Brute Force Approach\n",
            "Input: s = IDID\n",
            "Output: [0, 2, 1, 4, 3]\n",
            "\n"
          ]
        }
      ],
      "source": [
        "from itertools import permutations\n",
        "\n",
        "def brute_force_reconstruct_permutation(s):\n",
        "    n = len(s)\n",
        "    nums = list(range(n + 1))\n",
        "\n",
        "    for perm in permutations(nums):\n",
        "        valid = True\n",
        "        for i in range(n):\n",
        "            if (s[i] == 'I' and perm[i] >= perm[i + 1]) or (s[i] == 'D' and perm[i] <= perm[i + 1]):\n",
        "                valid = False\n",
        "                break\n",
        "\n",
        "        if valid:\n",
        "            return list(perm)\n",
        "\n",
        "    return []"
      ]
    },
    {
      "cell_type": "code",
      "source": [
        "# Test Case \n",
        "s = \"IDID\"\n",
        "print(\"Test Case  - Brute Force Approach\")\n",
        "print(\"Input: s =\", s)\n",
        "print(\"Output:\", brute_force_reconstruct_permutation(s))\n",
        "print()\n"
      ],
      "metadata": {
        "colab": {
          "base_uri": "https://localhost:8080/"
        },
        "id": "1muQYwePwAQx",
        "outputId": "080a836c-8092-4a22-d49b-cab92fe56110"
      },
      "execution_count": 18,
      "outputs": [
        {
          "output_type": "stream",
          "name": "stdout",
          "text": [
            "Test Case  - Brute Force Approach\n",
            "Input: s = IDID\n",
            "Output: [0, 2, 1, 4, 3]\n",
            "\n"
          ]
        }
      ]
    },
    {
      "cell_type": "markdown",
      "source": [
        "# Discussion :\n",
        "**Time Complexity**<br>The brute force approach involves generating all permutations of the numbers and checking each permutation for validity. The time complexity of generating all permutations of n+1 numbers is O((n+1)!). For each permutation, we perform a validity check, which takes O(n) time. Therefore, the overall time complexity of the brute force approach is O((n+1)! * n).\n",
        "\n",
        "**space complexity**<br>In terms of space complexity, the brute force approach does not require any additional space beyond the input string and the resulting permutation. The space complexity is O(n) for the input string and O(n) for the resulting permutation, resulting in a total space complexity of O(n)."
      ],
      "metadata": {
        "id": "TQ27nvkLzXEy"
      }
    },
    {
      "cell_type": "markdown",
      "source": [
        "**Solution Approach 2**<br>\n",
        "**Optimized Approach:**\n",
        "\n",
        "The brute force approach can be inefficient for larger values of n. We can optimize the solution by observing that the first element of the permutation is always 0, and the difference between consecutive elements is determined by the 'I' or 'D' characters in the string s."
      ],
      "metadata": {
        "id": "--FQoRcS0HLw"
      }
    },
    {
      "cell_type": "code",
      "source": [
        "def optimized_reconstruct_permutation(s):\n",
        "    n = len(s)\n",
        "    perm = [0]\n",
        "    inc_count = 0\n",
        "\n",
        "    for i in range(n):\n",
        "        if s[i] == 'I':\n",
        "            inc_count += 1\n",
        "            perm.append(inc_count)\n",
        "        else:\n",
        "            inc_count += 1\n",
        "            perm.append(inc_count)\n",
        "            for j in range(i, inc_count, -1):\n",
        "                perm[j] -= 1\n",
        "\n",
        "    return perm"
      ],
      "metadata": {
        "id": "HTRfiEj0wW0P"
      },
      "execution_count": 26,
      "outputs": []
    },
    {
      "cell_type": "code",
      "source": [
        "# Test Case \n",
        "s = \"IDID\"\n",
        "print(\"Test Case  - Optimized Approach\")\n",
        "print(\"Input: s =\", s)\n",
        "print(\"Output:\", optimized_reconstruct_permutation(s))\n",
        "print()"
      ],
      "metadata": {
        "colab": {
          "base_uri": "https://localhost:8080/"
        },
        "id": "swJ5QXRr0dBA",
        "outputId": "f8c231de-7a1c-47b9-cf0e-c09551526cc5"
      },
      "execution_count": 27,
      "outputs": [
        {
          "output_type": "stream",
          "name": "stdout",
          "text": [
            "Test Case  - Optimized Approach\n",
            "Input: s = IDID\n",
            "Output: [0, 1, 2, 3, 4]\n",
            "\n"
          ]
        }
      ]
    },
    {
      "cell_type": "markdown",
      "source": [
        "# Discussion :\n",
        "**Time Complexity** <br>The time complexity of the optimized approach is O(n), where n is the length of the input string s. This is because we iterate through the input string once to construct the permutation.\n",
        "\n",
        "**Space Complexity**<br>The space complexity of the optimized approach is also O(n), where n is the length of the input string s. This is because we create a list called perm to store the permutation, which requires O(n) space."
      ],
      "metadata": {
        "id": "ABzafKTu1z66"
      }
    },
    {
      "cell_type": "markdown",
      "source": [
        "💡 **Question 2**\n",
        "\n",
        "You are given an m x n integer matrix matrix with the following two properties:\n",
        "\n",
        "- Each row is sorted in non-decreasing order.\n",
        "- The first integer of each row is greater than the last integer of the previous row.\n",
        "\n",
        "Given an integer target, return true *if* target *is in* matrix *or* false *otherwise*.\n",
        "\n",
        "You must write a solution in O(log(m * n)) time complexity.\n",
        "\n",
        "**Example 1:**\n",
        "**Input:** matrix = [[1,3,5,7],[10,11,16,20],[23,30,34,60]], target = 3\n",
        "\n",
        "**Output:** true"
      ],
      "metadata": {
        "id": "mWhONa7s2Ud4"
      }
    },
    {
      "cell_type": "markdown",
      "source": [
        "**Solution Approach 1**\n",
        "<br>**Brute Force Approach:**\n",
        "\n",
        "One way to solve this problem is by using a brute force approach, where we iterate through each element in the matrix and compare it with the target value. If we find a match, we return True, otherwise, we return False."
      ],
      "metadata": {
        "id": "RfLOOv3v2gaI"
      }
    },
    {
      "cell_type": "code",
      "source": [
        "def searchMatrix(matrix, target):\n",
        "    for row in matrix:\n",
        "        for num in row:\n",
        "            if num == target:\n",
        "                return True\n",
        "    return False"
      ],
      "metadata": {
        "id": "pMsEcvhM0gOm"
      },
      "execution_count": 28,
      "outputs": []
    },
    {
      "cell_type": "code",
      "source": [
        "# Test case\n",
        "matrix = [[1,3,5,7],[10,11,16,20],[23,30,34,60]]\n",
        "target = 3\n",
        "print(searchMatrix(matrix, target))"
      ],
      "metadata": {
        "colab": {
          "base_uri": "https://localhost:8080/"
        },
        "id": "dHbwxXMW28QX",
        "outputId": "3f0d1d4d-6f1b-4b68-92e4-329d24c564c7"
      },
      "execution_count": 29,
      "outputs": [
        {
          "output_type": "stream",
          "name": "stdout",
          "text": [
            "True\n"
          ]
        }
      ]
    },
    {
      "cell_type": "markdown",
      "source": [
        "# Discussion :\n",
        "The time complexity of this brute force approach is O(m * n) since we iterate through each element in the matrix.<br> The space complexity is O(1) since we are not using any additional data structures."
      ],
      "metadata": {
        "id": "eZtPvnxC3RER"
      }
    },
    {
      "cell_type": "markdown",
      "source": [
        "**Solution Approach 2**\n",
        "<br>**Optimized Approach:**\n",
        "\n",
        "we can utilize the fact that each row is sorted. We can treat the matrix as a flattened array and perform a binary search on it."
      ],
      "metadata": {
        "id": "0uLZkQR_3c1_"
      }
    },
    {
      "cell_type": "code",
      "source": [
        "def searchMatrix(matrix, target):\n",
        "    if not matrix or not matrix[0]:\n",
        "        return False\n",
        "    \n",
        "    rows = len(matrix)\n",
        "    cols = len(matrix[0])\n",
        "    left = 0\n",
        "    right = rows * cols - 1\n",
        "    \n",
        "    while left <= right:\n",
        "        mid = (left + right) // 2\n",
        "        num = matrix[mid // cols][mid % cols]\n",
        "        \n",
        "        if num == target:\n",
        "            return True\n",
        "        elif num < target:\n",
        "            left = mid + 1\n",
        "        else:\n",
        "            right = mid - 1\n",
        "    \n",
        "    return False"
      ],
      "metadata": {
        "id": "n13PJ-Pb2_qs"
      },
      "execution_count": 30,
      "outputs": []
    },
    {
      "cell_type": "code",
      "source": [
        "# Test case\n",
        "matrix = [[1,3,5,7],[10,11,16,20],[23,30,34,60]]\n",
        "target = 3\n",
        "print(searchMatrix(matrix, target))"
      ],
      "metadata": {
        "colab": {
          "base_uri": "https://localhost:8080/"
        },
        "id": "qC0aoE7S3x5K",
        "outputId": "194fc588-1033-430b-cebe-36d9061971b0"
      },
      "execution_count": 31,
      "outputs": [
        {
          "output_type": "stream",
          "name": "stdout",
          "text": [
            "True\n"
          ]
        }
      ]
    },
    {
      "cell_type": "markdown",
      "source": [
        "# Discussion :\n",
        "The time complexity of this optimized approach is O(log(m * n)) since we perform a binary search on the matrix elements.<br> The space complexity is O(1) since we are not using any additional data structures."
      ],
      "metadata": {
        "id": "a4y38t5C32an"
      }
    },
    {
      "cell_type": "markdown",
      "source": [
        "💡 **Question 3**\n",
        "\n",
        "Given an array of integers arr, return *true if and only if it is a valid mountain array*.\n",
        "\n",
        "Recall that arr is a mountain array if and only if:\n",
        "\n",
        "- arr.length >= 3\n",
        "- There exists some i with 0 < i < arr.length - 1 such that:\n",
        "    - arr[0] < arr[1] < ... < arr[i - 1] < arr[i]\n",
        "    - arr[i] > arr[i + 1] > ... > arr[arr.length - 1]\n",
        "**Example 1:**\n",
        "\n",
        "**Input:** arr = [2,1]\n",
        "\n",
        "**Output:**\n",
        "\n",
        "false"
      ],
      "metadata": {
        "id": "eCcWa_M93_FI"
      }
    },
    {
      "cell_type": "markdown",
      "source": [
        "**Solution Approach 1**\n",
        "<br>**Brute Force Approach:**\n",
        "\n",
        "we iterate through the array and check for the mountain property. We start by finding the peak element and then verify if the elements before and after the peak satisfy the required conditions."
      ],
      "metadata": {
        "id": "KrcF6QQQ4Qvv"
      }
    },
    {
      "cell_type": "code",
      "source": [
        "def validMountainArray(arr):\n",
        "    n = len(arr)\n",
        "    \n",
        "    if n < 3:\n",
        "        return False\n",
        "    \n",
        "    peak = max(arr)\n",
        "    peak_index = arr.index(peak)\n",
        "    \n",
        "    if peak_index == 0 or peak_index == n - 1:\n",
        "        return False\n",
        "    \n",
        "    for i in range(peak_index):\n",
        "        if arr[i] >= arr[i + 1]:\n",
        "            return False\n",
        "    \n",
        "    for i in range(peak_index, n - 1):\n",
        "        if arr[i] <= arr[i + 1]:\n",
        "            return False\n",
        "    \n",
        "    return True"
      ],
      "metadata": {
        "id": "WVyGrvec4pHA"
      },
      "execution_count": 33,
      "outputs": []
    },
    {
      "cell_type": "code",
      "source": [
        "# Test cases\n",
        "arr1 = [2, 1]\n",
        "print(validMountainArray(arr1))\n",
        "print()\n",
        "arr2 = [3, 5, 7, 8, 10, 2, 1]\n",
        "print(validMountainArray(arr2)) "
      ],
      "metadata": {
        "colab": {
          "base_uri": "https://localhost:8080/"
        },
        "id": "O2t-Q6QT4paZ",
        "outputId": "667d4654-d531-437f-9406-0744013c5fb6"
      },
      "execution_count": 34,
      "outputs": [
        {
          "output_type": "stream",
          "name": "stdout",
          "text": [
            "False\n",
            "\n",
            "True\n"
          ]
        }
      ]
    },
    {
      "cell_type": "markdown",
      "source": [
        "# Discussion :\n",
        "The time complexity of this brute force approach is O(n) since we iterate through the array once.<br> The space complexity is O(1) since we are not using any additional data structures."
      ],
      "metadata": {
        "id": "cnUufu1w5LpH"
      }
    },
    {
      "cell_type": "markdown",
      "source": [
        "**Solution Approach 2**\n",
        "<br>**Optimized Approach:**<br>we can use a two-pointer approach. We start with two pointers, one at the beginning of the array and the other at the end. We move these pointers towards each other until they meet, checking the necessary conditions at each step."
      ],
      "metadata": {
        "id": "cii9Nz7D5a-5"
      }
    },
    {
      "cell_type": "code",
      "source": [
        "def validMountainArray2(arr):\n",
        "    n = len(arr)\n",
        "    \n",
        "    if n < 3:\n",
        "        return False\n",
        "    \n",
        "    left = 0\n",
        "    right = n - 1\n",
        "    \n",
        "    while left < right and arr[left] < arr[left + 1]:\n",
        "        left += 1\n",
        "    \n",
        "    while right > 0 and arr[right - 1] > arr[right]:\n",
        "        right -= 1\n",
        "    \n",
        "    return left > 0 and right < n - 1 and left == right"
      ],
      "metadata": {
        "id": "eYvcYOEu41sd"
      },
      "execution_count": 35,
      "outputs": []
    },
    {
      "cell_type": "code",
      "source": [
        "# Test cases\n",
        "arr1 = [2, 1]\n",
        "print(validMountainArray2(arr1))\n",
        "\n",
        "arr2 = [3, 5, 7, 8, 10, 2, 1]\n",
        "print(validMountainArray2(arr2)) "
      ],
      "metadata": {
        "colab": {
          "base_uri": "https://localhost:8080/"
        },
        "id": "ihiIomGk5uyJ",
        "outputId": "ed17a024-8112-474b-99ea-4680ef319837"
      },
      "execution_count": 36,
      "outputs": [
        {
          "output_type": "stream",
          "name": "stdout",
          "text": [
            "False\n",
            "True\n"
          ]
        }
      ]
    },
    {
      "cell_type": "markdown",
      "source": [
        "# Discussion :\n",
        "The time complexity of this optimized approach is O(n) since we iterate through the array once. <br>The space complexity is O(1) since we are not using any additional data structures."
      ],
      "metadata": {
        "id": "HiPWVy4m57PP"
      }
    },
    {
      "cell_type": "markdown",
      "source": [
        "💡 **Question 4**\n",
        "\n",
        "Given a binary array nums, return *the maximum length of a contiguous subarray with an equal number of* 0 *and* 1.\n",
        "\n",
        "**Example 1:**\n",
        "\n",
        "**Input:** nums = [0,1]\n",
        "\n",
        "**Output:** 2\n",
        "\n",
        "**Explanation:**\n",
        "\n",
        "[0, 1] is the longest contiguous subarray with an equal number of 0 and 1."
      ],
      "metadata": {
        "id": "El6SCyJa6D4_"
      }
    },
    {
      "cell_type": "markdown",
      "source": [
        "**Solution Approach 1**\n",
        "<br>**Brute Force Approach:**<br>we consider all possible subarrays and count the number of 0s and 1s in each subarray. We keep track of the maximum length of a subarray with an equal number of 0s and 1s."
      ],
      "metadata": {
        "id": "y06NGvhp6M3P"
      }
    },
    {
      "cell_type": "code",
      "source": [
        "def findMaxLength_bt(nums):\n",
        "    max_length = 0\n",
        "    \n",
        "    for i in range(len(nums)):\n",
        "        count_0 = 0\n",
        "        count_1 = 0\n",
        "        \n",
        "        for j in range(i, len(nums)):\n",
        "            if nums[j] == 0:\n",
        "                count_0 += 1\n",
        "            else:\n",
        "                count_1 += 1\n",
        "            \n",
        "            if count_0 == count_1:\n",
        "                max_length = max(max_length, j - i + 1)\n",
        "    \n",
        "    return max_length"
      ],
      "metadata": {
        "id": "lsfOWn0C55s8"
      },
      "execution_count": 37,
      "outputs": []
    },
    {
      "cell_type": "code",
      "source": [
        "# Test case\n",
        "nums = [0, 1]\n",
        "print(findMaxLength_bt(nums))"
      ],
      "metadata": {
        "colab": {
          "base_uri": "https://localhost:8080/"
        },
        "id": "GeeaAIJO63_b",
        "outputId": "56c75aca-c804-4397-9830-4948331a5f07"
      },
      "execution_count": 38,
      "outputs": [
        {
          "output_type": "stream",
          "name": "stdout",
          "text": [
            "2\n"
          ]
        }
      ]
    },
    {
      "cell_type": "markdown",
      "source": [
        "# Discussion :\n",
        "The time complexity of this brute force approach is O(n^2) since we have nested loops that iterate through the array. <br>The space complexity is O(1) since we are not using any additional data structures."
      ],
      "metadata": {
        "id": "CEN3mgem7Q4P"
      }
    },
    {
      "cell_type": "markdown",
      "source": [
        "**Solution Approach 2**\n",
        "<br>**Optimized Approach:**<br>we can use a hashmap to store the running count of the difference between the number of 0s and 1s at each index. If we encounter the same difference again, it means that the subarray between the current index and the index stored in the hashmap has an equal number of 0s and 1s. We keep track of the maximum length of such subarrays. "
      ],
      "metadata": {
        "id": "xZch6niq7acX"
      }
    },
    {
      "cell_type": "code",
      "source": [
        "def findMaxLength(nums):\n",
        "    count_map = {0: -1}\n",
        "    max_length = 0\n",
        "    count = 0\n",
        "    \n",
        "    for i in range(len(nums)):\n",
        "        if nums[i] == 0:\n",
        "            count -= 1\n",
        "        else:\n",
        "            count += 1\n",
        "        \n",
        "        if count in count_map:\n",
        "            max_length = max(max_length, i - count_map[count])\n",
        "        else:\n",
        "            count_map[count] = i\n",
        "    \n",
        "    return max_length"
      ],
      "metadata": {
        "id": "tB-DliNs6-8E"
      },
      "execution_count": 39,
      "outputs": []
    },
    {
      "cell_type": "code",
      "source": [
        "# Test case\n",
        "nums = [0, 1]\n",
        "print(findMaxLength(nums))"
      ],
      "metadata": {
        "colab": {
          "base_uri": "https://localhost:8080/"
        },
        "id": "zRDDX0QY7zkq",
        "outputId": "214fe260-9cc4-45f9-820c-26348a851690"
      },
      "execution_count": 40,
      "outputs": [
        {
          "output_type": "stream",
          "name": "stdout",
          "text": [
            "2\n"
          ]
        }
      ]
    },
    {
      "cell_type": "markdown",
      "source": [
        "# Discussion :\n",
        "The time complexity of this optimized approach is O(n) since we iterate through the array only once. <br>The space complexity is O(n) in the worst case, where all elements have a difference count in the count_map."
      ],
      "metadata": {
        "id": "dP0bRiiN75P4"
      }
    },
    {
      "cell_type": "markdown",
      "source": [
        "💡 **Question 5**\n",
        "\n",
        "The **product sum** of two equal-length arrays a and b is equal to the sum of a[i] * b[i] for all 0 <= i < a.length (**0-indexed**).\n",
        "\n",
        "- For example, if a = [1,2,3,4] and b = [5,2,3,1], the **product sum** would be 1*5 + 2*2 + 3*3 + 4*1 = 22.\n",
        "\n",
        "Given two arrays nums1 and nums2 of length n, return *the **minimum product sum** if you are allowed to **rearrange** the **order** of the elements in* nums1.\n",
        "\n",
        "**Example 1:**\n",
        "\n",
        "**Input:** nums1 = [5,3,4,2], nums2 = [4,2,2,5]\n",
        "\n",
        "**Output:** 40\n",
        "\n",
        "**Explanation:**\n",
        "\n",
        "We can rearrange nums1 to become [3,5,4,2]. The product sum of [3,5,4,2] and [4,2,2,5] is 3*4 + 5*2 + 4*2 + 2*5 = 40."
      ],
      "metadata": {
        "id": "DMS_G08D8EgP"
      }
    },
    {
      "cell_type": "markdown",
      "source": [
        "**Solution Approach 1**\n",
        "<br>**Brute Force Approach:**\n",
        "<br>we generate all possible permutations of the nums1 array and calculate the product sum for each permutation. We keep track of the minimum product sum encountered. "
      ],
      "metadata": {
        "id": "o8WW3uJh8OGH"
      }
    },
    {
      "cell_type": "code",
      "source": [
        "import itertools\n",
        "\n",
        "def minProductSum_bt(nums1, nums2):\n",
        "    min_product_sum = float('inf')\n",
        "    \n",
        "    for perm in itertools.permutations(nums1):\n",
        "        product_sum = sum(perm[i] * nums2[i] for i in range(len(nums1)))\n",
        "        min_product_sum = min(min_product_sum, product_sum)\n",
        "    \n",
        "    return min_product_sum"
      ],
      "metadata": {
        "id": "oIGoPfX173e0"
      },
      "execution_count": 41,
      "outputs": []
    },
    {
      "cell_type": "code",
      "source": [
        "# Test case\n",
        "nums1 = [5, 3, 4, 2]\n",
        "nums2 = [4, 2, 2, 5]\n",
        "print(minProductSum_bt(nums1, nums2))"
      ],
      "metadata": {
        "colab": {
          "base_uri": "https://localhost:8080/"
        },
        "id": "gXqJKO-U8r7W",
        "outputId": "d1822179-23e7-4d6b-9fd5-482da55305db"
      },
      "execution_count": 42,
      "outputs": [
        {
          "output_type": "stream",
          "name": "stdout",
          "text": [
            "40\n"
          ]
        }
      ]
    },
    {
      "cell_type": "markdown",
      "source": [
        "# Discussion :\n",
        "The time complexity of this brute force approach is O(n!), where n is the length of nums1. This is because we generate all possible permutations.\n",
        "<br>The space complexity is O(n) to store the current permutation."
      ],
      "metadata": {
        "id": "hQdyDqKD9E6p"
      }
    },
    {
      "cell_type": "markdown",
      "source": [
        "**Solution Approach 2**\n",
        "<br>**Optimized Approach:**\n",
        " <br>we can sort both arrays and multiply the smallest element of nums1 with the largest element of nums2, the second smallest element of nums1 with the second largest element of nums2, and so on. This way, we optimize the product sum by pairing the smallest elements with the largest elements."
      ],
      "metadata": {
        "id": "r7vmvFp79TYY"
      }
    },
    {
      "cell_type": "code",
      "source": [
        "def minProductSum(nums1, nums2):\n",
        "    nums1.sort()\n",
        "    nums2.sort(reverse=True)\n",
        "    \n",
        "    min_product_sum = sum(nums1[i] * nums2[i] for i in range(len(nums1)))\n",
        "    \n",
        "    return min_product_sum"
      ],
      "metadata": {
        "id": "mjA5alwK808D"
      },
      "execution_count": 43,
      "outputs": []
    },
    {
      "cell_type": "code",
      "source": [
        "# Test case\n",
        "nums1 = [5, 3, 4, 2]\n",
        "nums2 = [4, 2, 2, 5]\n",
        "print(minProductSum(nums1, nums2))"
      ],
      "metadata": {
        "colab": {
          "base_uri": "https://localhost:8080/"
        },
        "id": "O6Knv-es9mS3",
        "outputId": "f3a1fd45-a403-4fb4-bc1f-e4aa2c6d6093"
      },
      "execution_count": 44,
      "outputs": [
        {
          "output_type": "stream",
          "name": "stdout",
          "text": [
            "40\n"
          ]
        }
      ]
    },
    {
      "cell_type": "markdown",
      "source": [
        "# Discussion :\n",
        "The time complexity of this optimized approach is O(n log n), where n is the length of nums1. This is because we need to sort both arrays.<br> The space complexity is O(1) since we are not using any additional data structures."
      ],
      "metadata": {
        "id": "ghAn1POf9p8J"
      }
    },
    {
      "cell_type": "markdown",
      "source": [
        "💡 **Question 6**\n",
        "\n",
        "An integer array original is transformed into a **doubled** array changed by appending **twice the value** of every element in original, and then randomly **shuffling** the resulting array.\n",
        "\n",
        "Given an array changed, return original *if* changed *is a **doubled** array. If* changed *is not a **doubled** array, return an empty array. The elements in* original *may be returned in **any** order*.\n",
        "\n",
        "**Example 1:**\n",
        "\n",
        "**Input:** changed = [1,3,4,2,6,8]\n",
        "\n",
        "**Output:** [1,3,4]\n",
        "\n",
        "**Explanation:** One possible original array could be [1,3,4]:\n",
        "\n",
        "- Twice the value of 1 is 1 * 2 = 2.\n",
        "- Twice the value of 3 is 3 * 2 = 6.\n",
        "- Twice the value of 4 is 4 * 2 = 8.\n",
        "\n",
        "Other original arrays could be [4,3,1] or [3,1,4]."
      ],
      "metadata": {
        "id": "yqtgxmLe9ylb"
      }
    },
    {
      "cell_type": "markdown",
      "source": [
        "**Solution Approach 1 :**\n",
        "**brute force approach**"
      ],
      "metadata": {
        "id": "frycAygt962n"
      }
    },
    {
      "cell_type": "code",
      "source": [
        "def find_original_brute_force(changed):\n",
        "  original = []\n",
        "  for i in range(len(changed)):\n",
        "    for j in range(len(changed) // 2):\n",
        "      if changed[i] == changed[j] * 2:\n",
        "        original.append(changed[i])\n",
        "        break\n",
        "    else:\n",
        "      return []\n",
        "\n",
        "  return original"
      ],
      "metadata": {
        "id": "hPo4ErWfAJ3A"
      },
      "execution_count": 58,
      "outputs": []
    },
    {
      "cell_type": "code",
      "source": [
        "# Test case\n",
        "changed = [1, 3, 4, 2, 6, 8]\n",
        "print(find_original_brute_force(changed))"
      ],
      "metadata": {
        "colab": {
          "base_uri": "https://localhost:8080/"
        },
        "id": "qnB7ZjcRAKAd",
        "outputId": "956ac228-fc1f-4339-a39e-b5ef06afc6a3"
      },
      "execution_count": 59,
      "outputs": [
        {
          "output_type": "stream",
          "name": "stdout",
          "text": [
            "[]\n"
          ]
        }
      ]
    },
    {
      "cell_type": "code",
      "source": [],
      "metadata": {
        "id": "Mu6UgMsqAKJ1"
      },
      "execution_count": null,
      "outputs": []
    },
    {
      "cell_type": "markdown",
      "source": [
        "**Solution Approach 2**\n",
        "<br>**Optimized Approach:**<br>we can use a hashmap to store the frequency of each element in the changed array. We iterate through the changed array and for each element, we check if its double exists in the hashmap and decrement the frequencies accordingly. If at any point an element is not found or its frequency becomes negative, we return an empty array. Otherwise, we construct the original array based on the remaining frequencies in the hashmap."
      ],
      "metadata": {
        "id": "c7I3-Cz-BnL_"
      }
    },
    {
      "cell_type": "code",
      "source": [
        "from collections import Counter\n",
        "\n",
        "def findOriginalArray(changed):\n",
        "    if len(changed) % 2 != 0:\n",
        "        return []\n",
        "\n",
        "    frequency_map = Counter(changed)\n",
        "\n",
        "    original = []\n",
        "    for num in sorted(changed):\n",
        "        if frequency_map[num] == 0:\n",
        "            continue\n",
        "\n",
        "        double_num = 2 * num\n",
        "        if frequency_map[double_num] == 0:\n",
        "            return []\n",
        "\n",
        "        original.append(num)\n",
        "        frequency_map[num] -= 1\n",
        "        frequency_map[double_num] -= 1\n",
        "\n",
        "    return original\n"
      ],
      "metadata": {
        "id": "DYJpZahp9orM"
      },
      "execution_count": 51,
      "outputs": []
    },
    {
      "cell_type": "code",
      "source": [
        "# Test case\n",
        "changed = [1, 3, 4, 2, 6, 8]\n",
        "print(findOriginalArray(changed))"
      ],
      "metadata": {
        "colab": {
          "base_uri": "https://localhost:8080/"
        },
        "id": "1NVZZR72-mgY",
        "outputId": "5314f1cb-bb86-40e0-c55f-b3f364f7e964"
      },
      "execution_count": 52,
      "outputs": [
        {
          "output_type": "stream",
          "name": "stdout",
          "text": [
            "[1, 3, 4]\n"
          ]
        }
      ]
    },
    {
      "cell_type": "markdown",
      "source": [
        "\n",
        "# Discussion :\n",
        "The time complexity of the optimized approach is O(n log n), where n is the length of the changed array. This is because we sort the changed array before iterating over it, which has a time complexity of O(n log n). The subsequent iteration through the sorted array takes O(n) time.\n",
        "\n",
        "The space complexity of the optimized approach is O(n), where n is the length of the changed array. This is because we use a dictionary frequency_map to store the frequency of each element in the changed array. In the worst case, all unique elements of the changed array will be stored in the frequency_map, resulting in O(n) space complexity."
      ],
      "metadata": {
        "id": "DjYTgUJSCSDu"
      }
    },
    {
      "cell_type": "markdown",
      "source": [
        "💡 **Question 7**\n",
        "\n",
        "Given a positive integer n, generate an n x n matrix filled with elements from 1 to n2 in spiral order.\n",
        "\n",
        "**Example 1:**\n",
        "**Input:** n = 3\n",
        "\n",
        "**Output:** [[1,2,3],[8,9,4],[7,6,5]]"
      ],
      "metadata": {
        "id": "jOBmrKhwCexV"
      }
    },
    {
      "cell_type": "markdown",
      "source": [
        "**Solution :**"
      ],
      "metadata": {
        "id": "TuUvh1AsCobw"
      }
    },
    {
      "cell_type": "code",
      "source": [
        "def generateMatrix(n):\n",
        "    matrix = [[0] * n for _ in range(n)]\n",
        "    num = 1\n",
        "    top, bottom, left, right = 0, n - 1, 0, n - 1\n",
        "\n",
        "    while num <= n * n:\n",
        "        # Traverse top row\n",
        "        for i in range(left, right + 1):\n",
        "            matrix[top][i] = num\n",
        "            num += 1\n",
        "        top += 1\n",
        "\n",
        "        # Traverse right column\n",
        "        for i in range(top, bottom + 1):\n",
        "            matrix[i][right] = num\n",
        "            num += 1\n",
        "        right -= 1\n",
        "\n",
        "        # Check if all elements are filled\n",
        "        if num > n * n:\n",
        "            break\n",
        "\n",
        "        # Traverse bottom row\n",
        "        for i in range(right, left - 1, -1):\n",
        "            matrix[bottom][i] = num\n",
        "            num += 1\n",
        "        bottom -= 1\n",
        "\n",
        "        # Traverse left column\n",
        "        for i in range(bottom, top - 1, -1):\n",
        "            matrix[i][left] = num\n",
        "            num += 1\n",
        "        left += 1\n",
        "\n",
        "    return matrix"
      ],
      "metadata": {
        "id": "FQz0SI7P-rnD"
      },
      "execution_count": 60,
      "outputs": []
    },
    {
      "cell_type": "code",
      "source": [
        "n = 3\n",
        "print(generateMatrix(n))"
      ],
      "metadata": {
        "colab": {
          "base_uri": "https://localhost:8080/"
        },
        "id": "j7jPVVrPDOYY",
        "outputId": "7ee1c46f-bf60-4a3c-8c20-71e501217724"
      },
      "execution_count": 61,
      "outputs": [
        {
          "output_type": "stream",
          "name": "stdout",
          "text": [
            "[[1, 2, 3], [8, 9, 4], [7, 6, 5]]\n"
          ]
        }
      ]
    },
    {
      "cell_type": "markdown",
      "source": [
        "# Discussion :\n",
        "The time complexity of this optimized approach is O(n^2) because we need to fill all n x n elements in the matrix.\n",
        "\n",
        "The space complexity is O(n^2) as well since we create a new matrix of size n x n to store the spiral matrix."
      ],
      "metadata": {
        "id": "auk45eLiD1Lv"
      }
    },
    {
      "cell_type": "markdown",
      "source": [
        "💡 **Question 8**\n",
        "\n",
        "Given two [sparse matrices](https://en.wikipedia.org/wiki/Sparse_matrix) mat1 of size m x k and mat2 of size k x n, return the result of mat1 x mat2. You may assume that multiplication is always possible.\n",
        "\n",
        "**Example 1:**\n",
        "**Input:** mat1 = [[1,0,0],[-1,0,3]], mat2 = [[7,0,0],[0,0,0],[0,0,1]]\n",
        "\n",
        "**Output:**\n",
        "\n",
        "[[7,0,0],[-7,0,3]]"
      ],
      "metadata": {
        "id": "MjLVAF_nDa0H"
      }
    },
    {
      "cell_type": "markdown",
      "source": [
        "**Solution Approach 1 : brute force approach**\n",
        "<br>"
      ],
      "metadata": {
        "id": "uawoLxRTDsPO"
      }
    },
    {
      "cell_type": "code",
      "source": [
        "def multiply_bt(mat1, mat2):\n",
        "    m = len(mat1)\n",
        "    k = len(mat1[0])\n",
        "    n = len(mat2[0])\n",
        "\n",
        "    result = [[0] * n for _ in range(m)]\n",
        "\n",
        "    for i in range(m):\n",
        "        for j in range(n):\n",
        "            for x in range(k):\n",
        "                result[i][j] += mat1[i][x] * mat2[x][j]\n",
        "\n",
        "    return result"
      ],
      "metadata": {
        "id": "6KYDKrzdEKCO"
      },
      "execution_count": 62,
      "outputs": []
    },
    {
      "cell_type": "code",
      "source": [
        "mat1 = [[1, 0, 0], [-1, 0, 3]]\n",
        "mat2 = [[7, 0, 0], [0, 0, 0], [0, 0, 1]]\n",
        "print(multiply_bt(mat1, mat2))"
      ],
      "metadata": {
        "colab": {
          "base_uri": "https://localhost:8080/"
        },
        "id": "0g5wWW28EKKU",
        "outputId": "c64bfdfa-c363-49b3-f01a-f6e73231e7d1"
      },
      "execution_count": 63,
      "outputs": [
        {
          "output_type": "stream",
          "name": "stdout",
          "text": [
            "[[7, 0, 0], [-7, 0, 3]]\n"
          ]
        }
      ]
    },
    {
      "cell_type": "markdown",
      "source": [
        "# Discussion :\n",
        "The time complexity of this brute force approach is O(m * n * k), where m, n, and k are the dimensions of the matrices. We need to perform m * n * k multiplications and additions to compute each element of the result matrix.\n",
        "\n",
        "The space complexity is O(m * n) since we need to create a new matrix of size m x n to store the result."
      ],
      "metadata": {
        "id": "96zwU1PdEfrO"
      }
    },
    {
      "cell_type": "markdown",
      "source": [
        "**Solution Approach 2 : optimized approach**"
      ],
      "metadata": {
        "id": "fTzYuIITEwQk"
      }
    },
    {
      "cell_type": "code",
      "source": [
        "def multiply(mat1, mat2):\n",
        "    m = len(mat1)\n",
        "    k = len(mat1[0])\n",
        "    n = len(mat2[0])\n",
        "\n",
        "    result = [[0] * n for _ in range(m)]\n",
        "\n",
        "    for i in range(m):\n",
        "        for x in range(k):\n",
        "            if mat1[i][x] != 0:\n",
        "                for j in range(n):\n",
        "                    result[i][j] += mat1[i][x] * mat2[x][j]\n",
        "\n",
        "    return result"
      ],
      "metadata": {
        "id": "gf_WLtvtE50y"
      },
      "execution_count": 64,
      "outputs": []
    },
    {
      "cell_type": "code",
      "source": [
        "mat1 = [[1, 0, 0], [-1, 0, 3]]\n",
        "mat2 = [[7, 0, 0], [0, 0, 0], [0, 0, 1]]\n",
        "print(multiply(mat1, mat2))"
      ],
      "metadata": {
        "colab": {
          "base_uri": "https://localhost:8080/"
        },
        "id": "JWQOOzxdE_Ie",
        "outputId": "d2bc86e7-5daa-47dc-c1cd-47f780bb9e76"
      },
      "execution_count": 65,
      "outputs": [
        {
          "output_type": "stream",
          "name": "stdout",
          "text": [
            "[[7, 0, 0], [-7, 0, 3]]\n"
          ]
        }
      ]
    },
    {
      "cell_type": "markdown",
      "source": [
        "# Discussion :\n",
        "The time complexity of the optimized approach is O(m * k * n), which is better than the brute force approach since we skip unnecessary calculations when encountering zero elements.\n",
        "\n",
        "The space complexity remains the same as O(m * n) since we create a new matrix to store the result."
      ],
      "metadata": {
        "id": "5CSaPubYFGEd"
      }
    }
  ]
}