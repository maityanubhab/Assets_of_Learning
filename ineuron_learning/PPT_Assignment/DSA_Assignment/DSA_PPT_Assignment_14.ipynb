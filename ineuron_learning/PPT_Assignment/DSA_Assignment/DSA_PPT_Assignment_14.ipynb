{
 "cells": [
  {
   "cell_type": "markdown",
   "id": "78d06dd7",
   "metadata": {},
   "source": [
    "# Q1\n",
    "\n",
    "\n",
    "💡 **Question 1**\n",
    "\n",
    "Given a linked list of **N** nodes such that it may contain a loop.\n",
    "\n",
    "A loop here means that the last node of the link list is connected to the node at position X(1-based index). If the link list does not have any loop, X=0.\n",
    "\n",
    "Remove the loop from the linked list, if it is present, i.e. unlink the last node which is forming the loop.\n",
    "\n",
    "**Example 1:**\n",
    "\n",
    "```\n",
    "Input:\n",
    "N = 3\n",
    "value[] = {1,3,4}\n",
    "X = 2\n",
    "Output:1\n",
    "Explanation:The link list looks like\n",
    "1 -> 3 -> 4\n",
    "     ^    |\n",
    "     |____|\n",
    "A loop is present. If you remove it\n",
    "successfully, the answer will be 1.\n",
    "\n",
    "```\n",
    "\n",
    "**Example 2:**\n",
    "\n",
    "```\n",
    "Input:\n",
    "N = 4\n",
    "value[] = {1,8,3,4}\n",
    "X = 0\n",
    "Output:1\n",
    "Explanation:The Linked list does not\n",
    "contains any loop.\n",
    "```\n",
    "\n",
    "**Example 3:**\n",
    "\n",
    "```\n",
    "Input:\n",
    "N = 4\n",
    "value[] = {1,2,3,4}\n",
    "X = 1\n",
    "Output:1\n",
    "Explanation:The link list looks like\n",
    "1 -> 2 -> 3 -> 4\n",
    "^              |\n",
    "|______________|\n",
    "A loop is present.\n",
    "If you remove it successfully,\n",
    "the answer will be 1.\n",
    "\n",
    "```"
   ]
  },
  {
   "cell_type": "markdown",
   "id": "653a5b7f",
   "metadata": {},
   "source": [
    "# Ans.\n",
    "\n",
    "**Solution Approach 1**\n",
    "\n",
    "**Brute Force Approach:**\n",
    "\n",
    "In the brute force approach, we can iterate over each node in the linked list and check if there is a loop. To detect a loop, we can keep track of visited nodes using a hash set. If we encounter a node that is already in the set, it means there is a loop. In that case, we can break the loop by updating the next pointer of the last node to None."
   ]
  },
  {
   "cell_type": "code",
   "execution_count": 1,
   "id": "ccda89fc",
   "metadata": {},
   "outputs": [],
   "source": [
    "class Node:\n",
    "    def __init__(self, value):\n",
    "        self.data = value\n",
    "        self.next = None\n",
    "\n",
    "def remove_loop(head):\n",
    "    if not head or not head.next:\n",
    "        return\n",
    "\n",
    "    visited = set()\n",
    "    prev = None\n",
    "    curr = head\n",
    "\n",
    "    while curr:\n",
    "        if curr in visited:\n",
    "            prev.next = None  # Break the loop\n",
    "            return int(True)\n",
    "        visited.add(curr)\n",
    "        prev = curr\n",
    "        curr = curr.next\n",
    "\n",
    "    return int(False)"
   ]
  },
  {
   "cell_type": "markdown",
   "id": "3697827d",
   "metadata": {},
   "source": [
    "**Test Case:**"
   ]
  },
  {
   "cell_type": "code",
   "execution_count": 2,
   "id": "086da34a",
   "metadata": {},
   "outputs": [
    {
     "name": "stdout",
     "output_type": "stream",
     "text": [
      "1\n"
     ]
    }
   ],
   "source": [
    "# Test Case 1: Loop present\n",
    "head1 = Node(1)\n",
    "head1.next = Node(3)\n",
    "head1.next.next = Node(4)\n",
    "head1.next.next.next = head1.next  # Creating a loop\n",
    "\n",
    "print(remove_loop(head1)) # Output: True\n",
    "# The linked list becomes: 1 -> 3 -> 4\n",
    "#                          ^         |\n",
    "#                          |_________|\n"
   ]
  },
  {
   "cell_type": "code",
   "execution_count": 3,
   "id": "4337eb00",
   "metadata": {},
   "outputs": [
    {
     "name": "stdout",
     "output_type": "stream",
     "text": [
      "0\n"
     ]
    }
   ],
   "source": [
    "# Test Case 2: No loop present\n",
    "head2 = Node(1)\n",
    "head2.next = Node(8)\n",
    "head2.next.next = Node(3)\n",
    "head2.next.next.next = Node(4)\n",
    "\n",
    "print(remove_loop(head2)) # Output: False\n",
    "# The linked list remains the same: 1 -> 8 -> 3 -> 4"
   ]
  },
  {
   "cell_type": "code",
   "execution_count": 4,
   "id": "611aea15",
   "metadata": {},
   "outputs": [
    {
     "name": "stdout",
     "output_type": "stream",
     "text": [
      "1\n"
     ]
    }
   ],
   "source": [
    "# Test Case 3: Loop present\n",
    "head3 = Node(1)\n",
    "head3.next = Node(2)\n",
    "head3.next.next = Node(3)\n",
    "head3.next.next.next = Node(4)\n",
    "head3.next.next.next.next = head3  # Creating a loop\n",
    "\n",
    "print(remove_loop(head3))  # Output: True\n",
    "# The linked list becomes: 1 -> 2 -> 3 -> 4\n",
    "#                          ^              |\n",
    "#                          |______________|"
   ]
  },
  {
   "cell_type": "markdown",
   "id": "b3c4f086",
   "metadata": {},
   "source": [
    "**Discussion :**</br>\n",
    "\n",
    "**The time complexity** of this approach is O(N), where N is the number of nodes in the linked list. \n",
    "\n",
    "**The space complexity** is O(N) since we need to store visited nodes in a set."
   ]
  },
  {
   "cell_type": "markdown",
   "id": "e56d78e1",
   "metadata": {},
   "source": [
    "**Solution Approach 2*\n",
    "\n",
    "**Optimized Approach:**\n",
    "\n",
    "The optimized approach, also known as Floyd's cycle-finding algorithm or the hare and tortoise algorithm, uses two pointers to detect and remove the loop. This approach avoids using extra space and has a better time complexity."
   ]
  },
  {
   "cell_type": "code",
   "execution_count": 5,
   "id": "10758cb0",
   "metadata": {},
   "outputs": [],
   "source": [
    "class Node:\n",
    "    def __init__(self, value):\n",
    "        self.data = value\n",
    "        self.next = None\n",
    "\n",
    "def detect_and_remove_loop(head):\n",
    "    if not head or not head.next:\n",
    "        return\n",
    "\n",
    "    slow = head\n",
    "    fast = head\n",
    "\n",
    "    while fast and fast.next:\n",
    "        slow = slow.next\n",
    "        fast = fast.next.next\n",
    "\n",
    "        if slow == fast:\n",
    "            break\n",
    "\n",
    "    if slow != fast:\n",
    "        return int(False)\n",
    "\n",
    "    # Move one pointer back to the head\n",
    "    slow = head\n",
    "\n",
    "    # Loop until the pointers meet again at the start of the loop\n",
    "    while slow.next != fast.next:\n",
    "        slow = slow.next\n",
    "        fast = fast.next\n",
    "\n",
    "    # Break the loop\n",
    "    fast.next = None\n",
    "\n",
    "    return int(True)"
   ]
  },
  {
   "cell_type": "markdown",
   "id": "fc4b52c5",
   "metadata": {},
   "source": [
    "**Test Case:**"
   ]
  },
  {
   "cell_type": "code",
   "execution_count": 6,
   "id": "a484b0f3",
   "metadata": {},
   "outputs": [
    {
     "name": "stdout",
     "output_type": "stream",
     "text": [
      "1\n"
     ]
    }
   ],
   "source": [
    "# Test Case 1: Loop present\n",
    "head1 = Node(1)\n",
    "head1.next = Node(3)\n",
    "head1.next.next = Node(4)\n",
    "head1.next.next.next = head1.next  # Creating a loop\n",
    "\n",
    "print(detect_and_remove_loop(head1))  # Output: True\n",
    "# The linked list becomes: 1 -> 3 -> 4\n",
    "#                          ^         |\n",
    "#                          |_________|"
   ]
  },
  {
   "cell_type": "code",
   "execution_count": 7,
   "id": "e653e390",
   "metadata": {},
   "outputs": [
    {
     "name": "stdout",
     "output_type": "stream",
     "text": [
      "0\n"
     ]
    }
   ],
   "source": [
    "# Test Case 2: No loop present\n",
    "head2 = Node(1)\n",
    "head2.next = Node(8)\n",
    "head2.next.next = Node(3)\n",
    "head2.next.next.next = Node(4)\n",
    "\n",
    "print(detect_and_remove_loop(head2))  # Output: False\n",
    "# The linked list remains the same: 1 -> 8 -> 3 -> 4"
   ]
  },
  {
   "cell_type": "code",
   "execution_count": 8,
   "id": "1a196537",
   "metadata": {},
   "outputs": [
    {
     "name": "stdout",
     "output_type": "stream",
     "text": [
      "1\n"
     ]
    }
   ],
   "source": [
    "# Test Case 3: Loop present\n",
    "head3 = Node(1)\n",
    "head3.next = Node(2)\n",
    "head3.next.next = Node(3)\n",
    "head3.next.next.next = Node(4)\n",
    "head3.next.next.next.next = head3  # Creating a loop\n",
    "\n",
    "print(detect_and_remove_loop(head3))  # Output: True\n",
    "# The linked list becomes: 1 -> 2 -> 3 -> 4\n",
    "#                          ^              |\n",
    "#                          |______________|"
   ]
  },
  {
   "cell_type": "markdown",
   "id": "71e71929",
   "metadata": {},
   "source": [
    "**Discussion :**</br>\n",
    "\n",
    "**The time complexity** of the optimized approach is O(N), where N is the number of nodes in the linked list. \n",
    "\n",
    "**The space complexity** is O(1) since we are not using any additional data structures."
   ]
  },
  {
   "cell_type": "markdown",
   "id": "9ba8cb4b",
   "metadata": {},
   "source": [
    "# Q2\n",
    "\n",
    "\n",
    "💡 **Question 2**\n",
    "\n",
    "A number **N** is represented in Linked List such that each digit corresponds to a node in linked list. You need to add 1 to it.\n",
    "\n",
    "**Example 1:**\n",
    "\n",
    "```\n",
    "Input:\n",
    "LinkedList: 4->5->6\n",
    "Output:457\n",
    "\n",
    "```\n",
    "\n",
    "**Example 2:**\n",
    "\n",
    "```\n",
    "Input:\n",
    "LinkedList: 1->2->3\n",
    "Output:124\n",
    "\n",
    "```"
   ]
  },
  {
   "cell_type": "markdown",
   "id": "a23121c3",
   "metadata": {},
   "source": [
    "# Ans.\n",
    "\n",
    "**Solution Approach 1**\n",
    "\n",
    "**Brute Force Approach:**\n",
    "\n",
    "In the brute force approach, we can reverse the linked list, add 1 to the first node, and then propagate the carry forward to the subsequent nodes if necessary. Finally, we reverse the modified linked list to get the desired result."
   ]
  },
  {
   "cell_type": "code",
   "execution_count": 9,
   "id": "3c9af76d",
   "metadata": {},
   "outputs": [],
   "source": [
    "class Node:\n",
    "    def __init__(self, value):\n",
    "        self.data = value\n",
    "        self.next = None\n",
    "\n",
    "def reverse_linked_list(head):\n",
    "    prev = None\n",
    "    curr = head\n",
    "\n",
    "    while curr:\n",
    "        next_node = curr.next\n",
    "        curr.next = prev\n",
    "        prev = curr\n",
    "        curr = next_node\n",
    "\n",
    "    return prev\n",
    "\n",
    "def add_one(head):\n",
    "    if not head:\n",
    "        return head\n",
    "\n",
    "    # Reverse the linked list\n",
    "    reversed_head = reverse_linked_list(head)\n",
    "\n",
    "    # Add 1 to the first node\n",
    "    curr = reversed_head\n",
    "    carry = 1\n",
    "\n",
    "    while curr:\n",
    "        curr_sum = curr.data + carry\n",
    "        curr.data = curr_sum % 10\n",
    "        carry = curr_sum // 10\n",
    "\n",
    "        if not curr.next:\n",
    "            break\n",
    "\n",
    "        curr = curr.next\n",
    "\n",
    "    # If there is still a carry, create a new node\n",
    "    if carry:\n",
    "        curr.next = Node(carry)\n",
    "\n",
    "    # Reverse the modified linked list\n",
    "    modified_head = reverse_linked_list(reversed_head)\n",
    "\n",
    "    return modified_head"
   ]
  },
  {
   "cell_type": "markdown",
   "id": "8ca47d9c",
   "metadata": {},
   "source": [
    "**Test Case:**"
   ]
  },
  {
   "cell_type": "code",
   "execution_count": 10,
   "id": "857cdde5",
   "metadata": {},
   "outputs": [
    {
     "name": "stdout",
     "output_type": "stream",
     "text": [
      "4 5 7 "
     ]
    }
   ],
   "source": [
    "# Test Case 1\n",
    "# LinkedList: 4->5->6\n",
    "# Adding 1 to it: 457\n",
    "head1 = Node(4)\n",
    "head1.next = Node(5)\n",
    "head1.next.next = Node(6)\n",
    "\n",
    "result1 = add_one(head1)\n",
    "\n",
    "# Traverse the modified linked list\n",
    "while result1:\n",
    "    print(result1.data, end=\" \")\n",
    "    result1 = result1.next"
   ]
  },
  {
   "cell_type": "code",
   "execution_count": 11,
   "id": "860d7046",
   "metadata": {},
   "outputs": [
    {
     "name": "stdout",
     "output_type": "stream",
     "text": [
      "1 2 4 "
     ]
    }
   ],
   "source": [
    "# Test Case 2\n",
    "# LinkedList: 1->2->3\n",
    "# Adding 1 to it: 124\n",
    "head2 = Node(1)\n",
    "head2.next = Node(2)\n",
    "head2.next.next = Node(3)\n",
    "\n",
    "result2 = add_one(head2)\n",
    "\n",
    "# Traverse the modified linked list\n",
    "while result2:\n",
    "    print(result2.data, end=\" \")\n",
    "    result2 = result2.next"
   ]
  },
  {
   "cell_type": "code",
   "execution_count": 12,
   "id": "90655fcb",
   "metadata": {},
   "outputs": [
    {
     "name": "stdout",
     "output_type": "stream",
     "text": [
      "1 0 0 0 "
     ]
    }
   ],
   "source": [
    "# Test Case 3\n",
    "# LinkedList: 9->9->9\n",
    "# Adding 1 to it: 1000\n",
    "head3 = Node(9)\n",
    "head3.next = Node(9)\n",
    "head3.next.next = Node(9)\n",
    "\n",
    "result3 = add_one(head3)\n",
    "\n",
    "# Traverse the modified linked list\n",
    "while result3:\n",
    "    print(result3.data, end=\" \")\n",
    "    result3 = result3.next"
   ]
  },
  {
   "cell_type": "markdown",
   "id": "99845208",
   "metadata": {},
   "source": [
    "**Discussion :**</br>\n",
    "\n",
    "**The time complexity** of this approach is O(N), where N is the number of digits in the linked list. \n",
    "\n",
    "**The space complexity** is O(1) since we are not using any additional data structures."
   ]
  },
  {
   "cell_type": "markdown",
   "id": "4001ac85",
   "metadata": {},
   "source": [
    "**Solution Approach 2**\n",
    "\n",
    "**Optimized Approach:**\n",
    "\n",
    "In the optimized approach, we traverse the linked list in a bottom-up manner, starting from the rightmost digit. We add 1 to each node's value and propagate the carry forward. This approach avoids the need for reversing the linked list."
   ]
  },
  {
   "cell_type": "code",
   "execution_count": 13,
   "id": "ab6a1d4b",
   "metadata": {},
   "outputs": [],
   "source": [
    "class Node:\n",
    "    def __init__(self, value):\n",
    "        self.data = value\n",
    "        self.next = None\n",
    "\n",
    "def add_one(head):\n",
    "    if not head:\n",
    "        return head\n",
    "\n",
    "    # Find the rightmost non-nine node\n",
    "    curr = head\n",
    "    non_nine_node = None\n",
    "\n",
    "    while curr:\n",
    "        if curr.data != 9:\n",
    "            non_nine_node = curr\n",
    "        curr = curr.next\n",
    "\n",
    "    # If no non-nine node found, it means all nodes are nine\n",
    "    # In that case, create a new node with value 1 at the beginning\n",
    "    if not non_nine_node:\n",
    "        new_head = Node(1)\n",
    "        new_head.next = head\n",
    "        head = new_head\n",
    "    else:\n",
    "        non_nine_node.data += 1\n",
    "\n",
    "        # Set all subsequent nodes to 0\n",
    "        curr = non_nine_node.next\n",
    "        while curr:\n",
    "            curr.data = 0\n",
    "            curr = curr.next\n",
    "\n",
    "    return head"
   ]
  },
  {
   "cell_type": "markdown",
   "id": "7ab40f4d",
   "metadata": {},
   "source": [
    "**Test Case:**"
   ]
  },
  {
   "cell_type": "code",
   "execution_count": 14,
   "id": "6842ce26",
   "metadata": {},
   "outputs": [
    {
     "name": "stdout",
     "output_type": "stream",
     "text": [
      "4 5 7 "
     ]
    }
   ],
   "source": [
    "# Test Case 1\n",
    "# LinkedList: 4->5->6\n",
    "# Adding 1 to it: 457\n",
    "head1 = Node(4)\n",
    "head1.next = Node(5)\n",
    "head1.next.next = Node(6)\n",
    "\n",
    "result1 = add_one(head1)\n",
    "\n",
    "# Traverse the modified linked list\n",
    "while result1:\n",
    "    print(result1.data, end=\" \")\n",
    "    result1 = result1.next"
   ]
  },
  {
   "cell_type": "code",
   "execution_count": 15,
   "id": "7d57b0e5",
   "metadata": {},
   "outputs": [
    {
     "name": "stdout",
     "output_type": "stream",
     "text": [
      "1 2 4 "
     ]
    }
   ],
   "source": [
    "# Test Case 2\n",
    "# LinkedList: 1->2->3\n",
    "# Adding 1 to it: 124\n",
    "head2 = Node(1)\n",
    "head2.next = Node(2)\n",
    "head2.next.next = Node(3)\n",
    "\n",
    "result2 = add_one(head2)\n",
    "\n",
    "# Traverse the modified linked list\n",
    "while result2:\n",
    "    print(result2.data, end=\" \")\n",
    "    result2 = result2.next"
   ]
  },
  {
   "cell_type": "markdown",
   "id": "a99143a5",
   "metadata": {},
   "source": [
    "**Discussion :**</br>\n",
    "\n",
    "**The time complexity** of the optimized approach is O(N), where N is the number of digits in the linked list. \n",
    "\n",
    "**The space complexity** is O(1) since we are not using any additional data structures"
   ]
  },
  {
   "cell_type": "markdown",
   "id": "0ee8b729",
   "metadata": {},
   "source": [
    "# Q3\n",
    "\n",
    "\n",
    "💡 **Question 3**\n",
    "\n",
    "Given a Linked List of size N, where every node represents a sub-linked-list and contains two pointers:(i) a **next** pointer to the next node,(ii) a **bottom** pointer to a linked list where this node is head.Each of the sub-linked-list is in sorted order.Flatten the Link List such that all the nodes appear in a single level while maintaining the sorted order. **Note:** The flattened list will be printed using the bottom pointer instead of next pointer.\n",
    "\n",
    "**Example 1:**\n",
    "\n",
    "```\n",
    "Input:\n",
    "5 -> 10 -> 19 -> 28\n",
    "|     |     |     |\n",
    "7     20    22   35\n",
    "|           |     |\n",
    "8          50    40\n",
    "|                 |\n",
    "30               45\n",
    "Output: 5-> 7-> 8- > 10 -> 19-> 20-> 22-> 28-> 30-> 35-> 40-> 45-> 50.\n",
    "Explanation:\n",
    "The resultant linked lists has every\n",
    "node in a single level.(Note:| represents the bottom pointer.)\n",
    "\n",
    "```\n",
    "\n",
    "**Example 2:**\n",
    "\n",
    "```\n",
    "Input:\n",
    "5 -> 10 -> 19 -> 28\n",
    "|          |\n",
    "7          22\n",
    "|          |\n",
    "8          50\n",
    "|\n",
    "30\n",
    "Output: 5->7->8->10->19->22->28->30->50\n",
    "Explanation:\n",
    "The resultant linked lists has every\n",
    "node in a single level.\n",
    "\n",
    "(Note:| represents the bottom pointer.)\n",
    "\n",
    "```"
   ]
  },
  {
   "cell_type": "markdown",
   "id": "cbf82668",
   "metadata": {},
   "source": [
    "# Ans:\n",
    "\n",
    "**Solution**\n",
    "\n",
    "**Optimized Approach:**\n",
    "\n",
    "In the optimized approach, we can flatten the linked list in a bottom-up manner. We start from the last node of the main linked list and merge it with the flattened sub-linked list of the next node. We repeat this process until we reach the first node of the main linked list."
   ]
  },
  {
   "cell_type": "code",
   "execution_count": 16,
   "id": "8ff0729c",
   "metadata": {},
   "outputs": [],
   "source": [
    "class Node:\n",
    "    def __init__(self, data):\n",
    "        self.data = data\n",
    "        self.next = None\n",
    "        self.bottom = None\n",
    "\n",
    "def merge_two_lists(list1, list2):\n",
    "    if not list1:\n",
    "        return list2\n",
    "    if not list2:\n",
    "        return list1\n",
    "\n",
    "    if list1.data < list2.data:\n",
    "        result = list1\n",
    "        result.bottom = merge_two_lists(list1.bottom, list2)\n",
    "    else:\n",
    "        result = list2\n",
    "        result.bottom = merge_two_lists(list1, list2.bottom)\n",
    "\n",
    "    return result\n",
    "\n",
    "def flatten_linked_list_optimized(head):\n",
    "    if not head or not head.next:\n",
    "        return head\n",
    "\n",
    "    head.next = flatten_linked_list_optimized(head.next)\n",
    "\n",
    "    # Merge the current list with the flattened list of the next node\n",
    "    head = merge_two_lists(head, head.next)\n",
    "\n",
    "    return head"
   ]
  },
  {
   "cell_type": "markdown",
   "id": "3df48989",
   "metadata": {},
   "source": [
    "**Test Case:**"
   ]
  },
  {
   "cell_type": "code",
   "execution_count": 17,
   "id": "5ef268ba",
   "metadata": {},
   "outputs": [
    {
     "name": "stdout",
     "output_type": "stream",
     "text": [
      "5 7 8 10 19 20 22 28 35 30 40 45 50 "
     ]
    }
   ],
   "source": [
    "# Test Case 1\n",
    "\n",
    "node1 = Node(5)\n",
    "node2 = Node(10)\n",
    "node3 = Node(19)\n",
    "node4 = Node(28)\n",
    "node5 = Node(7)\n",
    "node6 = Node(20)\n",
    "node7 = Node(22)\n",
    "node8 = Node(35)\n",
    "node9 = Node(8)\n",
    "node10 = Node(50)\n",
    "node11 = Node(40)\n",
    "node12 = Node(30)\n",
    "node13 = Node(45)\n",
    "\n",
    "node1.next = node2\n",
    "node2.next = node3\n",
    "node3.next = node4\n",
    "\n",
    "node1.bottom = node5\n",
    "node2.bottom = node6\n",
    "node3.bottom = node7\n",
    "node4.bottom = node8\n",
    "\n",
    "node5.bottom = node9\n",
    "node6.bottom = node10\n",
    "node7.bottom = node11\n",
    "node8.bottom = node12\n",
    "\n",
    "node9.bottom = node13\n",
    "\n",
    "result1 = flatten_linked_list_optimized(node1)\n",
    "\n",
    "# Traverse the flattened linked list\n",
    "while result1:\n",
    "    print(result1.data, end=\" \")\n",
    "    result1 = result1.bottom"
   ]
  },
  {
   "cell_type": "code",
   "execution_count": 18,
   "id": "e7a9d251",
   "metadata": {},
   "outputs": [
    {
     "name": "stdout",
     "output_type": "stream",
     "text": [
      "5 7 8 10 19 22 28 30 50 "
     ]
    }
   ],
   "source": [
    "# Test Case 2\n",
    "\n",
    "node1 = Node(5)\n",
    "node2 = Node(10)\n",
    "node3 = Node(19)\n",
    "node4 = Node(28)\n",
    "node5 = Node(7)\n",
    "node6 = Node(22)\n",
    "node7 = Node(8)\n",
    "node8 = Node(50)\n",
    "node9 = Node(30)\n",
    "\n",
    "node1.next = node2\n",
    "node2.next = node3\n",
    "node3.next = node4\n",
    "\n",
    "node1.bottom = node5\n",
    "node3.bottom = node6\n",
    "\n",
    "node5.bottom = node7\n",
    "node6.bottom = node8\n",
    "\n",
    "node7.bottom = node9\n",
    "\n",
    "result2 = flatten_linked_list_optimized(node1)\n",
    "\n",
    "# Traverse the flattened linked list\n",
    "while result2:\n",
    "    print(result2.data, end=\" \")\n",
    "    result2 = result2.bottom\n"
   ]
  },
  {
   "cell_type": "markdown",
   "id": "b2b33bed",
   "metadata": {},
   "source": [
    "**Discussion :**</br>\n",
    "\n",
    "**The time complexity** of the optimized approach is O(N*M), where N is the number of nodes in the main linked list and M is the average number of nodes in each sub-linked list. \n",
    "\n",
    "**The space complexity** is O(1) since we are not using any additional data structures."
   ]
  },
  {
   "attachments": {
    "clone.jpg": {
     "image/jpeg": "[encoded data removed]"
    }
   },
   "cell_type": "markdown",
   "id": "070cec20",
   "metadata": {},
   "source": [
    "# Q4\n",
    "\n",
    "\n",
    "💡 **Question 4**\n",
    "\n",
    "You are given a special linked list with **N** nodes where each node has a next pointer pointing to its next node. You are also given **M** random pointers, where you will be given **M** number of pairs denoting two nodes **a** and **b**  **i.e. a->arb = b** (arb is pointer to random node)**.**\n",
    "\n",
    "Construct a copy of the given list. The copy should consist of exactly **N** new nodes, where each new node has its value set to the value of its corresponding original node. Both the next and random pointer of the new nodes should point to new nodes in the copied list such that the pointers in the original list and copied list represent the same list state. None of the pointers in the new list should point to nodes in the original list.\n",
    "\n",
    "For example, if there are two nodes **X** and **Y** in the original list, where **X.arb** **-->** **Y**, then for the corresponding two nodes **x** and **y** in the copied list, **x.arb --> y.**\n",
    "\n",
    "Return the head of the copied linked list.\n",
    "\n",
    "![clone.jpg](attachment:clone.jpg)\n",
    "\n",
    "**Note** :- The diagram isn't part of any example, it just depicts an example of how the linked list may look like.\n",
    "\n",
    "**Example 1:**\n",
    "\n",
    "```\n",
    "Input:\n",
    "N = 4, M = 2\n",
    "value = {1,2,3,4}\n",
    "pairs = {{1,2},{2,4}}\n",
    "Output:1\n",
    "Explanation:In this test case, there\n",
    "are 4 nodes in linked list.  Among these\n",
    "4 nodes,  2 nodes have arbitrary pointer\n",
    "set, rest two nodes have arbitrary pointer\n",
    "as NULL. Second line tells us the value\n",
    "of four nodes. The third line gives the\n",
    "information about arbitrary pointers.\n",
    "The first node arbitrary pointer is set to\n",
    "node 2.  The second node arbitrary pointer\n",
    "is set to node 4.\n",
    "\n",
    "```\n",
    "\n",
    "**Example 2:**\n",
    "\n",
    "```\n",
    "Input:\n",
    "N = 4, M = 2\n",
    "value[] = {1,3,5,9}\n",
    "pairs[] = {{1,1},{3,4}}\n",
    "Output:1\n",
    "Explanation:In the given testcase ,\n",
    "applying the method as stated in the\n",
    "above example, the output will be 1.\n",
    "\n",
    "```"
   ]
  },
  {
   "cell_type": "markdown",
   "id": "8ca98b77",
   "metadata": {},
   "source": [
    "# Ans.\n",
    "\n",
    "**Solution Approach 1**\n",
    "\n",
    "**Brute Force Approach:**\n",
    "\n",
    "Create a new linked list with only the values from the original linked list.\n",
    "Iterate through the original linked list and for each node, find the corresponding random node and set the random pointer in the new linked list."
   ]
  },
  {
   "cell_type": "code",
   "execution_count": 19,
   "id": "562e1556",
   "metadata": {},
   "outputs": [],
   "source": [
    "class Node:\n",
    "    def __init__(self, data):\n",
    "        self.data = data\n",
    "        self.next = None\n",
    "        self.random = None\n",
    "\n",
    "def copy_random_list_brute_force(head):\n",
    "    if not head:\n",
    "        return None\n",
    "\n",
    "    # Create a new linked list with only values\n",
    "    new_head = Node(head.data)\n",
    "    new_curr = new_head\n",
    "\n",
    "    # Mapping from original nodes to new nodes\n",
    "    node_map = {head: new_head}\n",
    "\n",
    "    # Iterate through the original linked list\n",
    "    curr = head.next\n",
    "    while curr:\n",
    "        new_node = Node(curr.data)\n",
    "        new_curr.next = new_node\n",
    "        new_curr = new_node\n",
    "\n",
    "        node_map[curr] = new_node\n",
    "\n",
    "        curr = curr.next\n",
    "\n",
    "    # Set random pointers in the new linked list\n",
    "    curr = head\n",
    "    new_curr = new_head\n",
    "    while curr:\n",
    "        if curr.random:\n",
    "            new_curr.random = node_map[curr.random]\n",
    "\n",
    "        curr = curr.next\n",
    "        new_curr = new_curr.next\n",
    "\n",
    "    return new_head\n"
   ]
  },
  {
   "cell_type": "markdown",
   "id": "b7683a05",
   "metadata": {},
   "source": [
    "**Test Case:**"
   ]
  },
  {
   "cell_type": "code",
   "execution_count": 20,
   "id": "1c9427f5",
   "metadata": {},
   "outputs": [
    {
     "name": "stdout",
     "output_type": "stream",
     "text": [
      "Node: 1\n",
      "Random Pointer: 2\n",
      "Node: 2\n",
      "Random Pointer: 4\n",
      "Node: 3\n",
      "Random Pointer: None\n",
      "Node: 4\n",
      "Random Pointer: None\n"
     ]
    }
   ],
   "source": [
    "# Test Case 1\n",
    "\n",
    "node1 = Node(1)\n",
    "node2 = Node(2)\n",
    "node3 = Node(3)\n",
    "node4 = Node(4)\n",
    "\n",
    "node1.next = node2\n",
    "node2.next = node3\n",
    "node3.next = node4\n",
    "\n",
    "node1.random = node2\n",
    "node2.random = node4\n",
    "\n",
    "new_head1 = copy_random_list_brute_force(node1)\n",
    "\n",
    "# Verify the new linked list and random pointers\n",
    "curr = new_head1\n",
    "while curr:\n",
    "    print(\"Node:\", curr.data)\n",
    "    if curr.random:\n",
    "        print(\"Random Pointer:\", curr.random.data)\n",
    "    else:\n",
    "        print(\"Random Pointer: None\")\n",
    "    curr = curr.next\n",
    "\n",
    "\n"
   ]
  },
  {
   "cell_type": "code",
   "execution_count": 21,
   "id": "d99c35b5",
   "metadata": {},
   "outputs": [
    {
     "name": "stdout",
     "output_type": "stream",
     "text": [
      "Node: 1\n",
      "Random Pointer: 1\n",
      "Node: 3\n",
      "Random Pointer: 9\n",
      "Node: 5\n",
      "Random Pointer: None\n",
      "Node: 9\n",
      "Random Pointer: None\n"
     ]
    }
   ],
   "source": [
    "# Test Case 2\n",
    "\n",
    "node1 = Node(1)\n",
    "node2 = Node(3)\n",
    "node3 = Node(5)\n",
    "node4 = Node(9)\n",
    "\n",
    "node1.next = node2\n",
    "node2.next = node3\n",
    "node3.next = node4\n",
    "\n",
    "node1.random = node1\n",
    "node2.random = node4\n",
    "\n",
    "new_head2 = copy_random_list_brute_force(node1)\n",
    "\n",
    "# Verify the new linked list and random pointers\n",
    "curr = new_head2\n",
    "while curr:\n",
    "    print(\"Node:\", curr.data)\n",
    "    if curr.random:\n",
    "        print(\"Random Pointer:\", curr.random.data)\n",
    "    else:\n",
    "        print(\"Random Pointer: None\")\n",
    "    curr = curr.next\n"
   ]
  },
  {
   "cell_type": "markdown",
   "id": "c47cc60e",
   "metadata": {},
   "source": [
    "**Discussion :**</br>\n",
    "\n",
    "**Time Complexity:** O(N*M), where N is the number of nodes in the linked list and M is the number of random pointers.\n",
    "\n",
    "**Space Complexity:** O(N), for storing the new linked list nodes."
   ]
  },
  {
   "cell_type": "markdown",
   "id": "560bee72",
   "metadata": {},
   "source": [
    "**Solution Approach 2**\n",
    "\n",
    "Optimized Approach:\n",
    "\n",
    "Create a new node for each node in the original linked list and insert it after the corresponding original node.\n",
    "Set the random pointers of the new nodes based on the random pointers of the original nodes.\n",
    "Separate the original and new linked lists by updating the next pointers of the original nodes and extracting the new nodes.\n",
    "Restore the original linked list by updating the next pointers of the original nodes."
   ]
  },
  {
   "cell_type": "code",
   "execution_count": 22,
   "id": "8d4db080",
   "metadata": {},
   "outputs": [],
   "source": [
    "class Node:\n",
    "    def __init__(self, data):\n",
    "        self.data = data\n",
    "        self.next = None\n",
    "        self.random = None\n",
    "\n",
    "def copy_random_list_optimized(head):\n",
    "    if not head:\n",
    "        return None\n",
    "\n",
    "    # Insert new nodes after each original node\n",
    "    curr = head\n",
    "    while curr:\n",
    "        new_node = Node(curr.data)\n",
    "        new_node.next = curr.next\n",
    "        curr.next = new_node\n",
    "        curr = new_node.next\n",
    "\n",
    "    # Set random pointers in the new nodes\n",
    "    curr = head\n",
    "    while curr:\n",
    "        if curr.random:\n",
    "            curr.next.random = curr.random.next\n",
    "\n",
    "        curr = curr.next.next\n",
    "\n",
    "    # Separate the original and new linked lists\n",
    "    new_head = head.next\n",
    "    curr = head\n",
    "    while curr.next:\n",
    "        temp = curr.next\n",
    "        curr.next = temp.next\n",
    "        curr = temp\n",
    "\n",
    "    return new_head\n"
   ]
  },
  {
   "cell_type": "markdown",
   "id": "9c3e1129",
   "metadata": {},
   "source": [
    "**Test Case:**"
   ]
  },
  {
   "cell_type": "code",
   "execution_count": 23,
   "id": "2bd109c6",
   "metadata": {},
   "outputs": [
    {
     "name": "stdout",
     "output_type": "stream",
     "text": [
      "Node: 1\n",
      "Random Pointer: 2\n",
      "Node: 2\n",
      "Random Pointer: 4\n",
      "Node: 3\n",
      "Random Pointer: None\n",
      "Node: 4\n",
      "Random Pointer: None\n"
     ]
    }
   ],
   "source": [
    "# Test Case 1\n",
    "\n",
    "node1 = Node(1)\n",
    "node2 = Node(2)\n",
    "node3 = Node(3)\n",
    "node4 = Node(4)\n",
    "\n",
    "node1.next = node2\n",
    "node2.next = node3\n",
    "node3.next = node4\n",
    "\n",
    "node1.random = node2\n",
    "node2.random = node4\n",
    "\n",
    "new_head1 = copy_random_list_optimized(node1)\n",
    "\n",
    "# Verify the new linked list and random pointers\n",
    "curr = new_head1\n",
    "while curr:\n",
    "    print(\"Node:\", curr.data)\n",
    "    if curr.random:\n",
    "        print(\"Random Pointer:\", curr.random.data)\n",
    "    else:\n",
    "        print(\"Random Pointer: None\")\n",
    "    curr = curr.next\n",
    "\n",
    "\n"
   ]
  },
  {
   "cell_type": "code",
   "execution_count": 24,
   "id": "440bc131",
   "metadata": {},
   "outputs": [
    {
     "name": "stdout",
     "output_type": "stream",
     "text": [
      "Node: 1\n",
      "Random Pointer: 1\n",
      "Node: 3\n",
      "Random Pointer: 9\n",
      "Node: 5\n",
      "Random Pointer: None\n",
      "Node: 9\n",
      "Random Pointer: None\n"
     ]
    }
   ],
   "source": [
    "# Test Case 2\n",
    "\n",
    "node1 = Node(1)\n",
    "node2 = Node(3)\n",
    "node3 = Node(5)\n",
    "node4 = Node(9)\n",
    "\n",
    "node1.next = node2\n",
    "node2.next = node3\n",
    "node3.next = node4\n",
    "\n",
    "node1.random = node1\n",
    "node2.random = node4\n",
    "\n",
    "new_head2 = copy_random_list_optimized(node1)\n",
    "\n",
    "# Verify the new linked list and random pointers\n",
    "curr = new_head2\n",
    "while curr:\n",
    "    print(\"Node:\", curr.data)\n",
    "    if curr.random:\n",
    "        print(\"Random Pointer:\", curr.random.data)\n",
    "    else:\n",
    "        print(\"Random Pointer: None\")\n",
    "    curr = curr.next\n",
    "\n"
   ]
  },
  {
   "cell_type": "markdown",
   "id": "cf0e114c",
   "metadata": {},
   "source": [
    "**Discussion :**</br>\n",
    "\n",
    "**Time Complexity:** O(N), where N is the number of nodes in the linked list.\n",
    "\n",
    "**Space Complexity:** O(1), as we are not using any extra space apart from the new linked list nodes."
   ]
  },
  {
   "attachments": {
    "oddeven-linked-list.jpg": {
     "image/jpeg": "[encoded data removed]"
    }
   },
   "cell_type": "markdown",
   "id": "ae7689f6",
   "metadata": {},
   "source": [
    "# Q5\n",
    "\n",
    "\n",
    "💡 **Question 5**\n",
    "\n",
    "Given the `head` of a singly linked list, group all the nodes with odd indices together followed by the nodes with even indices, and return *the reordered list*.\n",
    "\n",
    "The **first** node is considered **odd**, and the **second** node is **even**, and so on.\n",
    "\n",
    "Note that the relative order inside both the even and odd groups should remain as it was in the input.\n",
    "\n",
    "You must solve the problem in `O(1)` extra space complexity and `O(n)` time complexity.\n",
    "\n",
    "**Example 1:**\n",
    "\n",
    "![oddeven-linked-list.jpg](attachment:oddeven-linked-list.jpg)\n",
    "\n",
    "```\n",
    "Input: head = [1,2,3,4,5]\n",
    "Output: [1,3,5,2,4]\n",
    "\n",
    "```\n",
    "\n",
    "**Example 2:**\n",
    "\n",
    
    "\n",
    "\n",
    "\n",
    "```\n",
    "Input: head = [2,1,3,5,6,4,7]\n",
    "Output: [2,3,6,7,1,5,4]\n",
    "```"
   ]
  },
  {
   "cell_type": "markdown",
   "id": "375ff179",
   "metadata": {},
   "source": [
    "# Ans.\n",
    "\n",
    "**Solution**\n",
    "\n",
    "\n",
    "To group the nodes with odd indices together followed by the nodes with even indices, we can use a simple approach:\n",
    "\n",
    "Initialize two pointers, odd_head and even_head, to point to the heads of the odd and even sublists, respectively. Also, keep track of the head of the even sublist to connect it with the tail of the odd sublist later.\n",
    "Traverse the linked list with a pointer, curr, starting from the head node.\n",
    "At each iteration, connect the current node to its next node in the original list, and update the odd_head, even_head, and curr pointers accordingly.\n",
    "After the traversal, connect the tail of the odd sublist with the head of the even sublist.\n",
    "Return the head of the modified linked list."
   ]
  },
  {
   "cell_type": "code",
   "execution_count": 25,
   "id": "d2cf3e45",
   "metadata": {},
   "outputs": [],
   "source": [
    "class ListNode:\n",
    "    def __init__(self, val=0, next=None):\n",
    "        self.val = val\n",
    "        self.next = next\n",
    "\n",
    "def oddEvenList(head):\n",
    "    if not head or not head.next:\n",
    "        return head\n",
    "\n",
    "    odd_head = head\n",
    "    even_head = head.next\n",
    "    even = even_head\n",
    "\n",
    "    while even and even.next:\n",
    "        odd_head.next = even.next\n",
    "        odd_head = odd_head.next\n",
    "        even.next = odd_head.next\n",
    "        even = even.next\n",
    "\n",
    "    odd_head.next = even_head\n",
    "\n",
    "    return head\n"
   ]
  },
  {
   "cell_type": "markdown",
   "id": "8d6c9481",
   "metadata": {},
   "source": [
    "**Test Case:**"
   ]
  },
  {
   "cell_type": "code",
   "execution_count": 26,
   "id": "9c38c816",
   "metadata": {},
   "outputs": [
    {
     "name": "stdout",
     "output_type": "stream",
     "text": [
      "1 3 5 2 4 "
     ]
    }
   ],
   "source": [
    "# Test Case\n",
    "\n",
    "node1 = ListNode(1)\n",
    "node2 = ListNode(2)\n",
    "node3 = ListNode(3)\n",
    "node4 = ListNode(4)\n",
    "node5 = ListNode(5)\n",
    "\n",
    "node1.next = node2\n",
    "node2.next = node3\n",
    "node3.next = node4\n",
    "node4.next = node5\n",
    "\n",
    "result = oddEvenList(node1)\n",
    "\n",
    "# Verify the modified linked list\n",
    "while result:\n",
    "    print(result.val, end=\" \")\n",
    "    result = result.next\n",
    "\n"
   ]
  },
  {
   "cell_type": "markdown",
   "id": "8d62b7ff",
   "metadata": {},
   "source": [
    "**Discussion :**</br>\n",
    "\n",
    "**Time Complexity:** O(n), where n is the number of nodes in the linked list.\n",
    "\n",
    "**Space Complexity:** O(1), as we are using a constant amount of extra space."
   ]
  },
  {
   "cell_type": "markdown",
   "id": "4fb3a0ae",
   "metadata": {},
   "source": [
    "# Q6\n",
    "\n",
    "\n",
    "💡 **Question 6**\n",
    "\n",
    "Given a singly linked list of size **N**. The task is to **left-shift** the linked list by **k** nodes, where **k** is a given positive integer smaller than or equal to length of the linked list.\n",
    "\n",
    "**Example 1:**\n",
    "\n",
    "```\n",
    "Input:\n",
    "N = 5\n",
    "value[] = {2, 4, 7, 8, 9}\n",
    "k = 3\n",
    "Output:8 9 2 4 7\n",
    "Explanation:Rotate 1:4 -> 7 -> 8 -> 9 -> 2\n",
    "Rotate 2: 7 -> 8 -> 9 -> 2 -> 4\n",
    "Rotate 3: 8 -> 9 -> 2 -> 4 -> 7\n",
    "\n",
    "```\n",
    "\n",
    "**Example 2:**\n",
    "\n",
    "```\n",
    "Input:\n",
    "N = 8\n",
    "value[] = {1, 2, 3, 4, 5, 6, 7, 8}\n",
    "k = 4\n",
    "Output:5 6 7 8 1 2 3 4\n",
    "\n",
    "```"
   ]
  },
  {
   "cell_type": "markdown",
   "id": "d72b10a3",
   "metadata": {},
   "source": [
    "# Ans.\n",
    "\n",
    "**Solution**\n",
    "\n",
    "**Optimized Approach:**\n",
    "\n",
    "Calculate the length of the linked list, length, by traversing the list.\n",
    "Normalize the value of k by taking its modulo with the length of the linked list.\n",
    "If k is 0, return the original head of the linked list as there is no need to shift.\n",
    "Initialize a pointer, end, to the head of the linked list and traverse to the end.\n",
    "Connect the end node's next pointer to the original head of the linked list.\n",
    "Traverse the linked list from the head, keeping a count of the nodes visited.\n",
    "When the count reaches (length - k - 1), disconnect the sublist by setting its next pointer to None.\n",
    "Update the head of the linked list to the (length - k)-th node.\n",
    "Return the updated head of the linked list."
   ]
  },
  {
   "cell_type": "code",
   "execution_count": 27,
   "id": "b4ede6f5",
   "metadata": {},
   "outputs": [],
   "source": [
    "class ListNode:\n",
    "    def __init__(self, val=0, next=None):\n",
    "        self.val = val\n",
    "        self.next = next\n",
    "\n",
    "def lengthOfLinkedList(head):\n",
    "    count = 0\n",
    "    curr = head\n",
    "    while curr:\n",
    "        count += 1\n",
    "        curr = curr.next\n",
    "    return count\n",
    "\n",
    "def leftShiftLinkedList(head, k):\n",
    "    if not head or not head.next or k == 0:\n",
    "        return head\n",
    "\n",
    "    length = lengthOfLinkedList(head)\n",
    "    k = k % length\n",
    "\n",
    "    if k == 0:\n",
    "        return head\n",
    "\n",
    "    end = head\n",
    "    while end.next:\n",
    "        end = end.next\n",
    "    end.next = head\n",
    "\n",
    "    count = 0\n",
    "    curr = head\n",
    "    while count < (length - k - 1):\n",
    "        curr = curr.next\n",
    "        count += 1\n",
    "\n",
    "    new_head = curr.next\n",
    "    curr.next = None\n",
    "\n",
    "    return new_head\n"
   ]
  },
  {
   "cell_type": "markdown",
   "id": "c9f8c2b3",
   "metadata": {},
   "source": [
    "**Test Case:**"
   ]
  },
  {
   "cell_type": "code",
   "execution_count": 28,
   "id": "08667cbe",
   "metadata": {},
   "outputs": [
    {
     "name": "stdout",
     "output_type": "stream",
     "text": [
      "7 8 9 2 4 "
     ]
    }
   ],
   "source": [
    "# Test Case\n",
    "\n",
    "node1 = ListNode(2)\n",
    "node2 = ListNode(4)\n",
    "node3 = ListNode(7)\n",
    "node4 = ListNode(8)\n",
    "node5 = ListNode(9)\n",
    "\n",
    "node1.next = node2\n",
    "node2.next = node3\n",
    "node3.next = node4\n",
    "node4.next = node5\n",
    "\n",
    "result = leftShiftLinkedList(node1, 3)\n",
    "\n",
    "# Verify the modified linked list\n",
    "while result:\n",
    "    print(result.val, end=\" \")\n",
    "    result = result.next\n",
    "\n"
   ]
  },
  {
   "cell_type": "markdown",
   "id": "8844cfa1",
   "metadata": {},
   "source": [
    "**Discussion :**</br>\n",
    "\n",
    "**Time Complexity:**\n",
    "\n",
    "- For the brute force approach: O(N), where N is the length of the linked list.\n",
    "- For the optimized approach: O(N), where N is the length of the linked list.\n",
    "\n",
    "**Space Complexity:** O(1) for both approaches.\n"
   ]
  },
  {
   "attachments": {
    "linkedlistnext1.jpg": {
     "image/jpeg": "[encoded data removed]"
    }
   },
   "cell_type": "markdown",
   "id": "0ca443dc",
   "metadata": {},
   "source": [
    "# Q7\n",
    "\n",
    "\n",
    "💡 **Question 7**\n",
    "\n",
    "You are given the `head` of a linked list with `n` nodes.\n",
    "\n",
    "For each node in the list, find the value of the **next greater node**. That is, for each node, find the value of the first node that is next to it and has a **strictly larger** value than it.\n",
    "\n",
    "Return an integer array `answer` where `answer[i]` is the value of the next greater node of the `ith` node (**1-indexed**). If the `ith` node does not have a next greater node, set `answer[i] = 0`.\n",
    "\n",
    "**Example 1:**\n",
    "\n",
    "![linkedlistnext1.jpg](attachment:linkedlistnext1.jpg)\n",
    "\n",
    "```\n",
    "Input: head = [2,1,5]\n",
    "Output: [5,5,0]\n",
    "\n",
    "```\n",
    "\n",
    "**Example 2:**\n",
    "\n",
   
    "\n",
    "```\n",
    "Input: head = [2,7,4,3,5]\n",
    "Output: [7,0,5,5,0]\n",
    "```"
   ]
  },
  {
   "cell_type": "markdown",
   "id": "1b20814a",
   "metadata": {},
   "source": [
    "# Ans.\n",
    "\n",
    "**Solution Approach 1**\n",
    "\n",
    "**Brute Force Approach:**\n",
    "\n",
    "- Traverse the linked list and store the values of each node in an array, arr.\n",
    "- Initialize an empty result array, result, of the same length as arr filled with zeros.\n",
    "- For each index i in arr, traverse the elements starting from index i+1.\n",
    "- If a value is found that is greater than arr[i], set result[i] to that value and break the inner loop.\n",
    "- Return the result array."
   ]
  },
  {
   "cell_type": "code",
   "execution_count": 29,
   "id": "8076ab5e",
   "metadata": {},
   "outputs": [],
   "source": [
    "class ListNode:\n",
    "    def __init__(self, val=0, next=None):\n",
    "        self.val = val\n",
    "        self.next = next\n",
    "\n",
    "def nextLargerNodes_brute_force(head):\n",
    "    # Step 1: Convert linked list to array\n",
    "    arr = []\n",
    "    curr = head\n",
    "    while curr:\n",
    "        arr.append(curr.val)\n",
    "        curr = curr.next\n",
    "\n",
    "    # Step 2: Initialize result array\n",
    "    result = [0] * len(arr)\n",
    "\n",
    "    # Step 3: Find next greater node for each node\n",
    "    for i in range(len(arr)):\n",
    "        for j in range(i + 1, len(arr)):\n",
    "            if arr[j] > arr[i]:\n",
    "                result[i] = arr[j]\n",
    "                break\n",
    "\n",
    "    return result\n"
   ]
  },
  {
   "cell_type": "markdown",
   "id": "f761bfc8",
   "metadata": {},
   "source": [
    "**Test Case:**"
   ]
  },
  {
   "cell_type": "code",
   "execution_count": 30,
   "id": "45deaed5",
   "metadata": {},
   "outputs": [
    {
     "name": "stdout",
     "output_type": "stream",
     "text": [
      "[5, 5, 0]\n"
     ]
    }
   ],
   "source": [
    "# Test Case\n",
    "\n",
    "node1 = ListNode(2)\n",
    "node2 = ListNode(1)\n",
    "node3 = ListNode(5)\n",
    "\n",
    "node1.next = node2\n",
    "node2.next = node3\n",
    "\n",
    "result = nextLargerNodes_brute_force(node1)\n",
    "\n",
    "print(result)\n"
   ]
  },
  {
   "cell_type": "code",
   "execution_count": 31,
   "id": "fedafd43",
   "metadata": {},
   "outputs": [
    {
     "name": "stdout",
     "output_type": "stream",
     "text": [
      "[7, 0, 5, 5, 0]\n"
     ]
    }
   ],
   "source": [
    "# Test Case\n",
    "\n",
    "node1 = ListNode(2)\n",
    "node2 = ListNode(7)\n",
    "node3 = ListNode(4)\n",
    "node4 = ListNode(3)\n",
    "node5 = ListNode(5)\n",
    "\n",
    "node1.next = node2\n",
    "node2.next = node3\n",
    "node3.next = node4\n",
    "node4.next = node5\n",
    "\n",
    "result = nextLargerNodes_brute_force(node1)\n",
    "\n",
    "print(result)"
   ]
  },
  {
   "cell_type": "markdown",
   "id": "79002448",
   "metadata": {},
   "source": [
    "**Discussion :**</br>\n",
    "\n",
    "**Time Complexity:** For the brute force approach: O(N^2), where N is the length of the linked list.\n",
    "\n",
    "**Space Complexity:** For the brute force approach: O(N), where N is the length of the linked list."
   ]
  },
  {
   "cell_type": "markdown",
   "id": "63ccee69",
   "metadata": {},
   "source": [
    "**Solution Approach 2**\n",
    "\n",
    "**Optimized Approach using Stack:**\n",
    "\n",
    "- Initialize an empty stack and an empty result array, result.\n",
    "- Traverse the linked list from the end to the beginning.\n",
    "- For each node, while the stack is not empty and the value at the top of the stack is less than or equal to the current node's value, pop elements from the stack.\n",
    "- If the stack becomes empty, set result at the current index to 0.\n",
    "- If the stack is not empty, set result at the current index to the value at the top of the stack.\n",
    "- Push the current node's value onto the stack.\n",
    "- Reverse the result array to restore the original order.\n",
    "- Return the result array."
   ]
  },
  {
   "cell_type": "code",
   "execution_count": 32,
   "id": "38b262bf",
   "metadata": {},
   "outputs": [],
   "source": [
    "class ListNode:\n",
    "    def __init__(self, val=0, next=None):\n",
    "        self.val = val\n",
    "        self.next = next\n",
    "\n",
    "def nextLargerNodes(head):\n",
    "    # Step 1: Convert linked list to array\n",
    "    arr = []\n",
    "    curr = head\n",
    "    while curr:\n",
    "        arr.append(curr.val)\n",
    "        curr = curr.next\n",
    "\n",
    "    # Step 2: Initialize stack and result array\n",
    "    stack = []\n",
    "    result = [0] * len(arr)\n",
    "\n",
    "    # Step 3: Traverse the array from the end\n",
    "    for i in range(len(arr) - 1, -1, -1):\n",
    "        # Step 4: Pop elements from stack until greater value is found\n",
    "        while stack and stack[-1] <= arr[i]:\n",
    "            stack.pop()\n",
    "\n",
    "        # Step 5: Set result[i] to top of stack if not empty\n",
    "        if stack:\n",
    "            result[i] = stack[-1]\n",
    "\n",
    "        # Step 6: Push current value onto stack\n",
    "        stack.append(arr[i])\n",
    "\n",
    "    # Step 7: Reverse result array\n",
    "    return result\n"
   ]
  },
  {
   "cell_type": "markdown",
   "id": "eff1abf6",
   "metadata": {},
   "source": [
    "**Test Case:**"
   ]
  },
  {
   "cell_type": "code",
   "execution_count": 33,
   "id": "8379ff51",
   "metadata": {},
   "outputs": [
    {
     "name": "stdout",
     "output_type": "stream",
     "text": [
      "[5, 5, 0]\n"
     ]
    }
   ],
   "source": [
    "# Test Case\n",
    "\n",
    "node1 = ListNode(2)\n",
    "node2 = ListNode(1)\n",
    "node3 = ListNode(5)\n",
    "\n",
    "node1.next = node2\n",
    "node2.next = node3\n",
    "\n",
    "result = nextLargerNodes(node1)\n",
    "\n",
    "print(result)"
   ]
  },
  {
   "cell_type": "code",
   "execution_count": 34,
   "id": "7738c0f7",
   "metadata": {},
   "outputs": [
    {
     "name": "stdout",
     "output_type": "stream",
     "text": [
      "[7, 0, 5, 5, 0]\n"
     ]
    }
   ],
   "source": [
    "# Test Case\n",
    "\n",
    "node1 = ListNode(2)\n",
    "node2 = ListNode(7)\n",
    "node3 = ListNode(4)\n",
    "node4 = ListNode(3)\n",
    "node5 = ListNode(5)\n",
    "\n",
    "node1.next = node2\n",
    "node2.next = node3\n",
    "node3.next = node4\n",
    "node4.next = node5\n",
    "\n",
    "result = nextLargerNodes(node1)\n",
    "\n",
    "print(result)"
   ]
  },
  {
   "cell_type": "markdown",
   "id": "ff874c13",
   "metadata": {},
   "source": [
    "**Discussion :**</br>\n",
    "\n",
    "**Time Complexity:** For the optimized approach using a stack: O(N), where N is the length of the linked list.\n",
    "\n",
    "**Space Complexity:** For the optimized approach using a stack: O(N), where N is the length of the linked list."
   ]
  },
  {
   "cell_type": "markdown",
   "id": "84c1bff8",
   "metadata": {},
   "source": [
    "# Q8\n",
    "\n",
    "💡 **Question 8**\n",
    "\n",
    "Given the `head` of a linked list, we repeatedly delete consecutive sequences of nodes that sum to `0` until there are no such sequences.\n",
    "\n",
    "After doing so, return the head of the final linked list.  You may return any such answer.\n",
    "\n",
    "(Note that in the examples below, all sequences are serializations of `ListNode` objects.)\n",
    "\n",
    "**Example 1:**\n",
    "\n",
    "```\n",
    "Input: head = [1,2,-3,3,1]\n",
    "Output: [3,1]\n",
    "Note: The answer [1,2,1] would also be accepted.\n",
    "\n",
    "```\n",
    "\n",
    "**Example 2:**\n",
    "\n",
    "```\n",
    "Input: head = [1,2,3,-3,4]\n",
    "Output: [1,2,4]\n",
    "\n",
    "```\n",
    "\n",
    "**Example 3:**\n",
    "\n",
    "```\n",
    "Input: head = [1,2,3,-3,-2]\n",
    "Output: [1]\n",
    "\n",
    "```"
   ]
  },
  {
   "cell_type": "markdown",
   "id": "c39e4f60",
   "metadata": {},
   "source": [
    "# Ans.\n",
    "\n",
    "**Solution Approach 1**\n",
    "\n",
    "**Brute Force Approach**\n",
    "\n",
    "To solve this problem, we can use a brute force approach that iterates through the linked list and checks for consecutive sequences of nodes that sum to zero. Whenever such a sequence is found, we delete it from the linked list."
   ]
  },
  {
   "cell_type": "code",
   "execution_count": 35,
   "id": "2914a3d9",
   "metadata": {},
   "outputs": [],
   "source": [
    "class ListNode:\n",
    "    def __init__(self, val=0, next=None):\n",
    "        self.val = val\n",
    "        self.next = next\n",
    "\n",
    "def removeZeroSumSublists(head):\n",
    "    dummy = ListNode(0)\n",
    "    dummy.next = head\n",
    "    curr = dummy\n",
    "\n",
    "    while curr:\n",
    "        # Calculate the prefix sum from the current node\n",
    "        prefix_sum = 0\n",
    "        node = curr.next\n",
    "        while node:\n",
    "            prefix_sum += node.val\n",
    "\n",
    "            # If prefix sum becomes zero, delete the subsequence\n",
    "            if prefix_sum == 0:\n",
    "                curr.next = node.next\n",
    "            node = node.next\n",
    "\n",
    "        # Move to the next node\n",
    "        curr = curr.next\n",
    "\n",
    "    return dummy.next\n"
   ]
  },
  {
   "cell_type": "markdown",
   "id": "b2755934",
   "metadata": {},
   "source": [
    "**Test Case:**"
   ]
  },
  {
   "cell_type": "code",
   "execution_count": 36,
   "id": "e326b307",
   "metadata": {},
   "outputs": [
    {
     "name": "stdout",
     "output_type": "stream",
     "text": [
      "3 1 "
     ]
    }
   ],
   "source": [
    "# Test Case\n",
    "\n",
    "node1 = ListNode(1)\n",
    "node2 = ListNode(2)\n",
    "node3 = ListNode(-3)\n",
    "node4 = ListNode(3)\n",
    "node5 = ListNode(1)\n",
    "\n",
    "node1.next = node2\n",
    "node2.next = node3\n",
    "node3.next = node4\n",
    "node4.next = node5\n",
    "\n",
    "result = removeZeroSumSublists(node1)\n",
    "\n",
    "while result:\n",
    "    print(result.val, end=\" \")\n",
    "    result = result.next\n"
   ]
  },
  {
   "cell_type": "markdown",
   "id": "a294a502",
   "metadata": {},
   "source": [
    "**Discussion :**</br>\n",
    "\n",
    "**The time complexity** of this brute force approach is O(n^2) as we need to iterate through the linked list for each node. \n",
    "\n",
    "**The space complexity** is O(1) as we are modifying the linked list in place."
   ]
  },
  {
   "cell_type": "markdown",
   "id": "2e977792",
   "metadata": {},
   "source": [
    "**Solution Approach 2**\n",
    "\n",
    "**Optimized Approach**\n",
    "\n",
    "For an optimized approach, we can use a hashmap to keep track of prefix sums and their corresponding nodes. "
   ]
  },
  {
   "cell_type": "code",
   "execution_count": 37,
   "id": "a350f41d",
   "metadata": {},
   "outputs": [],
   "source": [
    "class ListNode:\n",
    "    def __init__(self, val=0, next=None):\n",
    "        self.val = val\n",
    "        self.next = next\n",
    "\n",
    "def removeZeroSumSublists(head):\n",
    "    dummy = ListNode(0)\n",
    "    dummy.next = head\n",
    "    prefix_sum = 0\n",
    "    prefix_sum_map = {}\n",
    "    prefix_sum_map[0] = dummy\n",
    "    curr = head\n",
    "\n",
    "    while curr:\n",
    "        prefix_sum += curr.val\n",
    "\n",
    "        if prefix_sum in prefix_sum_map:\n",
    "            prev = prefix_sum_map[prefix_sum]\n",
    "            prev.next = curr.next\n",
    "\n",
    "        else:\n",
    "            prefix_sum_map[prefix_sum] = curr\n",
    "\n",
    "        curr = curr.next\n",
    "\n",
    "    return dummy.next\n",
    "\n",
    "\n"
   ]
  },
  {
   "cell_type": "markdown",
   "id": "4895ab58",
   "metadata": {},
   "source": [
    "**Test Case:**"
   ]
  },
  {
   "cell_type": "code",
   "execution_count": 38,
   "id": "800429f0",
   "metadata": {},
   "outputs": [
    {
     "name": "stdout",
     "output_type": "stream",
     "text": [
      "3 1 "
     ]
    }
   ],
   "source": [
    "# Test Case\n",
    "\n",
    "node1 = ListNode(1)\n",
    "node2 = ListNode(2)\n",
    "node3 = ListNode(-3)\n",
    "node4 = ListNode(3)\n",
    "node5 = ListNode(1)\n",
    "\n",
    "node1.next = node2\n",
    "node2.next = node3\n",
    "node3.next = node4\n",
    "node4.next = node5\n",
    "\n",
    "result = removeZeroSumSublists(node1)\n",
    "\n",
    "while result:\n",
    "    print(result.val, end=\" \")\n",
    "    result = result.next\n"
   ]
  },
  {
   "cell_type": "markdown",
   "id": "5704b088",
   "metadata": {},
   "source": [
    "**Discussion :**</br>\n",
    "\n",
    "This approach has a **time complexity** of O(n) and a **space complexity** of O(n)."
   ]
  }
 ],
 "metadata": {
  "kernelspec": {
   "display_name": "Python 3 (ipykernel)",
   "language": "python",
   "name": "python3"
  },
  "language_info": {
   "codemirror_mode": {
    "name": "ipython",
    "version": 3
   },
   "file_extension": ".py",
   "mimetype": "text/x-python",
   "name": "python",
   "nbconvert_exporter": "python",
   "pygments_lexer": "ipython3",
   "version": "3.9.13"
  }
 },
 "nbformat": 4,
 "nbformat_minor": 5
}
