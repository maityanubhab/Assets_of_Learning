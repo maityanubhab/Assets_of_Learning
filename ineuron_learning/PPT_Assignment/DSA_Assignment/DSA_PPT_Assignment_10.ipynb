{
 "cells": [
  {
   "cell_type": "markdown",
   "id": "2d7e1636",
   "metadata": {},
   "source": [
    "# Q1\n",
    "\n",
    "\n",
    "💡 **Question 1**\n",
    "\n",
    "Given an integer `n`, return `true` if it is a power of three. Otherwise, return `false`.\n",
    "\n",
    "An integer `n` is a power of three, if there exists an integer `x` such that `n == 3x`.\n",
    "\n",
    "**Example 1:**\n",
    "\n",
    "Input: n = 27 <br>\n",
    "Output: true <br>\n",
    "Explanation: 27 = 33\n",
    "\n",
    "**Example 2:**\n",
    "\n",
    "Input: n = 0 <br>\n",
    "Output: false <br>\n",
    "Explanation: There is no x where 3x = 0.\n",
    "\n",
    "\n",
    "**Example 3:**\n",
    "\n",
    "Input: n = -1 <br>\n",
    "Output: false <br>\n",
    "Explanation: There is no x where 3x = (-1)."
   ]
  },
  {
   "cell_type": "markdown",
   "id": "cf17dd9e",
   "metadata": {},
   "source": [
    "## Ans.\n",
    "\n",
    "\n",
    "**Solution Approach 1**\n",
    "\n",
    "**Brute Force Approach:**\n",
    "\n",
    "The brute force approach involves repeatedly dividing the given number by 3 until we either reach 1 or encounter a remainder. If we reach 1 at the end, it means the number is a power of three; otherwise, it's not"
   ]
  },
  {
   "cell_type": "code",
   "execution_count": 1,
   "id": "5084044d",
   "metadata": {},
   "outputs": [],
   "source": [
    "#Brute Force Approach\n",
    "\n",
    "def isPowerOfThree(n):\n",
    "    if n <= 0:\n",
    "        return False\n",
    "    while n % 3 == 0:\n",
    "        n /= 3\n",
    "    return n == 1\n"
   ]
  },
  {
   "cell_type": "markdown",
   "id": "32a1c202",
   "metadata": {},
   "source": [
    "**Test Case:**"
   ]
  },
  {
   "cell_type": "code",
   "execution_count": 2,
   "id": "9fb94a13",
   "metadata": {},
   "outputs": [
    {
     "name": "stdout",
     "output_type": "stream",
     "text": [
      "True\n",
      "False\n",
      "False\n",
      "True\n",
      "False\n"
     ]
    }
   ],
   "source": [
    "# Test cases\n",
    "print(isPowerOfThree(27))  \n",
    "print(isPowerOfThree(0))   \n",
    "print(isPowerOfThree(-1))  \n",
    "print(isPowerOfThree(9))   \n",
    "print(isPowerOfThree(45))"
   ]
  },
  {
   "cell_type": "markdown",
   "id": "db140204",
   "metadata": {},
   "source": [
    "**Discussion :**</br>\n",
    "\n",
    "**The time complexity** of this approach is O(log₃ n), where n is the given number. The while loop will run approximately log₃ n times since we divide n by 3 in each iteration.\n",
    "\n",
    "**The space complexity** is O(1) because no additional space is required."
   ]
  },
  {
   "cell_type": "markdown",
   "id": "be28b682",
   "metadata": {},
   "source": [
    "**Solution Approach 2**\n",
    "\n",
    "**Optimized Approach:**\n",
    "\n",
    "An optimized approach is based on the fact that the maximum power of three that fits in the 32-bit signed integer range is $3^{19}$, which is equal to 1162261467. We can use this knowledge to check if the given number divides $3^{19}$ evenly."
   ]
  },
  {
   "cell_type": "code",
   "execution_count": 3,
   "id": "5c02caed",
   "metadata": {},
   "outputs": [],
   "source": [
    "#Optimized Approach:\n",
    "\n",
    "def isPowerOfThree(n):\n",
    "    return n > 0 and 1162261467 % n == 0"
   ]
  },
  {
   "cell_type": "markdown",
   "id": "2a5c9d83",
   "metadata": {},
   "source": [
    "**Test Case:**"
   ]
  },
  {
   "cell_type": "code",
   "execution_count": 4,
   "id": "4addfd6c",
   "metadata": {},
   "outputs": [
    {
     "name": "stdout",
     "output_type": "stream",
     "text": [
      "True\n",
      "False\n",
      "False\n",
      "True\n",
      "False\n"
     ]
    }
   ],
   "source": [
    "# Test cases\n",
    "print(isPowerOfThree(27))  \n",
    "print(isPowerOfThree(0))  \n",
    "print(isPowerOfThree(-1))  \n",
    "print(isPowerOfThree(9))  \n",
    "print(isPowerOfThree(45))"
   ]
  },
  {
   "cell_type": "markdown",
   "id": "ba97597c",
   "metadata": {},
   "source": [
    "**Discussion :**</br>\n",
    "\n",
    "**The time complexity** of this approach is O(1) since the computation is constant-time.<br>\n",
    "\n",
    "**The space complexity** is O(1) because no additional space is required."
   ]
  },
  {
   "cell_type": "markdown",
   "id": "f2be5c8a",
   "metadata": {},
   "source": [
    "# Q2\n",
    "\n",
    "\n",
    "💡 **Question 2**\n",
    "\n",
    "You have a list `arr` of all integers in the range `[1, n]` sorted in a strictly increasing order. Apply the following algorithm on `arr`:\n",
    "\n",
    "- Starting from left to right, remove the first number and every other number afterward until you reach the end of the list.\n",
    "- Repeat the previous step again, but this time from right to left, remove the rightmost number and every other number from the remaining numbers.\n",
    "- Keep repeating the steps again, alternating left to right and right to left, until a single number remains.\n",
    "\n",
    "Given the integer `n`, return *the last number that remains in* `arr`.\n",
    "\n",
    "**Example 1:**\n",
    "\n",
    "Input: n = 9 <br>\n",
    "Output: 6 <br>\n",
    "Explanation:<br>\n",
    "arr = [1, 2,3, 4,5, 6,7, 8,9] <br>\n",
    "arr = [2,4, 6,8] <br>\n",
    "arr = [2, 6] <br>\n",
    "arr = [6] <br>\n",
    "<br>\n",
    "**Example 2:**\n",
    "\n",
    "Input: n = 1 <br>\n",
    "Output: 1"
   ]
  },
  {
   "cell_type": "markdown",
   "id": "74d96ef5",
   "metadata": {},
   "source": [
    "# Ans.\n",
    "\n",
    "**Solution Approach 1**\n",
    "\n",
    "**Brute Force Approach:**\n",
    "\n",
    "The brute force approach involves simulating the steps described in the algorithm. We will create a list arr containing all integers from 1 to n. Then, we will iterate through arr, removing elements according to the algorithm until only one number remains."
   ]
  },
  {
   "cell_type": "code",
   "execution_count": 5,
   "id": "e62bbc74",
   "metadata": {},
   "outputs": [],
   "source": [
    "# Brute Force Approach:\n",
    "def lastRemaining(n):\n",
    "    arr = list(range(1, n + 1))\n",
    "    left_to_right = True\n",
    "\n",
    "    while len(arr) > 1:\n",
    "        if left_to_right:\n",
    "            arr = arr[1::2]  # Remove every other element starting from index 1\n",
    "        else:\n",
    "            arr = arr[:-1:2]  # Remove every other element starting from the end\n",
    "\n",
    "        left_to_right = not left_to_right\n",
    "\n",
    "    return arr[0]\n"
   ]
  },
  {
   "cell_type": "markdown",
   "id": "38a19114",
   "metadata": {},
   "source": [
    "**Test Case:**"
   ]
  },
  {
   "cell_type": "code",
   "execution_count": 6,
   "id": "8dfe786b",
   "metadata": {},
   "outputs": [
    {
     "name": "stdout",
     "output_type": "stream",
     "text": [
      "6\n",
      "1\n",
      "2\n",
      "6\n",
      "22\n"
     ]
    }
   ],
   "source": [
    "# Test cases\n",
    "print(lastRemaining(9))    \n",
    "print(lastRemaining(1))    \n",
    "print(lastRemaining(5))     \n",
    "print(lastRemaining(16))   \n",
    "print(lastRemaining(100))"
   ]
  },
  {
   "cell_type": "markdown",
   "id": "c47dba1b",
   "metadata": {},
   "source": [
    "**Discussion :**</br>\n",
    "\n",
    "**The time complexity** of this approach is O(n²) because in the worst case, we need to perform n iterations, and each iteration involves creating a new list with half the size of the previous list.\n",
    "\n",
    "**The space complexity** is O(n) because the size of arr can be at most n."
   ]
  },
  {
   "cell_type": "markdown",
   "id": "1c79b87c",
   "metadata": {},
   "source": [
    "**Solution Approach 2**\n",
    "\n",
    "**Optimized Approach:**\n",
    "\n",
    "An optimized approach is based on the observation that after each pass (left to right and right to left), half of the numbers are eliminated. Therefore, we can calculate the new starting number and the step size for each pass. This approach avoids creating a new list in each iteration."
   ]
  },
  {
   "cell_type": "code",
   "execution_count": 7,
   "id": "205fe1a2",
   "metadata": {},
   "outputs": [],
   "source": [
    "#Optimized Approach:\n",
    "def lastRemaining(n):\n",
    "    left_to_right = True\n",
    "    remaining = n\n",
    "    step = 1\n",
    "    start = 1\n",
    "\n",
    "    while remaining > 1:\n",
    "        if left_to_right or remaining % 2 == 1:\n",
    "            start += step\n",
    "\n",
    "        remaining //= 2\n",
    "        step *= 2\n",
    "        left_to_right = not left_to_right\n",
    "\n",
    "    return start\n"
   ]
  },
  {
   "cell_type": "markdown",
   "id": "6fe4e93e",
   "metadata": {},
   "source": [
    "**Test Case:**"
   ]
  },
  {
   "cell_type": "code",
   "execution_count": 8,
   "id": "4ab1860c",
   "metadata": {},
   "outputs": [
    {
     "name": "stdout",
     "output_type": "stream",
     "text": [
      "6\n",
      "1\n",
      "2\n",
      "6\n",
      "54\n"
     ]
    }
   ],
   "source": [
    "# Test cases\n",
    "print(lastRemaining(9))     \n",
    "print(lastRemaining(1))     \n",
    "print(lastRemaining(5))    \n",
    "print(lastRemaining(16))    \n",
    "print(lastRemaining(100)) "
   ]
  },
  {
   "cell_type": "markdown",
   "id": "13dd21dc",
   "metadata": {},
   "source": [
    "**Discussion :**</br>\n",
    "\n",
    "**The time complexity** of this approach is O(log₂ n) because we divide the remaining numbers by 2 in each iteration until only one number remains.\n",
    "\n",
    "**The space complexity** is O(1) because no additional space is required."
   ]
  },
  {
   "cell_type": "markdown",
   "id": "fc5dd4cf",
   "metadata": {},
   "source": [
    "# Q3\n",
    "\n",
    "\n",
    "💡 **Question 3**\n",
    "\n",
    "Given a set represented as a string, write a recursive code to print all subsets of it. The subsets can be printed in any order.\n",
    "\n",
    "**Example 1:**\n",
    "\n",
    "Input :  set = “abc” <br>\n",
    "\n",
    "Output : { “”, “a”, “b”, “c”, “ab”, “ac”, “bc”, “abc”}\n",
    "\n",
    "**Example 2:**\n",
    "\n",
    "Input : set = “abcd” <br>\n",
    "\n",
    "Output : { “”, “a” ,”ab” ,”abc” ,”abcd”, “abd” ,”ac” ,”acd”, “ad” ,”b”, “bc” ,”bcd” ,”bd” ,”c” ,”cd” ,”d” }\n",
    "\n"
   ]
  },
  {
   "cell_type": "markdown",
   "id": "b94333cb",
   "metadata": {},
   "source": [
    "# Ans.\n",
    "\n",
    "**Solution Approach 1**\n",
    "\n",
    "**Brute Force Approach:**\n",
    "\n",
    "The brute force approach involves generating all possible combinations of the elements in the set and adding them to the result. We can use a helper function that takes the current index, the current subset, and the result list as parameters. The helper function recursively generates subsets by including or excluding the element at the current index."
   ]
  },
  {
   "cell_type": "code",
   "execution_count": 9,
   "id": "61435ffd",
   "metadata": {},
   "outputs": [],
   "source": [
    "#Brute Force Approach:\n",
    "def generateSubsetsHelper(set, index, subset, result):\n",
    "    result.append(subset)\n",
    "\n",
    "    for i in range(index, len(set)):\n",
    "        generateSubsetsHelper(set, i + 1, subset + set[i], result)\n",
    "        \n",
    "def generateSubsets(set):\n",
    "    result = []\n",
    "    generateSubsetsHelper(set, 0, \"\", result)\n",
    "    return result"
   ]
  },
  {
   "cell_type": "markdown",
   "id": "3badaf65",
   "metadata": {},
   "source": [
    "**Test Case:**"
   ]
  },
  {
   "cell_type": "code",
   "execution_count": 10,
   "id": "4f069ef1",
   "metadata": {},
   "outputs": [
    {
     "name": "stdout",
     "output_type": "stream",
     "text": [
      "['', 'a', 'ab', 'abc', 'ac', 'b', 'bc', 'c']\n",
      "['', 'a', 'ab', 'abc', 'abcd', 'abd', 'ac', 'acd', 'ad', 'b', 'bc', 'bcd', 'bd', 'c', 'cd', 'd']\n"
     ]
    }
   ],
   "source": [
    "# Test case\n",
    "\n",
    "print(generateSubsets(\"abc\"))\n",
    "print(generateSubsets(\"abcd\"))"
   ]
  },
  {
   "cell_type": "markdown",
   "id": "356ae575",
   "metadata": {},
   "source": [
    "**Discussion :**</br>\n",
    "\n",
    "**The time complexity** of this approach is O(2^n) because there are 2^n possible subsets for a set with n elements.\n",
    "\n",
    "**The space complexity** is also O(2^n) because that's the number of subsets we generate."
   ]
  },
  {
   "cell_type": "markdown",
   "id": "b8804f66",
   "metadata": {},
   "source": [
    "**Solution Approach 2**\n",
    "\n",
    "**Optimized Approach:**\n",
    "\n",
    "An optimized approach is based on the observation that generating subsets can be seen as a binary decision for each element: either include it or exclude it. We can use a similar recursive approach but without explicitly generating all combinations. The subsets can be built by gradually adding elements to the current subset."
   ]
  },
  {
   "cell_type": "code",
   "execution_count": 11,
   "id": "64c65945",
   "metadata": {},
   "outputs": [],
   "source": [
    "#Optimized Approach:\n",
    "def generateSubsets(set):\n",
    "    if len(set) == 0:\n",
    "        return [\"\"]\n",
    "\n",
    "    subsets = []\n",
    "    first_element = set[0]\n",
    "    remaining_set = set[1:]\n",
    "    remaining_subsets = generateSubsets(remaining_set)\n",
    "\n",
    "    for subset in remaining_subsets:\n",
    "        subsets.append(subset)\n",
    "        subsets.append(first_element + subset)\n",
    "\n",
    "    return subsets"
   ]
  },
  {
   "cell_type": "markdown",
   "id": "fe96d6ff",
   "metadata": {},
   "source": [
    "**Test Case:**"
   ]
  },
  {
   "cell_type": "code",
   "execution_count": 12,
   "id": "c662b916",
   "metadata": {},
   "outputs": [
    {
     "name": "stdout",
     "output_type": "stream",
     "text": [
      "['', 'a', 'b', 'ab', 'c', 'ac', 'bc', 'abc']\n",
      "['', 'a', 'b', 'ab', 'c', 'ac', 'bc', 'abc', 'd', 'ad', 'bd', 'abd', 'cd', 'acd', 'bcd', 'abcd']\n"
     ]
    }
   ],
   "source": [
    "# Test case\n",
    "print(generateSubsets(\"abc\"))\n",
    "print(generateSubsets(\"abcd\"))"
   ]
  },
  {
   "cell_type": "markdown",
   "id": "e5937e21",
   "metadata": {},
   "source": [
    "**Discussion :**</br>\n",
    "\n",
    "**The time complexity** of this approach is also O(2^n) because we generate 2^n subsets.\n",
    "\n",
    "**The space complexity** is O(2^n) because we generate 2^n subsets."
   ]
  },
  {
   "cell_type": "markdown",
   "id": "979babb4",
   "metadata": {},
   "source": [
    "# Q4\n",
    "\n",
    "\n",
    "💡 **Question 4**\n",
    "\n",
    "Given a string calculate length of the string using recursion.\n",
    "\n",
    "**Examples:**\n",
    "\n",
    "Input : str = \"abcd\" <br>\n",
    "Output :4 <br>\n",
    "\n",
    "Input : str = \"GEEKSFORGEEKS\" <br>\n",
    "Output :13"
   ]
  },
  {
   "cell_type": "markdown",
   "id": "ff307d7a",
   "metadata": {},
   "source": [
    "# Ans.\n",
    "\n",
    "**Solution Approach 1**\n",
    "\n",
    "**Brute Force Approach:**\n",
    "\n",
    "The brute force approach involves recursively dividing the string until we reach the base case of an empty string. At each step, we remove the first character and recursively calculate the length of the remaining substring until we reach an empty string."
   ]
  },
  {
   "cell_type": "code",
   "execution_count": 13,
   "id": "fc7d4db9",
   "metadata": {},
   "outputs": [],
   "source": [
    "#Brute Force Approach:\n",
    "\n",
    "def stringLengthBruteForce(str):\n",
    "    if str == \"\":\n",
    "        return 0\n",
    "    return 1 + stringLengthBruteForce(str[1:])"
   ]
  },
  {
   "cell_type": "markdown",
   "id": "3d683c0f",
   "metadata": {},
   "source": [
    "**Test Case:**"
   ]
  },
  {
   "cell_type": "code",
   "execution_count": 14,
   "id": "eefea9ba",
   "metadata": {},
   "outputs": [
    {
     "name": "stdout",
     "output_type": "stream",
     "text": [
      "4\n",
      "13\n",
      "0\n"
     ]
    }
   ],
   "source": [
    "# Test cases\n",
    "print(stringLengthBruteForce(\"abcd\"))           \n",
    "print(stringLengthBruteForce(\"GEEKSFORGEEKS\"))  \n",
    "print(stringLengthBruteForce(\"\")) "
   ]
  },
  {
   "cell_type": "markdown",
   "id": "df586f71",
   "metadata": {},
   "source": [
    "**Discussion :**</br>\n",
    "\n",
    "**The time complexity** of this approach is O(n), where n is the length of the string. Each recursive call removes one character from the string until the base case is reached.\n",
    "\n",
    "**The space complexity** is O(n) due to the recursive calls and the memory stack required to store them."
   ]
  },
  {
   "cell_type": "markdown",
   "id": "ad76ef33",
   "metadata": {},
   "source": [
    "**Solution Approach 2**\n",
    "\n",
    "**Optimized Approach:**\n",
    "\n",
    "An optimized approach involves using tail recursion, where we pass the length of the string as a parameter to each recursive call. We reduce the string length by one in each recursive call until we reach the base case."
   ]
  },
  {
   "cell_type": "code",
   "execution_count": 15,
   "id": "f5b1d2c2",
   "metadata": {},
   "outputs": [],
   "source": [
    "#Optimized Approach:\n",
    "\n",
    "def stringLengthOptimized(str, length=0):\n",
    "    if str == \"\":\n",
    "        return length\n",
    "    return stringLengthOptimized(str[1:], length + 1)"
   ]
  },
  {
   "cell_type": "markdown",
   "id": "1c52f034",
   "metadata": {},
   "source": [
    "**Test Case:**"
   ]
  },
  {
   "cell_type": "code",
   "execution_count": 16,
   "id": "2f3bcc65",
   "metadata": {},
   "outputs": [
    {
     "name": "stdout",
     "output_type": "stream",
     "text": [
      "4\n",
      "13\n",
      "0\n"
     ]
    }
   ],
   "source": [
    "# Test cases\n",
    "print(stringLengthOptimized(\"abcd\"))\n",
    "print(stringLengthOptimized(\"GEEKSFORGEEKS\"))  \n",
    "print(stringLengthOptimized(\"\"))  "
   ]
  },
  {
   "cell_type": "markdown",
   "id": "825ecc9a",
   "metadata": {},
   "source": [
    "**Discussion :**</br>\n",
    "\n",
    "**The time complexity** and **space complexity** of this approach are the same as the brute force approach, which are O(n) and O(n), respectively.\n",
    "\n",
    "Both approaches provide the same result but differ in their implementation style and recursion strategy.\n"
   ]
  },
  {
   "cell_type": "markdown",
   "id": "2e86ffa1",
   "metadata": {},
   "source": [
    "# Q5\n",
    "\n",
    "\n",
    "💡 **Question 5**\n",
    "\n",
    "We are given a string S, we need to find count of all contiguous substrings starting and ending with same character.\n",
    "\n",
    "**Examples :**\n",
    "\n",
    "Input  : S = \"abcab\" <br>\n",
    "Output : 7 <br>\n",
    "There are 15 substrings of \"abcab\" <br>\n",
    "a, ab, abc, abca, abcab, b, bc, bca <br>\n",
    "bcab, c, ca, cab, a, ab, b <br>\n",
    "Out of the above substrings, there <br>\n",
    "are 7 substrings : a, abca, b, bcab, <br>\n",
    "c, a and b. <br>\n",
    "\n",
    "Input  : S = \"aba\" <br>\n",
    "Output : 4 <br>\n",
    "The substrings are a, b, a and aba <br>"
   ]
  },
  {
   "cell_type": "markdown",
   "id": "be752e8e",
   "metadata": {},
   "source": [
    "# Ans.\n",
    "\n",
    "**Solution Approach 1**\n",
    "\n",
    "**Brute Force Approach:**\n",
    "\n",
    "The brute force approach involves generating all possible substrings and checking if each substring starts and ends with the same character. We iterate over all possible substrings and count the substrings that meet the criteria."
   ]
  },
  {
   "cell_type": "code",
   "execution_count": 17,
   "id": "e46f50f9",
   "metadata": {},
   "outputs": [],
   "source": [
    "#Brute Force Approach:\n",
    "def countSubstringsBruteForce(S):\n",
    "    count = 0\n",
    "    n = len(S)\n",
    "\n",
    "    for i in range(n):\n",
    "        for j in range(i, n):\n",
    "            if S[i] == S[j]:\n",
    "                count += 1\n",
    "\n",
    "    return count"
   ]
  },
  {
   "cell_type": "markdown",
   "id": "6c546009",
   "metadata": {},
   "source": [
    "**Test Case:**"
   ]
  },
  {
   "cell_type": "code",
   "execution_count": 18,
   "id": "56f701eb",
   "metadata": {},
   "outputs": [
    {
     "name": "stdout",
     "output_type": "stream",
     "text": [
      "7\n",
      "4\n",
      "6\n"
     ]
    }
   ],
   "source": [
    "# Test cases\n",
    "print(countSubstringsBruteForce(\"abcab\"))\n",
    "print(countSubstringsBruteForce(\"aba\"))     \n",
    "print(countSubstringsBruteForce(\"aaa\"))"
   ]
  },
  {
   "cell_type": "markdown",
   "id": "0205845c",
   "metadata": {},
   "source": [
    "**Discussion :**</br>\n",
    "\n",
    "**The time complexity** of this approach is O(n^3) because we iterate over all possible substrings using two nested loops and check the start and end characters in each iteration.\n",
    "\n",
    "**The space complexity** is O(1) because we only use a constant amount of extra space to store the count."
   ]
  },
  {
   "cell_type": "markdown",
   "id": "46797a9c",
   "metadata": {},
   "source": [
    "**Solution Approach 2**\n",
    "\n",
    "**Optimized Approach:**\n",
    "\n",
    "An optimized approach involves counting the substrings by considering the number of characters between the first occurrence and the last occurrence of each character in the string. For each character, the number of substrings starting and ending with that character is equal to the number of characters between its first and last occurrences."
   ]
  },
  {
   "cell_type": "code",
   "execution_count": 19,
   "id": "3c7a9f72",
   "metadata": {},
   "outputs": [],
   "source": [
    "#Optimized Approach:\n",
    "\n",
    "def countSubstringsOptimized(S):\n",
    "    count = 0\n",
    "    n = len(S)\n",
    "\n",
    "    for i in range(n):\n",
    "        j = i\n",
    "        while j < n and S[i] == S[j]:\n",
    "            count += 1\n",
    "            j += 1\n",
    "\n",
    "    return count"
   ]
  },
  {
   "cell_type": "markdown",
   "id": "cee7a20a",
   "metadata": {},
   "source": [
    "**Test Case:**"
   ]
  },
  {
   "cell_type": "code",
   "execution_count": 20,
   "id": "c1e99fbb",
   "metadata": {},
   "outputs": [
    {
     "name": "stdout",
     "output_type": "stream",
     "text": [
      "5\n",
      "3\n",
      "6\n"
     ]
    }
   ],
   "source": [
    "# Test cases\n",
    "print(countSubstringsOptimized(\"abcab\"))\n",
    "print(countSubstringsOptimized(\"aba\")) \n",
    "print(countSubstringsOptimized(\"aaa\"))"
   ]
  },
  {
   "cell_type": "markdown",
   "id": "d7bab870",
   "metadata": {},
   "source": [
    "**Discussion :**</br>\n",
    "\n",
    "**The time complexity** of this approach is O(n) because we iterate over the string once to count the substrings.\n",
    "\n",
    "**The space complexity** is O(1) because we only use a constant amount of extra space to store the count."
   ]
  },
  {
   "cell_type": "markdown",
   "id": "bc18e7ff",
   "metadata": {},
   "source": [
    "# Q6\n",
    "\n",
    "\n",
    "💡 **Question 6**\n",
    "\n",
    "The [tower of Hanoi](https://en.wikipedia.org/wiki/Tower_of_Hanoi) is a famous puzzle where we have three rods and **N** disks. The objective of the puzzle is to move the entire stack to another rod. You are given the number of discs **N**. Initially, these discs are in the rod 1. You need to print all the steps of discs movement so that all the discs reach the 3rd rod. Also, you need to find the total moves.**Note:** The discs are arranged such that the **top disc is numbered 1** and the **bottom-most disc is numbered N**. Also, all the discs have **different sizes** and a bigger disc **cannot** be put on the top of a smaller disc. Refer the provided link to get a better clarity about the puzzle.\n",
    "\n",
    "**Example 1:**\n",
    "\n",
    ">Input: <br>\n",
    ">N = 2 <br>\n",
    ">Output:\n",
    ">move disk 1 from rod 1 to rod 2 <br>\n",
    ">move disk 2 from rod 1 to rod 3 <br>\n",
    ">move disk 1 from rod 2 to rod 3 <br>\n",
    ">3 <br>\n",
    ">Explanation:For N=2 , steps will be <br>\n",
    ">as follows in the example and total <br>\n",
    ">3 steps will be taken. <br>\n",
    "\n",
    "**Example 2:**\n",
    "\n",
    ">Input: <br>\n",
    ">N = 3 <br>\n",
    ">Output:\n",
    ">move disk 1 from rod 1 to rod 3 <br>\n",
    ">move disk 2 from rod 1 to rod 2 <br>\n",
    ">move disk 1 from rod 3 to rod 2 <br>\n",
    ">move disk 3 from rod 1 to rod 3 <br>\n",
    ">move disk 1 from rod 2 to rod 1 <br>\n",
    ">move disk 2 from rod 2 to rod 3 <br>\n",
    ">move disk 1 from rod 1 to rod 3 <br>\n",
    ">7 <br>\n",
    ">Explanation:For N=3 , steps will be <br>\n",
    ">as follows in the example and total <br>\n",
    ">7 steps will be taken. <br>"
   ]
  },
  {
   "cell_type": "markdown",
   "id": "72c01bf6",
   "metadata": {},
   "source": [
    "# Ans.\n",
    "\n",
    "**Solution Approach 1**\n",
    "\n",
    "**Brute Force Approach:**\n",
    "\n",
    "The brute force approach involves directly simulating the movements of the disks according to the rules of the puzzle. We can use a helper function to print the steps of disk movements and keep track of the total moves."
   ]
  },
  {
   "cell_type": "code",
   "execution_count": 21,
   "id": "bb4b8c3b",
   "metadata": {},
   "outputs": [],
   "source": [
    "#Brute Force Approach:\n",
    "\n",
    "def towerOfHanoiBruteForce(n, source=1, destination=3, auxiliary=2):\n",
    "    def moveDisk(disk, source, destination):\n",
    "        print(\"Move disk\", disk, \"from rod\", source, \"to rod\", destination)\n",
    "\n",
    "    def towerOfHanoiUtil(n, source, destination, auxiliary):\n",
    "        if n == 1:\n",
    "            moveDisk(n, source, destination)\n",
    "            return 1\n",
    "\n",
    "        moves = 0\n",
    "        moves += towerOfHanoiUtil(n-1, source, auxiliary, destination)\n",
    "        moveDisk(n, source, destination)\n",
    "        moves += 1\n",
    "        moves += towerOfHanoiUtil(n-1, auxiliary, destination, source)\n",
    "\n",
    "        return moves\n",
    "\n",
    "    total_moves = towerOfHanoiUtil(n, source, destination, auxiliary)\n",
    "    return total_moves"
   ]
  },
  {
   "cell_type": "markdown",
   "id": "2a4a03ae",
   "metadata": {},
   "source": [
    "**Test Case:**"
   ]
  },
  {
   "cell_type": "code",
   "execution_count": 22,
   "id": "13e03784",
   "metadata": {},
   "outputs": [
    {
     "name": "stdout",
     "output_type": "stream",
     "text": [
      "Move disk 1 from rod 1 to rod 2\n",
      "Move disk 2 from rod 1 to rod 3\n",
      "Move disk 1 from rod 2 to rod 3\n",
      "3\n",
      "\n",
      "Move disk 1 from rod 1 to rod 3\n",
      "Move disk 2 from rod 1 to rod 2\n",
      "Move disk 1 from rod 3 to rod 2\n",
      "Move disk 3 from rod 1 to rod 3\n",
      "Move disk 1 from rod 2 to rod 1\n",
      "Move disk 2 from rod 2 to rod 3\n",
      "Move disk 1 from rod 1 to rod 3\n",
      "7\n"
     ]
    }
   ],
   "source": [
    "# Test cases for Brute Force Approach\n",
    "\n",
    "print(towerOfHanoiBruteForce(2))\n",
    "\n",
    "print()\n",
    "print(towerOfHanoiBruteForce(3))\n"
   ]
  },
  {
   "cell_type": "markdown",
   "id": "a61dfccb",
   "metadata": {},
   "source": [
    "**Discussion :**</br>\n",
    "\n",
    "The brute force approach directly prints the steps of disk movements and returns the total number of moves made during the process. **The Time Complexity** of this approach is O(2^n), and **The Space Complexity** is O(n) due to the recursive calls.\n"
   ]
  },
  {
   "cell_type": "markdown",
   "id": "924f3def",
   "metadata": {},
   "source": [
    "**Solution Approach 2**\n",
    "\n",
    "**Optimized Approach:**\n",
    "\n",
    "The optimized approach uses a mathematical property of the Tower of Hanoi problem. The number of moves required to solve the problem for N disks is given by the formula 2^N - 1. Instead of simulating the movements, we can directly calculate the total moves using this formula."
   ]
  },
  {
   "cell_type": "code",
   "execution_count": 23,
   "id": "8476a29e",
   "metadata": {},
   "outputs": [],
   "source": [
    "#Optimized Approach:\n",
    "\n",
    "def towerOfHanoiOptimized(n):\n",
    "    total_moves = 2**n - 1\n",
    "    return total_moves"
   ]
  },
  {
   "cell_type": "markdown",
   "id": "4951d505",
   "metadata": {},
   "source": [
    "**Test Case:**"
   ]
  },
  {
   "cell_type": "code",
   "execution_count": 24,
   "id": "da825038",
   "metadata": {},
   "outputs": [
    {
     "name": "stdout",
     "output_type": "stream",
     "text": [
      "3\n",
      "\n",
      "7\n"
     ]
    }
   ],
   "source": [
    "# Test cases for Optimized Approach\n",
    "print(towerOfHanoiOptimized(2))   \n",
    "print()\n",
    "print(towerOfHanoiOptimized(3))"
   ]
  },
  {
   "cell_type": "markdown",
   "id": "7808e1d3",
   "metadata": {},
   "source": [
    "**Discussion :**</br>\n",
    "\n",
    "The optimized approach directly calculates the total number of moves using the formula 2^N - 1. **The Time Complexity** of this approach is O(1), and **The Space Complexity** is also O(1) as we are only storing the result."
   ]
  },
  {
   "cell_type": "markdown",
   "id": "e4d67de9",
   "metadata": {},
   "source": [
    "# Q7\n",
    "\n",
    "💡 **Question 7**\n",
    "\n",
    "Given a string **str**, the task is to print all the permutations of **str**. A **permutation** is an arrangement of all or part of a set of objects, with regard to the order of the arrangement. For instance, the words ‘bat’ and ‘tab’ represents two distinct permutation (or arrangements) of a similar three letter word.\n",
    "\n",
    "**Examples:**\n",
    "\n",
    "> Input: str = “cd”\n",
    "> \n",
    "> \n",
    "> **Output:** cd dc\n",
    "> \n",
    "> **Input:** str = “abb”\n",
    "> \n",
    "> **Output:** abb abb bab bba bab bba\n",
    ">"
   ]
  },
  {
   "cell_type": "markdown",
   "id": "525ad047",
   "metadata": {},
   "source": [
    "# Ans.\n",
    "\n",
    "**Solution Approach 1**\n",
    "\n",
    "**Brute Force Approach:**\n",
    "\n",
    "The brute force approach involves generating all possible permutations of the string and printing them. We can use recursion to generate permutations by fixing each character at the beginning and swapping the remaining characters."
   ]
  },
  {
   "cell_type": "code",
   "execution_count": 25,
   "id": "9057629a",
   "metadata": {},
   "outputs": [],
   "source": [
    "#Brute Force Approach:\n",
    "\n",
    "def permutationsBruteForce(str):\n",
    "    def swap(chars, i, j):\n",
    "        temp = chars[i]\n",
    "        chars[i] = chars[j]\n",
    "        chars[j] = temp\n",
    "\n",
    "    def generatePermutations(chars, start, result):\n",
    "        if start == len(chars) - 1:\n",
    "            result.append(''.join(chars))\n",
    "            return\n",
    "\n",
    "        for i in range(start, len(chars)):\n",
    "            swap(chars, start, i)\n",
    "            generatePermutations(chars, start + 1, result)\n",
    "            swap(chars, start, i)\n",
    "\n",
    "    result = []\n",
    "    chars = list(str)\n",
    "    generatePermutations(chars, 0, result)\n",
    "    return result"
   ]
  },
  {
   "cell_type": "markdown",
   "id": "77502248",
   "metadata": {},
   "source": [
    "**Test Case:**"
   ]
  },
  {
   "cell_type": "code",
   "execution_count": 26,
   "id": "e9d81a1d",
   "metadata": {},
   "outputs": [
    {
     "name": "stdout",
     "output_type": "stream",
     "text": [
      "['cd', 'dc']\n",
      "['abb', 'abb', 'bab', 'bba', 'bba', 'bab']\n"
     ]
    }
   ],
   "source": [
    "# Test cases for Brute Force Approach\n",
    "\n",
    "print(permutationsBruteForce(\"cd\"))\n",
    "\n",
    "print(permutationsBruteForce(\"abb\"))"
   ]
  },
  {
   "cell_type": "markdown",
   "id": "ccd490cf",
   "metadata": {},
   "source": [
    "**Discussion :**</br>\n",
    "\n",
    "The brute force approach generates all possible permutations by recursively swapping characters. \n",
    "\n",
    "**The Time Complexity** of this approach is O(n!), where n is the length of the string.\n",
    "\n",
    "**The space complexity** is O(n!) as well, as we need to store all the generated permutations."
   ]
  },
  {
   "cell_type": "markdown",
   "id": "efdecf6e",
   "metadata": {},
   "source": [
    "**Solution Approach 2**\n",
    "\n",
    "**Optimized Approach:**\n",
    "\n",
    "The optimized approach uses the itertools module in Python, specifically the permutations() function, to generate all permutations of the string."
   ]
  },
  {
   "cell_type": "code",
   "execution_count": 27,
   "id": "d35d4819",
   "metadata": {},
   "outputs": [],
   "source": [
    "from itertools import permutations\n",
    "\n",
    "def permutationsOptimized(str):\n",
    "    perms = [''.join(perm) for perm in permutations(str)]\n",
    "    return perms"
   ]
  },
  {
   "cell_type": "markdown",
   "id": "0697dd3a",
   "metadata": {},
   "source": [
    "**Test Case:**"
   ]
  },
  {
   "cell_type": "code",
   "execution_count": 28,
   "id": "7728d11a",
   "metadata": {},
   "outputs": [
    {
     "name": "stdout",
     "output_type": "stream",
     "text": [
      "['cd', 'dc']\n",
      "['abb', 'abb', 'bab', 'bba', 'bab', 'bba']\n"
     ]
    }
   ],
   "source": [
    "# Test cases for Optimized Approach\n",
    "\n",
    "print(permutationsOptimized(\"cd\"))\n",
    "\n",
    "\n",
    "print(permutationsOptimized(\"abb\"))"
   ]
  },
  {
   "cell_type": "markdown",
   "id": "6e78650b",
   "metadata": {},
   "source": [
    "**Discussion :**</br>\n",
    "\n",
    "The optimized approach leverages the permutations() function from the itertools module to generate all permutations of the string. \n",
    "\n",
    "**The time complexity** of this approach is O(n!), where n is the length of the string. \n",
    "\n",
    "**The space complexity** is O(n!) as well, as we need to store all the generated permutations."
   ]
  },
  {
   "cell_type": "markdown",
   "id": "00a4e972",
   "metadata": {},
   "source": [
    "# Q8\n",
    "\n",
    "💡 **Question 8**\n",
    "\n",
    "Given a string, count total number of consonants in it. A consonant is an English alphabet character that is not vowel (a, e, i, o and u). Examples of constants are b, c, d, f, and g.\n",
    "\n",
    "**Examples :**\n",
    "\n",
    "```\n",
    "Input : abc de\n",
    "Output : 3\n",
    "There are three consonants b, c and d.\n",
    "\n",
    "Input : geeksforgeeks portal\n",
    "Output : 12\n",
    "```\n"
   ]
  },
  {
   "cell_type": "markdown",
   "id": "ad2027ec",
   "metadata": {},
   "source": [
    "# Ans.\n",
    "\n",
    "**Solution Approach 1**\n",
    "\n",
    "**Brute Force Approach:**\n",
    "\n",
    "The brute force approach involves iterating through each character in the string and checking if it is a consonant. We can define a set of vowels and count the characters that are not present in the vowel set."
   ]
  },
  {
   "cell_type": "code",
   "execution_count": 29,
   "id": "25f6ad6d",
   "metadata": {},
   "outputs": [],
   "source": [
    "#Brute Force Approach:\n",
    "\n",
    "def countConsonantsBruteForce(string):\n",
    "    vowels = {'a', 'e', 'i', 'o', 'u'}\n",
    "    count = 0\n",
    "\n",
    "    for char in string:\n",
    "        if char.isalpha() and char.lower() not in vowels:\n",
    "            count += 1\n",
    "\n",
    "    return count"
   ]
  },
  {
   "cell_type": "markdown",
   "id": "6701405f",
   "metadata": {},
   "source": [
    "**Test Case:**"
   ]
  },
  {
   "cell_type": "code",
   "execution_count": 30,
   "id": "3108cd61",
   "metadata": {},
   "outputs": [
    {
     "name": "stdout",
     "output_type": "stream",
     "text": [
      "3\n",
      "12\n"
     ]
    }
   ],
   "source": [
    "# Test cases for Brute Force Approach\n",
    "\n",
    "print(countConsonantsBruteForce(\"abc de\"))\n",
    "\n",
    "print(countConsonantsBruteForce(\"geeksforgeeks portal\"))"
   ]
  },
  {
   "cell_type": "markdown",
   "id": "9774783d",
   "metadata": {},
   "source": [
    "**Discussion :**</br>\n",
    "\n",
    "The brute force approach iterates through each character, checks if it is an alphabet character, and not a vowel. If the condition is satisfied, the consonant count is incremented.\n",
    "\n",
    "**The time complexity** of this approach is O(n), where n is the length of the string.\n",
    "\n",
    "**The space complexity** is O(1) as we are using a fixed set of vowels."
   ]
  },
  {
   "cell_type": "markdown",
   "id": "020d5f02",
   "metadata": {},
   "source": [
    "**Solution Approach 2**\n",
    "\n",
    "**Optimized Approach:**\n",
    "\n",
    "The optimized approach utilizes regular expressions to count the total number of consonants in the string. We can use the re module in Python to match and count the consonant characters using a regular expression pattern. "
   ]
  },
  {
   "cell_type": "code",
   "execution_count": 31,
   "id": "5e811b36",
   "metadata": {},
   "outputs": [],
   "source": [
    "import re\n",
    "\n",
    "def countConsonantsOptimized(string):\n",
    "    consonant_pattern = r'(?i)[^aeiou\\W\\d_]'\n",
    "    count = len(re.findall(consonant_pattern, string))\n",
    "    return count"
   ]
  },
  {
   "cell_type": "markdown",
   "id": "a57a9d0e",
   "metadata": {},
   "source": [
    "**Test Case:**"
   ]
  },
  {
   "cell_type": "code",
   "execution_count": 32,
   "id": "13f98919",
   "metadata": {},
   "outputs": [
    {
     "name": "stdout",
     "output_type": "stream",
     "text": [
      "3\n",
      "12\n"
     ]
    }
   ],
   "source": [
    "# Test cases for Optimized Approach\n",
    "\n",
    "print(countConsonantsOptimized(\"abc de\"))\n",
    "\n",
    "print(countConsonantsOptimized(\"geeksforgeeks portal\"))"
   ]
  },
  {
   "cell_type": "markdown",
   "id": "c278b53a",
   "metadata": {},
   "source": [
    "**Discussion :**</br>\n",
    "\n",
    "The optimized approach uses a regular expression pattern to match and count the consonant characters in the string. \n",
    "\n",
    "**The time complexity** of this approach depends on the regular expression matching, but it is generally efficient. \n",
    "\n",
    "**The space complexity** is O(1) as we are not using any additional data structures."
   ]
  }
 ],
 "metadata": {
  "kernelspec": {
   "display_name": "Python 3 (ipykernel)",
   "language": "python",
   "name": "python3"
  },
  "language_info": {
   "codemirror_mode": {
    "name": "ipython",
    "version": 3
   },
   "file_extension": ".py",
   "mimetype": "text/x-python",
   "name": "python",
   "nbconvert_exporter": "python",
   "pygments_lexer": "ipython3",
   "version": "3.9.13"
  }
 },
 "nbformat": 4,
 "nbformat_minor": 5
}
