{
 "cells": [
  {
   "cell_type": "markdown",
   "id": "4f63ecc3",
   "metadata": {},
   "source": [
    "# Q1\n",
    "\n",
    "\n",
    "💡 **Question 1**\n",
    "\n",
    "Given an array, for each element find the value of the nearest element to the right which is having a frequency greater than that of the current element. If there does not exist an answer for a position, then make the value ‘-1’.\n",
    "\n",
    "**Examples:**\n",
    "\n",
    "Input: a[] = [1, 1, 2, 3, 4, 2, 1]\n",
    "Output : [-1, -1, 1, 2, 2, 1, -1]\n",
    "\n",
    "Explanation:\n",
    "Given array a[] = [1, 1, 2, 3, 4, 2, 1]\n",
    "Frequency of each element is: 3, 3, 2, 1, 1, 2, 3\n",
    "\n",
    "Lets calls Next Greater Frequency element as NGF\n",
    "1. For element a[0] = 1 which has a frequency = 3,\n",
    "   As it has frequency of 3 and no other next element\n",
    "   has frequency more than 3 so  '-1'\n",
    "2. For element a[1] = 1 it will be -1 same logic\n",
    "   like a[0]\n",
    "3. For element a[2] = 2 which has frequency = 2,\n",
    "   NGF element is 1 at position = 6  with frequency\n",
    "   of 3 > 2\n",
    "4. For element a[3] = 3 which has frequency = 1,\n",
    "   NGF element is 2 at position = 5 with frequency\n",
    "   of 2 > 1\n",
    "5. For element a[4] = 4 which has frequency = 1,\n",
    "   NGF element is 2 at position = 5 with frequency\n",
    "   of 2 > 1\n",
    "6. For element a[5] = 2 which has frequency = 2,\n",
    "   NGF element is 1 at position = 6 with frequency\n",
    "   of 3 > 2\n",
    "7. For element a[6] = 1 there is no element to its\n",
    "   right, hence -1\n",
    "\n",
    "```\n",
    "Input : a[] = [1, 1, 1, 2, 2, 2, 2, 11, 3, 3]\n",
    "\n",
    "Output : [2, 2, 2, -1, -1, -1, -1, 3, -1, -1]\n",
    "\n",
    "```"
   ]
  },
  {
   "cell_type": "markdown",
   "id": "835e1103",
   "metadata": {},
   "source": [
    "# Ans.\n",
    "\n",
    "**Solution Approach 1**\n",
    "\n",
    "**Brute Force Approach:**\n",
    "\n",
    "One straightforward approach to solve this problem is by using nested loops. For each element in the array, we can iterate through the elements to its right and calculate the frequency of each element. If we find an element with a frequency greater than the current element's frequency, we store its value. Otherwise, we set the value as '-1'."
   ]
  },
  {
   "cell_type": "code",
   "execution_count": 1,
   "id": "8ce492d1",
   "metadata": {},
   "outputs": [],
   "source": [
    "def find_next_greater_frequency(arr):\n",
    "    n = len(arr)\n",
    "    result = [-1] * n\n",
    "\n",
    "    for i in range(n):\n",
    "        freq = arr.count(arr[i])\n",
    "        ngf = -1\n",
    "\n",
    "        for j in range(i + 1, n):\n",
    "            if arr[j] != arr[i] and arr.count(arr[j]) > freq:\n",
    "                ngf = arr[j]\n",
    "                break\n",
    "\n",
    "        result[i] = ngf\n",
    "\n",
    "    return result"
   ]
  },
  {
   "cell_type": "markdown",
   "id": "5d063898",
   "metadata": {},
   "source": [
    "**Test Case:**"
   ]
  },
  {
   "cell_type": "code",
   "execution_count": 2,
   "id": "8f3bfab0",
   "metadata": {},
   "outputs": [
    {
     "name": "stdout",
     "output_type": "stream",
     "text": [
      "[-1, -1, 1, 2, 2, 1, -1]\n"
     ]
    }
   ],
   "source": [
    "# Brute Force Approach Test Cases\n",
    "arr1 = [1, 1, 2, 3, 4, 2, 1]\n",
    "print(find_next_greater_frequency(arr1))"
   ]
  },
  {
   "cell_type": "code",
   "execution_count": 3,
   "id": "0fdf34da",
   "metadata": {},
   "outputs": [
    {
     "name": "stdout",
     "output_type": "stream",
     "text": [
      "[2, 2, 2, -1, -1, -1, -1, 3, -1, -1]\n"
     ]
    }
   ],
   "source": [
    "# Brute Force Approach Test Cases\n",
    "\n",
    "arr2 = [1, 1, 1, 2, 2, 2, 2, 11, 3, 3]\n",
    "print(find_next_greater_frequency(arr2))"
   ]
  },
  {
   "cell_type": "markdown",
   "id": "44fc6945",
   "metadata": {},
   "source": [
    "**Discussion :**</br>\n",
    "\n",
    "**The time complexity** of this approach is O(n^2), where n is the length of the input array. This is because, for each element, we potentially iterate through all the remaining elements to its right. \n",
    "\n",
    "**The space complexity** is O(1) since we are using a constant amount of space to store the result."
   ]
  },
  {
   "cell_type": "markdown",
   "id": "1f978c0e",
   "metadata": {},
   "source": [
    "**Solution Approach 2**\n",
    "\n",
    "**Optimized Approach:**\n",
    "\n",
    "To improve the efficiency of the solution, we can make use of a frequency dictionary and a stack. We traverse the array from right to left and keep track of the frequency of each element using the dictionary. We also use a stack to store the elements in the decreasing order of their frequencies. By doing this, the top of the stack will always have the element with the maximum frequency encountered so far. "
   ]
  },
  {
   "cell_type": "code",
   "execution_count": 4,
   "id": "35c7fa37",
   "metadata": {},
   "outputs": [],
   "source": [
    "def find_next_greater_frequency(arr):\n",
    "    n = len(arr)\n",
    "    freq_dict = {}\n",
    "    stack = []\n",
    "    result = [-1] * n\n",
    "\n",
    "    for i in range(n - 1, -1, -1):\n",
    "        if arr[i] in freq_dict:\n",
    "            freq_dict[arr[i]] += 1\n",
    "        else:\n",
    "            freq_dict[arr[i]] = 1\n",
    "\n",
    "        while stack and freq_dict[arr[i]] >= freq_dict[stack[-1]]:\n",
    "            stack.pop()\n",
    "\n",
    "        if stack:\n",
    "            result[i] = stack[-1]\n",
    "\n",
    "        stack.append(arr[i])\n",
    "\n",
    "    return result\n"
   ]
  },
  {
   "cell_type": "markdown",
   "id": "948800a0",
   "metadata": {},
   "source": [
    "**Test Case:**"
   ]
  },
  {
   "cell_type": "code",
   "execution_count": 5,
   "id": "aefecf73",
   "metadata": {},
   "outputs": [
    {
     "name": "stdout",
     "output_type": "stream",
     "text": [
      "[-1, -1, -1, -1, -1, -1, -1]\n"
     ]
    }
   ],
   "source": [
    "# Optimized Approach Test Cases\n",
    "arr3 = [1, 1, 2, 3, 4, 2, 1]\n",
    "print(find_next_greater_frequency(arr3))"
   ]
  },
  {
   "cell_type": "code",
   "execution_count": 6,
   "id": "0df9093c",
   "metadata": {},
   "outputs": [
    {
     "name": "stdout",
     "output_type": "stream",
     "text": [
      "[2, 2, 2, -1, -1, -1, 3, 3, -1, -1]\n"
     ]
    }
   ],
   "source": [
    "# Optimized Approach Test Cases\n",
    "arr4 = [1, 1, 1, 2, 2, 2, 2, 11, 3, 3]\n",
    "print(find_next_greater_frequency(arr4))"
   ]
  },
  {
   "cell_type": "markdown",
   "id": "a7365069",
   "metadata": {},
   "source": [
    "**Discussion :**</br>\n",
    "\n",
    "**The time complexity** of this optimized approach is O(n), where n is the length of the input array. We traverse the array only once, and for each element, we perform constant time operations such as dictionary lookups and stack operations. \n",
    "\n",
    "**The space complexity** is O(n) as we need additional space to store the frequency dictionary, stack, and the result array."
   ]
  },
  {
   "cell_type": "markdown",
   "id": "f6145c5d",
   "metadata": {},
   "source": [
    "# Q2\n",
    "\n",
    "💡 **Question 2**\n",
    "\n",
    "Given a stack of integers, sort it in ascending order using another temporary stack.\n",
    "\n",
    "**Examples:**\n",
    "\n",
    "```\n",
    "Input : [34, 3, 31, 98, 92, 23]\n",
    "Output : [3, 23, 31, 34, 92, 98]\n",
    "\n",
    "Input : [3, 5, 1, 4, 2, 8]\n",
    "Output : [1, 2, 3, 4, 5, 8]\n",
    "```"
   ]
  },
  {
   "cell_type": "markdown",
   "id": "3b23346f",
   "metadata": {},
   "source": [
    "# Ans.\n",
    "\n",
    "**Solution Approach 1**\n",
    "\n",
    "**Brute Force Approach:**\n",
    "\n",
    "One simple approach to sort a stack in ascending order is to use a temporary stack. We can repeatedly pop elements from the original stack and compare them with the top element of the temporary stack. If the current element is greater than the top element of the temporary stack, we push it onto the temporary stack. Otherwise, we keep popping elements from the temporary stack and pushing them back onto the original stack until we find the correct position for the current element."
   ]
  },
  {
   "cell_type": "code",
   "execution_count": 7,
   "id": "fe11f38c",
   "metadata": {},
   "outputs": [],
   "source": [
    "def sort_stack(stack):\n",
    "    temp_stack = []\n",
    "\n",
    "    while stack:\n",
    "        temp = stack.pop()\n",
    "\n",
    "        while temp_stack and temp_stack[-1] > temp:\n",
    "            stack.append(temp_stack.pop())\n",
    "\n",
    "        temp_stack.append(temp)\n",
    "\n",
    "    return temp_stack[::-1]\n"
   ]
  },
  {
   "cell_type": "markdown",
   "id": "b8c89895",
   "metadata": {},
   "source": [
    "**Test Case:**"
   ]
  },
  {
   "cell_type": "code",
   "execution_count": 8,
   "id": "8c3bc9c2",
   "metadata": {},
   "outputs": [
    {
     "name": "stdout",
     "output_type": "stream",
     "text": [
      "[98, 92, 34, 31, 23, 3]\n"
     ]
    }
   ],
   "source": [
    "# Brute Force Approach Test Cases\n",
    "stack1 = [34, 3, 31, 98, 92, 23]\n",
    "print(sort_stack(stack1))\n"
   ]
  },
  {
   "cell_type": "code",
   "execution_count": 9,
   "id": "26673adb",
   "metadata": {},
   "outputs": [
    {
     "name": "stdout",
     "output_type": "stream",
     "text": [
      "[8, 5, 4, 3, 2, 1]\n"
     ]
    }
   ],
   "source": [
    "stack2 = [3, 5, 1, 4, 2, 8]\n",
    "print(sort_stack(stack2))"
   ]
  },
  {
   "cell_type": "markdown",
   "id": "78376389",
   "metadata": {},
   "source": [
    "**Discussion :**</br>\n",
    "\n",
    "**The time complexity** of this approach is O(n^2), where n is the number of elements in the stack. In the worst case, for each element, we may need to pop all the elements from the temporary stack. \n",
    "\n",
    "**The space complexity** is O(n) since we are using an additional stack to store the elements."
   ]
  },
  {
   "cell_type": "markdown",
   "id": "3c294f29",
   "metadata": {},
   "source": [
    "**Solution Approach 2**\n",
    "\n",
    "**Optimized Approach:**\n",
    "\n",
    "To improve the efficiency of the solution, we can use a modified version of the insertion sort algorithm. Instead of using a temporary stack, we can directly insert elements into their correct positions in the original stack. By maintaining the original stack in sorted order, we can avoid the repeated popping and pushing operations."
   ]
  },
  {
   "cell_type": "code",
   "execution_count": 10,
   "id": "1094a08b",
   "metadata": {},
   "outputs": [],
   "source": [
    "def sort_stack(stack):\n",
    "    temp_stack = []\n",
    "\n",
    "    while stack:\n",
    "        temp = stack.pop()\n",
    "\n",
    "        while temp_stack and temp_stack[-1] > temp:\n",
    "            stack.append(temp_stack.pop())\n",
    "\n",
    "        temp_stack.append(temp)\n",
    "\n",
    "    while temp_stack:\n",
    "        stack.append(temp_stack.pop())\n",
    "\n",
    "    return stack\n"
   ]
  },
  {
   "cell_type": "markdown",
   "id": "c2e88c4a",
   "metadata": {},
   "source": [
    "**Test Case:**"
   ]
  },
  {
   "cell_type": "code",
   "execution_count": 11,
   "id": "0d45f5af",
   "metadata": {},
   "outputs": [
    {
     "name": "stdout",
     "output_type": "stream",
     "text": [
      "[98, 92, 34, 31, 23, 3]\n"
     ]
    }
   ],
   "source": [
    "# Optimized Approach Test Cases\n",
    "stack3 = [34, 3, 31, 98, 92, 23]\n",
    "print(sort_stack(stack3))\n"
   ]
  },
  {
   "cell_type": "code",
   "execution_count": 12,
   "id": "090cf344",
   "metadata": {},
   "outputs": [
    {
     "name": "stdout",
     "output_type": "stream",
     "text": [
      "[8, 5, 4, 3, 2, 1]\n"
     ]
    }
   ],
   "source": [
    "stack4 = [3, 5, 1, 4, 2, 8]\n",
    "print(sort_stack(stack4))"
   ]
  },
  {
   "cell_type": "markdown",
   "id": "1f54290e",
   "metadata": {},
   "source": [
    "**Discussion :**</br>\n",
    "\n",
    "**The time complexity** of this optimized approach is O(n^2), same as the brute force approach. However, the optimized approach can be more efficient in practice because it minimizes the number of operations performed on the stacks. \n",
    "\n",
    "**The space complexity** is O(n) as we are using an additional temporary stack, but the original stack is modified in place."
   ]
  },
  {
   "cell_type": "markdown",
   "id": "df948b32",
   "metadata": {},
   "source": [
    "# Q3\n",
    "\n",
    "\n",
    "💡 **Question 3**\n",
    "\n",
    "Given a stack with **push()**, **pop()**, and **empty()** operations, The task is to delete the **middle** element of it without using any additional data structure.\n",
    "```\n",
    "Input  : Stack[] = [1, 2, 3, 4, 5]\n",
    "\n",
    "Output : Stack[] = [1, 2, 4, 5]\n",
    "\n",
    "Input  : Stack[] = [1, 2, 3, 4, 5, 6]\n",
    "\n",
    "Output : Stack[] = [1, 2, 4, 5, 6]\n",
    "```\n"
   ]
  },
  {
   "cell_type": "markdown",
   "id": "6f8ddef9",
   "metadata": {},
   "source": [
    "# Ans.\n",
    "\n",
    "**Solution Approach 1**\n",
    "\n",
    "\n",
    "**Brute Force Approach:**\n",
    "\n",
    "A brute force approach to delete the middle element from a stack without using any additional data structure involves finding the middle index of the stack and then popping elements until the middle index is reached. To find the middle index, we can use the size of the stack."
   ]
  },
  {
   "cell_type": "code",
   "execution_count": 13,
   "id": "4bef92e7",
   "metadata": {},
   "outputs": [],
   "source": [
    "def delete_middle_element(stack):\n",
    "    if len(stack) == 0:\n",
    "        return stack\n",
    "\n",
    "    size = len(stack)\n",
    "    middle = size // 2\n",
    "\n",
    "    if size % 2 == 0:\n",
    "        k = middle - 1\n",
    "    else:\n",
    "        k = middle\n",
    "\n",
    "    remove_middle(stack, k)\n",
    "    return stack\n",
    "\n",
    "def remove_middle(stack, k):\n",
    "    if k == 0:\n",
    "        stack.pop()\n",
    "        return\n",
    "\n",
    "    temp = stack.pop()\n",
    "    remove_middle(stack, k - 1)\n",
    "    stack.append(temp)\n",
    "\n"
   ]
  },
  {
   "cell_type": "markdown",
   "id": "05794369",
   "metadata": {},
   "source": [
    "**Test Case:**"
   ]
  },
  {
   "cell_type": "code",
   "execution_count": 14,
   "id": "202266cd",
   "metadata": {},
   "outputs": [
    {
     "name": "stdout",
     "output_type": "stream",
     "text": [
      "[1, 2, 4, 5]\n"
     ]
    }
   ],
   "source": [
    "# Brute Force Approach Test Cases\n",
    "stack1 = [1, 2, 3, 4, 5]\n",
    "print(delete_middle_element(stack1))\n"
   ]
  },
  {
   "cell_type": "code",
   "execution_count": 15,
   "id": "5e1a4934",
   "metadata": {},
   "outputs": [
    {
     "name": "stdout",
     "output_type": "stream",
     "text": [
      "[1, 2, 3, 5, 6]\n"
     ]
    }
   ],
   "source": [
    "stack2 = [1, 2, 3, 4, 5, 6]\n",
    "print(delete_middle_element(stack2))"
   ]
  },
  {
   "cell_type": "markdown",
   "id": "1377953d",
   "metadata": {},
   "source": [
    "**Discussion :**</br>\n",
    "\n",
    "**The time complexity** of this approach is O(n), where n is the number of elements in the stack. In the worst case, we need to pop approximately half of the elements to reach the middle index. \n",
    "\n",
    "**The space complexity** is O(1) since we are not using any additional data structure."
   ]
  },
  {
   "cell_type": "markdown",
   "id": "972902a4",
   "metadata": {},
   "source": [
    "**Solution Approach 2**\n",
    "\n",
    "**Optimized Approach:**\n",
    "\n",
    "An optimized approach to delete the middle element from a stack without using any additional data structure is to use recursion. We can recursively remove elements from the stack until we reach the middle element, and then skip deleting it. After reaching the middle element, we continue the recursion to restore the elements back to the stack."
   ]
  },
  {
   "cell_type": "code",
   "execution_count": 16,
   "id": "1dae5a3e",
   "metadata": {},
   "outputs": [],
   "source": [
    "def delete_middle_element(stack):\n",
    "    if not stack:\n",
    "        return stack\n",
    "\n",
    "    middle = len(stack) // 2\n",
    "\n",
    "    if middle == 0:\n",
    "        stack.pop()\n",
    "        return stack\n",
    "\n",
    "    temp = stack.pop()\n",
    "    stack = delete_middle_element(stack)\n",
    "    stack.append(temp)\n",
    "\n",
    "    return stack\n"
   ]
  },
  {
   "cell_type": "markdown",
   "id": "e1395015",
   "metadata": {},
   "source": [
    "**Test Case:**"
   ]
  },
  {
   "cell_type": "code",
   "execution_count": 17,
   "id": "cd605790",
   "metadata": {},
   "outputs": [
    {
     "name": "stdout",
     "output_type": "stream",
     "text": [
      "[2, 3, 4, 5]\n"
     ]
    }
   ],
   "source": [
    "# Optimized Approach Test Cases\n",
    "stack3 = [1, 2, 3, 4, 5]\n",
    "print(delete_middle_element(stack3))\n"
   ]
  },
  {
   "cell_type": "code",
   "execution_count": 18,
   "id": "afc4fe88",
   "metadata": {},
   "outputs": [
    {
     "name": "stdout",
     "output_type": "stream",
     "text": [
      "[2, 3, 4, 5, 6]\n"
     ]
    }
   ],
   "source": [
    "stack4 = [1, 2, 3, 4, 5, 6]\n",
    "print(delete_middle_element(stack4))"
   ]
  },
  {
   "cell_type": "markdown",
   "id": "571d89db",
   "metadata": {},
   "source": [
    "**Discussion :**</br>\n",
    "\n",
    "**The time complexity** of this optimized approach is O(n), where n is the number of elements in the stack. Each element is recursively popped and restored exactly once. \n",
    "\n",
    "**The space complexity** is O(n) due to the recursion stack."
   ]
  },
  {
   "cell_type": "markdown",
   "id": "dbadd6a3",
   "metadata": {},
   "source": [
    "# Q4\n",
    "\n",
    "\n",
    "💡 **Question 4**\n",
    "\n",
    "Given a Queue consisting of first **n** natural numbers (in random order). The task is to check whether the given Queue elements can be arranged in increasing order in another Queue using a stack. The operation allowed are:\n",
    "\n",
    "1. Push and pop elements from the stack\n",
    "2. Pop (Or Dequeue) from the given Queue.\n",
    "3. Push (Or Enqueue) in the another Queue.\n",
    "\n",
    "**Examples :**\n",
    "\n",
    "Input : Queue[] = { 5, 1, 2, 3, 4 } \n",
    "\n",
    "Output : Yes \n",
    "\n",
    "Pop the first element of the given Queue \n",
    "\n",
    "i.e 5. Push 5 into the stack. \n",
    "\n",
    "Now, pop all the elements of the given Queue and push them to second Queue. \n",
    "\n",
    "Now, pop element 5 in the stack and push it to the second Queue.   \n",
    "\n",
    "Input : Queue[] = { 5, 1, 2, 6, 3, 4 } \n",
    "\n",
    "Output : No \n",
    "\n",
    "Push 5 to stack. \n",
    "\n",
    "Pop 1, 2 from given Queue and push it to another Queue. \n",
    "\n",
    "Pop 6 from given Queue and push to stack. \n",
    "\n",
    "Pop 3, 4 from given Queue and push to second Queue. \n",
    "\n",
    "Now, from using any of above operation, we cannot push 5 into the second Queue because it is below the 6 in the stack.\n"
   ]
  },
  {
   "cell_type": "markdown",
   "id": "61eeb0b2",
   "metadata": {},
   "source": [
    "# Ans.\n",
    "\n",
    "**Solution Approach 1**\n",
    "\n",
    "**Brute Force Approach:**\n",
    "\n",
    "One brute force approach to check if the elements of a queue can be arranged in increasing order in another queue using a stack is to simulate the operations step by step. We can use a stack and two queues to perform the required operations. By repeatedly comparing the elements and performing the operations, we can check if the elements can be arranged in increasing order."
   ]
  },
  {
   "cell_type": "code",
   "execution_count": 19,
   "id": "e16b38e3",
   "metadata": {},
   "outputs": [],
   "source": [
    "def check_queue_order(queue):\n",
    "    stack = []\n",
    "    sorted_queue = []\n",
    "\n",
    "    while queue:\n",
    "        front = queue.pop(0)\n",
    "\n",
    "        while sorted_queue and front < sorted_queue[-1]:\n",
    "            stack.append(sorted_queue.pop())\n",
    "\n",
    "        sorted_queue.append(front)\n",
    "\n",
    "    while stack:\n",
    "        sorted_queue.append(stack.pop())\n",
    "\n",
    "    for i in range(1, len(sorted_queue)):\n",
    "        if sorted_queue[i] < sorted_queue[i - 1]:\n",
    "            return False\n",
    "\n",
    "    return True\n"
   ]
  },
  {
   "cell_type": "markdown",
   "id": "4e1831c2",
   "metadata": {},
   "source": [
    "**Test Case:**"
   ]
  },
  {
   "cell_type": "code",
   "execution_count": 20,
   "id": "067d05d7",
   "metadata": {},
   "outputs": [
    {
     "name": "stdout",
     "output_type": "stream",
     "text": [
      "True\n"
     ]
    }
   ],
   "source": [
    "queue1 = [5, 1, 2, 3, 4]\n",
    "print(check_queue_order(queue1))\n"
   ]
  },
  {
   "cell_type": "code",
   "execution_count": 21,
   "id": "3d59fa94",
   "metadata": {},
   "outputs": [
    {
     "name": "stdout",
     "output_type": "stream",
     "text": [
      "False\n"
     ]
    }
   ],
   "source": [
    "queue2 = [5, 1, 2, 6, 3, 4]\n",
    "print(check_queue_order(queue2))"
   ]
  },
  {
   "cell_type": "markdown",
   "id": "06639c2f",
   "metadata": {},
   "source": [
    "**Discussion :**</br>\n",
    "\n",
    "**The time complexity** of this approach is O(n^2) because for each element in the input queue, we may need to perform multiple operations, resulting in nested loops. \n",
    "\n",
    "**The space complexity** is O(n) because we are using a stack and a sorted queue."
   ]
  },
  {
   "cell_type": "markdown",
   "id": "d82e7fc5",
   "metadata": {},
   "source": [
    "**Solution Approach 2**\n",
    "\n",
    "**ptimized Approach:**\n",
    "\n",
    "An optimized approach to check if the elements of a queue can be arranged in increasing order in another queue using a stack involves keeping track of the minimum element seen so far and ensuring that the next element is greater than the minimum element. We can use a stack to store the elements in descending order, and whenever we encounter an element smaller than the minimum element, we know that the arrangement is not possible."
   ]
  },
  {
   "cell_type": "code",
   "execution_count": 22,
   "id": "1d12de44",
   "metadata": {},
   "outputs": [],
   "source": [
    "def check_queue_order(queue):\n",
    "    stack = []\n",
    "    min_element = float('-inf')\n",
    "\n",
    "    for element in queue:\n",
    "        if element < min_element:\n",
    "            return False\n",
    "\n",
    "        while stack and stack[-1] < element:\n",
    "            min_element = stack.pop()\n",
    "\n",
    "        stack.append(element)\n",
    "\n",
    "    return True\n"
   ]
  },
  {
   "cell_type": "markdown",
   "id": "e468844f",
   "metadata": {},
   "source": [
    "**Test Case:**"
   ]
  },
  {
   "cell_type": "code",
   "execution_count": 23,
   "id": "998b9142",
   "metadata": {},
   "outputs": [
    {
     "name": "stdout",
     "output_type": "stream",
     "text": [
      "True\n"
     ]
    }
   ],
   "source": [
    "queue1 = [5, 1, 2, 3, 4]\n",
    "print(check_queue_order(queue1))\n"
   ]
  },
  {
   "cell_type": "code",
   "execution_count": 24,
   "id": "bf8efd8e",
   "metadata": {},
   "outputs": [
    {
     "name": "stdout",
     "output_type": "stream",
     "text": [
      "False\n"
     ]
    }
   ],
   "source": [
    "queue2 = [5, 1, 2, 6, 3, 4]\n",
    "print(check_queue_order(queue2))"
   ]
  },
  {
   "cell_type": "markdown",
   "id": "03f4ccae",
   "metadata": {},
   "source": [
    "**Discussion :**</br>\n",
    "\n",
    "**The time complexity** of this optimized approach is O(n) because we iterate through each element of the queue once. \n",
    "\n",
    "**The space complexity** is O(n) because we are using a stack to store elements."
   ]
  },
  {
   "cell_type": "markdown",
   "id": "600ccfb7",
   "metadata": {},
   "source": [
    "# Q5\n",
    "\n",
    "\n",
    "💡 **Question 5**\n",
    "\n",
    "Given a number , write a program to reverse this number using stack.\n",
    "\n",
    "**Examples:**\n",
    "\n",
    "```\n",
    "Input : 365\n",
    "Output : 563\n",
    "\n",
    "Input : 6899\n",
    "Output : 9986\n",
    "```"
   ]
  },
  {
   "cell_type": "markdown",
   "id": "e17869dc",
   "metadata": {},
   "source": [
    "# Ans.\n",
    "\n",
    "**Solution Approach 1**\n",
    "\n",
    "**Brute Force Approach:**\n",
    "\n",
    "One brute force approach to reverse a number using a stack is to convert the number to a string, push each digit onto the stack, and then pop the digits from the stack to form the reversed number."
   ]
  },
  {
   "cell_type": "code",
   "execution_count": 25,
   "id": "e055f4d6",
   "metadata": {},
   "outputs": [],
   "source": [
    "def reverse_number(number):\n",
    "    stack = []\n",
    "    number_str = str(number)\n",
    "\n",
    "    for digit in number_str:\n",
    "        stack.append(digit)\n",
    "\n",
    "    reversed_number_str = \"\"\n",
    "\n",
    "    while stack:\n",
    "        reversed_number_str += stack.pop()\n",
    "\n",
    "    reversed_number = int(reversed_number_str)\n",
    "    return reversed_number\n"
   ]
  },
  {
   "cell_type": "markdown",
   "id": "88e14f11",
   "metadata": {},
   "source": [
    "**Test Case:**"
   ]
  },
  {
   "cell_type": "code",
   "execution_count": 26,
   "id": "837e16b0",
   "metadata": {},
   "outputs": [
    {
     "name": "stdout",
     "output_type": "stream",
     "text": [
      "563\n"
     ]
    }
   ],
   "source": [
    "number1 = 365\n",
    "print(reverse_number(number1))\n"
   ]
  },
  {
   "cell_type": "code",
   "execution_count": 27,
   "id": "0ca046ab",
   "metadata": {},
   "outputs": [
    {
     "name": "stdout",
     "output_type": "stream",
     "text": [
      "9986\n"
     ]
    }
   ],
   "source": [
    "number2 = 6899\n",
    "print(reverse_number(number2))\n"
   ]
  },
  {
   "cell_type": "markdown",
   "id": "d6ba9a04",
   "metadata": {},
   "source": [
    "**Discussion :**</br>\n",
    "\n",
    "**The time complexity** of this approach is O(n), where n is the number of digits in the input number. Converting the number to a string takes O(log n) time, and popping each digit from the stack takes O(n) time. \n",
    "\n",
    "**The space complexity** is also O(n) because we use a stack to store the digits."
   ]
  },
  {
   "cell_type": "markdown",
   "id": "994465f8",
   "metadata": {},
   "source": [
    "**Solution Approach 2**\n",
    "\n",
    "**Optimized Approach:**\n",
    "\n",
    "An optimized approach to reverse a number using a stack is to directly manipulate the digits without converting the number to a string. We can extract the digits by continuously dividing the number by 10 and pushing the remainders onto the stack. Then, we can reconstruct the reversed number by multiplying the digits from the stack by the appropriate powers of 10."
   ]
  },
  {
   "cell_type": "code",
   "execution_count": 28,
   "id": "01b22058",
   "metadata": {},
   "outputs": [],
   "source": [
    "def reverse_number(number):\n",
    "    stack = []\n",
    "\n",
    "    while number != 0:\n",
    "        digit = number % 10\n",
    "        stack.append(digit)\n",
    "        number = number // 10\n",
    "\n",
    "    reversed_number = 0\n",
    "    power_of_10 = 1\n",
    "\n",
    "    while stack:\n",
    "        digit = stack.pop()\n",
    "        reversed_number += digit * power_of_10\n",
    "        power_of_10 *= 10\n",
    "\n",
    "    return reversed_number\n"
   ]
  },
  {
   "cell_type": "markdown",
   "id": "b4ef1cfe",
   "metadata": {},
   "source": [
    "**Test Case:**"
   ]
  },
  {
   "cell_type": "code",
   "execution_count": 29,
   "id": "3fae569a",
   "metadata": {},
   "outputs": [
    {
     "name": "stdout",
     "output_type": "stream",
     "text": [
      "563\n"
     ]
    }
   ],
   "source": [
    "number1 = 365\n",
    "print(reverse_number(number1))"
   ]
  },
  {
   "cell_type": "code",
   "execution_count": 30,
   "id": "423adde7",
   "metadata": {},
   "outputs": [
    {
     "name": "stdout",
     "output_type": "stream",
     "text": [
      "9986\n"
     ]
    }
   ],
   "source": [
    "number2 = 6899\n",
    "print(reverse_number(number2))"
   ]
  },
  {
   "cell_type": "markdown",
   "id": "213d0c69",
   "metadata": {},
   "source": [
    "**Discussion :**</br>\n",
    "\n",
    "**The time complexity** of this optimized approach is O(log n), where n is the input number. Extracting the digits from the number takes O(log n) time, and reconstructing the reversed number takes O(log n) time as well. \n",
    "\n",
    "**The space complexity** is O(log n) due to the stack storing the digits."
   ]
  },
  {
   "cell_type": "markdown",
   "id": "0d9d60a4",
   "metadata": {},
   "source": [
    "# Q6\n",
    "\n",
    "💡 **Question 6**\n",
    "\n",
    "Given an integer k and a **[queue](https://www.geeksforgeeks.org/queue-data-structure/)** of integers, The task is to reverse the order of the first **k** elements of the queue, leaving the other elements in the same relative order.\n",
    "\n",
    "Only following standard operations are allowed on queue.\n",
    "\n",
    "- **enqueue(x) :** Add an item x to rear of queue\n",
    "- **dequeue() :** Remove an item from front of queue\n",
    "- **size() :** Returns number of elements in queue.\n",
    "- **front() :** Finds front item."
   ]
  },
  {
   "cell_type": "markdown",
   "id": "8e703648",
   "metadata": {},
   "source": [
    "# Ans.\n",
    "\n",
    "**Solution Approach 1**\n",
    "\n",
    "**Brute Force Approach:**\n",
    "\n",
    "One brute force approach to reverse the order of the first k elements in a queue is to use a stack. We can dequeue the first k elements from the queue and push them onto the stack. Then, we can pop the elements from the stack and enqueue them back into the queue to reverse their order."
   ]
  },
  {
   "cell_type": "code",
   "execution_count": 31,
   "id": "8cb4f91b",
   "metadata": {},
   "outputs": [],
   "source": [
    "from queue import Queue\n",
    "from collections import deque\n",
    "\n",
    "# Brute Force Approach\n",
    "def reverse_k_elements_brute_force(queue, k):\n",
    "    stack = []\n",
    "\n",
    "    # Dequeue the first k elements and push them onto the stack\n",
    "    for _ in range(k):\n",
    "        stack.append(queue.popleft())\n",
    "\n",
    "    # Enqueue the elements from the stack back into the queue\n",
    "    while stack:\n",
    "        queue.append(stack.pop())\n",
    "\n",
    "    # Move the remaining elements to the end of the queue\n",
    "    for _ in range(len(queue) - k):\n",
    "        queue.append(queue.popleft())\n",
    "\n",
    "    return queue"
   ]
  },
  {
   "cell_type": "markdown",
   "id": "4457d736",
   "metadata": {},
   "source": [
    "**Test Case:**"
   ]
  },
  {
   "cell_type": "code",
   "execution_count": 32,
   "id": "d90076a4",
   "metadata": {
    "scrolled": false
   },
   "outputs": [
    {
     "name": "stdout",
     "output_type": "stream",
     "text": [
      "Brute Force Approach:\n",
      "[3, 2, 1, 4, 5]\n"
     ]
    }
   ],
   "source": [
    "# Test cases\n",
    "queue1 = deque([1, 2, 3, 4, 5])\n",
    "k1 = 3\n",
    "print(\"Brute Force Approach:\")\n",
    "print(list(reverse_k_elements_brute_force(queue1, k1)))"
   ]
  },
  {
   "cell_type": "code",
   "execution_count": 33,
   "id": "645e7152",
   "metadata": {},
   "outputs": [
    {
     "name": "stdout",
     "output_type": "stream",
     "text": [
      "Brute Force Approach:\n",
      "[50, 40, 30, 20, 10]\n"
     ]
    }
   ],
   "source": [
    "queue2 = deque([10, 20, 30, 40, 50])\n",
    "k2 = 5\n",
    "print(\"Brute Force Approach:\")\n",
    "print(list(reverse_k_elements_brute_force(queue2, k2)))"
   ]
  },
  {
   "cell_type": "markdown",
   "id": "da93afa0",
   "metadata": {},
   "source": [
    "**Discussion :**</br>\n",
    "\n",
    "**The time complexity** of this approach is O(n), where n is the number of elements in the queue. Dequeuing the first k elements takes O(k) time, and enqueuing the elements back into the queue takes O(k) time as well. Moving the remaining elements to the end of the queue takes O(n - k) time. \n",
    "\n",
    "**The space complexity** is O(k) because we use a stack to temporarily store the first k elements."
   ]
  },
  {
   "cell_type": "markdown",
   "id": "a0ebddf3",
   "metadata": {},
   "source": [
    "**Solution Approach 2**\n",
    "\n",
    "**Optimized Approach:**\n",
    "\n",
    "An optimized approach to reverse the order of the first k elements in a queue without using a stack is to use a deque (double-ended queue). We can remove the first k elements from the front of the queue and append them to the rear of the deque. Then, we can remove the elements from the rear of the deque and append them back to the rear of the queue, effectively reversing their order."
   ]
  },
  {
   "cell_type": "code",
   "execution_count": 34,
   "id": "cd718729",
   "metadata": {},
   "outputs": [],
   "source": [
    "# Optimized Approach\n",
    "def reverse_k_elements_optimized(queue, k):\n",
    "    dq = deque()\n",
    "\n",
    "    # Remove the first k elements from the front of the queue and append them to the rear of the deque\n",
    "    for _ in range(k):\n",
    "        dq.append(queue.popleft())\n",
    "\n",
    "    # Remove the elements from the rear of the deque and append them back to the rear of the queue\n",
    "    while dq:\n",
    "        queue.append(dq.pop())\n",
    "\n",
    "    # Move the remaining elements to the end of the queue\n",
    "    for _ in range(len(queue) - k):\n",
    "        queue.append(queue.popleft())\n",
    "\n",
    "    return queue\n"
   ]
  },
  {
   "cell_type": "markdown",
   "id": "40949d47",
   "metadata": {},
   "source": [
    "**Test Case:**"
   ]
  },
  {
   "cell_type": "code",
   "execution_count": 35,
   "id": "b9e6f1c4",
   "metadata": {},
   "outputs": [
    {
     "name": "stdout",
     "output_type": "stream",
     "text": [
      "Optimized Approach:\n",
      "[3, 2, 1, 4, 5]\n"
     ]
    }
   ],
   "source": [
    "# Test cases\n",
    "queue3 = deque([1, 2, 3, 4, 5])\n",
    "k3 = 3\n",
    "print(\"Optimized Approach:\")\n",
    "print(list(reverse_k_elements_optimized(queue3, k3)))\n"
   ]
  },
  {
   "cell_type": "code",
   "execution_count": 36,
   "id": "08173d3f",
   "metadata": {},
   "outputs": [
    {
     "name": "stdout",
     "output_type": "stream",
     "text": [
      "Optimized Approach:\n",
      "[50, 40, 30, 20, 10]\n"
     ]
    }
   ],
   "source": [
    "queue4 = deque([10, 20, 30, 40, 50])\n",
    "k4 = 5\n",
    "print(\"Optimized Approach:\")\n",
    "print(list(reverse_k_elements_optimized(queue4, k4)))"
   ]
  },
  {
   "cell_type": "markdown",
   "id": "a33ffbea",
   "metadata": {},
   "source": [
    "**Discussion :**</br>\n",
    "\n",
    "**The time complexity** of this optimized approach is O(n), where n is the number of elements in the queue. Removing the first k elements and appending them to the deque takes O(k) time, and removing the elements from the deque and appending them back to the queue takes O(k) time as well. Moving the remaining elements to the end of the queue takes O(n - k) time. \n",
    "\n",
    "**The space complexity** is O(k) because we use a deque to temporarily store the first k elements."
   ]
  },
  {
   "cell_type": "markdown",
   "id": "96f249b0",
   "metadata": {},
   "source": [
    "# Q7\n",
    "\n",
    "💡 **Question 7**\n",
    "\n",
    "Given a sequence of n strings, the task is to check if any two similar words come together and then destroy each other then print the number of words left in the sequence after this pairwise destruction.\n",
    "\n",
    "**Examples:**\n",
    "\n",
    "Input : ab aa aa bcd ab\n",
    "\n",
    "Output : 3\n",
    "\n",
    "*As aa, aa destroys each other so,*\n",
    "\n",
    "*ab bcd ab is the new sequence.*\n",
    "\n",
    "Input :  tom jerry jerry tom\n",
    "\n",
    "Output : 0\n",
    "\n",
    "*As first both jerry will destroy each other.*\n",
    "\n",
    "*Then sequence will be tom, tom they will also destroy*\n",
    "\n",
    "*each other. So, the final sequence doesn’t contain any*\n",
    "\n",
    "*word.*\n",
    "\n"
   ]
  },
  {
   "cell_type": "markdown",
   "id": "8c9e7bcb",
   "metadata": {},
   "source": [
    "# Ans.\n",
    "\n",
    "**Solution Approach**\n",
    "\n",
    "To solve this problem, we can use a stack to keep track of the sequence of words. We iterate through each word in the given sequence and perform pairwise destruction when we encounter two consecutive similar words."
   ]
  },
  {
   "cell_type": "code",
   "execution_count": 37,
   "id": "2af4c718",
   "metadata": {},
   "outputs": [],
   "source": [
    "def pairwise_destruction(sequence):\n",
    "    stack = []\n",
    "    count = 0\n",
    "\n",
    "    for word in sequence:\n",
    "        if stack and stack[-1] == word:\n",
    "            stack.pop()\n",
    "            count += 2\n",
    "        else:\n",
    "            stack.append(word)\n",
    "\n",
    "    return len(sequence) - count\n"
   ]
  },
  {
   "cell_type": "markdown",
   "id": "49e65f19",
   "metadata": {},
   "source": [
    "**Test Case:**"
   ]
  },
  {
   "cell_type": "code",
   "execution_count": 38,
   "id": "89f0f63e",
   "metadata": {},
   "outputs": [
    {
     "name": "stdout",
     "output_type": "stream",
     "text": [
      "3\n"
     ]
    }
   ],
   "source": [
    "sequence1 = ['ab', 'aa', 'aa', 'bcd', 'ab']\n",
    "print(pairwise_destruction(sequence1))"
   ]
  },
  {
   "cell_type": "code",
   "execution_count": 39,
   "id": "60ce3f42",
   "metadata": {},
   "outputs": [
    {
     "name": "stdout",
     "output_type": "stream",
     "text": [
      "0\n"
     ]
    }
   ],
   "source": [
    "sequence2 = ['tom', 'jerry', 'jerry', 'tom']\n",
    "print(pairwise_destruction(sequence2))"
   ]
  },
  {
   "cell_type": "markdown",
   "id": "04aec11d",
   "metadata": {},
   "source": [
    "**Discussion :**</br>\n",
    "\n",
    "**The time complexity** of this approaches is O(n), where n is the number of words in the sequence. \n",
    "\n",
    "**The space complexity** is O(n) for the stack used to store the words."
   ]
  },
  {
   "cell_type": "markdown",
   "id": "1e4b45f7",
   "metadata": {},
   "source": [
    "# Q8\n",
    "\n",
    "💡 **Question 8**\n",
    "\n",
    "Given an array of integers, the task is to find the maximum absolute difference between the nearest left and the right smaller element of every element in the array.\n",
    "\n",
    "**Note:** If there is no smaller element on right side or left side of any element then we take zero as the smaller element. For example for the leftmost element, the nearest smaller element on the left side is considered as 0. Similarly, for rightmost elements, the smaller element on the right side is considered as 0.\n",
    "\n",
    "**Examples:**\n",
    "```\n",
    "Input : arr[] = {2, 1, 8}\n",
    "Output : 1\n",
    "Left smaller  LS[] {0, 0, 1}\n",
    "Right smaller RS[] {1, 0, 0}\n",
    "Maximum Diff of abs(LS[i] - RS[i]) = 1\n",
    "\n",
    "Input  : arr[] = {2, 4, 8, 7, 7, 9, 3}\n",
    "Output : 4\n",
    "Left smaller   LS[] = {0, 2, 4, 4, 4, 7, 2}\n",
    "Right smaller  RS[] = {0, 3, 7, 3, 3, 3, 0}\n",
    "Maximum Diff of abs(LS[i] - RS[i]) = 7 - 3 = 4\n",
    "\n",
    "Input : arr[] = {5, 1, 9, 2, 5, 1, 7}\n",
    "Output : 1\n",
    "\n",
    "```"
   ]
  },
  {
   "cell_type": "markdown",
   "id": "d7138386",
   "metadata": {},
   "source": [
    "# Ans.\n",
    "\n",
    "**Solution Approach**\n",
    "\n",
    "To solve this problem, we can use the concept of the nearest smaller element to the left and the right for each element in the array. We'll maintain two arrays, LS and RS, to store the nearest smaller element on the left and the right side of each element, respectively.\n",
    "\n",
    "Here's the step-by-step approach:\n",
    "\n",
    "1. Initialize two empty stacks, leftStack and rightStack.\n",
    "2. Initialize two arrays, LS and RS, with all elements set to 0.\n",
    "3. Traverse the given array from left to right:\n",
    "    - For each element arr[i], pop elements from leftStack until the top of the stack is smaller than arr[i]. The top of the stack at this point (if any) will be the nearest smaller element on the left side of arr[i]. If the stack becomes empty, assign 0 to LS[i].\n",
    "    - Push arr[i] onto leftStack.\n",
    "4. Traverse the given array from right to left:\n",
    "    - For each element arr[i], pop elements from rightStack until the top of the stack is smaller than arr[i]. The top of the stack at this point (if any) will be the nearest smaller element on the right side of arr[i]. If the stack becomes empty, assign 0 to RS[i].\n",
    "    - Push arr[i] onto rightStack.\n",
    "5. Now, we have the LS and RS arrays with the nearest smaller elements on the left and the right side for each element, respectively.\n",
    "6. Calculate the maximum absolute difference by traversing both LS and RS arrays simultaneously and keeping track of the maximum difference.\n",
    "7. Return the maximum absolute difference obtained."
   ]
  },
  {
   "cell_type": "code",
   "execution_count": 40,
   "id": "a4ab0259",
   "metadata": {},
   "outputs": [],
   "source": [
    "def find_max_abs_diff(arr):\n",
    "    n = len(arr)\n",
    "    LS = [0] * n\n",
    "    RS = [0] * n\n",
    "\n",
    "    leftStack = []\n",
    "    rightStack = []\n",
    "\n",
    "    # Calculate nearest smaller element on the left\n",
    "    for i in range(n):\n",
    "        while leftStack and leftStack[-1] >= arr[i]:\n",
    "            leftStack.pop()\n",
    "        if leftStack:\n",
    "            LS[i] = leftStack[-1]\n",
    "        leftStack.append(arr[i])\n",
    "\n",
    "    # Calculate nearest smaller element on the right\n",
    "    for i in range(n - 1, -1, -1):\n",
    "        while rightStack and rightStack[-1] >= arr[i]:\n",
    "            rightStack.pop()\n",
    "        if rightStack:\n",
    "            RS[i] = rightStack[-1]\n",
    "        rightStack.append(arr[i])\n",
    "\n",
    "    max_diff = 0\n",
    "    for i in range(n):\n",
    "        max_diff = max(max_diff, abs(LS[i] - RS[i]))\n",
    "\n",
    "    return max_diff\n"
   ]
  },
  {
   "cell_type": "markdown",
   "id": "eb6e7a56",
   "metadata": {},
   "source": [
    "**Test Case:**"
   ]
  },
  {
   "cell_type": "code",
   "execution_count": 41,
   "id": "f611f31e",
   "metadata": {},
   "outputs": [
    {
     "name": "stdout",
     "output_type": "stream",
     "text": [
      "1\n"
     ]
    }
   ],
   "source": [
    "arr = [2, 1, 8]\n",
    "print(find_max_abs_diff(arr))"
   ]
  },
  {
   "cell_type": "code",
   "execution_count": 42,
   "id": "fe6cf9e8",
   "metadata": {},
   "outputs": [
    {
     "name": "stdout",
     "output_type": "stream",
     "text": [
      "4\n"
     ]
    }
   ],
   "source": [
    "arr = [2, 4, 8, 7, 7, 9, 3]\n",
    "print(find_max_abs_diff(arr))"
   ]
  },
  {
   "cell_type": "code",
   "execution_count": 43,
   "id": "edfa2859",
   "metadata": {},
   "outputs": [
    {
     "name": "stdout",
     "output_type": "stream",
     "text": [
      "1\n"
     ]
    }
   ],
   "source": [
    "arr = [5, 1, 9, 2, 5, 1, 7]\n",
    "print(find_max_abs_diff(arr))"
   ]
  },
  {
   "cell_type": "markdown",
   "id": "70f18eb3",
   "metadata": {},
   "source": [
    "**Discussion :**</br>\n",
    "\n",
    "**Time Complexity:**\n",
    "\n",
    "The algorithm traverses the given array twice, once from left to right and once from right to left, resulting in a linear time complexity of O(N), where N is the size of the array.\n",
    "\n",
    "**Space Complexity:**\n",
    "\n",
    "The algorithm uses two additional arrays, LS and RS, of size N to store the nearest smaller elements on the left and the right side, respectively. Additionally, it uses two stacks to keep track of the nearest smaller elements. Therefore, the space complexity is O(N)."
   ]
  }
 ],
 "metadata": {
  "kernelspec": {
   "display_name": "Python 3 (ipykernel)",
   "language": "python",
   "name": "python3"
  },
  "language_info": {
   "codemirror_mode": {
    "name": "ipython",
    "version": 3
   },
   "file_extension": ".py",
   "mimetype": "text/x-python",
   "name": "python",
   "nbconvert_exporter": "python",
   "pygments_lexer": "ipython3",
   "version": "3.9.13"
  }
 },
 "nbformat": 4,
 "nbformat_minor": 5
}
