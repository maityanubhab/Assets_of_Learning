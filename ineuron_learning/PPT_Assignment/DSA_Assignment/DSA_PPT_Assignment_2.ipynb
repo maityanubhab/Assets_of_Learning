{
  "nbformat": 4,
  "nbformat_minor": 0,
  "metadata": {
    "colab": {
      "provenance": []
    },
    "kernelspec": {
      "name": "python3",
      "display_name": "Python 3"
    },
    "language_info": {
      "name": "python"
    }
  },
  "cells": [
    {
      "cell_type": "markdown",
      "source": [
        "💡 **Question 1**\n",
        "Given an integer array nums of 2n integers, group these integers into n pairs (a1, b1), (a2, b2),..., (an, bn) such that the sum of min(ai, bi) for all i is maximized. Return the maximized sum.\n",
        "\n",
        "**Example 1:**\n",
        "Input: nums = [1,4,3,2]\n",
        "Output: 4\n",
        "\n",
        "**Explanation:** All possible pairings (ignoring the ordering of elements) are:\n",
        "\n",
        "1. (1, 4), (2, 3) -> min(1, 4) + min(2, 3) = 1 + 2 = 3\n",
        "2. (1, 3), (2, 4) -> min(1, 3) + min(2, 4) = 1 + 2 = 3\n",
        "3. (1, 2), (3, 4) -> min(1, 2) + min(3, 4) = 1 + 3 = 4\n",
        "So the maximum possible sum is 4"
      ],
      "metadata": {
        "id": "DiVqufqt6xyc"
      }
    },
    {
      "cell_type": "markdown",
      "source": [
        "**Solution Approach 1**\n",
        "<br>The brute-force approach involves considering all possible pairings and calculating the sum of the minimum of each pair."
      ],
      "metadata": {
        "id": "ccANhO8J67L-"
      }
    },
    {
      "cell_type": "code",
      "source": [
        "# Brute Force Approach:\n",
        "def arrayPairSum_bruteForce(nums):\n",
        "    nums.sort()  # Sort the array in ascending order\n",
        "    n = len(nums)\n",
        "    pair_sum = 0\n",
        "    for i in range(0, n, 2):\n",
        "        pair_sum += min(nums[i], nums[i + 1])\n",
        "    return pair_sum"
      ],
      "metadata": {
        "id": "gSsHTBhw7LDp"
      },
      "execution_count": 1,
      "outputs": []
    },
    {
      "cell_type": "code",
      "execution_count": 2,
      "metadata": {
        "colab": {
          "base_uri": "https://localhost:8080/"
        },
        "id": "-QKP13vi5DVY",
        "outputId": "576c1f3c-8cbf-4d3a-faac-ad734be6f6fa"
      },
      "outputs": [
        {
          "output_type": "stream",
          "name": "stdout",
          "text": [
            "Brute Force Approach:\n",
            "Input: [1, 2, 3, 4]\n",
            "Output: 4\n"
          ]
        }
      ],
      "source": [
        "# Test the brute force approach\n",
        "nums = [1, 4, 3, 2]\n",
        "result = arrayPairSum_bruteForce(nums)\n",
        "print(\"Brute Force Approach:\")\n",
        "print(\"Input:\", nums)\n",
        "print(\"Output:\", result)"
      ]
    },
    {
      "cell_type": "markdown",
      "source": [
        "# Discussion :\n",
        "<br>Time Complexity: O(n log n)\n",
        "<br>The brute-force approach sorts the array, which takes O(n log n) time. Then, it iterates over the sorted array in steps of 2, resulting in a time complexity of O(n).\n",
        "\n",
        "<br>Space Complexity: O(1)\n",
        "<br>The brute-force approach performs all operations in-place without using any additional space, resulting in a space complexity of O(1)."
      ],
      "metadata": {
        "id": "QPuqy6NP7h-2"
      }
    },
    {
      "cell_type": "markdown",
      "source": [
        "**Solution Approach 2**\n",
        "<br>The approach involves sorting the array and then summing every alternate element starting from the first element. Since the array is sorted, the minimum elements are located at alternate indices. "
      ],
      "metadata": {
        "id": "fiAKhyjU74d8"
      }
    },
    {
      "cell_type": "code",
      "source": [
        "# Sorting and Summing Alternate Elements Approach\n",
        "def arrayPairSum(nums):\n",
        "    nums.sort()  # Sort the array in ascending order\n",
        "    n = len(nums)\n",
        "    pair_sum = sum(nums[::2])  # Sum every alternate element\n",
        "    return pair_sum"
      ],
      "metadata": {
        "id": "ktbpUsdh8DMk"
      },
      "execution_count": 3,
      "outputs": []
    },
    {
      "cell_type": "code",
      "source": [
        "# Test the optimal approach\n",
        "nums = [1, 4, 3, 2]\n",
        "result = arrayPairSum(nums)\n",
        "print(\"\\nOptimal Approach:\")\n",
        "print(\"Input:\", nums)\n",
        "print(\"Output:\", result)"
      ],
      "metadata": {
        "colab": {
          "base_uri": "https://localhost:8080/"
        },
        "id": "7t7QgsOo6xFX",
        "outputId": "7a4beeec-624f-4190-fdf9-9397a1aa148a"
      },
      "execution_count": 4,
      "outputs": [
        {
          "output_type": "stream",
          "name": "stdout",
          "text": [
            "\n",
            "Optimal Approach:\n",
            "Input: [1, 2, 3, 4]\n",
            "Output: 4\n"
          ]
        }
      ]
    },
    {
      "cell_type": "markdown",
      "source": [
        "# Discussion :\n",
        "<br>Time Complexity: O(n log n)\n",
        "<br>The optimal approach sorts the array, which takes O(n log n) time. Summing every alternate element takes O(n) time. Thus, the overall time complexity is dominated by the sorting operation, resulting in O(n log n) time complexity.\n",
        "\n",
        "<br>Space Complexity: O(1)\n",
        "<br>The optimal approach performs all operations in-place without using any additional space, resulting in a space complexity of O(1)."
      ],
      "metadata": {
        "id": "uqvu9r8G8SXE"
      }
    },
    {
      "cell_type": "markdown",
      "source": [
        "**💡 Question 2**\n",
        "Alice has n candies, where the ith candy is of type candyType[i]. Alice noticed that she started to gain weight, so she visited a doctor. \n",
        "\n",
        "The doctor advised Alice to only eat n / 2 of the candies she has (n is always even). Alice likes her candies very much, and she wants to eat the maximum number of different types of candies while still following the doctor's advice. \n",
        "\n",
        "Given the integer array candyType of length n, return the maximum number of different types of candies she can eat if she only eats n / 2 of them.\n",
        "\n",
        "Example 1:\n",
        "Input: candyType = [1,1,2,2,3,3]\n",
        "Output: 3\n",
        "\n",
        "Explanation: Alice can only eat 6 / 2 = 3 candies. Since there are only 3 types, she can eat one of each type."
      ],
      "metadata": {
        "id": "cntGV3bG8jhM"
      }
    },
    {
      "cell_type": "markdown",
      "source": [
        "**Solution Approach 1**\n",
        "<br> The brute force approach involves iterating over the candy types, keeping track of the unique types using a hash set. We can limit the number of candies Alice can eat to n/2, so we stop the iteration once the number of unique candies reaches n/2."
      ],
      "metadata": {
        "id": "tQZSyzjg9VyH"
      }
    },
    {
      "cell_type": "code",
      "source": [
        "# Brute Force with Hash Set: \n",
        "def distributeCandies_bruteForce(candyType):\n",
        "    n = len(candyType)\n",
        "    max_candies = n // 2  # Maximum number of candies Alice can eat\n",
        "    unique_candies = set()\n",
        "\n",
        "    for candy in candyType:\n",
        "        unique_candies.add(candy)\n",
        "        if len(unique_candies) == max_candies:\n",
        "            break\n",
        "\n",
        "    return len(unique_candies)"
      ],
      "metadata": {
        "id": "0rNQlSxu95zY"
      },
      "execution_count": 5,
      "outputs": []
    },
    {
      "cell_type": "code",
      "source": [
        "# Test the brute force approach\n",
        "candyType = [1, 1, 2, 2, 3, 3]\n",
        "result = distributeCandies_bruteForce(candyType)\n",
        "print(\"Brute Force Approach:\")\n",
        "print(\"Input:\", candyType)\n",
        "print(\"Output:\", result)"
      ],
      "metadata": {
        "colab": {
          "base_uri": "https://localhost:8080/"
        },
        "id": "GEx7hH-U952Q",
        "outputId": "dd0a72f1-c08b-4ed2-88bc-62d6d494c305"
      },
      "execution_count": 6,
      "outputs": [
        {
          "output_type": "stream",
          "name": "stdout",
          "text": [
            "Brute Force Approach:\n",
            "Input: [1, 1, 2, 2, 3, 3]\n",
            "Output: 3\n"
          ]
        }
      ]
    },
    {
      "cell_type": "markdown",
      "source": [
        "# Discussion :\n",
        "<br>Time Complexity: O(n)\n",
        "<br>In the worst case, we iterate through all the candies in the array, resulting in a time complexity of O(n).\n",
        "\n",
        "<br>Space Complexity: O(n)\n",
        "<br>The hash set stores unique candy types, which can have a maximum size of n/2 in the worst case, resulting in a space complexity of O(n)."
      ],
      "metadata": {
        "id": "KA_7OWLd-KDU"
      }
    },
    {
      "cell_type": "markdown",
      "source": [
        "**Solution Approach 2**\n",
        "<br> The optimized approach also uses a hash set to track the unique candy types, but it leverages the property that Alice can only eat n/2 candies. Therefore, the maximum number of unique candies Alice can eat is either n/2 or the total number of unique candy types, whichever is smaller. "
      ],
      "metadata": {
        "id": "wO-kZDOF-6_T"
      }
    },
    {
      "cell_type": "code",
      "source": [
        "# Optimized Approach with Hash Set\n",
        "def distributeCandies(candyType):\n",
        "    max_candies = len(candyType) // 2  # Maximum number of candies Alice can eat\n",
        "    unique_candies = len(set(candyType))  # Number of unique candy types\n",
        "\n",
        "    return min(max_candies, unique_candies)"
      ],
      "metadata": {
        "id": "rWW9CH___EMO"
      },
      "execution_count": 7,
      "outputs": []
    },
    {
      "cell_type": "code",
      "source": [
        "# Test the optimized approach\n",
        "candyType = [1, 1, 2, 2, 3, 3]\n",
        "result = distributeCandies(candyType)\n",
        "print(\"\\nOptimized Approach:\")\n",
        "print(\"Input:\", candyType)\n",
        "print(\"Output:\", result)"
      ],
      "metadata": {
        "colab": {
          "base_uri": "https://localhost:8080/"
        },
        "id": "t5r3icBl_N47",
        "outputId": "73869cee-2d2e-4f99-dbf3-d423b2b4b46e"
      },
      "execution_count": 8,
      "outputs": [
        {
          "output_type": "stream",
          "name": "stdout",
          "text": [
            "\n",
            "Optimized Approach:\n",
            "Input: [1, 1, 2, 2, 3, 3]\n",
            "Output: 3\n"
          ]
        }
      ]
    },
    {
      "cell_type": "markdown",
      "source": [
        "# Discussion :\n",
        "<br>Time Complexity: O(n)\n",
        "<br>The optimized approach also requires iterating through all the candies in the array to count the unique candy types, resulting in a time complexity of O(n). The set() operation has a time complexity of O(n) as well.\n",
        "\n",
        "<br>Space Complexity: O(n)\n",
        "<br>The optimized approach uses a hash set to store unique candy types, which can have a maximum size of n in the worst case, resulting in a space complexity of O(n)."
      ],
      "metadata": {
        "id": "3MRxysbl_StT"
      }
    },
    {
      "cell_type": "markdown",
      "source": [
        "**💡 Question 3**\n",
        "We define a harmonious array as an array where the difference between its maximum value\n",
        "and its minimum value is exactly 1.\n",
        "\n",
        "Given an integer array nums, return the length of its longest harmonious subsequence\n",
        "among all its possible subsequences.\n",
        "\n",
        "A subsequence of an array is a sequence that can be derived from the array by deleting some or no elements without changing the order of the remaining elements.\n",
        "\n",
        "Example 1:\n",
        "Input: nums = [1,3,2,2,5,2,3,7]\n",
        "Output: 5\n",
        "\n",
        "Explanation: The longest harmonious subsequence is [3,2,2,2,3]."
      ],
      "metadata": {
        "id": "PN7lkzjI_ihT"
      }
    },
    {
      "cell_type": "markdown",
      "source": [
        "**Solution Approach 1**\n",
        "<br>The approach should be based on checking each pair of numbers in the array and counting the occurrence of the pair in the array."
      ],
      "metadata": {
        "id": "Ud5CWbPc_vlj"
      }
    },
    {
      "cell_type": "code",
      "source": [
        "# brute force approach:\n",
        "def findLHS1(nums):\n",
        "    max_length = 0\n",
        "\n",
        "    # Check each pair of numbers in the array\n",
        "    for i in range(len(nums)):\n",
        "        count1 = 0\n",
        "        count2 = 0\n",
        "\n",
        "        for j in range(len(nums)):\n",
        "            if nums[j] == nums[i]:\n",
        "                count1 += 1\n",
        "            if nums[j] == nums[i] + 1:\n",
        "                count2 += 1\n",
        "\n",
        "        # Update the maximum length if the pair is harmonious\n",
        "        if count1 > 0 and count2 > 0:\n",
        "            length = count1 + count2\n",
        "            max_length = max(max_length, length)\n",
        "\n",
        "    return max_length"
      ],
      "metadata": {
        "id": "b9e_QDghBvtG"
      },
      "execution_count": 13,
      "outputs": []
    },
    {
      "cell_type": "code",
      "source": [
        "# Test case\n",
        "nums = [1, 3, 2, 2, 5, 2, 3, 7]\n",
        "print(findLHS1(nums)) "
      ],
      "metadata": {
        "colab": {
          "base_uri": "https://localhost:8080/"
        },
        "id": "L7IDCrLPBv5L",
        "outputId": "0b70ea21-2dd9-4e1a-c06d-7b6f9e1dd9d3"
      },
      "execution_count": 14,
      "outputs": [
        {
          "output_type": "stream",
          "name": "stdout",
          "text": [
            "5\n"
          ]
        }
      ]
    },
    {
      "cell_type": "markdown",
      "source": [
        "# Discussion :\n",
        "<br>**Space Complexity:** The space complexity of this approach is O(1) because we are not using any additional data structures that grow with the input size. We only have a few integer variables to store counts and the maximum length.\n",
        "\n",
        "<br>**Time Complexity:** The time complexity of this approach is O(n^2), where n is the length of the input array nums. We have two nested loops: the outer loop iterates over each element in nums, and the inner loop also iterates over each element in nums. Therefore, the overall time complexity is quadratic, as we check each pair of numbers in nums."
      ],
      "metadata": {
        "id": "6gBgBaAVER4s"
      }
    },
    {
      "cell_type": "markdown",
      "source": [
        "**Solution Approach 2**\n",
        "<br>we need to count the frequency of each number in the given array and iterate over the unique numbers to find the longest harmonious subsequence. "
      ],
      "metadata": {
        "id": "VoQrTD9mDmZk"
      }
    },
    {
      "cell_type": "code",
      "source": [
        "#optimized approach:\n",
        "from collections import Counter\n",
        "\n",
        "def findLHS(nums):\n",
        "    num_counts = Counter(nums)\n",
        "    max_length = 0\n",
        "\n",
        "    for num in num_counts:\n",
        "        if num + 1 in num_counts:\n",
        "            length = num_counts[num] + num_counts[num + 1]\n",
        "            max_length = max(max_length, length)\n",
        "\n",
        "    return max_length"
      ],
      "metadata": {
        "id": "dqf6SQo9Dw-V"
      },
      "execution_count": 15,
      "outputs": []
    },
    {
      "cell_type": "code",
      "source": [
        "# Test case\n",
        "nums = [1, 3, 2, 2, 5, 2, 3, 7]\n",
        "print(findLHS(nums))"
      ],
      "metadata": {
        "colab": {
          "base_uri": "https://localhost:8080/"
        },
        "id": "nBibhr0hDxC4",
        "outputId": "48897f36-0b99-4afc-a448-cd5a9665702b"
      },
      "execution_count": 16,
      "outputs": [
        {
          "output_type": "stream",
          "name": "stdout",
          "text": [
            "5\n"
          ]
        }
      ]
    },
    {
      "cell_type": "markdown",
      "source": [
        "# Discussion :\n",
        "<br> **Space Complexity:** The space complexity of this approach is O(n), where n is the length of the input array nums. This is because we use a Counter to store the frequencies of each number in nums, which requires additional space proportional to the number of unique elements in nums.\n",
        "<br>**Time Complexity:** The time complexity of this approach is O(n), where n is the length of the input array nums. We iterate over num_counts once, which contains the counts of each number in nums. Additionally, the check **num + 1 in num_counts** is an O(1) operation because it is performed on a Counter object, which has an average-case constant time complexity for key lookups."
      ],
      "metadata": {
        "id": "jlOdDz6lEljJ"
      }
    },
    {
      "cell_type": "markdown",
      "source": [
        "**💡 Question 4**\n",
        "You have a long flowerbed in which some of the plots are planted, and some are not.\n",
        "However, flowers cannot be planted in adjacent plots.\n",
        "Given an integer array flowerbed containing 0's and 1's, where 0 means empty and 1 means not empty, and an integer n, return true if n new flowers can be planted in the flowerbed without violating the no-adjacent-flowers rule and false otherwise.\n",
        "\n",
        "Example 1:\n",
        "Input: flowerbed = [1,0,0,0,1], n = 1\n",
        "Output: true"
      ],
      "metadata": {
        "id": "gOgNPg8tE5na"
      }
    },
    {
      "cell_type": "markdown",
      "source": [
        "**Solution Approach 1**\n",
        "<br>One approach to solve this problem is to iterate over the flowerbed array and check each plot's availability. If we encounter an empty plot (0) and its adjacent plots are also empty (0), we can plant a flower (1) in that plot. We repeat this process until we have planted the required number of flowers or we have traversed the entire flowerbed array."
      ],
      "metadata": {
        "id": "DVUQdvUNFIKz"
      }
    },
    {
      "cell_type": "code",
      "source": [
        "#Brute Force Approach:\n",
        "def canPlaceFlowers(flowerbed, n):\n",
        "    count = 0\n",
        "    length = len(flowerbed)\n",
        "    i = 0\n",
        "\n",
        "    while i < length:\n",
        "        if flowerbed[i] == 0:\n",
        "            if (i == 0 or flowerbed[i - 1] == 0) and (i == length - 1 or flowerbed[i + 1] == 0):\n",
        "                flowerbed[i] = 1\n",
        "                count += 1\n",
        "                if count >= n:\n",
        "                    return True\n",
        "        i += 1\n",
        "\n",
        "    return False"
      ],
      "metadata": {
        "id": "XViQnE3iF74_"
      },
      "execution_count": 17,
      "outputs": []
    },
    {
      "cell_type": "code",
      "source": [
        "# Test case\n",
        "flowerbed = [1, 0, 0, 0, 1]\n",
        "n = 1\n",
        "print(canPlaceFlowers(flowerbed, n))"
      ],
      "metadata": {
        "colab": {
          "base_uri": "https://localhost:8080/"
        },
        "id": "AVaxQcr7GIlb",
        "outputId": "ddbb4533-4556-4972-9ee5-bc1247bbe1b2"
      },
      "execution_count": 18,
      "outputs": [
        {
          "output_type": "stream",
          "name": "stdout",
          "text": [
            "True\n"
          ]
        }
      ]
    },
    {
      "cell_type": "markdown",
      "source": [
        "# Discussion :\n",
        "<br>The time complexity of this approach is O(N), where N is the length of the flowerbed array. We traverse the entire array once, and in each iteration, we check the current plot's availability and its adjacent plots.\n",
        "\n",
        "<br>The space complexity is O(1) because we are not using any additional data structures that grow with the input size."
      ],
      "metadata": {
        "id": "FU_BJ9QqGRwd"
      }
    },
    {
      "cell_type": "markdown",
      "source": [
        "**Solution Approach 2**\n",
        "<br>To optimize the solution, we can use a greedy approach. We can count the available spaces between adjacent planted flowers and check if it's possible to plant n flowers in these spaces. We can initialize a counter to keep track of the available spaces and update it based on the flowerbed's elements."
      ],
      "metadata": {
        "id": "pGw2gT2AGfUe"
      }
    },
    {
      "cell_type": "code",
      "source": [
        "# Optimized Approach\n",
        "def canPlaceFlowers2(flowerbed, n):\n",
        "    count = 0\n",
        "    length = len(flowerbed)\n",
        "    i = 0\n",
        "\n",
        "    while i < length:\n",
        "        if flowerbed[i] == 0 and (i == 0 or flowerbed[i - 1] == 0) and (i == length - 1 or flowerbed[i + 1] == 0):\n",
        "            flowerbed[i] = 1\n",
        "            count += 1\n",
        "            if count >= n:\n",
        "                return True\n",
        "        i += 1\n",
        "\n",
        "    return False"
      ],
      "metadata": {
        "id": "kt9fhOc2GnQh"
      },
      "execution_count": 19,
      "outputs": []
    },
    {
      "cell_type": "code",
      "source": [
        "# Test case\n",
        "flowerbed = [1, 0, 0, 0, 1]\n",
        "n = 1\n",
        "print(canPlaceFlowers2(flowerbed, n))"
      ],
      "metadata": {
        "colab": {
          "base_uri": "https://localhost:8080/"
        },
        "id": "6h2b00uMGnZg",
        "outputId": "e92ee8eb-9cf9-4ff7-f0a3-342682765698"
      },
      "execution_count": 20,
      "outputs": [
        {
          "output_type": "stream",
          "name": "stdout",
          "text": [
            "True\n"
          ]
        }
      ]
    },
    {
      "cell_type": "markdown",
      "source": [
        "# Discussion :\n",
        "The time complexity and space complexity of the optimized approach are the same as the brute force approach, i.e., O(N) and O(1), respectively.\n",
        "\n",
        "Both approaches provide the same functionality, but the optimized approach performs the check while iterating over the flowerbed array, eliminating the need for an extra loop."
      ],
      "metadata": {
        "id": "_UrUfjDlG2Rd"
      }
    },
    {
      "cell_type": "markdown",
      "source": [
        "**💡 Question 5**\n",
        "Given an integer array nums, find three numbers whose product is maximum and return the maximum product.\n",
        "\n",
        "Example 1:\n",
        "Input: nums = [1,2,3]\n",
        "Output: 6"
      ],
      "metadata": {
        "id": "7CEs8fBWHBRh"
      }
    },
    {
      "cell_type": "markdown",
      "source": [
        "**Solution Approach 1**\n",
        "<br>One approach to solve this problem is to generate all possible combinations of three numbers from the given array nums. We can iterate over the array using three nested loops to select three numbers at a time and calculate their product. We keep track of the maximum product encountered and return it as the result."
      ],
      "metadata": {
        "id": "ojETGPIlHUdU"
      }
    },
    {
      "cell_type": "code",
      "source": [
        "# Brute Force Approach\n",
        "def maximumProduct(nums):\n",
        "    n = len(nums)\n",
        "    max_product = float('-inf')\n",
        "\n",
        "    for i in range(n):\n",
        "        for j in range(i+1, n):\n",
        "            for k in range(j+1, n):\n",
        "                product = nums[i] * nums[j] * nums[k]\n",
        "                max_product = max(max_product, product)\n",
        "\n",
        "    return max_product"
      ],
      "metadata": {
        "id": "In41qI7SH67M"
      },
      "execution_count": 21,
      "outputs": []
    },
    {
      "cell_type": "code",
      "source": [
        "# Test case\n",
        "nums = [1, 2, 3]\n",
        "print(maximumProduct(nums))"
      ],
      "metadata": {
        "colab": {
          "base_uri": "https://localhost:8080/"
        },
        "id": "iPN8mCoHIAYj",
        "outputId": "81b2f701-240b-434e-c36d-0271592e8130"
      },
      "execution_count": 22,
      "outputs": [
        {
          "output_type": "stream",
          "name": "stdout",
          "text": [
            "6\n"
          ]
        }
      ]
    },
    {
      "cell_type": "markdown",
      "source": [
        "# Discussion :\n",
        "The time complexity of this brute force approach is O(N^3), where N is the length of the input array nums. We have three nested loops that iterate over the array, and for each combination of three numbers, we calculate their product.\n",
        "\n",
        "The space complexity is O(1) because we are not using any additional data structures that grow with the input size."
      ],
      "metadata": {
        "id": "vKwLuicqIGQj"
      }
    },
    {
      "cell_type": "markdown",
      "source": [
        "**Solution Approach 2**\n",
        "<br>To optimize the solution, we can find the three maximum numbers and the two minimum numbers from the array. The maximum product can be obtained by either multiplying the three maximum numbers or multiplying the two minimum numbers (if they are negative) with the maximum number."
      ],
      "metadata": {
        "id": "CpwcVTuqIUWD"
      }
    },
    {
      "cell_type": "code",
      "source": [
        "# Optimized Approach\n",
        "def maximumProduct2(nums):\n",
        "    max1 = max2 = max3 = float('-inf')\n",
        "    min1 = min2 = float('inf')\n",
        "\n",
        "    for num in nums:\n",
        "        if num >= max1:\n",
        "            max3 = max2\n",
        "            max2 = max1\n",
        "            max1 = num\n",
        "        elif num >= max2:\n",
        "            max3 = max2\n",
        "            max2 = num\n",
        "        elif num >= max3:\n",
        "            max3 = num\n",
        "\n",
        "        if num <= min1:\n",
        "            min2 = min1\n",
        "            min1 = num\n",
        "        elif num <= min2:\n",
        "            min2 = num\n",
        "\n",
        "    return max(max1 * max2 * max3, min1 * min2 * max1)"
      ],
      "metadata": {
        "id": "0H56s7L0Ig9S"
      },
      "execution_count": 23,
      "outputs": []
    },
    {
      "cell_type": "code",
      "source": [
        "# Test case\n",
        "nums = [1, 2, 3]\n",
        "print(maximumProduct2(nums))"
      ],
      "metadata": {
        "colab": {
          "base_uri": "https://localhost:8080/"
        },
        "id": "WiAUjBAQIhLJ",
        "outputId": "6f9df68d-d7d3-46ad-9064-2c535e39ac84"
      },
      "execution_count": 24,
      "outputs": [
        {
          "output_type": "stream",
          "name": "stdout",
          "text": [
            "6\n"
          ]
        }
      ]
    },
    {
      "cell_type": "markdown",
      "source": [
        "# Discussion :\n",
        "The time complexity of this optimized approach is O(N), where N is the length of the input array nums. We iterate over the array once, and for each number, we update the maximum and minimum values.\n",
        "\n",
        "The space complexity is O(1) because we are using a constant amount of additional variables to store the maximum and minimum values."
      ],
      "metadata": {
        "id": "7DwuX5fJIuNi"
      }
    },
    {
      "cell_type": "markdown",
      "source": [
        "**💡 Question 6**\n",
        "Given an array of integers nums which is sorted in ascending order, and an integer target,\n",
        "write a function to search target in nums. If target exists, then return its index. Otherwise,\n",
        "return -1.\n",
        "\n",
        "You must write an algorithm with O(log n) runtime complexity.\n",
        "\n",
        "Input: nums = [-1,0,3,5,9,12], target = 9\n",
        "Output: 4\n",
        "\n",
        "Explanation: 9 exists in nums and its index is 4"
      ],
      "metadata": {
        "id": "Jx2MzgjlI31y"
      }
    },
    {
      "cell_type": "markdown",
      "source": [
        "**Solution Approach 1**\n",
        "<br>The brute force approach to solve this problem would be to iterate over the array nums and check each element to see if it matches the target. If a match is found, we return the index of that element. If no match is found, we return -1."
      ],
      "metadata": {
        "id": "0xIeNUdtJh0s"
      }
    },
    {
      "cell_type": "code",
      "source": [
        "# Brute Force Approach\n",
        "def search(nums, target):\n",
        "    for i in range(len(nums)):\n",
        "        if nums[i] == target:\n",
        "            return i\n",
        "\n",
        "    return -1"
      ],
      "metadata": {
        "id": "SR1u8PRbJpjF"
      },
      "execution_count": 25,
      "outputs": []
    },
    {
      "cell_type": "code",
      "source": [
        "# Test case\n",
        "nums = [-1, 0, 3, 5, 9, 12]\n",
        "target = 9\n",
        "print(search(nums, target)) "
      ],
      "metadata": {
        "colab": {
          "base_uri": "https://localhost:8080/"
        },
        "id": "t0FBFMMcJpuP",
        "outputId": "c28a04ee-b10e-42aa-a79c-39f06ffa3362"
      },
      "execution_count": 26,
      "outputs": [
        {
          "output_type": "stream",
          "name": "stdout",
          "text": [
            "4\n"
          ]
        }
      ]
    },
    {
      "cell_type": "markdown",
      "source": [
        "# Discussion :\n",
        "The time complexity of this approach is O(n), where n is the length of the input array nums. In the worst case, we would need to iterate over all the elements in the array to find the target.\n",
        "\n",
        "The space complexity is O(1) because we are not using any additional data structures that grow with the input size."
      ],
      "metadata": {
        "id": "YWhUr_MVJ591"
      }
    },
    {
      "cell_type": "markdown",
      "source": [
        "**Solution Approach 2**\n",
        "<br>Since the input array nums is sorted in ascending order, we can use the binary search algorithm to solve this problem with O(log n) runtime complexity.\n",
        "\n",
        "In each step of the binary search, we compare the target with the middle element of the array. If the target is equal to the middle element, we return its index. If the target is less than the middle element, we continue the search in the left half of the array. If the target is greater than the middle element, we continue the search in the right half of the array. We repeat this process until we find the target or determine that it does not exist in the array."
      ],
      "metadata": {
        "id": "XLK85GYkKEfK"
      }
    },
    {
      "cell_type": "code",
      "source": [
        "# Optimized Approach (Binary Search)\n",
        "def search2(nums, target):\n",
        "    left = 0\n",
        "    right = len(nums) - 1\n",
        "\n",
        "    while left <= right:\n",
        "        mid = left + (right - left) // 2\n",
        "\n",
        "        if nums[mid] == target:\n",
        "            return mid\n",
        "        elif nums[mid] < target:\n",
        "            left = mid + 1\n",
        "        else:\n",
        "            right = mid - 1\n",
        "\n",
        "    return -1"
      ],
      "metadata": {
        "id": "9WAof2L6KQv8"
      },
      "execution_count": 27,
      "outputs": []
    },
    {
      "cell_type": "code",
      "source": [
        "# Test case\n",
        "nums = [-1, 0, 3, 5, 9, 12]\n",
        "target = 9\n",
        "print(search2(nums, target))"
      ],
      "metadata": {
        "colab": {
          "base_uri": "https://localhost:8080/"
        },
        "id": "FHV5UdjeKRAI",
        "outputId": "10eaac0f-d583-4142-9cde-73d306fc0dff"
      },
      "execution_count": 28,
      "outputs": [
        {
          "output_type": "stream",
          "name": "stdout",
          "text": [
            "4\n"
          ]
        }
      ]
    },
    {
      "cell_type": "markdown",
      "source": [
        "# Discussion :\n",
        "The time complexity of this optimized approach is O(log n), where n is the length of the input array nums. In each iteration of the binary search, we reduce the search space by half.\n",
        "\n",
        "The space complexity is O(1) because we are not using any additional data structures that grow with the input size."
      ],
      "metadata": {
        "id": "v_YCw4kLKcoj"
      }
    },
    {
      "cell_type": "markdown",
      "source": [
        "**💡 Question 7**\n",
        "An array is monotonic if it is either monotone increasing or monotone decreasing.\n",
        "\n",
        "An array nums is monotone increasing if for all i <= j, nums[i] <= nums[j]. An array nums is\n",
        "monotone decreasing if for all i <= j, nums[i] >= nums[j].\n",
        "\n",
        "Given an integer array nums, return true if the given array is monotonic, or false otherwise.\n",
        "\n",
        "Example 1:\n",
        "Input: nums = [1,2,2,3]\n",
        "Output: true"
      ],
      "metadata": {
        "id": "dtn8K5DeKkdZ"
      }
    },
    {
      "cell_type": "markdown",
      "source": [
        "**Solution Approach 1**\n",
        "<br> The brute force approach to solve this problem would be to check the array nums from left to right and right to left to determine if it is monotonic increasing or monotonic decreasing."
      ],
      "metadata": {
        "id": "Mu0XQmnEKxCi"
      }
    },
    {
      "cell_type": "code",
      "source": [
        "# Brute Force Approach\n",
        "def isMonotonic(nums):\n",
        "    increasing = decreasing = True\n",
        "\n",
        "    for i in range(len(nums) - 1):\n",
        "        if nums[i] > nums[i + 1]:\n",
        "            increasing = False\n",
        "        if nums[i] < nums[i + 1]:\n",
        "            decreasing = False\n",
        "\n",
        "    return increasing or decreasing"
      ],
      "metadata": {
        "id": "TT0DG16OLJyz"
      },
      "execution_count": 29,
      "outputs": []
    },
    {
      "cell_type": "code",
      "source": [
        "# Test case\n",
        "nums = [1, 2, 2, 3]\n",
        "print(isMonotonic(nums)) "
      ],
      "metadata": {
        "colab": {
          "base_uri": "https://localhost:8080/"
        },
        "id": "IAoXoqCULJ-q",
        "outputId": "9b25e086-79f6-46ed-ec4b-2f0ba532ab96"
      },
      "execution_count": 30,
      "outputs": [
        {
          "output_type": "stream",
          "name": "stdout",
          "text": [
            "True\n"
          ]
        }
      ]
    },
    {
      "cell_type": "markdown",
      "source": [
        "# Discussion :\n",
        "The time complexity of this approach is O(n), where n is the length of the input array nums. We iterate over the array once to determine if it is monotonic increasing or decreasing.\n",
        "\n",
        "The space complexity is O(1) because we are not using any additional data structures that grow with the input size."
      ],
      "metadata": {
        "id": "6Yi0tCCvLS2p"
      }
    },
    {
      "cell_type": "markdown",
      "source": [
        "**Solution Approach 2**\n",
        "<br>An optimized approach to solve this problem is to compare adjacent elements of the array nums. If we find any violation of the monotonicity condition, we return False immediately. If we reach the end of the array without any violation, we return True."
      ],
      "metadata": {
        "id": "5qu0CFeeLpty"
      }
    },
    {
      "cell_type": "code",
      "source": [
        "# Optimized Approach\n",
        "def isMonotonic2(nums):\n",
        "    is_increasing = is_decreasing = True\n",
        "\n",
        "    for i in range(1, len(nums)):\n",
        "        if nums[i] < nums[i - 1]:\n",
        "            is_increasing = False\n",
        "        if nums[i] > nums[i - 1]:\n",
        "            is_decreasing = False\n",
        "\n",
        "    return is_increasing or is_decreasing"
      ],
      "metadata": {
        "id": "OOXzFl_bLxGB"
      },
      "execution_count": 31,
      "outputs": []
    },
    {
      "cell_type": "code",
      "source": [
        "# Test case\n",
        "nums = [1, 2, 2, 3]\n",
        "print(isMonotonic2(nums))"
      ],
      "metadata": {
        "colab": {
          "base_uri": "https://localhost:8080/"
        },
        "id": "Ivu7xpgfLxO_",
        "outputId": "9d783213-70e6-4142-9956-f355539c681c"
      },
      "execution_count": 32,
      "outputs": [
        {
          "output_type": "stream",
          "name": "stdout",
          "text": [
            "True\n"
          ]
        }
      ]
    },
    {
      "cell_type": "markdown",
      "source": [
        "# Discussion :\n",
        "The time complexity of this optimized approach is O(n), where n is the length of the input array nums. We iterate over the array once to check the monotonicity condition.\n",
        "\n",
        "The space complexity is O(1) because we are not using any additional data structures that grow with the input size.\n",
        "\n",
        "Both the brute force and optimized approaches provide the same functionality, but the optimized approach has a better time complexity of O(n) compared to the brute force approach's O(n^2) in the worst case."
      ],
      "metadata": {
        "id": "xVxf62JgL7ZJ"
      }
    },
    {
      "cell_type": "markdown",
      "source": [
        "**💡 Question 8**\n",
        "You are given an integer array nums and an integer k.\n",
        "\n",
        "In one operation, you can choose any index i where 0 <= i < nums.length and change nums[i] to nums[i] + x where x is an integer from the range [-k, k]. You can apply this operation at most once for each index i.\n",
        "\n",
        "The score of nums is the difference between the maximum and minimum elements in nums.\n",
        "\n",
        "Return the minimum score of nums after applying the mentioned operation at most once for each index in it.\n",
        "\n",
        "Example 1:\n",
        "Input: nums = [1], k = 0\n",
        "Output: 0\n",
        "\n",
        "Explanation: The score is max(nums) - min(nums) = 1 - 1 = 0."
      ],
      "metadata": {
        "id": "NMHKS0cnMDMs"
      }
    },
    {
      "cell_type": "markdown",
      "source": [
        "**Solution Approach 1**\n",
        "<br>The brute force approach to solve this problem would be to try all possible combinations of applying the operation to each element in the array nums. We can iterate over each element and for each element, try all possible values of x from the range [-k, k] and calculate the score. Finally, we return the minimum score obtained."
      ],
      "metadata": {
        "id": "v52SeIcqMPGa"
      }
    },
    {
      "cell_type": "code",
      "source": [
        "# Brute Force Approach\n",
        "import sys\n",
        "\n",
        "def minimumScore(nums, k):\n",
        "    min_score = sys.maxsize\n",
        "\n",
        "    for i in range(len(nums)):\n",
        "        for x in range(-k, k+1):\n",
        "            nums[i] += x\n",
        "            min_score = min(min_score, max(nums) - min(nums))\n",
        "            nums[i] -= x\n",
        "\n",
        "    return min_score"
      ],
      "metadata": {
        "id": "7oKsRnfbMpP0"
      },
      "execution_count": 33,
      "outputs": []
    },
    {
      "cell_type": "code",
      "source": [
        "# Test case\n",
        "nums = [1]\n",
        "k = 0\n",
        "print(minimumScore(nums, k)) "
      ],
      "metadata": {
        "colab": {
          "base_uri": "https://localhost:8080/"
        },
        "id": "v6uQXImxMpTs",
        "outputId": "ed90f49d-e97b-4def-c45d-7f6a4fad6c95"
      },
      "execution_count": 34,
      "outputs": [
        {
          "output_type": "stream",
          "name": "stdout",
          "text": [
            "0\n"
          ]
        }
      ]
    },
    {
      "cell_type": "markdown",
      "source": [
        "# Discussion :\n",
        "The time complexity of this approach is O(n * k), where n is the length of the input array nums and k is the given integer. We iterate over each element in the array and for each element, try all possible values of x from the range [-k, k].\n",
        "\n",
        "The space complexity is O(1) because we are not using any additional data structures that grow with the input size."
      ],
      "metadata": {
        "id": "z95adkt-M3Ad"
      }
    },
    {
      "cell_type": "markdown",
      "source": [
        "**Solution Approach 2**\n",
        "<br>An optimized approach to solve this problem is to determine the minimum and maximum values that can be obtained in the array nums after applying the operation. The minimum value will be the smallest element in the array minus k, and the maximum value will be the largest element in the array plus k. We can then calculate the score using these minimum and maximum values."
      ],
      "metadata": {
        "id": "birfn0JpNYwJ"
      }
    },
    {
      "cell_type": "code",
      "source": [
        "# Optimized Approach\n",
        "def minimumScore2(nums, k):\n",
        "    min_val = min(nums) - k\n",
        "    max_val = max(nums) + k\n",
        "    return max(max(nums) - min_val, max_val - min(nums))"
      ],
      "metadata": {
        "id": "qZxQ-d-2Nh5x"
      },
      "execution_count": 35,
      "outputs": []
    },
    {
      "cell_type": "code",
      "source": [
        "# Test case\n",
        "nums = [1]\n",
        "k = 0\n",
        "print(minimumScore2(nums, k))"
      ],
      "metadata": {
        "colab": {
          "base_uri": "https://localhost:8080/"
        },
        "id": "x1VeTKl0NiLx",
        "outputId": "c8bb56a3-4914-4976-de38-c96083b64f60"
      },
      "execution_count": 36,
      "outputs": [
        {
          "output_type": "stream",
          "name": "stdout",
          "text": [
            "0\n"
          ]
        }
      ]
    },
    {
      "cell_type": "markdown",
      "source": [
        "# Discussion :\n",
        "The time complexity of this optimized approach is O(n), where n is the length of the input array nums. We find the minimum and maximum values in the array in linear time using the built-in min() and max() functions, and calculate the score in constant time.\n",
        "\n",
        "The space complexity is O(1) because we are not using any additional data structures that grow with the input size."
      ],
      "metadata": {
        "id": "xERMBtGTNsOh"
      }
    }
  ]
}