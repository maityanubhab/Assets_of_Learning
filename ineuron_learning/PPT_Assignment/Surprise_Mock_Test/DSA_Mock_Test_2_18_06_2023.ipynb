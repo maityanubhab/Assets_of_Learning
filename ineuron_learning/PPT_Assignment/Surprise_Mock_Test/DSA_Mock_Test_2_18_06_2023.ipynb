{
  "nbformat": 4,
  "nbformat_minor": 0,
  "metadata": {
    "colab": {
      "provenance": []
    },
    "kernelspec": {
      "name": "python3",
      "display_name": "Python 3"
    },
    "language_info": {
      "name": "python"
    }
  },
  "cells": [
    {
      "cell_type": "markdown",
      "source": [
        "# Q1\n",
        "Given a non-negative integer x, return the square root of x rounded down to the nearest integer. The returned integer should be non-negative as well. You must not use any built-in exponent function or operator.\n",
        "\n",
        "**Example 1:**\n",
        "Input: x = 4 Output: 2 Explanation: The square root of 4 is 2, so we return 2.\n",
        "\n",
        "**Example 2:**\n",
        "Input: x = 8 Output: 2 Explanation: The square root of 8 is 2.82842..., and since we round it down to the nearest integer, 2 is returned.\n",
        "\n",
        "**Constraints:**\n",
        "0 <= x <= 2^31 - 1"
      ],
      "metadata": {
        "id": "8_oY8CapOvxL"
      }
    },
    {
      "cell_type": "markdown",
      "source": [
        "# Ans:"
      ],
      "metadata": {
        "id": "zPjyhB7aPoWH"
      }
    },
    {
      "cell_type": "code",
      "execution_count": 1,
      "metadata": {
        "id": "rAT1pQdIOsIU"
      },
      "outputs": [],
      "source": [
        "def mySqrt(x):\n",
        "    if x == 0:\n",
        "        return 0\n",
        "\n",
        "    left, right = 1, x\n",
        "    while left <= right:\n",
        "        mid = left + (right - left) // 2\n",
        "        if mid * mid == x:\n",
        "            return mid\n",
        "        elif mid * mid > x:\n",
        "            right = mid - 1\n",
        "        else:\n",
        "            left = mid + 1\n",
        "\n",
        "    return right"
      ]
    },
    {
      "cell_type": "code",
      "source": [
        "# Test case 1\n",
        "print(mySqrt(4))"
      ],
      "metadata": {
        "colab": {
          "base_uri": "https://localhost:8080/"
        },
        "id": "gRzS6ITXPwCO",
        "outputId": "1df1f362-7a13-4a4f-9323-bd53f79b3843"
      },
      "execution_count": 2,
      "outputs": [
        {
          "output_type": "stream",
          "name": "stdout",
          "text": [
            "2\n"
          ]
        }
      ]
    },
    {
      "cell_type": "code",
      "source": [
        "# Test case 2\n",
        "print(mySqrt(8))"
      ],
      "metadata": {
        "colab": {
          "base_uri": "https://localhost:8080/"
        },
        "id": "h9if7wV-P9zM",
        "outputId": "eb5c9a0d-b618-429e-f20a-c0f8ee98646b"
      },
      "execution_count": 3,
      "outputs": [
        {
          "output_type": "stream",
          "name": "stdout",
          "text": [
            "2\n"
          ]
        }
      ]
    },
    {
      "cell_type": "markdown",
      "source": [
        "**Discussion :**\n",
        "\n",
        "The time complexity of this solution is O(log x) since it uses a binary search approach to find the square root. The search space is halved at each step, reducing the range of possible values to consider. Therefore, the number of iterations required to find the square root is logarithmic with respect to the input value x.\n",
        "\n",
        "The space complexity of this solution is O(1) as it only uses a constant amount of additional space for storing the left, right, and mid variables, regardless of the input value x."
      ],
      "metadata": {
        "id": "hMsNUkELQKgy"
      }
    },
    {
      "cell_type": "markdown",
      "source": [
        "# Q2\n",
        "You are given two non-empty linked lists representing two non-negative integers. The digits are stored in reverse order, and each of their nodes contains a single digit. Add the two numbers and return the sum as a linked list.\n",
        "\n",
        "You may assume the two numbers do not contain any leading zero, except the number 0 itself.\n",
        "\n",
        "\n",
        "**Example 1:**\n",
        "\n",
        "Input: l1 = [2,4,3], l2 = [5,6,4] Output: [7,0,8] Explanation: 342 + 465 = 807.\n",
        "\n",
        "**Example 2:**\n",
        "\n",
        "Input: l1 = [0], l2 = [0] Output: [0]\n",
        "\n",
        "**Example 3:**\n",
        "\n",
        "Input: l1 = [9,9,9,9,9,9,9], l2 = [9,9,9,9] Output: [8,9,9,9,0,0,0,1]\n",
        "\n",
        "**Constraints:**\n",
        "\n",
        "The number of nodes in each linked list is in the range [1, 100].\n",
        "0 <= Node.val <= 9 It is guaranteed that the list represents a number that does not have leading zeros."
      ],
      "metadata": {
        "id": "y_AvZ7uzQX6O"
      }
    },
    {
      "cell_type": "markdown",
      "source": [
        "**Ans**"
      ],
      "metadata": {
        "id": "iUTVTel3QyE8"
      }
    },
    {
      "cell_type": "code",
      "source": [
        "# Definition for singly-linked list.\n",
        "class ListNode:\n",
        "    def __init__(self, val=0, next=None):\n",
        "        self.val = val\n",
        "        self.next = next\n",
        "\n",
        "\n",
        "def addTwoNumbers(l1, l2):\n",
        "    dummy = ListNode(0)  # Create a dummy node as the head of the resulting linked list\n",
        "    curr = dummy  # Initialize a current pointer\n",
        "\n",
        "    carry = 0  # Variable to store the carry while adding digits\n",
        "\n",
        "    while l1 or l2 or carry:\n",
        "        # Get the values of the current nodes, or 0 if one of them is None\n",
        "        val1 = l1.val if l1 else 0\n",
        "        val2 = l2.val if l2 else 0\n",
        "\n",
        "        # Calculate the sum of the current digits and carry\n",
        "        total = val1 + val2 + carry\n",
        "\n",
        "        # Update the carry and the value of the current digit\n",
        "        carry = total // 10\n",
        "        curr.next = ListNode(total % 10)\n",
        "\n",
        "        # Move the pointers to the next nodes\n",
        "        l1 = l1.next if l1 else None\n",
        "        l2 = l2.next if l2 else None\n",
        "        curr = curr.next\n",
        "\n",
        "    return dummy.next  # Return the resulting linked list (skip the dummy node)"
      ],
      "metadata": {
        "id": "XjNvVkUsQIdd"
      },
      "execution_count": 4,
      "outputs": []
    },
    {
      "cell_type": "code",
      "source": [
        "# Test cases\n",
        "# Example 1\n",
        "l1 = ListNode(2)\n",
        "l1.next = ListNode(4)\n",
        "l1.next.next = ListNode(3)\n",
        "l2 = ListNode(5)\n",
        "l2.next = ListNode(6)\n",
        "l2.next.next = ListNode(4)\n",
        "result = addTwoNumbers(l1, l2)\n",
        "while result:\n",
        "    print(result.val, end=\" \")\n",
        "    result = result.next"
      ],
      "metadata": {
        "colab": {
          "base_uri": "https://localhost:8080/"
        },
        "id": "mW2Z4QuIRZ3T",
        "outputId": "f72b3ece-4713-45e0-fbca-db78319cc5fe"
      },
      "execution_count": 5,
      "outputs": [
        {
          "output_type": "stream",
          "name": "stdout",
          "text": [
            "7 0 8 \n"
          ]
        }
      ]
    },
    {
      "cell_type": "code",
      "source": [
        "# Example 2\n",
        "l1 = ListNode(0)\n",
        "l2 = ListNode(0)\n",
        "result = addTwoNumbers(l1, l2)\n",
        "while result:\n",
        "    print(result.val, end=\" \")\n",
        "    result = result.next"
      ],
      "metadata": {
        "colab": {
          "base_uri": "https://localhost:8080/"
        },
        "id": "x3nY5dNSRfgs",
        "outputId": "0a056908-1357-4197-8ebe-3a06d4d3ea80"
      },
      "execution_count": 6,
      "outputs": [
        {
          "output_type": "stream",
          "name": "stdout",
          "text": [
            "0 \n"
          ]
        }
      ]
    },
    {
      "cell_type": "code",
      "source": [
        "# Example 3\n",
        "l1 = ListNode(9)\n",
        "l1.next = ListNode(9)\n",
        "l1.next.next = ListNode(9)\n",
        "l1.next.next.next = ListNode(9)\n",
        "l1.next.next.next.next = ListNode(9)\n",
        "l1.next.next.next.next.next = ListNode(9)\n",
        "l1.next.next.next.next.next.next = ListNode(9)\n",
        "l2 = ListNode(9)\n",
        "l2.next = ListNode(9)\n",
        "l2.next.next = ListNode(9)\n",
        "l2.next.next.next = ListNode(9)\n",
        "result = addTwoNumbers(l1, l2)\n",
        "while result:\n",
        "    print(result.val, end=\" \")\n",
        "    result = result.next"
      ],
      "metadata": {
        "colab": {
          "base_uri": "https://localhost:8080/"
        },
        "id": "kWaPmPtHRl0Q",
        "outputId": "3c62affa-f79e-4b48-a751-a236d82d0eb7"
      },
      "execution_count": 7,
      "outputs": [
        {
          "output_type": "stream",
          "name": "stdout",
          "text": [
            "8 9 9 9 0 0 0 1 "
          ]
        }
      ]
    },
    {
      "cell_type": "markdown",
      "source": [
        "**Discussion:**\n",
        "\n",
        "The time complexity of this solution is O(max(n, m)), where n and m are the lengths of the two input linked lists. The algorithm iterates through both linked lists simultaneously once, performing constant-time operations for each digit addition.\n",
        "\n",
        "The space complexity is O(max(n, m)), as the resulting linked list can have a length of at most max(n, m) + 1."
      ],
      "metadata": {
        "id": "3p0dS8HgR6pf"
      }
    }
  ]
}