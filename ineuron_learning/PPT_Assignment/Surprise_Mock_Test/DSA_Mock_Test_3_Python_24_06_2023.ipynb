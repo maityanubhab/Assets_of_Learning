{
  "nbformat": 4,
  "nbformat_minor": 0,
  "metadata": {
    "colab": {
      "provenance": []
    },
    "kernelspec": {
      "name": "python3",
      "display_name": "Python 3"
    },
    "language_info": {
      "name": "python"
    }
  },
  "cells": [
    {
      "cell_type": "markdown",
      "source": [
        "# Q1\n",
        "Implement a stack using a list in Python. Include the necessary methods such as push, pop, and isEmpty."
      ],
      "metadata": {
        "id": "C9OUmRl1N2fs"
      }
    },
    {
      "cell_type": "markdown",
      "source": [
        "## Ans"
      ],
      "metadata": {
        "id": "1yollJh4N7Cd"
      }
    },
    {
      "cell_type": "code",
      "execution_count": 1,
      "metadata": {
        "id": "AdalWm_7N1c6"
      },
      "outputs": [],
      "source": [
        "class Stack:\n",
        "    def __init__(self):\n",
        "        self.stack = []\n",
        "\n",
        "    def push(self, item):\n",
        "        self.stack.append(item)\n",
        "\n",
        "    def pop(self):\n",
        "        if self.is_empty():\n",
        "            raise IndexError(\"Stack is empty. Cannot pop from an empty stack.\")\n",
        "        return self.stack.pop()\n",
        "\n",
        "    def is_empty(self):\n",
        "        return len(self.stack) == 0"
      ]
    },
    {
      "cell_type": "code",
      "source": [
        "# Create a new stack\n",
        "stack = Stack()\n",
        "\n",
        "# Push elements onto the stack\n",
        "stack.push(10)\n",
        "stack.push(20)\n",
        "stack.push(30)"
      ],
      "metadata": {
        "id": "4a2R1KJWOkGp"
      },
      "execution_count": 2,
      "outputs": []
    },
    {
      "cell_type": "code",
      "source": [
        "# Check if the stack is empty\n",
        "print(stack.is_empty())"
      ],
      "metadata": {
        "colab": {
          "base_uri": "https://localhost:8080/"
        },
        "id": "XtnpC_JROqRH",
        "outputId": "578a92d7-7de0-462b-d17c-ef4955a5fe8d"
      },
      "execution_count": 3,
      "outputs": [
        {
          "output_type": "stream",
          "name": "stdout",
          "text": [
            "False\n"
          ]
        }
      ]
    },
    {
      "cell_type": "code",
      "source": [
        "# Pop elements from the stack\n",
        "item = stack.pop()\n",
        "print(item)"
      ],
      "metadata": {
        "colab": {
          "base_uri": "https://localhost:8080/"
        },
        "id": "tRcCtqr6OuZn",
        "outputId": "690d55da-1a71-4b45-e45f-ba782853fb44"
      },
      "execution_count": 4,
      "outputs": [
        {
          "output_type": "stream",
          "name": "stdout",
          "text": [
            "30\n"
          ]
        }
      ]
    },
    {
      "cell_type": "code",
      "source": [
        "item = stack.pop()\n",
        "print(item)"
      ],
      "metadata": {
        "colab": {
          "base_uri": "https://localhost:8080/"
        },
        "id": "v0n3kwWcOyDH",
        "outputId": "faf95243-b784-446e-fa8c-2ed889fc0ebe"
      },
      "execution_count": 5,
      "outputs": [
        {
          "output_type": "stream",
          "name": "stdout",
          "text": [
            "20\n"
          ]
        }
      ]
    },
    {
      "cell_type": "code",
      "source": [
        "item = stack.pop()\n",
        "print(item)"
      ],
      "metadata": {
        "colab": {
          "base_uri": "https://localhost:8080/"
        },
        "id": "7DCy93O-O3yY",
        "outputId": "86edf506-de27-4723-ee8f-da6293bb6046"
      },
      "execution_count": 6,
      "outputs": [
        {
          "output_type": "stream",
          "name": "stdout",
          "text": [
            "10\n"
          ]
        }
      ]
    },
    {
      "cell_type": "code",
      "source": [
        "# Check if the stack is empty\n",
        "print(stack.is_empty())"
      ],
      "metadata": {
        "colab": {
          "base_uri": "https://localhost:8080/"
        },
        "id": "3aa_04-sO6oX",
        "outputId": "60176caa-4d18-4078-fa6d-0d91564247eb"
      },
      "execution_count": 7,
      "outputs": [
        {
          "output_type": "stream",
          "name": "stdout",
          "text": [
            "True\n"
          ]
        }
      ]
    },
    {
      "cell_type": "markdown",
      "source": [
        "**Discussion**\n",
        "<br>**Time Complexity:**\n",
        "\n",
        "**Push Operation:** The push operation, implemented as append() in the list, has a time complexity of O(1). It appends the new element to the end of the list in constant time.\n",
        "\n",
        "**Pop Operation:** The pop operation, implemented as pop() in the list, also has a time complexity of O(1). It removes and returns the last element of the list in constant time.\n",
        "\n",
        "**Space Complexity:**\n",
        "\n",
        "The space complexity of the stack implementation using a list is determined by the number of elements stored in the stack. It is directly proportional to the number of elements in the stack. Therefore, the space complexity is O(n), where n represents the number of elements in the stack."
      ],
      "metadata": {
        "id": "xmrmEvwPO-ez"
      }
    },
    {
      "cell_type": "markdown",
      "source": [
        "# Q2\n",
        "\n",
        "Implement a queue using a list in Python. Include the necessary methods such as enqueue, dequeue, and isEmpty."
      ],
      "metadata": {
        "id": "aaVndUi0PW8c"
      }
    },
    {
      "cell_type": "markdown",
      "source": [
        "**Ans**"
      ],
      "metadata": {
        "id": "oVjY3ZZmPgDM"
      }
    },
    {
      "cell_type": "code",
      "source": [
        "class Queue:\n",
        "    def __init__(self):\n",
        "        self.queue = []\n",
        "\n",
        "    def enqueue(self, item):\n",
        "        self.queue.append(item)\n",
        "\n",
        "    def dequeue(self):\n",
        "        if self.is_empty():\n",
        "            raise IndexError(\"Queue is empty. Cannot dequeue from an empty queue.\")\n",
        "        return self.queue.pop(0)\n",
        "\n",
        "    def is_empty(self):\n",
        "        return len(self.queue) == 0"
      ],
      "metadata": {
        "id": "l9HYujPnPi0F"
      },
      "execution_count": 8,
      "outputs": []
    },
    {
      "cell_type": "code",
      "source": [
        "# Create a new queue\n",
        "queue = Queue()\n",
        "\n",
        "# Enqueue elements into the queue\n",
        "queue.enqueue(10)\n",
        "queue.enqueue(20)\n",
        "queue.enqueue(30)"
      ],
      "metadata": {
        "id": "3ElVsWCqP2tp"
      },
      "execution_count": 9,
      "outputs": []
    },
    {
      "cell_type": "code",
      "source": [
        "# Check if the queue is empty\n",
        "print(queue.is_empty())"
      ],
      "metadata": {
        "colab": {
          "base_uri": "https://localhost:8080/"
        },
        "id": "niCWGoe_P6uX",
        "outputId": "4425e340-3ad3-448d-ae9b-0522e499372a"
      },
      "execution_count": 10,
      "outputs": [
        {
          "output_type": "stream",
          "name": "stdout",
          "text": [
            "False\n"
          ]
        }
      ]
    },
    {
      "cell_type": "code",
      "source": [
        "# Dequeue elements from the queue\n",
        "item = queue.dequeue()\n",
        "print(item)"
      ],
      "metadata": {
        "colab": {
          "base_uri": "https://localhost:8080/"
        },
        "id": "BpvTzwz1P-NX",
        "outputId": "25c03acc-bf95-4d07-f34a-56167a15e24c"
      },
      "execution_count": 11,
      "outputs": [
        {
          "output_type": "stream",
          "name": "stdout",
          "text": [
            "10\n"
          ]
        }
      ]
    },
    {
      "cell_type": "code",
      "source": [
        "item = queue.dequeue()\n",
        "print(item)"
      ],
      "metadata": {
        "colab": {
          "base_uri": "https://localhost:8080/"
        },
        "id": "X4BViXyLQBrW",
        "outputId": "2f43bd7e-b2fc-49ce-cf34-6e36b1e4bde7"
      },
      "execution_count": 12,
      "outputs": [
        {
          "output_type": "stream",
          "name": "stdout",
          "text": [
            "20\n"
          ]
        }
      ]
    },
    {
      "cell_type": "code",
      "source": [
        "item = queue.dequeue()\n",
        "print(item)"
      ],
      "metadata": {
        "colab": {
          "base_uri": "https://localhost:8080/"
        },
        "id": "ZBMJSDoPQE5m",
        "outputId": "f517c221-5147-4ca5-9b45-8f715cfa2f00"
      },
      "execution_count": 13,
      "outputs": [
        {
          "output_type": "stream",
          "name": "stdout",
          "text": [
            "30\n"
          ]
        }
      ]
    },
    {
      "cell_type": "code",
      "source": [
        "# Check if the queue is empty\n",
        "print(queue.is_empty())"
      ],
      "metadata": {
        "colab": {
          "base_uri": "https://localhost:8080/"
        },
        "id": "B2wjxxZiQHsO",
        "outputId": "a5ccaa76-10a6-4d96-84cc-03ad56ec9002"
      },
      "execution_count": 14,
      "outputs": [
        {
          "output_type": "stream",
          "name": "stdout",
          "text": [
            "True\n"
          ]
        }
      ]
    },
    {
      "cell_type": "markdown",
      "source": [
        "**Discussion**\n",
        "<br>**Time Complexity:**\n",
        "\n",
        "  **Enqueue Operation:** The enqueue operation, implemented as append() in the list, has a time complexity of O(1). It appends the new element to the end of the list in constant time.\n",
        "\n",
        "**Dequeue Operation:** The dequeue operation, implemented as pop(0) in the list, has a time complexity of O(n), where n is the number of elements in the list. It needs to shift all the remaining elements in the list to fill the gap left by the dequeued element.\n",
        "\n",
        "**Space Complexity:**\n",
        "\n",
        "The space complexity of the queue implementation using a list is determined by the number of elements stored in the queue. It is directly proportional to the number of elements in the queue. Therefore, the space complexity is O(n), where n represents the number of elements in the queue."
      ],
      "metadata": {
        "id": "ssYCwl4xQLFd"
      }
    }
  ]
}