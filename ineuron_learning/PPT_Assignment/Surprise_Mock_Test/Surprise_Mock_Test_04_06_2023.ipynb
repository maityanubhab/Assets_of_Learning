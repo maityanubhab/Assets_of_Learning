{
 "cells": [
  {
   "cell_type": "markdown",
   "id": "53655ee8",
   "metadata": {},
   "source": [
    "# Move Zeroes\n",
    "Given an integer array nums, move all 0's to the end of it while maintaining the relative order of the non-zero elements.\n",
    "\n",
    "Note that you must do this in-place without making a copy of the array.\n",
    "\n",
    "**Example 1:**\n",
    "<br>Input: nums = [0,1,0,3,12]\n",
    "<br>Output: [1,3,12,0,0]\n",
    "\n",
    "**Example 2:**\n",
    "<br>Input: nums = [0]\n",
    "<br>Output: [0]\n",
    "\n",
    "**Constraints:**\n",
    "<br>a. 1 <= nums.length <= 10^4\n",
    "<br>b. -2^31 <= nums[i] <= 2^31 - 1"
   ]
  },
  {
   "cell_type": "markdown",
   "id": "978aab30",
   "metadata": {},
   "source": [
    "**Ans**"
   ]
  },
  {
   "cell_type": "markdown",
   "id": "728809f3",
   "metadata": {},
   "source": [
    "**Solution approach 1 : brute force approach**\n",
    "<br>brute force approach to solving the \"Move Zeroes\" problem involves repeatedly finding and moving the zeros to the end of the array until all the zeros are placed at the end while maintaining the relative order of the non-zero elements."
   ]
  },
  {
   "cell_type": "code",
   "execution_count": 3,
   "id": "8d7ad28b",
   "metadata": {},
   "outputs": [],
   "source": [
    "def moveZeroes(nums):\n",
    "    n = len(nums)\n",
    "    for i in range(n):\n",
    "        if nums[i] == 0:\n",
    "            # Find the next non-zero element after the current position\n",
    "            j = i + 1\n",
    "            while j < n and nums[j] == 0:\n",
    "                j += 1\n",
    "            \n",
    "            # If a non-zero element is found, swap it with the zero element\n",
    "            if j < n:\n",
    "                nums[i], nums[j] = nums[j], nums[i]"
   ]
  },
  {
   "cell_type": "code",
   "execution_count": 4,
   "id": "188e21b0",
   "metadata": {},
   "outputs": [
    {
     "name": "stdout",
     "output_type": "stream",
     "text": [
      "[1, 3, 12, 0, 0]\n",
      "[0]\n"
     ]
    }
   ],
   "source": [
    "# Test the function with the given examples\n",
    "nums1 = [0, 1, 0, 3, 12]\n",
    "moveZeroes(nums1)\n",
    "print(nums1)\n",
    "\n",
    "nums2 = [0]\n",
    "moveZeroes(nums2)\n",
    "print(nums2)"
   ]
  },
  {
   "cell_type": "markdown",
   "id": "9824fcb1",
   "metadata": {},
   "source": [
    "The time complexity of this brute force approach is O(N^2), where N is the length of the input array **nums**. The nested loop contributes to this complexity as we may have to search for the next non-zero element multiple times for each zero element encountered."
   ]
  },
  {
   "cell_type": "markdown",
   "id": "98006361",
   "metadata": {},
   "source": [
    "**Solution approach 2 : two-pointer technique**"
   ]
  },
  {
   "cell_type": "code",
   "execution_count": 5,
   "id": "5ec086dc",
   "metadata": {},
   "outputs": [],
   "source": [
    "def moveZeroes_tp(nums):\n",
    "    n = len(nums)\n",
    "    zero_pos = 0  # Position to insert the next non-zero element\n",
    "    \n",
    "    # Iterate through the array\n",
    "    for i in range(n):\n",
    "        if nums[i] != 0:\n",
    "            # Swap the current element with the next zero element position\n",
    "            nums[i], nums[zero_pos] = nums[zero_pos], nums[i]\n",
    "            zero_pos += 1"
   ]
  },
  {
   "cell_type": "code",
   "execution_count": 6,
   "id": "046c0bb5",
   "metadata": {},
   "outputs": [
    {
     "name": "stdout",
     "output_type": "stream",
     "text": [
      "[1, 3, 12, 0, 0]\n",
      "[0]\n"
     ]
    }
   ],
   "source": [
    "# Test the function with the given examples\n",
    "nums1 = [0, 1, 0, 3, 12]\n",
    "moveZeroes_tp(nums1)\n",
    "print(nums1)\n",
    "\n",
    "nums2 = [0]\n",
    "moveZeroes_tp(nums2)\n",
    "print(nums2)"
   ]
  },
  {
   "cell_type": "markdown",
   "id": "758e2a55",
   "metadata": {},
   "source": [
    "The time complexity of this approach is O(N), where N is the length of the input array **nums**. We iterate through the array once, and each element is either swapped with another element or left in place, resulting in a linear time complexity.\n",
    "\n",
    "<br>The space complexity of this approach is O(1) since we are modifying the input array in-place without using any additional data structures that grow with the input size."
   ]
  },
  {
   "cell_type": "markdown",
   "id": "4a52c2d7",
   "metadata": {},
   "source": [
    "# First Unique Character in a String\n",
    "\n",
    "Given a string s, find the first non-repeating character in it and return its index. If it does not exist, return -1.\n",
    "\n",
    "**Example 1:**\n",
    "<br>Input: s = \"leetcode\"\n",
    "<br>Output: 0\n",
    "\n",
    "**Example 2:**\n",
    "<br>Input: s = \"loveleetcode\"\n",
    "<br>Output: 2\n",
    "\n",
    "**Example 3:**\n",
    "<br>Input: s = \"aabb\"\n",
    "<br>Output: -1\n",
    "\n",
    "**Constraints:**\n",
    "<br>a. 1 <= s.length <= 10^5\n",
    "<br>b. s consists of only lowercase English letters."
   ]
  },
  {
   "cell_type": "markdown",
   "id": "c9fb89c3",
   "metadata": {},
   "source": [
    "**Solution approach 1 : brute force approach**\n",
    "<br>The brute force approach to finding the first unique character in a string involves iterating through the string and checking if each character appears only once."
   ]
  },
  {
   "cell_type": "code",
   "execution_count": 7,
   "id": "29f580f1",
   "metadata": {},
   "outputs": [],
   "source": [
    "def firstUniqChar_bt(s):\n",
    "    n = len(s)\n",
    "    \n",
    "    for i in range(n):\n",
    "        # Check if the current character appears only once in the string\n",
    "        if s.count(s[i]) == 1:\n",
    "            return i\n",
    "    \n",
    "    return -1    "
   ]
  },
  {
   "cell_type": "code",
   "execution_count": 9,
   "id": "df813017",
   "metadata": {},
   "outputs": [
    {
     "name": "stdout",
     "output_type": "stream",
     "text": [
      "0\n",
      "2\n",
      "-1\n"
     ]
    }
   ],
   "source": [
    "# Test the function with the given examples\n",
    "s1 = \"leetcode\"\n",
    "print(firstUniqChar_bt(s1))\n",
    "\n",
    "s2 = \"loveleetcode\"\n",
    "print(firstUniqChar_bt(s2))\n",
    "\n",
    "s3 = \"aabb\"\n",
    "print(firstUniqChar_bt(s3))"
   ]
  },
  {
   "cell_type": "markdown",
   "id": "88b1ee9b",
   "metadata": {},
   "source": [
    "The time complexity of this brute force approach is O(N^2), where N is the length of the input string **s**. The nested loop contributes to this complexity since, for each character, we call the **count** method, which iterates through the string again to count the number of occurrences of that character.\n",
    "\n",
    "The space complexity of this approach is O(1) since we are not using any additional data structures that grow with the input size."
   ]
  },
  {
   "cell_type": "markdown",
   "id": "8282158e",
   "metadata": {},
   "source": [
    "**Solution approach 2**\n",
    "<br>finding the first unique character in a string is by using a hash map to store the frequency of each character."
   ]
  },
  {
   "cell_type": "code",
   "execution_count": 10,
   "id": "15846107",
   "metadata": {},
   "outputs": [],
   "source": [
    "def firstUniqChar(s):\n",
    "    char_freq = {}  # Dictionary to store the frequency of characters\n",
    "    \n",
    "    # Count the frequency of each character\n",
    "    for char in s:\n",
    "        char_freq[char] = char_freq.get(char, 0) + 1\n",
    "    \n",
    "    # Find the index of the first non-repeating character\n",
    "    for i, char in enumerate(s):\n",
    "        if char_freq[char] == 1:\n",
    "            return i\n",
    "    \n",
    "    return -1"
   ]
  },
  {
   "cell_type": "code",
   "execution_count": 11,
   "id": "4539eacb",
   "metadata": {},
   "outputs": [
    {
     "name": "stdout",
     "output_type": "stream",
     "text": [
      "0\n",
      "2\n",
      "-1\n"
     ]
    }
   ],
   "source": [
    "# Test the function with the given examples\n",
    "s1 = \"leetcode\"\n",
    "print(firstUniqChar(s1))\n",
    "\n",
    "s2 = \"loveleetcode\"\n",
    "print(firstUniqChar(s2))\n",
    "\n",
    "s3 = \"aabb\"\n",
    "print(firstUniqChar(s3))"
   ]
  },
  {
   "cell_type": "markdown",
   "id": "98ec7201",
   "metadata": {},
   "source": [
    "The time complexity of this approach is O(N), where N is the length of the input string **s**. We iterate through the string twice: once to count the frequency of each character and once to find the first non-repeating character. Both iterations have a linear time complexity.\n",
    "\n",
    "The space complexity of this approach is O(K), where K is the number of unique characters in the string. In the worst case, if all characters in the string are unique, the space required by the hash map would be proportional to the number of unique characters."
   ]
  }
 ],
 "metadata": {
  "kernelspec": {
   "display_name": "Python 3 (ipykernel)",
   "language": "python",
   "name": "python3"
  },
  "language_info": {
   "codemirror_mode": {
    "name": "ipython",
    "version": 3
   },
   "file_extension": ".py",
   "mimetype": "text/x-python",
   "name": "python",
   "nbconvert_exporter": "python",
   "pygments_lexer": "ipython3",
   "version": "3.9.12"
  }
 },
 "nbformat": 4,
 "nbformat_minor": 5
}
